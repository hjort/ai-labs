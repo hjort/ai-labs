{
 "cells": [
  {
   "cell_type": "code",
   "execution_count": 1,
   "metadata": {
    "colab": {},
    "colab_type": "code",
    "id": "vCt5lHqoUpmE"
   },
   "outputs": [],
   "source": [
    "# importar pacotes necessários\n",
    "import numpy as np\n",
    "import pandas as pd"
   ]
  },
  {
   "cell_type": "code",
   "execution_count": 2,
   "metadata": {
    "colab": {},
    "colab_type": "code",
    "id": "R58OdSFLWCRC"
   },
   "outputs": [],
   "source": [
    "# definir parâmetros extras\n",
    "pd.set_option('precision', 4)\n",
    "pd.set_option('display.max_columns', 100)\n",
    "pd.set_option('display.max_rows', 100)"
   ]
  },
  {
   "cell_type": "code",
   "execution_count": 3,
   "metadata": {
    "colab": {},
    "colab_type": "code",
    "id": "4uNV-SuFWFkG"
   },
   "outputs": [],
   "source": [
    "input_prefix = 'data/'\n",
    "#input_prefix = 'https://github.com/hjort/ai-labs/raw/master/jupyter/sales-russia/data/'\n",
    "\n",
    "bzfile = '.bz2' # ''"
   ]
  },
  {
   "cell_type": "code",
   "execution_count": 4,
   "metadata": {
    "colab": {
     "base_uri": "https://localhost:8080/",
     "height": 221
    },
    "colab_type": "code",
    "id": "h-hWTYlMWJHm",
    "outputId": "1e9593a6-23b4-445b-d64e-3e5591b70044"
   },
   "outputs": [
    {
     "name": "stdout",
     "output_type": "stream",
     "text": [
      "shape: (2935849, 6)\n"
     ]
    },
    {
     "data": {
      "text/html": [
       "<div>\n",
       "<style scoped>\n",
       "    .dataframe tbody tr th:only-of-type {\n",
       "        vertical-align: middle;\n",
       "    }\n",
       "\n",
       "    .dataframe tbody tr th {\n",
       "        vertical-align: top;\n",
       "    }\n",
       "\n",
       "    .dataframe thead th {\n",
       "        text-align: right;\n",
       "    }\n",
       "</style>\n",
       "<table border=\"1\" class=\"dataframe\">\n",
       "  <thead>\n",
       "    <tr style=\"text-align: right;\">\n",
       "      <th></th>\n",
       "      <th>date</th>\n",
       "      <th>date_block_num</th>\n",
       "      <th>shop_id</th>\n",
       "      <th>item_id</th>\n",
       "      <th>item_price</th>\n",
       "      <th>item_cnt_day</th>\n",
       "    </tr>\n",
       "  </thead>\n",
       "  <tbody>\n",
       "    <tr>\n",
       "      <th>0</th>\n",
       "      <td>02.01.2013</td>\n",
       "      <td>0</td>\n",
       "      <td>59</td>\n",
       "      <td>22154</td>\n",
       "      <td>999.00</td>\n",
       "      <td>1</td>\n",
       "    </tr>\n",
       "    <tr>\n",
       "      <th>1</th>\n",
       "      <td>03.01.2013</td>\n",
       "      <td>0</td>\n",
       "      <td>25</td>\n",
       "      <td>2552</td>\n",
       "      <td>899.00</td>\n",
       "      <td>1</td>\n",
       "    </tr>\n",
       "    <tr>\n",
       "      <th>2</th>\n",
       "      <td>05.01.2013</td>\n",
       "      <td>0</td>\n",
       "      <td>25</td>\n",
       "      <td>2552</td>\n",
       "      <td>899.00</td>\n",
       "      <td>-1</td>\n",
       "    </tr>\n",
       "    <tr>\n",
       "      <th>3</th>\n",
       "      <td>06.01.2013</td>\n",
       "      <td>0</td>\n",
       "      <td>25</td>\n",
       "      <td>2554</td>\n",
       "      <td>1709.05</td>\n",
       "      <td>1</td>\n",
       "    </tr>\n",
       "    <tr>\n",
       "      <th>4</th>\n",
       "      <td>15.01.2013</td>\n",
       "      <td>0</td>\n",
       "      <td>25</td>\n",
       "      <td>2555</td>\n",
       "      <td>1099.00</td>\n",
       "      <td>1</td>\n",
       "    </tr>\n",
       "  </tbody>\n",
       "</table>\n",
       "</div>"
      ],
      "text/plain": [
       "         date  date_block_num  shop_id  item_id  item_price  item_cnt_day\n",
       "0  02.01.2013               0       59    22154      999.00             1\n",
       "1  03.01.2013               0       25     2552      899.00             1\n",
       "2  05.01.2013               0       25     2552      899.00            -1\n",
       "3  06.01.2013               0       25     2554     1709.05             1\n",
       "4  15.01.2013               0       25     2555     1099.00             1"
      ]
     },
     "execution_count": 4,
     "metadata": {},
     "output_type": "execute_result"
    }
   ],
   "source": [
    "#dateparse = lambda x: pd.datetime.strptime(x, '%d.%m.%Y')\n",
    "df_train = pd.read_csv(\\\n",
    "    input_prefix + 'sales_train.csv' + bzfile,\n",
    "    #nrows=300, # somente primeiras linhas!\n",
    "    #parse_dates=['date'], date_parser=dateparse,\n",
    "    dtype={'date_block_num': np.int8, 'shop_id': np.int8, 'item_id': np.int16, \\\n",
    "           'item_price': np.float32, 'item_cnt_day': np.int32},\n",
    "    )\n",
    "print('shape:', df_train.shape)\n",
    "df_train.head()"
   ]
  },
  {
   "cell_type": "code",
   "execution_count": 5,
   "metadata": {
    "colab": {
     "base_uri": "https://localhost:8080/",
     "height": 51
    },
    "colab_type": "code",
    "id": "505g_jqtWbMP",
    "outputId": "f420916d-106d-4643-eb9f-15f094be3eef"
   },
   "outputs": [
    {
     "name": "stdout",
     "output_type": "stream",
     "text": [
      "CPU times: user 108 ms, sys: 20 ms, total: 128 ms\n",
      "Wall time: 150 ms\n"
     ]
    }
   ],
   "source": [
    "%time df_train['item_price'] = (np.ceil(df_train['item_price'])).astype(np.int32)"
   ]
  },
  {
   "cell_type": "code",
   "execution_count": 6,
   "metadata": {
    "colab": {
     "base_uri": "https://localhost:8080/",
     "height": 204
    },
    "colab_type": "code",
    "id": "K6Tgq24IWNCD",
    "outputId": "71e6191d-9a72-4975-f83b-82feac9dedc8"
   },
   "outputs": [
    {
     "name": "stdout",
     "output_type": "stream",
     "text": [
      "<class 'pandas.core.frame.DataFrame'>\n",
      "RangeIndex: 2935849 entries, 0 to 2935848\n",
      "Data columns (total 6 columns):\n",
      "date              object\n",
      "date_block_num    int8\n",
      "shop_id           int8\n",
      "item_id           int16\n",
      "item_price        int32\n",
      "item_cnt_day      int32\n",
      "dtypes: int16(1), int32(2), int8(2), object(1)\n",
      "memory usage: 44.8+ MB\n"
     ]
    }
   ],
   "source": [
    "df_train.info()"
   ]
  },
  {
   "cell_type": "code",
   "execution_count": 7,
   "metadata": {
    "colab": {
     "base_uri": "https://localhost:8080/",
     "height": 297
    },
    "colab_type": "code",
    "id": "nL8-kT1tWQeQ",
    "outputId": "20c523b2-828f-4350-a800-a71720c524f1"
   },
   "outputs": [
    {
     "data": {
      "text/html": [
       "<div>\n",
       "<style scoped>\n",
       "    .dataframe tbody tr th:only-of-type {\n",
       "        vertical-align: middle;\n",
       "    }\n",
       "\n",
       "    .dataframe tbody tr th {\n",
       "        vertical-align: top;\n",
       "    }\n",
       "\n",
       "    .dataframe thead th {\n",
       "        text-align: right;\n",
       "    }\n",
       "</style>\n",
       "<table border=\"1\" class=\"dataframe\">\n",
       "  <thead>\n",
       "    <tr style=\"text-align: right;\">\n",
       "      <th></th>\n",
       "      <th>date_block_num</th>\n",
       "      <th>shop_id</th>\n",
       "      <th>item_id</th>\n",
       "      <th>item_price</th>\n",
       "      <th>item_cnt_day</th>\n",
       "    </tr>\n",
       "  </thead>\n",
       "  <tbody>\n",
       "    <tr>\n",
       "      <th>count</th>\n",
       "      <td>2.9358e+06</td>\n",
       "      <td>2.9358e+06</td>\n",
       "      <td>2.9358e+06</td>\n",
       "      <td>2.9358e+06</td>\n",
       "      <td>2.9358e+06</td>\n",
       "    </tr>\n",
       "    <tr>\n",
       "      <th>mean</th>\n",
       "      <td>1.4570e+01</td>\n",
       "      <td>3.3002e+01</td>\n",
       "      <td>1.0197e+04</td>\n",
       "      <td>8.9089e+02</td>\n",
       "      <td>1.2426e+00</td>\n",
       "    </tr>\n",
       "    <tr>\n",
       "      <th>std</th>\n",
       "      <td>9.4230e+00</td>\n",
       "      <td>1.6227e+01</td>\n",
       "      <td>6.3243e+03</td>\n",
       "      <td>1.7298e+03</td>\n",
       "      <td>2.6188e+00</td>\n",
       "    </tr>\n",
       "    <tr>\n",
       "      <th>min</th>\n",
       "      <td>0.0000e+00</td>\n",
       "      <td>0.0000e+00</td>\n",
       "      <td>0.0000e+00</td>\n",
       "      <td>-1.0000e+00</td>\n",
       "      <td>-2.2000e+01</td>\n",
       "    </tr>\n",
       "    <tr>\n",
       "      <th>25%</th>\n",
       "      <td>7.0000e+00</td>\n",
       "      <td>2.2000e+01</td>\n",
       "      <td>4.4760e+03</td>\n",
       "      <td>2.4900e+02</td>\n",
       "      <td>1.0000e+00</td>\n",
       "    </tr>\n",
       "    <tr>\n",
       "      <th>50%</th>\n",
       "      <td>1.4000e+01</td>\n",
       "      <td>3.1000e+01</td>\n",
       "      <td>9.3430e+03</td>\n",
       "      <td>3.9900e+02</td>\n",
       "      <td>1.0000e+00</td>\n",
       "    </tr>\n",
       "    <tr>\n",
       "      <th>75%</th>\n",
       "      <td>2.3000e+01</td>\n",
       "      <td>4.7000e+01</td>\n",
       "      <td>1.5684e+04</td>\n",
       "      <td>9.9900e+02</td>\n",
       "      <td>1.0000e+00</td>\n",
       "    </tr>\n",
       "    <tr>\n",
       "      <th>max</th>\n",
       "      <td>3.3000e+01</td>\n",
       "      <td>5.9000e+01</td>\n",
       "      <td>2.2169e+04</td>\n",
       "      <td>3.0798e+05</td>\n",
       "      <td>2.1690e+03</td>\n",
       "    </tr>\n",
       "  </tbody>\n",
       "</table>\n",
       "</div>"
      ],
      "text/plain": [
       "       date_block_num     shop_id     item_id  item_price  item_cnt_day\n",
       "count      2.9358e+06  2.9358e+06  2.9358e+06  2.9358e+06    2.9358e+06\n",
       "mean       1.4570e+01  3.3002e+01  1.0197e+04  8.9089e+02    1.2426e+00\n",
       "std        9.4230e+00  1.6227e+01  6.3243e+03  1.7298e+03    2.6188e+00\n",
       "min        0.0000e+00  0.0000e+00  0.0000e+00 -1.0000e+00   -2.2000e+01\n",
       "25%        7.0000e+00  2.2000e+01  4.4760e+03  2.4900e+02    1.0000e+00\n",
       "50%        1.4000e+01  3.1000e+01  9.3430e+03  3.9900e+02    1.0000e+00\n",
       "75%        2.3000e+01  4.7000e+01  1.5684e+04  9.9900e+02    1.0000e+00\n",
       "max        3.3000e+01  5.9000e+01  2.2169e+04  3.0798e+05    2.1690e+03"
      ]
     },
     "execution_count": 7,
     "metadata": {},
     "output_type": "execute_result"
    }
   ],
   "source": [
    "df_train.describe()"
   ]
  },
  {
   "cell_type": "code",
   "execution_count": 8,
   "metadata": {
    "colab": {
     "base_uri": "https://localhost:8080/",
     "height": 204
    },
    "colab_type": "code",
    "id": "AFAFLGEEWSxb",
    "outputId": "ca014bad-4ee1-4dbb-bca0-034f155edf59"
   },
   "outputs": [
    {
     "data": {
      "text/html": [
       "<div>\n",
       "<style scoped>\n",
       "    .dataframe tbody tr th:only-of-type {\n",
       "        vertical-align: middle;\n",
       "    }\n",
       "\n",
       "    .dataframe tbody tr th {\n",
       "        vertical-align: top;\n",
       "    }\n",
       "\n",
       "    .dataframe thead th {\n",
       "        text-align: right;\n",
       "    }\n",
       "</style>\n",
       "<table border=\"1\" class=\"dataframe\">\n",
       "  <thead>\n",
       "    <tr style=\"text-align: right;\">\n",
       "      <th></th>\n",
       "      <th>date</th>\n",
       "      <th>date_block_num</th>\n",
       "      <th>shop_id</th>\n",
       "      <th>item_id</th>\n",
       "      <th>item_price</th>\n",
       "      <th>item_cnt_day</th>\n",
       "    </tr>\n",
       "  </thead>\n",
       "  <tbody>\n",
       "    <tr>\n",
       "      <th>0</th>\n",
       "      <td>02.01.2013</td>\n",
       "      <td>0</td>\n",
       "      <td>59</td>\n",
       "      <td>22154</td>\n",
       "      <td>999</td>\n",
       "      <td>1</td>\n",
       "    </tr>\n",
       "    <tr>\n",
       "      <th>1</th>\n",
       "      <td>03.01.2013</td>\n",
       "      <td>0</td>\n",
       "      <td>25</td>\n",
       "      <td>2552</td>\n",
       "      <td>899</td>\n",
       "      <td>1</td>\n",
       "    </tr>\n",
       "    <tr>\n",
       "      <th>2</th>\n",
       "      <td>05.01.2013</td>\n",
       "      <td>0</td>\n",
       "      <td>25</td>\n",
       "      <td>2552</td>\n",
       "      <td>899</td>\n",
       "      <td>-1</td>\n",
       "    </tr>\n",
       "    <tr>\n",
       "      <th>3</th>\n",
       "      <td>06.01.2013</td>\n",
       "      <td>0</td>\n",
       "      <td>25</td>\n",
       "      <td>2554</td>\n",
       "      <td>1710</td>\n",
       "      <td>1</td>\n",
       "    </tr>\n",
       "    <tr>\n",
       "      <th>4</th>\n",
       "      <td>15.01.2013</td>\n",
       "      <td>0</td>\n",
       "      <td>25</td>\n",
       "      <td>2555</td>\n",
       "      <td>1099</td>\n",
       "      <td>1</td>\n",
       "    </tr>\n",
       "  </tbody>\n",
       "</table>\n",
       "</div>"
      ],
      "text/plain": [
       "         date  date_block_num  shop_id  item_id  item_price  item_cnt_day\n",
       "0  02.01.2013               0       59    22154         999             1\n",
       "1  03.01.2013               0       25     2552         899             1\n",
       "2  05.01.2013               0       25     2552         899            -1\n",
       "3  06.01.2013               0       25     2554        1710             1\n",
       "4  15.01.2013               0       25     2555        1099             1"
      ]
     },
     "execution_count": 8,
     "metadata": {},
     "output_type": "execute_result"
    }
   ],
   "source": [
    "df_train.head()"
   ]
  },
  {
   "cell_type": "code",
   "execution_count": 9,
   "metadata": {
    "colab": {
     "base_uri": "https://localhost:8080/",
     "height": 204
    },
    "colab_type": "code",
    "id": "czKKV4Y7W0xD",
    "outputId": "10be3125-c166-45ba-f28d-020f476708b3"
   },
   "outputs": [
    {
     "name": "stdout",
     "output_type": "stream",
     "text": [
      "<class 'pandas.core.frame.DataFrame'>\n",
      "Int64Index: 2928492 entries, 0 to 2935848\n",
      "Data columns (total 6 columns):\n",
      "date              object\n",
      "date_block_num    int8\n",
      "shop_id           int8\n",
      "item_id           int16\n",
      "item_price        int32\n",
      "item_cnt_day      int32\n",
      "dtypes: int16(1), int32(2), int8(2), object(1)\n",
      "memory usage: 67.0+ MB\n"
     ]
    }
   ],
   "source": [
    "df_train2 = df_train.query('item_cnt_day > 0 and item_price > 0')\n",
    "df_train2.info()"
   ]
  },
  {
   "cell_type": "code",
   "execution_count": 10,
   "metadata": {
    "colab": {
     "base_uri": "https://localhost:8080/",
     "height": 238
    },
    "colab_type": "code",
    "id": "AhpQrvOKa_K-",
    "outputId": "dafbf05f-28fa-4d38-ebe6-5651a5b32458"
   },
   "outputs": [
    {
     "data": {
      "text/plain": [
       "shop_id  item_id  date_block_num\n",
       "0        30       1                  265\n",
       "         31       1                  434\n",
       "         32       0                  221\n",
       "                  1                  221\n",
       "         33       0                  347\n",
       "                  1                  347\n",
       "         35       0                  247\n",
       "                  1                  247\n",
       "         36       1                  357\n",
       "         40       1                  127\n",
       "         42       1                  127\n",
       "         43       0                  221\n",
       "         49       1                  127\n",
       "         51       0                  129\n",
       "                  1                  127\n",
       "         57       1                  167\n",
       "         59       1                  110\n",
       "         61       0                  195\n",
       "         75       0                   76\n",
       "         85       1                  190\n",
       "         88       0                   76\n",
       "         95       0                  193\n",
       "         96       0                   70\n",
       "         97       1                   67\n",
       "         98       0                  268\n",
       "                  1                  268\n",
       "         111      0                   89\n",
       "                  1                   99\n",
       "         115      1                   99\n",
       "         136      1                   89\n",
       "         149      0                   99\n",
       "         151      0                   75\n",
       "         152      1                   97\n",
       "         153      0                  258\n",
       "                  1                  258\n",
       "         198      0                  112\n",
       "         199      1                  116\n",
       "         210      0                  118\n",
       "         228      1                   75\n",
       "         282      0                  109\n",
       "         306      0                   59\n",
       "                  1                   60\n",
       "         308      1                   89\n",
       "         351      0                   89\n",
       "         407      1                   97\n",
       "         421      0                  162\n",
       "         438      0                  162\n",
       "         471      1                  227\n",
       "         479      1                  140\n",
       "         482      0                 1360\n",
       "                                    ... \n",
       "59       22102    29                1250\n",
       "                  31                1250\n",
       "                  33                1250\n",
       "         22104    29                 249\n",
       "         22105    24                 299\n",
       "                  30                 199\n",
       "                  31                 199\n",
       "         22106    24                 299\n",
       "         22114    4                  349\n",
       "                  27                  28\n",
       "         22115    4                  149\n",
       "         22118    26                  99\n",
       "         22126    10                 249\n",
       "                  12                 249\n",
       "                  16                 149\n",
       "                  17                 149\n",
       "         22130    0                  349\n",
       "                  1                  349\n",
       "         22132    6                  149\n",
       "                  7                  149\n",
       "         22134    0                  399\n",
       "                  1                  399\n",
       "         22139    24                 699\n",
       "                  32                 499\n",
       "         22141    14                 399\n",
       "         22143    14                 349\n",
       "                  15                 349\n",
       "                  19                 349\n",
       "         22144    16                1499\n",
       "         22145    14                 549\n",
       "                  20                 549\n",
       "         22150    6                  199\n",
       "                  7                  199\n",
       "         22151    0                  399\n",
       "                  2                  399\n",
       "         22153    19                 136\n",
       "         22154    0                  999\n",
       "         22155    6                  149\n",
       "         22162    25                 399\n",
       "                  26                 399\n",
       "                  27                 349\n",
       "                  28                 349\n",
       "                  31                 349\n",
       "         22164    25                 749\n",
       "                  26                 749\n",
       "                  27                 699\n",
       "                  30                 699\n",
       "         22167    9                  299\n",
       "                  11                 299\n",
       "                  17                 299\n",
       "Name: item_price, Length: 1608226, dtype: int32"
      ]
     },
     "execution_count": 10,
     "metadata": {},
     "output_type": "execute_result"
    }
   ],
   "source": [
    "item_price_monthly_mean = np.ceil(\n",
    "        df_train2.groupby(\n",
    "            ['shop_id', 'item_id', 'date_block_num']\n",
    "        )['item_price'].mean()\n",
    "    ).astype(np.int32)\n",
    "item_price_monthly_mean"
   ]
  },
  {
   "cell_type": "code",
   "execution_count": 11,
   "metadata": {
    "colab": {
     "base_uri": "https://localhost:8080/",
     "height": 238
    },
    "colab_type": "code",
    "id": "Ah1S_KDGXwev",
    "outputId": "5d69fcba-859d-4c70-86f3-6264653bcd1c"
   },
   "outputs": [
    {
     "data": {
      "text/plain": [
       "shop_id  item_id  date_block_num\n",
       "0        30       1                 31\n",
       "         31       1                 11\n",
       "         32       0                  6\n",
       "                  1                 10\n",
       "         33       0                  3\n",
       "                  1                  3\n",
       "         35       0                  1\n",
       "                  1                 14\n",
       "         36       1                  1\n",
       "         40       1                  1\n",
       "         42       1                  1\n",
       "         43       0                  1\n",
       "         49       1                  2\n",
       "         51       0                  2\n",
       "                  1                  3\n",
       "         57       1                  1\n",
       "         59       1                  1\n",
       "         61       0                  1\n",
       "         75       0                  1\n",
       "         85       1                  1\n",
       "         88       0                  1\n",
       "         95       0                  1\n",
       "         96       0                  1\n",
       "         97       1                  1\n",
       "         98       0                 25\n",
       "                  1                  5\n",
       "         111      0                  1\n",
       "                  1                  1\n",
       "         115      1                  1\n",
       "         136      1                  1\n",
       "         149      0                  3\n",
       "         151      0                  1\n",
       "         152      1                  1\n",
       "         153      0                  1\n",
       "                  1                  2\n",
       "         198      0                  1\n",
       "         199      1                  1\n",
       "         210      0                  2\n",
       "         228      1                  1\n",
       "         282      0                  1\n",
       "         306      0                  1\n",
       "                  1                  1\n",
       "         308      1                  1\n",
       "         351      0                  1\n",
       "         407      1                  1\n",
       "         421      0                  1\n",
       "         438      0                  1\n",
       "         471      1                  1\n",
       "         479      1                  1\n",
       "         482      0                  2\n",
       "                                    ..\n",
       "59       22102    29                 1\n",
       "                  31                 2\n",
       "                  33                 1\n",
       "         22104    29                 1\n",
       "         22105    24                 1\n",
       "                  30                 1\n",
       "                  31                 1\n",
       "         22106    24                 1\n",
       "         22114    4                  1\n",
       "                  27                 1\n",
       "         22115    4                  1\n",
       "         22118    26                 1\n",
       "         22126    10                 1\n",
       "                  12                 1\n",
       "                  16                 1\n",
       "                  17                 1\n",
       "         22130    0                  2\n",
       "                  1                  2\n",
       "         22132    6                  1\n",
       "                  7                  1\n",
       "         22134    0                  2\n",
       "                  1                  1\n",
       "         22139    24                 1\n",
       "                  32                 1\n",
       "         22141    14                 2\n",
       "         22143    14                 6\n",
       "                  15                 1\n",
       "                  19                 1\n",
       "         22144    16                 1\n",
       "         22145    14                 3\n",
       "                  20                 1\n",
       "         22150    6                  1\n",
       "                  7                  1\n",
       "         22151    0                  2\n",
       "                  2                  1\n",
       "         22153    19                 1\n",
       "         22154    0                  1\n",
       "         22155    6                  1\n",
       "         22162    25                 9\n",
       "                  26                 4\n",
       "                  27                 1\n",
       "                  28                 1\n",
       "                  31                 1\n",
       "         22164    25                 2\n",
       "                  26                 1\n",
       "                  27                 2\n",
       "                  30                 1\n",
       "         22167    9                  1\n",
       "                  11                 2\n",
       "                  17                 1\n",
       "Name: item_cnt_day, Length: 1608226, dtype: int32"
      ]
     },
     "execution_count": 11,
     "metadata": {},
     "output_type": "execute_result"
    }
   ],
   "source": [
    "item_cnt_monthly_sum = df_train2.groupby(\n",
    "        ['shop_id', 'item_id', 'date_block_num']\n",
    "    )['item_cnt_day'].sum()\n",
    "item_cnt_monthly_sum"
   ]
  },
  {
   "cell_type": "code",
   "execution_count": 14,
   "metadata": {},
   "outputs": [
    {
     "data": {
      "text/plain": [
       "pandas.core.series.Series"
      ]
     },
     "execution_count": 14,
     "metadata": {},
     "output_type": "execute_result"
    }
   ],
   "source": [
    "type(item_price_monthly_mean)"
   ]
  },
  {
   "cell_type": "code",
   "execution_count": 15,
   "metadata": {},
   "outputs": [
    {
     "data": {
      "text/plain": [
       "pandas.core.series.Series"
      ]
     },
     "execution_count": 15,
     "metadata": {},
     "output_type": "execute_result"
    }
   ],
   "source": [
    "type(item_cnt_monthly_sum)"
   ]
  },
  {
   "cell_type": "code",
   "execution_count": 18,
   "metadata": {},
   "outputs": [
    {
     "data": {
      "text/html": [
       "<div>\n",
       "<style scoped>\n",
       "    .dataframe tbody tr th:only-of-type {\n",
       "        vertical-align: middle;\n",
       "    }\n",
       "\n",
       "    .dataframe tbody tr th {\n",
       "        vertical-align: top;\n",
       "    }\n",
       "\n",
       "    .dataframe thead th {\n",
       "        text-align: right;\n",
       "    }\n",
       "</style>\n",
       "<table border=\"1\" class=\"dataframe\">\n",
       "  <thead>\n",
       "    <tr style=\"text-align: right;\">\n",
       "      <th></th>\n",
       "      <th></th>\n",
       "      <th></th>\n",
       "      <th>item_price</th>\n",
       "      <th>item_cnt_day</th>\n",
       "    </tr>\n",
       "    <tr>\n",
       "      <th>shop_id</th>\n",
       "      <th>item_id</th>\n",
       "      <th>date_block_num</th>\n",
       "      <th></th>\n",
       "      <th></th>\n",
       "    </tr>\n",
       "  </thead>\n",
       "  <tbody>\n",
       "    <tr>\n",
       "      <th rowspan=\"5\" valign=\"top\">0</th>\n",
       "      <th>30</th>\n",
       "      <th>1</th>\n",
       "      <td>265</td>\n",
       "      <td>31</td>\n",
       "    </tr>\n",
       "    <tr>\n",
       "      <th>31</th>\n",
       "      <th>1</th>\n",
       "      <td>434</td>\n",
       "      <td>11</td>\n",
       "    </tr>\n",
       "    <tr>\n",
       "      <th rowspan=\"2\" valign=\"top\">32</th>\n",
       "      <th>0</th>\n",
       "      <td>221</td>\n",
       "      <td>6</td>\n",
       "    </tr>\n",
       "    <tr>\n",
       "      <th>1</th>\n",
       "      <td>221</td>\n",
       "      <td>10</td>\n",
       "    </tr>\n",
       "    <tr>\n",
       "      <th>33</th>\n",
       "      <th>0</th>\n",
       "      <td>347</td>\n",
       "      <td>3</td>\n",
       "    </tr>\n",
       "  </tbody>\n",
       "</table>\n",
       "</div>"
      ],
      "text/plain": [
       "                                item_price  item_cnt_day\n",
       "shop_id item_id date_block_num                          \n",
       "0       30      1                      265            31\n",
       "        31      1                      434            11\n",
       "        32      0                      221             6\n",
       "                1                      221            10\n",
       "        33      0                      347             3"
      ]
     },
     "execution_count": 18,
     "metadata": {},
     "output_type": "execute_result"
    }
   ],
   "source": [
    "item_monthly = pd.concat([item_price_monthly_mean, item_cnt_monthly_sum], axis=1)\n",
    "\n",
    "#item_monthly = pd.merge(\n",
    "#    item_price_monthly_mean, item_cnt_monthly_sum, \n",
    "#    how='inner', left_index=True, right_index=True)\n",
    "\n",
    "item_monthly.head()"
   ]
  },
  {
   "cell_type": "code",
   "execution_count": 19,
   "metadata": {
    "colab": {},
    "colab_type": "code",
    "id": "nb4eqCmjdHLw"
   },
   "outputs": [],
   "source": [
    "del(item_price_monthly_mean)\n",
    "del(item_cnt_monthly_sum)"
   ]
  },
  {
   "cell_type": "code",
   "execution_count": 20,
   "metadata": {
    "colab": {
     "base_uri": "https://localhost:8080/",
     "height": 450
    },
    "colab_type": "code",
    "id": "KAKpb6cgdoKP",
    "outputId": "277f442a-e75a-420b-aea7-ab8d4ac81cc3"
   },
   "outputs": [
    {
     "data": {
      "text/html": [
       "<div>\n",
       "<style scoped>\n",
       "    .dataframe tbody tr th:only-of-type {\n",
       "        vertical-align: middle;\n",
       "    }\n",
       "\n",
       "    .dataframe tbody tr th {\n",
       "        vertical-align: top;\n",
       "    }\n",
       "\n",
       "    .dataframe thead th {\n",
       "        text-align: right;\n",
       "    }\n",
       "</style>\n",
       "<table border=\"1\" class=\"dataframe\">\n",
       "  <thead>\n",
       "    <tr style=\"text-align: right;\">\n",
       "      <th></th>\n",
       "      <th></th>\n",
       "      <th></th>\n",
       "      <th>item_price_mean</th>\n",
       "      <th>item_cnt_sum</th>\n",
       "    </tr>\n",
       "    <tr>\n",
       "      <th>shop_id</th>\n",
       "      <th>item_id</th>\n",
       "      <th>date_block_num</th>\n",
       "      <th></th>\n",
       "      <th></th>\n",
       "    </tr>\n",
       "  </thead>\n",
       "  <tbody>\n",
       "    <tr>\n",
       "      <th rowspan=\"5\" valign=\"top\">0</th>\n",
       "      <th>30</th>\n",
       "      <th>1</th>\n",
       "      <td>265</td>\n",
       "      <td>31</td>\n",
       "    </tr>\n",
       "    <tr>\n",
       "      <th>31</th>\n",
       "      <th>1</th>\n",
       "      <td>434</td>\n",
       "      <td>11</td>\n",
       "    </tr>\n",
       "    <tr>\n",
       "      <th rowspan=\"2\" valign=\"top\">32</th>\n",
       "      <th>0</th>\n",
       "      <td>221</td>\n",
       "      <td>6</td>\n",
       "    </tr>\n",
       "    <tr>\n",
       "      <th>1</th>\n",
       "      <td>221</td>\n",
       "      <td>10</td>\n",
       "    </tr>\n",
       "    <tr>\n",
       "      <th>33</th>\n",
       "      <th>0</th>\n",
       "      <td>347</td>\n",
       "      <td>3</td>\n",
       "    </tr>\n",
       "  </tbody>\n",
       "</table>\n",
       "</div>"
      ],
      "text/plain": [
       "                                item_price_mean  item_cnt_sum\n",
       "shop_id item_id date_block_num                               \n",
       "0       30      1                           265            31\n",
       "        31      1                           434            11\n",
       "        32      0                           221             6\n",
       "                1                           221            10\n",
       "        33      0                           347             3"
      ]
     },
     "execution_count": 20,
     "metadata": {},
     "output_type": "execute_result"
    }
   ],
   "source": [
    "item_monthly.rename(columns={\n",
    "        'item_price': 'item_price_mean', 'item_cnt_day': 'item_cnt_sum'\n",
    "    }, inplace=True)\n",
    "item_monthly.head()"
   ]
  },
  {
   "cell_type": "code",
   "execution_count": 21,
   "metadata": {
    "colab": {
     "base_uri": "https://localhost:8080/",
     "height": 136
    },
    "colab_type": "code",
    "id": "zP_WyEfGeHLu",
    "outputId": "c9b09d28-97db-4a90-9d35-ea7871436490"
   },
   "outputs": [
    {
     "name": "stdout",
     "output_type": "stream",
     "text": [
      "<class 'pandas.core.frame.DataFrame'>\n",
      "MultiIndex: 1608226 entries, (0, 30, 1) to (59, 22167, 17)\n",
      "Data columns (total 2 columns):\n",
      "item_price_mean    1608226 non-null int32\n",
      "item_cnt_sum       1608226 non-null int32\n",
      "dtypes: int32(2)\n",
      "memory usage: 18.6 MB\n"
     ]
    }
   ],
   "source": [
    "item_monthly.info()"
   ]
  },
  {
   "cell_type": "code",
   "execution_count": 22,
   "metadata": {
    "colab": {
     "base_uri": "https://localhost:8080/",
     "height": 111
    },
    "colab_type": "code",
    "id": "ga14fg7HeN3k",
    "outputId": "6185da40-ddf8-4b4c-c711-ba96d53a9057"
   },
   "outputs": [
    {
     "data": {
      "text/html": [
       "<div>\n",
       "<style scoped>\n",
       "    .dataframe tbody tr th:only-of-type {\n",
       "        vertical-align: middle;\n",
       "    }\n",
       "\n",
       "    .dataframe tbody tr th {\n",
       "        vertical-align: top;\n",
       "    }\n",
       "\n",
       "    .dataframe thead th {\n",
       "        text-align: right;\n",
       "    }\n",
       "</style>\n",
       "<table border=\"1\" class=\"dataframe\">\n",
       "  <thead>\n",
       "    <tr style=\"text-align: right;\">\n",
       "      <th></th>\n",
       "      <th>count</th>\n",
       "      <th>mean</th>\n",
       "      <th>std</th>\n",
       "      <th>min</th>\n",
       "      <th>25%</th>\n",
       "      <th>50%</th>\n",
       "      <th>75%</th>\n",
       "      <th>max</th>\n",
       "    </tr>\n",
       "  </thead>\n",
       "  <tbody>\n",
       "    <tr>\n",
       "      <th>item_price_mean</th>\n",
       "      <td>1608226.0</td>\n",
       "      <td>790.1960</td>\n",
       "      <td>1549.3138</td>\n",
       "      <td>1.0</td>\n",
       "      <td>199.0</td>\n",
       "      <td>399.0</td>\n",
       "      <td>895.0</td>\n",
       "      <td>307980.0</td>\n",
       "    </tr>\n",
       "    <tr>\n",
       "      <th>item_cnt_sum</th>\n",
       "      <td>1608226.0</td>\n",
       "      <td>2.2732</td>\n",
       "      <td>8.6532</td>\n",
       "      <td>1.0</td>\n",
       "      <td>1.0</td>\n",
       "      <td>1.0</td>\n",
       "      <td>2.0</td>\n",
       "      <td>2253.0</td>\n",
       "    </tr>\n",
       "  </tbody>\n",
       "</table>\n",
       "</div>"
      ],
      "text/plain": [
       "                     count      mean        std  min    25%    50%    75%  \\\n",
       "item_price_mean  1608226.0  790.1960  1549.3138  1.0  199.0  399.0  895.0   \n",
       "item_cnt_sum     1608226.0    2.2732     8.6532  1.0    1.0    1.0    2.0   \n",
       "\n",
       "                      max  \n",
       "item_price_mean  307980.0  \n",
       "item_cnt_sum       2253.0  "
      ]
     },
     "execution_count": 22,
     "metadata": {},
     "output_type": "execute_result"
    }
   ],
   "source": [
    "item_monthly.describe().T"
   ]
  },
  {
   "cell_type": "code",
   "execution_count": 23,
   "metadata": {
    "colab": {
     "base_uri": "https://localhost:8080/",
     "height": 34
    },
    "colab_type": "code",
    "id": "mmLdAFJneP8H",
    "outputId": "f8f131f6-2b98-48ef-b282-85f1fa1a3767"
   },
   "outputs": [
    {
     "data": {
      "text/plain": [
       "FrozenList(['shop_id', 'item_id', 'date_block_num'])"
      ]
     },
     "execution_count": 23,
     "metadata": {},
     "output_type": "execute_result"
    }
   ],
   "source": [
    "item_monthly.index.names"
   ]
  },
  {
   "cell_type": "code",
   "execution_count": 24,
   "metadata": {
    "colab": {},
    "colab_type": "code",
    "id": "qvZl2SlTi9ox"
   },
   "outputs": [],
   "source": [
    "item_monthly.to_csv('sales_monthly.csv')"
   ]
  },
  {
   "cell_type": "code",
   "execution_count": 25,
   "metadata": {
    "colab": {},
    "colab_type": "code",
    "id": "SX1DoQRizstt"
   },
   "outputs": [
    {
     "name": "stdout",
     "output_type": "stream",
     "text": [
      "shop_id,item_id,date_block_num,item_price_mean,item_cnt_sum\r\n",
      "0,30,1,265,31\r\n",
      "0,31,1,434,11\r\n",
      "0,32,0,221,6\r\n",
      "0,32,1,221,10\r\n",
      "0,33,0,347,3\r\n",
      "0,33,1,347,3\r\n",
      "0,35,0,247,1\r\n",
      "0,35,1,247,14\r\n",
      "0,36,1,357,1\r\n"
     ]
    }
   ],
   "source": [
    "!head sales_monthly.csv"
   ]
  },
  {
   "cell_type": "code",
   "execution_count": null,
   "metadata": {},
   "outputs": [],
   "source": []
  }
 ],
 "metadata": {
  "colab": {
   "collapsed_sections": [],
   "name": "12-Sales_Russia-SalesMonthly.ipynb",
   "provenance": []
  },
  "kernelspec": {
   "display_name": "Python 3",
   "language": "python",
   "name": "python3"
  },
  "language_info": {
   "codemirror_mode": {
    "name": "ipython",
    "version": 3
   },
   "file_extension": ".py",
   "mimetype": "text/x-python",
   "name": "python",
   "nbconvert_exporter": "python",
   "pygments_lexer": "ipython3",
   "version": "3.6.7"
  }
 },
 "nbformat": 4,
 "nbformat_minor": 1
}
