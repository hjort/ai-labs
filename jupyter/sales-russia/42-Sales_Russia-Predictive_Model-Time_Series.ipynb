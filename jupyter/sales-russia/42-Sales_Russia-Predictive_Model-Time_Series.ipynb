{
 "cells": [
  {
   "cell_type": "markdown",
   "metadata": {
    "colab_type": "text",
    "id": "6s8Si4l_BRML"
   },
   "source": [
    "# Time Series\n",
    "\n",
    "- https://www.dataquest.io/blog/tutorial-time-series-analysis-with-pandas/\n",
    "- https://medium.com/intive-developers/forecasting-time-series-with-multiple-seasonalities-using-tbats-in-python-398a00ac0e8a"
   ]
  },
  {
   "cell_type": "code",
   "execution_count": 4,
   "metadata": {
    "colab": {
     "base_uri": "https://localhost:8080/",
     "height": 377
    },
    "colab_type": "code",
    "id": "OPCQceh3Bv0x",
    "outputId": "d62df29c-f1f1-45ab-98a5-64d7c7cd7488"
   },
   "outputs": [
    {
     "name": "stdout",
     "output_type": "stream",
     "text": [
      "Requirement already satisfied: tbats in /dados/anaconda3/lib/python3.7/site-packages (1.0.8)\n",
      "Requirement already satisfied: numpy in /dados/anaconda3/lib/python3.7/site-packages (from tbats) (1.17.1)\n",
      "Requirement already satisfied: scipy in /dados/anaconda3/lib/python3.7/site-packages (from tbats) (1.2.2)\n",
      "Requirement already satisfied: scikit-learn in /dados/anaconda3/lib/python3.7/site-packages (from tbats) (0.19.2)\n",
      "Requirement already satisfied: pmdarima in /dados/anaconda3/lib/python3.7/site-packages (from tbats) (1.2.1)\n",
      "Requirement already satisfied: joblib>=0.11 in /dados/anaconda3/lib/python3.7/site-packages (from pmdarima->tbats) (0.13.2)\n",
      "Requirement already satisfied: Cython>=0.29 in /dados/anaconda3/lib/python3.7/site-packages (from pmdarima->tbats) (0.29.2)\n",
      "Requirement already satisfied: pandas>=0.19 in /dados/anaconda3/lib/python3.7/site-packages (from pmdarima->tbats) (0.23.4)\n",
      "Requirement already satisfied: statsmodels>=0.9.0 in /dados/anaconda3/lib/python3.7/site-packages (from pmdarima->tbats) (0.9.0)\n",
      "Requirement already satisfied: six>=1.5 in /dados/anaconda3/lib/python3.7/site-packages (from pmdarima->tbats) (1.12.0)\n",
      "Requirement already satisfied: python-dateutil>=2.5.0 in /dados/anaconda3/lib/python3.7/site-packages (from pandas>=0.19->pmdarima->tbats) (2.7.5)\n",
      "Requirement already satisfied: pytz>=2011k in /dados/anaconda3/lib/python3.7/site-packages (from pandas>=0.19->pmdarima->tbats) (2018.7)\n"
     ]
    }
   ],
   "source": [
    "!pip install tbats"
   ]
  },
  {
   "cell_type": "code",
   "execution_count": 1,
   "metadata": {
    "colab": {},
    "colab_type": "code",
    "id": "FhhTtyjbko2M"
   },
   "outputs": [],
   "source": [
    "# importar pacotes necessários\n",
    "import pandas as pd\n",
    "import numpy as np\n",
    "import matplotlib.pylab as plt\n",
    "#import matplotlib.pyplot as plt\n",
    "import pickle\n",
    "from tbats import TBATS, BATS"
   ]
  },
  {
   "cell_type": "code",
   "execution_count": 2,
   "metadata": {
    "colab": {},
    "colab_type": "code",
    "id": "TbaNn1jkBRNM"
   },
   "outputs": [],
   "source": [
    "# definir parâmetros extras\n",
    "%matplotlib inline\n",
    "from matplotlib.pylab import rcParams\n",
    "rcParams['figure.figsize'] = 15, 6"
   ]
  },
  {
   "cell_type": "code",
   "execution_count": 3,
   "metadata": {
    "colab": {},
    "colab_type": "code",
    "id": "WNrTFW0mkrz7"
   },
   "outputs": [],
   "source": [
    "# definir parâmetros extras\n",
    "pd.set_option('precision', 4)\n",
    "pd.set_option('display.max_columns', 100)\n",
    "pd.set_option('display.max_rows', 100)"
   ]
  },
  {
   "cell_type": "code",
   "execution_count": 4,
   "metadata": {
    "colab": {},
    "colab_type": "code",
    "id": "8JDIYg-GkuMg"
   },
   "outputs": [],
   "source": [
    "input_prefix = 'data/'\n",
    "#input_prefix = 'https://github.com/hjort/ai-labs/raw/master/jupyter/sales-russia/data/'\n",
    "\n",
    "bzfile = '.bz2' # ''"
   ]
  },
  {
   "cell_type": "code",
   "execution_count": 5,
   "metadata": {
    "colab": {
     "base_uri": "https://localhost:8080/",
     "height": 306
    },
    "colab_type": "code",
    "id": "BPoyJnVqkwit",
    "outputId": "b0ca5189-ad65-4959-af10-5be93e3292e9"
   },
   "outputs": [
    {
     "name": "stdout",
     "output_type": "stream",
     "text": [
      "shape: (1608226, 2)\n"
     ]
    },
    {
     "name": "stderr",
     "output_type": "stream",
     "text": [
      "/dados/anaconda3/lib/python3.7/site-packages/numpy/lib/arraysetops.py:568: FutureWarning: elementwise comparison failed; returning scalar instead, but in the future will perform elementwise comparison\n",
      "  mask |= (ar1 == a)\n"
     ]
    },
    {
     "data": {
      "text/html": [
       "<div>\n",
       "<style scoped>\n",
       "    .dataframe tbody tr th:only-of-type {\n",
       "        vertical-align: middle;\n",
       "    }\n",
       "\n",
       "    .dataframe tbody tr th {\n",
       "        vertical-align: top;\n",
       "    }\n",
       "\n",
       "    .dataframe thead th {\n",
       "        text-align: right;\n",
       "    }\n",
       "</style>\n",
       "<table border=\"1\" class=\"dataframe\">\n",
       "  <thead>\n",
       "    <tr style=\"text-align: right;\">\n",
       "      <th></th>\n",
       "      <th></th>\n",
       "      <th></th>\n",
       "      <th>item_price_mean</th>\n",
       "      <th>item_cnt_sum</th>\n",
       "    </tr>\n",
       "    <tr>\n",
       "      <th>shop_id</th>\n",
       "      <th>item_id</th>\n",
       "      <th>date_block_num</th>\n",
       "      <th></th>\n",
       "      <th></th>\n",
       "    </tr>\n",
       "  </thead>\n",
       "  <tbody>\n",
       "    <tr>\n",
       "      <th rowspan=\"5\" valign=\"top\">0</th>\n",
       "      <th>30</th>\n",
       "      <th>1</th>\n",
       "      <td>265</td>\n",
       "      <td>31</td>\n",
       "    </tr>\n",
       "    <tr>\n",
       "      <th>31</th>\n",
       "      <th>1</th>\n",
       "      <td>434</td>\n",
       "      <td>11</td>\n",
       "    </tr>\n",
       "    <tr>\n",
       "      <th rowspan=\"2\" valign=\"top\">32</th>\n",
       "      <th>0</th>\n",
       "      <td>221</td>\n",
       "      <td>6</td>\n",
       "    </tr>\n",
       "    <tr>\n",
       "      <th>1</th>\n",
       "      <td>221</td>\n",
       "      <td>10</td>\n",
       "    </tr>\n",
       "    <tr>\n",
       "      <th>33</th>\n",
       "      <th>0</th>\n",
       "      <td>347</td>\n",
       "      <td>3</td>\n",
       "    </tr>\n",
       "  </tbody>\n",
       "</table>\n",
       "</div>"
      ],
      "text/plain": [
       "                                item_price_mean  item_cnt_sum\n",
       "shop_id item_id date_block_num                               \n",
       "0       30      1                           265            31\n",
       "        31      1                           434            11\n",
       "        32      0                           221             6\n",
       "                1                           221            10\n",
       "        33      0                           347             3"
      ]
     },
     "execution_count": 5,
     "metadata": {},
     "output_type": "execute_result"
    }
   ],
   "source": [
    "df_train = pd.read_csv(\n",
    "    input_prefix + '../sales_monthly.csv' + bzfile, #nrows=10000,\n",
    "    #input_prefix + '../sales_monthly_full.csv' + bzfile, #nrows=10000,\n",
    "    #input_prefix + '../train_full.csv' + bzfile, #nrows=10000,\n",
    "    dtype={'date_block_num': np.int8, 'shop_id': np.int8, 'item_id': np.int16,\n",
    "           'item_price_mean': np.int32, 'item_cnt_sum': np.int32,\n",
    "           'city_code': 'category', 'item_category_id': 'category',\n",
    "           'subject_code': 'category', 'group_code': 'category', 'subgroup_code': 'category'},\n",
    "    index_col=['shop_id', 'item_id', 'date_block_num']\n",
    ")\n",
    "print('shape:', df_train.shape)\n",
    "df_train.head()"
   ]
  },
  {
   "cell_type": "code",
   "execution_count": 6,
   "metadata": {
    "colab": {},
    "colab_type": "code",
    "id": "5ChKDQIBlQbK"
   },
   "outputs": [],
   "source": [
    "data = df_train.copy()\n",
    "#data = df_train.drop(columns=['city_code', 'item_category_id', 'subject_code', 'group_code', 'subgroup_code'])"
   ]
  },
  {
   "cell_type": "code",
   "execution_count": 7,
   "metadata": {
    "colab": {
     "base_uri": "https://localhost:8080/",
     "height": 235
    },
    "colab_type": "code",
    "id": "3LeknrihBRPL",
    "outputId": "ebb3471b-90db-4301-9ac1-e7ab460e72d6"
   },
   "outputs": [
    {
     "data": {
      "text/html": [
       "<div>\n",
       "<style scoped>\n",
       "    .dataframe tbody tr th:only-of-type {\n",
       "        vertical-align: middle;\n",
       "    }\n",
       "\n",
       "    .dataframe tbody tr th {\n",
       "        vertical-align: top;\n",
       "    }\n",
       "\n",
       "    .dataframe thead th {\n",
       "        text-align: right;\n",
       "    }\n",
       "</style>\n",
       "<table border=\"1\" class=\"dataframe\">\n",
       "  <thead>\n",
       "    <tr style=\"text-align: right;\">\n",
       "      <th></th>\n",
       "      <th></th>\n",
       "      <th></th>\n",
       "      <th>item_price_mean</th>\n",
       "      <th>item_cnt_sum</th>\n",
       "    </tr>\n",
       "    <tr>\n",
       "      <th>shop_id</th>\n",
       "      <th>item_id</th>\n",
       "      <th>date_block_num</th>\n",
       "      <th></th>\n",
       "      <th></th>\n",
       "    </tr>\n",
       "  </thead>\n",
       "  <tbody>\n",
       "    <tr>\n",
       "      <th rowspan=\"5\" valign=\"top\">0</th>\n",
       "      <th>30</th>\n",
       "      <th>1</th>\n",
       "      <td>265</td>\n",
       "      <td>31</td>\n",
       "    </tr>\n",
       "    <tr>\n",
       "      <th>31</th>\n",
       "      <th>1</th>\n",
       "      <td>434</td>\n",
       "      <td>11</td>\n",
       "    </tr>\n",
       "    <tr>\n",
       "      <th rowspan=\"2\" valign=\"top\">32</th>\n",
       "      <th>0</th>\n",
       "      <td>221</td>\n",
       "      <td>6</td>\n",
       "    </tr>\n",
       "    <tr>\n",
       "      <th>1</th>\n",
       "      <td>221</td>\n",
       "      <td>10</td>\n",
       "    </tr>\n",
       "    <tr>\n",
       "      <th>33</th>\n",
       "      <th>0</th>\n",
       "      <td>347</td>\n",
       "      <td>3</td>\n",
       "    </tr>\n",
       "  </tbody>\n",
       "</table>\n",
       "</div>"
      ],
      "text/plain": [
       "                                item_price_mean  item_cnt_sum\n",
       "shop_id item_id date_block_num                               \n",
       "0       30      1                           265            31\n",
       "        31      1                           434            11\n",
       "        32      0                           221             6\n",
       "                1                           221            10\n",
       "        33      0                           347             3"
      ]
     },
     "execution_count": 7,
     "metadata": {},
     "output_type": "execute_result"
    }
   ],
   "source": [
    "data.head()"
   ]
  },
  {
   "cell_type": "code",
   "execution_count": 8,
   "metadata": {
    "colab": {},
    "colab_type": "code",
    "id": "rYlqkO0LBRQD"
   },
   "outputs": [],
   "source": [
    "data = data.query('(shop_id == 5) & (item_id == 5037)')\n",
    "#data = data.query('(shop_id == 28) & (item_id == 20949)')\n",
    "#data = data.query('(shop_id == 31) & (item_id == 20949)')\n",
    "#data = data.query('(shop_id == 55) & (item_id == 492)')"
   ]
  },
  {
   "cell_type": "code",
   "execution_count": 9,
   "metadata": {
    "colab": {
     "base_uri": "https://localhost:8080/",
     "height": 235
    },
    "colab_type": "code",
    "id": "JFEvCuQkBRQY",
    "outputId": "d68922d1-2cd9-4115-8fe3-11a8b47c498e"
   },
   "outputs": [
    {
     "data": {
      "text/html": [
       "<div>\n",
       "<style scoped>\n",
       "    .dataframe tbody tr th:only-of-type {\n",
       "        vertical-align: middle;\n",
       "    }\n",
       "\n",
       "    .dataframe tbody tr th {\n",
       "        vertical-align: top;\n",
       "    }\n",
       "\n",
       "    .dataframe thead th {\n",
       "        text-align: right;\n",
       "    }\n",
       "</style>\n",
       "<table border=\"1\" class=\"dataframe\">\n",
       "  <thead>\n",
       "    <tr style=\"text-align: right;\">\n",
       "      <th></th>\n",
       "      <th></th>\n",
       "      <th></th>\n",
       "      <th>item_price_mean</th>\n",
       "      <th>item_cnt_sum</th>\n",
       "    </tr>\n",
       "    <tr>\n",
       "      <th>shop_id</th>\n",
       "      <th>item_id</th>\n",
       "      <th>date_block_num</th>\n",
       "      <th></th>\n",
       "      <th></th>\n",
       "    </tr>\n",
       "  </thead>\n",
       "  <tbody>\n",
       "    <tr>\n",
       "      <th rowspan=\"5\" valign=\"top\">5</th>\n",
       "      <th rowspan=\"5\" valign=\"top\">5037</th>\n",
       "      <th>20</th>\n",
       "      <td>2599</td>\n",
       "      <td>1</td>\n",
       "    </tr>\n",
       "    <tr>\n",
       "      <th>22</th>\n",
       "      <td>2599</td>\n",
       "      <td>1</td>\n",
       "    </tr>\n",
       "    <tr>\n",
       "      <th>23</th>\n",
       "      <td>1999</td>\n",
       "      <td>2</td>\n",
       "    </tr>\n",
       "    <tr>\n",
       "      <th>24</th>\n",
       "      <td>1999</td>\n",
       "      <td>2</td>\n",
       "    </tr>\n",
       "    <tr>\n",
       "      <th>28</th>\n",
       "      <td>1299</td>\n",
       "      <td>1</td>\n",
       "    </tr>\n",
       "  </tbody>\n",
       "</table>\n",
       "</div>"
      ],
      "text/plain": [
       "                                item_price_mean  item_cnt_sum\n",
       "shop_id item_id date_block_num                               \n",
       "5       5037    20                         2599             1\n",
       "                22                         2599             1\n",
       "                23                         1999             2\n",
       "                24                         1999             2\n",
       "                28                         1299             1"
      ]
     },
     "execution_count": 9,
     "metadata": {},
     "output_type": "execute_result"
    }
   ],
   "source": [
    "data.head()"
   ]
  },
  {
   "cell_type": "code",
   "execution_count": 10,
   "metadata": {
    "colab": {
     "base_uri": "https://localhost:8080/",
     "height": 136
    },
    "colab_type": "code",
    "id": "L7rpOomEtKjr",
    "outputId": "35ff8e44-01b4-41c8-f4d6-65acc2bbc5ea"
   },
   "outputs": [
    {
     "name": "stdout",
     "output_type": "stream",
     "text": [
      "<class 'pandas.core.frame.DataFrame'>\n",
      "MultiIndex: 9 entries, (5, 5037, 20) to (5, 5037, 32)\n",
      "Data columns (total 2 columns):\n",
      "item_price_mean    9 non-null int32\n",
      "item_cnt_sum       9 non-null int32\n",
      "dtypes: int32(2)\n",
      "memory usage: 171.4 KB\n"
     ]
    }
   ],
   "source": [
    "data.info()"
   ]
  },
  {
   "cell_type": "code",
   "execution_count": 11,
   "metadata": {
    "colab": {
     "base_uri": "https://localhost:8080/",
     "height": 235
    },
    "colab_type": "code",
    "id": "VLcgnBgjBRRK",
    "outputId": "58cf0763-e31a-4ede-dbc0-4b2d6d735aee"
   },
   "outputs": [
    {
     "data": {
      "text/html": [
       "<div>\n",
       "<style scoped>\n",
       "    .dataframe tbody tr th:only-of-type {\n",
       "        vertical-align: middle;\n",
       "    }\n",
       "\n",
       "    .dataframe tbody tr th {\n",
       "        vertical-align: top;\n",
       "    }\n",
       "\n",
       "    .dataframe thead th {\n",
       "        text-align: right;\n",
       "    }\n",
       "</style>\n",
       "<table border=\"1\" class=\"dataframe\">\n",
       "  <thead>\n",
       "    <tr style=\"text-align: right;\">\n",
       "      <th></th>\n",
       "      <th>item_price_mean</th>\n",
       "      <th>item_cnt_sum</th>\n",
       "    </tr>\n",
       "    <tr>\n",
       "      <th>date_block_num</th>\n",
       "      <th></th>\n",
       "      <th></th>\n",
       "    </tr>\n",
       "  </thead>\n",
       "  <tbody>\n",
       "    <tr>\n",
       "      <th>20</th>\n",
       "      <td>2599</td>\n",
       "      <td>1</td>\n",
       "    </tr>\n",
       "    <tr>\n",
       "      <th>22</th>\n",
       "      <td>2599</td>\n",
       "      <td>1</td>\n",
       "    </tr>\n",
       "    <tr>\n",
       "      <th>23</th>\n",
       "      <td>1999</td>\n",
       "      <td>2</td>\n",
       "    </tr>\n",
       "    <tr>\n",
       "      <th>24</th>\n",
       "      <td>1999</td>\n",
       "      <td>2</td>\n",
       "    </tr>\n",
       "    <tr>\n",
       "      <th>28</th>\n",
       "      <td>1299</td>\n",
       "      <td>1</td>\n",
       "    </tr>\n",
       "  </tbody>\n",
       "</table>\n",
       "</div>"
      ],
      "text/plain": [
       "                item_price_mean  item_cnt_sum\n",
       "date_block_num                               \n",
       "20                         2599             1\n",
       "22                         2599             1\n",
       "23                         1999             2\n",
       "24                         1999             2\n",
       "28                         1299             1"
      ]
     },
     "execution_count": 11,
     "metadata": {},
     "output_type": "execute_result"
    }
   ],
   "source": [
    "data = data.reset_index().drop(columns=['shop_id', 'item_id']).set_index('date_block_num')\n",
    "data.head()"
   ]
  },
  {
   "cell_type": "code",
   "execution_count": null,
   "metadata": {
    "colab": {},
    "colab_type": "code",
    "id": "Q0KRY-HWBRRf"
   },
   "outputs": [],
   "source": []
  },
  {
   "cell_type": "code",
   "execution_count": 12,
   "metadata": {
    "colab": {
     "base_uri": "https://localhost:8080/",
     "height": 235
    },
    "colab_type": "code",
    "id": "NpgQ0RyBBRRx",
    "outputId": "1dad6b09-e564-44a3-83db-f5ffcb7ae793"
   },
   "outputs": [
    {
     "data": {
      "text/html": [
       "<div>\n",
       "<style scoped>\n",
       "    .dataframe tbody tr th:only-of-type {\n",
       "        vertical-align: middle;\n",
       "    }\n",
       "\n",
       "    .dataframe tbody tr th {\n",
       "        vertical-align: top;\n",
       "    }\n",
       "\n",
       "    .dataframe thead th {\n",
       "        text-align: right;\n",
       "    }\n",
       "</style>\n",
       "<table border=\"1\" class=\"dataframe\">\n",
       "  <thead>\n",
       "    <tr style=\"text-align: right;\">\n",
       "      <th></th>\n",
       "      <th>item_price_mean</th>\n",
       "      <th>item_cnt_sum</th>\n",
       "    </tr>\n",
       "    <tr>\n",
       "      <th>date_block_num</th>\n",
       "      <th></th>\n",
       "      <th></th>\n",
       "    </tr>\n",
       "  </thead>\n",
       "  <tbody>\n",
       "    <tr>\n",
       "      <th>20</th>\n",
       "      <td>2599.0</td>\n",
       "      <td>1.0</td>\n",
       "    </tr>\n",
       "    <tr>\n",
       "      <th>21</th>\n",
       "      <td>NaN</td>\n",
       "      <td>NaN</td>\n",
       "    </tr>\n",
       "    <tr>\n",
       "      <th>22</th>\n",
       "      <td>2599.0</td>\n",
       "      <td>1.0</td>\n",
       "    </tr>\n",
       "    <tr>\n",
       "      <th>23</th>\n",
       "      <td>1999.0</td>\n",
       "      <td>2.0</td>\n",
       "    </tr>\n",
       "    <tr>\n",
       "      <th>24</th>\n",
       "      <td>1999.0</td>\n",
       "      <td>2.0</td>\n",
       "    </tr>\n",
       "  </tbody>\n",
       "</table>\n",
       "</div>"
      ],
      "text/plain": [
       "                item_price_mean  item_cnt_sum\n",
       "date_block_num                               \n",
       "20                       2599.0           1.0\n",
       "21                          NaN           NaN\n",
       "22                       2599.0           1.0\n",
       "23                       1999.0           2.0\n",
       "24                       1999.0           2.0"
      ]
     },
     "execution_count": 12,
     "metadata": {},
     "output_type": "execute_result"
    }
   ],
   "source": [
    "data = pd.merge(pd.DataFrame({'date_block_num': np.arange(data.index.min(), 34)}).set_index('date_block_num'),\n",
    "         data, how='left', left_index=True, right_index=True)\n",
    "data.head()"
   ]
  },
  {
   "cell_type": "code",
   "execution_count": 13,
   "metadata": {
    "colab": {
     "base_uri": "https://localhost:8080/",
     "height": 235
    },
    "colab_type": "code",
    "id": "uLxCdCYoBRSF",
    "outputId": "bc04125c-7111-43ec-e488-3811886e9240"
   },
   "outputs": [
    {
     "data": {
      "text/html": [
       "<div>\n",
       "<style scoped>\n",
       "    .dataframe tbody tr th:only-of-type {\n",
       "        vertical-align: middle;\n",
       "    }\n",
       "\n",
       "    .dataframe tbody tr th {\n",
       "        vertical-align: top;\n",
       "    }\n",
       "\n",
       "    .dataframe thead th {\n",
       "        text-align: right;\n",
       "    }\n",
       "</style>\n",
       "<table border=\"1\" class=\"dataframe\">\n",
       "  <thead>\n",
       "    <tr style=\"text-align: right;\">\n",
       "      <th></th>\n",
       "      <th>item_price_mean</th>\n",
       "      <th>item_cnt_sum</th>\n",
       "    </tr>\n",
       "    <tr>\n",
       "      <th>date_block_num</th>\n",
       "      <th></th>\n",
       "      <th></th>\n",
       "    </tr>\n",
       "  </thead>\n",
       "  <tbody>\n",
       "    <tr>\n",
       "      <th>29</th>\n",
       "      <td>1499.0</td>\n",
       "      <td>1.0</td>\n",
       "    </tr>\n",
       "    <tr>\n",
       "      <th>30</th>\n",
       "      <td>1499.0</td>\n",
       "      <td>1.0</td>\n",
       "    </tr>\n",
       "    <tr>\n",
       "      <th>31</th>\n",
       "      <td>1000.0</td>\n",
       "      <td>3.0</td>\n",
       "    </tr>\n",
       "    <tr>\n",
       "      <th>32</th>\n",
       "      <td>750.0</td>\n",
       "      <td>1.0</td>\n",
       "    </tr>\n",
       "    <tr>\n",
       "      <th>33</th>\n",
       "      <td>NaN</td>\n",
       "      <td>NaN</td>\n",
       "    </tr>\n",
       "  </tbody>\n",
       "</table>\n",
       "</div>"
      ],
      "text/plain": [
       "                item_price_mean  item_cnt_sum\n",
       "date_block_num                               \n",
       "29                       1499.0           1.0\n",
       "30                       1499.0           1.0\n",
       "31                       1000.0           3.0\n",
       "32                        750.0           1.0\n",
       "33                          NaN           NaN"
      ]
     },
     "execution_count": 13,
     "metadata": {},
     "output_type": "execute_result"
    }
   ],
   "source": [
    "data.tail()"
   ]
  },
  {
   "cell_type": "code",
   "execution_count": 14,
   "metadata": {
    "colab": {
     "base_uri": "https://localhost:8080/",
     "height": 235
    },
    "colab_type": "code",
    "id": "jhEwOYbOBRSa",
    "outputId": "c2fb9a98-40cb-4cac-e6e5-9593585f892a"
   },
   "outputs": [
    {
     "data": {
      "text/html": [
       "<div>\n",
       "<style scoped>\n",
       "    .dataframe tbody tr th:only-of-type {\n",
       "        vertical-align: middle;\n",
       "    }\n",
       "\n",
       "    .dataframe tbody tr th {\n",
       "        vertical-align: top;\n",
       "    }\n",
       "\n",
       "    .dataframe thead th {\n",
       "        text-align: right;\n",
       "    }\n",
       "</style>\n",
       "<table border=\"1\" class=\"dataframe\">\n",
       "  <thead>\n",
       "    <tr style=\"text-align: right;\">\n",
       "      <th></th>\n",
       "      <th>item_price_mean</th>\n",
       "      <th>item_cnt_sum</th>\n",
       "    </tr>\n",
       "    <tr>\n",
       "      <th>date_block_num</th>\n",
       "      <th></th>\n",
       "      <th></th>\n",
       "    </tr>\n",
       "  </thead>\n",
       "  <tbody>\n",
       "    <tr>\n",
       "      <th>20</th>\n",
       "      <td>2599</td>\n",
       "      <td>1</td>\n",
       "    </tr>\n",
       "    <tr>\n",
       "      <th>21</th>\n",
       "      <td>2599</td>\n",
       "      <td>0</td>\n",
       "    </tr>\n",
       "    <tr>\n",
       "      <th>22</th>\n",
       "      <td>2599</td>\n",
       "      <td>1</td>\n",
       "    </tr>\n",
       "    <tr>\n",
       "      <th>23</th>\n",
       "      <td>1999</td>\n",
       "      <td>2</td>\n",
       "    </tr>\n",
       "    <tr>\n",
       "      <th>24</th>\n",
       "      <td>1999</td>\n",
       "      <td>2</td>\n",
       "    </tr>\n",
       "  </tbody>\n",
       "</table>\n",
       "</div>"
      ],
      "text/plain": [
       "                item_price_mean  item_cnt_sum\n",
       "date_block_num                               \n",
       "20                         2599             1\n",
       "21                         2599             0\n",
       "22                         2599             1\n",
       "23                         1999             2\n",
       "24                         1999             2"
      ]
     },
     "execution_count": 14,
     "metadata": {},
     "output_type": "execute_result"
    }
   ],
   "source": [
    "data['item_cnt_sum'] = data['item_cnt_sum'].fillna(0).astype(np.int32)\n",
    "data['item_price_mean'] = data['item_price_mean'].fillna(method='bfill').fillna(method='ffill').astype(np.int32)\n",
    "data.head()"
   ]
  },
  {
   "cell_type": "code",
   "execution_count": 15,
   "metadata": {
    "colab": {
     "base_uri": "https://localhost:8080/",
     "height": 235
    },
    "colab_type": "code",
    "id": "KXMbd-bBBRSv",
    "outputId": "d9494797-e461-4ab3-a166-c027ca27141f"
   },
   "outputs": [
    {
     "data": {
      "text/html": [
       "<div>\n",
       "<style scoped>\n",
       "    .dataframe tbody tr th:only-of-type {\n",
       "        vertical-align: middle;\n",
       "    }\n",
       "\n",
       "    .dataframe tbody tr th {\n",
       "        vertical-align: top;\n",
       "    }\n",
       "\n",
       "    .dataframe thead th {\n",
       "        text-align: right;\n",
       "    }\n",
       "</style>\n",
       "<table border=\"1\" class=\"dataframe\">\n",
       "  <thead>\n",
       "    <tr style=\"text-align: right;\">\n",
       "      <th></th>\n",
       "      <th>item_price_mean</th>\n",
       "      <th>item_cnt_sum</th>\n",
       "    </tr>\n",
       "    <tr>\n",
       "      <th>date_block_num</th>\n",
       "      <th></th>\n",
       "      <th></th>\n",
       "    </tr>\n",
       "  </thead>\n",
       "  <tbody>\n",
       "    <tr>\n",
       "      <th>29</th>\n",
       "      <td>1499</td>\n",
       "      <td>1</td>\n",
       "    </tr>\n",
       "    <tr>\n",
       "      <th>30</th>\n",
       "      <td>1499</td>\n",
       "      <td>1</td>\n",
       "    </tr>\n",
       "    <tr>\n",
       "      <th>31</th>\n",
       "      <td>1000</td>\n",
       "      <td>3</td>\n",
       "    </tr>\n",
       "    <tr>\n",
       "      <th>32</th>\n",
       "      <td>750</td>\n",
       "      <td>1</td>\n",
       "    </tr>\n",
       "    <tr>\n",
       "      <th>33</th>\n",
       "      <td>750</td>\n",
       "      <td>0</td>\n",
       "    </tr>\n",
       "  </tbody>\n",
       "</table>\n",
       "</div>"
      ],
      "text/plain": [
       "                item_price_mean  item_cnt_sum\n",
       "date_block_num                               \n",
       "29                         1499             1\n",
       "30                         1499             1\n",
       "31                         1000             3\n",
       "32                          750             1\n",
       "33                          750             0"
      ]
     },
     "execution_count": 15,
     "metadata": {},
     "output_type": "execute_result"
    }
   ],
   "source": [
    "data.tail()"
   ]
  },
  {
   "cell_type": "code",
   "execution_count": 16,
   "metadata": {
    "colab": {
     "base_uri": "https://localhost:8080/",
     "height": 406
    },
    "colab_type": "code",
    "id": "K_h4gkZEBRTI",
    "outputId": "97df6481-6c3f-486c-ce7e-fbe608108099"
   },
   "outputs": [
    {
     "data": {
      "text/plain": [
       "<matplotlib.axes._subplots.AxesSubplot at 0x7f27e426e0f0>"
      ]
     },
     "execution_count": 16,
     "metadata": {},
     "output_type": "execute_result"
    },
    {
     "data": {
      "image/png": "[encoded data removed]",
      "text/plain": [
       "<Figure size 1080x432 with 1 Axes>"
      ]
     },
     "metadata": {
      "needs_background": "light"
     },
     "output_type": "display_data"
    }
   ],
   "source": [
    "data['item_price_mean'].plot(marker='o')"
   ]
  },
  {
   "cell_type": "code",
   "execution_count": 17,
   "metadata": {
    "colab": {
     "base_uri": "https://localhost:8080/",
     "height": 406
    },
    "colab_type": "code",
    "id": "_zZ6HoYkBRTz",
    "outputId": "40c15574-c9f0-4240-c644-1ff64e5fa2da"
   },
   "outputs": [
    {
     "data": {
      "text/plain": [
       "<matplotlib.axes._subplots.AxesSubplot at 0x7f27db0a1e80>"
      ]
     },
     "execution_count": 17,
     "metadata": {},
     "output_type": "execute_result"
    },
    {
     "data": {
      "image/png": "[encoded data removed]",
      "text/plain": [
       "<Figure size 1080x432 with 1 Axes>"
      ]
     },
     "metadata": {
      "needs_background": "light"
     },
     "output_type": "display_data"
    }
   ],
   "source": [
    "data['item_cnt_sum'].plot(marker='o')"
   ]
  },
  {
   "cell_type": "code",
   "execution_count": 18,
   "metadata": {
    "colab": {
     "base_uri": "https://localhost:8080/",
     "height": 413
    },
    "colab_type": "code",
    "id": "8XY_e7vTBRUH",
    "outputId": "529cb266-13f4-46fe-ff16-74a0e5ebdb66"
   },
   "outputs": [
    {
     "data": {
      "text/plain": [
       "array([<matplotlib.axes._subplots.AxesSubplot object at 0x7f27db056358>,\n",
       "       <matplotlib.axes._subplots.AxesSubplot object at 0x7f27986b7908>],\n",
       "      dtype=object)"
      ]
     },
     "execution_count": 18,
     "metadata": {},
     "output_type": "execute_result"
    },
    {
     "data": {
      "image/png": "[encoded data removed]",
      "text/plain": [
       "<Figure size 1080x432 with 2 Axes>"
      ]
     },
     "metadata": {
      "needs_background": "light"
     },
     "output_type": "display_data"
    }
   ],
   "source": [
    "data.plot(marker='.', alpha=0.5, subplots=True)"
   ]
  },
  {
   "cell_type": "code",
   "execution_count": 0,
   "metadata": {
    "colab": {},
    "colab_type": "code",
    "id": "rQYws8lUBRUi"
   },
   "outputs": [],
   "source": []
  },
  {
   "cell_type": "markdown",
   "metadata": {
    "colab_type": "raw",
    "id": "Xa7utEnmBRU9"
   },
   "source": [
    "# definir períodos a serem considerados no modelo\n",
    "periodo1 = 1.0\n",
    "periodo2 = 365.25\n",
    "\n",
    "# definir data inicial de corte\n",
    "data_inicio_amostra = '2014-11'"
   ]
  },
  {
   "cell_type": "markdown",
   "metadata": {
    "colab_type": "raw",
    "id": "IuHimydzBRVE"
   },
   "source": [
    "print('Períodos sazonais: (%.2f, %.2f)' % (periodo1, periodo2))\n",
    "print('Data de início da amostra:', data_inicio_amostra)"
   ]
  },
  {
   "cell_type": "code",
   "execution_count": 0,
   "metadata": {
    "colab": {},
    "colab_type": "code",
    "id": "qUA2sez_BRVJ"
   },
   "outputs": [],
   "source": []
  },
  {
   "cell_type": "code",
   "execution_count": 19,
   "metadata": {
    "colab": {
     "base_uri": "https://localhost:8080/",
     "height": 68
    },
    "colab_type": "code",
    "id": "rI_By1zDBRVl",
    "outputId": "e092392b-52ec-4748-a5dd-67c0ae747e8c"
   },
   "outputs": [
    {
     "name": "stdout",
     "output_type": "stream",
     "text": [
      "Tamanho: 14 \n",
      "Corte:   11 \n",
      "Resto:    3  \n"
     ]
    }
   ],
   "source": [
    "y = data['item_cnt_sum']\n",
    "\n",
    "tamanho = len(y)\n",
    "corte = int(np.ceil(tamanho * 0.75))\n",
    "resto = tamanho - corte\n",
    "print('Tamanho: %-3d\\nCorte:   %-3d\\nResto:    %-3d' % (tamanho, corte, resto))\n",
    "\n",
    "y_train = y.iloc[:corte]\n",
    "y_test = y.iloc[corte:]"
   ]
  },
  {
   "cell_type": "code",
   "execution_count": 20,
   "metadata": {
    "colab": {
     "base_uri": "https://localhost:8080/",
     "height": 136
    },
    "colab_type": "code",
    "id": "IOS1q2wjBRWA",
    "outputId": "99e77a1a-cea2-4635-f337-ba2868edbbc5"
   },
   "outputs": [
    {
     "data": {
      "text/plain": [
       "date_block_num\n",
       "20    1\n",
       "21    0\n",
       "22    1\n",
       "23    2\n",
       "24    2\n",
       "Name: item_cnt_sum, dtype: int32"
      ]
     },
     "execution_count": 20,
     "metadata": {},
     "output_type": "execute_result"
    }
   ],
   "source": [
    "y_train[:5]"
   ]
  },
  {
   "cell_type": "code",
   "execution_count": 21,
   "metadata": {
    "colab": {
     "base_uri": "https://localhost:8080/",
     "height": 102
    },
    "colab_type": "code",
    "id": "hAXAexuVBRWR",
    "outputId": "f2a5869d-b02c-4f3f-922a-820aaf9f95ed"
   },
   "outputs": [
    {
     "data": {
      "text/plain": [
       "date_block_num\n",
       "31    3\n",
       "32    1\n",
       "33    0\n",
       "Name: item_cnt_sum, dtype: int32"
      ]
     },
     "execution_count": 21,
     "metadata": {},
     "output_type": "execute_result"
    }
   ],
   "source": [
    "y_test[-5:]"
   ]
  },
  {
   "cell_type": "code",
   "execution_count": 22,
   "metadata": {
    "colab": {
     "base_uri": "https://localhost:8080/",
     "height": 51
    },
    "colab_type": "code",
    "id": "PEPYO-5zBRWj",
    "outputId": "5c0f5897-86f2-4bd9-ee6d-d32c428d9060"
   },
   "outputs": [
    {
     "name": "stdout",
     "output_type": "stream",
     "text": [
      "CPU times: user 375 ms, sys: 75.6 ms, total: 451 ms\n",
      "Wall time: 2.66 s\n"
     ]
    }
   ],
   "source": [
    "# Fit the model\n",
    "estimator = TBATS(seasonal_periods=(12,), n_jobs=8)\n",
    "%time model = estimator.fit(y_train)"
   ]
  },
  {
   "cell_type": "code",
   "execution_count": 23,
   "metadata": {
    "colab": {
     "base_uri": "https://localhost:8080/",
     "height": 51
    },
    "colab_type": "code",
    "id": "VVZvCbTwBRW6",
    "outputId": "280e8039-a1db-4cc8-9ec5-d1fde3d4cfa6"
   },
   "outputs": [
    {
     "name": "stdout",
     "output_type": "stream",
     "text": [
      "[ 3.00000000e+00  1.00000000e+00 -5.55111512e-16]\n"
     ]
    },
    {
     "data": {
      "text/plain": [
       "array([3, 1, 0], dtype=int32)"
      ]
     },
     "execution_count": 23,
     "metadata": {},
     "output_type": "execute_result"
    }
   ],
   "source": [
    "# Forecast 365 days ahead\n",
    "y_forecast = model.forecast(steps=resto)\n",
    "print(y_forecast)\n",
    "\n",
    "y_forecast = y_forecast.round().astype(np.int32)\n",
    "y_forecast"
   ]
  },
  {
   "cell_type": "code",
   "execution_count": 25,
   "metadata": {
    "colab": {
     "base_uri": "https://localhost:8080/",
     "height": 34
    },
    "colab_type": "code",
    "id": "biN963EhBRXW",
    "outputId": "5423ac5a-50eb-433f-cf81-29c26321a559"
   },
   "outputs": [
    {
     "data": {
      "text/plain": [
       "array([3, 1, 0], dtype=int32)"
      ]
     },
     "execution_count": 25,
     "metadata": {},
     "output_type": "execute_result"
    }
   ],
   "source": [
    "y_true = y[-resto:].values\n",
    "y_true"
   ]
  },
  {
   "cell_type": "code",
   "execution_count": null,
   "metadata": {
    "colab": {},
    "colab_type": "code",
    "id": "AWux1UoJBRXz"
   },
   "outputs": [],
   "source": []
  },
  {
   "cell_type": "code",
   "execution_count": 26,
   "metadata": {
    "colab": {
     "base_uri": "https://localhost:8080/",
     "height": 68
    },
    "colab_type": "code",
    "id": "OwhVUuvqBRYG",
    "outputId": "e573c87c-520d-4335-a05f-7830395c0c73"
   },
   "outputs": [
    {
     "name": "stdout",
     "output_type": "stream",
     "text": [
      "MSE: 0.0\n",
      "MAE: 0.0\n",
      "R²: 1.0\n"
     ]
    }
   ],
   "source": [
    "from sklearn.metrics import mean_squared_error\n",
    "from sklearn.metrics import mean_absolute_error\n",
    "from sklearn.metrics import r2_score\n",
    "\n",
    "print('MSE:', mean_squared_error(y_true, y_forecast))\n",
    "print('MAE:', mean_absolute_error(y_true, y_forecast))\n",
    "print('R²:', r2_score(y_true, y_forecast))"
   ]
  },
  {
   "cell_type": "code",
   "execution_count": 27,
   "metadata": {
    "colab": {
     "base_uri": "https://localhost:8080/",
     "height": 51
    },
    "colab_type": "code",
    "id": "qVEXTwhFBRYp",
    "outputId": "58d5d5b2-3786-4dab-82de-a5df37518b3d"
   },
   "outputs": [
    {
     "name": "stdout",
     "output_type": "stream",
     "text": [
      "CPU times: user 442 ms, sys: 84 ms, total: 526 ms\n",
      "Wall time: 2.44 s\n"
     ]
    }
   ],
   "source": [
    "%time model = estimator.fit(y)"
   ]
  },
  {
   "cell_type": "code",
   "execution_count": 28,
   "metadata": {
    "colab": {
     "base_uri": "https://localhost:8080/",
     "height": 34
    },
    "colab_type": "code",
    "id": "H3F71NMpBRZE",
    "outputId": "7678455e-0809-44d1-c1c3-0a3e4029c9d5"
   },
   "outputs": [
    {
     "data": {
      "text/plain": [
       "array([1, 2, 2], dtype=int32)"
      ]
     },
     "execution_count": 28,
     "metadata": {},
     "output_type": "execute_result"
    }
   ],
   "source": [
    "y_pred = model.forecast(steps=3)\n",
    "y_pred = y_pred.round().clip(0, 20).astype(np.int32)\n",
    "y_pred"
   ]
  },
  {
   "cell_type": "code",
   "execution_count": null,
   "metadata": {
    "colab": {},
    "colab_type": "code",
    "id": "psuozP_DBRZn"
   },
   "outputs": [],
   "source": []
  },
  {
   "cell_type": "code",
   "execution_count": null,
   "metadata": {
    "colab": {},
    "colab_type": "code",
    "id": "2Q9cUByiBRa2"
   },
   "outputs": [],
   "source": []
  },
  {
   "cell_type": "code",
   "execution_count": 6,
   "metadata": {
    "colab": {
     "base_uri": "https://localhost:8080/",
     "height": 252
    },
    "colab_type": "code",
    "id": "c5Ffe_3QrSM6",
    "outputId": "96799aa5-3797-4c6a-bf63-56b656fa87db"
   },
   "outputs": [
    {
     "name": "stdout",
     "output_type": "stream",
     "text": [
      "shape: (214200, 2)\n"
     ]
    },
    {
     "data": {
      "text/html": [
       "<div>\n",
       "<style scoped>\n",
       "    .dataframe tbody tr th:only-of-type {\n",
       "        vertical-align: middle;\n",
       "    }\n",
       "\n",
       "    .dataframe tbody tr th {\n",
       "        vertical-align: top;\n",
       "    }\n",
       "\n",
       "    .dataframe thead th {\n",
       "        text-align: right;\n",
       "    }\n",
       "</style>\n",
       "<table border=\"1\" class=\"dataframe\">\n",
       "  <thead>\n",
       "    <tr style=\"text-align: right;\">\n",
       "      <th></th>\n",
       "      <th>shop_id</th>\n",
       "      <th>item_id</th>\n",
       "    </tr>\n",
       "    <tr>\n",
       "      <th>ID</th>\n",
       "      <th></th>\n",
       "      <th></th>\n",
       "    </tr>\n",
       "  </thead>\n",
       "  <tbody>\n",
       "    <tr>\n",
       "      <th>0</th>\n",
       "      <td>5</td>\n",
       "      <td>5037</td>\n",
       "    </tr>\n",
       "    <tr>\n",
       "      <th>1</th>\n",
       "      <td>5</td>\n",
       "      <td>5320</td>\n",
       "    </tr>\n",
       "    <tr>\n",
       "      <th>2</th>\n",
       "      <td>5</td>\n",
       "      <td>5233</td>\n",
       "    </tr>\n",
       "    <tr>\n",
       "      <th>3</th>\n",
       "      <td>5</td>\n",
       "      <td>5232</td>\n",
       "    </tr>\n",
       "    <tr>\n",
       "      <th>4</th>\n",
       "      <td>5</td>\n",
       "      <td>5268</td>\n",
       "    </tr>\n",
       "  </tbody>\n",
       "</table>\n",
       "</div>"
      ],
      "text/plain": [
       "    shop_id  item_id\n",
       "ID                  \n",
       "0         5     5037\n",
       "1         5     5320\n",
       "2         5     5233\n",
       "3         5     5232\n",
       "4         5     5268"
      ]
     },
     "execution_count": 6,
     "metadata": {},
     "output_type": "execute_result"
    }
   ],
   "source": [
    "df_test = pd.read_csv(\n",
    "    input_prefix + 'test.csv' + bzfile, #nrows=10000,\n",
    "    dtype={'shop_id': np.int8, 'item_id': np.int16},\n",
    "    index_col='ID')\n",
    "print('shape:', df_test.shape)\n",
    "df_test.head()"
   ]
  },
  {
   "cell_type": "code",
   "execution_count": 36,
   "metadata": {
    "colab": {},
    "colab_type": "code",
    "id": "X1cBBiqhIbKC"
   },
   "outputs": [],
   "source": [
    "#!rm -f prediction.csv && touch prediction.csv"
   ]
  },
  {
   "cell_type": "code",
   "execution_count": 7,
   "metadata": {
    "colab": {
     "base_uri": "https://localhost:8080/",
     "height": 34
    },
    "colab_type": "code",
    "id": "sO0LaMhBI2Xv",
    "outputId": "7f3b9afd-4a4a-44b0-98e5-2e4b2ba32729"
   },
   "outputs": [
    {
     "name": "stdout",
     "output_type": "stream",
     "text": [
      "File already exists. Resuming from ID #60980\n"
     ]
    }
   ],
   "source": [
    "filename = 'prediction.csv'\n",
    "last_id = None\n",
    "\n",
    "with open(filename) as infile:\n",
    "  empty = (infile.read(1) == '')\n",
    "  if (not empty):\n",
    "    last_line = list(infile)[-1]\n",
    "    last_id = int(last_line.split(',')[0])\n",
    "infile.close()\n",
    "\n",
    "outfile = open(filename, \"a+\", buffering=100)\n",
    "if (empty):\n",
    "  outfile.write('ID,item_cnt_month\\n')\n",
    "  print('File does not exist. Creating one.')\n",
    "else:\n",
    "  print('File already exists. Resuming from ID #%d' % last_id)\n",
    "\n",
    "#for i in range(0, 10):\n",
    "#  outfile.write(\"%d,%.1f\\n\" % (i, i%7))\n",
    "#outfile.close()"
   ]
  },
  {
   "cell_type": "code",
   "execution_count": 8,
   "metadata": {
    "colab": {
     "base_uri": "https://localhost:8080/",
     "height": 187
    },
    "colab_type": "code",
    "id": "Z8Ho6up-KX92",
    "outputId": "1bfc7313-8372-46b7-dac8-15f84ad5ee16"
   },
   "outputs": [
    {
     "name": "stdout",
     "output_type": "stream",
     "text": [
      "60971,0.0\r\n",
      "60972,0.0\r\n",
      "60973,0.0\r\n",
      "60974,1.0\r\n",
      "60975,0.0\r\n",
      "60976,0.0\r\n",
      "60977,1.0\r\n",
      "60978,0.0\r\n",
      "60979,1.0\r\n",
      "60980,1.0\r\n"
     ]
    }
   ],
   "source": [
    "!tail prediction.csv"
   ]
  },
  {
   "cell_type": "code",
   "execution_count": null,
   "metadata": {
    "colab": {},
    "colab_type": "code",
    "id": "06WU70UcBRco",
    "scrolled": true
   },
   "outputs": [
    {
     "name": "stdout",
     "output_type": "stream",
     "text": [
      "60990 25 16231 2.0\n"
     ]
    },
    {
     "name": "stderr",
     "output_type": "stream",
     "text": [
      "/dados/anaconda3/lib/python3.7/site-packages/tbats/error/ExceptionHandler.py:13: ModelWarning: Optimization did not converge. Forecasts may be unstable.\n",
      "  warnings.warn(message, warning_type)\n"
     ]
    },
    {
     "name": "stdout",
     "output_type": "stream",
     "text": [
      "61000 25 17015 0\n",
      "61010 25 13133 0.0\n",
      "61020 25 14222 1.0\n",
      "61030 25 13812 1.0\n",
      "61040 25 5010 0.0\n",
      "61050 25 21210 0\n",
      "61060 25 20916 4.0\n",
      "61070 25 21664 0\n",
      "61080 25 3232 0\n",
      "61090 25 3547 1.0\n",
      "61100 25 18707 0\n",
      "61110 25 11674 0\n"
     ]
    },
    {
     "name": "stderr",
     "output_type": "stream",
     "text": [
      "/dados/anaconda3/lib/python3.7/site-packages/tbats/error/ExceptionHandler.py:13: ModelWarning: Optimization did not converge. Forecasts may be unstable.\n",
      "  warnings.warn(message, warning_type)\n"
     ]
    },
    {
     "name": "stdout",
     "output_type": "stream",
     "text": [
      "61120 25 16057 7.0\n",
      "61130 25 15033 0\n",
      "61140 25 10508 0.0\n",
      "61150 25 7572 0\n",
      "61160 25 6882 0.0\n",
      "61170 25 14543 0\n",
      "61180 25 19889 0.0\n"
     ]
    },
    {
     "name": "stderr",
     "output_type": "stream",
     "text": [
      "/dados/anaconda3/lib/python3.7/site-packages/tbats/error/ExceptionHandler.py:13: ModelWarning: Optimization did not converge. Forecasts may be unstable.\n",
      "  warnings.warn(message, warning_type)\n"
     ]
    },
    {
     "name": "stdout",
     "output_type": "stream",
     "text": [
      "61190 25 3280 1.0\n"
     ]
    },
    {
     "name": "stderr",
     "output_type": "stream",
     "text": [
      "/dados/anaconda3/lib/python3.7/site-packages/tbats/error/ExceptionHandler.py:13: ModelWarning: Optimization did not converge. Forecasts may be unstable.\n",
      "  warnings.warn(message, warning_type)\n"
     ]
    },
    {
     "name": "stdout",
     "output_type": "stream",
     "text": [
      "61200 22 5037 0.0\n",
      "61210 22 4806 1.0\n"
     ]
    },
    {
     "name": "stderr",
     "output_type": "stream",
     "text": [
      "/dados/anaconda3/lib/python3.7/site-packages/tbats/error/ExceptionHandler.py:13: ModelWarning: Optimization did not converge. Forecasts may be unstable.\n",
      "  warnings.warn(message, warning_type)\n"
     ]
    },
    {
     "name": "stdout",
     "output_type": "stream",
     "text": [
      "61220 22 4717 0.0\n",
      "61230 22 5666 6.0\n"
     ]
    },
    {
     "name": "stderr",
     "output_type": "stream",
     "text": [
      "/dados/anaconda3/lib/python3.7/site-packages/tbats/error/ExceptionHandler.py:13: ModelWarning: Optimization did not converge. Forecasts may be unstable.\n",
      "  warnings.warn(message, warning_type)\n"
     ]
    },
    {
     "name": "stdout",
     "output_type": "stream",
     "text": [
      "61240 22 5840 0\n",
      "61250 22 5838 0\n",
      "61260 22 3352 0\n"
     ]
    },
    {
     "name": "stderr",
     "output_type": "stream",
     "text": [
      "/dados/anaconda3/lib/python3.7/site-packages/tbats/error/ExceptionHandler.py:13: ModelWarning: Optimization did not converge. Forecasts may be unstable.\n",
      "  warnings.warn(message, warning_type)\n"
     ]
    },
    {
     "name": "stdout",
     "output_type": "stream",
     "text": [
      "61270 22 3604 0\n",
      "61280 22 3443 5.0\n",
      "61290 22 4365 0\n",
      "61300 22 3733 0.0\n",
      "61310 22 4052 0.0\n",
      "61320 22 9395 0.0\n",
      "61330 22 9469 0\n",
      "61340 22 8653 0\n",
      "61350 22 9001 1.0\n",
      "61360 22 10447 0\n"
     ]
    },
    {
     "name": "stderr",
     "output_type": "stream",
     "text": [
      "/dados/anaconda3/lib/python3.7/site-packages/tbats/error/ExceptionHandler.py:13: ModelWarning: Optimization did not converge. Forecasts may be unstable.\n",
      "  warnings.warn(message, warning_type)\n",
      "/dados/anaconda3/lib/python3.7/site-packages/tbats/error/ExceptionHandler.py:13: ModelWarning: Optimization did not converge. Forecasts may be unstable.\n",
      "  warnings.warn(message, warning_type)\n"
     ]
    },
    {
     "name": "stdout",
     "output_type": "stream",
     "text": [
      "61370 22 10327 0\n"
     ]
    },
    {
     "name": "stderr",
     "output_type": "stream",
     "text": [
      "/dados/anaconda3/lib/python3.7/site-packages/tbats/error/ExceptionHandler.py:13: ModelWarning: Optimization did not converge. Forecasts may be unstable.\n",
      "  warnings.warn(message, warning_type)\n",
      "/dados/anaconda3/lib/python3.7/site-packages/tbats/error/ExceptionHandler.py:13: ModelWarning: Optimization did not converge. Forecasts may be unstable.\n",
      "  warnings.warn(message, warning_type)\n"
     ]
    },
    {
     "name": "stdout",
     "output_type": "stream",
     "text": [
      "61380 22 9927 0\n",
      "61390 22 6506 0\n",
      "61400 22 6731 0\n"
     ]
    },
    {
     "name": "stderr",
     "output_type": "stream",
     "text": [
      "/dados/anaconda3/lib/python3.7/site-packages/tbats/error/ExceptionHandler.py:13: ModelWarning: Optimization did not converge. Forecasts may be unstable.\n",
      "  warnings.warn(message, warning_type)\n"
     ]
    },
    {
     "name": "stdout",
     "output_type": "stream",
     "text": [
      "61410 22 6396 0.0\n",
      "61420 22 6064 6.0\n",
      "61430 22 7862 0\n",
      "61440 22 7328 2.0\n",
      "61450 22 7029 0\n",
      "61460 22 15777 0.0\n",
      "61470 22 16843 5.0\n",
      "61480 22 15496 0\n"
     ]
    },
    {
     "name": "stderr",
     "output_type": "stream",
     "text": [
      "/dados/anaconda3/lib/python3.7/site-packages/tbats/error/ExceptionHandler.py:13: ModelWarning: Optimization did not converge. Forecasts may be unstable.\n",
      "  warnings.warn(message, warning_type)\n"
     ]
    },
    {
     "name": "stdout",
     "output_type": "stream",
     "text": [
      "61490 22 16103 5.0\n"
     ]
    },
    {
     "name": "stderr",
     "output_type": "stream",
     "text": [
      "/dados/anaconda3/lib/python3.7/site-packages/tbats/error/ExceptionHandler.py:13: ModelWarning: Optimization did not converge. Forecasts may be unstable.\n",
      "  warnings.warn(message, warning_type)\n"
     ]
    },
    {
     "name": "stdout",
     "output_type": "stream",
     "text": [
      "61500 22 18825 0.0\n",
      "61510 22 19656 0\n",
      "61520 22 18397 0\n",
      "61530 22 15338 0\n"
     ]
    },
    {
     "name": "stderr",
     "output_type": "stream",
     "text": [
      "/dados/anaconda3/lib/python3.7/site-packages/tbats/error/ExceptionHandler.py:13: ModelWarning: Optimization did not converge. Forecasts may be unstable.\n",
      "  warnings.warn(message, warning_type)\n"
     ]
    },
    {
     "name": "stdout",
     "output_type": "stream",
     "text": [
      "61540 22 13023 0.0\n",
      "61550 22 13415 0\n",
      "61560 22 13464 0\n",
      "61570 22 14832 0\n",
      "61580 22 15069 0\n"
     ]
    },
    {
     "name": "stderr",
     "output_type": "stream",
     "text": [
      "/dados/anaconda3/lib/python3.7/site-packages/tbats/error/ExceptionHandler.py:13: ModelWarning: Optimization did not converge. Forecasts may be unstable.\n",
      "  warnings.warn(message, warning_type)\n",
      "/dados/anaconda3/lib/python3.7/site-packages/tbats/error/ExceptionHandler.py:13: ModelWarning: Optimization did not converge. Forecasts may be unstable.\n",
      "  warnings.warn(message, warning_type)\n",
      "/dados/anaconda3/lib/python3.7/site-packages/tbats/error/ExceptionHandler.py:13: ModelWarning: Optimization did not converge. Forecasts may be unstable.\n",
      "  warnings.warn(message, warning_type)\n"
     ]
    },
    {
     "name": "stdout",
     "output_type": "stream",
     "text": [
      "61590 22 15037 0\n",
      "61600 22 2131 0\n"
     ]
    },
    {
     "name": "stderr",
     "output_type": "stream",
     "text": [
      "/dados/anaconda3/lib/python3.7/site-packages/tbats/error/ExceptionHandler.py:13: ModelWarning: Optimization did not converge. Forecasts may be unstable.\n",
      "  warnings.warn(message, warning_type)\n",
      "/dados/anaconda3/lib/python3.7/site-packages/tbats/error/ExceptionHandler.py:13: ModelWarning: Optimization did not converge. Forecasts may be unstable.\n",
      "  warnings.warn(message, warning_type)\n",
      "/dados/anaconda3/lib/python3.7/site-packages/tbats/error/ExceptionHandler.py:13: ModelWarning: Optimization did not converge. Forecasts may be unstable.\n",
      "  warnings.warn(message, warning_type)\n"
     ]
    },
    {
     "name": "stdout",
     "output_type": "stream",
     "text": [
      "61610 22 1732 0\n"
     ]
    },
    {
     "name": "stderr",
     "output_type": "stream",
     "text": [
      "/dados/anaconda3/lib/python3.7/site-packages/tbats/error/ExceptionHandler.py:13: ModelWarning: Optimization did not converge. Forecasts may be unstable.\n",
      "  warnings.warn(message, warning_type)\n",
      "/dados/anaconda3/lib/python3.7/site-packages/tbats/error/ExceptionHandler.py:13: ModelWarning: Optimization did not converge. Forecasts may be unstable.\n",
      "  warnings.warn(message, warning_type)\n"
     ]
    },
    {
     "name": "stdout",
     "output_type": "stream",
     "text": [
      "61620 22 2574 0.0\n",
      "61630 22 3076 0.0\n"
     ]
    },
    {
     "name": "stderr",
     "output_type": "stream",
     "text": [
      "/dados/anaconda3/lib/python3.7/site-packages/tbats/error/ExceptionHandler.py:13: ModelWarning: Optimization did not converge. Forecasts may be unstable.\n",
      "  warnings.warn(message, warning_type)\n"
     ]
    },
    {
     "name": "stdout",
     "output_type": "stream",
     "text": [
      "61640 22 2779 1.0\n",
      "61650 22 2873 0\n"
     ]
    },
    {
     "name": "stderr",
     "output_type": "stream",
     "text": [
      "/dados/anaconda3/lib/python3.7/site-packages/tbats/error/ExceptionHandler.py:13: ModelWarning: Optimization did not converge. Forecasts may be unstable.\n",
      "  warnings.warn(message, warning_type)\n"
     ]
    },
    {
     "name": "stdout",
     "output_type": "stream",
     "text": [
      "61660 22 20949 20.0\n",
      "61670 22 21937 0\n",
      "61680 22 20400 0\n",
      "61690 22 20616 0\n",
      "61700 22 1585 0\n"
     ]
    },
    {
     "name": "stderr",
     "output_type": "stream",
     "text": [
      "/dados/anaconda3/lib/python3.7/site-packages/tbats/error/ExceptionHandler.py:13: ModelWarning: Optimization did not converge. Forecasts may be unstable.\n",
      "  warnings.warn(message, warning_type)\n"
     ]
    },
    {
     "name": "stdout",
     "output_type": "stream",
     "text": [
      "61710 22 982 0.0\n"
     ]
    },
    {
     "name": "stderr",
     "output_type": "stream",
     "text": [
      "/dados/anaconda3/lib/python3.7/site-packages/tbats/error/ExceptionHandler.py:13: ModelWarning: Optimization did not converge. Forecasts may be unstable.\n",
      "  warnings.warn(message, warning_type)\n"
     ]
    },
    {
     "name": "stdout",
     "output_type": "stream",
     "text": [
      "61720 22 1486 0.0\n"
     ]
    },
    {
     "name": "stderr",
     "output_type": "stream",
     "text": [
      "/dados/anaconda3/lib/python3.7/site-packages/tbats/error/ExceptionHandler.py:13: ModelWarning: Optimization did not converge. Forecasts may be unstable.\n",
      "  warnings.warn(message, warning_type)\n"
     ]
    },
    {
     "name": "stdout",
     "output_type": "stream",
     "text": [
      "61730 22 2328 0\n",
      "61740 22 2293 0.0\n",
      "61750 22 3022 0\n",
      "61760 22 2743 1.0\n",
      "61770 22 1963 0\n",
      "61780 22 1295 0\n",
      "61790 22 22100 0\n"
     ]
    },
    {
     "name": "stderr",
     "output_type": "stream",
     "text": [
      "/dados/anaconda3/lib/python3.7/site-packages/tbats/error/ExceptionHandler.py:13: ModelWarning: Optimization did not converge. Forecasts may be unstable.\n",
      "  warnings.warn(message, warning_type)\n"
     ]
    },
    {
     "name": "stdout",
     "output_type": "stream",
     "text": [
      "61800 22 482 5.0\n"
     ]
    },
    {
     "name": "stderr",
     "output_type": "stream",
     "text": [
      "/dados/anaconda3/lib/python3.7/site-packages/tbats/error/ExceptionHandler.py:13: ModelWarning: Optimization did not converge. Forecasts may be unstable.\n",
      "  warnings.warn(message, warning_type)\n"
     ]
    },
    {
     "name": "stdout",
     "output_type": "stream",
     "text": [
      "61810 22 1877 0.0\n"
     ]
    },
    {
     "name": "stderr",
     "output_type": "stream",
     "text": [
      "/dados/anaconda3/lib/python3.7/site-packages/tbats/error/ExceptionHandler.py:13: ModelWarning: Optimization did not converge. Forecasts may be unstable.\n",
      "  warnings.warn(message, warning_type)\n"
     ]
    },
    {
     "name": "stdout",
     "output_type": "stream",
     "text": [
      "61820 22 1570 0.0\n",
      "61830 22 4003 3.0\n",
      "61840 22 3851 0.0\n",
      "61850 22 4420 0.0\n"
     ]
    },
    {
     "name": "stderr",
     "output_type": "stream",
     "text": [
      "/dados/anaconda3/lib/python3.7/site-packages/tbats/error/ExceptionHandler.py:13: ModelWarning: Optimization did not converge. Forecasts may be unstable.\n",
      "  warnings.warn(message, warning_type)\n"
     ]
    },
    {
     "name": "stdout",
     "output_type": "stream",
     "text": [
      "61860 22 4085 6.0\n"
     ]
    },
    {
     "name": "stderr",
     "output_type": "stream",
     "text": [
      "/dados/anaconda3/lib/python3.7/site-packages/tbats/error/ExceptionHandler.py:13: ModelWarning: Optimization did not converge. Forecasts may be unstable.\n",
      "  warnings.warn(message, warning_type)\n"
     ]
    },
    {
     "name": "stdout",
     "output_type": "stream",
     "text": [
      "61870 22 3528 0.0\n"
     ]
    },
    {
     "name": "stderr",
     "output_type": "stream",
     "text": [
      "/dados/anaconda3/lib/python3.7/site-packages/tbats/error/ExceptionHandler.py:13: ModelWarning: Optimization did not converge. Forecasts may be unstable.\n",
      "  warnings.warn(message, warning_type)\n"
     ]
    },
    {
     "name": "stdout",
     "output_type": "stream",
     "text": [
      "61880 22 3459 0\n"
     ]
    },
    {
     "name": "stderr",
     "output_type": "stream",
     "text": [
      "/dados/anaconda3/lib/python3.7/site-packages/tbats/error/ExceptionHandler.py:13: ModelWarning: Optimization did not converge. Forecasts may be unstable.\n",
      "  warnings.warn(message, warning_type)\n"
     ]
    },
    {
     "name": "stdout",
     "output_type": "stream",
     "text": [
      "61890 22 12771 1.0\n",
      "61900 22 13334 0\n"
     ]
    },
    {
     "name": "stderr",
     "output_type": "stream",
     "text": [
      "/dados/anaconda3/lib/python3.7/site-packages/tbats/error/ExceptionHandler.py:13: ModelWarning: Optimization did not converge. Forecasts may be unstable.\n",
      "  warnings.warn(message, warning_type)\n"
     ]
    },
    {
     "name": "stdout",
     "output_type": "stream",
     "text": [
      "61910 22 15047 0.0\n",
      "61920 22 13818 0\n",
      "61930 22 12549 0.0\n",
      "61940 22 12698 0\n"
     ]
    },
    {
     "name": "stderr",
     "output_type": "stream",
     "text": [
      "/dados/anaconda3/lib/python3.7/site-packages/tbats/error/ExceptionHandler.py:13: ModelWarning: Optimization did not converge. Forecasts may be unstable.\n",
      "  warnings.warn(message, warning_type)\n"
     ]
    },
    {
     "name": "stdout",
     "output_type": "stream",
     "text": [
      "61950 22 12360 5.0\n",
      "61960 22 11811 1.0\n",
      "61970 22 12023 0\n",
      "61980 22 13275 0\n",
      "61990 22 13303 0\n",
      "62000 22 13226 0\n",
      "62010 22 20609 0.0\n"
     ]
    },
    {
     "name": "stderr",
     "output_type": "stream",
     "text": [
      "/dados/anaconda3/lib/python3.7/site-packages/tbats/error/ExceptionHandler.py:13: ModelWarning: Optimization did not converge. Forecasts may be unstable.\n",
      "  warnings.warn(message, warning_type)\n"
     ]
    },
    {
     "name": "stdout",
     "output_type": "stream",
     "text": [
      "62020 22 19430 0.0\n",
      "62030 22 21942 0\n",
      "62040 22 18201 0\n",
      "62050 22 16122 0.0\n",
      "62060 22 14668 0.0\n"
     ]
    },
    {
     "name": "stderr",
     "output_type": "stream",
     "text": [
      "/dados/anaconda3/lib/python3.7/site-packages/tbats/error/ExceptionHandler.py:13: ModelWarning: Optimization did not converge. Forecasts may be unstable.\n",
      "  warnings.warn(message, warning_type)\n"
     ]
    },
    {
     "name": "stdout",
     "output_type": "stream",
     "text": [
      "62070 22 15323 0.0\n"
     ]
    },
    {
     "name": "stderr",
     "output_type": "stream",
     "text": [
      "/dados/anaconda3/lib/python3.7/site-packages/tbats/error/ExceptionHandler.py:13: ModelWarning: Optimization did not converge. Forecasts may be unstable.\n",
      "  warnings.warn(message, warning_type)\n"
     ]
    },
    {
     "name": "stdout",
     "output_type": "stream",
     "text": [
      "62080 22 17481 0.0\n",
      "62090 22 16541 0.0\n",
      "62100 22 1239 0\n"
     ]
    },
    {
     "name": "stderr",
     "output_type": "stream",
     "text": [
      "/dados/anaconda3/lib/python3.7/site-packages/tbats/error/ExceptionHandler.py:13: ModelWarning: Optimization did not converge. Forecasts may be unstable.\n",
      "  warnings.warn(message, warning_type)\n"
     ]
    },
    {
     "name": "stdout",
     "output_type": "stream",
     "text": [
      "62110 22 20631 0.0\n"
     ]
    },
    {
     "name": "stderr",
     "output_type": "stream",
     "text": [
      "/dados/anaconda3/lib/python3.7/site-packages/tbats/error/ExceptionHandler.py:13: ModelWarning: Optimization did not converge. Forecasts may be unstable.\n",
      "  warnings.warn(message, warning_type)\n"
     ]
    },
    {
     "name": "stdout",
     "output_type": "stream",
     "text": [
      "62120 22 2787 0\n"
     ]
    },
    {
     "name": "stderr",
     "output_type": "stream",
     "text": [
      "/dados/anaconda3/lib/python3.7/site-packages/tbats/error/ExceptionHandler.py:13: ModelWarning: Optimization did not converge. Forecasts may be unstable.\n",
      "  warnings.warn(message, warning_type)\n"
     ]
    },
    {
     "name": "stdout",
     "output_type": "stream",
     "text": [
      "62130 22 15282 0\n",
      "62140 22 16145 3.0\n"
     ]
    },
    {
     "name": "stderr",
     "output_type": "stream",
     "text": [
      "/dados/anaconda3/lib/python3.7/site-packages/tbats/error/ExceptionHandler.py:13: ModelWarning: Optimization did not converge. Forecasts may be unstable.\n",
      "  warnings.warn(message, warning_type)\n"
     ]
    },
    {
     "name": "stdout",
     "output_type": "stream",
     "text": [
      "62150 22 19125 0\n",
      "62160 22 17032 0\n",
      "62170 22 5383 0\n",
      "62180 22 4895 0.0\n",
      "62190 22 6505 0\n",
      "62200 22 6082 7.0\n"
     ]
    },
    {
     "name": "stderr",
     "output_type": "stream",
     "text": [
      "/dados/anaconda3/lib/python3.7/site-packages/tbats/error/ExceptionHandler.py:13: ModelWarning: Optimization did not converge. Forecasts may be unstable.\n",
      "  warnings.warn(message, warning_type)\n",
      "/dados/anaconda3/lib/python3.7/site-packages/tbats/error/ExceptionHandler.py:13: ModelWarning: Optimization did not converge. Forecasts may be unstable.\n",
      "  warnings.warn(message, warning_type)\n"
     ]
    },
    {
     "name": "stdout",
     "output_type": "stream",
     "text": [
      "62210 22 3822 3.0\n",
      "62220 22 6129 0\n"
     ]
    },
    {
     "name": "stderr",
     "output_type": "stream",
     "text": [
      "/dados/anaconda3/lib/python3.7/site-packages/tbats/error/ExceptionHandler.py:13: ModelWarning: Optimization did not converge. Forecasts may be unstable.\n",
      "  warnings.warn(message, warning_type)\n"
     ]
    },
    {
     "name": "stdout",
     "output_type": "stream",
     "text": [
      "62230 22 3833 0.0\n",
      "62240 22 3871 0.0\n",
      "62250 22 13285 0.0\n"
     ]
    },
    {
     "name": "stderr",
     "output_type": "stream",
     "text": [
      "/dados/anaconda3/lib/python3.7/site-packages/tbats/error/ExceptionHandler.py:13: ModelWarning: Optimization did not converge. Forecasts may be unstable.\n",
      "  warnings.warn(message, warning_type)\n"
     ]
    },
    {
     "name": "stdout",
     "output_type": "stream",
     "text": [
      "62260 22 11938 0.0\n",
      "62270 22 14457 0.0\n"
     ]
    },
    {
     "name": "stderr",
     "output_type": "stream",
     "text": [
      "/dados/anaconda3/lib/python3.7/site-packages/tbats/error/ExceptionHandler.py:13: ModelWarning: Optimization did not converge. Forecasts may be unstable.\n",
      "  warnings.warn(message, warning_type)\n"
     ]
    },
    {
     "name": "stdout",
     "output_type": "stream",
     "text": [
      "62280 22 7982 0.0\n",
      "62290 22 7224 0\n",
      "62300 22 10211 0.0\n",
      "62310 22 9404 1.0\n",
      "62320 22 4049 1.0\n"
     ]
    },
    {
     "name": "stderr",
     "output_type": "stream",
     "text": [
      "/dados/anaconda3/lib/python3.7/site-packages/tbats/error/ExceptionHandler.py:13: ModelWarning: Optimization did not converge. Forecasts may be unstable.\n",
      "  warnings.warn(message, warning_type)\n"
     ]
    },
    {
     "name": "stdout",
     "output_type": "stream",
     "text": [
      "62330 22 4999 0.0\n",
      "62340 22 3342 0.0\n"
     ]
    },
    {
     "name": "stderr",
     "output_type": "stream",
     "text": [
      "/dados/anaconda3/lib/python3.7/site-packages/tbats/error/ExceptionHandler.py:13: ModelWarning: Optimization did not converge. Forecasts may be unstable.\n",
      "  warnings.warn(message, warning_type)\n"
     ]
    },
    {
     "name": "stdout",
     "output_type": "stream",
     "text": [
      "62350 22 10190 0\n"
     ]
    },
    {
     "name": "stderr",
     "output_type": "stream",
     "text": [
      "/dados/anaconda3/lib/python3.7/site-packages/tbats/error/ExceptionHandler.py:13: ModelWarning: Optimization did not converge. Forecasts may be unstable.\n",
      "  warnings.warn(message, warning_type)\n"
     ]
    },
    {
     "name": "stdout",
     "output_type": "stream",
     "text": [
      "62360 22 9408 0.0\n",
      "62370 22 13237 0\n"
     ]
    },
    {
     "name": "stderr",
     "output_type": "stream",
     "text": [
      "/dados/anaconda3/lib/python3.7/site-packages/tbats/error/ExceptionHandler.py:13: ModelWarning: Optimization did not converge. Forecasts may be unstable.\n",
      "  warnings.warn(message, warning_type)\n"
     ]
    },
    {
     "name": "stdout",
     "output_type": "stream",
     "text": [
      "62380 22 10987 2.0\n"
     ]
    },
    {
     "name": "stderr",
     "output_type": "stream",
     "text": [
      "/dados/anaconda3/lib/python3.7/site-packages/tbats/error/ExceptionHandler.py:13: ModelWarning: Optimization did not converge. Forecasts may be unstable.\n",
      "  warnings.warn(message, warning_type)\n"
     ]
    },
    {
     "name": "stdout",
     "output_type": "stream",
     "text": [
      "62390 22 6625 1.0\n",
      "62400 22 6090 0.0\n",
      "62410 22 7019 0.0\n",
      "62420 22 12500 0\n"
     ]
    },
    {
     "name": "stderr",
     "output_type": "stream",
     "text": [
      "/dados/anaconda3/lib/python3.7/site-packages/tbats/error/ExceptionHandler.py:13: ModelWarning: Optimization did not converge. Forecasts may be unstable.\n",
      "  warnings.warn(message, warning_type)\n"
     ]
    },
    {
     "name": "stdout",
     "output_type": "stream",
     "text": [
      "62430 22 10448 0\n",
      "62440 22 12805 0.0\n",
      "62450 22 14247 0\n",
      "62460 22 7133 0\n",
      "62470 22 10292 1.0\n",
      "62480 22 1007 0.0\n"
     ]
    },
    {
     "name": "stderr",
     "output_type": "stream",
     "text": [
      "/dados/anaconda3/lib/python3.7/site-packages/tbats/error/ExceptionHandler.py:13: ModelWarning: Optimization did not converge. Forecasts may be unstable.\n",
      "  warnings.warn(message, warning_type)\n"
     ]
    },
    {
     "name": "stdout",
     "output_type": "stream",
     "text": [
      "62490 22 1717 0.0\n",
      "62500 22 14390 0.0\n",
      "62510 22 19908 0.0\n",
      "62520 22 17888 0\n",
      "62530 22 21722 0\n",
      "62540 22 940 0\n",
      "62550 22 18926 0.0\n",
      "62560 22 17772 0\n"
     ]
    },
    {
     "name": "stderr",
     "output_type": "stream",
     "text": [
      "/dados/anaconda3/lib/python3.7/site-packages/tbats/error/ExceptionHandler.py:13: ModelWarning: Optimization did not converge. Forecasts may be unstable.\n",
      "  warnings.warn(message, warning_type)\n",
      "/dados/anaconda3/lib/python3.7/site-packages/tbats/error/ExceptionHandler.py:13: ModelWarning: Optimization did not converge. Forecasts may be unstable.\n",
      "  warnings.warn(message, warning_type)\n"
     ]
    },
    {
     "name": "stdout",
     "output_type": "stream",
     "text": [
      "62570 22 19219 0\n",
      "62580 22 20225 0.0\n",
      "62590 22 5816 1.0\n",
      "62600 22 8868 0\n"
     ]
    },
    {
     "name": "stderr",
     "output_type": "stream",
     "text": [
      "/dados/anaconda3/lib/python3.7/site-packages/tbats/error/ExceptionHandler.py:13: ModelWarning: Optimization did not converge. Forecasts may be unstable.\n",
      "  warnings.warn(message, warning_type)\n"
     ]
    },
    {
     "name": "stdout",
     "output_type": "stream",
     "text": [
      "62610 22 17459 0\n"
     ]
    },
    {
     "name": "stderr",
     "output_type": "stream",
     "text": [
      "/dados/anaconda3/lib/python3.7/site-packages/tbats/error/ExceptionHandler.py:13: ModelWarning: Optimization did not converge. Forecasts may be unstable.\n",
      "  warnings.warn(message, warning_type)\n",
      "/dados/anaconda3/lib/python3.7/site-packages/tbats/error/ExceptionHandler.py:13: ModelWarning: Optimization did not converge. Forecasts may be unstable.\n",
      "  warnings.warn(message, warning_type)\n",
      "/dados/anaconda3/lib/python3.7/site-packages/tbats/error/ExceptionHandler.py:13: ModelWarning: Optimization did not converge. Forecasts may be unstable.\n",
      "  warnings.warn(message, warning_type)\n"
     ]
    },
    {
     "name": "stdout",
     "output_type": "stream",
     "text": [
      "62620 22 17420 0.0\n",
      "62630 22 10812 0\n",
      "62640 22 11771 0\n",
      "62650 22 10554 0\n"
     ]
    },
    {
     "name": "stderr",
     "output_type": "stream",
     "text": [
      "/dados/anaconda3/lib/python3.7/site-packages/tbats/error/ExceptionHandler.py:13: ModelWarning: Optimization did not converge. Forecasts may be unstable.\n",
      "  warnings.warn(message, warning_type)\n"
     ]
    },
    {
     "name": "stdout",
     "output_type": "stream",
     "text": [
      "62660 22 10378 0.0\n"
     ]
    },
    {
     "name": "stderr",
     "output_type": "stream",
     "text": [
      "/dados/anaconda3/lib/python3.7/site-packages/tbats/error/ExceptionHandler.py:13: ModelWarning: Optimization did not converge. Forecasts may be unstable.\n",
      "  warnings.warn(message, warning_type)\n"
     ]
    },
    {
     "name": "stdout",
     "output_type": "stream",
     "text": [
      "62670 22 16125 0.0\n",
      "62680 22 15300 1.0\n",
      "62690 22 17270 1.0\n"
     ]
    },
    {
     "name": "stderr",
     "output_type": "stream",
     "text": [
      "/dados/anaconda3/lib/python3.7/site-packages/tbats/error/ExceptionHandler.py:13: ModelWarning: Optimization did not converge. Forecasts may be unstable.\n",
      "  warnings.warn(message, warning_type)\n"
     ]
    },
    {
     "name": "stdout",
     "output_type": "stream",
     "text": [
      "62700 22 16735 0.0\n",
      "62710 22 13893 0\n",
      "62720 22 13633 0\n"
     ]
    },
    {
     "name": "stderr",
     "output_type": "stream",
     "text": [
      "/dados/anaconda3/lib/python3.7/site-packages/tbats/error/ExceptionHandler.py:13: ModelWarning: Optimization did not converge. Forecasts may be unstable.\n",
      "  warnings.warn(message, warning_type)\n",
      "/dados/anaconda3/lib/python3.7/site-packages/tbats/error/ExceptionHandler.py:13: ModelWarning: Optimization did not converge. Forecasts may be unstable.\n",
      "  warnings.warn(message, warning_type)\n"
     ]
    },
    {
     "name": "stdout",
     "output_type": "stream",
     "text": [
      "62730 22 14267 0.0\n",
      "62740 22 7592 0\n",
      "62750 22 8734 0\n",
      "62760 22 8986 0\n"
     ]
    },
    {
     "name": "stderr",
     "output_type": "stream",
     "text": [
      "/dados/anaconda3/lib/python3.7/site-packages/tbats/error/ExceptionHandler.py:13: ModelWarning: Optimization did not converge. Forecasts may be unstable.\n",
      "  warnings.warn(message, warning_type)\n"
     ]
    },
    {
     "name": "stdout",
     "output_type": "stream",
     "text": [
      "62770 22 8453 0\n",
      "62780 22 4141 0\n",
      "62790 22 6420 0\n"
     ]
    },
    {
     "name": "stderr",
     "output_type": "stream",
     "text": [
      "/dados/anaconda3/lib/python3.7/site-packages/tbats/error/ExceptionHandler.py:13: ModelWarning: Optimization did not converge. Forecasts may be unstable.\n",
      "  warnings.warn(message, warning_type)\n"
     ]
    },
    {
     "name": "stdout",
     "output_type": "stream",
     "text": [
      "62800 22 11266 0.0\n",
      "62810 22 13270 0\n",
      "62820 22 13100 3.0\n",
      "62830 22 10146 0\n"
     ]
    },
    {
     "name": "stderr",
     "output_type": "stream",
     "text": [
      "/dados/anaconda3/lib/python3.7/site-packages/tbats/error/ExceptionHandler.py:13: ModelWarning: Optimization did not converge. Forecasts may be unstable.\n",
      "  warnings.warn(message, warning_type)\n"
     ]
    },
    {
     "name": "stdout",
     "output_type": "stream",
     "text": [
      "62840 22 10425 0\n",
      "62850 22 11365 0\n",
      "62860 22 14848 0\n",
      "62870 22 21367 0.0\n"
     ]
    },
    {
     "name": "stderr",
     "output_type": "stream",
     "text": [
      "/dados/anaconda3/lib/python3.7/site-packages/tbats/error/ExceptionHandler.py:13: ModelWarning: Optimization did not converge. Forecasts may be unstable.\n",
      "  warnings.warn(message, warning_type)\n"
     ]
    },
    {
     "name": "stdout",
     "output_type": "stream",
     "text": [
      "62880 22 8077 0.0\n",
      "62890 22 12286 0\n",
      "62900 22 3028 0.0\n"
     ]
    },
    {
     "name": "stderr",
     "output_type": "stream",
     "text": [
      "/dados/anaconda3/lib/python3.7/site-packages/tbats/error/ExceptionHandler.py:13: ModelWarning: Optimization did not converge. Forecasts may be unstable.\n",
      "  warnings.warn(message, warning_type)\n"
     ]
    },
    {
     "name": "stdout",
     "output_type": "stream",
     "text": [
      "62910 22 3862 2.0\n",
      "62920 22 794 0\n",
      "62930 22 353 0\n",
      "62940 22 1074 0\n",
      "62950 22 13208 0\n",
      "62960 22 12501 2.0\n",
      "62970 22 10045 0\n",
      "62980 22 12090 0.0\n"
     ]
    },
    {
     "name": "stderr",
     "output_type": "stream",
     "text": [
      "/dados/anaconda3/lib/python3.7/site-packages/tbats/error/ExceptionHandler.py:13: ModelWarning: Optimization did not converge. Forecasts may be unstable.\n",
      "  warnings.warn(message, warning_type)\n"
     ]
    },
    {
     "name": "stdout",
     "output_type": "stream",
     "text": [
      "62990 22 11534 0.0\n"
     ]
    },
    {
     "name": "stderr",
     "output_type": "stream",
     "text": [
      "/dados/anaconda3/lib/python3.7/site-packages/tbats/error/ExceptionHandler.py:13: ModelWarning: Optimization did not converge. Forecasts may be unstable.\n",
      "  warnings.warn(message, warning_type)\n",
      "/dados/anaconda3/lib/python3.7/site-packages/tbats/error/ExceptionHandler.py:13: ModelWarning: Optimization did not converge. Forecasts may be unstable.\n",
      "  warnings.warn(message, warning_type)\n"
     ]
    },
    {
     "name": "stdout",
     "output_type": "stream",
     "text": [
      "63000 22 15512 0\n",
      "63010 22 15166 0\n"
     ]
    },
    {
     "name": "stderr",
     "output_type": "stream",
     "text": [
      "/dados/anaconda3/lib/python3.7/site-packages/tbats/error/ExceptionHandler.py:13: ModelWarning: Optimization did not converge. Forecasts may be unstable.\n",
      "  warnings.warn(message, warning_type)\n"
     ]
    },
    {
     "name": "stdout",
     "output_type": "stream",
     "text": [
      "63020 22 16534 0.0\n",
      "63030 22 16155 1.0\n",
      "63040 22 12830 0.0\n",
      "63050 22 14124 0.0\n"
     ]
    },
    {
     "name": "stderr",
     "output_type": "stream",
     "text": [
      "/dados/anaconda3/lib/python3.7/site-packages/tbats/error/ExceptionHandler.py:13: ModelWarning: Optimization did not converge. Forecasts may be unstable.\n",
      "  warnings.warn(message, warning_type)\n"
     ]
    },
    {
     "name": "stdout",
     "output_type": "stream",
     "text": [
      "63060 22 5945 0.0\n",
      "63070 22 6678 0\n",
      "63080 22 4944 1.0\n"
     ]
    },
    {
     "name": "stderr",
     "output_type": "stream",
     "text": [
      "/dados/anaconda3/lib/python3.7/site-packages/tbats/error/ExceptionHandler.py:13: ModelWarning: Optimization did not converge. Forecasts may be unstable.\n",
      "  warnings.warn(message, warning_type)\n",
      "/dados/anaconda3/lib/python3.7/site-packages/tbats/error/ExceptionHandler.py:13: ModelWarning: Optimization did not converge. Forecasts may be unstable.\n",
      "  warnings.warn(message, warning_type)\n"
     ]
    },
    {
     "name": "stdout",
     "output_type": "stream",
     "text": [
      "63090 22 5517 0\n",
      "63100 22 8398 0\n",
      "63110 22 7458 1.0\n"
     ]
    },
    {
     "name": "stderr",
     "output_type": "stream",
     "text": [
      "/dados/anaconda3/lib/python3.7/site-packages/tbats/error/ExceptionHandler.py:13: ModelWarning: Optimization did not converge. Forecasts may be unstable.\n",
      "  warnings.warn(message, warning_type)\n"
     ]
    },
    {
     "name": "stdout",
     "output_type": "stream",
     "text": [
      "63120 22 7882 0.0\n"
     ]
    },
    {
     "name": "stderr",
     "output_type": "stream",
     "text": [
      "/dados/anaconda3/lib/python3.7/site-packages/tbats/error/ExceptionHandler.py:13: ModelWarning: Optimization did not converge. Forecasts may be unstable.\n",
      "  warnings.warn(message, warning_type)\n"
     ]
    },
    {
     "name": "stdout",
     "output_type": "stream",
     "text": [
      "63130 22 7793 1.0\n",
      "63140 22 3477 0\n",
      "63150 22 8686 0.0\n"
     ]
    },
    {
     "name": "stderr",
     "output_type": "stream",
     "text": [
      "/dados/anaconda3/lib/python3.7/site-packages/tbats/error/ExceptionHandler.py:13: ModelWarning: Optimization did not converge. Forecasts may be unstable.\n",
      "  warnings.warn(message, warning_type)\n"
     ]
    },
    {
     "name": "stdout",
     "output_type": "stream",
     "text": [
      "63160 22 20560 0\n"
     ]
    },
    {
     "name": "stderr",
     "output_type": "stream",
     "text": [
      "/dados/anaconda3/lib/python3.7/site-packages/tbats/error/ExceptionHandler.py:13: ModelWarning: Optimization did not converge. Forecasts may be unstable.\n",
      "  warnings.warn(message, warning_type)\n"
     ]
    },
    {
     "name": "stdout",
     "output_type": "stream",
     "text": [
      "63170 22 19874 0\n",
      "63180 22 17869 1.0\n"
     ]
    },
    {
     "name": "stderr",
     "output_type": "stream",
     "text": [
      "/dados/anaconda3/lib/python3.7/site-packages/tbats/error/ExceptionHandler.py:13: ModelWarning: Optimization did not converge. Forecasts may be unstable.\n",
      "  warnings.warn(message, warning_type)\n"
     ]
    },
    {
     "name": "stdout",
     "output_type": "stream",
     "text": [
      "63190 22 21548 0\n"
     ]
    },
    {
     "name": "stderr",
     "output_type": "stream",
     "text": [
      "/dados/anaconda3/lib/python3.7/site-packages/tbats/error/ExceptionHandler.py:13: ModelWarning: Optimization did not converge. Forecasts may be unstable.\n",
      "  warnings.warn(message, warning_type)\n"
     ]
    },
    {
     "name": "stdout",
     "output_type": "stream",
     "text": [
      "63200 22 18255 0\n"
     ]
    },
    {
     "name": "stderr",
     "output_type": "stream",
     "text": [
      "/dados/anaconda3/lib/python3.7/site-packages/tbats/error/ExceptionHandler.py:13: ModelWarning: Optimization did not converge. Forecasts may be unstable.\n",
      "  warnings.warn(message, warning_type)\n"
     ]
    },
    {
     "name": "stdout",
     "output_type": "stream",
     "text": [
      "63210 22 2639 0.0\n",
      "63220 22 21827 0.0\n",
      "63230 22 1238 0\n",
      "63240 22 1247 0.0\n",
      "63250 22 269 1.0\n",
      "63260 22 687 1.0\n"
     ]
    },
    {
     "name": "stderr",
     "output_type": "stream",
     "text": [
      "/dados/anaconda3/lib/python3.7/site-packages/tbats/error/ExceptionHandler.py:13: ModelWarning: Optimization did not converge. Forecasts may be unstable.\n",
      "  warnings.warn(message, warning_type)\n"
     ]
    },
    {
     "name": "stdout",
     "output_type": "stream",
     "text": [
      "63270 22 93 0.0\n",
      "63280 22 20718 0\n",
      "63290 22 42 0.0\n",
      "63300 22 21842 0.0\n",
      "63310 22 2324 0\n"
     ]
    },
    {
     "name": "stderr",
     "output_type": "stream",
     "text": [
      "/dados/anaconda3/lib/python3.7/site-packages/tbats/error/ExceptionHandler.py:13: ModelWarning: Optimization did not converge. Forecasts may be unstable.\n",
      "  warnings.warn(message, warning_type)\n"
     ]
    },
    {
     "name": "stdout",
     "output_type": "stream",
     "text": [
      "63320 22 1663 0\n"
     ]
    },
    {
     "name": "stderr",
     "output_type": "stream",
     "text": [
      "/dados/anaconda3/lib/python3.7/site-packages/tbats/error/ExceptionHandler.py:13: ModelWarning: Optimization did not converge. Forecasts may be unstable.\n",
      "  warnings.warn(message, warning_type)\n"
     ]
    },
    {
     "name": "stdout",
     "output_type": "stream",
     "text": [
      "63330 22 3080 0\n",
      "63340 22 2886 0\n",
      "63350 22 13587 0\n",
      "63360 22 13691 0\n",
      "63370 22 15169 0\n",
      "63380 22 14973 0\n",
      "63390 22 13113 0\n",
      "63400 22 11711 0.0\n"
     ]
    },
    {
     "name": "stderr",
     "output_type": "stream",
     "text": [
      "/dados/anaconda3/lib/python3.7/site-packages/tbats/error/ExceptionHandler.py:13: ModelWarning: Optimization did not converge. Forecasts may be unstable.\n",
      "  warnings.warn(message, warning_type)\n"
     ]
    },
    {
     "name": "stdout",
     "output_type": "stream",
     "text": [
      "63410 22 13231 0\n",
      "63420 22 18677 2.0\n",
      "63430 22 18686 0.0\n"
     ]
    },
    {
     "name": "stderr",
     "output_type": "stream",
     "text": [
      "/dados/anaconda3/lib/python3.7/site-packages/tbats/error/ExceptionHandler.py:13: ModelWarning: Optimization did not converge. Forecasts may be unstable.\n",
      "  warnings.warn(message, warning_type)\n"
     ]
    },
    {
     "name": "stdout",
     "output_type": "stream",
     "text": [
      "63440 22 20374 0.0\n",
      "63450 22 20571 0\n",
      "63460 22 19621 0.0\n"
     ]
    },
    {
     "name": "stderr",
     "output_type": "stream",
     "text": [
      "/dados/anaconda3/lib/python3.7/site-packages/tbats/error/ExceptionHandler.py:13: ModelWarning: Optimization did not converge. Forecasts may be unstable.\n",
      "  warnings.warn(message, warning_type)\n"
     ]
    },
    {
     "name": "stdout",
     "output_type": "stream",
     "text": [
      "63470 22 16036 0\n",
      "63480 22 15276 0.0\n",
      "63490 22 16177 0\n",
      "63500 22 8687 0\n",
      "63510 22 9171 0.0\n",
      "63520 22 9366 0\n",
      "63530 22 7459 0\n",
      "63540 22 8148 0\n",
      "63550 22 8510 0.0\n"
     ]
    },
    {
     "name": "stderr",
     "output_type": "stream",
     "text": [
      "/dados/anaconda3/lib/python3.7/site-packages/tbats/error/ExceptionHandler.py:13: ModelWarning: Optimization did not converge. Forecasts may be unstable.\n",
      "  warnings.warn(message, warning_type)\n"
     ]
    },
    {
     "name": "stdout",
     "output_type": "stream",
     "text": [
      "63560 22 9449 0.0\n",
      "63570 22 10786 0.0\n",
      "63580 22 10669 0.0\n",
      "63590 22 11379 0.0\n",
      "63600 22 11542 0\n"
     ]
    },
    {
     "name": "stderr",
     "output_type": "stream",
     "text": [
      "/dados/anaconda3/lib/python3.7/site-packages/tbats/error/ExceptionHandler.py:13: ModelWarning: Optimization did not converge. Forecasts may be unstable.\n",
      "  warnings.warn(message, warning_type)\n"
     ]
    },
    {
     "name": "stdout",
     "output_type": "stream",
     "text": [
      "63610 22 10893 0\n"
     ]
    },
    {
     "name": "stderr",
     "output_type": "stream",
     "text": [
      "/dados/anaconda3/lib/python3.7/site-packages/tbats/error/ExceptionHandler.py:13: ModelWarning: Optimization did not converge. Forecasts may be unstable.\n",
      "  warnings.warn(message, warning_type)\n",
      "/dados/anaconda3/lib/python3.7/site-packages/tbats/error/ExceptionHandler.py:13: ModelWarning: Optimization did not converge. Forecasts may be unstable.\n",
      "  warnings.warn(message, warning_type)\n"
     ]
    },
    {
     "name": "stdout",
     "output_type": "stream",
     "text": [
      "63620 22 9539 0.0\n",
      "63630 22 10325 0.0\n",
      "63640 22 9840 0\n",
      "63650 22 10003 0.0\n",
      "63660 22 4708 3.0\n",
      "63670 22 4604 0.0\n",
      "63680 22 5323 2.0\n"
     ]
    },
    {
     "name": "stderr",
     "output_type": "stream",
     "text": [
      "/dados/anaconda3/lib/python3.7/site-packages/tbats/error/ExceptionHandler.py:13: ModelWarning: Optimization did not converge. Forecasts may be unstable.\n",
      "  warnings.warn(message, warning_type)\n"
     ]
    },
    {
     "name": "stdout",
     "output_type": "stream",
     "text": [
      "63690 22 3897 0.0\n"
     ]
    },
    {
     "name": "stderr",
     "output_type": "stream",
     "text": [
      "/dados/anaconda3/lib/python3.7/site-packages/tbats/error/ExceptionHandler.py:13: ModelWarning: Optimization did not converge. Forecasts may be unstable.\n",
      "  warnings.warn(message, warning_type)\n"
     ]
    },
    {
     "name": "stdout",
     "output_type": "stream",
     "text": [
      "63700 22 3919 0\n",
      "63710 22 3787 1.0\n",
      "63720 22 4088 0\n",
      "63730 22 6695 0\n"
     ]
    },
    {
     "name": "stderr",
     "output_type": "stream",
     "text": [
      "/dados/anaconda3/lib/python3.7/site-packages/tbats/error/ExceptionHandler.py:13: ModelWarning: Optimization did not converge. Forecasts may be unstable.\n",
      "  warnings.warn(message, warning_type)\n"
     ]
    },
    {
     "name": "stdout",
     "output_type": "stream",
     "text": [
      "63740 22 6378 1.0\n",
      "63750 22 6857 0.0\n"
     ]
    },
    {
     "name": "stderr",
     "output_type": "stream",
     "text": [
      "/dados/anaconda3/lib/python3.7/site-packages/tbats/error/ExceptionHandler.py:13: ModelWarning: Optimization did not converge. Forecasts may be unstable.\n",
      "  warnings.warn(message, warning_type)\n"
     ]
    },
    {
     "name": "stdout",
     "output_type": "stream",
     "text": [
      "63760 22 5659 0.0\n",
      "63770 22 3354 0\n",
      "63780 22 1538 0\n",
      "63790 22 22111 0.0\n"
     ]
    },
    {
     "name": "stderr",
     "output_type": "stream",
     "text": [
      "/dados/anaconda3/lib/python3.7/site-packages/tbats/error/ExceptionHandler.py:13: ModelWarning: Optimization did not converge. Forecasts may be unstable.\n",
      "  warnings.warn(message, warning_type)\n",
      "/dados/anaconda3/lib/python3.7/site-packages/tbats/error/ExceptionHandler.py:13: ModelWarning: Optimization did not converge. Forecasts may be unstable.\n",
      "  warnings.warn(message, warning_type)\n"
     ]
    },
    {
     "name": "stdout",
     "output_type": "stream",
     "text": [
      "63800 22 9019 0.0\n"
     ]
    },
    {
     "name": "stderr",
     "output_type": "stream",
     "text": [
      "/dados/anaconda3/lib/python3.7/site-packages/tbats/error/ExceptionHandler.py:13: ModelWarning: Optimization did not converge. Forecasts may be unstable.\n",
      "  warnings.warn(message, warning_type)\n"
     ]
    },
    {
     "name": "stdout",
     "output_type": "stream",
     "text": [
      "63810 22 11968 0.0\n"
     ]
    },
    {
     "name": "stderr",
     "output_type": "stream",
     "text": [
      "/dados/anaconda3/lib/python3.7/site-packages/tbats/error/ExceptionHandler.py:13: ModelWarning: Optimization did not converge. Forecasts may be unstable.\n",
      "  warnings.warn(message, warning_type)\n"
     ]
    },
    {
     "name": "stdout",
     "output_type": "stream",
     "text": [
      "63820 22 6027 0.0\n",
      "63830 22 18361 0.0\n",
      "63840 22 18629 0\n"
     ]
    },
    {
     "name": "stderr",
     "output_type": "stream",
     "text": [
      "/dados/anaconda3/lib/python3.7/site-packages/tbats/error/ExceptionHandler.py:13: ModelWarning: Optimization did not converge. Forecasts may be unstable.\n",
      "  warnings.warn(message, warning_type)\n",
      "/dados/anaconda3/lib/python3.7/site-packages/tbats/error/ExceptionHandler.py:13: ModelWarning: Optimization did not converge. Forecasts may be unstable.\n",
      "  warnings.warn(message, warning_type)\n"
     ]
    },
    {
     "name": "stdout",
     "output_type": "stream",
     "text": [
      "63850 22 17883 0\n",
      "63860 22 18108 0\n",
      "63870 22 19126 0\n"
     ]
    },
    {
     "name": "stderr",
     "output_type": "stream",
     "text": [
      "/dados/anaconda3/lib/python3.7/site-packages/tbats/error/ExceptionHandler.py:13: ModelWarning: Optimization did not converge. Forecasts may be unstable.\n",
      "  warnings.warn(message, warning_type)\n"
     ]
    },
    {
     "name": "stdout",
     "output_type": "stream",
     "text": [
      "63880 22 19488 0\n",
      "63890 22 18759 0\n"
     ]
    },
    {
     "name": "stderr",
     "output_type": "stream",
     "text": [
      "/dados/anaconda3/lib/python3.7/site-packages/tbats/error/ExceptionHandler.py:13: ModelWarning: Optimization did not converge. Forecasts may be unstable.\n",
      "  warnings.warn(message, warning_type)\n",
      "/dados/anaconda3/lib/python3.7/site-packages/tbats/error/ExceptionHandler.py:13: ModelWarning: Optimization did not converge. Forecasts may be unstable.\n",
      "  warnings.warn(message, warning_type)\n"
     ]
    },
    {
     "name": "stdout",
     "output_type": "stream",
     "text": [
      "63900 22 18979 0\n",
      "63910 22 3236 0.0\n"
     ]
    },
    {
     "name": "stderr",
     "output_type": "stream",
     "text": [
      "/dados/anaconda3/lib/python3.7/site-packages/tbats/error/ExceptionHandler.py:13: ModelWarning: Optimization did not converge. Forecasts may be unstable.\n",
      "  warnings.warn(message, warning_type)\n"
     ]
    },
    {
     "name": "stdout",
     "output_type": "stream",
     "text": [
      "63920 22 19588 1.0\n",
      "63930 22 20952 0\n",
      "63940 22 21207 0\n",
      "63950 22 20833 0\n",
      "63960 22 20274 0.0\n",
      "63970 22 21795 0\n",
      "63980 22 21792 0.0\n",
      "63990 22 19951 0\n",
      "64000 22 19852 0\n"
     ]
    },
    {
     "name": "stderr",
     "output_type": "stream",
     "text": [
      "/dados/anaconda3/lib/python3.7/site-packages/tbats/error/ExceptionHandler.py:13: ModelWarning: Optimization did not converge. Forecasts may be unstable.\n",
      "  warnings.warn(message, warning_type)\n"
     ]
    },
    {
     "name": "stdout",
     "output_type": "stream",
     "text": [
      "64010 22 20600 0\n",
      "64020 22 20581 0\n",
      "64030 22 6312 0\n",
      "64040 22 3634 0\n",
      "64050 22 4707 0\n",
      "64060 22 8888 0.0\n"
     ]
    },
    {
     "name": "stderr",
     "output_type": "stream",
     "text": [
      "/dados/anaconda3/lib/python3.7/site-packages/tbats/error/ExceptionHandler.py:13: ModelWarning: Optimization did not converge. Forecasts may be unstable.\n",
      "  warnings.warn(message, warning_type)\n"
     ]
    },
    {
     "name": "stdout",
     "output_type": "stream",
     "text": [
      "64070 22 10099 0\n",
      "64080 22 6807 0\n",
      "64090 22 8112 0.0\n",
      "64100 22 19118 14.0\n"
     ]
    },
    {
     "name": "stderr",
     "output_type": "stream",
     "text": [
      "/dados/anaconda3/lib/python3.7/site-packages/tbats/error/ExceptionHandler.py:13: ModelWarning: Optimization did not converge. Forecasts may be unstable.\n",
      "  warnings.warn(message, warning_type)\n"
     ]
    },
    {
     "name": "stdout",
     "output_type": "stream",
     "text": [
      "64110 22 21790 0.0\n",
      "64120 22 13630 0\n",
      "64130 22 15478 0\n",
      "64140 22 15226 0.0\n"
     ]
    },
    {
     "name": "stderr",
     "output_type": "stream",
     "text": [
      "/dados/anaconda3/lib/python3.7/site-packages/tbats/error/ExceptionHandler.py:13: ModelWarning: Optimization did not converge. Forecasts may be unstable.\n",
      "  warnings.warn(message, warning_type)\n"
     ]
    },
    {
     "name": "stdout",
     "output_type": "stream",
     "text": [
      "64150 22 2585 0.0\n",
      "64160 22 2213 0\n",
      "64170 22 1611 0.0\n"
     ]
    },
    {
     "name": "stderr",
     "output_type": "stream",
     "text": [
      "/dados/anaconda3/lib/python3.7/site-packages/tbats/error/ExceptionHandler.py:13: ModelWarning: Optimization did not converge. Forecasts may be unstable.\n",
      "  warnings.warn(message, warning_type)\n"
     ]
    },
    {
     "name": "stdout",
     "output_type": "stream",
     "text": [
      "64180 22 12504 0.0\n"
     ]
    },
    {
     "name": "stderr",
     "output_type": "stream",
     "text": [
      "/dados/anaconda3/lib/python3.7/site-packages/tbats/error/ExceptionHandler.py:13: ModelWarning: Optimization did not converge. Forecasts may be unstable.\n",
      "  warnings.warn(message, warning_type)\n"
     ]
    },
    {
     "name": "stdout",
     "output_type": "stream",
     "text": [
      "64190 22 13445 0\n",
      "64200 22 11915 0.0\n",
      "64210 22 20739 1.0\n",
      "64220 22 21196 0\n",
      "64230 22 14108 0.0\n",
      "64240 22 3457 0\n",
      "64250 22 3096 0\n"
     ]
    },
    {
     "name": "stderr",
     "output_type": "stream",
     "text": [
      "/dados/anaconda3/lib/python3.7/site-packages/tbats/error/ExceptionHandler.py:13: ModelWarning: Optimization did not converge. Forecasts may be unstable.\n",
      "  warnings.warn(message, warning_type)\n"
     ]
    },
    {
     "name": "stdout",
     "output_type": "stream",
     "text": [
      "64260 22 15260 0.0\n",
      "64270 22 17157 0.0\n"
     ]
    },
    {
     "name": "stderr",
     "output_type": "stream",
     "text": [
      "/dados/anaconda3/lib/python3.7/site-packages/tbats/error/ExceptionHandler.py:13: ModelWarning: Optimization did not converge. Forecasts may be unstable.\n",
      "  warnings.warn(message, warning_type)\n"
     ]
    },
    {
     "name": "stdout",
     "output_type": "stream",
     "text": [
      "64280 22 413 0.0\n",
      "64290 22 1010 0.0\n"
     ]
    },
    {
     "name": "stderr",
     "output_type": "stream",
     "text": [
      "/dados/anaconda3/lib/python3.7/site-packages/tbats/error/ExceptionHandler.py:13: ModelWarning: Optimization did not converge. Forecasts may be unstable.\n",
      "  warnings.warn(message, warning_type)\n"
     ]
    },
    {
     "name": "stdout",
     "output_type": "stream",
     "text": [
      "64300 22 4364 0.0\n",
      "64310 22 6528 0\n",
      "64320 22 5470 0\n",
      "64330 22 19337 1.0\n",
      "64340 22 18017 0.0\n",
      "64350 22 14892 1.0\n",
      "64360 22 20393 0\n"
     ]
    },
    {
     "name": "stderr",
     "output_type": "stream",
     "text": [
      "/dados/anaconda3/lib/python3.7/site-packages/tbats/error/ExceptionHandler.py:13: ModelWarning: Optimization did not converge. Forecasts may be unstable.\n",
      "  warnings.warn(message, warning_type)\n"
     ]
    },
    {
     "name": "stdout",
     "output_type": "stream",
     "text": [
      "64370 22 15171 0\n",
      "64380 22 16093 0\n",
      "64390 22 16111 0\n",
      "64400 22 14962 0\n",
      "64410 22 16207 0\n"
     ]
    },
    {
     "name": "stderr",
     "output_type": "stream",
     "text": [
      "/dados/anaconda3/lib/python3.7/site-packages/tbats/error/ExceptionHandler.py:13: ModelWarning: Optimization did not converge. Forecasts may be unstable.\n",
      "  warnings.warn(message, warning_type)\n"
     ]
    },
    {
     "name": "stdout",
     "output_type": "stream",
     "text": [
      "64420 22 16786 0.0\n"
     ]
    },
    {
     "name": "stderr",
     "output_type": "stream",
     "text": [
      "/dados/anaconda3/lib/python3.7/site-packages/tbats/error/ExceptionHandler.py:13: ModelWarning: Optimization did not converge. Forecasts may be unstable.\n",
      "  warnings.warn(message, warning_type)\n"
     ]
    },
    {
     "name": "stdout",
     "output_type": "stream",
     "text": [
      "64430 22 8157 0\n",
      "64440 22 13448 0\n",
      "64450 22 13224 0\n",
      "64460 22 13512 0.0\n",
      "64470 22 13288 0\n",
      "64480 22 14164 0.0\n",
      "64490 22 12808 0.0\n",
      "64500 22 13647 0\n",
      "64510 22 12332 0\n",
      "64520 22 12091 0.0\n",
      "64530 22 11268 0\n",
      "64540 22 13223 0\n",
      "64550 22 13221 0\n",
      "64560 22 16179 0\n"
     ]
    },
    {
     "name": "stderr",
     "output_type": "stream",
     "text": [
      "/dados/anaconda3/lib/python3.7/site-packages/tbats/error/ExceptionHandler.py:13: ModelWarning: Optimization did not converge. Forecasts may be unstable.\n",
      "  warnings.warn(message, warning_type)\n"
     ]
    },
    {
     "name": "stdout",
     "output_type": "stream",
     "text": [
      "64570 22 15524 0\n",
      "64580 22 16045 0\n",
      "64590 22 16910 0\n",
      "64600 22 15667 0\n",
      "64610 22 16243 0\n",
      "64620 22 16349 0\n",
      "64630 22 15015 0.0\n",
      "64640 22 15134 0.0\n",
      "64650 22 14987 0\n"
     ]
    },
    {
     "name": "stderr",
     "output_type": "stream",
     "text": [
      "/dados/anaconda3/lib/python3.7/site-packages/tbats/error/ExceptionHandler.py:13: ModelWarning: Optimization did not converge. Forecasts may be unstable.\n",
      "  warnings.warn(message, warning_type)\n",
      "/dados/anaconda3/lib/python3.7/site-packages/tbats/error/ExceptionHandler.py:13: ModelWarning: Optimization did not converge. Forecasts may be unstable.\n",
      "  warnings.warn(message, warning_type)\n"
     ]
    },
    {
     "name": "stdout",
     "output_type": "stream",
     "text": [
      "64660 22 15318 0\n"
     ]
    },
    {
     "name": "stderr",
     "output_type": "stream",
     "text": [
      "/dados/anaconda3/lib/python3.7/site-packages/tbats/error/ExceptionHandler.py:13: ModelWarning: Optimization did not converge. Forecasts may be unstable.\n",
      "  warnings.warn(message, warning_type)\n"
     ]
    },
    {
     "name": "stdout",
     "output_type": "stream",
     "text": [
      "64670 22 15168 0\n",
      "64680 22 15220 0\n"
     ]
    },
    {
     "name": "stderr",
     "output_type": "stream",
     "text": [
      "/dados/anaconda3/lib/python3.7/site-packages/tbats/error/ExceptionHandler.py:13: ModelWarning: Optimization did not converge. Forecasts may be unstable.\n",
      "  warnings.warn(message, warning_type)\n"
     ]
    },
    {
     "name": "stdout",
     "output_type": "stream",
     "text": [
      "64690 22 6870 0\n",
      "64700 22 4480 0\n",
      "64710 22 5063 0.0\n",
      "64720 22 5155 0\n",
      "64730 22 5187 0\n",
      "64740 22 5121 0\n"
     ]
    },
    {
     "name": "stderr",
     "output_type": "stream",
     "text": [
      "/dados/anaconda3/lib/python3.7/site-packages/tbats/error/ExceptionHandler.py:13: ModelWarning: Optimization did not converge. Forecasts may be unstable.\n",
      "  warnings.warn(message, warning_type)\n"
     ]
    },
    {
     "name": "stdout",
     "output_type": "stream",
     "text": [
      "64750 22 10069 0\n",
      "64760 22 10287 0.0\n",
      "64770 22 10180 0.0\n",
      "64780 22 10772 0.0\n",
      "64790 22 11363 0.0\n",
      "64800 22 11044 0\n",
      "64810 22 8459 0.0\n",
      "64820 22 8363 0\n",
      "64830 22 7580 0\n",
      "64840 22 8968 0\n",
      "64850 22 9338 0\n",
      "64860 22 8428 0\n"
     ]
    },
    {
     "name": "stderr",
     "output_type": "stream",
     "text": [
      "/dados/anaconda3/lib/python3.7/site-packages/tbats/error/ExceptionHandler.py:13: ModelWarning: Optimization did not converge. Forecasts may be unstable.\n",
      "  warnings.warn(message, warning_type)\n"
     ]
    },
    {
     "name": "stdout",
     "output_type": "stream",
     "text": [
      "64870 22 14361 0\n"
     ]
    },
    {
     "name": "stderr",
     "output_type": "stream",
     "text": [
      "/dados/anaconda3/lib/python3.7/site-packages/tbats/error/ExceptionHandler.py:13: ModelWarning: Optimization did not converge. Forecasts may be unstable.\n",
      "  warnings.warn(message, warning_type)\n"
     ]
    },
    {
     "name": "stdout",
     "output_type": "stream",
     "text": [
      "64880 22 547 0\n"
     ]
    },
    {
     "name": "stderr",
     "output_type": "stream",
     "text": [
      "/dados/anaconda3/lib/python3.7/site-packages/tbats/error/ExceptionHandler.py:13: ModelWarning: Optimization did not converge. Forecasts may be unstable.\n",
      "  warnings.warn(message, warning_type)\n"
     ]
    },
    {
     "name": "stdout",
     "output_type": "stream",
     "text": [
      "64890 22 12743 0.0\n"
     ]
    },
    {
     "name": "stderr",
     "output_type": "stream",
     "text": [
      "/dados/anaconda3/lib/python3.7/site-packages/tbats/error/ExceptionHandler.py:13: ModelWarning: Optimization did not converge. Forecasts may be unstable.\n",
      "  warnings.warn(message, warning_type)\n"
     ]
    },
    {
     "name": "stdout",
     "output_type": "stream",
     "text": [
      "64900 22 20517 0\n"
     ]
    },
    {
     "name": "stderr",
     "output_type": "stream",
     "text": [
      "/dados/anaconda3/lib/python3.7/site-packages/tbats/error/ExceptionHandler.py:13: ModelWarning: Optimization did not converge. Forecasts may be unstable.\n",
      "  warnings.warn(message, warning_type)\n"
     ]
    },
    {
     "name": "stdout",
     "output_type": "stream",
     "text": [
      "64910 22 7924 0.0\n",
      "64920 22 3239 0.0\n",
      "64930 22 15458 0.0\n",
      "64940 22 18025 0\n",
      "64950 22 15031 10.0\n",
      "64960 22 14984 0\n",
      "64970 22 1254 0\n",
      "64980 22 18968 0\n",
      "64990 22 21139 0\n"
     ]
    },
    {
     "name": "stderr",
     "output_type": "stream",
     "text": [
      "/dados/anaconda3/lib/python3.7/site-packages/tbats/error/ExceptionHandler.py:13: ModelWarning: Optimization did not converge. Forecasts may be unstable.\n",
      "  warnings.warn(message, warning_type)\n"
     ]
    },
    {
     "name": "stdout",
     "output_type": "stream",
     "text": [
      "65000 22 3273 0\n",
      "65010 22 13407 0\n",
      "65020 22 21692 0\n",
      "65030 22 19127 0.0\n"
     ]
    },
    {
     "name": "stderr",
     "output_type": "stream",
     "text": [
      "/dados/anaconda3/lib/python3.7/site-packages/tbats/error/ExceptionHandler.py:13: ModelWarning: Optimization did not converge. Forecasts may be unstable.\n",
      "  warnings.warn(message, warning_type)\n"
     ]
    },
    {
     "name": "stdout",
     "output_type": "stream",
     "text": [
      "65040 22 16953 0.0\n"
     ]
    },
    {
     "name": "stderr",
     "output_type": "stream",
     "text": [
      "/dados/anaconda3/lib/python3.7/site-packages/tbats/error/ExceptionHandler.py:13: ModelWarning: Optimization did not converge. Forecasts may be unstable.\n",
      "  warnings.warn(message, warning_type)\n"
     ]
    },
    {
     "name": "stdout",
     "output_type": "stream",
     "text": [
      "65050 22 21400 2.0\n",
      "65060 22 20334 0\n",
      "65070 22 13693 0\n",
      "65080 22 12474 0\n",
      "65090 22 8468 0\n",
      "65100 22 11302 0\n",
      "65110 22 448 0.0\n",
      "65120 22 5272 0.0\n",
      "65130 22 6028 0.0\n",
      "65140 22 8855 0.0\n",
      "65150 22 2540 0\n",
      "65160 22 18315 0.0\n",
      "65170 22 2191 0.0\n",
      "65180 22 3333 0.0\n",
      "65190 22 20879 0\n",
      "65200 22 14760 0\n",
      "65210 22 4637 0\n"
     ]
    },
    {
     "name": "stderr",
     "output_type": "stream",
     "text": [
      "/dados/anaconda3/lib/python3.7/site-packages/tbats/error/ExceptionHandler.py:13: ModelWarning: Optimization did not converge. Forecasts may be unstable.\n",
      "  warnings.warn(message, warning_type)\n"
     ]
    },
    {
     "name": "stdout",
     "output_type": "stream",
     "text": [
      "65220 22 13494 1.0\n",
      "65230 22 16032 1.0\n"
     ]
    },
    {
     "name": "stderr",
     "output_type": "stream",
     "text": [
      "/dados/anaconda3/lib/python3.7/site-packages/tbats/error/ExceptionHandler.py:13: ModelWarning: Optimization did not converge. Forecasts may be unstable.\n",
      "  warnings.warn(message, warning_type)\n"
     ]
    },
    {
     "name": "stdout",
     "output_type": "stream",
     "text": [
      "65240 22 2523 0\n",
      "65250 22 5540 0.0\n",
      "65260 22 1453 1.0\n",
      "65270 22 11011 0\n",
      "65280 22 3548 0\n",
      "65290 22 6307 0\n"
     ]
    },
    {
     "name": "stderr",
     "output_type": "stream",
     "text": [
      "/dados/anaconda3/lib/python3.7/site-packages/tbats/error/ExceptionHandler.py:13: ModelWarning: Optimization did not converge. Forecasts may be unstable.\n",
      "  warnings.warn(message, warning_type)\n"
     ]
    },
    {
     "name": "stdout",
     "output_type": "stream",
     "text": [
      "65300 22 20196 0\n"
     ]
    },
    {
     "name": "stderr",
     "output_type": "stream",
     "text": [
      "/dados/anaconda3/lib/python3.7/site-packages/tbats/error/ExceptionHandler.py:13: ModelWarning: Optimization did not converge. Forecasts may be unstable.\n",
      "  warnings.warn(message, warning_type)\n"
     ]
    },
    {
     "name": "stdout",
     "output_type": "stream",
     "text": [
      "65310 22 19751 0.0\n",
      "65320 22 18457 0\n",
      "65330 22 18208 0.0\n",
      "65340 22 22013 0.0\n",
      "65350 22 20653 0.0\n",
      "65360 22 21053 0\n",
      "65370 22 11516 0.0\n",
      "65380 22 18481 0.0\n",
      "65390 22 15222 0\n",
      "65400 22 13327 0\n",
      "65410 22 18031 0\n",
      "65420 22 20821 0\n",
      "65430 22 18939 1.0\n",
      "65440 22 12208 0.0\n",
      "65450 22 15654 0\n",
      "65460 22 16028 0.0\n",
      "65470 22 20516 0\n",
      "65480 22 6400 0\n",
      "65490 22 16166 0\n"
     ]
    },
    {
     "name": "stderr",
     "output_type": "stream",
     "text": [
      "/dados/anaconda3/lib/python3.7/site-packages/tbats/error/ExceptionHandler.py:13: ModelWarning: Optimization did not converge. Forecasts may be unstable.\n",
      "  warnings.warn(message, warning_type)\n"
     ]
    },
    {
     "name": "stdout",
     "output_type": "stream",
     "text": [
      "65500 22 9534 0\n",
      "65510 22 10581 0\n",
      "65520 22 9111 0\n",
      "65530 22 13099 0\n",
      "65540 22 11874 0\n",
      "65550 22 12192 0\n",
      "65560 22 6430 0\n",
      "65570 22 5761 0\n",
      "65580 22 4903 0\n",
      "65590 22 5382 0\n",
      "65600 22 7817 0\n",
      "65610 22 6959 0\n",
      "65620 22 7057 0\n",
      "65630 22 21978 0\n",
      "65640 22 19347 0\n",
      "65650 22 20012 0\n"
     ]
    },
    {
     "name": "stderr",
     "output_type": "stream",
     "text": [
      "/dados/anaconda3/lib/python3.7/site-packages/tbats/error/ExceptionHandler.py:13: ModelWarning: Optimization did not converge. Forecasts may be unstable.\n",
      "  warnings.warn(message, warning_type)\n"
     ]
    },
    {
     "name": "stdout",
     "output_type": "stream",
     "text": [
      "65660 22 13732 0\n",
      "65670 22 14934 0\n",
      "65680 22 13341 0\n",
      "65690 22 16396 0\n",
      "65700 22 16813 0\n",
      "65710 22 15988 0\n",
      "65720 22 16272 0\n",
      "65730 22 504 0\n",
      "65740 22 688 0\n",
      "65750 22 616 0\n",
      "65760 22 204 0\n",
      "65770 22 1394 0\n",
      "65780 22 924 0\n",
      "65790 22 1506 0\n",
      "65800 22 849 0\n",
      "65810 22 20361 1.0\n",
      "65820 22 3715 0\n",
      "65830 22 3411 0\n",
      "65840 22 4765 0\n",
      "65850 22 4260 0\n",
      "65860 22 4144 0\n",
      "65870 22 4203 0\n",
      "65880 22 1794 0\n",
      "65890 22 2338 0\n",
      "65900 22 1792 0\n",
      "65910 22 2856 0\n",
      "65920 22 2434 0\n",
      "65930 22 3136 0\n",
      "65940 22 1018 0.0\n",
      "65950 22 19258 0.0\n",
      "65960 22 4736 0.0\n"
     ]
    },
    {
     "name": "stderr",
     "output_type": "stream",
     "text": [
      "/dados/anaconda3/lib/python3.7/site-packages/tbats/error/ExceptionHandler.py:13: ModelWarning: Optimization did not converge. Forecasts may be unstable.\n",
      "  warnings.warn(message, warning_type)\n"
     ]
    },
    {
     "name": "stdout",
     "output_type": "stream",
     "text": [
      "65970 22 5363 0.0\n",
      "65980 22 17390 1.0\n",
      "65990 22 11682 0.0\n",
      "66000 22 15735 0\n",
      "66010 22 14899 0.0\n",
      "66020 22 20212 0.0\n",
      "66030 22 5899 0.0\n",
      "66040 22 18476 0.0\n",
      "66050 22 6835 0.0\n"
     ]
    },
    {
     "name": "stderr",
     "output_type": "stream",
     "text": [
      "/dados/anaconda3/lib/python3.7/site-packages/tbats/error/ExceptionHandler.py:13: ModelWarning: Optimization did not converge. Forecasts may be unstable.\n",
      "  warnings.warn(message, warning_type)\n"
     ]
    },
    {
     "name": "stdout",
     "output_type": "stream",
     "text": [
      "66060 22 15405 0\n"
     ]
    },
    {
     "name": "stderr",
     "output_type": "stream",
     "text": [
      "/dados/anaconda3/lib/python3.7/site-packages/tbats/error/ExceptionHandler.py:13: ModelWarning: Optimization did not converge. Forecasts may be unstable.\n",
      "  warnings.warn(message, warning_type)\n"
     ]
    },
    {
     "name": "stdout",
     "output_type": "stream",
     "text": [
      "66070 22 17756 0.0\n",
      "66080 22 18500 1.0\n",
      "66090 22 16231 0\n",
      "66100 22 17015 0.0\n",
      "66110 22 13133 0.0\n",
      "66120 22 14222 0.0\n",
      "66130 22 13812 0.0\n",
      "66140 22 5010 2.0\n",
      "66150 22 21210 0\n",
      "66160 22 20916 0\n",
      "66170 22 21664 0\n",
      "66180 22 3232 0\n",
      "66190 22 3547 0\n",
      "66200 22 18707 0\n"
     ]
    },
    {
     "name": "stderr",
     "output_type": "stream",
     "text": [
      "/dados/anaconda3/lib/python3.7/site-packages/tbats/error/ExceptionHandler.py:13: ModelWarning: Optimization did not converge. Forecasts may be unstable.\n",
      "  warnings.warn(message, warning_type)\n"
     ]
    },
    {
     "name": "stdout",
     "output_type": "stream",
     "text": [
      "66210 22 11674 0\n",
      "66220 22 16057 0.0\n",
      "66230 22 15033 0\n",
      "66240 22 10508 0\n",
      "66250 22 7572 0\n",
      "66260 22 6882 0\n",
      "66270 22 14543 0\n",
      "66280 22 19889 0\n",
      "66290 22 3280 0.0\n",
      "66300 24 5037 2.0\n"
     ]
    },
    {
     "name": "stderr",
     "output_type": "stream",
     "text": [
      "/dados/anaconda3/lib/python3.7/site-packages/tbats/error/ExceptionHandler.py:13: ModelWarning: Optimization did not converge. Forecasts may be unstable.\n",
      "  warnings.warn(message, warning_type)\n"
     ]
    },
    {
     "name": "stdout",
     "output_type": "stream",
     "text": [
      "66310 24 4806 10.0\n",
      "66320 24 4717 0.0\n",
      "66330 24 5666 3.0\n",
      "66340 24 5840 0\n"
     ]
    },
    {
     "name": "stderr",
     "output_type": "stream",
     "text": [
      "/dados/anaconda3/lib/python3.7/site-packages/tbats/error/ExceptionHandler.py:13: ModelWarning: Optimization did not converge. Forecasts may be unstable.\n",
      "  warnings.warn(message, warning_type)\n"
     ]
    },
    {
     "name": "stdout",
     "output_type": "stream",
     "text": [
      "66350 24 5838 1.0\n"
     ]
    },
    {
     "name": "stderr",
     "output_type": "stream",
     "text": [
      "/dados/anaconda3/lib/python3.7/site-packages/tbats/error/ExceptionHandler.py:13: ModelWarning: Optimization did not converge. Forecasts may be unstable.\n",
      "  warnings.warn(message, warning_type)\n"
     ]
    },
    {
     "name": "stdout",
     "output_type": "stream",
     "text": [
      "66360 24 3352 0\n",
      "66370 24 3604 0\n",
      "66380 24 3443 0.0\n",
      "66390 24 4365 0.0\n"
     ]
    },
    {
     "name": "stderr",
     "output_type": "stream",
     "text": [
      "/dados/anaconda3/lib/python3.7/site-packages/tbats/error/ExceptionHandler.py:13: ModelWarning: Optimization did not converge. Forecasts may be unstable.\n",
      "  warnings.warn(message, warning_type)\n"
     ]
    },
    {
     "name": "stdout",
     "output_type": "stream",
     "text": [
      "66400 24 3733 4.0\n"
     ]
    },
    {
     "name": "stderr",
     "output_type": "stream",
     "text": [
      "/dados/anaconda3/lib/python3.7/site-packages/tbats/error/ExceptionHandler.py:13: ModelWarning: Optimization did not converge. Forecasts may be unstable.\n",
      "  warnings.warn(message, warning_type)\n"
     ]
    },
    {
     "name": "stdout",
     "output_type": "stream",
     "text": [
      "66410 24 4052 5.0\n",
      "66420 24 9395 0\n",
      "66430 24 9469 0\n",
      "66440 24 8653 0.0\n",
      "66450 24 9001 0.0\n",
      "66460 24 10447 0\n",
      "66470 24 10327 0\n",
      "66480 24 9927 0\n",
      "66490 24 6506 0\n",
      "66500 24 6731 0\n",
      "66510 24 6396 0\n",
      "66520 24 6064 0.0\n"
     ]
    },
    {
     "name": "stderr",
     "output_type": "stream",
     "text": [
      "/dados/anaconda3/lib/python3.7/site-packages/tbats/error/ExceptionHandler.py:13: ModelWarning: Optimization did not converge. Forecasts may be unstable.\n",
      "  warnings.warn(message, warning_type)\n"
     ]
    },
    {
     "name": "stdout",
     "output_type": "stream",
     "text": [
      "66530 24 7862 0\n"
     ]
    },
    {
     "name": "stderr",
     "output_type": "stream",
     "text": [
      "/dados/anaconda3/lib/python3.7/site-packages/tbats/error/ExceptionHandler.py:13: ModelWarning: Optimization did not converge. Forecasts may be unstable.\n",
      "  warnings.warn(message, warning_type)\n"
     ]
    },
    {
     "name": "stdout",
     "output_type": "stream",
     "text": [
      "66540 24 7328 0.0\n",
      "66550 24 7029 0\n",
      "66560 24 15777 0.0\n",
      "66570 24 16843 0\n",
      "66580 24 15496 0\n",
      "66590 24 16103 0\n"
     ]
    },
    {
     "name": "stderr",
     "output_type": "stream",
     "text": [
      "/dados/anaconda3/lib/python3.7/site-packages/tbats/error/ExceptionHandler.py:13: ModelWarning: Optimization did not converge. Forecasts may be unstable.\n",
      "  warnings.warn(message, warning_type)\n"
     ]
    },
    {
     "name": "stdout",
     "output_type": "stream",
     "text": [
      "66600 24 18825 0.0\n",
      "66610 24 19656 0\n",
      "66620 24 18397 0\n"
     ]
    },
    {
     "name": "stderr",
     "output_type": "stream",
     "text": [
      "/dados/anaconda3/lib/python3.7/site-packages/tbats/error/ExceptionHandler.py:13: ModelWarning: Optimization did not converge. Forecasts may be unstable.\n",
      "  warnings.warn(message, warning_type)\n"
     ]
    },
    {
     "name": "stdout",
     "output_type": "stream",
     "text": [
      "66630 24 15338 0\n",
      "66640 24 13023 1.0\n",
      "66650 24 13415 0.0\n"
     ]
    },
    {
     "name": "stderr",
     "output_type": "stream",
     "text": [
      "/dados/anaconda3/lib/python3.7/site-packages/tbats/error/ExceptionHandler.py:13: ModelWarning: Optimization did not converge. Forecasts may be unstable.\n",
      "  warnings.warn(message, warning_type)\n"
     ]
    },
    {
     "name": "stdout",
     "output_type": "stream",
     "text": [
      "66660 24 13464 4.0\n",
      "66670 24 14832 0\n",
      "66680 24 15069 0\n",
      "66690 24 15037 0\n",
      "66700 24 2131 0\n",
      "66710 24 1732 0\n"
     ]
    },
    {
     "name": "stderr",
     "output_type": "stream",
     "text": [
      "/dados/anaconda3/lib/python3.7/site-packages/tbats/error/ExceptionHandler.py:13: ModelWarning: Optimization did not converge. Forecasts may be unstable.\n",
      "  warnings.warn(message, warning_type)\n"
     ]
    },
    {
     "name": "stdout",
     "output_type": "stream",
     "text": [
      "66720 24 2574 0.0\n"
     ]
    },
    {
     "name": "stderr",
     "output_type": "stream",
     "text": [
      "/dados/anaconda3/lib/python3.7/site-packages/tbats/error/ExceptionHandler.py:13: ModelWarning: Optimization did not converge. Forecasts may be unstable.\n",
      "  warnings.warn(message, warning_type)\n"
     ]
    },
    {
     "name": "stdout",
     "output_type": "stream",
     "text": [
      "66730 24 3076 2.0\n",
      "66740 24 2779 0.0\n",
      "66750 24 2873 1.0\n"
     ]
    },
    {
     "name": "stderr",
     "output_type": "stream",
     "text": [
      "/dados/anaconda3/lib/python3.7/site-packages/tbats/error/ExceptionHandler.py:13: ModelWarning: Optimization did not converge. Forecasts may be unstable.\n",
      "  warnings.warn(message, warning_type)\n",
      "/dados/anaconda3/lib/python3.7/site-packages/tbats/error/ExceptionHandler.py:13: ModelWarning: Optimization did not converge. Forecasts may be unstable.\n",
      "  warnings.warn(message, warning_type)\n"
     ]
    },
    {
     "name": "stdout",
     "output_type": "stream",
     "text": [
      "66760 24 20949 20.0\n",
      "66770 24 21937 0\n",
      "66780 24 20400 0\n"
     ]
    },
    {
     "name": "stderr",
     "output_type": "stream",
     "text": [
      "/dados/anaconda3/lib/python3.7/site-packages/tbats/error/ExceptionHandler.py:13: ModelWarning: Optimization did not converge. Forecasts may be unstable.\n",
      "  warnings.warn(message, warning_type)\n"
     ]
    },
    {
     "name": "stdout",
     "output_type": "stream",
     "text": [
      "66790 24 20616 0.0\n",
      "66800 24 1585 0\n"
     ]
    },
    {
     "name": "stderr",
     "output_type": "stream",
     "text": [
      "/dados/anaconda3/lib/python3.7/site-packages/tbats/error/ExceptionHandler.py:13: ModelWarning: Optimization did not converge. Forecasts may be unstable.\n",
      "  warnings.warn(message, warning_type)\n",
      "/dados/anaconda3/lib/python3.7/site-packages/tbats/error/ExceptionHandler.py:13: ModelWarning: Optimization did not converge. Forecasts may be unstable.\n",
      "  warnings.warn(message, warning_type)\n"
     ]
    },
    {
     "name": "stdout",
     "output_type": "stream",
     "text": [
      "66810 24 982 1.0\n"
     ]
    },
    {
     "name": "stderr",
     "output_type": "stream",
     "text": [
      "/dados/anaconda3/lib/python3.7/site-packages/tbats/error/ExceptionHandler.py:13: ModelWarning: Optimization did not converge. Forecasts may be unstable.\n",
      "  warnings.warn(message, warning_type)\n"
     ]
    },
    {
     "name": "stdout",
     "output_type": "stream",
     "text": [
      "66820 24 1486 2.0\n",
      "66830 24 2328 0\n",
      "66840 24 2293 0.0\n"
     ]
    },
    {
     "name": "stderr",
     "output_type": "stream",
     "text": [
      "/dados/anaconda3/lib/python3.7/site-packages/tbats/error/ExceptionHandler.py:13: ModelWarning: Optimization did not converge. Forecasts may be unstable.\n",
      "  warnings.warn(message, warning_type)\n"
     ]
    },
    {
     "name": "stdout",
     "output_type": "stream",
     "text": [
      "66850 24 3022 0\n"
     ]
    },
    {
     "name": "stderr",
     "output_type": "stream",
     "text": [
      "/dados/anaconda3/lib/python3.7/site-packages/tbats/error/ExceptionHandler.py:13: ModelWarning: Optimization did not converge. Forecasts may be unstable.\n",
      "  warnings.warn(message, warning_type)\n"
     ]
    },
    {
     "name": "stdout",
     "output_type": "stream",
     "text": [
      "66860 24 2743 0.0\n",
      "66870 24 1963 0\n",
      "66880 24 1295 0\n",
      "66890 24 22100 1.0\n",
      "66900 24 482 5.0\n",
      "66910 24 1877 1.0\n"
     ]
    },
    {
     "name": "stderr",
     "output_type": "stream",
     "text": [
      "/dados/anaconda3/lib/python3.7/site-packages/tbats/error/ExceptionHandler.py:13: ModelWarning: Optimization did not converge. Forecasts may be unstable.\n",
      "  warnings.warn(message, warning_type)\n"
     ]
    },
    {
     "name": "stdout",
     "output_type": "stream",
     "text": [
      "66920 24 1570 3.0\n"
     ]
    },
    {
     "name": "stderr",
     "output_type": "stream",
     "text": [
      "/dados/anaconda3/lib/python3.7/site-packages/tbats/error/ExceptionHandler.py:13: ModelWarning: Optimization did not converge. Forecasts may be unstable.\n",
      "  warnings.warn(message, warning_type)\n"
     ]
    },
    {
     "name": "stdout",
     "output_type": "stream",
     "text": [
      "66930 24 4003 0.0\n"
     ]
    },
    {
     "name": "stderr",
     "output_type": "stream",
     "text": [
      "/dados/anaconda3/lib/python3.7/site-packages/tbats/error/ExceptionHandler.py:13: ModelWarning: Optimization did not converge. Forecasts may be unstable.\n",
      "  warnings.warn(message, warning_type)\n"
     ]
    },
    {
     "name": "stdout",
     "output_type": "stream",
     "text": [
      "66940 24 3851 1.0\n"
     ]
    },
    {
     "name": "stderr",
     "output_type": "stream",
     "text": [
      "/dados/anaconda3/lib/python3.7/site-packages/tbats/error/ExceptionHandler.py:13: ModelWarning: Optimization did not converge. Forecasts may be unstable.\n",
      "  warnings.warn(message, warning_type)\n"
     ]
    },
    {
     "name": "stdout",
     "output_type": "stream",
     "text": [
      "66950 24 4420 0.0\n",
      "66960 24 4085 0.0\n"
     ]
    },
    {
     "name": "stderr",
     "output_type": "stream",
     "text": [
      "/dados/anaconda3/lib/python3.7/site-packages/tbats/error/ExceptionHandler.py:13: ModelWarning: Optimization did not converge. Forecasts may be unstable.\n",
      "  warnings.warn(message, warning_type)\n",
      "/dados/anaconda3/lib/python3.7/site-packages/tbats/error/ExceptionHandler.py:13: ModelWarning: Optimization did not converge. Forecasts may be unstable.\n",
      "  warnings.warn(message, warning_type)\n"
     ]
    },
    {
     "name": "stdout",
     "output_type": "stream",
     "text": [
      "66970 24 3528 1.0\n",
      "66980 24 3459 0\n",
      "66990 24 12771 0.0\n",
      "67000 24 13334 0\n"
     ]
    },
    {
     "name": "stderr",
     "output_type": "stream",
     "text": [
      "/dados/anaconda3/lib/python3.7/site-packages/tbats/error/ExceptionHandler.py:13: ModelWarning: Optimization did not converge. Forecasts may be unstable.\n",
      "  warnings.warn(message, warning_type)\n"
     ]
    },
    {
     "name": "stdout",
     "output_type": "stream",
     "text": [
      "67010 24 15047 0\n",
      "67020 24 13818 0.0\n"
     ]
    },
    {
     "name": "stderr",
     "output_type": "stream",
     "text": [
      "/dados/anaconda3/lib/python3.7/site-packages/tbats/error/ExceptionHandler.py:13: ModelWarning: Optimization did not converge. Forecasts may be unstable.\n",
      "  warnings.warn(message, warning_type)\n"
     ]
    },
    {
     "name": "stdout",
     "output_type": "stream",
     "text": [
      "67030 24 12549 0.0\n",
      "67040 24 12698 0\n",
      "67050 24 12360 0.0\n",
      "67060 24 11811 0.0\n"
     ]
    },
    {
     "name": "stderr",
     "output_type": "stream",
     "text": [
      "/dados/anaconda3/lib/python3.7/site-packages/tbats/error/ExceptionHandler.py:13: ModelWarning: Optimization did not converge. Forecasts may be unstable.\n",
      "  warnings.warn(message, warning_type)\n",
      "/dados/anaconda3/lib/python3.7/site-packages/tbats/error/ExceptionHandler.py:13: ModelWarning: Optimization did not converge. Forecasts may be unstable.\n",
      "  warnings.warn(message, warning_type)\n"
     ]
    },
    {
     "name": "stdout",
     "output_type": "stream",
     "text": [
      "67070 24 12023 0\n",
      "67080 24 13275 0\n"
     ]
    },
    {
     "name": "stderr",
     "output_type": "stream",
     "text": [
      "/dados/anaconda3/lib/python3.7/site-packages/tbats/error/ExceptionHandler.py:13: ModelWarning: Optimization did not converge. Forecasts may be unstable.\n",
      "  warnings.warn(message, warning_type)\n"
     ]
    },
    {
     "name": "stdout",
     "output_type": "stream",
     "text": [
      "67090 24 13303 0\n"
     ]
    },
    {
     "name": "stderr",
     "output_type": "stream",
     "text": [
      "/dados/anaconda3/lib/python3.7/site-packages/tbats/error/ExceptionHandler.py:13: ModelWarning: Optimization did not converge. Forecasts may be unstable.\n",
      "  warnings.warn(message, warning_type)\n"
     ]
    },
    {
     "name": "stdout",
     "output_type": "stream",
     "text": [
      "67100 24 13226 0\n",
      "67110 24 20609 0.0\n",
      "67120 24 19430 1.0\n"
     ]
    },
    {
     "name": "stderr",
     "output_type": "stream",
     "text": [
      "/dados/anaconda3/lib/python3.7/site-packages/tbats/error/ExceptionHandler.py:13: ModelWarning: Optimization did not converge. Forecasts may be unstable.\n",
      "  warnings.warn(message, warning_type)\n"
     ]
    },
    {
     "name": "stdout",
     "output_type": "stream",
     "text": [
      "67130 24 21942 0\n"
     ]
    },
    {
     "name": "stderr",
     "output_type": "stream",
     "text": [
      "/dados/anaconda3/lib/python3.7/site-packages/tbats/error/ExceptionHandler.py:13: ModelWarning: Optimization did not converge. Forecasts may be unstable.\n",
      "  warnings.warn(message, warning_type)\n"
     ]
    },
    {
     "name": "stdout",
     "output_type": "stream",
     "text": [
      "67140 24 18201 0.0\n"
     ]
    },
    {
     "name": "stderr",
     "output_type": "stream",
     "text": [
      "/dados/anaconda3/lib/python3.7/site-packages/tbats/error/ExceptionHandler.py:13: ModelWarning: Optimization did not converge. Forecasts may be unstable.\n",
      "  warnings.warn(message, warning_type)\n"
     ]
    },
    {
     "name": "stdout",
     "output_type": "stream",
     "text": [
      "67150 24 16122 0.0\n"
     ]
    },
    {
     "name": "stderr",
     "output_type": "stream",
     "text": [
      "/dados/anaconda3/lib/python3.7/site-packages/tbats/error/ExceptionHandler.py:13: ModelWarning: Optimization did not converge. Forecasts may be unstable.\n",
      "  warnings.warn(message, warning_type)\n"
     ]
    },
    {
     "name": "stdout",
     "output_type": "stream",
     "text": [
      "67160 24 14668 1.0\n"
     ]
    },
    {
     "name": "stderr",
     "output_type": "stream",
     "text": [
      "/dados/anaconda3/lib/python3.7/site-packages/tbats/error/ExceptionHandler.py:13: ModelWarning: Optimization did not converge. Forecasts may be unstable.\n",
      "  warnings.warn(message, warning_type)\n"
     ]
    },
    {
     "name": "stdout",
     "output_type": "stream",
     "text": [
      "67170 24 15323 2.0\n"
     ]
    },
    {
     "name": "stderr",
     "output_type": "stream",
     "text": [
      "/dados/anaconda3/lib/python3.7/site-packages/tbats/error/ExceptionHandler.py:13: ModelWarning: Optimization did not converge. Forecasts may be unstable.\n",
      "  warnings.warn(message, warning_type)\n"
     ]
    },
    {
     "name": "stdout",
     "output_type": "stream",
     "text": [
      "67180 24 17481 0.0\n",
      "67190 24 16541 0.0\n",
      "67200 24 1239 4.0\n"
     ]
    },
    {
     "name": "stderr",
     "output_type": "stream",
     "text": [
      "/dados/anaconda3/lib/python3.7/site-packages/tbats/error/ExceptionHandler.py:13: ModelWarning: Optimization did not converge. Forecasts may be unstable.\n",
      "  warnings.warn(message, warning_type)\n"
     ]
    },
    {
     "name": "stdout",
     "output_type": "stream",
     "text": [
      "67210 24 20631 0\n"
     ]
    },
    {
     "name": "stderr",
     "output_type": "stream",
     "text": [
      "/dados/anaconda3/lib/python3.7/site-packages/tbats/error/ExceptionHandler.py:13: ModelWarning: Optimization did not converge. Forecasts may be unstable.\n",
      "  warnings.warn(message, warning_type)\n"
     ]
    },
    {
     "name": "stdout",
     "output_type": "stream",
     "text": [
      "67220 24 2787 0\n"
     ]
    },
    {
     "name": "stderr",
     "output_type": "stream",
     "text": [
      "/dados/anaconda3/lib/python3.7/site-packages/tbats/error/ExceptionHandler.py:13: ModelWarning: Optimization did not converge. Forecasts may be unstable.\n",
      "  warnings.warn(message, warning_type)\n"
     ]
    },
    {
     "name": "stdout",
     "output_type": "stream",
     "text": [
      "67230 24 15282 2.0\n",
      "67240 24 16145 0\n",
      "67250 24 19125 0\n",
      "67260 24 17032 0\n",
      "67270 24 5383 0\n",
      "67280 24 4895 2.0\n"
     ]
    },
    {
     "name": "stderr",
     "output_type": "stream",
     "text": [
      "/dados/anaconda3/lib/python3.7/site-packages/tbats/error/ExceptionHandler.py:13: ModelWarning: Optimization did not converge. Forecasts may be unstable.\n",
      "  warnings.warn(message, warning_type)\n"
     ]
    },
    {
     "name": "stdout",
     "output_type": "stream",
     "text": [
      "67290 24 6505 0\n",
      "67300 24 6082 0\n"
     ]
    },
    {
     "name": "stderr",
     "output_type": "stream",
     "text": [
      "/dados/anaconda3/lib/python3.7/site-packages/tbats/error/ExceptionHandler.py:13: ModelWarning: Optimization did not converge. Forecasts may be unstable.\n",
      "  warnings.warn(message, warning_type)\n",
      "/dados/anaconda3/lib/python3.7/site-packages/tbats/error/ExceptionHandler.py:13: ModelWarning: Optimization did not converge. Forecasts may be unstable.\n",
      "  warnings.warn(message, warning_type)\n"
     ]
    },
    {
     "name": "stdout",
     "output_type": "stream",
     "text": [
      "67310 24 3822 0.0\n"
     ]
    },
    {
     "name": "stderr",
     "output_type": "stream",
     "text": [
      "/dados/anaconda3/lib/python3.7/site-packages/tbats/error/ExceptionHandler.py:13: ModelWarning: Optimization did not converge. Forecasts may be unstable.\n",
      "  warnings.warn(message, warning_type)\n"
     ]
    },
    {
     "name": "stdout",
     "output_type": "stream",
     "text": [
      "67320 24 6129 0\n",
      "67330 24 3833 2.0\n",
      "67340 24 3871 0.0\n",
      "67350 24 13285 0.0\n"
     ]
    },
    {
     "name": "stderr",
     "output_type": "stream",
     "text": [
      "/dados/anaconda3/lib/python3.7/site-packages/tbats/error/ExceptionHandler.py:13: ModelWarning: Optimization did not converge. Forecasts may be unstable.\n",
      "  warnings.warn(message, warning_type)\n"
     ]
    },
    {
     "name": "stdout",
     "output_type": "stream",
     "text": [
      "67360 24 11938 0.0\n",
      "67370 24 14457 0\n"
     ]
    },
    {
     "name": "stderr",
     "output_type": "stream",
     "text": [
      "/dados/anaconda3/lib/python3.7/site-packages/tbats/error/ExceptionHandler.py:13: ModelWarning: Optimization did not converge. Forecasts may be unstable.\n",
      "  warnings.warn(message, warning_type)\n"
     ]
    },
    {
     "name": "stdout",
     "output_type": "stream",
     "text": [
      "67380 24 7982 4.0\n",
      "67390 24 7224 0\n",
      "67400 24 10211 0.0\n"
     ]
    },
    {
     "name": "stderr",
     "output_type": "stream",
     "text": [
      "/dados/anaconda3/lib/python3.7/site-packages/tbats/error/ExceptionHandler.py:13: ModelWarning: Optimization did not converge. Forecasts may be unstable.\n",
      "  warnings.warn(message, warning_type)\n"
     ]
    },
    {
     "name": "stdout",
     "output_type": "stream",
     "text": [
      "67410 24 9404 2.0\n",
      "67420 24 4049 1.0\n"
     ]
    },
    {
     "name": "stderr",
     "output_type": "stream",
     "text": [
      "/dados/anaconda3/lib/python3.7/site-packages/tbats/error/ExceptionHandler.py:13: ModelWarning: Optimization did not converge. Forecasts may be unstable.\n",
      "  warnings.warn(message, warning_type)\n"
     ]
    },
    {
     "name": "stdout",
     "output_type": "stream",
     "text": [
      "67430 24 4999 0\n",
      "67440 24 3342 0.0\n",
      "67450 24 10190 0\n",
      "67460 24 9408 0\n"
     ]
    },
    {
     "name": "stderr",
     "output_type": "stream",
     "text": [
      "/dados/anaconda3/lib/python3.7/site-packages/tbats/error/ExceptionHandler.py:13: ModelWarning: Optimization did not converge. Forecasts may be unstable.\n",
      "  warnings.warn(message, warning_type)\n"
     ]
    },
    {
     "name": "stdout",
     "output_type": "stream",
     "text": [
      "67470 24 13237 0\n",
      "67480 24 10987 0.0\n"
     ]
    },
    {
     "name": "stderr",
     "output_type": "stream",
     "text": [
      "/dados/anaconda3/lib/python3.7/site-packages/tbats/error/ExceptionHandler.py:13: ModelWarning: Optimization did not converge. Forecasts may be unstable.\n",
      "  warnings.warn(message, warning_type)\n",
      "/dados/anaconda3/lib/python3.7/site-packages/tbats/error/ExceptionHandler.py:13: ModelWarning: Optimization did not converge. Forecasts may be unstable.\n",
      "  warnings.warn(message, warning_type)\n"
     ]
    },
    {
     "name": "stdout",
     "output_type": "stream",
     "text": [
      "67490 24 6625 0.0\n",
      "67500 24 6090 1.0\n",
      "67510 24 7019 0.0\n"
     ]
    },
    {
     "name": "stderr",
     "output_type": "stream",
     "text": [
      "/dados/anaconda3/lib/python3.7/site-packages/tbats/error/ExceptionHandler.py:13: ModelWarning: Optimization did not converge. Forecasts may be unstable.\n",
      "  warnings.warn(message, warning_type)\n"
     ]
    },
    {
     "name": "stdout",
     "output_type": "stream",
     "text": [
      "67520 24 12500 0.0\n",
      "67530 24 10448 0\n",
      "67540 24 12805 0.0\n",
      "67550 24 14247 0.0\n",
      "67560 24 7133 0\n"
     ]
    },
    {
     "name": "stderr",
     "output_type": "stream",
     "text": [
      "/dados/anaconda3/lib/python3.7/site-packages/tbats/error/ExceptionHandler.py:13: ModelWarning: Optimization did not converge. Forecasts may be unstable.\n",
      "  warnings.warn(message, warning_type)\n"
     ]
    },
    {
     "name": "stdout",
     "output_type": "stream",
     "text": [
      "67570 24 10292 0.0\n",
      "67580 24 1007 0.0\n",
      "67590 24 1717 1.0\n",
      "67600 24 14390 0.0\n",
      "67610 24 19908 2.0\n",
      "67620 24 17888 0\n",
      "67630 24 21722 0\n",
      "67640 24 940 0\n"
     ]
    },
    {
     "name": "stderr",
     "output_type": "stream",
     "text": [
      "/dados/anaconda3/lib/python3.7/site-packages/tbats/error/ExceptionHandler.py:13: ModelWarning: Optimization did not converge. Forecasts may be unstable.\n",
      "  warnings.warn(message, warning_type)\n"
     ]
    },
    {
     "name": "stdout",
     "output_type": "stream",
     "text": [
      "67650 24 18926 0\n",
      "67660 24 17772 0\n",
      "67670 24 19219 0\n"
     ]
    },
    {
     "name": "stderr",
     "output_type": "stream",
     "text": [
      "/dados/anaconda3/lib/python3.7/site-packages/tbats/error/ExceptionHandler.py:13: ModelWarning: Optimization did not converge. Forecasts may be unstable.\n",
      "  warnings.warn(message, warning_type)\n"
     ]
    },
    {
     "name": "stdout",
     "output_type": "stream",
     "text": [
      "67680 24 20225 0.0\n",
      "67690 24 5816 0.0\n",
      "67700 24 8868 0\n",
      "67710 24 17459 0.0\n"
     ]
    },
    {
     "name": "stderr",
     "output_type": "stream",
     "text": [
      "/dados/anaconda3/lib/python3.7/site-packages/tbats/error/ExceptionHandler.py:13: ModelWarning: Optimization did not converge. Forecasts may be unstable.\n",
      "  warnings.warn(message, warning_type)\n"
     ]
    },
    {
     "name": "stdout",
     "output_type": "stream",
     "text": [
      "67720 24 17420 0.0\n",
      "67730 24 10812 0\n",
      "67740 24 11771 0\n",
      "67750 24 10554 0\n",
      "67760 24 10378 1.0\n",
      "67770 24 16125 0\n",
      "67780 24 15300 0.0\n",
      "67790 24 17270 0.0\n",
      "67800 24 16735 0.0\n",
      "67810 24 13893 0.0\n",
      "67820 24 13633 0\n"
     ]
    },
    {
     "name": "stderr",
     "output_type": "stream",
     "text": [
      "/dados/anaconda3/lib/python3.7/site-packages/tbats/error/ExceptionHandler.py:13: ModelWarning: Optimization did not converge. Forecasts may be unstable.\n",
      "  warnings.warn(message, warning_type)\n"
     ]
    },
    {
     "name": "stdout",
     "output_type": "stream",
     "text": [
      "67830 24 14267 0.0\n",
      "67840 24 7592 0\n",
      "67850 24 8734 2.0\n",
      "67860 24 8986 0.0\n",
      "67870 24 8453 0\n",
      "67880 24 4141 0\n",
      "67890 24 6420 0\n",
      "67900 24 11266 0\n",
      "67910 24 13270 0\n",
      "67920 24 13100 0.0\n",
      "67930 24 10146 0\n",
      "67940 24 10425 0\n"
     ]
    },
    {
     "name": "stderr",
     "output_type": "stream",
     "text": [
      "/dados/anaconda3/lib/python3.7/site-packages/tbats/error/ExceptionHandler.py:13: ModelWarning: Optimization did not converge. Forecasts may be unstable.\n",
      "  warnings.warn(message, warning_type)\n"
     ]
    },
    {
     "name": "stdout",
     "output_type": "stream",
     "text": [
      "67950 24 11365 0\n",
      "67960 24 14848 0\n"
     ]
    },
    {
     "name": "stderr",
     "output_type": "stream",
     "text": [
      "/dados/anaconda3/lib/python3.7/site-packages/tbats/error/ExceptionHandler.py:13: ModelWarning: Optimization did not converge. Forecasts may be unstable.\n",
      "  warnings.warn(message, warning_type)\n"
     ]
    },
    {
     "name": "stdout",
     "output_type": "stream",
     "text": [
      "67970 24 21367 1.0\n",
      "67980 24 8077 0.0\n",
      "67990 24 12286 1.0\n",
      "68000 24 3028 0.0\n"
     ]
    },
    {
     "name": "stderr",
     "output_type": "stream",
     "text": [
      "/dados/anaconda3/lib/python3.7/site-packages/tbats/error/ExceptionHandler.py:13: ModelWarning: Optimization did not converge. Forecasts may be unstable.\n",
      "  warnings.warn(message, warning_type)\n"
     ]
    },
    {
     "name": "stdout",
     "output_type": "stream",
     "text": [
      "68010 24 3862 0.0\n",
      "68020 24 794 0\n",
      "68030 24 353 0\n",
      "68040 24 1074 0\n",
      "68050 24 13208 0\n"
     ]
    },
    {
     "name": "stderr",
     "output_type": "stream",
     "text": [
      "/dados/anaconda3/lib/python3.7/site-packages/tbats/error/ExceptionHandler.py:13: ModelWarning: Optimization did not converge. Forecasts may be unstable.\n",
      "  warnings.warn(message, warning_type)\n"
     ]
    },
    {
     "name": "stdout",
     "output_type": "stream",
     "text": [
      "68060 24 12501 0.0\n",
      "68070 24 10045 0\n",
      "68080 24 12090 0.0\n"
     ]
    },
    {
     "name": "stderr",
     "output_type": "stream",
     "text": [
      "/dados/anaconda3/lib/python3.7/site-packages/tbats/error/ExceptionHandler.py:13: ModelWarning: Optimization did not converge. Forecasts may be unstable.\n",
      "  warnings.warn(message, warning_type)\n"
     ]
    },
    {
     "name": "stdout",
     "output_type": "stream",
     "text": [
      "68090 24 11534 0\n",
      "68100 24 15512 0\n",
      "68110 24 15166 0\n"
     ]
    },
    {
     "name": "stderr",
     "output_type": "stream",
     "text": [
      "/dados/anaconda3/lib/python3.7/site-packages/tbats/error/ExceptionHandler.py:13: ModelWarning: Optimization did not converge. Forecasts may be unstable.\n",
      "  warnings.warn(message, warning_type)\n"
     ]
    },
    {
     "name": "stdout",
     "output_type": "stream",
     "text": [
      "68120 24 16534 0.0\n",
      "68130 24 16155 0\n",
      "68140 24 12830 1.0\n",
      "68150 24 14124 0.0\n",
      "68160 24 5945 0.0\n",
      "68170 24 6678 0\n",
      "68180 24 4944 1.0\n",
      "68190 24 5517 0\n",
      "68200 24 8398 0\n"
     ]
    },
    {
     "name": "stderr",
     "output_type": "stream",
     "text": [
      "/dados/anaconda3/lib/python3.7/site-packages/tbats/error/ExceptionHandler.py:13: ModelWarning: Optimization did not converge. Forecasts may be unstable.\n",
      "  warnings.warn(message, warning_type)\n"
     ]
    },
    {
     "name": "stdout",
     "output_type": "stream",
     "text": [
      "68210 24 7458 3.0\n",
      "68220 24 7882 0.0\n"
     ]
    },
    {
     "name": "stderr",
     "output_type": "stream",
     "text": [
      "/dados/anaconda3/lib/python3.7/site-packages/tbats/error/ExceptionHandler.py:13: ModelWarning: Optimization did not converge. Forecasts may be unstable.\n",
      "  warnings.warn(message, warning_type)\n"
     ]
    },
    {
     "name": "stdout",
     "output_type": "stream",
     "text": [
      "68230 24 7793 1.0\n",
      "68240 24 3477 0.0\n"
     ]
    },
    {
     "name": "stderr",
     "output_type": "stream",
     "text": [
      "/dados/anaconda3/lib/python3.7/site-packages/tbats/error/ExceptionHandler.py:13: ModelWarning: Optimization did not converge. Forecasts may be unstable.\n",
      "  warnings.warn(message, warning_type)\n"
     ]
    },
    {
     "name": "stdout",
     "output_type": "stream",
     "text": [
      "68250 24 8686 0.0\n",
      "68260 24 20560 0\n"
     ]
    },
    {
     "name": "stderr",
     "output_type": "stream",
     "text": [
      "/dados/anaconda3/lib/python3.7/site-packages/tbats/error/ExceptionHandler.py:13: ModelWarning: Optimization did not converge. Forecasts may be unstable.\n",
      "  warnings.warn(message, warning_type)\n"
     ]
    },
    {
     "name": "stdout",
     "output_type": "stream",
     "text": [
      "68270 24 19874 0\n"
     ]
    },
    {
     "name": "stderr",
     "output_type": "stream",
     "text": [
      "/dados/anaconda3/lib/python3.7/site-packages/tbats/error/ExceptionHandler.py:13: ModelWarning: Optimization did not converge. Forecasts may be unstable.\n",
      "  warnings.warn(message, warning_type)\n"
     ]
    },
    {
     "name": "stdout",
     "output_type": "stream",
     "text": [
      "68280 24 17869 0.0\n",
      "68290 24 21548 0\n"
     ]
    },
    {
     "name": "stderr",
     "output_type": "stream",
     "text": [
      "/dados/anaconda3/lib/python3.7/site-packages/tbats/error/ExceptionHandler.py:13: ModelWarning: Optimization did not converge. Forecasts may be unstable.\n",
      "  warnings.warn(message, warning_type)\n"
     ]
    },
    {
     "name": "stdout",
     "output_type": "stream",
     "text": [
      "68300 24 18255 0.0\n",
      "68310 24 2639 1.0\n"
     ]
    },
    {
     "name": "stderr",
     "output_type": "stream",
     "text": [
      "/dados/anaconda3/lib/python3.7/site-packages/tbats/error/ExceptionHandler.py:13: ModelWarning: Optimization did not converge. Forecasts may be unstable.\n",
      "  warnings.warn(message, warning_type)\n"
     ]
    },
    {
     "name": "stdout",
     "output_type": "stream",
     "text": [
      "68320 24 21827 0.0\n"
     ]
    },
    {
     "name": "stderr",
     "output_type": "stream",
     "text": [
      "/dados/anaconda3/lib/python3.7/site-packages/tbats/error/ExceptionHandler.py:13: ModelWarning: Optimization did not converge. Forecasts may be unstable.\n",
      "  warnings.warn(message, warning_type)\n"
     ]
    },
    {
     "name": "stdout",
     "output_type": "stream",
     "text": [
      "68330 24 1238 0\n",
      "68340 24 1247 0.0\n",
      "68350 24 269 0\n",
      "68360 24 687 1.0\n"
     ]
    },
    {
     "name": "stderr",
     "output_type": "stream",
     "text": [
      "/dados/anaconda3/lib/python3.7/site-packages/tbats/error/ExceptionHandler.py:13: ModelWarning: Optimization did not converge. Forecasts may be unstable.\n",
      "  warnings.warn(message, warning_type)\n",
      "/dados/anaconda3/lib/python3.7/site-packages/tbats/error/ExceptionHandler.py:13: ModelWarning: Optimization did not converge. Forecasts may be unstable.\n",
      "  warnings.warn(message, warning_type)\n"
     ]
    },
    {
     "name": "stdout",
     "output_type": "stream",
     "text": [
      "68370 24 93 0.0\n",
      "68380 24 20718 0\n",
      "68390 24 42 0.0\n",
      "68400 24 21842 0.0\n",
      "68410 24 2324 0\n",
      "68420 24 1663 0\n",
      "68430 24 3080 0\n",
      "68440 24 2886 0\n",
      "68450 24 13587 0\n",
      "68460 24 13691 0\n",
      "68470 24 15169 0\n",
      "68480 24 14973 0\n",
      "68490 24 13113 0\n",
      "68500 24 11711 0.0\n",
      "68510 24 13231 0\n",
      "68520 24 18677 0.0\n",
      "68530 24 18686 0\n",
      "68540 24 20374 0\n",
      "68550 24 20571 0\n",
      "68560 24 19621 0.0\n"
     ]
    },
    {
     "name": "stderr",
     "output_type": "stream",
     "text": [
      "/dados/anaconda3/lib/python3.7/site-packages/tbats/error/ExceptionHandler.py:13: ModelWarning: Optimization did not converge. Forecasts may be unstable.\n",
      "  warnings.warn(message, warning_type)\n"
     ]
    },
    {
     "name": "stdout",
     "output_type": "stream",
     "text": [
      "68570 24 16036 0\n",
      "68580 24 15276 0.0\n"
     ]
    },
    {
     "name": "stderr",
     "output_type": "stream",
     "text": [
      "/dados/anaconda3/lib/python3.7/site-packages/tbats/error/ExceptionHandler.py:13: ModelWarning: Optimization did not converge. Forecasts may be unstable.\n",
      "  warnings.warn(message, warning_type)\n"
     ]
    },
    {
     "name": "stdout",
     "output_type": "stream",
     "text": [
      "68590 24 16177 0\n"
     ]
    },
    {
     "name": "stderr",
     "output_type": "stream",
     "text": [
      "/dados/anaconda3/lib/python3.7/site-packages/tbats/error/ExceptionHandler.py:13: ModelWarning: Optimization did not converge. Forecasts may be unstable.\n",
      "  warnings.warn(message, warning_type)\n"
     ]
    },
    {
     "name": "stdout",
     "output_type": "stream",
     "text": [
      "68600 24 8687 0.0\n",
      "68610 24 9171 0.0\n",
      "68620 24 9366 0\n",
      "68630 24 7459 0.0\n",
      "68640 24 8148 0\n",
      "68650 24 8510 0\n",
      "68660 24 9449 0.0\n"
     ]
    },
    {
     "name": "stderr",
     "output_type": "stream",
     "text": [
      "/dados/anaconda3/lib/python3.7/site-packages/tbats/error/ExceptionHandler.py:13: ModelWarning: Optimization did not converge. Forecasts may be unstable.\n",
      "  warnings.warn(message, warning_type)\n"
     ]
    },
    {
     "name": "stdout",
     "output_type": "stream",
     "text": [
      "68670 24 10786 0.0\n",
      "68680 24 10669 0\n",
      "68690 24 11379 0.0\n"
     ]
    },
    {
     "name": "stderr",
     "output_type": "stream",
     "text": [
      "/dados/anaconda3/lib/python3.7/site-packages/tbats/error/ExceptionHandler.py:13: ModelWarning: Optimization did not converge. Forecasts may be unstable.\n",
      "  warnings.warn(message, warning_type)\n"
     ]
    },
    {
     "name": "stdout",
     "output_type": "stream",
     "text": [
      "68700 24 11542 0\n",
      "68710 24 10893 0\n",
      "68720 24 9539 0.0\n"
     ]
    },
    {
     "name": "stderr",
     "output_type": "stream",
     "text": [
      "/dados/anaconda3/lib/python3.7/site-packages/tbats/error/ExceptionHandler.py:13: ModelWarning: Optimization did not converge. Forecasts may be unstable.\n",
      "  warnings.warn(message, warning_type)\n"
     ]
    },
    {
     "name": "stdout",
     "output_type": "stream",
     "text": [
      "68730 24 10325 0.0\n",
      "68740 24 9840 0\n"
     ]
    },
    {
     "name": "stderr",
     "output_type": "stream",
     "text": [
      "/dados/anaconda3/lib/python3.7/site-packages/tbats/error/ExceptionHandler.py:13: ModelWarning: Optimization did not converge. Forecasts may be unstable.\n",
      "  warnings.warn(message, warning_type)\n"
     ]
    },
    {
     "name": "stdout",
     "output_type": "stream",
     "text": [
      "68750 24 10003 0\n",
      "68760 24 4708 0\n",
      "68770 24 4604 2.0\n",
      "68780 24 5323 0.0\n"
     ]
    },
    {
     "name": "stderr",
     "output_type": "stream",
     "text": [
      "/dados/anaconda3/lib/python3.7/site-packages/tbats/error/ExceptionHandler.py:13: ModelWarning: Optimization did not converge. Forecasts may be unstable.\n",
      "  warnings.warn(message, warning_type)\n"
     ]
    },
    {
     "name": "stdout",
     "output_type": "stream",
     "text": [
      "68790 24 3897 0.0\n",
      "68800 24 3919 0\n",
      "68810 24 3787 0.0\n",
      "68820 24 4088 0\n",
      "68830 24 6695 1.0\n",
      "68840 24 6378 0.0\n",
      "68850 24 6857 1.0\n",
      "68860 24 5659 0.0\n"
     ]
    },
    {
     "name": "stderr",
     "output_type": "stream",
     "text": [
      "/dados/anaconda3/lib/python3.7/site-packages/tbats/error/ExceptionHandler.py:13: ModelWarning: Optimization did not converge. Forecasts may be unstable.\n",
      "  warnings.warn(message, warning_type)\n"
     ]
    },
    {
     "name": "stdout",
     "output_type": "stream",
     "text": [
      "68870 24 3354 0\n",
      "68880 24 1538 0\n",
      "68890 24 22111 0.0\n",
      "68900 24 9019 0.0\n",
      "68910 24 11968 1.0\n",
      "68920 24 6027 1.0\n",
      "68930 24 18361 0.0\n",
      "68940 24 18629 0\n",
      "68950 24 17883 0\n",
      "68960 24 18108 0\n",
      "68970 24 19126 0.0\n",
      "68980 24 19488 0\n",
      "68990 24 18759 0\n",
      "69000 24 18979 0\n",
      "69010 24 3236 0.0\n",
      "69020 24 19588 0.0\n",
      "69030 24 20952 0\n",
      "69040 24 21207 0\n",
      "69050 24 20833 0\n",
      "69060 24 20274 0\n",
      "69070 24 21795 0\n",
      "69080 24 21792 0\n",
      "69090 24 19951 0\n"
     ]
    },
    {
     "name": "stderr",
     "output_type": "stream",
     "text": [
      "/dados/anaconda3/lib/python3.7/site-packages/tbats/error/ExceptionHandler.py:13: ModelWarning: Optimization did not converge. Forecasts may be unstable.\n",
      "  warnings.warn(message, warning_type)\n"
     ]
    },
    {
     "name": "stdout",
     "output_type": "stream",
     "text": [
      "69100 24 19852 0\n",
      "69110 24 20600 0\n",
      "69120 24 20581 0\n",
      "69130 24 6312 0\n",
      "69140 24 3634 0.0\n",
      "69150 24 4707 0\n",
      "69160 24 8888 0.0\n",
      "69170 24 10099 0.0\n"
     ]
    },
    {
     "name": "stderr",
     "output_type": "stream",
     "text": [
      "/dados/anaconda3/lib/python3.7/site-packages/tbats/error/ExceptionHandler.py:13: ModelWarning: Optimization did not converge. Forecasts may be unstable.\n",
      "  warnings.warn(message, warning_type)\n",
      "/dados/anaconda3/lib/python3.7/site-packages/tbats/error/ExceptionHandler.py:13: ModelWarning: Optimization did not converge. Forecasts may be unstable.\n",
      "  warnings.warn(message, warning_type)\n"
     ]
    },
    {
     "name": "stdout",
     "output_type": "stream",
     "text": [
      "69180 24 6807 0\n",
      "69190 24 8112 0\n",
      "69200 24 19118 12.0\n"
     ]
    },
    {
     "name": "stderr",
     "output_type": "stream",
     "text": [
      "/dados/anaconda3/lib/python3.7/site-packages/tbats/error/ExceptionHandler.py:13: ModelWarning: Optimization did not converge. Forecasts may be unstable.\n",
      "  warnings.warn(message, warning_type)\n"
     ]
    },
    {
     "name": "stdout",
     "output_type": "stream",
     "text": [
      "69210 24 21790 0\n",
      "69220 24 13630 0\n",
      "69230 24 15478 0\n"
     ]
    },
    {
     "name": "stderr",
     "output_type": "stream",
     "text": [
      "/dados/anaconda3/lib/python3.7/site-packages/tbats/error/ExceptionHandler.py:13: ModelWarning: Optimization did not converge. Forecasts may be unstable.\n",
      "  warnings.warn(message, warning_type)\n"
     ]
    },
    {
     "name": "stdout",
     "output_type": "stream",
     "text": [
      "69240 24 15226 0.0\n",
      "69250 24 2585 0\n",
      "69260 24 2213 0\n",
      "69270 24 1611 0.0\n"
     ]
    },
    {
     "name": "stderr",
     "output_type": "stream",
     "text": [
      "/dados/anaconda3/lib/python3.7/site-packages/tbats/error/ExceptionHandler.py:13: ModelWarning: Optimization did not converge. Forecasts may be unstable.\n",
      "  warnings.warn(message, warning_type)\n"
     ]
    },
    {
     "name": "stdout",
     "output_type": "stream",
     "text": [
      "69280 24 12504 0.0\n"
     ]
    },
    {
     "name": "stderr",
     "output_type": "stream",
     "text": [
      "/dados/anaconda3/lib/python3.7/site-packages/tbats/error/ExceptionHandler.py:13: ModelWarning: Optimization did not converge. Forecasts may be unstable.\n",
      "  warnings.warn(message, warning_type)\n"
     ]
    },
    {
     "name": "stdout",
     "output_type": "stream",
     "text": [
      "69290 24 13445 0\n",
      "69300 24 11915 0.0\n",
      "69310 24 20739 0.0\n",
      "69320 24 21196 0\n",
      "69330 24 14108 0\n"
     ]
    },
    {
     "name": "stderr",
     "output_type": "stream",
     "text": [
      "/dados/anaconda3/lib/python3.7/site-packages/tbats/error/ExceptionHandler.py:13: ModelWarning: Optimization did not converge. Forecasts may be unstable.\n",
      "  warnings.warn(message, warning_type)\n"
     ]
    },
    {
     "name": "stdout",
     "output_type": "stream",
     "text": [
      "69340 24 3457 1.0\n",
      "69350 24 3096 0\n",
      "69360 24 15260 0\n",
      "69370 24 17157 3.0\n"
     ]
    },
    {
     "name": "stderr",
     "output_type": "stream",
     "text": [
      "/dados/anaconda3/lib/python3.7/site-packages/tbats/error/ExceptionHandler.py:13: ModelWarning: Optimization did not converge. Forecasts may be unstable.\n",
      "  warnings.warn(message, warning_type)\n"
     ]
    },
    {
     "name": "stdout",
     "output_type": "stream",
     "text": [
      "69380 24 413 0\n",
      "69390 24 1010 1.0\n"
     ]
    },
    {
     "name": "stderr",
     "output_type": "stream",
     "text": [
      "/dados/anaconda3/lib/python3.7/site-packages/tbats/error/ExceptionHandler.py:13: ModelWarning: Optimization did not converge. Forecasts may be unstable.\n",
      "  warnings.warn(message, warning_type)\n"
     ]
    },
    {
     "name": "stdout",
     "output_type": "stream",
     "text": [
      "69400 24 4364 0\n",
      "69410 24 6528 0\n",
      "69420 24 5470 0.0\n",
      "69430 24 19337 0\n",
      "69440 24 18017 0.0\n",
      "69450 24 14892 3.0\n"
     ]
    },
    {
     "name": "stderr",
     "output_type": "stream",
     "text": [
      "/dados/anaconda3/lib/python3.7/site-packages/tbats/error/ExceptionHandler.py:13: ModelWarning: Optimization did not converge. Forecasts may be unstable.\n",
      "  warnings.warn(message, warning_type)\n"
     ]
    },
    {
     "name": "stdout",
     "output_type": "stream",
     "text": [
      "69460 24 20393 1.0\n",
      "69470 24 15171 0\n",
      "69480 24 16093 0\n",
      "69490 24 16111 1.0\n",
      "69500 24 14962 0\n",
      "69510 24 16207 0.0\n",
      "69520 24 16786 0.0\n"
     ]
    },
    {
     "name": "stderr",
     "output_type": "stream",
     "text": [
      "/dados/anaconda3/lib/python3.7/site-packages/tbats/error/ExceptionHandler.py:13: ModelWarning: Optimization did not converge. Forecasts may be unstable.\n",
      "  warnings.warn(message, warning_type)\n",
      "/dados/anaconda3/lib/python3.7/site-packages/tbats/error/ExceptionHandler.py:13: ModelWarning: Optimization did not converge. Forecasts may be unstable.\n",
      "  warnings.warn(message, warning_type)\n"
     ]
    },
    {
     "name": "stdout",
     "output_type": "stream",
     "text": [
      "69530 24 8157 0.0\n",
      "69540 24 13448 0\n",
      "69550 24 13224 0\n",
      "69560 24 13512 0.0\n",
      "69570 24 13288 0\n",
      "69580 24 14164 0.0\n",
      "69590 24 12808 0.0\n",
      "69600 24 13647 0\n",
      "69610 24 12332 0\n",
      "69620 24 12091 0.0\n"
     ]
    },
    {
     "name": "stderr",
     "output_type": "stream",
     "text": [
      "/dados/anaconda3/lib/python3.7/site-packages/tbats/error/ExceptionHandler.py:13: ModelWarning: Optimization did not converge. Forecasts may be unstable.\n",
      "  warnings.warn(message, warning_type)\n"
     ]
    },
    {
     "name": "stdout",
     "output_type": "stream",
     "text": [
      "69630 24 11268 1.0\n",
      "69640 24 13223 0\n",
      "69650 24 13221 0\n",
      "69660 24 16179 0\n",
      "69670 24 15524 0.0\n",
      "69680 24 16045 0\n",
      "69690 24 16910 0\n",
      "69700 24 15667 0\n",
      "69710 24 16243 0\n",
      "69720 24 16349 0\n",
      "69730 24 15015 0.0\n",
      "69740 24 15134 0\n",
      "69750 24 14987 0\n",
      "69760 24 15318 0\n",
      "69770 24 15168 0\n",
      "69780 24 15220 0\n",
      "69790 24 6870 0\n",
      "69800 24 4480 0.0\n",
      "69810 24 5063 0\n"
     ]
    },
    {
     "name": "stderr",
     "output_type": "stream",
     "text": [
      "/dados/anaconda3/lib/python3.7/site-packages/tbats/error/ExceptionHandler.py:13: ModelWarning: Optimization did not converge. Forecasts may be unstable.\n",
      "  warnings.warn(message, warning_type)\n"
     ]
    },
    {
     "name": "stdout",
     "output_type": "stream",
     "text": [
      "69820 24 5155 0\n",
      "69830 24 5187 0\n",
      "69840 24 5121 0\n",
      "69850 24 10069 0\n",
      "69860 24 10287 0\n",
      "69870 24 10180 0.0\n",
      "69880 24 10772 0.0\n",
      "69890 24 11363 0.0\n",
      "69900 24 11044 0.0\n",
      "69910 24 8459 0.0\n",
      "69920 24 8363 0.0\n",
      "69930 24 7580 0\n",
      "69940 24 8968 0\n",
      "69950 24 9338 0\n",
      "69960 24 8428 0\n",
      "69970 24 14361 0\n",
      "69980 24 547 0\n",
      "69990 24 12743 0.0\n",
      "70000 24 20517 0\n"
     ]
    },
    {
     "name": "stderr",
     "output_type": "stream",
     "text": [
      "/dados/anaconda3/lib/python3.7/site-packages/tbats/error/ExceptionHandler.py:13: ModelWarning: Optimization did not converge. Forecasts may be unstable.\n",
      "  warnings.warn(message, warning_type)\n",
      "/dados/anaconda3/lib/python3.7/site-packages/tbats/error/ExceptionHandler.py:13: ModelWarning: Optimization did not converge. Forecasts may be unstable.\n",
      "  warnings.warn(message, warning_type)\n"
     ]
    },
    {
     "name": "stdout",
     "output_type": "stream",
     "text": [
      "70010 24 7924 1.0\n"
     ]
    },
    {
     "name": "stderr",
     "output_type": "stream",
     "text": [
      "/dados/anaconda3/lib/python3.7/site-packages/tbats/error/ExceptionHandler.py:13: ModelWarning: Optimization did not converge. Forecasts may be unstable.\n",
      "  warnings.warn(message, warning_type)\n",
      "/dados/anaconda3/lib/python3.7/site-packages/tbats/error/ExceptionHandler.py:13: ModelWarning: Optimization did not converge. Forecasts may be unstable.\n",
      "  warnings.warn(message, warning_type)\n"
     ]
    },
    {
     "name": "stdout",
     "output_type": "stream",
     "text": [
      "70020 24 3239 1.0\n",
      "70030 24 15458 0.0\n"
     ]
    },
    {
     "name": "stderr",
     "output_type": "stream",
     "text": [
      "/dados/anaconda3/lib/python3.7/site-packages/tbats/error/ExceptionHandler.py:13: ModelWarning: Optimization did not converge. Forecasts may be unstable.\n",
      "  warnings.warn(message, warning_type)\n"
     ]
    },
    {
     "name": "stdout",
     "output_type": "stream",
     "text": [
      "70040 24 18025 0\n",
      "70050 24 15031 0.0\n",
      "70060 24 14984 0\n",
      "70070 24 1254 0\n",
      "70080 24 18968 0\n",
      "70090 24 21139 0\n",
      "70100 24 3273 0\n"
     ]
    },
    {
     "name": "stderr",
     "output_type": "stream",
     "text": [
      "/dados/anaconda3/lib/python3.7/site-packages/tbats/error/ExceptionHandler.py:13: ModelWarning: Optimization did not converge. Forecasts may be unstable.\n",
      "  warnings.warn(message, warning_type)\n"
     ]
    },
    {
     "name": "stdout",
     "output_type": "stream",
     "text": [
      "70110 24 13407 0\n",
      "70120 24 21692 0\n",
      "70130 24 19127 0.0\n",
      "70140 24 16953 0.0\n",
      "70150 24 21400 0\n",
      "70160 24 20334 0\n",
      "70170 24 13693 0\n",
      "70180 24 12474 0\n"
     ]
    },
    {
     "name": "stderr",
     "output_type": "stream",
     "text": [
      "/dados/anaconda3/lib/python3.7/site-packages/tbats/error/ExceptionHandler.py:13: ModelWarning: Optimization did not converge. Forecasts may be unstable.\n",
      "  warnings.warn(message, warning_type)\n"
     ]
    },
    {
     "name": "stdout",
     "output_type": "stream",
     "text": [
      "70190 24 8468 0\n",
      "70200 24 11302 0\n",
      "70210 24 448 0.0\n",
      "70220 24 5272 6.0\n",
      "70230 24 6028 0\n",
      "70240 24 8855 0.0\n",
      "70250 24 2540 0\n",
      "70260 24 18315 0.0\n",
      "70270 24 2191 0\n"
     ]
    },
    {
     "name": "stderr",
     "output_type": "stream",
     "text": [
      "/dados/anaconda3/lib/python3.7/site-packages/tbats/error/ExceptionHandler.py:13: ModelWarning: Optimization did not converge. Forecasts may be unstable.\n",
      "  warnings.warn(message, warning_type)\n",
      "/dados/anaconda3/lib/python3.7/site-packages/tbats/error/ExceptionHandler.py:13: ModelWarning: Optimization did not converge. Forecasts may be unstable.\n",
      "  warnings.warn(message, warning_type)\n"
     ]
    },
    {
     "name": "stdout",
     "output_type": "stream",
     "text": [
      "70280 24 3333 0.0\n",
      "70290 24 20879 0\n",
      "70300 24 14760 0\n",
      "70310 24 4637 0.0\n",
      "70320 24 13494 1.0\n",
      "70330 24 16032 5.0\n"
     ]
    },
    {
     "name": "stderr",
     "output_type": "stream",
     "text": [
      "/dados/anaconda3/lib/python3.7/site-packages/tbats/error/ExceptionHandler.py:13: ModelWarning: Optimization did not converge. Forecasts may be unstable.\n",
      "  warnings.warn(message, warning_type)\n"
     ]
    },
    {
     "name": "stdout",
     "output_type": "stream",
     "text": [
      "70340 24 2523 0.0\n",
      "70350 24 5540 0\n"
     ]
    },
    {
     "name": "stderr",
     "output_type": "stream",
     "text": [
      "/dados/anaconda3/lib/python3.7/site-packages/tbats/error/ExceptionHandler.py:13: ModelWarning: Optimization did not converge. Forecasts may be unstable.\n",
      "  warnings.warn(message, warning_type)\n"
     ]
    },
    {
     "name": "stdout",
     "output_type": "stream",
     "text": [
      "70360 24 1453 0.0\n",
      "70370 24 11011 0\n",
      "70380 24 3548 1.0\n",
      "70390 24 6307 0\n",
      "70400 24 20196 0\n"
     ]
    },
    {
     "name": "stderr",
     "output_type": "stream",
     "text": [
      "/dados/anaconda3/lib/python3.7/site-packages/tbats/error/ExceptionHandler.py:13: ModelWarning: Optimization did not converge. Forecasts may be unstable.\n",
      "  warnings.warn(message, warning_type)\n"
     ]
    },
    {
     "name": "stdout",
     "output_type": "stream",
     "text": [
      "70410 24 19751 0.0\n"
     ]
    },
    {
     "name": "stderr",
     "output_type": "stream",
     "text": [
      "/dados/anaconda3/lib/python3.7/site-packages/tbats/error/ExceptionHandler.py:13: ModelWarning: Optimization did not converge. Forecasts may be unstable.\n",
      "  warnings.warn(message, warning_type)\n"
     ]
    },
    {
     "name": "stdout",
     "output_type": "stream",
     "text": [
      "70420 24 18457 0\n",
      "70430 24 18208 0.0\n",
      "70440 24 22013 0\n",
      "70450 24 20653 0.0\n",
      "70460 24 21053 0\n",
      "70470 24 11516 0\n",
      "70480 24 18481 0.0\n",
      "70490 24 15222 0\n",
      "70500 24 13327 0\n",
      "70510 24 18031 0\n",
      "70520 24 20821 0\n"
     ]
    },
    {
     "name": "stderr",
     "output_type": "stream",
     "text": [
      "/dados/anaconda3/lib/python3.7/site-packages/tbats/error/ExceptionHandler.py:13: ModelWarning: Optimization did not converge. Forecasts may be unstable.\n",
      "  warnings.warn(message, warning_type)\n"
     ]
    },
    {
     "name": "stdout",
     "output_type": "stream",
     "text": [
      "70530 24 18939 0\n",
      "70540 24 12208 0.0\n",
      "70550 24 15654 0.0\n",
      "70560 24 16028 0.0\n",
      "70570 24 20516 0\n",
      "70580 24 6400 1.0\n",
      "70590 24 16166 0\n",
      "70600 24 9534 0\n",
      "70610 24 10581 0\n",
      "70620 24 9111 0\n",
      "70630 24 13099 0\n",
      "70640 24 11874 0\n",
      "70650 24 12192 0\n",
      "70660 24 6430 0\n",
      "70670 24 5761 0\n",
      "70680 24 4903 0\n",
      "70690 24 5382 0\n",
      "70700 24 7817 0\n",
      "70710 24 6959 0\n",
      "70720 24 7057 0\n",
      "70730 24 21978 0\n",
      "70740 24 19347 0\n",
      "70750 24 20012 0\n",
      "70760 24 13732 0\n",
      "70770 24 14934 0\n",
      "70780 24 13341 0\n",
      "70790 24 16396 0\n",
      "70800 24 16813 0\n",
      "70810 24 15988 0\n",
      "70820 24 16272 0\n",
      "70830 24 504 0\n",
      "70840 24 688 0\n",
      "70850 24 616 0\n",
      "70860 24 204 0\n",
      "70870 24 1394 0\n",
      "70880 24 924 0\n",
      "70890 24 1506 0\n",
      "70900 24 849 0\n",
      "70910 24 20361 0.0\n"
     ]
    },
    {
     "name": "stderr",
     "output_type": "stream",
     "text": [
      "/dados/anaconda3/lib/python3.7/site-packages/tbats/error/ExceptionHandler.py:13: ModelWarning: Optimization did not converge. Forecasts may be unstable.\n",
      "  warnings.warn(message, warning_type)\n"
     ]
    },
    {
     "name": "stdout",
     "output_type": "stream",
     "text": [
      "70920 24 3715 0\n",
      "70930 24 3411 0\n",
      "70940 24 4765 0\n",
      "70950 24 4260 0\n",
      "70960 24 4144 0\n",
      "70970 24 4203 0\n",
      "70980 24 1794 0\n",
      "70990 24 2338 0\n",
      "71000 24 1792 0\n",
      "71010 24 2856 0\n",
      "71020 24 2434 0\n",
      "71030 24 3136 0\n",
      "71040 24 1018 0.0\n",
      "71050 24 19258 0.0\n",
      "71060 24 4736 0\n",
      "71070 24 5363 0.0\n",
      "71080 24 17390 0\n",
      "71090 24 11682 0\n",
      "71100 24 15735 0\n",
      "71110 24 14899 3.0\n",
      "71120 24 20212 0\n",
      "71130 24 5899 0.0\n",
      "71140 24 18476 1.0\n",
      "71150 24 6835 0.0\n",
      "71160 24 15405 0\n",
      "71170 24 17756 0.0\n"
     ]
    },
    {
     "name": "stderr",
     "output_type": "stream",
     "text": [
      "/dados/anaconda3/lib/python3.7/site-packages/tbats/error/ExceptionHandler.py:13: ModelWarning: Optimization did not converge. Forecasts may be unstable.\n",
      "  warnings.warn(message, warning_type)\n"
     ]
    },
    {
     "name": "stdout",
     "output_type": "stream",
     "text": [
      "71180 24 18500 0\n",
      "71190 24 16231 0\n",
      "71200 24 17015 0\n"
     ]
    },
    {
     "name": "stderr",
     "output_type": "stream",
     "text": [
      "/dados/anaconda3/lib/python3.7/site-packages/tbats/error/ExceptionHandler.py:13: ModelWarning: Optimization did not converge. Forecasts may be unstable.\n",
      "  warnings.warn(message, warning_type)\n"
     ]
    },
    {
     "name": "stdout",
     "output_type": "stream",
     "text": [
      "71210 24 13133 0.0\n",
      "71220 24 14222 0.0\n",
      "71230 24 13812 0.0\n",
      "71240 24 5010 1.0\n",
      "71250 24 21210 0\n",
      "71260 24 20916 0\n",
      "71270 24 21664 0\n",
      "71280 24 3232 0\n",
      "71290 24 3547 0.0\n",
      "71300 24 18707 0\n",
      "71310 24 11674 0\n",
      "71320 24 16057 0.0\n"
     ]
    },
    {
     "name": "stderr",
     "output_type": "stream",
     "text": [
      "/dados/anaconda3/lib/python3.7/site-packages/tbats/error/ExceptionHandler.py:13: ModelWarning: Optimization did not converge. Forecasts may be unstable.\n",
      "  warnings.warn(message, warning_type)\n"
     ]
    },
    {
     "name": "stdout",
     "output_type": "stream",
     "text": [
      "71330 24 15033 0\n",
      "71340 24 10508 0\n"
     ]
    },
    {
     "name": "stderr",
     "output_type": "stream",
     "text": [
      "/dados/anaconda3/lib/python3.7/site-packages/tbats/error/ExceptionHandler.py:13: ModelWarning: Optimization did not converge. Forecasts may be unstable.\n",
      "  warnings.warn(message, warning_type)\n"
     ]
    },
    {
     "name": "stdout",
     "output_type": "stream",
     "text": [
      "71350 24 7572 0\n",
      "71360 24 6882 0.0\n",
      "71370 24 14543 0\n",
      "71380 24 19889 0\n",
      "71390 24 3280 0.0\n"
     ]
    },
    {
     "name": "stderr",
     "output_type": "stream",
     "text": [
      "/dados/anaconda3/lib/python3.7/site-packages/tbats/error/ExceptionHandler.py:13: ModelWarning: Optimization did not converge. Forecasts may be unstable.\n",
      "  warnings.warn(message, warning_type)\n"
     ]
    },
    {
     "name": "stdout",
     "output_type": "stream",
     "text": [
      "71400 21 5037 4.0\n"
     ]
    },
    {
     "name": "stderr",
     "output_type": "stream",
     "text": [
      "/dados/anaconda3/lib/python3.7/site-packages/tbats/error/ExceptionHandler.py:13: ModelWarning: Optimization did not converge. Forecasts may be unstable.\n",
      "  warnings.warn(message, warning_type)\n",
      "/dados/anaconda3/lib/python3.7/site-packages/tbats/error/ExceptionHandler.py:13: ModelWarning: Optimization did not converge. Forecasts may be unstable.\n",
      "  warnings.warn(message, warning_type)\n",
      "/dados/anaconda3/lib/python3.7/site-packages/tbats/error/ExceptionHandler.py:13: ModelWarning: Optimization did not converge. Forecasts may be unstable.\n",
      "  warnings.warn(message, warning_type)\n"
     ]
    },
    {
     "name": "stdout",
     "output_type": "stream",
     "text": [
      "71410 21 4806 2.0\n",
      "71420 21 4717 2.0\n",
      "71430 21 5666 20.0\n",
      "71440 21 5840 0\n",
      "71450 21 5838 9.0\n",
      "71460 21 3352 0\n"
     ]
    },
    {
     "name": "stderr",
     "output_type": "stream",
     "text": [
      "/dados/anaconda3/lib/python3.7/site-packages/tbats/error/ExceptionHandler.py:13: ModelWarning: Optimization did not converge. Forecasts may be unstable.\n",
      "  warnings.warn(message, warning_type)\n"
     ]
    },
    {
     "name": "stdout",
     "output_type": "stream",
     "text": [
      "71470 21 3604 0\n",
      "71480 21 3443 2.0\n",
      "71490 21 4365 0.0\n",
      "71500 21 3733 0.0\n",
      "71510 21 4052 1.0\n",
      "71520 21 9395 0.0\n",
      "71530 21 9469 0\n"
     ]
    },
    {
     "name": "stderr",
     "output_type": "stream",
     "text": [
      "/dados/anaconda3/lib/python3.7/site-packages/tbats/error/ExceptionHandler.py:13: ModelWarning: Optimization did not converge. Forecasts may be unstable.\n",
      "  warnings.warn(message, warning_type)\n"
     ]
    },
    {
     "name": "stdout",
     "output_type": "stream",
     "text": [
      "71540 21 8653 1.0\n"
     ]
    },
    {
     "name": "stderr",
     "output_type": "stream",
     "text": [
      "/dados/anaconda3/lib/python3.7/site-packages/tbats/error/ExceptionHandler.py:13: ModelWarning: Optimization did not converge. Forecasts may be unstable.\n",
      "  warnings.warn(message, warning_type)\n"
     ]
    },
    {
     "name": "stdout",
     "output_type": "stream",
     "text": [
      "71550 21 9001 0.0\n",
      "71560 21 10447 0\n"
     ]
    },
    {
     "name": "stderr",
     "output_type": "stream",
     "text": [
      "/dados/anaconda3/lib/python3.7/site-packages/tbats/error/ExceptionHandler.py:13: ModelWarning: Optimization did not converge. Forecasts may be unstable.\n",
      "  warnings.warn(message, warning_type)\n"
     ]
    },
    {
     "name": "stdout",
     "output_type": "stream",
     "text": [
      "71570 21 10327 0.0\n",
      "71580 21 9927 0\n",
      "71590 21 6506 0\n",
      "71600 21 6731 0\n",
      "71610 21 6396 0.0\n",
      "71620 21 6064 1.0\n",
      "71630 21 7862 0\n",
      "71640 21 7328 0\n",
      "71650 21 7029 0\n",
      "71660 21 15777 0.0\n"
     ]
    },
    {
     "name": "stderr",
     "output_type": "stream",
     "text": [
      "/dados/anaconda3/lib/python3.7/site-packages/tbats/error/ExceptionHandler.py:13: ModelWarning: Optimization did not converge. Forecasts may be unstable.\n",
      "  warnings.warn(message, warning_type)\n"
     ]
    },
    {
     "name": "stdout",
     "output_type": "stream",
     "text": [
      "71670 21 16843 2.0\n"
     ]
    },
    {
     "name": "stderr",
     "output_type": "stream",
     "text": [
      "/dados/anaconda3/lib/python3.7/site-packages/tbats/error/ExceptionHandler.py:13: ModelWarning: Optimization did not converge. Forecasts may be unstable.\n",
      "  warnings.warn(message, warning_type)\n"
     ]
    },
    {
     "name": "stdout",
     "output_type": "stream",
     "text": [
      "71680 21 15496 0.0\n",
      "71690 21 16103 0.0\n"
     ]
    },
    {
     "name": "stderr",
     "output_type": "stream",
     "text": [
      "/dados/anaconda3/lib/python3.7/site-packages/tbats/error/ExceptionHandler.py:13: ModelWarning: Optimization did not converge. Forecasts may be unstable.\n",
      "  warnings.warn(message, warning_type)\n"
     ]
    },
    {
     "name": "stdout",
     "output_type": "stream",
     "text": [
      "71700 21 18825 0.0\n"
     ]
    },
    {
     "name": "stderr",
     "output_type": "stream",
     "text": [
      "/dados/anaconda3/lib/python3.7/site-packages/tbats/error/ExceptionHandler.py:13: ModelWarning: Optimization did not converge. Forecasts may be unstable.\n",
      "  warnings.warn(message, warning_type)\n"
     ]
    },
    {
     "name": "stdout",
     "output_type": "stream",
     "text": [
      "71710 21 19656 0\n",
      "71720 21 18397 0\n",
      "71730 21 15338 0\n",
      "71740 21 13023 0.0\n"
     ]
    },
    {
     "name": "stderr",
     "output_type": "stream",
     "text": [
      "/dados/anaconda3/lib/python3.7/site-packages/tbats/error/ExceptionHandler.py:13: ModelWarning: Optimization did not converge. Forecasts may be unstable.\n",
      "  warnings.warn(message, warning_type)\n"
     ]
    },
    {
     "name": "stdout",
     "output_type": "stream",
     "text": [
      "71750 21 13415 0\n",
      "71760 21 13464 0\n",
      "71770 21 14832 0\n",
      "71780 21 15069 0\n"
     ]
    },
    {
     "name": "stderr",
     "output_type": "stream",
     "text": [
      "/dados/anaconda3/lib/python3.7/site-packages/tbats/error/ExceptionHandler.py:13: ModelWarning: Optimization did not converge. Forecasts may be unstable.\n",
      "  warnings.warn(message, warning_type)\n",
      "/dados/anaconda3/lib/python3.7/site-packages/tbats/error/ExceptionHandler.py:13: ModelWarning: Optimization did not converge. Forecasts may be unstable.\n",
      "  warnings.warn(message, warning_type)\n"
     ]
    },
    {
     "name": "stdout",
     "output_type": "stream",
     "text": [
      "71790 21 15037 0\n",
      "71800 21 2131 0\n",
      "71810 21 1732 0\n",
      "71820 21 2574 2.0\n",
      "71830 21 3076 1.0\n",
      "71840 21 2779 0.0\n",
      "71850 21 2873 0.0\n",
      "71860 21 20949 20.0\n",
      "71870 21 21937 0\n"
     ]
    },
    {
     "name": "stderr",
     "output_type": "stream",
     "text": [
      "/dados/anaconda3/lib/python3.7/site-packages/tbats/error/ExceptionHandler.py:13: ModelWarning: Optimization did not converge. Forecasts may be unstable.\n",
      "  warnings.warn(message, warning_type)\n"
     ]
    },
    {
     "name": "stdout",
     "output_type": "stream",
     "text": [
      "71880 21 20400 0\n",
      "71890 21 20616 2.0\n",
      "71900 21 1585 0\n"
     ]
    },
    {
     "name": "stderr",
     "output_type": "stream",
     "text": [
      "/dados/anaconda3/lib/python3.7/site-packages/tbats/error/ExceptionHandler.py:13: ModelWarning: Optimization did not converge. Forecasts may be unstable.\n",
      "  warnings.warn(message, warning_type)\n",
      "/dados/anaconda3/lib/python3.7/site-packages/tbats/error/ExceptionHandler.py:13: ModelWarning: Optimization did not converge. Forecasts may be unstable.\n",
      "  warnings.warn(message, warning_type)\n"
     ]
    },
    {
     "name": "stdout",
     "output_type": "stream",
     "text": [
      "71910 21 982 1.0\n"
     ]
    },
    {
     "name": "stderr",
     "output_type": "stream",
     "text": [
      "/dados/anaconda3/lib/python3.7/site-packages/tbats/error/ExceptionHandler.py:13: ModelWarning: Optimization did not converge. Forecasts may be unstable.\n",
      "  warnings.warn(message, warning_type)\n"
     ]
    },
    {
     "name": "stdout",
     "output_type": "stream",
     "text": [
      "71920 21 1486 0.0\n"
     ]
    },
    {
     "name": "stderr",
     "output_type": "stream",
     "text": [
      "/dados/anaconda3/lib/python3.7/site-packages/tbats/error/ExceptionHandler.py:13: ModelWarning: Optimization did not converge. Forecasts may be unstable.\n",
      "  warnings.warn(message, warning_type)\n"
     ]
    },
    {
     "name": "stdout",
     "output_type": "stream",
     "text": [
      "71930 21 2328 0\n",
      "71940 21 2293 0.0\n",
      "71950 21 3022 0\n",
      "71960 21 2743 0.0\n",
      "71970 21 1963 0\n",
      "71980 21 1295 0\n",
      "71990 21 22100 16.0\n",
      "72000 21 482 1.0\n",
      "72010 21 1877 0.0\n"
     ]
    },
    {
     "name": "stderr",
     "output_type": "stream",
     "text": [
      "/dados/anaconda3/lib/python3.7/site-packages/tbats/error/ExceptionHandler.py:13: ModelWarning: Optimization did not converge. Forecasts may be unstable.\n",
      "  warnings.warn(message, warning_type)\n",
      "/dados/anaconda3/lib/python3.7/site-packages/tbats/error/ExceptionHandler.py:13: ModelWarning: Optimization did not converge. Forecasts may be unstable.\n",
      "  warnings.warn(message, warning_type)\n"
     ]
    },
    {
     "name": "stdout",
     "output_type": "stream",
     "text": [
      "72020 21 1570 0.0\n"
     ]
    },
    {
     "name": "stderr",
     "output_type": "stream",
     "text": [
      "/dados/anaconda3/lib/python3.7/site-packages/tbats/error/ExceptionHandler.py:13: ModelWarning: Optimization did not converge. Forecasts may be unstable.\n",
      "  warnings.warn(message, warning_type)\n",
      "/dados/anaconda3/lib/python3.7/site-packages/tbats/error/ExceptionHandler.py:13: ModelWarning: Optimization did not converge. Forecasts may be unstable.\n",
      "  warnings.warn(message, warning_type)\n"
     ]
    },
    {
     "name": "stdout",
     "output_type": "stream",
     "text": [
      "72030 21 4003 0.0\n"
     ]
    },
    {
     "name": "stderr",
     "output_type": "stream",
     "text": [
      "/dados/anaconda3/lib/python3.7/site-packages/tbats/error/ExceptionHandler.py:13: ModelWarning: Optimization did not converge. Forecasts may be unstable.\n",
      "  warnings.warn(message, warning_type)\n"
     ]
    },
    {
     "name": "stdout",
     "output_type": "stream",
     "text": [
      "72040 21 3851 1.0\n"
     ]
    },
    {
     "name": "stderr",
     "output_type": "stream",
     "text": [
      "/dados/anaconda3/lib/python3.7/site-packages/tbats/error/ExceptionHandler.py:13: ModelWarning: Optimization did not converge. Forecasts may be unstable.\n",
      "  warnings.warn(message, warning_type)\n"
     ]
    },
    {
     "name": "stdout",
     "output_type": "stream",
     "text": [
      "72050 21 4420 0.0\n",
      "72060 21 4085 0.0\n"
     ]
    },
    {
     "name": "stderr",
     "output_type": "stream",
     "text": [
      "/dados/anaconda3/lib/python3.7/site-packages/tbats/error/ExceptionHandler.py:13: ModelWarning: Optimization did not converge. Forecasts may be unstable.\n",
      "  warnings.warn(message, warning_type)\n",
      "/dados/anaconda3/lib/python3.7/site-packages/tbats/error/ExceptionHandler.py:13: ModelWarning: Optimization did not converge. Forecasts may be unstable.\n",
      "  warnings.warn(message, warning_type)\n"
     ]
    },
    {
     "name": "stdout",
     "output_type": "stream",
     "text": [
      "72070 21 3528 0.0\n",
      "72080 21 3459 0\n",
      "72090 21 12771 0.0\n",
      "72100 21 13334 0\n"
     ]
    },
    {
     "name": "stderr",
     "output_type": "stream",
     "text": [
      "/dados/anaconda3/lib/python3.7/site-packages/tbats/error/ExceptionHandler.py:13: ModelWarning: Optimization did not converge. Forecasts may be unstable.\n",
      "  warnings.warn(message, warning_type)\n"
     ]
    },
    {
     "name": "stdout",
     "output_type": "stream",
     "text": [
      "72110 21 15047 1.0\n"
     ]
    },
    {
     "name": "stderr",
     "output_type": "stream",
     "text": [
      "/dados/anaconda3/lib/python3.7/site-packages/tbats/error/ExceptionHandler.py:13: ModelWarning: Optimization did not converge. Forecasts may be unstable.\n",
      "  warnings.warn(message, warning_type)\n",
      "/dados/anaconda3/lib/python3.7/site-packages/tbats/error/ExceptionHandler.py:13: ModelWarning: Optimization did not converge. Forecasts may be unstable.\n",
      "  warnings.warn(message, warning_type)\n"
     ]
    },
    {
     "name": "stdout",
     "output_type": "stream",
     "text": [
      "72120 21 13818 0.0\n"
     ]
    },
    {
     "name": "stderr",
     "output_type": "stream",
     "text": [
      "/dados/anaconda3/lib/python3.7/site-packages/tbats/error/ExceptionHandler.py:13: ModelWarning: Optimization did not converge. Forecasts may be unstable.\n",
      "  warnings.warn(message, warning_type)\n"
     ]
    },
    {
     "name": "stdout",
     "output_type": "stream",
     "text": [
      "72130 21 12549 0.0\n"
     ]
    },
    {
     "name": "stderr",
     "output_type": "stream",
     "text": [
      "/dados/anaconda3/lib/python3.7/site-packages/tbats/error/ExceptionHandler.py:13: ModelWarning: Optimization did not converge. Forecasts may be unstable.\n",
      "  warnings.warn(message, warning_type)\n",
      "/dados/anaconda3/lib/python3.7/site-packages/tbats/error/ExceptionHandler.py:13: ModelWarning: Optimization did not converge. Forecasts may be unstable.\n",
      "  warnings.warn(message, warning_type)\n"
     ]
    },
    {
     "name": "stdout",
     "output_type": "stream",
     "text": [
      "72140 21 12698 0\n",
      "72150 21 12360 0.0\n",
      "72160 21 11811 1.0\n",
      "72170 21 12023 0\n"
     ]
    },
    {
     "name": "stderr",
     "output_type": "stream",
     "text": [
      "/dados/anaconda3/lib/python3.7/site-packages/tbats/error/ExceptionHandler.py:13: ModelWarning: Optimization did not converge. Forecasts may be unstable.\n",
      "  warnings.warn(message, warning_type)\n"
     ]
    },
    {
     "name": "stdout",
     "output_type": "stream",
     "text": [
      "72180 21 13275 0\n"
     ]
    },
    {
     "name": "stderr",
     "output_type": "stream",
     "text": [
      "/dados/anaconda3/lib/python3.7/site-packages/tbats/error/ExceptionHandler.py:13: ModelWarning: Optimization did not converge. Forecasts may be unstable.\n",
      "  warnings.warn(message, warning_type)\n"
     ]
    },
    {
     "name": "stdout",
     "output_type": "stream",
     "text": [
      "72190 21 13303 0\n",
      "72200 21 13226 0\n",
      "72210 21 20609 0.0\n"
     ]
    },
    {
     "name": "stderr",
     "output_type": "stream",
     "text": [
      "/dados/anaconda3/lib/python3.7/site-packages/tbats/error/ExceptionHandler.py:13: ModelWarning: Optimization did not converge. Forecasts may be unstable.\n",
      "  warnings.warn(message, warning_type)\n"
     ]
    },
    {
     "name": "stdout",
     "output_type": "stream",
     "text": [
      "72220 21 19430 1.0\n",
      "72230 21 21942 0\n",
      "72240 21 18201 0.0\n",
      "72250 21 16122 0.0\n",
      "72260 21 14668 0.0\n",
      "72270 21 15323 0.0\n"
     ]
    },
    {
     "name": "stderr",
     "output_type": "stream",
     "text": [
      "/dados/anaconda3/lib/python3.7/site-packages/tbats/error/ExceptionHandler.py:13: ModelWarning: Optimization did not converge. Forecasts may be unstable.\n",
      "  warnings.warn(message, warning_type)\n"
     ]
    },
    {
     "name": "stdout",
     "output_type": "stream",
     "text": [
      "72280 21 17481 1.0\n",
      "72290 21 16541 0.0\n",
      "72300 21 1239 0.0\n"
     ]
    },
    {
     "name": "stderr",
     "output_type": "stream",
     "text": [
      "/dados/anaconda3/lib/python3.7/site-packages/tbats/error/ExceptionHandler.py:13: ModelWarning: Optimization did not converge. Forecasts may be unstable.\n",
      "  warnings.warn(message, warning_type)\n"
     ]
    },
    {
     "name": "stdout",
     "output_type": "stream",
     "text": [
      "72310 21 20631 0.0\n",
      "72320 21 2787 0\n",
      "72330 21 15282 1.0\n"
     ]
    },
    {
     "name": "stderr",
     "output_type": "stream",
     "text": [
      "/dados/anaconda3/lib/python3.7/site-packages/tbats/error/ExceptionHandler.py:13: ModelWarning: Optimization did not converge. Forecasts may be unstable.\n",
      "  warnings.warn(message, warning_type)\n"
     ]
    },
    {
     "name": "stdout",
     "output_type": "stream",
     "text": [
      "72340 21 16145 0\n",
      "72350 21 19125 0\n",
      "72360 21 17032 0\n",
      "72370 21 5383 0\n"
     ]
    },
    {
     "name": "stderr",
     "output_type": "stream",
     "text": [
      "/dados/anaconda3/lib/python3.7/site-packages/tbats/error/ExceptionHandler.py:13: ModelWarning: Optimization did not converge. Forecasts may be unstable.\n",
      "  warnings.warn(message, warning_type)\n",
      "/dados/anaconda3/lib/python3.7/site-packages/tbats/error/ExceptionHandler.py:13: ModelWarning: Optimization did not converge. Forecasts may be unstable.\n",
      "  warnings.warn(message, warning_type)\n"
     ]
    },
    {
     "name": "stdout",
     "output_type": "stream",
     "text": [
      "72380 21 4895 0.0\n",
      "72390 21 6505 0\n"
     ]
    },
    {
     "name": "stderr",
     "output_type": "stream",
     "text": [
      "/dados/anaconda3/lib/python3.7/site-packages/tbats/error/ExceptionHandler.py:13: ModelWarning: Optimization did not converge. Forecasts may be unstable.\n",
      "  warnings.warn(message, warning_type)\n"
     ]
    },
    {
     "name": "stdout",
     "output_type": "stream",
     "text": [
      "72400 21 6082 1.0\n",
      "72410 21 3822 1.0\n",
      "72420 21 6129 2.0\n"
     ]
    },
    {
     "name": "stderr",
     "output_type": "stream",
     "text": [
      "/dados/anaconda3/lib/python3.7/site-packages/tbats/error/ExceptionHandler.py:13: ModelWarning: Optimization did not converge. Forecasts may be unstable.\n",
      "  warnings.warn(message, warning_type)\n",
      "/dados/anaconda3/lib/python3.7/site-packages/tbats/error/ExceptionHandler.py:13: ModelWarning: Optimization did not converge. Forecasts may be unstable.\n",
      "  warnings.warn(message, warning_type)\n"
     ]
    },
    {
     "name": "stdout",
     "output_type": "stream",
     "text": [
      "72430 21 3833 1.0\n",
      "72440 21 3871 0.0\n",
      "72450 21 13285 6.0\n"
     ]
    },
    {
     "name": "stderr",
     "output_type": "stream",
     "text": [
      "/dados/anaconda3/lib/python3.7/site-packages/tbats/error/ExceptionHandler.py:13: ModelWarning: Optimization did not converge. Forecasts may be unstable.\n",
      "  warnings.warn(message, warning_type)\n"
     ]
    },
    {
     "name": "stdout",
     "output_type": "stream",
     "text": [
      "72460 21 11938 1.0\n",
      "72470 21 14457 1.0\n"
     ]
    },
    {
     "name": "stderr",
     "output_type": "stream",
     "text": [
      "/dados/anaconda3/lib/python3.7/site-packages/tbats/error/ExceptionHandler.py:13: ModelWarning: Optimization did not converge. Forecasts may be unstable.\n",
      "  warnings.warn(message, warning_type)\n",
      "/dados/anaconda3/lib/python3.7/site-packages/tbats/error/ExceptionHandler.py:13: ModelWarning: Optimization did not converge. Forecasts may be unstable.\n",
      "  warnings.warn(message, warning_type)\n"
     ]
    },
    {
     "name": "stdout",
     "output_type": "stream",
     "text": [
      "72480 21 7982 4.0\n",
      "72490 21 7224 0\n",
      "72500 21 10211 0.0\n"
     ]
    },
    {
     "name": "stderr",
     "output_type": "stream",
     "text": [
      "/dados/anaconda3/lib/python3.7/site-packages/tbats/error/ExceptionHandler.py:13: ModelWarning: Optimization did not converge. Forecasts may be unstable.\n",
      "  warnings.warn(message, warning_type)\n",
      "/dados/anaconda3/lib/python3.7/site-packages/tbats/error/ExceptionHandler.py:13: ModelWarning: Optimization did not converge. Forecasts may be unstable.\n",
      "  warnings.warn(message, warning_type)\n",
      "/dados/anaconda3/lib/python3.7/site-packages/tbats/error/ExceptionHandler.py:13: ModelWarning: Optimization did not converge. Forecasts may be unstable.\n",
      "  warnings.warn(message, warning_type)\n"
     ]
    },
    {
     "name": "stdout",
     "output_type": "stream",
     "text": [
      "72510 21 9404 1.0\n",
      "72520 21 4049 0.0\n"
     ]
    },
    {
     "name": "stderr",
     "output_type": "stream",
     "text": [
      "/dados/anaconda3/lib/python3.7/site-packages/tbats/error/ExceptionHandler.py:13: ModelWarning: Optimization did not converge. Forecasts may be unstable.\n",
      "  warnings.warn(message, warning_type)\n"
     ]
    },
    {
     "name": "stdout",
     "output_type": "stream",
     "text": [
      "72530 21 4999 0\n",
      "72540 21 3342 0.0\n"
     ]
    },
    {
     "name": "stderr",
     "output_type": "stream",
     "text": [
      "/dados/anaconda3/lib/python3.7/site-packages/tbats/error/ExceptionHandler.py:13: ModelWarning: Optimization did not converge. Forecasts may be unstable.\n",
      "  warnings.warn(message, warning_type)\n"
     ]
    },
    {
     "name": "stdout",
     "output_type": "stream",
     "text": [
      "72550 21 10190 0\n"
     ]
    },
    {
     "name": "stderr",
     "output_type": "stream",
     "text": [
      "/dados/anaconda3/lib/python3.7/site-packages/tbats/error/ExceptionHandler.py:13: ModelWarning: Optimization did not converge. Forecasts may be unstable.\n",
      "  warnings.warn(message, warning_type)\n"
     ]
    },
    {
     "name": "stdout",
     "output_type": "stream",
     "text": [
      "72560 21 9408 2.0\n",
      "72570 21 13237 0\n",
      "72580 21 10987 0.0\n",
      "72590 21 6625 1.0\n"
     ]
    },
    {
     "name": "stderr",
     "output_type": "stream",
     "text": [
      "/dados/anaconda3/lib/python3.7/site-packages/tbats/error/ExceptionHandler.py:13: ModelWarning: Optimization did not converge. Forecasts may be unstable.\n",
      "  warnings.warn(message, warning_type)\n"
     ]
    },
    {
     "name": "stdout",
     "output_type": "stream",
     "text": [
      "72600 21 6090 1.0\n",
      "72610 21 7019 0.0\n"
     ]
    },
    {
     "name": "stderr",
     "output_type": "stream",
     "text": [
      "/dados/anaconda3/lib/python3.7/site-packages/tbats/error/ExceptionHandler.py:13: ModelWarning: Optimization did not converge. Forecasts may be unstable.\n",
      "  warnings.warn(message, warning_type)\n",
      "/dados/anaconda3/lib/python3.7/site-packages/tbats/error/ExceptionHandler.py:13: ModelWarning: Optimization did not converge. Forecasts may be unstable.\n",
      "  warnings.warn(message, warning_type)\n"
     ]
    },
    {
     "name": "stdout",
     "output_type": "stream",
     "text": [
      "72620 21 12500 0.0\n"
     ]
    },
    {
     "name": "stderr",
     "output_type": "stream",
     "text": [
      "/dados/anaconda3/lib/python3.7/site-packages/tbats/error/ExceptionHandler.py:13: ModelWarning: Optimization did not converge. Forecasts may be unstable.\n",
      "  warnings.warn(message, warning_type)\n"
     ]
    },
    {
     "name": "stdout",
     "output_type": "stream",
     "text": [
      "72630 21 10448 0\n",
      "72640 21 12805 0.0\n"
     ]
    },
    {
     "name": "stderr",
     "output_type": "stream",
     "text": [
      "/dados/anaconda3/lib/python3.7/site-packages/tbats/error/ExceptionHandler.py:13: ModelWarning: Optimization did not converge. Forecasts may be unstable.\n",
      "  warnings.warn(message, warning_type)\n"
     ]
    },
    {
     "name": "stdout",
     "output_type": "stream",
     "text": [
      "72650 21 14247 0.0\n",
      "72660 21 7133 0\n"
     ]
    },
    {
     "name": "stderr",
     "output_type": "stream",
     "text": [
      "/dados/anaconda3/lib/python3.7/site-packages/tbats/error/ExceptionHandler.py:13: ModelWarning: Optimization did not converge. Forecasts may be unstable.\n",
      "  warnings.warn(message, warning_type)\n"
     ]
    },
    {
     "name": "stdout",
     "output_type": "stream",
     "text": [
      "72670 21 10292 0.0\n",
      "72680 21 1007 1.0\n",
      "72690 21 1717 0.0\n",
      "72700 21 14390 0.0\n",
      "72710 21 19908 0.0\n",
      "72720 21 17888 0\n",
      "72730 21 21722 0\n",
      "72740 21 940 0\n"
     ]
    },
    {
     "name": "stderr",
     "output_type": "stream",
     "text": [
      "/dados/anaconda3/lib/python3.7/site-packages/tbats/error/ExceptionHandler.py:13: ModelWarning: Optimization did not converge. Forecasts may be unstable.\n",
      "  warnings.warn(message, warning_type)\n"
     ]
    },
    {
     "name": "stdout",
     "output_type": "stream",
     "text": [
      "72750 21 18926 1.0\n"
     ]
    },
    {
     "name": "stderr",
     "output_type": "stream",
     "text": [
      "/dados/anaconda3/lib/python3.7/site-packages/tbats/error/ExceptionHandler.py:13: ModelWarning: Optimization did not converge. Forecasts may be unstable.\n",
      "  warnings.warn(message, warning_type)\n"
     ]
    },
    {
     "name": "stdout",
     "output_type": "stream",
     "text": [
      "72760 21 17772 0\n",
      "72770 21 19219 0\n"
     ]
    },
    {
     "name": "stderr",
     "output_type": "stream",
     "text": [
      "/dados/anaconda3/lib/python3.7/site-packages/tbats/error/ExceptionHandler.py:13: ModelWarning: Optimization did not converge. Forecasts may be unstable.\n",
      "  warnings.warn(message, warning_type)\n"
     ]
    },
    {
     "name": "stdout",
     "output_type": "stream",
     "text": [
      "72780 21 20225 1.0\n",
      "72790 21 5816 0.0\n",
      "72800 21 8868 0\n",
      "72810 21 17459 0\n"
     ]
    },
    {
     "name": "stderr",
     "output_type": "stream",
     "text": [
      "/dados/anaconda3/lib/python3.7/site-packages/tbats/error/ExceptionHandler.py:13: ModelWarning: Optimization did not converge. Forecasts may be unstable.\n",
      "  warnings.warn(message, warning_type)\n",
      "/dados/anaconda3/lib/python3.7/site-packages/tbats/error/ExceptionHandler.py:13: ModelWarning: Optimization did not converge. Forecasts may be unstable.\n",
      "  warnings.warn(message, warning_type)\n"
     ]
    },
    {
     "name": "stdout",
     "output_type": "stream",
     "text": [
      "72820 21 17420 0.0\n",
      "72830 21 10812 0\n",
      "72840 21 11771 0\n"
     ]
    },
    {
     "name": "stderr",
     "output_type": "stream",
     "text": [
      "/dados/anaconda3/lib/python3.7/site-packages/tbats/error/ExceptionHandler.py:13: ModelWarning: Optimization did not converge. Forecasts may be unstable.\n",
      "  warnings.warn(message, warning_type)\n"
     ]
    },
    {
     "name": "stdout",
     "output_type": "stream",
     "text": [
      "72850 21 10554 0\n",
      "72860 21 10378 1.0\n",
      "72870 21 16125 0.0\n",
      "72880 21 15300 1.0\n",
      "72890 21 17270 4.0\n",
      "72900 21 16735 0.0\n"
     ]
    },
    {
     "name": "stderr",
     "output_type": "stream",
     "text": [
      "/dados/anaconda3/lib/python3.7/site-packages/tbats/error/ExceptionHandler.py:13: ModelWarning: Optimization did not converge. Forecasts may be unstable.\n",
      "  warnings.warn(message, warning_type)\n"
     ]
    },
    {
     "name": "stdout",
     "output_type": "stream",
     "text": [
      "72910 21 13893 0.0\n",
      "72920 21 13633 0\n",
      "72930 21 14267 2.0\n",
      "72940 21 7592 0\n",
      "72950 21 8734 0.0\n",
      "72960 21 8986 0.0\n"
     ]
    },
    {
     "name": "stderr",
     "output_type": "stream",
     "text": [
      "/dados/anaconda3/lib/python3.7/site-packages/tbats/error/ExceptionHandler.py:13: ModelWarning: Optimization did not converge. Forecasts may be unstable.\n",
      "  warnings.warn(message, warning_type)\n"
     ]
    },
    {
     "name": "stdout",
     "output_type": "stream",
     "text": [
      "72970 21 8453 0\n",
      "72980 21 4141 0\n",
      "72990 21 6420 0\n"
     ]
    },
    {
     "name": "stderr",
     "output_type": "stream",
     "text": [
      "/dados/anaconda3/lib/python3.7/site-packages/tbats/error/ExceptionHandler.py:13: ModelWarning: Optimization did not converge. Forecasts may be unstable.\n",
      "  warnings.warn(message, warning_type)\n"
     ]
    },
    {
     "name": "stdout",
     "output_type": "stream",
     "text": [
      "73000 21 11266 0.0\n",
      "73010 21 13270 0\n",
      "73020 21 13100 0.0\n",
      "73030 21 10146 0.0\n"
     ]
    },
    {
     "name": "stderr",
     "output_type": "stream",
     "text": [
      "/dados/anaconda3/lib/python3.7/site-packages/tbats/error/ExceptionHandler.py:13: ModelWarning: Optimization did not converge. Forecasts may be unstable.\n",
      "  warnings.warn(message, warning_type)\n"
     ]
    },
    {
     "name": "stdout",
     "output_type": "stream",
     "text": [
      "73040 21 10425 0\n",
      "73050 21 11365 0\n",
      "73060 21 14848 0\n",
      "73070 21 21367 1.0\n",
      "73080 21 8077 0.0\n",
      "73090 21 12286 0.0\n",
      "73100 21 3028 0.0\n",
      "73110 21 3862 0.0\n"
     ]
    },
    {
     "name": "stderr",
     "output_type": "stream",
     "text": [
      "/dados/anaconda3/lib/python3.7/site-packages/tbats/error/ExceptionHandler.py:13: ModelWarning: Optimization did not converge. Forecasts may be unstable.\n",
      "  warnings.warn(message, warning_type)\n",
      "/dados/anaconda3/lib/python3.7/site-packages/tbats/error/ExceptionHandler.py:13: ModelWarning: Optimization did not converge. Forecasts may be unstable.\n",
      "  warnings.warn(message, warning_type)\n"
     ]
    },
    {
     "name": "stdout",
     "output_type": "stream",
     "text": [
      "73120 21 794 0\n",
      "73130 21 353 0\n",
      "73140 21 1074 0.0\n"
     ]
    },
    {
     "name": "stderr",
     "output_type": "stream",
     "text": [
      "/dados/anaconda3/lib/python3.7/site-packages/tbats/error/ExceptionHandler.py:13: ModelWarning: Optimization did not converge. Forecasts may be unstable.\n",
      "  warnings.warn(message, warning_type)\n"
     ]
    },
    {
     "name": "stdout",
     "output_type": "stream",
     "text": [
      "73150 21 13208 0\n"
     ]
    },
    {
     "name": "stderr",
     "output_type": "stream",
     "text": [
      "/dados/anaconda3/lib/python3.7/site-packages/tbats/error/ExceptionHandler.py:13: ModelWarning: Optimization did not converge. Forecasts may be unstable.\n",
      "  warnings.warn(message, warning_type)\n",
      "/dados/anaconda3/lib/python3.7/site-packages/tbats/error/ExceptionHandler.py:13: ModelWarning: Optimization did not converge. Forecasts may be unstable.\n",
      "  warnings.warn(message, warning_type)\n"
     ]
    },
    {
     "name": "stdout",
     "output_type": "stream",
     "text": [
      "73160 21 12501 0.0\n",
      "73170 21 10045 0\n"
     ]
    },
    {
     "name": "stderr",
     "output_type": "stream",
     "text": [
      "/dados/anaconda3/lib/python3.7/site-packages/tbats/error/ExceptionHandler.py:13: ModelWarning: Optimization did not converge. Forecasts may be unstable.\n",
      "  warnings.warn(message, warning_type)\n",
      "/dados/anaconda3/lib/python3.7/site-packages/tbats/error/ExceptionHandler.py:13: ModelWarning: Optimization did not converge. Forecasts may be unstable.\n",
      "  warnings.warn(message, warning_type)\n"
     ]
    },
    {
     "name": "stdout",
     "output_type": "stream",
     "text": [
      "73180 21 12090 0.0\n"
     ]
    },
    {
     "name": "stderr",
     "output_type": "stream",
     "text": [
      "/dados/anaconda3/lib/python3.7/site-packages/tbats/error/ExceptionHandler.py:13: ModelWarning: Optimization did not converge. Forecasts may be unstable.\n",
      "  warnings.warn(message, warning_type)\n"
     ]
    },
    {
     "name": "stdout",
     "output_type": "stream",
     "text": [
      "73190 21 11534 0.0\n"
     ]
    },
    {
     "name": "stderr",
     "output_type": "stream",
     "text": [
      "/dados/anaconda3/lib/python3.7/site-packages/tbats/error/ExceptionHandler.py:13: ModelWarning: Optimization did not converge. Forecasts may be unstable.\n",
      "  warnings.warn(message, warning_type)\n"
     ]
    },
    {
     "name": "stdout",
     "output_type": "stream",
     "text": [
      "73200 21 15512 0\n",
      "73210 21 15166 0\n",
      "73220 21 16534 1.0\n"
     ]
    },
    {
     "name": "stderr",
     "output_type": "stream",
     "text": [
      "/dados/anaconda3/lib/python3.7/site-packages/tbats/error/ExceptionHandler.py:13: ModelWarning: Optimization did not converge. Forecasts may be unstable.\n",
      "  warnings.warn(message, warning_type)\n"
     ]
    },
    {
     "name": "stdout",
     "output_type": "stream",
     "text": [
      "73230 21 16155 1.0\n"
     ]
    },
    {
     "name": "stderr",
     "output_type": "stream",
     "text": [
      "/dados/anaconda3/lib/python3.7/site-packages/tbats/error/ExceptionHandler.py:13: ModelWarning: Optimization did not converge. Forecasts may be unstable.\n",
      "  warnings.warn(message, warning_type)\n"
     ]
    },
    {
     "name": "stdout",
     "output_type": "stream",
     "text": [
      "73240 21 12830 0.0\n",
      "73250 21 14124 2.0\n",
      "73260 21 5945 0.0\n",
      "73270 21 6678 0\n",
      "73280 21 4944 0\n",
      "73290 21 5517 0\n",
      "73300 21 8398 0\n"
     ]
    },
    {
     "name": "stderr",
     "output_type": "stream",
     "text": [
      "/dados/anaconda3/lib/python3.7/site-packages/tbats/error/ExceptionHandler.py:13: ModelWarning: Optimization did not converge. Forecasts may be unstable.\n",
      "  warnings.warn(message, warning_type)\n"
     ]
    },
    {
     "name": "stdout",
     "output_type": "stream",
     "text": [
      "73310 21 7458 1.0\n",
      "73320 21 7882 0.0\n",
      "73330 21 7793 7.0\n",
      "73340 21 3477 0\n"
     ]
    },
    {
     "name": "stderr",
     "output_type": "stream",
     "text": [
      "/dados/anaconda3/lib/python3.7/site-packages/tbats/error/ExceptionHandler.py:13: ModelWarning: Optimization did not converge. Forecasts may be unstable.\n",
      "  warnings.warn(message, warning_type)\n",
      "/dados/anaconda3/lib/python3.7/site-packages/tbats/error/ExceptionHandler.py:13: ModelWarning: Optimization did not converge. Forecasts may be unstable.\n",
      "  warnings.warn(message, warning_type)\n"
     ]
    },
    {
     "name": "stdout",
     "output_type": "stream",
     "text": [
      "73350 21 8686 1.0\n"
     ]
    },
    {
     "name": "stderr",
     "output_type": "stream",
     "text": [
      "/dados/anaconda3/lib/python3.7/site-packages/tbats/error/ExceptionHandler.py:13: ModelWarning: Optimization did not converge. Forecasts may be unstable.\n",
      "  warnings.warn(message, warning_type)\n"
     ]
    },
    {
     "name": "stdout",
     "output_type": "stream",
     "text": [
      "73360 21 20560 0\n",
      "73370 21 19874 0\n",
      "73380 21 17869 0.0\n"
     ]
    },
    {
     "name": "stderr",
     "output_type": "stream",
     "text": [
      "/dados/anaconda3/lib/python3.7/site-packages/tbats/error/ExceptionHandler.py:13: ModelWarning: Optimization did not converge. Forecasts may be unstable.\n",
      "  warnings.warn(message, warning_type)\n"
     ]
    },
    {
     "name": "stdout",
     "output_type": "stream",
     "text": [
      "73390 21 21548 0\n",
      "73400 21 18255 0.0\n"
     ]
    },
    {
     "name": "stderr",
     "output_type": "stream",
     "text": [
      "/dados/anaconda3/lib/python3.7/site-packages/tbats/error/ExceptionHandler.py:13: ModelWarning: Optimization did not converge. Forecasts may be unstable.\n",
      "  warnings.warn(message, warning_type)\n",
      "/dados/anaconda3/lib/python3.7/site-packages/tbats/error/ExceptionHandler.py:13: ModelWarning: Optimization did not converge. Forecasts may be unstable.\n",
      "  warnings.warn(message, warning_type)\n"
     ]
    },
    {
     "name": "stdout",
     "output_type": "stream",
     "text": [
      "73410 21 2639 0.0\n"
     ]
    },
    {
     "name": "stderr",
     "output_type": "stream",
     "text": [
      "/dados/anaconda3/lib/python3.7/site-packages/tbats/error/ExceptionHandler.py:13: ModelWarning: Optimization did not converge. Forecasts may be unstable.\n",
      "  warnings.warn(message, warning_type)\n"
     ]
    },
    {
     "name": "stdout",
     "output_type": "stream",
     "text": [
      "73420 21 21827 0\n",
      "73430 21 1238 0\n",
      "73440 21 1247 1.0\n",
      "73450 21 269 0\n",
      "73460 21 687 0.0\n"
     ]
    },
    {
     "name": "stderr",
     "output_type": "stream",
     "text": [
      "/dados/anaconda3/lib/python3.7/site-packages/tbats/error/ExceptionHandler.py:13: ModelWarning: Optimization did not converge. Forecasts may be unstable.\n",
      "  warnings.warn(message, warning_type)\n",
      "/dados/anaconda3/lib/python3.7/site-packages/tbats/error/ExceptionHandler.py:13: ModelWarning: Optimization did not converge. Forecasts may be unstable.\n",
      "  warnings.warn(message, warning_type)\n"
     ]
    },
    {
     "name": "stdout",
     "output_type": "stream",
     "text": [
      "73470 21 93 0.0\n",
      "73480 21 20718 0\n"
     ]
    },
    {
     "name": "stderr",
     "output_type": "stream",
     "text": [
      "/dados/anaconda3/lib/python3.7/site-packages/tbats/error/ExceptionHandler.py:13: ModelWarning: Optimization did not converge. Forecasts may be unstable.\n",
      "  warnings.warn(message, warning_type)\n"
     ]
    },
    {
     "name": "stdout",
     "output_type": "stream",
     "text": [
      "73490 21 42 0.0\n",
      "73500 21 21842 0.0\n"
     ]
    },
    {
     "name": "stderr",
     "output_type": "stream",
     "text": [
      "/dados/anaconda3/lib/python3.7/site-packages/tbats/error/ExceptionHandler.py:13: ModelWarning: Optimization did not converge. Forecasts may be unstable.\n",
      "  warnings.warn(message, warning_type)\n"
     ]
    },
    {
     "name": "stdout",
     "output_type": "stream",
     "text": [
      "73510 21 2324 0\n",
      "73520 21 1663 0\n"
     ]
    },
    {
     "name": "stderr",
     "output_type": "stream",
     "text": [
      "/dados/anaconda3/lib/python3.7/site-packages/tbats/error/ExceptionHandler.py:13: ModelWarning: Optimization did not converge. Forecasts may be unstable.\n",
      "  warnings.warn(message, warning_type)\n"
     ]
    },
    {
     "name": "stdout",
     "output_type": "stream",
     "text": [
      "73530 21 3080 0\n",
      "73540 21 2886 1.0\n",
      "73550 21 13587 0\n",
      "73560 21 13691 0\n",
      "73570 21 15169 3.0\n"
     ]
    },
    {
     "name": "stderr",
     "output_type": "stream",
     "text": [
      "/dados/anaconda3/lib/python3.7/site-packages/tbats/error/ExceptionHandler.py:13: ModelWarning: Optimization did not converge. Forecasts may be unstable.\n",
      "  warnings.warn(message, warning_type)\n"
     ]
    },
    {
     "name": "stdout",
     "output_type": "stream",
     "text": [
      "73580 21 14973 0\n",
      "73590 21 13113 0\n",
      "73600 21 11711 0.0\n"
     ]
    },
    {
     "name": "stderr",
     "output_type": "stream",
     "text": [
      "/dados/anaconda3/lib/python3.7/site-packages/tbats/error/ExceptionHandler.py:13: ModelWarning: Optimization did not converge. Forecasts may be unstable.\n",
      "  warnings.warn(message, warning_type)\n"
     ]
    },
    {
     "name": "stdout",
     "output_type": "stream",
     "text": [
      "73610 21 13231 0\n",
      "73620 21 18677 0.0\n"
     ]
    },
    {
     "name": "stderr",
     "output_type": "stream",
     "text": [
      "/dados/anaconda3/lib/python3.7/site-packages/tbats/error/ExceptionHandler.py:13: ModelWarning: Optimization did not converge. Forecasts may be unstable.\n",
      "  warnings.warn(message, warning_type)\n"
     ]
    },
    {
     "name": "stdout",
     "output_type": "stream",
     "text": [
      "73630 21 18686 0.0\n"
     ]
    },
    {
     "name": "stderr",
     "output_type": "stream",
     "text": [
      "/dados/anaconda3/lib/python3.7/site-packages/tbats/error/ExceptionHandler.py:13: ModelWarning: Optimization did not converge. Forecasts may be unstable.\n",
      "  warnings.warn(message, warning_type)\n"
     ]
    },
    {
     "name": "stdout",
     "output_type": "stream",
     "text": [
      "73640 21 20374 0.0\n",
      "73650 21 20571 0\n",
      "73660 21 19621 0\n"
     ]
    },
    {
     "name": "stderr",
     "output_type": "stream",
     "text": [
      "/dados/anaconda3/lib/python3.7/site-packages/tbats/error/ExceptionHandler.py:13: ModelWarning: Optimization did not converge. Forecasts may be unstable.\n",
      "  warnings.warn(message, warning_type)\n",
      "/dados/anaconda3/lib/python3.7/site-packages/tbats/error/ExceptionHandler.py:13: ModelWarning: Optimization did not converge. Forecasts may be unstable.\n",
      "  warnings.warn(message, warning_type)\n"
     ]
    },
    {
     "name": "stdout",
     "output_type": "stream",
     "text": [
      "73670 21 16036 9.0\n",
      "73680 21 15276 0.0\n",
      "73690 21 16177 1.0\n",
      "73700 21 8687 0.0\n",
      "73710 21 9171 0.0\n",
      "73720 21 9366 0\n",
      "73730 21 7459 0.0\n"
     ]
    },
    {
     "name": "stderr",
     "output_type": "stream",
     "text": [
      "/dados/anaconda3/lib/python3.7/site-packages/tbats/error/ExceptionHandler.py:13: ModelWarning: Optimization did not converge. Forecasts may be unstable.\n",
      "  warnings.warn(message, warning_type)\n"
     ]
    },
    {
     "name": "stdout",
     "output_type": "stream",
     "text": [
      "73740 21 8148 0\n",
      "73750 21 8510 0.0\n",
      "73760 21 9449 0.0\n",
      "73770 21 10786 1.0\n"
     ]
    },
    {
     "name": "stderr",
     "output_type": "stream",
     "text": [
      "/dados/anaconda3/lib/python3.7/site-packages/tbats/error/ExceptionHandler.py:13: ModelWarning: Optimization did not converge. Forecasts may be unstable.\n",
      "  warnings.warn(message, warning_type)\n"
     ]
    },
    {
     "name": "stdout",
     "output_type": "stream",
     "text": [
      "73780 21 10669 0.0\n"
     ]
    },
    {
     "name": "stderr",
     "output_type": "stream",
     "text": [
      "/dados/anaconda3/lib/python3.7/site-packages/tbats/error/ExceptionHandler.py:13: ModelWarning: Optimization did not converge. Forecasts may be unstable.\n",
      "  warnings.warn(message, warning_type)\n"
     ]
    },
    {
     "name": "stdout",
     "output_type": "stream",
     "text": [
      "73790 21 11379 0.0\n",
      "73800 21 11542 0\n",
      "73810 21 10893 0\n",
      "73820 21 9539 0.0\n",
      "73830 21 10325 1.0\n",
      "73840 21 9840 0\n"
     ]
    },
    {
     "name": "stderr",
     "output_type": "stream",
     "text": [
      "/dados/anaconda3/lib/python3.7/site-packages/tbats/error/ExceptionHandler.py:13: ModelWarning: Optimization did not converge. Forecasts may be unstable.\n",
      "  warnings.warn(message, warning_type)\n"
     ]
    },
    {
     "name": "stdout",
     "output_type": "stream",
     "text": [
      "73850 21 10003 0.0\n",
      "73860 21 4708 2.0\n"
     ]
    },
    {
     "name": "stderr",
     "output_type": "stream",
     "text": [
      "/dados/anaconda3/lib/python3.7/site-packages/tbats/error/ExceptionHandler.py:13: ModelWarning: Optimization did not converge. Forecasts may be unstable.\n",
      "  warnings.warn(message, warning_type)\n"
     ]
    },
    {
     "name": "stdout",
     "output_type": "stream",
     "text": [
      "73870 21 4604 0.0\n",
      "73880 21 5323 3.0\n",
      "73890 21 3897 0.0\n"
     ]
    },
    {
     "name": "stderr",
     "output_type": "stream",
     "text": [
      "/dados/anaconda3/lib/python3.7/site-packages/tbats/error/ExceptionHandler.py:13: ModelWarning: Optimization did not converge. Forecasts may be unstable.\n",
      "  warnings.warn(message, warning_type)\n"
     ]
    },
    {
     "name": "stdout",
     "output_type": "stream",
     "text": [
      "73900 21 3919 0\n",
      "73910 21 3787 3.0\n",
      "73920 21 4088 0\n",
      "73930 21 6695 2.0\n"
     ]
    },
    {
     "name": "stderr",
     "output_type": "stream",
     "text": [
      "/dados/anaconda3/lib/python3.7/site-packages/tbats/error/ExceptionHandler.py:13: ModelWarning: Optimization did not converge. Forecasts may be unstable.\n",
      "  warnings.warn(message, warning_type)\n"
     ]
    },
    {
     "name": "stdout",
     "output_type": "stream",
     "text": [
      "73940 21 6378 0.0\n",
      "73950 21 6857 0.0\n",
      "73960 21 5659 0.0\n"
     ]
    },
    {
     "name": "stderr",
     "output_type": "stream",
     "text": [
      "/dados/anaconda3/lib/python3.7/site-packages/tbats/error/ExceptionHandler.py:13: ModelWarning: Optimization did not converge. Forecasts may be unstable.\n",
      "  warnings.warn(message, warning_type)\n"
     ]
    },
    {
     "name": "stdout",
     "output_type": "stream",
     "text": [
      "73970 21 3354 0\n",
      "73980 21 1538 0\n"
     ]
    },
    {
     "name": "stderr",
     "output_type": "stream",
     "text": [
      "/dados/anaconda3/lib/python3.7/site-packages/tbats/error/ExceptionHandler.py:13: ModelWarning: Optimization did not converge. Forecasts may be unstable.\n",
      "  warnings.warn(message, warning_type)\n"
     ]
    },
    {
     "name": "stdout",
     "output_type": "stream",
     "text": [
      "73990 21 22111 0.0\n"
     ]
    },
    {
     "name": "stderr",
     "output_type": "stream",
     "text": [
      "/dados/anaconda3/lib/python3.7/site-packages/tbats/error/ExceptionHandler.py:13: ModelWarning: Optimization did not converge. Forecasts may be unstable.\n",
      "  warnings.warn(message, warning_type)\n"
     ]
    },
    {
     "name": "stdout",
     "output_type": "stream",
     "text": [
      "74000 21 9019 0.0\n",
      "74010 21 11968 1.0\n",
      "74020 21 6027 0.0\n",
      "74030 21 18361 0.0\n",
      "74040 21 18629 0\n",
      "74050 21 17883 0.0\n",
      "74060 21 18108 0\n",
      "74070 21 19126 0.0\n",
      "74080 21 19488 0\n"
     ]
    },
    {
     "name": "stderr",
     "output_type": "stream",
     "text": [
      "/dados/anaconda3/lib/python3.7/site-packages/tbats/error/ExceptionHandler.py:13: ModelWarning: Optimization did not converge. Forecasts may be unstable.\n",
      "  warnings.warn(message, warning_type)\n"
     ]
    },
    {
     "name": "stdout",
     "output_type": "stream",
     "text": [
      "74090 21 18759 0\n",
      "74100 21 18979 0\n",
      "74110 21 3236 0.0\n",
      "74120 21 19588 0.0\n",
      "74130 21 20952 0\n",
      "74140 21 21207 0\n",
      "74150 21 20833 0\n",
      "74160 21 20274 0.0\n",
      "74170 21 21795 0.0\n",
      "74180 21 21792 0.0\n",
      "74190 21 19951 0.0\n",
      "74200 21 19852 0\n",
      "74210 21 20600 0\n",
      "74220 21 20581 0.0\n",
      "74230 21 6312 0.0\n",
      "74240 21 3634 0.0\n",
      "74250 21 4707 0\n",
      "74260 21 8888 0.0\n",
      "74270 21 10099 0.0\n"
     ]
    },
    {
     "name": "stderr",
     "output_type": "stream",
     "text": [
      "/dados/anaconda3/lib/python3.7/site-packages/tbats/error/ExceptionHandler.py:13: ModelWarning: Optimization did not converge. Forecasts may be unstable.\n",
      "  warnings.warn(message, warning_type)\n"
     ]
    },
    {
     "name": "stdout",
     "output_type": "stream",
     "text": [
      "74280 21 6807 0\n",
      "74290 21 8112 0\n"
     ]
    },
    {
     "name": "stderr",
     "output_type": "stream",
     "text": [
      "/dados/anaconda3/lib/python3.7/site-packages/tbats/error/ExceptionHandler.py:13: ModelWarning: Optimization did not converge. Forecasts may be unstable.\n",
      "  warnings.warn(message, warning_type)\n"
     ]
    },
    {
     "name": "stdout",
     "output_type": "stream",
     "text": [
      "74300 21 19118 20.0\n"
     ]
    },
    {
     "name": "stderr",
     "output_type": "stream",
     "text": [
      "/dados/anaconda3/lib/python3.7/site-packages/tbats/error/ExceptionHandler.py:13: ModelWarning: Optimization did not converge. Forecasts may be unstable.\n",
      "  warnings.warn(message, warning_type)\n",
      "/dados/anaconda3/lib/python3.7/site-packages/tbats/error/ExceptionHandler.py:13: ModelWarning: Optimization did not converge. Forecasts may be unstable.\n",
      "  warnings.warn(message, warning_type)\n",
      "/dados/anaconda3/lib/python3.7/site-packages/tbats/error/ExceptionHandler.py:13: ModelWarning: Optimization did not converge. Forecasts may be unstable.\n",
      "  warnings.warn(message, warning_type)\n"
     ]
    },
    {
     "name": "stdout",
     "output_type": "stream",
     "text": [
      "74310 21 21790 0\n",
      "74320 21 13630 0\n"
     ]
    },
    {
     "name": "stderr",
     "output_type": "stream",
     "text": [
      "/dados/anaconda3/lib/python3.7/site-packages/tbats/error/ExceptionHandler.py:13: ModelWarning: Optimization did not converge. Forecasts may be unstable.\n",
      "  warnings.warn(message, warning_type)\n"
     ]
    },
    {
     "name": "stdout",
     "output_type": "stream",
     "text": [
      "74330 21 15478 0.0\n",
      "74340 21 15226 1.0\n"
     ]
    },
    {
     "name": "stderr",
     "output_type": "stream",
     "text": [
      "/dados/anaconda3/lib/python3.7/site-packages/tbats/error/ExceptionHandler.py:13: ModelWarning: Optimization did not converge. Forecasts may be unstable.\n",
      "  warnings.warn(message, warning_type)\n"
     ]
    },
    {
     "name": "stdout",
     "output_type": "stream",
     "text": [
      "74350 21 2585 0\n",
      "74360 21 2213 0\n",
      "74370 21 1611 0.0\n",
      "74380 21 12504 0.0\n",
      "74390 21 13445 0\n"
     ]
    },
    {
     "name": "stderr",
     "output_type": "stream",
     "text": [
      "/dados/anaconda3/lib/python3.7/site-packages/tbats/error/ExceptionHandler.py:13: ModelWarning: Optimization did not converge. Forecasts may be unstable.\n",
      "  warnings.warn(message, warning_type)\n"
     ]
    },
    {
     "name": "stdout",
     "output_type": "stream",
     "text": [
      "74400 21 11915 0.0\n",
      "74410 21 20739 0.0\n",
      "74420 21 21196 0\n",
      "74430 21 14108 0\n"
     ]
    },
    {
     "name": "stderr",
     "output_type": "stream",
     "text": [
      "/dados/anaconda3/lib/python3.7/site-packages/tbats/error/ExceptionHandler.py:13: ModelWarning: Optimization did not converge. Forecasts may be unstable.\n",
      "  warnings.warn(message, warning_type)\n"
     ]
    },
    {
     "name": "stdout",
     "output_type": "stream",
     "text": [
      "74440 21 3457 0\n",
      "74450 21 3096 0\n",
      "74460 21 15260 2.0\n",
      "74470 21 17157 0.0\n",
      "74480 21 413 5.0\n"
     ]
    },
    {
     "name": "stderr",
     "output_type": "stream",
     "text": [
      "/dados/anaconda3/lib/python3.7/site-packages/tbats/error/ExceptionHandler.py:13: ModelWarning: Optimization did not converge. Forecasts may be unstable.\n",
      "  warnings.warn(message, warning_type)\n"
     ]
    },
    {
     "name": "stdout",
     "output_type": "stream",
     "text": [
      "74490 21 1010 0.0\n",
      "74500 21 4364 0.0\n",
      "74510 21 6528 0\n",
      "74520 21 5470 0.0\n",
      "74530 21 19337 0.0\n",
      "74540 21 18017 0.0\n",
      "74550 21 14892 0.0\n",
      "74560 21 20393 2.0\n",
      "74570 21 15171 1.0\n",
      "74580 21 16093 0\n"
     ]
    },
    {
     "name": "stderr",
     "output_type": "stream",
     "text": [
      "/dados/anaconda3/lib/python3.7/site-packages/tbats/error/ExceptionHandler.py:13: ModelWarning: Optimization did not converge. Forecasts may be unstable.\n",
      "  warnings.warn(message, warning_type)\n",
      "/dados/anaconda3/lib/python3.7/site-packages/tbats/error/ExceptionHandler.py:13: ModelWarning: Optimization did not converge. Forecasts may be unstable.\n",
      "  warnings.warn(message, warning_type)\n",
      "/dados/anaconda3/lib/python3.7/site-packages/tbats/error/ExceptionHandler.py:13: ModelWarning: Optimization did not converge. Forecasts may be unstable.\n",
      "  warnings.warn(message, warning_type)\n"
     ]
    },
    {
     "name": "stdout",
     "output_type": "stream",
     "text": [
      "74590 21 16111 0.0\n",
      "74600 21 14962 0\n",
      "74610 21 16207 0.0\n",
      "74620 21 16786 0.0\n",
      "74630 21 8157 0.0\n"
     ]
    },
    {
     "name": "stderr",
     "output_type": "stream",
     "text": [
      "/dados/anaconda3/lib/python3.7/site-packages/tbats/error/ExceptionHandler.py:13: ModelWarning: Optimization did not converge. Forecasts may be unstable.\n",
      "  warnings.warn(message, warning_type)\n"
     ]
    },
    {
     "name": "stdout",
     "output_type": "stream",
     "text": [
      "74640 21 13448 0\n",
      "74650 21 13224 0\n",
      "74660 21 13512 0.0\n",
      "74670 21 13288 0\n",
      "74680 21 14164 0.0\n",
      "74690 21 12808 0.0\n",
      "74700 21 13647 0\n"
     ]
    },
    {
     "name": "stderr",
     "output_type": "stream",
     "text": [
      "/dados/anaconda3/lib/python3.7/site-packages/tbats/error/ExceptionHandler.py:13: ModelWarning: Optimization did not converge. Forecasts may be unstable.\n",
      "  warnings.warn(message, warning_type)\n"
     ]
    },
    {
     "name": "stdout",
     "output_type": "stream",
     "text": [
      "74710 21 12332 0\n",
      "74720 21 12091 0.0\n"
     ]
    },
    {
     "name": "stderr",
     "output_type": "stream",
     "text": [
      "/dados/anaconda3/lib/python3.7/site-packages/tbats/error/ExceptionHandler.py:13: ModelWarning: Optimization did not converge. Forecasts may be unstable.\n",
      "  warnings.warn(message, warning_type)\n"
     ]
    },
    {
     "name": "stdout",
     "output_type": "stream",
     "text": [
      "74730 21 11268 0.0\n",
      "74740 21 13223 0\n",
      "74750 21 13221 0\n",
      "74760 21 16179 0\n",
      "74770 21 15524 0.0\n",
      "74780 21 16045 0.0\n"
     ]
    },
    {
     "name": "stderr",
     "output_type": "stream",
     "text": [
      "/dados/anaconda3/lib/python3.7/site-packages/tbats/error/ExceptionHandler.py:13: ModelWarning: Optimization did not converge. Forecasts may be unstable.\n",
      "  warnings.warn(message, warning_type)\n"
     ]
    },
    {
     "name": "stdout",
     "output_type": "stream",
     "text": [
      "74790 21 16910 0\n",
      "74800 21 15667 0\n"
     ]
    },
    {
     "name": "stderr",
     "output_type": "stream",
     "text": [
      "/dados/anaconda3/lib/python3.7/site-packages/tbats/error/ExceptionHandler.py:13: ModelWarning: Optimization did not converge. Forecasts may be unstable.\n",
      "  warnings.warn(message, warning_type)\n"
     ]
    },
    {
     "name": "stdout",
     "output_type": "stream",
     "text": [
      "74810 21 16243 0\n",
      "74820 21 16349 0\n",
      "74830 21 15015 0.0\n",
      "74840 21 15134 1.0\n",
      "74850 21 14987 0\n",
      "74860 21 15318 0\n",
      "74870 21 15168 0\n"
     ]
    },
    {
     "name": "stderr",
     "output_type": "stream",
     "text": [
      "/dados/anaconda3/lib/python3.7/site-packages/tbats/error/ExceptionHandler.py:13: ModelWarning: Optimization did not converge. Forecasts may be unstable.\n",
      "  warnings.warn(message, warning_type)\n"
     ]
    },
    {
     "name": "stdout",
     "output_type": "stream",
     "text": [
      "74880 21 15220 1.0\n",
      "74890 21 6870 0\n",
      "74900 21 4480 0.0\n",
      "74910 21 5063 0\n",
      "74920 21 5155 0\n",
      "74930 21 5187 0\n",
      "74940 21 5121 0\n",
      "74950 21 10069 0\n",
      "74960 21 10287 0.0\n",
      "74970 21 10180 0.0\n",
      "74980 21 10772 0.0\n",
      "74990 21 11363 0.0\n",
      "75000 21 11044 0.0\n",
      "75010 21 8459 0.0\n",
      "75020 21 8363 1.0\n",
      "75030 21 7580 0\n",
      "75040 21 8968 0\n",
      "75050 21 9338 0\n",
      "75060 21 8428 0\n"
     ]
    },
    {
     "name": "stderr",
     "output_type": "stream",
     "text": [
      "/dados/anaconda3/lib/python3.7/site-packages/tbats/error/ExceptionHandler.py:13: ModelWarning: Optimization did not converge. Forecasts may be unstable.\n",
      "  warnings.warn(message, warning_type)\n"
     ]
    },
    {
     "name": "stdout",
     "output_type": "stream",
     "text": [
      "75070 21 14361 0.0\n",
      "75080 21 547 0\n"
     ]
    },
    {
     "name": "stderr",
     "output_type": "stream",
     "text": [
      "/dados/anaconda3/lib/python3.7/site-packages/tbats/error/ExceptionHandler.py:13: ModelWarning: Optimization did not converge. Forecasts may be unstable.\n",
      "  warnings.warn(message, warning_type)\n"
     ]
    },
    {
     "name": "stdout",
     "output_type": "stream",
     "text": [
      "75090 21 12743 0.0\n",
      "75100 21 20517 0.0\n"
     ]
    },
    {
     "name": "stderr",
     "output_type": "stream",
     "text": [
      "/dados/anaconda3/lib/python3.7/site-packages/tbats/error/ExceptionHandler.py:13: ModelWarning: Optimization did not converge. Forecasts may be unstable.\n",
      "  warnings.warn(message, warning_type)\n"
     ]
    },
    {
     "name": "stdout",
     "output_type": "stream",
     "text": [
      "75110 21 7924 0.0\n",
      "75120 21 3239 0.0\n",
      "75130 21 15458 1.0\n",
      "75140 21 18025 1.0\n",
      "75150 21 15031 0.0\n",
      "75160 21 14984 0\n"
     ]
    },
    {
     "name": "stderr",
     "output_type": "stream",
     "text": [
      "/dados/anaconda3/lib/python3.7/site-packages/tbats/error/ExceptionHandler.py:13: ModelWarning: Optimization did not converge. Forecasts may be unstable.\n",
      "  warnings.warn(message, warning_type)\n"
     ]
    },
    {
     "name": "stdout",
     "output_type": "stream",
     "text": [
      "75170 21 1254 0\n",
      "75180 21 18968 0.0\n",
      "75190 21 21139 0\n",
      "75200 21 3273 0\n",
      "75210 21 13407 2.0\n",
      "75220 21 21692 0\n",
      "75230 21 19127 0.0\n",
      "75240 21 16953 0.0\n",
      "75250 21 21400 0.0\n",
      "75260 21 20334 0\n",
      "75270 21 13693 0\n",
      "75280 21 12474 0\n",
      "75290 21 8468 0\n"
     ]
    },
    {
     "name": "stderr",
     "output_type": "stream",
     "text": [
      "/dados/anaconda3/lib/python3.7/site-packages/tbats/error/ExceptionHandler.py:13: ModelWarning: Optimization did not converge. Forecasts may be unstable.\n",
      "  warnings.warn(message, warning_type)\n"
     ]
    },
    {
     "name": "stdout",
     "output_type": "stream",
     "text": [
      "75300 21 11302 0\n",
      "75310 21 448 0.0\n",
      "75320 21 5272 0.0\n",
      "75330 21 6028 0.0\n"
     ]
    },
    {
     "name": "stderr",
     "output_type": "stream",
     "text": [
      "/dados/anaconda3/lib/python3.7/site-packages/tbats/error/ExceptionHandler.py:13: ModelWarning: Optimization did not converge. Forecasts may be unstable.\n",
      "  warnings.warn(message, warning_type)\n"
     ]
    },
    {
     "name": "stdout",
     "output_type": "stream",
     "text": [
      "75340 21 8855 0.0\n",
      "75350 21 2540 0\n",
      "75360 21 18315 0.0\n",
      "75370 21 2191 1.0\n"
     ]
    },
    {
     "name": "stderr",
     "output_type": "stream",
     "text": [
      "/dados/anaconda3/lib/python3.7/site-packages/tbats/error/ExceptionHandler.py:13: ModelWarning: Optimization did not converge. Forecasts may be unstable.\n",
      "  warnings.warn(message, warning_type)\n"
     ]
    },
    {
     "name": "stdout",
     "output_type": "stream",
     "text": [
      "75380 21 3333 0.0\n"
     ]
    },
    {
     "name": "stderr",
     "output_type": "stream",
     "text": [
      "/dados/anaconda3/lib/python3.7/site-packages/tbats/error/ExceptionHandler.py:13: ModelWarning: Optimization did not converge. Forecasts may be unstable.\n",
      "  warnings.warn(message, warning_type)\n",
      "/dados/anaconda3/lib/python3.7/site-packages/tbats/error/ExceptionHandler.py:13: ModelWarning: Optimization did not converge. Forecasts may be unstable.\n",
      "  warnings.warn(message, warning_type)\n"
     ]
    },
    {
     "name": "stdout",
     "output_type": "stream",
     "text": [
      "75390 21 20879 0\n",
      "75400 21 14760 0\n",
      "75410 21 4637 0.0\n"
     ]
    },
    {
     "name": "stderr",
     "output_type": "stream",
     "text": [
      "/dados/anaconda3/lib/python3.7/site-packages/tbats/error/ExceptionHandler.py:13: ModelWarning: Optimization did not converge. Forecasts may be unstable.\n",
      "  warnings.warn(message, warning_type)\n",
      "/dados/anaconda3/lib/python3.7/site-packages/tbats/error/ExceptionHandler.py:13: ModelWarning: Optimization did not converge. Forecasts may be unstable.\n",
      "  warnings.warn(message, warning_type)\n"
     ]
    },
    {
     "name": "stdout",
     "output_type": "stream",
     "text": [
      "75420 21 13494 0.0\n",
      "75430 21 16032 2.0\n",
      "75440 21 2523 0.0\n",
      "75450 21 5540 0\n",
      "75460 21 1453 0.0\n",
      "75470 21 11011 0.0\n",
      "75480 21 3548 0\n",
      "75490 21 6307 1.0\n",
      "75500 21 20196 0\n",
      "75510 21 19751 0.0\n",
      "75520 21 18457 2.0\n"
     ]
    },
    {
     "name": "stderr",
     "output_type": "stream",
     "text": [
      "/dados/anaconda3/lib/python3.7/site-packages/tbats/error/ExceptionHandler.py:13: ModelWarning: Optimization did not converge. Forecasts may be unstable.\n",
      "  warnings.warn(message, warning_type)\n",
      "/dados/anaconda3/lib/python3.7/site-packages/tbats/error/ExceptionHandler.py:13: ModelWarning: Optimization did not converge. Forecasts may be unstable.\n",
      "  warnings.warn(message, warning_type)\n"
     ]
    },
    {
     "name": "stdout",
     "output_type": "stream",
     "text": [
      "75530 21 18208 0.0\n",
      "75540 21 22013 1.0\n",
      "75550 21 20653 0\n",
      "75560 21 21053 0\n",
      "75570 21 11516 0\n"
     ]
    },
    {
     "name": "stderr",
     "output_type": "stream",
     "text": [
      "/dados/anaconda3/lib/python3.7/site-packages/tbats/error/ExceptionHandler.py:13: ModelWarning: Optimization did not converge. Forecasts may be unstable.\n",
      "  warnings.warn(message, warning_type)\n",
      "/dados/anaconda3/lib/python3.7/site-packages/tbats/error/ExceptionHandler.py:13: ModelWarning: Optimization did not converge. Forecasts may be unstable.\n",
      "  warnings.warn(message, warning_type)\n"
     ]
    },
    {
     "name": "stdout",
     "output_type": "stream",
     "text": [
      "75580 21 18481 0.0\n",
      "75590 21 15222 0\n",
      "75600 21 13327 0\n",
      "75610 21 18031 0\n"
     ]
    },
    {
     "name": "stderr",
     "output_type": "stream",
     "text": [
      "/dados/anaconda3/lib/python3.7/site-packages/tbats/error/ExceptionHandler.py:13: ModelWarning: Optimization did not converge. Forecasts may be unstable.\n",
      "  warnings.warn(message, warning_type)\n",
      "/dados/anaconda3/lib/python3.7/site-packages/tbats/error/ExceptionHandler.py:13: ModelWarning: Optimization did not converge. Forecasts may be unstable.\n",
      "  warnings.warn(message, warning_type)\n"
     ]
    },
    {
     "name": "stdout",
     "output_type": "stream",
     "text": [
      "75620 21 20821 0\n",
      "75630 21 18939 0\n",
      "75640 21 12208 0.0\n",
      "75650 21 15654 0.0\n",
      "75660 21 16028 0.0\n",
      "75670 21 20516 0.0\n",
      "75680 21 6400 0.0\n",
      "75690 21 16166 0\n",
      "75700 21 9534 0\n",
      "75710 21 10581 0\n",
      "75720 21 9111 0\n",
      "75730 21 13099 0\n",
      "75740 21 11874 0\n",
      "75750 21 12192 0\n",
      "75760 21 6430 0\n",
      "75770 21 5761 0\n",
      "75780 21 4903 0\n",
      "75790 21 5382 0\n",
      "75800 21 7817 0\n",
      "75810 21 6959 0\n",
      "75820 21 7057 0\n",
      "75830 21 21978 0\n",
      "75840 21 19347 0\n",
      "75850 21 20012 0\n"
     ]
    },
    {
     "name": "stderr",
     "output_type": "stream",
     "text": [
      "/dados/anaconda3/lib/python3.7/site-packages/tbats/error/ExceptionHandler.py:13: ModelWarning: Optimization did not converge. Forecasts may be unstable.\n",
      "  warnings.warn(message, warning_type)\n"
     ]
    },
    {
     "name": "stdout",
     "output_type": "stream",
     "text": [
      "75860 21 13732 0\n",
      "75870 21 14934 0\n",
      "75880 21 13341 0\n",
      "75890 21 16396 0\n",
      "75900 21 16813 0\n",
      "75910 21 15988 0\n",
      "75920 21 16272 0\n",
      "75930 21 504 0\n",
      "75940 21 688 0\n",
      "75950 21 616 0\n",
      "75960 21 204 0\n",
      "75970 21 1394 0\n",
      "75980 21 924 0\n",
      "75990 21 1506 0\n",
      "76000 21 849 0\n",
      "76010 21 20361 0.0\n",
      "76020 21 3715 0\n",
      "76030 21 3411 0\n",
      "76040 21 4765 0\n",
      "76050 21 4260 0\n",
      "76060 21 4144 0\n",
      "76070 21 4203 0\n",
      "76080 21 1794 0\n",
      "76090 21 2338 0\n",
      "76100 21 1792 0\n",
      "76110 21 2856 0\n",
      "76120 21 2434 0\n",
      "76130 21 3136 0\n",
      "76140 21 1018 0.0\n",
      "76150 21 19258 0.0\n",
      "76160 21 4736 0.0\n",
      "76170 21 5363 0.0\n"
     ]
    },
    {
     "name": "stderr",
     "output_type": "stream",
     "text": [
      "/dados/anaconda3/lib/python3.7/site-packages/tbats/error/ExceptionHandler.py:13: ModelWarning: Optimization did not converge. Forecasts may be unstable.\n",
      "  warnings.warn(message, warning_type)\n"
     ]
    },
    {
     "name": "stdout",
     "output_type": "stream",
     "text": [
      "76180 21 17390 0\n",
      "76190 21 11682 0\n",
      "76200 21 15735 0\n",
      "76210 21 14899 0.0\n",
      "76220 21 20212 0\n",
      "76230 21 5899 0.0\n"
     ]
    },
    {
     "name": "stderr",
     "output_type": "stream",
     "text": [
      "/dados/anaconda3/lib/python3.7/site-packages/tbats/error/ExceptionHandler.py:13: ModelWarning: Optimization did not converge. Forecasts may be unstable.\n",
      "  warnings.warn(message, warning_type)\n"
     ]
    },
    {
     "name": "stdout",
     "output_type": "stream",
     "text": [
      "76240 21 18476 0.0\n",
      "76250 21 6835 1.0\n",
      "76260 21 15405 0.0\n",
      "76270 21 17756 0.0\n",
      "76280 21 18500 0.0\n",
      "76290 21 16231 0\n",
      "76300 21 17015 1.0\n",
      "76310 21 13133 0.0\n"
     ]
    },
    {
     "name": "stderr",
     "output_type": "stream",
     "text": [
      "/dados/anaconda3/lib/python3.7/site-packages/tbats/error/ExceptionHandler.py:13: ModelWarning: Optimization did not converge. Forecasts may be unstable.\n",
      "  warnings.warn(message, warning_type)\n"
     ]
    },
    {
     "name": "stdout",
     "output_type": "stream",
     "text": [
      "76320 21 14222 0.0\n",
      "76330 21 13812 0.0\n",
      "76340 21 5010 1.0\n",
      "76350 21 21210 0\n",
      "76360 21 20916 0\n",
      "76370 21 21664 0\n",
      "76380 21 3232 0\n",
      "76390 21 3547 0.0\n",
      "76400 21 18707 0\n",
      "76410 21 11674 0\n"
     ]
    },
    {
     "name": "stderr",
     "output_type": "stream",
     "text": [
      "/dados/anaconda3/lib/python3.7/site-packages/tbats/error/ExceptionHandler.py:13: ModelWarning: Optimization did not converge. Forecasts may be unstable.\n",
      "  warnings.warn(message, warning_type)\n"
     ]
    },
    {
     "name": "stdout",
     "output_type": "stream",
     "text": [
      "76420 21 16057 0.0\n",
      "76430 21 15033 0\n",
      "76440 21 10508 0.0\n",
      "76450 21 7572 0\n",
      "76460 21 6882 0.0\n",
      "76470 21 14543 0.0\n",
      "76480 21 19889 0.0\n"
     ]
    },
    {
     "name": "stderr",
     "output_type": "stream",
     "text": [
      "/dados/anaconda3/lib/python3.7/site-packages/tbats/error/ExceptionHandler.py:13: ModelWarning: Optimization did not converge. Forecasts may be unstable.\n",
      "  warnings.warn(message, warning_type)\n"
     ]
    },
    {
     "name": "stdout",
     "output_type": "stream",
     "text": [
      "76490 21 3280 0.0\n",
      "76500 15 5037 0.0\n"
     ]
    },
    {
     "name": "stderr",
     "output_type": "stream",
     "text": [
      "/dados/anaconda3/lib/python3.7/site-packages/tbats/error/ExceptionHandler.py:13: ModelWarning: Optimization did not converge. Forecasts may be unstable.\n",
      "  warnings.warn(message, warning_type)\n"
     ]
    },
    {
     "name": "stdout",
     "output_type": "stream",
     "text": [
      "76510 15 4806 5.0\n"
     ]
    },
    {
     "name": "stderr",
     "output_type": "stream",
     "text": [
      "/dados/anaconda3/lib/python3.7/site-packages/tbats/error/ExceptionHandler.py:13: ModelWarning: Optimization did not converge. Forecasts may be unstable.\n",
      "  warnings.warn(message, warning_type)\n"
     ]
    },
    {
     "name": "stdout",
     "output_type": "stream",
     "text": [
      "76520 15 4717 1.0\n",
      "76530 15 5666 16.0\n",
      "76540 15 5840 0\n"
     ]
    },
    {
     "name": "stderr",
     "output_type": "stream",
     "text": [
      "/dados/anaconda3/lib/python3.7/site-packages/tbats/error/ExceptionHandler.py:13: ModelWarning: Optimization did not converge. Forecasts may be unstable.\n",
      "  warnings.warn(message, warning_type)\n"
     ]
    },
    {
     "name": "stdout",
     "output_type": "stream",
     "text": [
      "76550 15 5838 0.0\n"
     ]
    },
    {
     "name": "stderr",
     "output_type": "stream",
     "text": [
      "/dados/anaconda3/lib/python3.7/site-packages/tbats/error/ExceptionHandler.py:13: ModelWarning: Optimization did not converge. Forecasts may be unstable.\n",
      "  warnings.warn(message, warning_type)\n"
     ]
    },
    {
     "name": "stdout",
     "output_type": "stream",
     "text": [
      "76560 15 3352 0\n",
      "76570 15 3604 0\n",
      "76580 15 3443 0.0\n",
      "76590 15 4365 2.0\n",
      "76600 15 3733 0.0\n"
     ]
    },
    {
     "name": "stderr",
     "output_type": "stream",
     "text": [
      "/dados/anaconda3/lib/python3.7/site-packages/tbats/error/ExceptionHandler.py:13: ModelWarning: Optimization did not converge. Forecasts may be unstable.\n",
      "  warnings.warn(message, warning_type)\n"
     ]
    },
    {
     "name": "stdout",
     "output_type": "stream",
     "text": [
      "76610 15 4052 0.0\n",
      "76620 15 9395 1.0\n",
      "76630 15 9469 0\n",
      "76640 15 8653 0.0\n",
      "76650 15 9001 0.0\n",
      "76660 15 10447 0\n"
     ]
    },
    {
     "name": "stderr",
     "output_type": "stream",
     "text": [
      "/dados/anaconda3/lib/python3.7/site-packages/tbats/error/ExceptionHandler.py:13: ModelWarning: Optimization did not converge. Forecasts may be unstable.\n",
      "  warnings.warn(message, warning_type)\n",
      "/dados/anaconda3/lib/python3.7/site-packages/tbats/error/ExceptionHandler.py:13: ModelWarning: Optimization did not converge. Forecasts may be unstable.\n",
      "  warnings.warn(message, warning_type)\n"
     ]
    },
    {
     "name": "stdout",
     "output_type": "stream",
     "text": [
      "76670 15 10327 0\n"
     ]
    },
    {
     "name": "stderr",
     "output_type": "stream",
     "text": [
      "/dados/anaconda3/lib/python3.7/site-packages/tbats/error/ExceptionHandler.py:13: ModelWarning: Optimization did not converge. Forecasts may be unstable.\n",
      "  warnings.warn(message, warning_type)\n"
     ]
    },
    {
     "name": "stdout",
     "output_type": "stream",
     "text": [
      "76680 15 9927 0\n",
      "76690 15 6506 0\n",
      "76700 15 6731 0\n",
      "76710 15 6396 0.0\n",
      "76720 15 6064 5.0\n"
     ]
    },
    {
     "name": "stderr",
     "output_type": "stream",
     "text": [
      "/dados/anaconda3/lib/python3.7/site-packages/tbats/error/ExceptionHandler.py:13: ModelWarning: Optimization did not converge. Forecasts may be unstable.\n",
      "  warnings.warn(message, warning_type)\n"
     ]
    },
    {
     "name": "stdout",
     "output_type": "stream",
     "text": [
      "76730 15 7862 0\n"
     ]
    },
    {
     "name": "stderr",
     "output_type": "stream",
     "text": [
      "/dados/anaconda3/lib/python3.7/site-packages/tbats/error/ExceptionHandler.py:13: ModelWarning: Optimization did not converge. Forecasts may be unstable.\n",
      "  warnings.warn(message, warning_type)\n"
     ]
    },
    {
     "name": "stdout",
     "output_type": "stream",
     "text": [
      "76740 15 7328 3.0\n",
      "76750 15 7029 0\n",
      "76760 15 15777 0.0\n",
      "76770 15 16843 0\n",
      "76780 15 15496 0.0\n",
      "76790 15 16103 0\n",
      "76800 15 18825 0.0\n",
      "76810 15 19656 0\n",
      "76820 15 18397 0\n",
      "76830 15 15338 0\n"
     ]
    },
    {
     "name": "stderr",
     "output_type": "stream",
     "text": [
      "/dados/anaconda3/lib/python3.7/site-packages/tbats/error/ExceptionHandler.py:13: ModelWarning: Optimization did not converge. Forecasts may be unstable.\n",
      "  warnings.warn(message, warning_type)\n"
     ]
    },
    {
     "name": "stdout",
     "output_type": "stream",
     "text": [
      "76840 15 13023 5.0\n",
      "76850 15 13415 0\n",
      "76860 15 13464 0.0\n"
     ]
    },
    {
     "name": "stderr",
     "output_type": "stream",
     "text": [
      "/dados/anaconda3/lib/python3.7/site-packages/tbats/error/ExceptionHandler.py:13: ModelWarning: Optimization did not converge. Forecasts may be unstable.\n",
      "  warnings.warn(message, warning_type)\n"
     ]
    },
    {
     "name": "stdout",
     "output_type": "stream",
     "text": [
      "76870 15 14832 0\n",
      "76880 15 15069 0\n",
      "76890 15 15037 0\n",
      "76900 15 2131 0\n"
     ]
    },
    {
     "name": "stderr",
     "output_type": "stream",
     "text": [
      "/dados/anaconda3/lib/python3.7/site-packages/tbats/error/ExceptionHandler.py:13: ModelWarning: Optimization did not converge. Forecasts may be unstable.\n",
      "  warnings.warn(message, warning_type)\n",
      "/dados/anaconda3/lib/python3.7/site-packages/tbats/error/ExceptionHandler.py:13: ModelWarning: Optimization did not converge. Forecasts may be unstable.\n",
      "  warnings.warn(message, warning_type)\n"
     ]
    },
    {
     "name": "stdout",
     "output_type": "stream",
     "text": [
      "76910 15 1732 0\n",
      "76920 15 2574 1.0\n",
      "76930 15 3076 0.0\n",
      "76940 15 2779 0.0\n",
      "76950 15 2873 2.0\n",
      "76960 15 20949 20.0\n",
      "76970 15 21937 0\n"
     ]
    },
    {
     "name": "stderr",
     "output_type": "stream",
     "text": [
      "/dados/anaconda3/lib/python3.7/site-packages/tbats/error/ExceptionHandler.py:13: ModelWarning: Optimization did not converge. Forecasts may be unstable.\n",
      "  warnings.warn(message, warning_type)\n"
     ]
    },
    {
     "name": "stdout",
     "output_type": "stream",
     "text": [
      "76980 15 20400 0\n",
      "76990 15 20616 1.0\n",
      "77000 15 1585 0\n"
     ]
    },
    {
     "name": "stderr",
     "output_type": "stream",
     "text": [
      "/dados/anaconda3/lib/python3.7/site-packages/tbats/error/ExceptionHandler.py:13: ModelWarning: Optimization did not converge. Forecasts may be unstable.\n",
      "  warnings.warn(message, warning_type)\n",
      "/dados/anaconda3/lib/python3.7/site-packages/tbats/error/ExceptionHandler.py:13: ModelWarning: Optimization did not converge. Forecasts may be unstable.\n",
      "  warnings.warn(message, warning_type)\n"
     ]
    },
    {
     "name": "stdout",
     "output_type": "stream",
     "text": [
      "77010 15 982 1.0\n"
     ]
    },
    {
     "name": "stderr",
     "output_type": "stream",
     "text": [
      "/dados/anaconda3/lib/python3.7/site-packages/tbats/error/ExceptionHandler.py:13: ModelWarning: Optimization did not converge. Forecasts may be unstable.\n",
      "  warnings.warn(message, warning_type)\n"
     ]
    },
    {
     "name": "stdout",
     "output_type": "stream",
     "text": [
      "77020 15 1486 10.0\n",
      "77030 15 2328 0\n",
      "77040 15 2293 0.0\n",
      "77050 15 3022 0\n"
     ]
    },
    {
     "name": "stderr",
     "output_type": "stream",
     "text": [
      "/dados/anaconda3/lib/python3.7/site-packages/tbats/error/ExceptionHandler.py:13: ModelWarning: Optimization did not converge. Forecasts may be unstable.\n",
      "  warnings.warn(message, warning_type)\n"
     ]
    },
    {
     "name": "stdout",
     "output_type": "stream",
     "text": [
      "77060 15 2743 0.0\n"
     ]
    },
    {
     "name": "stderr",
     "output_type": "stream",
     "text": [
      "/dados/anaconda3/lib/python3.7/site-packages/tbats/error/ExceptionHandler.py:13: ModelWarning: Optimization did not converge. Forecasts may be unstable.\n",
      "  warnings.warn(message, warning_type)\n"
     ]
    },
    {
     "name": "stdout",
     "output_type": "stream",
     "text": [
      "77070 15 1963 0\n",
      "77080 15 1295 0\n",
      "77090 15 22100 0.0\n",
      "77100 15 482 1.0\n",
      "77110 15 1877 0.0\n",
      "77120 15 1570 7.0\n",
      "77130 15 4003 0.0\n",
      "77140 15 3851 0.0\n",
      "77150 15 4420 0.0\n"
     ]
    },
    {
     "name": "stderr",
     "output_type": "stream",
     "text": [
      "/dados/anaconda3/lib/python3.7/site-packages/tbats/error/ExceptionHandler.py:13: ModelWarning: Optimization did not converge. Forecasts may be unstable.\n",
      "  warnings.warn(message, warning_type)\n"
     ]
    },
    {
     "name": "stdout",
     "output_type": "stream",
     "text": [
      "77160 15 4085 9.0\n"
     ]
    },
    {
     "name": "stderr",
     "output_type": "stream",
     "text": [
      "/dados/anaconda3/lib/python3.7/site-packages/tbats/error/ExceptionHandler.py:13: ModelWarning: Optimization did not converge. Forecasts may be unstable.\n",
      "  warnings.warn(message, warning_type)\n"
     ]
    },
    {
     "name": "stdout",
     "output_type": "stream",
     "text": [
      "77170 15 3528 0.0\n",
      "77180 15 3459 0\n",
      "77190 15 12771 0.0\n",
      "77200 15 13334 0\n"
     ]
    },
    {
     "name": "stderr",
     "output_type": "stream",
     "text": [
      "/dados/anaconda3/lib/python3.7/site-packages/tbats/error/ExceptionHandler.py:13: ModelWarning: Optimization did not converge. Forecasts may be unstable.\n",
      "  warnings.warn(message, warning_type)\n",
      "/dados/anaconda3/lib/python3.7/site-packages/tbats/error/ExceptionHandler.py:13: ModelWarning: Optimization did not converge. Forecasts may be unstable.\n",
      "  warnings.warn(message, warning_type)\n"
     ]
    },
    {
     "name": "stdout",
     "output_type": "stream",
     "text": [
      "77210 15 15047 0\n",
      "77220 15 13818 0\n"
     ]
    },
    {
     "name": "stderr",
     "output_type": "stream",
     "text": [
      "/dados/anaconda3/lib/python3.7/site-packages/tbats/error/ExceptionHandler.py:13: ModelWarning: Optimization did not converge. Forecasts may be unstable.\n",
      "  warnings.warn(message, warning_type)\n"
     ]
    },
    {
     "name": "stdout",
     "output_type": "stream",
     "text": [
      "77230 15 12549 0.0\n"
     ]
    },
    {
     "name": "stderr",
     "output_type": "stream",
     "text": [
      "/dados/anaconda3/lib/python3.7/site-packages/tbats/error/ExceptionHandler.py:13: ModelWarning: Optimization did not converge. Forecasts may be unstable.\n",
      "  warnings.warn(message, warning_type)\n"
     ]
    },
    {
     "name": "stdout",
     "output_type": "stream",
     "text": [
      "77240 15 12698 0\n",
      "77250 15 12360 0.0\n",
      "77260 15 11811 1.0\n"
     ]
    },
    {
     "name": "stderr",
     "output_type": "stream",
     "text": [
      "/dados/anaconda3/lib/python3.7/site-packages/tbats/error/ExceptionHandler.py:13: ModelWarning: Optimization did not converge. Forecasts may be unstable.\n",
      "  warnings.warn(message, warning_type)\n"
     ]
    },
    {
     "name": "stdout",
     "output_type": "stream",
     "text": [
      "77270 15 12023 0\n",
      "77280 15 13275 0\n",
      "77290 15 13303 0\n",
      "77300 15 13226 0\n"
     ]
    },
    {
     "name": "stderr",
     "output_type": "stream",
     "text": [
      "/dados/anaconda3/lib/python3.7/site-packages/tbats/error/ExceptionHandler.py:13: ModelWarning: Optimization did not converge. Forecasts may be unstable.\n",
      "  warnings.warn(message, warning_type)\n"
     ]
    },
    {
     "name": "stdout",
     "output_type": "stream",
     "text": [
      "77310 15 20609 3.0\n",
      "77320 15 19430 1.0\n",
      "77330 15 21942 0\n",
      "77340 15 18201 0.0\n",
      "77350 15 16122 0\n",
      "77360 15 14668 0.0\n",
      "77370 15 15323 0.0\n"
     ]
    },
    {
     "name": "stderr",
     "output_type": "stream",
     "text": [
      "/dados/anaconda3/lib/python3.7/site-packages/tbats/error/ExceptionHandler.py:13: ModelWarning: Optimization did not converge. Forecasts may be unstable.\n",
      "  warnings.warn(message, warning_type)\n"
     ]
    },
    {
     "name": "stdout",
     "output_type": "stream",
     "text": [
      "77380 15 17481 1.0\n",
      "77390 15 16541 0.0\n",
      "77400 15 1239 0.0\n"
     ]
    },
    {
     "name": "stderr",
     "output_type": "stream",
     "text": [
      "/dados/anaconda3/lib/python3.7/site-packages/tbats/error/ExceptionHandler.py:13: ModelWarning: Optimization did not converge. Forecasts may be unstable.\n",
      "  warnings.warn(message, warning_type)\n",
      "/dados/anaconda3/lib/python3.7/site-packages/tbats/error/ExceptionHandler.py:13: ModelWarning: Optimization did not converge. Forecasts may be unstable.\n",
      "  warnings.warn(message, warning_type)\n",
      "/dados/anaconda3/lib/python3.7/site-packages/tbats/error/ExceptionHandler.py:13: ModelWarning: Optimization did not converge. Forecasts may be unstable.\n",
      "  warnings.warn(message, warning_type)\n"
     ]
    },
    {
     "name": "stdout",
     "output_type": "stream",
     "text": [
      "77410 15 20631 0.0\n"
     ]
    },
    {
     "name": "stderr",
     "output_type": "stream",
     "text": [
      "/dados/anaconda3/lib/python3.7/site-packages/tbats/error/ExceptionHandler.py:13: ModelWarning: Optimization did not converge. Forecasts may be unstable.\n",
      "  warnings.warn(message, warning_type)\n",
      "/dados/anaconda3/lib/python3.7/site-packages/tbats/error/ExceptionHandler.py:13: ModelWarning: Optimization did not converge. Forecasts may be unstable.\n",
      "  warnings.warn(message, warning_type)\n"
     ]
    },
    {
     "name": "stdout",
     "output_type": "stream",
     "text": [
      "77420 15 2787 0\n",
      "77430 15 15282 2.0\n",
      "77440 15 16145 0\n",
      "77450 15 19125 0\n",
      "77460 15 17032 0\n",
      "77470 15 5383 0\n",
      "77480 15 4895 6.0\n",
      "77490 15 6505 0\n"
     ]
    },
    {
     "name": "stderr",
     "output_type": "stream",
     "text": [
      "/dados/anaconda3/lib/python3.7/site-packages/tbats/error/ExceptionHandler.py:13: ModelWarning: Optimization did not converge. Forecasts may be unstable.\n",
      "  warnings.warn(message, warning_type)\n"
     ]
    },
    {
     "name": "stdout",
     "output_type": "stream",
     "text": [
      "77500 15 6082 1.0\n"
     ]
    },
    {
     "name": "stderr",
     "output_type": "stream",
     "text": [
      "/dados/anaconda3/lib/python3.7/site-packages/tbats/error/ExceptionHandler.py:13: ModelWarning: Optimization did not converge. Forecasts may be unstable.\n",
      "  warnings.warn(message, warning_type)\n"
     ]
    },
    {
     "name": "stdout",
     "output_type": "stream",
     "text": [
      "77510 15 3822 0\n",
      "77520 15 6129 0\n",
      "77530 15 3833 0.0\n",
      "77540 15 3871 0.0\n",
      "77550 15 13285 0\n"
     ]
    },
    {
     "name": "stderr",
     "output_type": "stream",
     "text": [
      "/dados/anaconda3/lib/python3.7/site-packages/tbats/error/ExceptionHandler.py:13: ModelWarning: Optimization did not converge. Forecasts may be unstable.\n",
      "  warnings.warn(message, warning_type)\n"
     ]
    },
    {
     "name": "stdout",
     "output_type": "stream",
     "text": [
      "77560 15 11938 0.0\n",
      "77570 15 14457 1.0\n",
      "77580 15 7982 2.0\n"
     ]
    },
    {
     "name": "stderr",
     "output_type": "stream",
     "text": [
      "/dados/anaconda3/lib/python3.7/site-packages/tbats/error/ExceptionHandler.py:13: ModelWarning: Optimization did not converge. Forecasts may be unstable.\n",
      "  warnings.warn(message, warning_type)\n"
     ]
    },
    {
     "name": "stdout",
     "output_type": "stream",
     "text": [
      "77590 15 7224 0\n",
      "77600 15 10211 0.0\n"
     ]
    },
    {
     "name": "stderr",
     "output_type": "stream",
     "text": [
      "/dados/anaconda3/lib/python3.7/site-packages/tbats/error/ExceptionHandler.py:13: ModelWarning: Optimization did not converge. Forecasts may be unstable.\n",
      "  warnings.warn(message, warning_type)\n"
     ]
    },
    {
     "name": "stdout",
     "output_type": "stream",
     "text": [
      "77610 15 9404 0.0\n"
     ]
    },
    {
     "name": "stderr",
     "output_type": "stream",
     "text": [
      "/dados/anaconda3/lib/python3.7/site-packages/tbats/error/ExceptionHandler.py:13: ModelWarning: Optimization did not converge. Forecasts may be unstable.\n",
      "  warnings.warn(message, warning_type)\n"
     ]
    },
    {
     "name": "stdout",
     "output_type": "stream",
     "text": [
      "77620 15 4049 0.0\n",
      "77630 15 4999 0.0\n",
      "77640 15 3342 0.0\n"
     ]
    },
    {
     "name": "stderr",
     "output_type": "stream",
     "text": [
      "/dados/anaconda3/lib/python3.7/site-packages/tbats/error/ExceptionHandler.py:13: ModelWarning: Optimization did not converge. Forecasts may be unstable.\n",
      "  warnings.warn(message, warning_type)\n"
     ]
    },
    {
     "name": "stdout",
     "output_type": "stream",
     "text": [
      "77650 15 10190 0\n"
     ]
    },
    {
     "name": "stderr",
     "output_type": "stream",
     "text": [
      "/dados/anaconda3/lib/python3.7/site-packages/tbats/error/ExceptionHandler.py:13: ModelWarning: Optimization did not converge. Forecasts may be unstable.\n",
      "  warnings.warn(message, warning_type)\n"
     ]
    },
    {
     "name": "stdout",
     "output_type": "stream",
     "text": [
      "77660 15 9408 2.0\n"
     ]
    },
    {
     "name": "stderr",
     "output_type": "stream",
     "text": [
      "/dados/anaconda3/lib/python3.7/site-packages/tbats/error/ExceptionHandler.py:13: ModelWarning: Optimization did not converge. Forecasts may be unstable.\n",
      "  warnings.warn(message, warning_type)\n"
     ]
    },
    {
     "name": "stdout",
     "output_type": "stream",
     "text": [
      "77670 15 13237 0\n",
      "77680 15 10987 0.0\n",
      "77690 15 6625 0.0\n",
      "77700 15 6090 1.0\n",
      "77710 15 7019 1.0\n"
     ]
    },
    {
     "name": "stderr",
     "output_type": "stream",
     "text": [
      "/dados/anaconda3/lib/python3.7/site-packages/tbats/error/ExceptionHandler.py:13: ModelWarning: Optimization did not converge. Forecasts may be unstable.\n",
      "  warnings.warn(message, warning_type)\n",
      "/dados/anaconda3/lib/python3.7/site-packages/tbats/error/ExceptionHandler.py:13: ModelWarning: Optimization did not converge. Forecasts may be unstable.\n",
      "  warnings.warn(message, warning_type)\n"
     ]
    },
    {
     "name": "stdout",
     "output_type": "stream",
     "text": [
      "77720 15 12500 2.0\n",
      "77730 15 10448 0\n",
      "77740 15 12805 0.0\n",
      "77750 15 14247 0.0\n",
      "77760 15 7133 0\n"
     ]
    },
    {
     "name": "stderr",
     "output_type": "stream",
     "text": [
      "/dados/anaconda3/lib/python3.7/site-packages/tbats/error/ExceptionHandler.py:13: ModelWarning: Optimization did not converge. Forecasts may be unstable.\n",
      "  warnings.warn(message, warning_type)\n"
     ]
    },
    {
     "name": "stdout",
     "output_type": "stream",
     "text": [
      "77770 15 10292 1.0\n"
     ]
    },
    {
     "name": "stderr",
     "output_type": "stream",
     "text": [
      "/dados/anaconda3/lib/python3.7/site-packages/tbats/error/ExceptionHandler.py:13: ModelWarning: Optimization did not converge. Forecasts may be unstable.\n",
      "  warnings.warn(message, warning_type)\n"
     ]
    },
    {
     "name": "stdout",
     "output_type": "stream",
     "text": [
      "77780 15 1007 1.0\n"
     ]
    },
    {
     "name": "stderr",
     "output_type": "stream",
     "text": [
      "/dados/anaconda3/lib/python3.7/site-packages/tbats/error/ExceptionHandler.py:13: ModelWarning: Optimization did not converge. Forecasts may be unstable.\n",
      "  warnings.warn(message, warning_type)\n"
     ]
    },
    {
     "name": "stdout",
     "output_type": "stream",
     "text": [
      "77790 15 1717 1.0\n",
      "77800 15 14390 1.0\n",
      "77810 15 19908 0.0\n",
      "77820 15 17888 0\n",
      "77830 15 21722 0\n"
     ]
    },
    {
     "name": "stderr",
     "output_type": "stream",
     "text": [
      "/dados/anaconda3/lib/python3.7/site-packages/tbats/error/ExceptionHandler.py:13: ModelWarning: Optimization did not converge. Forecasts may be unstable.\n",
      "  warnings.warn(message, warning_type)\n"
     ]
    },
    {
     "name": "stdout",
     "output_type": "stream",
     "text": [
      "77840 15 940 0\n"
     ]
    },
    {
     "name": "stderr",
     "output_type": "stream",
     "text": [
      "/dados/anaconda3/lib/python3.7/site-packages/tbats/error/ExceptionHandler.py:13: ModelWarning: Optimization did not converge. Forecasts may be unstable.\n",
      "  warnings.warn(message, warning_type)\n"
     ]
    },
    {
     "name": "stdout",
     "output_type": "stream",
     "text": [
      "77850 15 18926 0\n",
      "77860 15 17772 0\n",
      "77870 15 19219 0\n",
      "77880 15 20225 0.0\n"
     ]
    },
    {
     "name": "stderr",
     "output_type": "stream",
     "text": [
      "/dados/anaconda3/lib/python3.7/site-packages/tbats/error/ExceptionHandler.py:13: ModelWarning: Optimization did not converge. Forecasts may be unstable.\n",
      "  warnings.warn(message, warning_type)\n"
     ]
    },
    {
     "name": "stdout",
     "output_type": "stream",
     "text": [
      "77890 15 5816 1.0\n",
      "77900 15 8868 0\n",
      "77910 15 17459 0.0\n"
     ]
    },
    {
     "name": "stderr",
     "output_type": "stream",
     "text": [
      "/dados/anaconda3/lib/python3.7/site-packages/tbats/error/ExceptionHandler.py:13: ModelWarning: Optimization did not converge. Forecasts may be unstable.\n",
      "  warnings.warn(message, warning_type)\n",
      "/dados/anaconda3/lib/python3.7/site-packages/tbats/error/ExceptionHandler.py:13: ModelWarning: Optimization did not converge. Forecasts may be unstable.\n",
      "  warnings.warn(message, warning_type)\n"
     ]
    },
    {
     "name": "stdout",
     "output_type": "stream",
     "text": [
      "77920 15 17420 0.0\n",
      "77930 15 10812 0\n",
      "77940 15 11771 0\n",
      "77950 15 10554 0\n"
     ]
    },
    {
     "name": "stderr",
     "output_type": "stream",
     "text": [
      "/dados/anaconda3/lib/python3.7/site-packages/tbats/error/ExceptionHandler.py:13: ModelWarning: Optimization did not converge. Forecasts may be unstable.\n",
      "  warnings.warn(message, warning_type)\n"
     ]
    },
    {
     "name": "stdout",
     "output_type": "stream",
     "text": [
      "77960 15 10378 0.0\n"
     ]
    },
    {
     "name": "stderr",
     "output_type": "stream",
     "text": [
      "/dados/anaconda3/lib/python3.7/site-packages/tbats/error/ExceptionHandler.py:13: ModelWarning: Optimization did not converge. Forecasts may be unstable.\n",
      "  warnings.warn(message, warning_type)\n"
     ]
    },
    {
     "name": "stdout",
     "output_type": "stream",
     "text": [
      "77970 15 16125 0.0\n",
      "77980 15 15300 0.0\n",
      "77990 15 17270 0.0\n",
      "78000 15 16735 0.0\n",
      "78010 15 13893 0.0\n",
      "78020 15 13633 0\n",
      "78030 15 14267 0.0\n",
      "78040 15 7592 0\n",
      "78050 15 8734 0\n",
      "78060 15 8986 0.0\n",
      "78070 15 8453 0\n"
     ]
    },
    {
     "name": "stderr",
     "output_type": "stream",
     "text": [
      "/dados/anaconda3/lib/python3.7/site-packages/tbats/error/ExceptionHandler.py:13: ModelWarning: Optimization did not converge. Forecasts may be unstable.\n",
      "  warnings.warn(message, warning_type)\n"
     ]
    },
    {
     "name": "stdout",
     "output_type": "stream",
     "text": [
      "78080 15 4141 0\n",
      "78090 15 6420 0\n",
      "78100 15 11266 0\n",
      "78110 15 13270 0\n",
      "78120 15 13100 0\n",
      "78130 15 10146 0\n",
      "78140 15 10425 0.0\n"
     ]
    },
    {
     "name": "stderr",
     "output_type": "stream",
     "text": [
      "/dados/anaconda3/lib/python3.7/site-packages/tbats/error/ExceptionHandler.py:13: ModelWarning: Optimization did not converge. Forecasts may be unstable.\n",
      "  warnings.warn(message, warning_type)\n"
     ]
    },
    {
     "name": "stdout",
     "output_type": "stream",
     "text": [
      "78150 15 11365 0\n",
      "78160 15 14848 0\n",
      "78170 15 21367 0.0\n",
      "78180 15 8077 1.0\n"
     ]
    },
    {
     "name": "stderr",
     "output_type": "stream",
     "text": [
      "/dados/anaconda3/lib/python3.7/site-packages/tbats/error/ExceptionHandler.py:13: ModelWarning: Optimization did not converge. Forecasts may be unstable.\n",
      "  warnings.warn(message, warning_type)\n"
     ]
    },
    {
     "name": "stdout",
     "output_type": "stream",
     "text": [
      "78190 15 12286 0.0\n"
     ]
    },
    {
     "name": "stderr",
     "output_type": "stream",
     "text": [
      "/dados/anaconda3/lib/python3.7/site-packages/tbats/error/ExceptionHandler.py:13: ModelWarning: Optimization did not converge. Forecasts may be unstable.\n",
      "  warnings.warn(message, warning_type)\n"
     ]
    },
    {
     "name": "stdout",
     "output_type": "stream",
     "text": [
      "78200 15 3028 2.0\n",
      "78210 15 3862 0.0\n",
      "78220 15 794 0\n",
      "78230 15 353 0\n",
      "78240 15 1074 0.0\n",
      "78250 15 13208 0\n",
      "78260 15 12501 0.0\n"
     ]
    },
    {
     "name": "stderr",
     "output_type": "stream",
     "text": [
      "/dados/anaconda3/lib/python3.7/site-packages/tbats/error/ExceptionHandler.py:13: ModelWarning: Optimization did not converge. Forecasts may be unstable.\n",
      "  warnings.warn(message, warning_type)\n"
     ]
    },
    {
     "name": "stdout",
     "output_type": "stream",
     "text": [
      "78270 15 10045 0\n",
      "78280 15 12090 0.0\n",
      "78290 15 11534 0\n",
      "78300 15 15512 0\n",
      "78310 15 15166 0\n"
     ]
    },
    {
     "name": "stderr",
     "output_type": "stream",
     "text": [
      "/dados/anaconda3/lib/python3.7/site-packages/tbats/error/ExceptionHandler.py:13: ModelWarning: Optimization did not converge. Forecasts may be unstable.\n",
      "  warnings.warn(message, warning_type)\n",
      "/dados/anaconda3/lib/python3.7/site-packages/tbats/error/ExceptionHandler.py:13: ModelWarning: Optimization did not converge. Forecasts may be unstable.\n",
      "  warnings.warn(message, warning_type)\n"
     ]
    },
    {
     "name": "stdout",
     "output_type": "stream",
     "text": [
      "78320 15 16534 0.0\n",
      "78330 15 16155 0\n"
     ]
    },
    {
     "name": "stderr",
     "output_type": "stream",
     "text": [
      "/dados/anaconda3/lib/python3.7/site-packages/tbats/error/ExceptionHandler.py:13: ModelWarning: Optimization did not converge. Forecasts may be unstable.\n",
      "  warnings.warn(message, warning_type)\n"
     ]
    },
    {
     "name": "stdout",
     "output_type": "stream",
     "text": [
      "78340 15 12830 0.0\n",
      "78350 15 14124 0\n",
      "78360 15 5945 0.0\n",
      "78370 15 6678 0\n",
      "78380 15 4944 2.0\n"
     ]
    },
    {
     "name": "stderr",
     "output_type": "stream",
     "text": [
      "/dados/anaconda3/lib/python3.7/site-packages/tbats/error/ExceptionHandler.py:13: ModelWarning: Optimization did not converge. Forecasts may be unstable.\n",
      "  warnings.warn(message, warning_type)\n"
     ]
    },
    {
     "name": "stdout",
     "output_type": "stream",
     "text": [
      "78390 15 5517 0\n",
      "78400 15 8398 0\n",
      "78410 15 7458 2.0\n"
     ]
    },
    {
     "name": "stderr",
     "output_type": "stream",
     "text": [
      "/dados/anaconda3/lib/python3.7/site-packages/tbats/error/ExceptionHandler.py:13: ModelWarning: Optimization did not converge. Forecasts may be unstable.\n",
      "  warnings.warn(message, warning_type)\n",
      "/dados/anaconda3/lib/python3.7/site-packages/tbats/error/ExceptionHandler.py:13: ModelWarning: Optimization did not converge. Forecasts may be unstable.\n",
      "  warnings.warn(message, warning_type)\n"
     ]
    },
    {
     "name": "stdout",
     "output_type": "stream",
     "text": [
      "78420 15 7882 0.0\n",
      "78430 15 7793 0.0\n"
     ]
    },
    {
     "name": "stderr",
     "output_type": "stream",
     "text": [
      "/dados/anaconda3/lib/python3.7/site-packages/tbats/error/ExceptionHandler.py:13: ModelWarning: Optimization did not converge. Forecasts may be unstable.\n",
      "  warnings.warn(message, warning_type)\n"
     ]
    },
    {
     "name": "stdout",
     "output_type": "stream",
     "text": [
      "78440 15 3477 1.0\n",
      "78450 15 8686 0.0\n",
      "78460 15 20560 0\n",
      "78470 15 19874 0\n",
      "78480 15 17869 1.0\n",
      "78490 15 21548 0\n"
     ]
    },
    {
     "name": "stderr",
     "output_type": "stream",
     "text": [
      "/dados/anaconda3/lib/python3.7/site-packages/tbats/error/ExceptionHandler.py:13: ModelWarning: Optimization did not converge. Forecasts may be unstable.\n",
      "  warnings.warn(message, warning_type)\n"
     ]
    },
    {
     "name": "stdout",
     "output_type": "stream",
     "text": [
      "78500 15 18255 0.0\n",
      "78510 15 2639 0.0\n",
      "78520 15 21827 0.0\n"
     ]
    },
    {
     "name": "stderr",
     "output_type": "stream",
     "text": [
      "/dados/anaconda3/lib/python3.7/site-packages/tbats/error/ExceptionHandler.py:13: ModelWarning: Optimization did not converge. Forecasts may be unstable.\n",
      "  warnings.warn(message, warning_type)\n"
     ]
    },
    {
     "name": "stdout",
     "output_type": "stream",
     "text": [
      "78530 15 1238 0\n"
     ]
    },
    {
     "name": "stderr",
     "output_type": "stream",
     "text": [
      "/dados/anaconda3/lib/python3.7/site-packages/tbats/error/ExceptionHandler.py:13: ModelWarning: Optimization did not converge. Forecasts may be unstable.\n",
      "  warnings.warn(message, warning_type)\n"
     ]
    },
    {
     "name": "stdout",
     "output_type": "stream",
     "text": [
      "78540 15 1247 0.0\n",
      "78550 15 269 0\n",
      "78560 15 687 0.0\n",
      "78570 15 93 0\n",
      "78580 15 20718 0\n",
      "78590 15 42 0\n"
     ]
    },
    {
     "name": "stderr",
     "output_type": "stream",
     "text": [
      "/dados/anaconda3/lib/python3.7/site-packages/tbats/error/ExceptionHandler.py:13: ModelWarning: Optimization did not converge. Forecasts may be unstable.\n",
      "  warnings.warn(message, warning_type)\n"
     ]
    },
    {
     "name": "stdout",
     "output_type": "stream",
     "text": [
      "78600 15 21842 0.0\n",
      "78610 15 2324 0\n",
      "78620 15 1663 0\n"
     ]
    },
    {
     "name": "stderr",
     "output_type": "stream",
     "text": [
      "/dados/anaconda3/lib/python3.7/site-packages/tbats/error/ExceptionHandler.py:13: ModelWarning: Optimization did not converge. Forecasts may be unstable.\n",
      "  warnings.warn(message, warning_type)\n"
     ]
    },
    {
     "name": "stdout",
     "output_type": "stream",
     "text": [
      "78630 15 3080 0\n",
      "78640 15 2886 0\n"
     ]
    },
    {
     "name": "stderr",
     "output_type": "stream",
     "text": [
      "/dados/anaconda3/lib/python3.7/site-packages/tbats/error/ExceptionHandler.py:13: ModelWarning: Optimization did not converge. Forecasts may be unstable.\n",
      "  warnings.warn(message, warning_type)\n"
     ]
    },
    {
     "name": "stdout",
     "output_type": "stream",
     "text": [
      "78650 15 13587 0\n",
      "78660 15 13691 0\n",
      "78670 15 15169 0\n",
      "78680 15 14973 0\n",
      "78690 15 13113 0\n",
      "78700 15 11711 0.0\n",
      "78710 15 13231 0\n"
     ]
    },
    {
     "name": "stderr",
     "output_type": "stream",
     "text": [
      "/dados/anaconda3/lib/python3.7/site-packages/tbats/error/ExceptionHandler.py:13: ModelWarning: Optimization did not converge. Forecasts may be unstable.\n",
      "  warnings.warn(message, warning_type)\n"
     ]
    },
    {
     "name": "stdout",
     "output_type": "stream",
     "text": [
      "78720 15 18677 0.0\n",
      "78730 15 18686 0\n",
      "78740 15 20374 0.0\n",
      "78750 15 20571 0.0\n"
     ]
    },
    {
     "name": "stderr",
     "output_type": "stream",
     "text": [
      "/dados/anaconda3/lib/python3.7/site-packages/tbats/error/ExceptionHandler.py:13: ModelWarning: Optimization did not converge. Forecasts may be unstable.\n",
      "  warnings.warn(message, warning_type)\n",
      "/dados/anaconda3/lib/python3.7/site-packages/tbats/error/ExceptionHandler.py:13: ModelWarning: Optimization did not converge. Forecasts may be unstable.\n",
      "  warnings.warn(message, warning_type)\n"
     ]
    },
    {
     "name": "stdout",
     "output_type": "stream",
     "text": [
      "78760 15 19621 0\n"
     ]
    },
    {
     "name": "stderr",
     "output_type": "stream",
     "text": [
      "/dados/anaconda3/lib/python3.7/site-packages/tbats/error/ExceptionHandler.py:13: ModelWarning: Optimization did not converge. Forecasts may be unstable.\n",
      "  warnings.warn(message, warning_type)\n"
     ]
    },
    {
     "name": "stdout",
     "output_type": "stream",
     "text": [
      "78770 15 16036 0\n",
      "78780 15 15276 0.0\n"
     ]
    },
    {
     "name": "stderr",
     "output_type": "stream",
     "text": [
      "/dados/anaconda3/lib/python3.7/site-packages/tbats/error/ExceptionHandler.py:13: ModelWarning: Optimization did not converge. Forecasts may be unstable.\n",
      "  warnings.warn(message, warning_type)\n"
     ]
    },
    {
     "name": "stdout",
     "output_type": "stream",
     "text": [
      "78790 15 16177 0\n",
      "78800 15 8687 0.0\n",
      "78810 15 9171 0\n",
      "78820 15 9366 0\n",
      "78830 15 7459 0.0\n"
     ]
    },
    {
     "name": "stderr",
     "output_type": "stream",
     "text": [
      "/dados/anaconda3/lib/python3.7/site-packages/tbats/error/ExceptionHandler.py:13: ModelWarning: Optimization did not converge. Forecasts may be unstable.\n",
      "  warnings.warn(message, warning_type)\n"
     ]
    },
    {
     "name": "stdout",
     "output_type": "stream",
     "text": [
      "78840 15 8148 0\n",
      "78850 15 8510 0\n",
      "78860 15 9449 0\n",
      "78870 15 10786 1.0\n",
      "78880 15 10669 0.0\n",
      "78890 15 11379 0\n",
      "78900 15 11542 0\n",
      "78910 15 10893 0\n",
      "78920 15 9539 0.0\n"
     ]
    },
    {
     "name": "stderr",
     "output_type": "stream",
     "text": [
      "/dados/anaconda3/lib/python3.7/site-packages/tbats/error/ExceptionHandler.py:13: ModelWarning: Optimization did not converge. Forecasts may be unstable.\n",
      "  warnings.warn(message, warning_type)\n"
     ]
    },
    {
     "name": "stdout",
     "output_type": "stream",
     "text": [
      "78930 15 10325 0.0\n",
      "78940 15 9840 0\n"
     ]
    },
    {
     "name": "stderr",
     "output_type": "stream",
     "text": [
      "/dados/anaconda3/lib/python3.7/site-packages/tbats/error/ExceptionHandler.py:13: ModelWarning: Optimization did not converge. Forecasts may be unstable.\n",
      "  warnings.warn(message, warning_type)\n"
     ]
    },
    {
     "name": "stdout",
     "output_type": "stream",
     "text": [
      "78950 15 10003 2.0\n",
      "78960 15 4708 0.0\n"
     ]
    },
    {
     "name": "stderr",
     "output_type": "stream",
     "text": [
      "/dados/anaconda3/lib/python3.7/site-packages/tbats/error/ExceptionHandler.py:13: ModelWarning: Optimization did not converge. Forecasts may be unstable.\n",
      "  warnings.warn(message, warning_type)\n"
     ]
    },
    {
     "name": "stdout",
     "output_type": "stream",
     "text": [
      "78970 15 4604 0.0\n",
      "78980 15 5323 1.0\n",
      "78990 15 3897 0.0\n",
      "79000 15 3919 0\n",
      "79010 15 3787 1.0\n",
      "79020 15 4088 0\n",
      "79030 15 6695 5.0\n",
      "79040 15 6378 0.0\n",
      "79050 15 6857 0.0\n"
     ]
    },
    {
     "name": "stderr",
     "output_type": "stream",
     "text": [
      "/dados/anaconda3/lib/python3.7/site-packages/tbats/error/ExceptionHandler.py:13: ModelWarning: Optimization did not converge. Forecasts may be unstable.\n",
      "  warnings.warn(message, warning_type)\n"
     ]
    },
    {
     "name": "stdout",
     "output_type": "stream",
     "text": [
      "79060 15 5659 0.0\n",
      "79070 15 3354 0\n",
      "79080 15 1538 0\n",
      "79090 15 22111 0\n",
      "79100 15 9019 0.0\n",
      "79110 15 11968 0.0\n"
     ]
    },
    {
     "name": "stderr",
     "output_type": "stream",
     "text": [
      "/dados/anaconda3/lib/python3.7/site-packages/tbats/error/ExceptionHandler.py:13: ModelWarning: Optimization did not converge. Forecasts may be unstable.\n",
      "  warnings.warn(message, warning_type)\n"
     ]
    },
    {
     "name": "stdout",
     "output_type": "stream",
     "text": [
      "79120 15 6027 0.0\n",
      "79130 15 18361 0\n",
      "79140 15 18629 0.0\n",
      "79150 15 17883 0\n"
     ]
    },
    {
     "name": "stderr",
     "output_type": "stream",
     "text": [
      "/dados/anaconda3/lib/python3.7/site-packages/tbats/error/ExceptionHandler.py:13: ModelWarning: Optimization did not converge. Forecasts may be unstable.\n",
      "  warnings.warn(message, warning_type)\n"
     ]
    },
    {
     "name": "stdout",
     "output_type": "stream",
     "text": [
      "79160 15 18108 0\n",
      "79170 15 19126 0.0\n",
      "79180 15 19488 0\n"
     ]
    },
    {
     "name": "stderr",
     "output_type": "stream",
     "text": [
      "/dados/anaconda3/lib/python3.7/site-packages/tbats/error/ExceptionHandler.py:13: ModelWarning: Optimization did not converge. Forecasts may be unstable.\n",
      "  warnings.warn(message, warning_type)\n"
     ]
    },
    {
     "name": "stdout",
     "output_type": "stream",
     "text": [
      "79190 15 18759 0\n",
      "79200 15 18979 0\n",
      "79210 15 3236 0.0\n",
      "79220 15 19588 0.0\n",
      "79230 15 20952 0\n",
      "79240 15 21207 0\n",
      "79250 15 20833 0.0\n"
     ]
    },
    {
     "name": "stderr",
     "output_type": "stream",
     "text": [
      "/dados/anaconda3/lib/python3.7/site-packages/tbats/error/ExceptionHandler.py:13: ModelWarning: Optimization did not converge. Forecasts may be unstable.\n",
      "  warnings.warn(message, warning_type)\n"
     ]
    },
    {
     "name": "stdout",
     "output_type": "stream",
     "text": [
      "79260 15 20274 0.0\n",
      "79270 15 21795 0\n",
      "79280 15 21792 0\n",
      "79290 15 19951 0\n",
      "79300 15 19852 0\n",
      "79310 15 20600 0\n"
     ]
    },
    {
     "name": "stderr",
     "output_type": "stream",
     "text": [
      "/dados/anaconda3/lib/python3.7/site-packages/tbats/error/ExceptionHandler.py:13: ModelWarning: Optimization did not converge. Forecasts may be unstable.\n",
      "  warnings.warn(message, warning_type)\n"
     ]
    },
    {
     "name": "stdout",
     "output_type": "stream",
     "text": [
      "79320 15 20581 0\n",
      "79330 15 6312 0.0\n",
      "79340 15 3634 0.0\n"
     ]
    },
    {
     "name": "stderr",
     "output_type": "stream",
     "text": [
      "/dados/anaconda3/lib/python3.7/site-packages/tbats/error/ExceptionHandler.py:13: ModelWarning: Optimization did not converge. Forecasts may be unstable.\n",
      "  warnings.warn(message, warning_type)\n"
     ]
    },
    {
     "name": "stdout",
     "output_type": "stream",
     "text": [
      "79350 15 4707 0\n",
      "79360 15 8888 0.0\n",
      "79370 15 10099 0.0\n",
      "79380 15 6807 0\n",
      "79390 15 8112 0\n",
      "79400 15 19118 6.0\n",
      "79410 15 21790 0\n",
      "79420 15 13630 0\n",
      "79430 15 15478 2.0\n"
     ]
    },
    {
     "name": "stderr",
     "output_type": "stream",
     "text": [
      "/dados/anaconda3/lib/python3.7/site-packages/tbats/error/ExceptionHandler.py:13: ModelWarning: Optimization did not converge. Forecasts may be unstable.\n",
      "  warnings.warn(message, warning_type)\n"
     ]
    },
    {
     "name": "stdout",
     "output_type": "stream",
     "text": [
      "79440 15 15226 0.0\n",
      "79450 15 2585 0\n",
      "79460 15 2213 0\n",
      "79470 15 1611 0.0\n",
      "79480 15 12504 0.0\n",
      "79490 15 13445 0\n",
      "79500 15 11915 0.0\n",
      "79510 15 20739 0.0\n",
      "79520 15 21196 0\n",
      "79530 15 14108 0\n",
      "79540 15 3457 0\n",
      "79550 15 3096 0\n",
      "79560 15 15260 0.0\n",
      "79570 15 17157 0.0\n",
      "79580 15 413 0\n",
      "79590 15 1010 0.0\n"
     ]
    },
    {
     "name": "stderr",
     "output_type": "stream",
     "text": [
      "/dados/anaconda3/lib/python3.7/site-packages/tbats/error/ExceptionHandler.py:13: ModelWarning: Optimization did not converge. Forecasts may be unstable.\n",
      "  warnings.warn(message, warning_type)\n",
      "/dados/anaconda3/lib/python3.7/site-packages/tbats/error/ExceptionHandler.py:13: ModelWarning: Optimization did not converge. Forecasts may be unstable.\n",
      "  warnings.warn(message, warning_type)\n"
     ]
    },
    {
     "name": "stdout",
     "output_type": "stream",
     "text": [
      "79600 15 4364 1.0\n",
      "79610 15 6528 0\n",
      "79620 15 5470 0.0\n",
      "79630 15 19337 0\n",
      "79640 15 18017 0\n",
      "79650 15 14892 0.0\n"
     ]
    },
    {
     "name": "stderr",
     "output_type": "stream",
     "text": [
      "/dados/anaconda3/lib/python3.7/site-packages/tbats/error/ExceptionHandler.py:13: ModelWarning: Optimization did not converge. Forecasts may be unstable.\n",
      "  warnings.warn(message, warning_type)\n"
     ]
    },
    {
     "name": "stdout",
     "output_type": "stream",
     "text": [
      "79660 15 20393 1.0\n",
      "79670 15 15171 0\n",
      "79680 15 16093 0\n"
     ]
    },
    {
     "name": "stderr",
     "output_type": "stream",
     "text": [
      "/dados/anaconda3/lib/python3.7/site-packages/tbats/error/ExceptionHandler.py:13: ModelWarning: Optimization did not converge. Forecasts may be unstable.\n",
      "  warnings.warn(message, warning_type)\n"
     ]
    },
    {
     "name": "stdout",
     "output_type": "stream",
     "text": [
      "79690 15 16111 0.0\n"
     ]
    },
    {
     "name": "stderr",
     "output_type": "stream",
     "text": [
      "/dados/anaconda3/lib/python3.7/site-packages/tbats/error/ExceptionHandler.py:13: ModelWarning: Optimization did not converge. Forecasts may be unstable.\n",
      "  warnings.warn(message, warning_type)\n"
     ]
    },
    {
     "name": "stdout",
     "output_type": "stream",
     "text": [
      "79700 15 14962 0\n",
      "79710 15 16207 0.0\n",
      "79720 15 16786 0\n",
      "79730 15 8157 0.0\n",
      "79740 15 13448 0\n",
      "79750 15 13224 0\n",
      "79760 15 13512 0.0\n",
      "79770 15 13288 0\n",
      "79780 15 14164 0\n",
      "79790 15 12808 0.0\n",
      "79800 15 13647 0\n",
      "79810 15 12332 0\n",
      "79820 15 12091 0.0\n"
     ]
    },
    {
     "name": "stderr",
     "output_type": "stream",
     "text": [
      "/dados/anaconda3/lib/python3.7/site-packages/tbats/error/ExceptionHandler.py:13: ModelWarning: Optimization did not converge. Forecasts may be unstable.\n",
      "  warnings.warn(message, warning_type)\n"
     ]
    },
    {
     "name": "stdout",
     "output_type": "stream",
     "text": [
      "79830 15 11268 0\n",
      "79840 15 13223 0\n",
      "79850 15 13221 0\n",
      "79860 15 16179 0\n",
      "79870 15 15524 0.0\n",
      "79880 15 16045 0\n",
      "79890 15 16910 0\n",
      "79900 15 15667 0\n",
      "79910 15 16243 0\n",
      "79920 15 16349 0\n",
      "79930 15 15015 0\n",
      "79940 15 15134 0\n",
      "79950 15 14987 0\n"
     ]
    },
    {
     "name": "stderr",
     "output_type": "stream",
     "text": [
      "/dados/anaconda3/lib/python3.7/site-packages/tbats/error/ExceptionHandler.py:13: ModelWarning: Optimization did not converge. Forecasts may be unstable.\n",
      "  warnings.warn(message, warning_type)\n"
     ]
    },
    {
     "name": "stdout",
     "output_type": "stream",
     "text": [
      "79960 15 15318 0\n"
     ]
    },
    {
     "name": "stderr",
     "output_type": "stream",
     "text": [
      "/dados/anaconda3/lib/python3.7/site-packages/tbats/error/ExceptionHandler.py:13: ModelWarning: Optimization did not converge. Forecasts may be unstable.\n",
      "  warnings.warn(message, warning_type)\n"
     ]
    },
    {
     "name": "stdout",
     "output_type": "stream",
     "text": [
      "79970 15 15168 0\n",
      "79980 15 15220 1.0\n"
     ]
    },
    {
     "name": "stderr",
     "output_type": "stream",
     "text": [
      "/dados/anaconda3/lib/python3.7/site-packages/tbats/error/ExceptionHandler.py:13: ModelWarning: Optimization did not converge. Forecasts may be unstable.\n",
      "  warnings.warn(message, warning_type)\n"
     ]
    },
    {
     "name": "stdout",
     "output_type": "stream",
     "text": [
      "79990 15 6870 0\n",
      "80000 15 4480 0.0\n",
      "80010 15 5063 0\n",
      "80020 15 5155 0\n",
      "80030 15 5187 0\n",
      "80040 15 5121 0\n",
      "80050 15 10069 0\n",
      "80060 15 10287 0.0\n",
      "80070 15 10180 0\n",
      "80080 15 10772 0.0\n",
      "80090 15 11363 0\n",
      "80100 15 11044 0.0\n",
      "80110 15 8459 0\n",
      "80120 15 8363 0.0\n",
      "80130 15 7580 0\n",
      "80140 15 8968 0\n",
      "80150 15 9338 0\n",
      "80160 15 8428 0\n",
      "80170 15 14361 0\n",
      "80180 15 547 0\n",
      "80190 15 12743 0.0\n",
      "80200 15 20517 2.0\n"
     ]
    },
    {
     "name": "stderr",
     "output_type": "stream",
     "text": [
      "/dados/anaconda3/lib/python3.7/site-packages/tbats/error/ExceptionHandler.py:13: ModelWarning: Optimization did not converge. Forecasts may be unstable.\n",
      "  warnings.warn(message, warning_type)\n"
     ]
    },
    {
     "name": "stdout",
     "output_type": "stream",
     "text": [
      "80210 15 7924 0.0\n"
     ]
    },
    {
     "name": "stderr",
     "output_type": "stream",
     "text": [
      "/dados/anaconda3/lib/python3.7/site-packages/tbats/error/ExceptionHandler.py:13: ModelWarning: Optimization did not converge. Forecasts may be unstable.\n",
      "  warnings.warn(message, warning_type)\n"
     ]
    },
    {
     "name": "stdout",
     "output_type": "stream",
     "text": [
      "80220 15 3239 3.0\n",
      "80230 15 15458 0\n",
      "80240 15 18025 0\n",
      "80250 15 15031 1.0\n",
      "80260 15 14984 0\n",
      "80270 15 1254 0\n",
      "80280 15 18968 0.0\n",
      "80290 15 21139 0\n",
      "80300 15 3273 0\n",
      "80310 15 13407 0\n",
      "80320 15 21692 0\n",
      "80330 15 19127 0.0\n",
      "80340 15 16953 0.0\n",
      "80350 15 21400 0.0\n",
      "80360 15 20334 0\n",
      "80370 15 13693 0\n",
      "80380 15 12474 0\n",
      "80390 15 8468 0\n",
      "80400 15 11302 0\n",
      "80410 15 448 0\n",
      "80420 15 5272 0.0\n"
     ]
    },
    {
     "name": "stderr",
     "output_type": "stream",
     "text": [
      "/dados/anaconda3/lib/python3.7/site-packages/tbats/error/ExceptionHandler.py:13: ModelWarning: Optimization did not converge. Forecasts may be unstable.\n",
      "  warnings.warn(message, warning_type)\n"
     ]
    },
    {
     "name": "stdout",
     "output_type": "stream",
     "text": [
      "80430 15 6028 0\n",
      "80440 15 8855 0\n",
      "80450 15 2540 0\n",
      "80460 15 18315 0\n",
      "80470 15 2191 0\n"
     ]
    },
    {
     "name": "stderr",
     "output_type": "stream",
     "text": [
      "/dados/anaconda3/lib/python3.7/site-packages/tbats/error/ExceptionHandler.py:13: ModelWarning: Optimization did not converge. Forecasts may be unstable.\n",
      "  warnings.warn(message, warning_type)\n"
     ]
    },
    {
     "name": "stdout",
     "output_type": "stream",
     "text": [
      "80480 15 3333 0.0\n",
      "80490 15 20879 0\n",
      "80500 15 14760 0\n",
      "80510 15 4637 0.0\n"
     ]
    },
    {
     "name": "stderr",
     "output_type": "stream",
     "text": [
      "/dados/anaconda3/lib/python3.7/site-packages/tbats/error/ExceptionHandler.py:13: ModelWarning: Optimization did not converge. Forecasts may be unstable.\n",
      "  warnings.warn(message, warning_type)\n"
     ]
    },
    {
     "name": "stdout",
     "output_type": "stream",
     "text": [
      "80520 15 13494 0.0\n",
      "80530 15 16032 0\n",
      "80540 15 2523 1.0\n",
      "80550 15 5540 0\n"
     ]
    },
    {
     "name": "stderr",
     "output_type": "stream",
     "text": [
      "/dados/anaconda3/lib/python3.7/site-packages/tbats/error/ExceptionHandler.py:13: ModelWarning: Optimization did not converge. Forecasts may be unstable.\n",
      "  warnings.warn(message, warning_type)\n"
     ]
    },
    {
     "name": "stdout",
     "output_type": "stream",
     "text": [
      "80560 15 1453 0.0\n",
      "80570 15 11011 0\n",
      "80580 15 3548 0\n",
      "80590 15 6307 1.0\n",
      "80600 15 20196 0\n",
      "80610 15 19751 0.0\n",
      "80620 15 18457 0\n",
      "80630 15 18208 0\n",
      "80640 15 22013 0.0\n",
      "80650 15 20653 3.0\n",
      "80660 15 21053 0\n",
      "80670 15 11516 0.0\n",
      "80680 15 18481 0.0\n",
      "80690 15 15222 0\n",
      "80700 15 13327 0\n",
      "80710 15 18031 0\n"
     ]
    },
    {
     "name": "stderr",
     "output_type": "stream",
     "text": [
      "/dados/anaconda3/lib/python3.7/site-packages/tbats/error/ExceptionHandler.py:13: ModelWarning: Optimization did not converge. Forecasts may be unstable.\n",
      "  warnings.warn(message, warning_type)\n"
     ]
    },
    {
     "name": "stdout",
     "output_type": "stream",
     "text": [
      "80720 15 20821 0\n",
      "80730 15 18939 0\n",
      "80740 15 12208 0.0\n",
      "80750 15 15654 0\n",
      "80760 15 16028 0.0\n",
      "80770 15 20516 0\n",
      "80780 15 6400 1.0\n",
      "80790 15 16166 0\n",
      "80800 15 9534 0\n",
      "80810 15 10581 0\n",
      "80820 15 9111 0\n",
      "80830 15 13099 0\n",
      "80840 15 11874 0\n",
      "80850 15 12192 0\n",
      "80860 15 6430 0\n",
      "80870 15 5761 0\n",
      "80880 15 4903 0\n",
      "80890 15 5382 0\n",
      "80900 15 7817 0\n",
      "80910 15 6959 0\n",
      "80920 15 7057 0\n",
      "80930 15 21978 0\n",
      "80940 15 19347 0\n",
      "80950 15 20012 0\n",
      "80960 15 13732 0\n",
      "80970 15 14934 0\n",
      "80980 15 13341 0\n",
      "80990 15 16396 0\n",
      "81000 15 16813 0\n",
      "81010 15 15988 0\n",
      "81020 15 16272 0\n",
      "81030 15 504 0\n",
      "81040 15 688 0\n",
      "81050 15 616 0\n",
      "81060 15 204 0\n",
      "81070 15 1394 0\n",
      "81080 15 924 0\n",
      "81090 15 1506 0\n",
      "81100 15 849 0\n",
      "81110 15 20361 0.0\n",
      "81120 15 3715 0\n",
      "81130 15 3411 0\n",
      "81140 15 4765 0\n",
      "81150 15 4260 0\n",
      "81160 15 4144 0\n",
      "81170 15 4203 0\n",
      "81180 15 1794 0\n",
      "81190 15 2338 0\n",
      "81200 15 1792 0\n",
      "81210 15 2856 0\n",
      "81220 15 2434 0\n",
      "81230 15 3136 0\n"
     ]
    },
    {
     "name": "stderr",
     "output_type": "stream",
     "text": [
      "/dados/anaconda3/lib/python3.7/site-packages/tbats/error/ExceptionHandler.py:13: ModelWarning: Optimization did not converge. Forecasts may be unstable.\n",
      "  warnings.warn(message, warning_type)\n"
     ]
    },
    {
     "name": "stdout",
     "output_type": "stream",
     "text": [
      "81240 15 1018 0.0\n",
      "81250 15 19258 0\n",
      "81260 15 4736 0.0\n",
      "81270 15 5363 0.0\n",
      "81280 15 17390 0\n",
      "81290 15 11682 0\n",
      "81300 15 15735 0\n",
      "81310 15 14899 0.0\n"
     ]
    },
    {
     "name": "stderr",
     "output_type": "stream",
     "text": [
      "/dados/anaconda3/lib/python3.7/site-packages/tbats/error/ExceptionHandler.py:13: ModelWarning: Optimization did not converge. Forecasts may be unstable.\n",
      "  warnings.warn(message, warning_type)\n",
      "/dados/anaconda3/lib/python3.7/site-packages/tbats/error/ExceptionHandler.py:13: ModelWarning: Optimization did not converge. Forecasts may be unstable.\n",
      "  warnings.warn(message, warning_type)\n"
     ]
    },
    {
     "name": "stdout",
     "output_type": "stream",
     "text": [
      "81320 15 20212 0.0\n",
      "81330 15 5899 0.0\n",
      "81340 15 18476 0.0\n",
      "81350 15 6835 0.0\n",
      "81360 15 15405 0\n",
      "81370 15 17756 0\n",
      "81380 15 18500 0.0\n",
      "81390 15 16231 0\n",
      "81400 15 17015 0.0\n",
      "81410 15 13133 0\n",
      "81420 15 14222 0\n",
      "81430 15 13812 0.0\n",
      "81440 15 5010 0.0\n",
      "81450 15 21210 0\n",
      "81460 15 20916 0\n",
      "81470 15 21664 0\n",
      "81480 15 3232 0.0\n",
      "81490 15 3547 0.0\n",
      "81500 15 18707 0\n",
      "81510 15 11674 0\n",
      "81520 15 16057 1.0\n"
     ]
    },
    {
     "name": "stderr",
     "output_type": "stream",
     "text": [
      "/dados/anaconda3/lib/python3.7/site-packages/tbats/error/ExceptionHandler.py:13: ModelWarning: Optimization did not converge. Forecasts may be unstable.\n",
      "  warnings.warn(message, warning_type)\n"
     ]
    },
    {
     "name": "stdout",
     "output_type": "stream",
     "text": [
      "81530 15 15033 0\n",
      "81540 15 10508 0.0\n"
     ]
    },
    {
     "name": "stderr",
     "output_type": "stream",
     "text": [
      "/dados/anaconda3/lib/python3.7/site-packages/tbats/error/ExceptionHandler.py:13: ModelWarning: Optimization did not converge. Forecasts may be unstable.\n",
      "  warnings.warn(message, warning_type)\n"
     ]
    },
    {
     "name": "stdout",
     "output_type": "stream",
     "text": [
      "81550 15 7572 0\n",
      "81560 15 6882 0.0\n",
      "81570 15 14543 0.0\n",
      "81580 15 19889 0.0\n",
      "81590 15 3280 0.0\n"
     ]
    },
    {
     "name": "stderr",
     "output_type": "stream",
     "text": [
      "/dados/anaconda3/lib/python3.7/site-packages/tbats/error/ExceptionHandler.py:13: ModelWarning: Optimization did not converge. Forecasts may be unstable.\n",
      "  warnings.warn(message, warning_type)\n"
     ]
    },
    {
     "name": "stdout",
     "output_type": "stream",
     "text": [
      "81600 16 5037 3.0\n"
     ]
    },
    {
     "name": "stderr",
     "output_type": "stream",
     "text": [
      "/dados/anaconda3/lib/python3.7/site-packages/tbats/error/ExceptionHandler.py:13: ModelWarning: Optimization did not converge. Forecasts may be unstable.\n",
      "  warnings.warn(message, warning_type)\n"
     ]
    },
    {
     "name": "stdout",
     "output_type": "stream",
     "text": [
      "81610 16 4806 3.0\n",
      "81620 16 4717 1.0\n",
      "81630 16 5666 0.0\n",
      "81640 16 5840 0\n",
      "81650 16 5838 1.0\n",
      "81660 16 3352 0\n",
      "81670 16 3604 0\n",
      "81680 16 3443 0.0\n",
      "81690 16 4365 2.0\n",
      "81700 16 3733 0.0\n"
     ]
    },
    {
     "name": "stderr",
     "output_type": "stream",
     "text": [
      "/dados/anaconda3/lib/python3.7/site-packages/tbats/error/ExceptionHandler.py:13: ModelWarning: Optimization did not converge. Forecasts may be unstable.\n",
      "  warnings.warn(message, warning_type)\n"
     ]
    },
    {
     "name": "stdout",
     "output_type": "stream",
     "text": [
      "81710 16 4052 0.0\n",
      "81720 16 9395 2.0\n",
      "81730 16 9469 0\n",
      "81740 16 8653 0.0\n",
      "81750 16 9001 0.0\n",
      "81760 16 10447 0\n",
      "81770 16 10327 0\n",
      "81780 16 9927 0\n"
     ]
    },
    {
     "name": "stderr",
     "output_type": "stream",
     "text": [
      "/dados/anaconda3/lib/python3.7/site-packages/tbats/error/ExceptionHandler.py:13: ModelWarning: Optimization did not converge. Forecasts may be unstable.\n",
      "  warnings.warn(message, warning_type)\n"
     ]
    },
    {
     "name": "stdout",
     "output_type": "stream",
     "text": [
      "81790 16 6506 0\n",
      "81800 16 6731 0\n",
      "81810 16 6396 0.0\n"
     ]
    },
    {
     "name": "stderr",
     "output_type": "stream",
     "text": [
      "/dados/anaconda3/lib/python3.7/site-packages/tbats/error/ExceptionHandler.py:13: ModelWarning: Optimization did not converge. Forecasts may be unstable.\n",
      "  warnings.warn(message, warning_type)\n"
     ]
    },
    {
     "name": "stdout",
     "output_type": "stream",
     "text": [
      "81820 16 6064 0.0\n"
     ]
    },
    {
     "name": "stderr",
     "output_type": "stream",
     "text": [
      "/dados/anaconda3/lib/python3.7/site-packages/tbats/error/ExceptionHandler.py:13: ModelWarning: Optimization did not converge. Forecasts may be unstable.\n",
      "  warnings.warn(message, warning_type)\n"
     ]
    },
    {
     "name": "stdout",
     "output_type": "stream",
     "text": [
      "81830 16 7862 0\n"
     ]
    },
    {
     "name": "stderr",
     "output_type": "stream",
     "text": [
      "/dados/anaconda3/lib/python3.7/site-packages/tbats/error/ExceptionHandler.py:13: ModelWarning: Optimization did not converge. Forecasts may be unstable.\n",
      "  warnings.warn(message, warning_type)\n",
      "/dados/anaconda3/lib/python3.7/site-packages/tbats/error/ExceptionHandler.py:13: ModelWarning: Optimization did not converge. Forecasts may be unstable.\n",
      "  warnings.warn(message, warning_type)\n"
     ]
    },
    {
     "name": "stdout",
     "output_type": "stream",
     "text": [
      "81840 16 7328 0.0\n"
     ]
    },
    {
     "name": "stderr",
     "output_type": "stream",
     "text": [
      "/dados/anaconda3/lib/python3.7/site-packages/tbats/error/ExceptionHandler.py:13: ModelWarning: Optimization did not converge. Forecasts may be unstable.\n",
      "  warnings.warn(message, warning_type)\n"
     ]
    },
    {
     "name": "stdout",
     "output_type": "stream",
     "text": [
      "81850 16 7029 0\n"
     ]
    },
    {
     "name": "stderr",
     "output_type": "stream",
     "text": [
      "/dados/anaconda3/lib/python3.7/site-packages/tbats/error/ExceptionHandler.py:13: ModelWarning: Optimization did not converge. Forecasts may be unstable.\n",
      "  warnings.warn(message, warning_type)\n"
     ]
    },
    {
     "name": "stdout",
     "output_type": "stream",
     "text": [
      "81860 16 15777 0.0\n",
      "81870 16 16843 8.0\n"
     ]
    },
    {
     "name": "stderr",
     "output_type": "stream",
     "text": [
      "/dados/anaconda3/lib/python3.7/site-packages/tbats/error/ExceptionHandler.py:13: ModelWarning: Optimization did not converge. Forecasts may be unstable.\n",
      "  warnings.warn(message, warning_type)\n",
      "/dados/anaconda3/lib/python3.7/site-packages/tbats/error/ExceptionHandler.py:13: ModelWarning: Optimization did not converge. Forecasts may be unstable.\n",
      "  warnings.warn(message, warning_type)\n"
     ]
    },
    {
     "name": "stdout",
     "output_type": "stream",
     "text": [
      "81880 16 15496 0\n",
      "81890 16 16103 2.0\n"
     ]
    },
    {
     "name": "stderr",
     "output_type": "stream",
     "text": [
      "/dados/anaconda3/lib/python3.7/site-packages/tbats/error/ExceptionHandler.py:13: ModelWarning: Optimization did not converge. Forecasts may be unstable.\n",
      "  warnings.warn(message, warning_type)\n"
     ]
    },
    {
     "name": "stdout",
     "output_type": "stream",
     "text": [
      "81900 16 18825 1.0\n"
     ]
    },
    {
     "name": "stderr",
     "output_type": "stream",
     "text": [
      "/dados/anaconda3/lib/python3.7/site-packages/tbats/error/ExceptionHandler.py:13: ModelWarning: Optimization did not converge. Forecasts may be unstable.\n",
      "  warnings.warn(message, warning_type)\n"
     ]
    },
    {
     "name": "stdout",
     "output_type": "stream",
     "text": [
      "81910 16 19656 0\n"
     ]
    },
    {
     "name": "stderr",
     "output_type": "stream",
     "text": [
      "/dados/anaconda3/lib/python3.7/site-packages/tbats/error/ExceptionHandler.py:13: ModelWarning: Optimization did not converge. Forecasts may be unstable.\n",
      "  warnings.warn(message, warning_type)\n"
     ]
    },
    {
     "name": "stdout",
     "output_type": "stream",
     "text": [
      "81920 16 18397 0\n"
     ]
    },
    {
     "name": "stderr",
     "output_type": "stream",
     "text": [
      "/dados/anaconda3/lib/python3.7/site-packages/tbats/error/ExceptionHandler.py:13: ModelWarning: Optimization did not converge. Forecasts may be unstable.\n",
      "  warnings.warn(message, warning_type)\n",
      "/dados/anaconda3/lib/python3.7/site-packages/tbats/error/ExceptionHandler.py:13: ModelWarning: Optimization did not converge. Forecasts may be unstable.\n",
      "  warnings.warn(message, warning_type)\n",
      "/dados/anaconda3/lib/python3.7/site-packages/tbats/error/ExceptionHandler.py:13: ModelWarning: Optimization did not converge. Forecasts may be unstable.\n",
      "  warnings.warn(message, warning_type)\n"
     ]
    },
    {
     "name": "stdout",
     "output_type": "stream",
     "text": [
      "81930 16 15338 0\n",
      "81940 16 13023 2.0\n",
      "81950 16 13415 0\n",
      "81960 16 13464 1.0\n",
      "81970 16 14832 0\n",
      "81980 16 15069 0\n"
     ]
    },
    {
     "name": "stderr",
     "output_type": "stream",
     "text": [
      "/dados/anaconda3/lib/python3.7/site-packages/tbats/error/ExceptionHandler.py:13: ModelWarning: Optimization did not converge. Forecasts may be unstable.\n",
      "  warnings.warn(message, warning_type)\n"
     ]
    },
    {
     "name": "stdout",
     "output_type": "stream",
     "text": [
      "81990 16 15037 0\n",
      "82000 16 2131 0\n"
     ]
    },
    {
     "name": "stderr",
     "output_type": "stream",
     "text": [
      "/dados/anaconda3/lib/python3.7/site-packages/tbats/error/ExceptionHandler.py:13: ModelWarning: Optimization did not converge. Forecasts may be unstable.\n",
      "  warnings.warn(message, warning_type)\n"
     ]
    },
    {
     "name": "stdout",
     "output_type": "stream",
     "text": [
      "82010 16 1732 0\n"
     ]
    },
    {
     "name": "stderr",
     "output_type": "stream",
     "text": [
      "/dados/anaconda3/lib/python3.7/site-packages/tbats/error/ExceptionHandler.py:13: ModelWarning: Optimization did not converge. Forecasts may be unstable.\n",
      "  warnings.warn(message, warning_type)\n",
      "/dados/anaconda3/lib/python3.7/site-packages/tbats/error/ExceptionHandler.py:13: ModelWarning: Optimization did not converge. Forecasts may be unstable.\n",
      "  warnings.warn(message, warning_type)\n"
     ]
    },
    {
     "name": "stdout",
     "output_type": "stream",
     "text": [
      "82020 16 2574 0.0\n",
      "82030 16 3076 3.0\n",
      "82040 16 2779 1.0\n",
      "82050 16 2873 0.0\n",
      "82060 16 20949 20.0\n",
      "82070 16 21937 0\n",
      "82080 16 20400 0\n"
     ]
    },
    {
     "name": "stderr",
     "output_type": "stream",
     "text": [
      "/dados/anaconda3/lib/python3.7/site-packages/tbats/error/ExceptionHandler.py:13: ModelWarning: Optimization did not converge. Forecasts may be unstable.\n",
      "  warnings.warn(message, warning_type)\n"
     ]
    },
    {
     "name": "stdout",
     "output_type": "stream",
     "text": [
      "82090 16 20616 0.0\n",
      "82100 16 1585 0\n"
     ]
    },
    {
     "name": "stderr",
     "output_type": "stream",
     "text": [
      "/dados/anaconda3/lib/python3.7/site-packages/tbats/error/ExceptionHandler.py:13: ModelWarning: Optimization did not converge. Forecasts may be unstable.\n",
      "  warnings.warn(message, warning_type)\n",
      "/dados/anaconda3/lib/python3.7/site-packages/tbats/error/ExceptionHandler.py:13: ModelWarning: Optimization did not converge. Forecasts may be unstable.\n",
      "  warnings.warn(message, warning_type)\n"
     ]
    },
    {
     "name": "stdout",
     "output_type": "stream",
     "text": [
      "82110 16 982 0.0\n"
     ]
    },
    {
     "name": "stderr",
     "output_type": "stream",
     "text": [
      "/dados/anaconda3/lib/python3.7/site-packages/tbats/error/ExceptionHandler.py:13: ModelWarning: Optimization did not converge. Forecasts may be unstable.\n",
      "  warnings.warn(message, warning_type)\n"
     ]
    },
    {
     "name": "stdout",
     "output_type": "stream",
     "text": [
      "82120 16 1486 0.0\n",
      "82130 16 2328 0\n",
      "82140 16 2293 0.0\n"
     ]
    },
    {
     "name": "stderr",
     "output_type": "stream",
     "text": [
      "/dados/anaconda3/lib/python3.7/site-packages/tbats/error/ExceptionHandler.py:13: ModelWarning: Optimization did not converge. Forecasts may be unstable.\n",
      "  warnings.warn(message, warning_type)\n"
     ]
    },
    {
     "name": "stdout",
     "output_type": "stream",
     "text": [
      "82150 16 3022 0\n",
      "82160 16 2743 0.0\n",
      "82170 16 1963 0\n",
      "82180 16 1295 0\n"
     ]
    },
    {
     "name": "stderr",
     "output_type": "stream",
     "text": [
      "/dados/anaconda3/lib/python3.7/site-packages/tbats/error/ExceptionHandler.py:13: ModelWarning: Optimization did not converge. Forecasts may be unstable.\n",
      "  warnings.warn(message, warning_type)\n"
     ]
    },
    {
     "name": "stdout",
     "output_type": "stream",
     "text": [
      "82190 16 22100 5.0\n",
      "82200 16 482 2.0\n"
     ]
    },
    {
     "name": "stderr",
     "output_type": "stream",
     "text": [
      "/dados/anaconda3/lib/python3.7/site-packages/tbats/error/ExceptionHandler.py:13: ModelWarning: Optimization did not converge. Forecasts may be unstable.\n",
      "  warnings.warn(message, warning_type)\n"
     ]
    },
    {
     "name": "stdout",
     "output_type": "stream",
     "text": [
      "82210 16 1877 0.0\n",
      "82220 16 1570 1.0\n"
     ]
    },
    {
     "name": "stderr",
     "output_type": "stream",
     "text": [
      "/dados/anaconda3/lib/python3.7/site-packages/tbats/error/ExceptionHandler.py:13: ModelWarning: Optimization did not converge. Forecasts may be unstable.\n",
      "  warnings.warn(message, warning_type)\n"
     ]
    },
    {
     "name": "stdout",
     "output_type": "stream",
     "text": [
      "82230 16 4003 0.0\n"
     ]
    },
    {
     "name": "stderr",
     "output_type": "stream",
     "text": [
      "/dados/anaconda3/lib/python3.7/site-packages/tbats/error/ExceptionHandler.py:13: ModelWarning: Optimization did not converge. Forecasts may be unstable.\n",
      "  warnings.warn(message, warning_type)\n",
      "/dados/anaconda3/lib/python3.7/site-packages/tbats/error/ExceptionHandler.py:13: ModelWarning: Optimization did not converge. Forecasts may be unstable.\n",
      "  warnings.warn(message, warning_type)\n"
     ]
    },
    {
     "name": "stdout",
     "output_type": "stream",
     "text": [
      "82240 16 3851 1.0\n",
      "82250 16 4420 0.0\n",
      "82260 16 4085 0.0\n"
     ]
    },
    {
     "name": "stderr",
     "output_type": "stream",
     "text": [
      "/dados/anaconda3/lib/python3.7/site-packages/tbats/error/ExceptionHandler.py:13: ModelWarning: Optimization did not converge. Forecasts may be unstable.\n",
      "  warnings.warn(message, warning_type)\n"
     ]
    },
    {
     "name": "stdout",
     "output_type": "stream",
     "text": [
      "82270 16 3528 0.0\n",
      "82280 16 3459 0\n",
      "82290 16 12771 0.0\n",
      "82300 16 13334 0\n",
      "82310 16 15047 2.0\n",
      "82320 16 13818 0.0\n",
      "82330 16 12549 0.0\n"
     ]
    },
    {
     "name": "stderr",
     "output_type": "stream",
     "text": [
      "/dados/anaconda3/lib/python3.7/site-packages/tbats/error/ExceptionHandler.py:13: ModelWarning: Optimization did not converge. Forecasts may be unstable.\n",
      "  warnings.warn(message, warning_type)\n"
     ]
    },
    {
     "name": "stdout",
     "output_type": "stream",
     "text": [
      "82340 16 12698 0\n"
     ]
    },
    {
     "name": "stderr",
     "output_type": "stream",
     "text": [
      "/dados/anaconda3/lib/python3.7/site-packages/tbats/error/ExceptionHandler.py:13: ModelWarning: Optimization did not converge. Forecasts may be unstable.\n",
      "  warnings.warn(message, warning_type)\n"
     ]
    },
    {
     "name": "stdout",
     "output_type": "stream",
     "text": [
      "82350 16 12360 0.0\n",
      "82360 16 11811 1.0\n"
     ]
    },
    {
     "name": "stderr",
     "output_type": "stream",
     "text": [
      "/dados/anaconda3/lib/python3.7/site-packages/tbats/error/ExceptionHandler.py:13: ModelWarning: Optimization did not converge. Forecasts may be unstable.\n",
      "  warnings.warn(message, warning_type)\n"
     ]
    },
    {
     "name": "stdout",
     "output_type": "stream",
     "text": [
      "82370 16 12023 0\n"
     ]
    },
    {
     "name": "stderr",
     "output_type": "stream",
     "text": [
      "/dados/anaconda3/lib/python3.7/site-packages/tbats/error/ExceptionHandler.py:13: ModelWarning: Optimization did not converge. Forecasts may be unstable.\n",
      "  warnings.warn(message, warning_type)\n"
     ]
    },
    {
     "name": "stdout",
     "output_type": "stream",
     "text": [
      "82380 16 13275 0\n",
      "82390 16 13303 0\n",
      "82400 16 13226 0\n",
      "82410 16 20609 0.0\n"
     ]
    },
    {
     "name": "stderr",
     "output_type": "stream",
     "text": [
      "/dados/anaconda3/lib/python3.7/site-packages/tbats/error/ExceptionHandler.py:13: ModelWarning: Optimization did not converge. Forecasts may be unstable.\n",
      "  warnings.warn(message, warning_type)\n"
     ]
    },
    {
     "name": "stdout",
     "output_type": "stream",
     "text": [
      "82420 16 19430 1.0\n",
      "82430 16 21942 0\n",
      "82440 16 18201 0\n",
      "82450 16 16122 0.0\n",
      "82460 16 14668 0.0\n",
      "82470 16 15323 1.0\n"
     ]
    },
    {
     "name": "stderr",
     "output_type": "stream",
     "text": [
      "/dados/anaconda3/lib/python3.7/site-packages/tbats/error/ExceptionHandler.py:13: ModelWarning: Optimization did not converge. Forecasts may be unstable.\n",
      "  warnings.warn(message, warning_type)\n"
     ]
    },
    {
     "name": "stdout",
     "output_type": "stream",
     "text": [
      "82480 16 17481 0.0\n"
     ]
    },
    {
     "name": "stderr",
     "output_type": "stream",
     "text": [
      "/dados/anaconda3/lib/python3.7/site-packages/tbats/error/ExceptionHandler.py:13: ModelWarning: Optimization did not converge. Forecasts may be unstable.\n",
      "  warnings.warn(message, warning_type)\n"
     ]
    },
    {
     "name": "stdout",
     "output_type": "stream",
     "text": [
      "82490 16 16541 0.0\n"
     ]
    },
    {
     "name": "stderr",
     "output_type": "stream",
     "text": [
      "/dados/anaconda3/lib/python3.7/site-packages/tbats/error/ExceptionHandler.py:13: ModelWarning: Optimization did not converge. Forecasts may be unstable.\n",
      "  warnings.warn(message, warning_type)\n"
     ]
    },
    {
     "name": "stdout",
     "output_type": "stream",
     "text": [
      "82500 16 1239 0.0\n",
      "82510 16 20631 0\n"
     ]
    },
    {
     "name": "stderr",
     "output_type": "stream",
     "text": [
      "/dados/anaconda3/lib/python3.7/site-packages/tbats/error/ExceptionHandler.py:13: ModelWarning: Optimization did not converge. Forecasts may be unstable.\n",
      "  warnings.warn(message, warning_type)\n",
      "/dados/anaconda3/lib/python3.7/site-packages/tbats/error/ExceptionHandler.py:13: ModelWarning: Optimization did not converge. Forecasts may be unstable.\n",
      "  warnings.warn(message, warning_type)\n",
      "/dados/anaconda3/lib/python3.7/site-packages/tbats/error/ExceptionHandler.py:13: ModelWarning: Optimization did not converge. Forecasts may be unstable.\n",
      "  warnings.warn(message, warning_type)\n"
     ]
    },
    {
     "name": "stdout",
     "output_type": "stream",
     "text": [
      "82520 16 2787 0\n",
      "82530 16 15282 3.0\n",
      "82540 16 16145 0\n",
      "82550 16 19125 0\n",
      "82560 16 17032 0\n",
      "82570 16 5383 0\n"
     ]
    },
    {
     "name": "stderr",
     "output_type": "stream",
     "text": [
      "/dados/anaconda3/lib/python3.7/site-packages/tbats/error/ExceptionHandler.py:13: ModelWarning: Optimization did not converge. Forecasts may be unstable.\n",
      "  warnings.warn(message, warning_type)\n"
     ]
    },
    {
     "name": "stdout",
     "output_type": "stream",
     "text": [
      "82580 16 4895 1.0\n",
      "82590 16 6505 0\n"
     ]
    },
    {
     "name": "stderr",
     "output_type": "stream",
     "text": [
      "/dados/anaconda3/lib/python3.7/site-packages/tbats/error/ExceptionHandler.py:13: ModelWarning: Optimization did not converge. Forecasts may be unstable.\n",
      "  warnings.warn(message, warning_type)\n"
     ]
    },
    {
     "name": "stdout",
     "output_type": "stream",
     "text": [
      "82600 16 6082 8.0\n"
     ]
    },
    {
     "name": "stderr",
     "output_type": "stream",
     "text": [
      "/dados/anaconda3/lib/python3.7/site-packages/tbats/error/ExceptionHandler.py:13: ModelWarning: Optimization did not converge. Forecasts may be unstable.\n",
      "  warnings.warn(message, warning_type)\n"
     ]
    },
    {
     "name": "stdout",
     "output_type": "stream",
     "text": [
      "82610 16 3822 0.0\n",
      "82620 16 6129 0\n",
      "82630 16 3833 0.0\n",
      "82640 16 3871 1.0\n",
      "82650 16 13285 0\n",
      "82660 16 11938 0.0\n",
      "82670 16 14457 0.0\n",
      "82680 16 7982 2.0\n"
     ]
    },
    {
     "name": "stderr",
     "output_type": "stream",
     "text": [
      "/dados/anaconda3/lib/python3.7/site-packages/tbats/error/ExceptionHandler.py:13: ModelWarning: Optimization did not converge. Forecasts may be unstable.\n",
      "  warnings.warn(message, warning_type)\n"
     ]
    },
    {
     "name": "stdout",
     "output_type": "stream",
     "text": [
      "82690 16 7224 0\n",
      "82700 16 10211 0.0\n",
      "82710 16 9404 1.0\n",
      "82720 16 4049 1.0\n"
     ]
    },
    {
     "name": "stderr",
     "output_type": "stream",
     "text": [
      "/dados/anaconda3/lib/python3.7/site-packages/tbats/error/ExceptionHandler.py:13: ModelWarning: Optimization did not converge. Forecasts may be unstable.\n",
      "  warnings.warn(message, warning_type)\n",
      "/dados/anaconda3/lib/python3.7/site-packages/tbats/error/ExceptionHandler.py:13: ModelWarning: Optimization did not converge. Forecasts may be unstable.\n",
      "  warnings.warn(message, warning_type)\n"
     ]
    },
    {
     "name": "stdout",
     "output_type": "stream",
     "text": [
      "82730 16 4999 1.0\n",
      "82740 16 3342 0.0\n",
      "82750 16 10190 0.0\n"
     ]
    },
    {
     "name": "stderr",
     "output_type": "stream",
     "text": [
      "/dados/anaconda3/lib/python3.7/site-packages/tbats/error/ExceptionHandler.py:13: ModelWarning: Optimization did not converge. Forecasts may be unstable.\n",
      "  warnings.warn(message, warning_type)\n"
     ]
    },
    {
     "name": "stdout",
     "output_type": "stream",
     "text": [
      "82760 16 9408 0\n",
      "82770 16 13237 0\n",
      "82780 16 10987 0.0\n",
      "82790 16 6625 0.0\n",
      "82800 16 6090 1.0\n",
      "82810 16 7019 1.0\n",
      "82820 16 12500 0\n",
      "82830 16 10448 0\n",
      "82840 16 12805 0.0\n",
      "82850 16 14247 0.0\n"
     ]
    },
    {
     "name": "stderr",
     "output_type": "stream",
     "text": [
      "/dados/anaconda3/lib/python3.7/site-packages/tbats/error/ExceptionHandler.py:13: ModelWarning: Optimization did not converge. Forecasts may be unstable.\n",
      "  warnings.warn(message, warning_type)\n"
     ]
    },
    {
     "name": "stdout",
     "output_type": "stream",
     "text": [
      "82860 16 7133 0\n"
     ]
    },
    {
     "name": "stderr",
     "output_type": "stream",
     "text": [
      "/dados/anaconda3/lib/python3.7/site-packages/tbats/error/ExceptionHandler.py:13: ModelWarning: Optimization did not converge. Forecasts may be unstable.\n",
      "  warnings.warn(message, warning_type)\n"
     ]
    },
    {
     "name": "stdout",
     "output_type": "stream",
     "text": [
      "82870 16 10292 1.0\n",
      "82880 16 1007 1.0\n",
      "82890 16 1717 0.0\n",
      "82900 16 14390 0.0\n",
      "82910 16 19908 0.0\n",
      "82920 16 17888 0\n",
      "82930 16 21722 0\n"
     ]
    },
    {
     "name": "stderr",
     "output_type": "stream",
     "text": [
      "/dados/anaconda3/lib/python3.7/site-packages/tbats/error/ExceptionHandler.py:13: ModelWarning: Optimization did not converge. Forecasts may be unstable.\n",
      "  warnings.warn(message, warning_type)\n"
     ]
    },
    {
     "name": "stdout",
     "output_type": "stream",
     "text": [
      "82940 16 940 0\n"
     ]
    },
    {
     "name": "stderr",
     "output_type": "stream",
     "text": [
      "/dados/anaconda3/lib/python3.7/site-packages/tbats/error/ExceptionHandler.py:13: ModelWarning: Optimization did not converge. Forecasts may be unstable.\n",
      "  warnings.warn(message, warning_type)\n"
     ]
    },
    {
     "name": "stdout",
     "output_type": "stream",
     "text": [
      "82950 16 18926 1.0\n"
     ]
    },
    {
     "name": "stderr",
     "output_type": "stream",
     "text": [
      "/dados/anaconda3/lib/python3.7/site-packages/tbats/error/ExceptionHandler.py:13: ModelWarning: Optimization did not converge. Forecasts may be unstable.\n",
      "  warnings.warn(message, warning_type)\n"
     ]
    },
    {
     "name": "stdout",
     "output_type": "stream",
     "text": [
      "82960 16 17772 0\n",
      "82970 16 19219 0\n"
     ]
    },
    {
     "name": "stderr",
     "output_type": "stream",
     "text": [
      "/dados/anaconda3/lib/python3.7/site-packages/tbats/error/ExceptionHandler.py:13: ModelWarning: Optimization did not converge. Forecasts may be unstable.\n",
      "  warnings.warn(message, warning_type)\n"
     ]
    },
    {
     "name": "stdout",
     "output_type": "stream",
     "text": [
      "82980 16 20225 1.0\n"
     ]
    },
    {
     "name": "stderr",
     "output_type": "stream",
     "text": [
      "/dados/anaconda3/lib/python3.7/site-packages/tbats/error/ExceptionHandler.py:13: ModelWarning: Optimization did not converge. Forecasts may be unstable.\n",
      "  warnings.warn(message, warning_type)\n"
     ]
    },
    {
     "name": "stdout",
     "output_type": "stream",
     "text": [
      "82990 16 5816 0.0\n",
      "83000 16 8868 0\n",
      "83010 16 17459 0.0\n"
     ]
    },
    {
     "name": "stderr",
     "output_type": "stream",
     "text": [
      "/dados/anaconda3/lib/python3.7/site-packages/tbats/error/ExceptionHandler.py:13: ModelWarning: Optimization did not converge. Forecasts may be unstable.\n",
      "  warnings.warn(message, warning_type)\n"
     ]
    },
    {
     "name": "stdout",
     "output_type": "stream",
     "text": [
      "83020 16 17420 0.0\n",
      "83030 16 10812 0\n",
      "83040 16 11771 0\n",
      "83050 16 10554 0\n",
      "83060 16 10378 0.0\n",
      "83070 16 16125 0.0\n"
     ]
    },
    {
     "name": "stderr",
     "output_type": "stream",
     "text": [
      "/dados/anaconda3/lib/python3.7/site-packages/tbats/error/ExceptionHandler.py:13: ModelWarning: Optimization did not converge. Forecasts may be unstable.\n",
      "  warnings.warn(message, warning_type)\n",
      "/dados/anaconda3/lib/python3.7/site-packages/tbats/error/ExceptionHandler.py:13: ModelWarning: Optimization did not converge. Forecasts may be unstable.\n",
      "  warnings.warn(message, warning_type)\n"
     ]
    },
    {
     "name": "stdout",
     "output_type": "stream",
     "text": [
      "83080 16 15300 1.0\n",
      "83090 16 17270 0.0\n",
      "83100 16 16735 0.0\n"
     ]
    },
    {
     "name": "stderr",
     "output_type": "stream",
     "text": [
      "/dados/anaconda3/lib/python3.7/site-packages/tbats/error/ExceptionHandler.py:13: ModelWarning: Optimization did not converge. Forecasts may be unstable.\n",
      "  warnings.warn(message, warning_type)\n"
     ]
    },
    {
     "name": "stdout",
     "output_type": "stream",
     "text": [
      "83110 16 13893 0.0\n",
      "83120 16 13633 0\n",
      "83130 16 14267 0.0\n",
      "83140 16 7592 0\n",
      "83150 16 8734 1.0\n",
      "83160 16 8986 0.0\n",
      "83170 16 8453 0\n",
      "83180 16 4141 0\n",
      "83190 16 6420 0\n"
     ]
    },
    {
     "name": "stderr",
     "output_type": "stream",
     "text": [
      "/dados/anaconda3/lib/python3.7/site-packages/tbats/error/ExceptionHandler.py:13: ModelWarning: Optimization did not converge. Forecasts may be unstable.\n",
      "  warnings.warn(message, warning_type)\n"
     ]
    },
    {
     "name": "stdout",
     "output_type": "stream",
     "text": [
      "83200 16 11266 2.0\n",
      "83210 16 13270 0\n"
     ]
    },
    {
     "name": "stderr",
     "output_type": "stream",
     "text": [
      "/dados/anaconda3/lib/python3.7/site-packages/tbats/error/ExceptionHandler.py:13: ModelWarning: Optimization did not converge. Forecasts may be unstable.\n",
      "  warnings.warn(message, warning_type)\n"
     ]
    },
    {
     "name": "stdout",
     "output_type": "stream",
     "text": [
      "83220 16 13100 0.0\n",
      "83230 16 10146 0.0\n",
      "83240 16 10425 0\n"
     ]
    },
    {
     "name": "stderr",
     "output_type": "stream",
     "text": [
      "/dados/anaconda3/lib/python3.7/site-packages/tbats/error/ExceptionHandler.py:13: ModelWarning: Optimization did not converge. Forecasts may be unstable.\n",
      "  warnings.warn(message, warning_type)\n",
      "/dados/anaconda3/lib/python3.7/site-packages/tbats/error/ExceptionHandler.py:13: ModelWarning: Optimization did not converge. Forecasts may be unstable.\n",
      "  warnings.warn(message, warning_type)\n"
     ]
    },
    {
     "name": "stdout",
     "output_type": "stream",
     "text": [
      "83250 16 11365 0\n",
      "83260 16 14848 0\n",
      "83270 16 21367 0.0\n"
     ]
    },
    {
     "name": "stderr",
     "output_type": "stream",
     "text": [
      "/dados/anaconda3/lib/python3.7/site-packages/tbats/error/ExceptionHandler.py:13: ModelWarning: Optimization did not converge. Forecasts may be unstable.\n",
      "  warnings.warn(message, warning_type)\n"
     ]
    },
    {
     "name": "stdout",
     "output_type": "stream",
     "text": [
      "83280 16 8077 0.0\n",
      "83290 16 12286 0.0\n",
      "83300 16 3028 2.0\n",
      "83310 16 3862 0.0\n",
      "83320 16 794 0\n",
      "83330 16 353 0\n",
      "83340 16 1074 0\n",
      "83350 16 13208 0\n",
      "83360 16 12501 0.0\n",
      "83370 16 10045 0\n"
     ]
    },
    {
     "name": "stderr",
     "output_type": "stream",
     "text": [
      "/dados/anaconda3/lib/python3.7/site-packages/tbats/error/ExceptionHandler.py:13: ModelWarning: Optimization did not converge. Forecasts may be unstable.\n",
      "  warnings.warn(message, warning_type)\n"
     ]
    },
    {
     "name": "stdout",
     "output_type": "stream",
     "text": [
      "83380 16 12090 0.0\n",
      "83390 16 11534 0\n"
     ]
    },
    {
     "name": "stderr",
     "output_type": "stream",
     "text": [
      "/dados/anaconda3/lib/python3.7/site-packages/tbats/error/ExceptionHandler.py:13: ModelWarning: Optimization did not converge. Forecasts may be unstable.\n",
      "  warnings.warn(message, warning_type)\n"
     ]
    },
    {
     "name": "stdout",
     "output_type": "stream",
     "text": [
      "83400 16 15512 0\n",
      "83410 16 15166 0\n"
     ]
    },
    {
     "name": "stderr",
     "output_type": "stream",
     "text": [
      "/dados/anaconda3/lib/python3.7/site-packages/tbats/error/ExceptionHandler.py:13: ModelWarning: Optimization did not converge. Forecasts may be unstable.\n",
      "  warnings.warn(message, warning_type)\n",
      "/dados/anaconda3/lib/python3.7/site-packages/tbats/error/ExceptionHandler.py:13: ModelWarning: Optimization did not converge. Forecasts may be unstable.\n",
      "  warnings.warn(message, warning_type)\n"
     ]
    },
    {
     "name": "stdout",
     "output_type": "stream",
     "text": [
      "83420 16 16534 0.0\n"
     ]
    },
    {
     "name": "stderr",
     "output_type": "stream",
     "text": [
      "/dados/anaconda3/lib/python3.7/site-packages/tbats/error/ExceptionHandler.py:13: ModelWarning: Optimization did not converge. Forecasts may be unstable.\n",
      "  warnings.warn(message, warning_type)\n"
     ]
    },
    {
     "name": "stdout",
     "output_type": "stream",
     "text": [
      "83430 16 16155 1.0\n"
     ]
    },
    {
     "name": "stderr",
     "output_type": "stream",
     "text": [
      "/dados/anaconda3/lib/python3.7/site-packages/tbats/error/ExceptionHandler.py:13: ModelWarning: Optimization did not converge. Forecasts may be unstable.\n",
      "  warnings.warn(message, warning_type)\n"
     ]
    },
    {
     "name": "stdout",
     "output_type": "stream",
     "text": [
      "83440 16 12830 0.0\n",
      "83450 16 14124 0\n",
      "83460 16 5945 0.0\n",
      "83470 16 6678 0\n",
      "83480 16 4944 3.0\n"
     ]
    },
    {
     "name": "stderr",
     "output_type": "stream",
     "text": [
      "/dados/anaconda3/lib/python3.7/site-packages/tbats/error/ExceptionHandler.py:13: ModelWarning: Optimization did not converge. Forecasts may be unstable.\n",
      "  warnings.warn(message, warning_type)\n"
     ]
    },
    {
     "name": "stdout",
     "output_type": "stream",
     "text": [
      "83490 16 5517 0\n",
      "83500 16 8398 0\n"
     ]
    },
    {
     "name": "stderr",
     "output_type": "stream",
     "text": [
      "/dados/anaconda3/lib/python3.7/site-packages/tbats/error/ExceptionHandler.py:13: ModelWarning: Optimization did not converge. Forecasts may be unstable.\n",
      "  warnings.warn(message, warning_type)\n"
     ]
    },
    {
     "name": "stdout",
     "output_type": "stream",
     "text": [
      "83510 16 7458 1.0\n",
      "83520 16 7882 0.0\n",
      "83530 16 7793 0.0\n",
      "83540 16 3477 0\n",
      "83550 16 8686 0.0\n",
      "83560 16 20560 0\n"
     ]
    },
    {
     "name": "stderr",
     "output_type": "stream",
     "text": [
      "/dados/anaconda3/lib/python3.7/site-packages/tbats/error/ExceptionHandler.py:13: ModelWarning: Optimization did not converge. Forecasts may be unstable.\n",
      "  warnings.warn(message, warning_type)\n"
     ]
    },
    {
     "name": "stdout",
     "output_type": "stream",
     "text": [
      "83570 16 19874 0\n",
      "83580 16 17869 1.0\n"
     ]
    },
    {
     "name": "stderr",
     "output_type": "stream",
     "text": [
      "/dados/anaconda3/lib/python3.7/site-packages/tbats/error/ExceptionHandler.py:13: ModelWarning: Optimization did not converge. Forecasts may be unstable.\n",
      "  warnings.warn(message, warning_type)\n"
     ]
    },
    {
     "name": "stdout",
     "output_type": "stream",
     "text": [
      "83590 16 21548 0\n",
      "83600 16 18255 0.0\n"
     ]
    },
    {
     "name": "stderr",
     "output_type": "stream",
     "text": [
      "/dados/anaconda3/lib/python3.7/site-packages/tbats/error/ExceptionHandler.py:13: ModelWarning: Optimization did not converge. Forecasts may be unstable.\n",
      "  warnings.warn(message, warning_type)\n",
      "/dados/anaconda3/lib/python3.7/site-packages/tbats/error/ExceptionHandler.py:13: ModelWarning: Optimization did not converge. Forecasts may be unstable.\n",
      "  warnings.warn(message, warning_type)\n"
     ]
    },
    {
     "name": "stdout",
     "output_type": "stream",
     "text": [
      "83610 16 2639 0.0\n",
      "83620 16 21827 0\n"
     ]
    },
    {
     "name": "stderr",
     "output_type": "stream",
     "text": [
      "/dados/anaconda3/lib/python3.7/site-packages/tbats/error/ExceptionHandler.py:13: ModelWarning: Optimization did not converge. Forecasts may be unstable.\n",
      "  warnings.warn(message, warning_type)\n"
     ]
    },
    {
     "name": "stdout",
     "output_type": "stream",
     "text": [
      "83630 16 1238 0\n",
      "83640 16 1247 1.0\n",
      "83650 16 269 0\n",
      "83660 16 687 0.0\n",
      "83670 16 93 0.0\n",
      "83680 16 20718 0\n",
      "83690 16 42 0.0\n",
      "83700 16 21842 0.0\n",
      "83710 16 2324 0\n"
     ]
    },
    {
     "name": "stderr",
     "output_type": "stream",
     "text": [
      "/dados/anaconda3/lib/python3.7/site-packages/tbats/error/ExceptionHandler.py:13: ModelWarning: Optimization did not converge. Forecasts may be unstable.\n",
      "  warnings.warn(message, warning_type)\n"
     ]
    },
    {
     "name": "stdout",
     "output_type": "stream",
     "text": [
      "83720 16 1663 0\n",
      "83730 16 3080 0\n",
      "83740 16 2886 0.0\n",
      "83750 16 13587 0\n",
      "83760 16 13691 0\n",
      "83770 16 15169 0\n"
     ]
    },
    {
     "name": "stderr",
     "output_type": "stream",
     "text": [
      "/dados/anaconda3/lib/python3.7/site-packages/tbats/error/ExceptionHandler.py:13: ModelWarning: Optimization did not converge. Forecasts may be unstable.\n",
      "  warnings.warn(message, warning_type)\n"
     ]
    },
    {
     "name": "stdout",
     "output_type": "stream",
     "text": [
      "83780 16 14973 0\n",
      "83790 16 13113 0\n",
      "83800 16 11711 0.0\n",
      "83810 16 13231 0\n",
      "83820 16 18677 0.0\n",
      "83830 16 18686 0.0\n",
      "83840 16 20374 1.0\n"
     ]
    },
    {
     "name": "stderr",
     "output_type": "stream",
     "text": [
      "/dados/anaconda3/lib/python3.7/site-packages/tbats/error/ExceptionHandler.py:13: ModelWarning: Optimization did not converge. Forecasts may be unstable.\n",
      "  warnings.warn(message, warning_type)\n"
     ]
    },
    {
     "name": "stdout",
     "output_type": "stream",
     "text": [
      "83850 16 20571 0\n",
      "83860 16 19621 0.0\n",
      "83870 16 16036 0\n",
      "83880 16 15276 0\n"
     ]
    },
    {
     "name": "stderr",
     "output_type": "stream",
     "text": [
      "/dados/anaconda3/lib/python3.7/site-packages/tbats/error/ExceptionHandler.py:13: ModelWarning: Optimization did not converge. Forecasts may be unstable.\n",
      "  warnings.warn(message, warning_type)\n"
     ]
    },
    {
     "name": "stdout",
     "output_type": "stream",
     "text": [
      "83890 16 16177 0.0\n"
     ]
    },
    {
     "name": "stderr",
     "output_type": "stream",
     "text": [
      "/dados/anaconda3/lib/python3.7/site-packages/tbats/error/ExceptionHandler.py:13: ModelWarning: Optimization did not converge. Forecasts may be unstable.\n",
      "  warnings.warn(message, warning_type)\n"
     ]
    },
    {
     "name": "stdout",
     "output_type": "stream",
     "text": [
      "83900 16 8687 0\n"
     ]
    },
    {
     "name": "stderr",
     "output_type": "stream",
     "text": [
      "/dados/anaconda3/lib/python3.7/site-packages/tbats/error/ExceptionHandler.py:13: ModelWarning: Optimization did not converge. Forecasts may be unstable.\n",
      "  warnings.warn(message, warning_type)\n"
     ]
    },
    {
     "name": "stdout",
     "output_type": "stream",
     "text": [
      "83910 16 9171 0.0\n"
     ]
    },
    {
     "name": "stderr",
     "output_type": "stream",
     "text": [
      "/dados/anaconda3/lib/python3.7/site-packages/tbats/error/ExceptionHandler.py:13: ModelWarning: Optimization did not converge. Forecasts may be unstable.\n",
      "  warnings.warn(message, warning_type)\n"
     ]
    },
    {
     "name": "stdout",
     "output_type": "stream",
     "text": [
      "83920 16 9366 0.0\n",
      "83930 16 7459 0.0\n",
      "83940 16 8148 0\n",
      "83950 16 8510 1.0\n"
     ]
    },
    {
     "name": "stderr",
     "output_type": "stream",
     "text": [
      "/dados/anaconda3/lib/python3.7/site-packages/tbats/error/ExceptionHandler.py:13: ModelWarning: Optimization did not converge. Forecasts may be unstable.\n",
      "  warnings.warn(message, warning_type)\n"
     ]
    },
    {
     "name": "stdout",
     "output_type": "stream",
     "text": [
      "83960 16 9449 0\n"
     ]
    },
    {
     "name": "stderr",
     "output_type": "stream",
     "text": [
      "/dados/anaconda3/lib/python3.7/site-packages/tbats/error/ExceptionHandler.py:13: ModelWarning: Optimization did not converge. Forecasts may be unstable.\n",
      "  warnings.warn(message, warning_type)\n",
      "/dados/anaconda3/lib/python3.7/site-packages/tbats/error/ExceptionHandler.py:13: ModelWarning: Optimization did not converge. Forecasts may be unstable.\n",
      "  warnings.warn(message, warning_type)\n"
     ]
    },
    {
     "name": "stdout",
     "output_type": "stream",
     "text": [
      "83970 16 10786 0.0\n"
     ]
    },
    {
     "name": "stderr",
     "output_type": "stream",
     "text": [
      "/dados/anaconda3/lib/python3.7/site-packages/tbats/error/ExceptionHandler.py:13: ModelWarning: Optimization did not converge. Forecasts may be unstable.\n",
      "  warnings.warn(message, warning_type)\n"
     ]
    },
    {
     "name": "stdout",
     "output_type": "stream",
     "text": [
      "83980 16 10669 0.0\n",
      "83990 16 11379 0\n",
      "84000 16 11542 0\n",
      "84010 16 10893 0\n",
      "84020 16 9539 0.0\n",
      "84030 16 10325 1.0\n"
     ]
    },
    {
     "name": "stderr",
     "output_type": "stream",
     "text": [
      "/dados/anaconda3/lib/python3.7/site-packages/tbats/error/ExceptionHandler.py:13: ModelWarning: Optimization did not converge. Forecasts may be unstable.\n",
      "  warnings.warn(message, warning_type)\n"
     ]
    },
    {
     "name": "stdout",
     "output_type": "stream",
     "text": [
      "84040 16 9840 0\n",
      "84050 16 10003 0\n",
      "84060 16 4708 2.0\n",
      "84070 16 4604 0.0\n",
      "84080 16 5323 0.0\n",
      "84090 16 3897 0.0\n",
      "84100 16 3919 0\n",
      "84110 16 3787 2.0\n"
     ]
    },
    {
     "name": "stderr",
     "output_type": "stream",
     "text": [
      "/dados/anaconda3/lib/python3.7/site-packages/tbats/error/ExceptionHandler.py:13: ModelWarning: Optimization did not converge. Forecasts may be unstable.\n",
      "  warnings.warn(message, warning_type)\n"
     ]
    },
    {
     "name": "stdout",
     "output_type": "stream",
     "text": [
      "84120 16 4088 0\n",
      "84130 16 6695 0\n",
      "84140 16 6378 0.0\n",
      "84150 16 6857 0.0\n",
      "84160 16 5659 0.0\n",
      "84170 16 3354 0\n",
      "84180 16 1538 4.0\n",
      "84190 16 22111 0.0\n"
     ]
    },
    {
     "name": "stderr",
     "output_type": "stream",
     "text": [
      "/dados/anaconda3/lib/python3.7/site-packages/tbats/error/ExceptionHandler.py:13: ModelWarning: Optimization did not converge. Forecasts may be unstable.\n",
      "  warnings.warn(message, warning_type)\n"
     ]
    },
    {
     "name": "stdout",
     "output_type": "stream",
     "text": [
      "84200 16 9019 0.0\n",
      "84210 16 11968 1.0\n",
      "84220 16 6027 1.0\n",
      "84230 16 18361 0.0\n",
      "84240 16 18629 0\n",
      "84250 16 17883 0.0\n"
     ]
    },
    {
     "name": "stderr",
     "output_type": "stream",
     "text": [
      "/dados/anaconda3/lib/python3.7/site-packages/tbats/error/ExceptionHandler.py:13: ModelWarning: Optimization did not converge. Forecasts may be unstable.\n",
      "  warnings.warn(message, warning_type)\n"
     ]
    },
    {
     "name": "stdout",
     "output_type": "stream",
     "text": [
      "84260 16 18108 6.0\n"
     ]
    },
    {
     "name": "stderr",
     "output_type": "stream",
     "text": [
      "/dados/anaconda3/lib/python3.7/site-packages/tbats/error/ExceptionHandler.py:13: ModelWarning: Optimization did not converge. Forecasts may be unstable.\n",
      "  warnings.warn(message, warning_type)\n"
     ]
    },
    {
     "name": "stdout",
     "output_type": "stream",
     "text": [
      "84270 16 19126 0.0\n",
      "84280 16 19488 0\n",
      "84290 16 18759 0\n",
      "84300 16 18979 0\n"
     ]
    },
    {
     "name": "stderr",
     "output_type": "stream",
     "text": [
      "/dados/anaconda3/lib/python3.7/site-packages/tbats/error/ExceptionHandler.py:13: ModelWarning: Optimization did not converge. Forecasts may be unstable.\n",
      "  warnings.warn(message, warning_type)\n"
     ]
    },
    {
     "name": "stdout",
     "output_type": "stream",
     "text": [
      "84310 16 3236 0.0\n",
      "84320 16 19588 0.0\n",
      "84330 16 20952 0\n",
      "84340 16 21207 0\n",
      "84350 16 20833 0\n",
      "84360 16 20274 0.0\n",
      "84370 16 21795 0\n",
      "84380 16 21792 0\n"
     ]
    },
    {
     "name": "stderr",
     "output_type": "stream",
     "text": [
      "/dados/anaconda3/lib/python3.7/site-packages/tbats/error/ExceptionHandler.py:13: ModelWarning: Optimization did not converge. Forecasts may be unstable.\n",
      "  warnings.warn(message, warning_type)\n"
     ]
    },
    {
     "name": "stdout",
     "output_type": "stream",
     "text": [
      "84390 16 19951 0\n",
      "84400 16 19852 0\n",
      "84410 16 20600 0\n",
      "84420 16 20581 0\n"
     ]
    },
    {
     "name": "stderr",
     "output_type": "stream",
     "text": [
      "/dados/anaconda3/lib/python3.7/site-packages/tbats/error/ExceptionHandler.py:13: ModelWarning: Optimization did not converge. Forecasts may be unstable.\n",
      "  warnings.warn(message, warning_type)\n"
     ]
    },
    {
     "name": "stdout",
     "output_type": "stream",
     "text": [
      "84430 16 6312 0.0\n"
     ]
    },
    {
     "name": "stderr",
     "output_type": "stream",
     "text": [
      "/dados/anaconda3/lib/python3.7/site-packages/tbats/error/ExceptionHandler.py:13: ModelWarning: Optimization did not converge. Forecasts may be unstable.\n",
      "  warnings.warn(message, warning_type)\n"
     ]
    },
    {
     "name": "stdout",
     "output_type": "stream",
     "text": [
      "84440 16 3634 0\n",
      "84450 16 4707 0\n"
     ]
    },
    {
     "name": "stderr",
     "output_type": "stream",
     "text": [
      "/dados/anaconda3/lib/python3.7/site-packages/tbats/error/ExceptionHandler.py:13: ModelWarning: Optimization did not converge. Forecasts may be unstable.\n",
      "  warnings.warn(message, warning_type)\n"
     ]
    },
    {
     "name": "stdout",
     "output_type": "stream",
     "text": [
      "84460 16 8888 0.0\n",
      "84470 16 10099 4.0\n",
      "84480 16 6807 0\n",
      "84490 16 8112 0\n",
      "84500 16 19118 4.0\n",
      "84510 16 21790 0\n",
      "84520 16 13630 0\n"
     ]
    },
    {
     "name": "stderr",
     "output_type": "stream",
     "text": [
      "/dados/anaconda3/lib/python3.7/site-packages/tbats/error/ExceptionHandler.py:13: ModelWarning: Optimization did not converge. Forecasts may be unstable.\n",
      "  warnings.warn(message, warning_type)\n"
     ]
    },
    {
     "name": "stdout",
     "output_type": "stream",
     "text": [
      "84530 16 15478 0.0\n"
     ]
    },
    {
     "name": "stderr",
     "output_type": "stream",
     "text": [
      "/dados/anaconda3/lib/python3.7/site-packages/tbats/error/ExceptionHandler.py:13: ModelWarning: Optimization did not converge. Forecasts may be unstable.\n",
      "  warnings.warn(message, warning_type)\n"
     ]
    },
    {
     "name": "stdout",
     "output_type": "stream",
     "text": [
      "84540 16 15226 0.0\n"
     ]
    },
    {
     "name": "stderr",
     "output_type": "stream",
     "text": [
      "/dados/anaconda3/lib/python3.7/site-packages/tbats/error/ExceptionHandler.py:13: ModelWarning: Optimization did not converge. Forecasts may be unstable.\n",
      "  warnings.warn(message, warning_type)\n"
     ]
    },
    {
     "name": "stdout",
     "output_type": "stream",
     "text": [
      "84550 16 2585 0\n",
      "84560 16 2213 0\n",
      "84570 16 1611 0.0\n",
      "84580 16 12504 0.0\n"
     ]
    },
    {
     "name": "stderr",
     "output_type": "stream",
     "text": [
      "/dados/anaconda3/lib/python3.7/site-packages/tbats/error/ExceptionHandler.py:13: ModelWarning: Optimization did not converge. Forecasts may be unstable.\n",
      "  warnings.warn(message, warning_type)\n"
     ]
    },
    {
     "name": "stdout",
     "output_type": "stream",
     "text": [
      "84590 16 13445 0\n",
      "84600 16 11915 0.0\n",
      "84610 16 20739 0\n",
      "84620 16 21196 0\n",
      "84630 16 14108 0\n",
      "84640 16 3457 0\n",
      "84650 16 3096 0\n",
      "84660 16 15260 1.0\n",
      "84670 16 17157 0.0\n"
     ]
    },
    {
     "name": "stderr",
     "output_type": "stream",
     "text": [
      "/dados/anaconda3/lib/python3.7/site-packages/tbats/error/ExceptionHandler.py:13: ModelWarning: Optimization did not converge. Forecasts may be unstable.\n",
      "  warnings.warn(message, warning_type)\n"
     ]
    },
    {
     "name": "stdout",
     "output_type": "stream",
     "text": [
      "84680 16 413 0.0\n",
      "84690 16 1010 0.0\n",
      "84700 16 4364 2.0\n",
      "84710 16 6528 0\n",
      "84720 16 5470 0.0\n",
      "84730 16 19337 0.0\n",
      "84740 16 18017 0\n",
      "84750 16 14892 0.0\n"
     ]
    },
    {
     "name": "stderr",
     "output_type": "stream",
     "text": [
      "/dados/anaconda3/lib/python3.7/site-packages/tbats/error/ExceptionHandler.py:13: ModelWarning: Optimization did not converge. Forecasts may be unstable.\n",
      "  warnings.warn(message, warning_type)\n"
     ]
    },
    {
     "name": "stdout",
     "output_type": "stream",
     "text": [
      "84760 16 20393 0.0\n",
      "84770 16 15171 0\n",
      "84780 16 16093 0\n",
      "84790 16 16111 0\n",
      "84800 16 14962 0\n",
      "84810 16 16207 1.0\n",
      "84820 16 16786 0.0\n",
      "84830 16 8157 0.0\n",
      "84840 16 13448 0\n",
      "84850 16 13224 0\n",
      "84860 16 13512 1.0\n",
      "84870 16 13288 0\n",
      "84880 16 14164 0.0\n",
      "84890 16 12808 0.0\n",
      "84900 16 13647 0\n",
      "84910 16 12332 0\n",
      "84920 16 12091 0.0\n",
      "84930 16 11268 0.0\n",
      "84940 16 13223 0\n",
      "84950 16 13221 0\n",
      "84960 16 16179 0.0\n"
     ]
    },
    {
     "name": "stderr",
     "output_type": "stream",
     "text": [
      "/dados/anaconda3/lib/python3.7/site-packages/tbats/error/ExceptionHandler.py:13: ModelWarning: Optimization did not converge. Forecasts may be unstable.\n",
      "  warnings.warn(message, warning_type)\n"
     ]
    },
    {
     "name": "stdout",
     "output_type": "stream",
     "text": [
      "84970 16 15524 0\n",
      "84980 16 16045 0\n",
      "84990 16 16910 0\n",
      "85000 16 15667 0\n"
     ]
    },
    {
     "name": "stderr",
     "output_type": "stream",
     "text": [
      "/dados/anaconda3/lib/python3.7/site-packages/tbats/error/ExceptionHandler.py:13: ModelWarning: Optimization did not converge. Forecasts may be unstable.\n",
      "  warnings.warn(message, warning_type)\n"
     ]
    },
    {
     "name": "stdout",
     "output_type": "stream",
     "text": [
      "85010 16 16243 0\n",
      "85020 16 16349 0\n",
      "85030 16 15015 0.0\n"
     ]
    },
    {
     "name": "stderr",
     "output_type": "stream",
     "text": [
      "/dados/anaconda3/lib/python3.7/site-packages/tbats/error/ExceptionHandler.py:13: ModelWarning: Optimization did not converge. Forecasts may be unstable.\n",
      "  warnings.warn(message, warning_type)\n"
     ]
    },
    {
     "name": "stdout",
     "output_type": "stream",
     "text": [
      "85040 16 15134 0.0\n",
      "85050 16 14987 0\n",
      "85060 16 15318 0.0\n"
     ]
    },
    {
     "name": "stderr",
     "output_type": "stream",
     "text": [
      "/dados/anaconda3/lib/python3.7/site-packages/tbats/error/ExceptionHandler.py:13: ModelWarning: Optimization did not converge. Forecasts may be unstable.\n",
      "  warnings.warn(message, warning_type)\n"
     ]
    },
    {
     "name": "stdout",
     "output_type": "stream",
     "text": [
      "85070 16 15168 0\n"
     ]
    },
    {
     "name": "stderr",
     "output_type": "stream",
     "text": [
      "/dados/anaconda3/lib/python3.7/site-packages/tbats/error/ExceptionHandler.py:13: ModelWarning: Optimization did not converge. Forecasts may be unstable.\n",
      "  warnings.warn(message, warning_type)\n"
     ]
    },
    {
     "name": "stdout",
     "output_type": "stream",
     "text": [
      "85080 16 15220 0\n",
      "85090 16 6870 0\n",
      "85100 16 4480 1.0\n",
      "85110 16 5063 0\n",
      "85120 16 5155 0\n",
      "85130 16 5187 0\n",
      "85140 16 5121 0\n",
      "85150 16 10069 0\n",
      "85160 16 10287 0.0\n",
      "85170 16 10180 0.0\n",
      "85180 16 10772 0.0\n",
      "85190 16 11363 0\n",
      "85200 16 11044 0.0\n",
      "85210 16 8459 0.0\n",
      "85220 16 8363 0.0\n",
      "85230 16 7580 0\n",
      "85240 16 8968 0\n",
      "85250 16 9338 0\n",
      "85260 16 8428 0\n",
      "85270 16 14361 0\n",
      "85280 16 547 0\n"
     ]
    },
    {
     "name": "stderr",
     "output_type": "stream",
     "text": [
      "/dados/anaconda3/lib/python3.7/site-packages/tbats/error/ExceptionHandler.py:13: ModelWarning: Optimization did not converge. Forecasts may be unstable.\n",
      "  warnings.warn(message, warning_type)\n"
     ]
    },
    {
     "name": "stdout",
     "output_type": "stream",
     "text": [
      "85290 16 12743 0.0\n",
      "85300 16 20517 0.0\n",
      "85310 16 7924 0.0\n",
      "85320 16 3239 0.0\n"
     ]
    },
    {
     "name": "stderr",
     "output_type": "stream",
     "text": [
      "/dados/anaconda3/lib/python3.7/site-packages/tbats/error/ExceptionHandler.py:13: ModelWarning: Optimization did not converge. Forecasts may be unstable.\n",
      "  warnings.warn(message, warning_type)\n"
     ]
    },
    {
     "name": "stdout",
     "output_type": "stream",
     "text": [
      "85330 16 15458 0.0\n",
      "85340 16 18025 0\n"
     ]
    },
    {
     "name": "stderr",
     "output_type": "stream",
     "text": [
      "/dados/anaconda3/lib/python3.7/site-packages/tbats/error/ExceptionHandler.py:13: ModelWarning: Optimization did not converge. Forecasts may be unstable.\n",
      "  warnings.warn(message, warning_type)\n"
     ]
    },
    {
     "name": "stdout",
     "output_type": "stream",
     "text": [
      "85350 16 15031 0.0\n",
      "85360 16 14984 0\n",
      "85370 16 1254 0\n",
      "85380 16 18968 0\n",
      "85390 16 21139 0\n"
     ]
    },
    {
     "name": "stderr",
     "output_type": "stream",
     "text": [
      "/dados/anaconda3/lib/python3.7/site-packages/tbats/error/ExceptionHandler.py:13: ModelWarning: Optimization did not converge. Forecasts may be unstable.\n",
      "  warnings.warn(message, warning_type)\n"
     ]
    },
    {
     "name": "stdout",
     "output_type": "stream",
     "text": [
      "85400 16 3273 0\n",
      "85410 16 13407 0\n",
      "85420 16 21692 0\n"
     ]
    },
    {
     "name": "stderr",
     "output_type": "stream",
     "text": [
      "/dados/anaconda3/lib/python3.7/site-packages/tbats/error/ExceptionHandler.py:13: ModelWarning: Optimization did not converge. Forecasts may be unstable.\n",
      "  warnings.warn(message, warning_type)\n"
     ]
    },
    {
     "name": "stdout",
     "output_type": "stream",
     "text": [
      "85430 16 19127 0\n",
      "85440 16 16953 0.0\n",
      "85450 16 21400 0.0\n",
      "85460 16 20334 0\n",
      "85470 16 13693 0\n",
      "85480 16 12474 0\n",
      "85490 16 8468 0\n",
      "85500 16 11302 0\n",
      "85510 16 448 0\n",
      "85520 16 5272 1.0\n",
      "85530 16 6028 0.0\n",
      "85540 16 8855 0\n",
      "85550 16 2540 0\n",
      "85560 16 18315 0\n",
      "85570 16 2191 0\n",
      "85580 16 3333 0.0\n",
      "85590 16 20879 0\n",
      "85600 16 14760 0\n",
      "85610 16 4637 0.0\n",
      "85620 16 13494 1.0\n",
      "85630 16 16032 0.0\n",
      "85640 16 2523 1.0\n"
     ]
    },
    {
     "name": "stderr",
     "output_type": "stream",
     "text": [
      "/dados/anaconda3/lib/python3.7/site-packages/tbats/error/ExceptionHandler.py:13: ModelWarning: Optimization did not converge. Forecasts may be unstable.\n",
      "  warnings.warn(message, warning_type)\n"
     ]
    },
    {
     "name": "stdout",
     "output_type": "stream",
     "text": [
      "85650 16 5540 0\n",
      "85660 16 1453 0.0\n",
      "85670 16 11011 0.0\n",
      "85680 16 3548 1.0\n"
     ]
    },
    {
     "name": "stderr",
     "output_type": "stream",
     "text": [
      "/dados/anaconda3/lib/python3.7/site-packages/tbats/error/ExceptionHandler.py:13: ModelWarning: Optimization did not converge. Forecasts may be unstable.\n",
      "  warnings.warn(message, warning_type)\n"
     ]
    },
    {
     "name": "stdout",
     "output_type": "stream",
     "text": [
      "85690 16 6307 2.0\n",
      "85700 16 20196 0\n",
      "85710 16 19751 0.0\n",
      "85720 16 18457 0\n",
      "85730 16 18208 0\n",
      "85740 16 22013 1.0\n",
      "85750 16 20653 0.0\n",
      "85760 16 21053 0\n",
      "85770 16 11516 0\n"
     ]
    },
    {
     "name": "stderr",
     "output_type": "stream",
     "text": [
      "/dados/anaconda3/lib/python3.7/site-packages/tbats/error/ExceptionHandler.py:13: ModelWarning: Optimization did not converge. Forecasts may be unstable.\n",
      "  warnings.warn(message, warning_type)\n",
      "/dados/anaconda3/lib/python3.7/site-packages/tbats/error/ExceptionHandler.py:13: ModelWarning: Optimization did not converge. Forecasts may be unstable.\n",
      "  warnings.warn(message, warning_type)\n"
     ]
    },
    {
     "name": "stdout",
     "output_type": "stream",
     "text": [
      "85780 16 18481 0.0\n"
     ]
    },
    {
     "name": "stderr",
     "output_type": "stream",
     "text": [
      "/dados/anaconda3/lib/python3.7/site-packages/tbats/error/ExceptionHandler.py:13: ModelWarning: Optimization did not converge. Forecasts may be unstable.\n",
      "  warnings.warn(message, warning_type)\n"
     ]
    },
    {
     "name": "stdout",
     "output_type": "stream",
     "text": [
      "85790 16 15222 0\n",
      "85800 16 13327 0\n",
      "85810 16 18031 1.0\n"
     ]
    },
    {
     "name": "stderr",
     "output_type": "stream",
     "text": [
      "/dados/anaconda3/lib/python3.7/site-packages/tbats/error/ExceptionHandler.py:13: ModelWarning: Optimization did not converge. Forecasts may be unstable.\n",
      "  warnings.warn(message, warning_type)\n",
      "/dados/anaconda3/lib/python3.7/site-packages/tbats/error/ExceptionHandler.py:13: ModelWarning: Optimization did not converge. Forecasts may be unstable.\n",
      "  warnings.warn(message, warning_type)\n"
     ]
    },
    {
     "name": "stdout",
     "output_type": "stream",
     "text": [
      "85820 16 20821 0\n",
      "85830 16 18939 0\n",
      "85840 16 12208 0.0\n",
      "85850 16 15654 0\n",
      "85860 16 16028 0.0\n",
      "85870 16 20516 0.0\n",
      "85880 16 6400 0.0\n",
      "85890 16 16166 0\n",
      "85900 16 9534 0\n",
      "85910 16 10581 0\n",
      "85920 16 9111 0\n",
      "85930 16 13099 0\n",
      "85940 16 11874 0\n",
      "85950 16 12192 0\n",
      "85960 16 6430 0\n",
      "85970 16 5761 0\n",
      "85980 16 4903 0\n",
      "85990 16 5382 0\n",
      "86000 16 7817 0\n",
      "86010 16 6959 0\n",
      "86020 16 7057 0\n",
      "86030 16 21978 0\n",
      "86040 16 19347 0\n",
      "86050 16 20012 0\n",
      "86060 16 13732 0\n",
      "86070 16 14934 0\n",
      "86080 16 13341 0\n",
      "86090 16 16396 0\n",
      "86100 16 16813 0\n",
      "86110 16 15988 0\n",
      "86120 16 16272 0\n",
      "86130 16 504 0\n",
      "86140 16 688 0\n",
      "86150 16 616 0\n",
      "86160 16 204 0\n",
      "86170 16 1394 0\n",
      "86180 16 924 0\n",
      "86190 16 1506 0\n",
      "86200 16 849 0\n",
      "86210 16 20361 0.0\n",
      "86220 16 3715 0\n",
      "86230 16 3411 0\n",
      "86240 16 4765 0\n",
      "86250 16 4260 0\n",
      "86260 16 4144 0\n",
      "86270 16 4203 0\n",
      "86280 16 1794 0\n",
      "86290 16 2338 0\n",
      "86300 16 1792 0\n",
      "86310 16 2856 0\n",
      "86320 16 2434 0\n",
      "86330 16 3136 0\n",
      "86340 16 1018 0.0\n",
      "86350 16 19258 0.0\n",
      "86360 16 4736 0.0\n"
     ]
    },
    {
     "name": "stderr",
     "output_type": "stream",
     "text": [
      "/dados/anaconda3/lib/python3.7/site-packages/tbats/error/ExceptionHandler.py:13: ModelWarning: Optimization did not converge. Forecasts may be unstable.\n",
      "  warnings.warn(message, warning_type)\n"
     ]
    },
    {
     "name": "stdout",
     "output_type": "stream",
     "text": [
      "86370 16 5363 0.0\n",
      "86380 16 17390 0\n",
      "86390 16 11682 0\n",
      "86400 16 15735 0.0\n",
      "86410 16 14899 0\n",
      "86420 16 20212 0.0\n"
     ]
    },
    {
     "name": "stderr",
     "output_type": "stream",
     "text": [
      "/dados/anaconda3/lib/python3.7/site-packages/tbats/error/ExceptionHandler.py:13: ModelWarning: Optimization did not converge. Forecasts may be unstable.\n",
      "  warnings.warn(message, warning_type)\n"
     ]
    },
    {
     "name": "stdout",
     "output_type": "stream",
     "text": [
      "86430 16 5899 0.0\n",
      "86440 16 18476 0.0\n",
      "86450 16 6835 0.0\n",
      "86460 16 15405 0\n",
      "86470 16 17756 0.0\n",
      "86480 16 18500 0\n",
      "86490 16 16231 0\n",
      "86500 16 17015 0\n",
      "86510 16 13133 0\n",
      "86520 16 14222 0.0\n",
      "86530 16 13812 0.0\n",
      "86540 16 5010 0.0\n",
      "86550 16 21210 0\n",
      "86560 16 20916 0\n",
      "86570 16 21664 0\n",
      "86580 16 3232 0\n",
      "86590 16 3547 1.0\n",
      "86600 16 18707 0\n",
      "86610 16 11674 0\n",
      "86620 16 16057 1.0\n",
      "86630 16 15033 0\n",
      "86640 16 10508 0.0\n",
      "86650 16 7572 0\n",
      "86660 16 6882 0.0\n",
      "86670 16 14543 0.0\n",
      "86680 16 19889 0.0\n",
      "86690 16 3280 0.0\n",
      "86700 18 5037 0.0\n"
     ]
    },
    {
     "name": "stderr",
     "output_type": "stream",
     "text": [
      "/dados/anaconda3/lib/python3.7/site-packages/tbats/error/ExceptionHandler.py:13: ModelWarning: Optimization did not converge. Forecasts may be unstable.\n",
      "  warnings.warn(message, warning_type)\n"
     ]
    },
    {
     "name": "stdout",
     "output_type": "stream",
     "text": [
      "86710 18 4806 4.0\n",
      "86720 18 4717 3.0\n",
      "86730 18 5666 0.0\n",
      "86740 18 5840 0\n",
      "86750 18 5838 0.0\n"
     ]
    },
    {
     "name": "stderr",
     "output_type": "stream",
     "text": [
      "/dados/anaconda3/lib/python3.7/site-packages/tbats/error/ExceptionHandler.py:13: ModelWarning: Optimization did not converge. Forecasts may be unstable.\n",
      "  warnings.warn(message, warning_type)\n",
      "/dados/anaconda3/lib/python3.7/site-packages/tbats/error/ExceptionHandler.py:13: ModelWarning: Optimization did not converge. Forecasts may be unstable.\n",
      "  warnings.warn(message, warning_type)\n"
     ]
    },
    {
     "name": "stdout",
     "output_type": "stream",
     "text": [
      "86760 18 3352 0\n"
     ]
    },
    {
     "name": "stderr",
     "output_type": "stream",
     "text": [
      "/dados/anaconda3/lib/python3.7/site-packages/tbats/error/ExceptionHandler.py:13: ModelWarning: Optimization did not converge. Forecasts may be unstable.\n",
      "  warnings.warn(message, warning_type)\n"
     ]
    },
    {
     "name": "stdout",
     "output_type": "stream",
     "text": [
      "86770 18 3604 0\n",
      "86780 18 3443 0.0\n"
     ]
    },
    {
     "name": "stderr",
     "output_type": "stream",
     "text": [
      "/dados/anaconda3/lib/python3.7/site-packages/tbats/error/ExceptionHandler.py:13: ModelWarning: Optimization did not converge. Forecasts may be unstable.\n",
      "  warnings.warn(message, warning_type)\n"
     ]
    },
    {
     "name": "stdout",
     "output_type": "stream",
     "text": [
      "86790 18 4365 0.0\n"
     ]
    },
    {
     "name": "stderr",
     "output_type": "stream",
     "text": [
      "/dados/anaconda3/lib/python3.7/site-packages/tbats/error/ExceptionHandler.py:13: ModelWarning: Optimization did not converge. Forecasts may be unstable.\n",
      "  warnings.warn(message, warning_type)\n",
      "/dados/anaconda3/lib/python3.7/site-packages/tbats/error/ExceptionHandler.py:13: ModelWarning: Optimization did not converge. Forecasts may be unstable.\n",
      "  warnings.warn(message, warning_type)\n"
     ]
    },
    {
     "name": "stdout",
     "output_type": "stream",
     "text": [
      "86800 18 3733 1.0\n",
      "86810 18 4052 1.0\n",
      "86820 18 9395 0.0\n"
     ]
    },
    {
     "name": "stderr",
     "output_type": "stream",
     "text": [
      "/dados/anaconda3/lib/python3.7/site-packages/tbats/error/ExceptionHandler.py:13: ModelWarning: Optimization did not converge. Forecasts may be unstable.\n",
      "  warnings.warn(message, warning_type)\n"
     ]
    },
    {
     "name": "stdout",
     "output_type": "stream",
     "text": [
      "86830 18 9469 0\n",
      "86840 18 8653 0.0\n",
      "86850 18 9001 0.0\n",
      "86860 18 10447 0\n",
      "86870 18 10327 0\n"
     ]
    },
    {
     "name": "stderr",
     "output_type": "stream",
     "text": [
      "/dados/anaconda3/lib/python3.7/site-packages/tbats/error/ExceptionHandler.py:13: ModelWarning: Optimization did not converge. Forecasts may be unstable.\n",
      "  warnings.warn(message, warning_type)\n",
      "/dados/anaconda3/lib/python3.7/site-packages/tbats/error/ExceptionHandler.py:13: ModelWarning: Optimization did not converge. Forecasts may be unstable.\n",
      "  warnings.warn(message, warning_type)\n"
     ]
    },
    {
     "name": "stdout",
     "output_type": "stream",
     "text": [
      "86880 18 9927 0\n",
      "86890 18 6506 0\n",
      "86900 18 6731 0\n",
      "86910 18 6396 0.0\n",
      "86920 18 6064 8.0\n",
      "86930 18 7862 0\n"
     ]
    },
    {
     "name": "stderr",
     "output_type": "stream",
     "text": [
      "/dados/anaconda3/lib/python3.7/site-packages/tbats/error/ExceptionHandler.py:13: ModelWarning: Optimization did not converge. Forecasts may be unstable.\n",
      "  warnings.warn(message, warning_type)\n",
      "/dados/anaconda3/lib/python3.7/site-packages/tbats/error/ExceptionHandler.py:13: ModelWarning: Optimization did not converge. Forecasts may be unstable.\n",
      "  warnings.warn(message, warning_type)\n"
     ]
    },
    {
     "name": "stdout",
     "output_type": "stream",
     "text": [
      "86940 18 7328 1.0\n",
      "86950 18 7029 0\n"
     ]
    },
    {
     "name": "stderr",
     "output_type": "stream",
     "text": [
      "/dados/anaconda3/lib/python3.7/site-packages/tbats/error/ExceptionHandler.py:13: ModelWarning: Optimization did not converge. Forecasts may be unstable.\n",
      "  warnings.warn(message, warning_type)\n"
     ]
    },
    {
     "name": "stdout",
     "output_type": "stream",
     "text": [
      "86960 18 15777 0.0\n",
      "86970 18 16843 2.0\n",
      "86980 18 15496 0\n",
      "86990 18 16103 0\n",
      "87000 18 18825 0.0\n",
      "87010 18 19656 0\n",
      "87020 18 18397 0\n"
     ]
    },
    {
     "name": "stderr",
     "output_type": "stream",
     "text": [
      "/dados/anaconda3/lib/python3.7/site-packages/tbats/error/ExceptionHandler.py:13: ModelWarning: Optimization did not converge. Forecasts may be unstable.\n",
      "  warnings.warn(message, warning_type)\n"
     ]
    },
    {
     "name": "stdout",
     "output_type": "stream",
     "text": [
      "87030 18 15338 0\n",
      "87040 18 13023 0.0\n",
      "87050 18 13415 0\n",
      "87060 18 13464 0\n",
      "87070 18 14832 0\n",
      "87080 18 15069 0\n",
      "87090 18 15037 0\n"
     ]
    },
    {
     "name": "stderr",
     "output_type": "stream",
     "text": [
      "/dados/anaconda3/lib/python3.7/site-packages/tbats/error/ExceptionHandler.py:13: ModelWarning: Optimization did not converge. Forecasts may be unstable.\n",
      "  warnings.warn(message, warning_type)\n"
     ]
    },
    {
     "name": "stdout",
     "output_type": "stream",
     "text": [
      "87100 18 2131 0\n"
     ]
    },
    {
     "name": "stderr",
     "output_type": "stream",
     "text": [
      "/dados/anaconda3/lib/python3.7/site-packages/tbats/error/ExceptionHandler.py:13: ModelWarning: Optimization did not converge. Forecasts may be unstable.\n",
      "  warnings.warn(message, warning_type)\n",
      "/dados/anaconda3/lib/python3.7/site-packages/tbats/error/ExceptionHandler.py:13: ModelWarning: Optimization did not converge. Forecasts may be unstable.\n",
      "  warnings.warn(message, warning_type)\n"
     ]
    },
    {
     "name": "stdout",
     "output_type": "stream",
     "text": [
      "87110 18 1732 0\n"
     ]
    },
    {
     "name": "stderr",
     "output_type": "stream",
     "text": [
      "/dados/anaconda3/lib/python3.7/site-packages/tbats/error/ExceptionHandler.py:13: ModelWarning: Optimization did not converge. Forecasts may be unstable.\n",
      "  warnings.warn(message, warning_type)\n"
     ]
    },
    {
     "name": "stdout",
     "output_type": "stream",
     "text": [
      "87120 18 2574 1.0\n",
      "87130 18 3076 2.0\n",
      "87140 18 2779 0.0\n",
      "87150 18 2873 3.0\n",
      "87160 18 20949 20.0\n",
      "87170 18 21937 0\n",
      "87180 18 20400 0\n",
      "87190 18 20616 0\n",
      "87200 18 1585 0\n",
      "87210 18 982 1.0\n",
      "87220 18 1486 1.0\n",
      "87230 18 2328 0\n",
      "87240 18 2293 0.0\n"
     ]
    },
    {
     "name": "stderr",
     "output_type": "stream",
     "text": [
      "/dados/anaconda3/lib/python3.7/site-packages/tbats/error/ExceptionHandler.py:13: ModelWarning: Optimization did not converge. Forecasts may be unstable.\n",
      "  warnings.warn(message, warning_type)\n",
      "/dados/anaconda3/lib/python3.7/site-packages/tbats/error/ExceptionHandler.py:13: ModelWarning: Optimization did not converge. Forecasts may be unstable.\n",
      "  warnings.warn(message, warning_type)\n"
     ]
    },
    {
     "name": "stdout",
     "output_type": "stream",
     "text": [
      "87250 18 3022 0\n",
      "87260 18 2743 0.0\n",
      "87270 18 1963 0\n",
      "87280 18 1295 0.0\n"
     ]
    },
    {
     "name": "stderr",
     "output_type": "stream",
     "text": [
      "/dados/anaconda3/lib/python3.7/site-packages/tbats/error/ExceptionHandler.py:13: ModelWarning: Optimization did not converge. Forecasts may be unstable.\n",
      "  warnings.warn(message, warning_type)\n"
     ]
    },
    {
     "name": "stdout",
     "output_type": "stream",
     "text": [
      "87290 18 22100 0\n",
      "87300 18 482 0.0\n",
      "87310 18 1877 1.0\n",
      "87320 18 1570 0.0\n"
     ]
    },
    {
     "name": "stderr",
     "output_type": "stream",
     "text": [
      "/dados/anaconda3/lib/python3.7/site-packages/tbats/error/ExceptionHandler.py:13: ModelWarning: Optimization did not converge. Forecasts may be unstable.\n",
      "  warnings.warn(message, warning_type)\n",
      "/dados/anaconda3/lib/python3.7/site-packages/tbats/error/ExceptionHandler.py:13: ModelWarning: Optimization did not converge. Forecasts may be unstable.\n",
      "  warnings.warn(message, warning_type)\n"
     ]
    },
    {
     "name": "stdout",
     "output_type": "stream",
     "text": [
      "87330 18 4003 0.0\n"
     ]
    },
    {
     "name": "stderr",
     "output_type": "stream",
     "text": [
      "/dados/anaconda3/lib/python3.7/site-packages/tbats/error/ExceptionHandler.py:13: ModelWarning: Optimization did not converge. Forecasts may be unstable.\n",
      "  warnings.warn(message, warning_type)\n",
      "/dados/anaconda3/lib/python3.7/site-packages/tbats/error/ExceptionHandler.py:13: ModelWarning: Optimization did not converge. Forecasts may be unstable.\n",
      "  warnings.warn(message, warning_type)\n"
     ]
    },
    {
     "name": "stdout",
     "output_type": "stream",
     "text": [
      "87340 18 3851 1.0\n",
      "87350 18 4420 0.0\n"
     ]
    },
    {
     "name": "stderr",
     "output_type": "stream",
     "text": [
      "/dados/anaconda3/lib/python3.7/site-packages/tbats/error/ExceptionHandler.py:13: ModelWarning: Optimization did not converge. Forecasts may be unstable.\n",
      "  warnings.warn(message, warning_type)\n",
      "/dados/anaconda3/lib/python3.7/site-packages/tbats/error/ExceptionHandler.py:13: ModelWarning: Optimization did not converge. Forecasts may be unstable.\n",
      "  warnings.warn(message, warning_type)\n"
     ]
    },
    {
     "name": "stdout",
     "output_type": "stream",
     "text": [
      "87360 18 4085 6.0\n"
     ]
    },
    {
     "name": "stderr",
     "output_type": "stream",
     "text": [
      "/dados/anaconda3/lib/python3.7/site-packages/tbats/error/ExceptionHandler.py:13: ModelWarning: Optimization did not converge. Forecasts may be unstable.\n",
      "  warnings.warn(message, warning_type)\n"
     ]
    },
    {
     "name": "stdout",
     "output_type": "stream",
     "text": [
      "87370 18 3528 0.0\n",
      "87380 18 3459 0\n"
     ]
    },
    {
     "name": "stderr",
     "output_type": "stream",
     "text": [
      "/dados/anaconda3/lib/python3.7/site-packages/tbats/error/ExceptionHandler.py:13: ModelWarning: Optimization did not converge. Forecasts may be unstable.\n",
      "  warnings.warn(message, warning_type)\n"
     ]
    },
    {
     "name": "stdout",
     "output_type": "stream",
     "text": [
      "87390 18 12771 1.0\n",
      "87400 18 13334 0\n",
      "87410 18 15047 2.0\n"
     ]
    },
    {
     "name": "stderr",
     "output_type": "stream",
     "text": [
      "/dados/anaconda3/lib/python3.7/site-packages/tbats/error/ExceptionHandler.py:13: ModelWarning: Optimization did not converge. Forecasts may be unstable.\n",
      "  warnings.warn(message, warning_type)\n"
     ]
    },
    {
     "name": "stdout",
     "output_type": "stream",
     "text": [
      "87420 18 13818 0\n"
     ]
    },
    {
     "name": "stderr",
     "output_type": "stream",
     "text": [
      "/dados/anaconda3/lib/python3.7/site-packages/tbats/error/ExceptionHandler.py:13: ModelWarning: Optimization did not converge. Forecasts may be unstable.\n",
      "  warnings.warn(message, warning_type)\n"
     ]
    },
    {
     "name": "stdout",
     "output_type": "stream",
     "text": [
      "87430 18 12549 0.0\n"
     ]
    },
    {
     "name": "stderr",
     "output_type": "stream",
     "text": [
      "/dados/anaconda3/lib/python3.7/site-packages/tbats/error/ExceptionHandler.py:13: ModelWarning: Optimization did not converge. Forecasts may be unstable.\n",
      "  warnings.warn(message, warning_type)\n"
     ]
    },
    {
     "name": "stdout",
     "output_type": "stream",
     "text": [
      "87440 18 12698 0\n"
     ]
    },
    {
     "name": "stderr",
     "output_type": "stream",
     "text": [
      "/dados/anaconda3/lib/python3.7/site-packages/tbats/error/ExceptionHandler.py:13: ModelWarning: Optimization did not converge. Forecasts may be unstable.\n",
      "  warnings.warn(message, warning_type)\n",
      "/dados/anaconda3/lib/python3.7/site-packages/tbats/error/ExceptionHandler.py:13: ModelWarning: Optimization did not converge. Forecasts may be unstable.\n",
      "  warnings.warn(message, warning_type)\n"
     ]
    },
    {
     "name": "stdout",
     "output_type": "stream",
     "text": [
      "87450 18 12360 0.0\n",
      "87460 18 11811 2.0\n",
      "87470 18 12023 0\n",
      "87480 18 13275 0\n",
      "87490 18 13303 0\n",
      "87500 18 13226 0\n",
      "87510 18 20609 1.0\n"
     ]
    },
    {
     "name": "stderr",
     "output_type": "stream",
     "text": [
      "/dados/anaconda3/lib/python3.7/site-packages/tbats/error/ExceptionHandler.py:13: ModelWarning: Optimization did not converge. Forecasts may be unstable.\n",
      "  warnings.warn(message, warning_type)\n"
     ]
    },
    {
     "name": "stdout",
     "output_type": "stream",
     "text": [
      "87520 18 19430 0.0\n",
      "87530 18 21942 0\n",
      "87540 18 18201 1.0\n",
      "87550 18 16122 0.0\n",
      "87560 18 14668 0.0\n",
      "87570 18 15323 1.0\n",
      "87580 18 17481 1.0\n",
      "87590 18 16541 0.0\n",
      "87600 18 1239 0.0\n"
     ]
    },
    {
     "name": "stderr",
     "output_type": "stream",
     "text": [
      "/dados/anaconda3/lib/python3.7/site-packages/tbats/error/ExceptionHandler.py:13: ModelWarning: Optimization did not converge. Forecasts may be unstable.\n",
      "  warnings.warn(message, warning_type)\n"
     ]
    },
    {
     "name": "stdout",
     "output_type": "stream",
     "text": [
      "87610 18 20631 0.0\n",
      "87620 18 2787 0\n",
      "87630 18 15282 0.0\n",
      "87640 18 16145 0\n"
     ]
    },
    {
     "name": "stderr",
     "output_type": "stream",
     "text": [
      "/dados/anaconda3/lib/python3.7/site-packages/tbats/error/ExceptionHandler.py:13: ModelWarning: Optimization did not converge. Forecasts may be unstable.\n",
      "  warnings.warn(message, warning_type)\n"
     ]
    },
    {
     "name": "stdout",
     "output_type": "stream",
     "text": [
      "87650 18 19125 0\n",
      "87660 18 17032 0\n",
      "87670 18 5383 0\n",
      "87680 18 4895 1.0\n",
      "87690 18 6505 0\n"
     ]
    },
    {
     "name": "stderr",
     "output_type": "stream",
     "text": [
      "/dados/anaconda3/lib/python3.7/site-packages/tbats/error/ExceptionHandler.py:13: ModelWarning: Optimization did not converge. Forecasts may be unstable.\n",
      "  warnings.warn(message, warning_type)\n",
      "/dados/anaconda3/lib/python3.7/site-packages/tbats/error/ExceptionHandler.py:13: ModelWarning: Optimization did not converge. Forecasts may be unstable.\n",
      "  warnings.warn(message, warning_type)\n",
      "/dados/anaconda3/lib/python3.7/site-packages/tbats/error/ExceptionHandler.py:13: ModelWarning: Optimization did not converge. Forecasts may be unstable.\n",
      "  warnings.warn(message, warning_type)\n"
     ]
    },
    {
     "name": "stdout",
     "output_type": "stream",
     "text": [
      "87700 18 6082 2.0\n"
     ]
    },
    {
     "name": "stderr",
     "output_type": "stream",
     "text": [
      "/dados/anaconda3/lib/python3.7/site-packages/tbats/error/ExceptionHandler.py:13: ModelWarning: Optimization did not converge. Forecasts may be unstable.\n",
      "  warnings.warn(message, warning_type)\n"
     ]
    },
    {
     "name": "stdout",
     "output_type": "stream",
     "text": [
      "87710 18 3822 0.0\n",
      "87720 18 6129 2.0\n"
     ]
    },
    {
     "name": "stderr",
     "output_type": "stream",
     "text": [
      "/dados/anaconda3/lib/python3.7/site-packages/tbats/error/ExceptionHandler.py:13: ModelWarning: Optimization did not converge. Forecasts may be unstable.\n",
      "  warnings.warn(message, warning_type)\n"
     ]
    },
    {
     "name": "stdout",
     "output_type": "stream",
     "text": [
      "87730 18 3833 0.0\n"
     ]
    },
    {
     "name": "stderr",
     "output_type": "stream",
     "text": [
      "/dados/anaconda3/lib/python3.7/site-packages/tbats/error/ExceptionHandler.py:13: ModelWarning: Optimization did not converge. Forecasts may be unstable.\n",
      "  warnings.warn(message, warning_type)\n"
     ]
    },
    {
     "name": "stdout",
     "output_type": "stream",
     "text": [
      "87740 18 3871 0.0\n",
      "87750 18 13285 0\n",
      "87760 18 11938 0\n",
      "87770 18 14457 1.0\n",
      "87780 18 7982 0.0\n",
      "87790 18 7224 0\n",
      "87800 18 10211 0.0\n",
      "87810 18 9404 1.0\n"
     ]
    },
    {
     "name": "stderr",
     "output_type": "stream",
     "text": [
      "/dados/anaconda3/lib/python3.7/site-packages/tbats/error/ExceptionHandler.py:13: ModelWarning: Optimization did not converge. Forecasts may be unstable.\n",
      "  warnings.warn(message, warning_type)\n"
     ]
    },
    {
     "name": "stdout",
     "output_type": "stream",
     "text": [
      "87820 18 4049 2.0\n",
      "87830 18 4999 0\n",
      "87840 18 3342 1.0\n",
      "87850 18 10190 0.0\n",
      "87860 18 9408 0\n",
      "87870 18 13237 0\n",
      "87880 18 10987 0.0\n"
     ]
    },
    {
     "name": "stderr",
     "output_type": "stream",
     "text": [
      "/dados/anaconda3/lib/python3.7/site-packages/tbats/error/ExceptionHandler.py:13: ModelWarning: Optimization did not converge. Forecasts may be unstable.\n",
      "  warnings.warn(message, warning_type)\n"
     ]
    },
    {
     "name": "stdout",
     "output_type": "stream",
     "text": [
      "87890 18 6625 0.0\n",
      "87900 18 6090 1.0\n",
      "87910 18 7019 0.0\n"
     ]
    },
    {
     "name": "stderr",
     "output_type": "stream",
     "text": [
      "/dados/anaconda3/lib/python3.7/site-packages/tbats/error/ExceptionHandler.py:13: ModelWarning: Optimization did not converge. Forecasts may be unstable.\n",
      "  warnings.warn(message, warning_type)\n",
      "/dados/anaconda3/lib/python3.7/site-packages/tbats/error/ExceptionHandler.py:13: ModelWarning: Optimization did not converge. Forecasts may be unstable.\n",
      "  warnings.warn(message, warning_type)\n"
     ]
    },
    {
     "name": "stdout",
     "output_type": "stream",
     "text": [
      "87920 18 12500 1.0\n",
      "87930 18 10448 0\n",
      "87940 18 12805 0.0\n",
      "87950 18 14247 0.0\n",
      "87960 18 7133 0\n"
     ]
    },
    {
     "name": "stderr",
     "output_type": "stream",
     "text": [
      "/dados/anaconda3/lib/python3.7/site-packages/tbats/error/ExceptionHandler.py:13: ModelWarning: Optimization did not converge. Forecasts may be unstable.\n",
      "  warnings.warn(message, warning_type)\n"
     ]
    },
    {
     "name": "stdout",
     "output_type": "stream",
     "text": [
      "87970 18 10292 1.0\n",
      "87980 18 1007 0.0\n"
     ]
    },
    {
     "name": "stderr",
     "output_type": "stream",
     "text": [
      "/dados/anaconda3/lib/python3.7/site-packages/tbats/error/ExceptionHandler.py:13: ModelWarning: Optimization did not converge. Forecasts may be unstable.\n",
      "  warnings.warn(message, warning_type)\n",
      "/dados/anaconda3/lib/python3.7/site-packages/tbats/error/ExceptionHandler.py:13: ModelWarning: Optimization did not converge. Forecasts may be unstable.\n",
      "  warnings.warn(message, warning_type)\n"
     ]
    },
    {
     "name": "stdout",
     "output_type": "stream",
     "text": [
      "87990 18 1717 0.0\n",
      "88000 18 14390 0.0\n",
      "88010 18 19908 0.0\n"
     ]
    },
    {
     "name": "stderr",
     "output_type": "stream",
     "text": [
      "/dados/anaconda3/lib/python3.7/site-packages/tbats/error/ExceptionHandler.py:13: ModelWarning: Optimization did not converge. Forecasts may be unstable.\n",
      "  warnings.warn(message, warning_type)\n",
      "/dados/anaconda3/lib/python3.7/site-packages/tbats/error/ExceptionHandler.py:13: ModelWarning: Optimization did not converge. Forecasts may be unstable.\n",
      "  warnings.warn(message, warning_type)\n"
     ]
    },
    {
     "name": "stdout",
     "output_type": "stream",
     "text": [
      "88020 18 17888 0\n",
      "88030 18 21722 0\n"
     ]
    },
    {
     "name": "stderr",
     "output_type": "stream",
     "text": [
      "/dados/anaconda3/lib/python3.7/site-packages/tbats/error/ExceptionHandler.py:13: ModelWarning: Optimization did not converge. Forecasts may be unstable.\n",
      "  warnings.warn(message, warning_type)\n",
      "/dados/anaconda3/lib/python3.7/site-packages/tbats/error/ExceptionHandler.py:13: ModelWarning: Optimization did not converge. Forecasts may be unstable.\n",
      "  warnings.warn(message, warning_type)\n"
     ]
    },
    {
     "name": "stdout",
     "output_type": "stream",
     "text": [
      "88040 18 940 0\n"
     ]
    },
    {
     "name": "stderr",
     "output_type": "stream",
     "text": [
      "/dados/anaconda3/lib/python3.7/site-packages/tbats/error/ExceptionHandler.py:13: ModelWarning: Optimization did not converge. Forecasts may be unstable.\n",
      "  warnings.warn(message, warning_type)\n"
     ]
    },
    {
     "name": "stdout",
     "output_type": "stream",
     "text": [
      "88050 18 18926 0\n",
      "88060 18 17772 0\n",
      "88070 18 19219 0\n"
     ]
    },
    {
     "name": "stderr",
     "output_type": "stream",
     "text": [
      "/dados/anaconda3/lib/python3.7/site-packages/tbats/error/ExceptionHandler.py:13: ModelWarning: Optimization did not converge. Forecasts may be unstable.\n",
      "  warnings.warn(message, warning_type)\n",
      "/dados/anaconda3/lib/python3.7/site-packages/tbats/error/ExceptionHandler.py:13: ModelWarning: Optimization did not converge. Forecasts may be unstable.\n",
      "  warnings.warn(message, warning_type)\n"
     ]
    },
    {
     "name": "stdout",
     "output_type": "stream",
     "text": [
      "88080 18 20225 0.0\n"
     ]
    },
    {
     "name": "stderr",
     "output_type": "stream",
     "text": [
      "/dados/anaconda3/lib/python3.7/site-packages/tbats/error/ExceptionHandler.py:13: ModelWarning: Optimization did not converge. Forecasts may be unstable.\n",
      "  warnings.warn(message, warning_type)\n"
     ]
    },
    {
     "name": "stdout",
     "output_type": "stream",
     "text": [
      "88090 18 5816 0.0\n"
     ]
    },
    {
     "name": "stderr",
     "output_type": "stream",
     "text": [
      "/dados/anaconda3/lib/python3.7/site-packages/tbats/error/ExceptionHandler.py:13: ModelWarning: Optimization did not converge. Forecasts may be unstable.\n",
      "  warnings.warn(message, warning_type)\n"
     ]
    },
    {
     "name": "stdout",
     "output_type": "stream",
     "text": [
      "88100 18 8868 0\n"
     ]
    },
    {
     "name": "stderr",
     "output_type": "stream",
     "text": [
      "/dados/anaconda3/lib/python3.7/site-packages/tbats/error/ExceptionHandler.py:13: ModelWarning: Optimization did not converge. Forecasts may be unstable.\n",
      "  warnings.warn(message, warning_type)\n"
     ]
    },
    {
     "name": "stdout",
     "output_type": "stream",
     "text": [
      "88110 18 17459 0\n",
      "88120 18 17420 0.0\n",
      "88130 18 10812 0\n",
      "88140 18 11771 0\n",
      "88150 18 10554 0\n",
      "88160 18 10378 0.0\n",
      "88170 18 16125 0.0\n",
      "88180 18 15300 0.0\n",
      "88190 18 17270 0.0\n",
      "88200 18 16735 0.0\n",
      "88210 18 13893 0.0\n",
      "88220 18 13633 0\n"
     ]
    },
    {
     "name": "stderr",
     "output_type": "stream",
     "text": [
      "/dados/anaconda3/lib/python3.7/site-packages/tbats/error/ExceptionHandler.py:13: ModelWarning: Optimization did not converge. Forecasts may be unstable.\n",
      "  warnings.warn(message, warning_type)\n"
     ]
    },
    {
     "name": "stdout",
     "output_type": "stream",
     "text": [
      "88230 18 14267 0.0\n",
      "88240 18 7592 0\n",
      "88250 18 8734 0\n",
      "88260 18 8986 0.0\n"
     ]
    },
    {
     "name": "stderr",
     "output_type": "stream",
     "text": [
      "/dados/anaconda3/lib/python3.7/site-packages/tbats/error/ExceptionHandler.py:13: ModelWarning: Optimization did not converge. Forecasts may be unstable.\n",
      "  warnings.warn(message, warning_type)\n"
     ]
    },
    {
     "name": "stdout",
     "output_type": "stream",
     "text": [
      "88270 18 8453 0\n",
      "88280 18 4141 0\n",
      "88290 18 6420 0.0\n",
      "88300 18 11266 0\n"
     ]
    },
    {
     "name": "stderr",
     "output_type": "stream",
     "text": [
      "/dados/anaconda3/lib/python3.7/site-packages/tbats/error/ExceptionHandler.py:13: ModelWarning: Optimization did not converge. Forecasts may be unstable.\n",
      "  warnings.warn(message, warning_type)\n",
      "/dados/anaconda3/lib/python3.7/site-packages/tbats/error/ExceptionHandler.py:13: ModelWarning: Optimization did not converge. Forecasts may be unstable.\n",
      "  warnings.warn(message, warning_type)\n"
     ]
    },
    {
     "name": "stdout",
     "output_type": "stream",
     "text": [
      "88310 18 13270 0\n",
      "88320 18 13100 0.0\n",
      "88330 18 10146 0\n",
      "88340 18 10425 0\n",
      "88350 18 11365 0\n",
      "88360 18 14848 0\n",
      "88370 18 21367 1.0\n",
      "88380 18 8077 0.0\n",
      "88390 18 12286 0.0\n"
     ]
    },
    {
     "name": "stderr",
     "output_type": "stream",
     "text": [
      "/dados/anaconda3/lib/python3.7/site-packages/tbats/error/ExceptionHandler.py:13: ModelWarning: Optimization did not converge. Forecasts may be unstable.\n",
      "  warnings.warn(message, warning_type)\n"
     ]
    },
    {
     "name": "stdout",
     "output_type": "stream",
     "text": [
      "88400 18 3028 7.0\n",
      "88410 18 3862 1.0\n",
      "88420 18 794 0\n",
      "88430 18 353 0\n",
      "88440 18 1074 0\n",
      "88450 18 13208 0\n",
      "88460 18 12501 1.0\n",
      "88470 18 10045 0\n",
      "88480 18 12090 0.0\n",
      "88490 18 11534 0\n",
      "88500 18 15512 0\n",
      "88510 18 15166 0\n",
      "88520 18 16534 0.0\n",
      "88530 18 16155 2.0\n"
     ]
    },
    {
     "name": "stderr",
     "output_type": "stream",
     "text": [
      "/dados/anaconda3/lib/python3.7/site-packages/tbats/error/ExceptionHandler.py:13: ModelWarning: Optimization did not converge. Forecasts may be unstable.\n",
      "  warnings.warn(message, warning_type)\n"
     ]
    },
    {
     "name": "stdout",
     "output_type": "stream",
     "text": [
      "88540 18 12830 0.0\n",
      "88550 18 14124 0.0\n",
      "88560 18 5945 0.0\n",
      "88570 18 6678 0\n",
      "88580 18 4944 1.0\n",
      "88590 18 5517 2.0\n",
      "88600 18 8398 0\n"
     ]
    },
    {
     "name": "stderr",
     "output_type": "stream",
     "text": [
      "/dados/anaconda3/lib/python3.7/site-packages/tbats/error/ExceptionHandler.py:13: ModelWarning: Optimization did not converge. Forecasts may be unstable.\n",
      "  warnings.warn(message, warning_type)\n"
     ]
    },
    {
     "name": "stdout",
     "output_type": "stream",
     "text": [
      "88610 18 7458 0.0\n",
      "88620 18 7882 0.0\n",
      "88630 18 7793 0.0\n",
      "88640 18 3477 0.0\n",
      "88650 18 8686 0.0\n",
      "88660 18 20560 0\n",
      "88670 18 19874 0\n",
      "88680 18 17869 0.0\n"
     ]
    },
    {
     "name": "stderr",
     "output_type": "stream",
     "text": [
      "/dados/anaconda3/lib/python3.7/site-packages/tbats/error/ExceptionHandler.py:13: ModelWarning: Optimization did not converge. Forecasts may be unstable.\n",
      "  warnings.warn(message, warning_type)\n"
     ]
    },
    {
     "name": "stdout",
     "output_type": "stream",
     "text": [
      "88690 18 21548 0\n"
     ]
    },
    {
     "name": "stderr",
     "output_type": "stream",
     "text": [
      "/dados/anaconda3/lib/python3.7/site-packages/tbats/error/ExceptionHandler.py:13: ModelWarning: Optimization did not converge. Forecasts may be unstable.\n",
      "  warnings.warn(message, warning_type)\n",
      "/dados/anaconda3/lib/python3.7/site-packages/tbats/error/ExceptionHandler.py:13: ModelWarning: Optimization did not converge. Forecasts may be unstable.\n",
      "  warnings.warn(message, warning_type)\n"
     ]
    },
    {
     "name": "stdout",
     "output_type": "stream",
     "text": [
      "88700 18 18255 0\n",
      "88710 18 2639 1.0\n",
      "88720 18 21827 1.0\n",
      "88730 18 1238 0\n",
      "88740 18 1247 0.0\n",
      "88750 18 269 0\n",
      "88760 18 687 0.0\n"
     ]
    },
    {
     "name": "stderr",
     "output_type": "stream",
     "text": [
      "/dados/anaconda3/lib/python3.7/site-packages/tbats/error/ExceptionHandler.py:13: ModelWarning: Optimization did not converge. Forecasts may be unstable.\n",
      "  warnings.warn(message, warning_type)\n",
      "/dados/anaconda3/lib/python3.7/site-packages/tbats/error/ExceptionHandler.py:13: ModelWarning: Optimization did not converge. Forecasts may be unstable.\n",
      "  warnings.warn(message, warning_type)\n"
     ]
    },
    {
     "name": "stdout",
     "output_type": "stream",
     "text": [
      "88770 18 93 0\n"
     ]
    },
    {
     "name": "stderr",
     "output_type": "stream",
     "text": [
      "/dados/anaconda3/lib/python3.7/site-packages/tbats/error/ExceptionHandler.py:13: ModelWarning: Optimization did not converge. Forecasts may be unstable.\n",
      "  warnings.warn(message, warning_type)\n"
     ]
    },
    {
     "name": "stdout",
     "output_type": "stream",
     "text": [
      "88780 18 20718 0\n",
      "88790 18 42 0\n",
      "88800 18 21842 0.0\n"
     ]
    },
    {
     "name": "stderr",
     "output_type": "stream",
     "text": [
      "/dados/anaconda3/lib/python3.7/site-packages/tbats/error/ExceptionHandler.py:13: ModelWarning: Optimization did not converge. Forecasts may be unstable.\n",
      "  warnings.warn(message, warning_type)\n"
     ]
    },
    {
     "name": "stdout",
     "output_type": "stream",
     "text": [
      "88810 18 2324 0\n",
      "88820 18 1663 0.0\n",
      "88830 18 3080 0.0\n",
      "88840 18 2886 0.0\n",
      "88850 18 13587 0\n",
      "88860 18 13691 0\n",
      "88870 18 15169 0\n",
      "88880 18 14973 0\n"
     ]
    },
    {
     "name": "stderr",
     "output_type": "stream",
     "text": [
      "/dados/anaconda3/lib/python3.7/site-packages/tbats/error/ExceptionHandler.py:13: ModelWarning: Optimization did not converge. Forecasts may be unstable.\n",
      "  warnings.warn(message, warning_type)\n"
     ]
    },
    {
     "name": "stdout",
     "output_type": "stream",
     "text": [
      "88890 18 13113 0\n",
      "88900 18 11711 0.0\n",
      "88910 18 13231 0\n",
      "88920 18 18677 0.0\n",
      "88930 18 18686 0\n",
      "88940 18 20374 0.0\n",
      "88950 18 20571 0\n",
      "88960 18 19621 0.0\n"
     ]
    },
    {
     "name": "stderr",
     "output_type": "stream",
     "text": [
      "/dados/anaconda3/lib/python3.7/site-packages/tbats/error/ExceptionHandler.py:13: ModelWarning: Optimization did not converge. Forecasts may be unstable.\n",
      "  warnings.warn(message, warning_type)\n"
     ]
    },
    {
     "name": "stdout",
     "output_type": "stream",
     "text": [
      "88970 18 16036 0.0\n",
      "88980 18 15276 1.0\n",
      "88990 18 16177 2.0\n",
      "89000 18 8687 0.0\n",
      "89010 18 9171 0\n"
     ]
    },
    {
     "name": "stderr",
     "output_type": "stream",
     "text": [
      "/dados/anaconda3/lib/python3.7/site-packages/tbats/error/ExceptionHandler.py:13: ModelWarning: Optimization did not converge. Forecasts may be unstable.\n",
      "  warnings.warn(message, warning_type)\n"
     ]
    },
    {
     "name": "stdout",
     "output_type": "stream",
     "text": [
      "89020 18 9366 0\n",
      "89030 18 7459 0.0\n"
     ]
    },
    {
     "name": "stderr",
     "output_type": "stream",
     "text": [
      "/dados/anaconda3/lib/python3.7/site-packages/tbats/error/ExceptionHandler.py:13: ModelWarning: Optimization did not converge. Forecasts may be unstable.\n",
      "  warnings.warn(message, warning_type)\n"
     ]
    },
    {
     "name": "stdout",
     "output_type": "stream",
     "text": [
      "89040 18 8148 0\n"
     ]
    },
    {
     "name": "stderr",
     "output_type": "stream",
     "text": [
      "/dados/anaconda3/lib/python3.7/site-packages/tbats/error/ExceptionHandler.py:13: ModelWarning: Optimization did not converge. Forecasts may be unstable.\n",
      "  warnings.warn(message, warning_type)\n"
     ]
    },
    {
     "name": "stdout",
     "output_type": "stream",
     "text": [
      "89050 18 8510 0\n",
      "89060 18 9449 0\n"
     ]
    },
    {
     "name": "stderr",
     "output_type": "stream",
     "text": [
      "/dados/anaconda3/lib/python3.7/site-packages/tbats/error/ExceptionHandler.py:13: ModelWarning: Optimization did not converge. Forecasts may be unstable.\n",
      "  warnings.warn(message, warning_type)\n",
      "/dados/anaconda3/lib/python3.7/site-packages/tbats/error/ExceptionHandler.py:13: ModelWarning: Optimization did not converge. Forecasts may be unstable.\n",
      "  warnings.warn(message, warning_type)\n"
     ]
    },
    {
     "name": "stdout",
     "output_type": "stream",
     "text": [
      "89070 18 10786 0.0\n",
      "89080 18 10669 0.0\n",
      "89090 18 11379 0.0\n",
      "89100 18 11542 0\n",
      "89110 18 10893 0\n",
      "89120 18 9539 0.0\n",
      "89130 18 10325 0.0\n",
      "89140 18 9840 0\n",
      "89150 18 10003 0\n"
     ]
    },
    {
     "name": "stderr",
     "output_type": "stream",
     "text": [
      "/dados/anaconda3/lib/python3.7/site-packages/tbats/error/ExceptionHandler.py:13: ModelWarning: Optimization did not converge. Forecasts may be unstable.\n",
      "  warnings.warn(message, warning_type)\n"
     ]
    },
    {
     "name": "stdout",
     "output_type": "stream",
     "text": [
      "89160 18 4708 1.0\n",
      "89170 18 4604 0.0\n",
      "89180 18 5323 1.0\n",
      "89190 18 3897 0.0\n",
      "89200 18 3919 0\n"
     ]
    },
    {
     "name": "stderr",
     "output_type": "stream",
     "text": [
      "/dados/anaconda3/lib/python3.7/site-packages/tbats/error/ExceptionHandler.py:13: ModelWarning: Optimization did not converge. Forecasts may be unstable.\n",
      "  warnings.warn(message, warning_type)\n"
     ]
    },
    {
     "name": "stdout",
     "output_type": "stream",
     "text": [
      "89210 18 3787 1.0\n",
      "89220 18 4088 0\n"
     ]
    },
    {
     "name": "stderr",
     "output_type": "stream",
     "text": [
      "/dados/anaconda3/lib/python3.7/site-packages/tbats/error/ExceptionHandler.py:13: ModelWarning: Optimization did not converge. Forecasts may be unstable.\n",
      "  warnings.warn(message, warning_type)\n"
     ]
    },
    {
     "name": "stdout",
     "output_type": "stream",
     "text": [
      "89230 18 6695 0.0\n",
      "89240 18 6378 0.0\n",
      "89250 18 6857 0.0\n",
      "89260 18 5659 0.0\n",
      "89270 18 3354 0\n",
      "89280 18 1538 4.0\n"
     ]
    },
    {
     "name": "stderr",
     "output_type": "stream",
     "text": [
      "/dados/anaconda3/lib/python3.7/site-packages/tbats/error/ExceptionHandler.py:13: ModelWarning: Optimization did not converge. Forecasts may be unstable.\n",
      "  warnings.warn(message, warning_type)\n"
     ]
    },
    {
     "name": "stdout",
     "output_type": "stream",
     "text": [
      "89290 18 22111 0\n",
      "89300 18 9019 0.0\n",
      "89310 18 11968 0.0\n",
      "89320 18 6027 0.0\n",
      "89330 18 18361 0.0\n",
      "89340 18 18629 0\n",
      "89350 18 17883 0\n",
      "89360 18 18108 0\n",
      "89370 18 19126 0.0\n",
      "89380 18 19488 0\n",
      "89390 18 18759 0\n",
      "89400 18 18979 0\n",
      "89410 18 3236 1.0\n",
      "89420 18 19588 0\n",
      "89430 18 20952 1.0\n",
      "89440 18 21207 0\n",
      "89450 18 20833 0\n",
      "89460 18 20274 0.0\n",
      "89470 18 21795 0.0\n"
     ]
    },
    {
     "name": "stderr",
     "output_type": "stream",
     "text": [
      "/dados/anaconda3/lib/python3.7/site-packages/tbats/error/ExceptionHandler.py:13: ModelWarning: Optimization did not converge. Forecasts may be unstable.\n",
      "  warnings.warn(message, warning_type)\n"
     ]
    },
    {
     "name": "stdout",
     "output_type": "stream",
     "text": [
      "89480 18 21792 0\n"
     ]
    },
    {
     "name": "stderr",
     "output_type": "stream",
     "text": [
      "/dados/anaconda3/lib/python3.7/site-packages/tbats/error/ExceptionHandler.py:13: ModelWarning: Optimization did not converge. Forecasts may be unstable.\n",
      "  warnings.warn(message, warning_type)\n"
     ]
    },
    {
     "name": "stdout",
     "output_type": "stream",
     "text": [
      "89490 18 19951 0\n"
     ]
    },
    {
     "name": "stderr",
     "output_type": "stream",
     "text": [
      "/dados/anaconda3/lib/python3.7/site-packages/tbats/error/ExceptionHandler.py:13: ModelWarning: Optimization did not converge. Forecasts may be unstable.\n",
      "  warnings.warn(message, warning_type)\n"
     ]
    },
    {
     "name": "stdout",
     "output_type": "stream",
     "text": [
      "89500 18 19852 0.0\n"
     ]
    },
    {
     "name": "stderr",
     "output_type": "stream",
     "text": [
      "/dados/anaconda3/lib/python3.7/site-packages/tbats/error/ExceptionHandler.py:13: ModelWarning: Optimization did not converge. Forecasts may be unstable.\n",
      "  warnings.warn(message, warning_type)\n"
     ]
    },
    {
     "name": "stdout",
     "output_type": "stream",
     "text": [
      "89510 18 20600 0\n",
      "89520 18 20581 0.0\n"
     ]
    },
    {
     "name": "stderr",
     "output_type": "stream",
     "text": [
      "/dados/anaconda3/lib/python3.7/site-packages/tbats/error/ExceptionHandler.py:13: ModelWarning: Optimization did not converge. Forecasts may be unstable.\n",
      "  warnings.warn(message, warning_type)\n"
     ]
    },
    {
     "name": "stdout",
     "output_type": "stream",
     "text": [
      "89530 18 6312 0.0\n",
      "89540 18 3634 0.0\n"
     ]
    },
    {
     "name": "stderr",
     "output_type": "stream",
     "text": [
      "/dados/anaconda3/lib/python3.7/site-packages/tbats/error/ExceptionHandler.py:13: ModelWarning: Optimization did not converge. Forecasts may be unstable.\n",
      "  warnings.warn(message, warning_type)\n"
     ]
    },
    {
     "name": "stdout",
     "output_type": "stream",
     "text": [
      "89550 18 4707 1.0\n"
     ]
    },
    {
     "name": "stderr",
     "output_type": "stream",
     "text": [
      "/dados/anaconda3/lib/python3.7/site-packages/tbats/error/ExceptionHandler.py:13: ModelWarning: Optimization did not converge. Forecasts may be unstable.\n",
      "  warnings.warn(message, warning_type)\n"
     ]
    },
    {
     "name": "stdout",
     "output_type": "stream",
     "text": [
      "89560 18 8888 0.0\n",
      "89570 18 10099 0.0\n"
     ]
    },
    {
     "name": "stderr",
     "output_type": "stream",
     "text": [
      "/dados/anaconda3/lib/python3.7/site-packages/tbats/error/ExceptionHandler.py:13: ModelWarning: Optimization did not converge. Forecasts may be unstable.\n",
      "  warnings.warn(message, warning_type)\n"
     ]
    },
    {
     "name": "stdout",
     "output_type": "stream",
     "text": [
      "89580 18 6807 0\n",
      "89590 18 8112 0\n"
     ]
    },
    {
     "name": "stderr",
     "output_type": "stream",
     "text": [
      "/dados/anaconda3/lib/python3.7/site-packages/tbats/error/ExceptionHandler.py:13: ModelWarning: Optimization did not converge. Forecasts may be unstable.\n",
      "  warnings.warn(message, warning_type)\n"
     ]
    },
    {
     "name": "stdout",
     "output_type": "stream",
     "text": [
      "89600 18 19118 4.0\n",
      "89610 18 21790 0\n",
      "89620 18 13630 0\n",
      "89630 18 15478 0.0\n",
      "89640 18 15226 0.0\n",
      "89650 18 2585 0.0\n",
      "89660 18 2213 0\n",
      "89670 18 1611 0.0\n",
      "89680 18 12504 0.0\n"
     ]
    },
    {
     "name": "stderr",
     "output_type": "stream",
     "text": [
      "/dados/anaconda3/lib/python3.7/site-packages/tbats/error/ExceptionHandler.py:13: ModelWarning: Optimization did not converge. Forecasts may be unstable.\n",
      "  warnings.warn(message, warning_type)\n"
     ]
    },
    {
     "name": "stdout",
     "output_type": "stream",
     "text": [
      "89690 18 13445 0\n",
      "89700 18 11915 0.0\n",
      "89710 18 20739 1.0\n",
      "89720 18 21196 0\n",
      "89730 18 14108 0.0\n"
     ]
    },
    {
     "name": "stderr",
     "output_type": "stream",
     "text": [
      "/dados/anaconda3/lib/python3.7/site-packages/tbats/error/ExceptionHandler.py:13: ModelWarning: Optimization did not converge. Forecasts may be unstable.\n",
      "  warnings.warn(message, warning_type)\n",
      "/dados/anaconda3/lib/python3.7/site-packages/tbats/error/ExceptionHandler.py:13: ModelWarning: Optimization did not converge. Forecasts may be unstable.\n",
      "  warnings.warn(message, warning_type)\n",
      "/dados/anaconda3/lib/python3.7/site-packages/tbats/error/ExceptionHandler.py:13: ModelWarning: Optimization did not converge. Forecasts may be unstable.\n",
      "  warnings.warn(message, warning_type)\n"
     ]
    },
    {
     "name": "stdout",
     "output_type": "stream",
     "text": [
      "89740 18 3457 0\n",
      "89750 18 3096 0.0\n",
      "89760 18 15260 0\n",
      "89770 18 17157 0.0\n"
     ]
    },
    {
     "name": "stderr",
     "output_type": "stream",
     "text": [
      "/dados/anaconda3/lib/python3.7/site-packages/tbats/error/ExceptionHandler.py:13: ModelWarning: Optimization did not converge. Forecasts may be unstable.\n",
      "  warnings.warn(message, warning_type)\n"
     ]
    },
    {
     "name": "stdout",
     "output_type": "stream",
     "text": [
      "89780 18 413 0.0\n",
      "89790 18 1010 0.0\n"
     ]
    },
    {
     "name": "stderr",
     "output_type": "stream",
     "text": [
      "/dados/anaconda3/lib/python3.7/site-packages/tbats/error/ExceptionHandler.py:13: ModelWarning: Optimization did not converge. Forecasts may be unstable.\n",
      "  warnings.warn(message, warning_type)\n"
     ]
    },
    {
     "name": "stdout",
     "output_type": "stream",
     "text": [
      "89800 18 4364 1.0\n",
      "89810 18 6528 0\n",
      "89820 18 5470 0.0\n",
      "89830 18 19337 0\n",
      "89840 18 18017 0\n",
      "89850 18 14892 3.0\n",
      "89860 18 20393 0\n",
      "89870 18 15171 0\n",
      "89880 18 16093 0\n",
      "89890 18 16111 0\n",
      "89900 18 14962 0\n",
      "89910 18 16207 0.0\n",
      "89920 18 16786 0.0\n",
      "89930 18 8157 0\n"
     ]
    },
    {
     "name": "stderr",
     "output_type": "stream",
     "text": [
      "/dados/anaconda3/lib/python3.7/site-packages/tbats/error/ExceptionHandler.py:13: ModelWarning: Optimization did not converge. Forecasts may be unstable.\n",
      "  warnings.warn(message, warning_type)\n"
     ]
    },
    {
     "name": "stdout",
     "output_type": "stream",
     "text": [
      "89940 18 13448 0\n",
      "89950 18 13224 0\n",
      "89960 18 13512 0.0\n",
      "89970 18 13288 0\n"
     ]
    },
    {
     "name": "stderr",
     "output_type": "stream",
     "text": [
      "/dados/anaconda3/lib/python3.7/site-packages/tbats/error/ExceptionHandler.py:13: ModelWarning: Optimization did not converge. Forecasts may be unstable.\n",
      "  warnings.warn(message, warning_type)\n"
     ]
    },
    {
     "name": "stdout",
     "output_type": "stream",
     "text": [
      "89980 18 14164 0\n",
      "89990 18 12808 0.0\n",
      "90000 18 13647 0\n",
      "90010 18 12332 0\n",
      "90020 18 12091 0.0\n",
      "90030 18 11268 0\n",
      "90040 18 13223 0\n",
      "90050 18 13221 0\n"
     ]
    },
    {
     "name": "stderr",
     "output_type": "stream",
     "text": [
      "/dados/anaconda3/lib/python3.7/site-packages/tbats/error/ExceptionHandler.py:13: ModelWarning: Optimization did not converge. Forecasts may be unstable.\n",
      "  warnings.warn(message, warning_type)\n"
     ]
    },
    {
     "name": "stdout",
     "output_type": "stream",
     "text": [
      "90060 18 16179 0.0\n",
      "90070 18 15524 0.0\n",
      "90080 18 16045 1.0\n",
      "90090 18 16910 0\n",
      "90100 18 15667 0\n",
      "90110 18 16243 0\n",
      "90120 18 16349 0\n",
      "90130 18 15015 0.0\n",
      "90140 18 15134 0.0\n",
      "90150 18 14987 0\n",
      "90160 18 15318 0.0\n"
     ]
    },
    {
     "name": "stderr",
     "output_type": "stream",
     "text": [
      "/dados/anaconda3/lib/python3.7/site-packages/tbats/error/ExceptionHandler.py:13: ModelWarning: Optimization did not converge. Forecasts may be unstable.\n",
      "  warnings.warn(message, warning_type)\n"
     ]
    },
    {
     "name": "stdout",
     "output_type": "stream",
     "text": [
      "90170 18 15168 0\n",
      "90180 18 15220 2.0\n"
     ]
    },
    {
     "name": "stderr",
     "output_type": "stream",
     "text": [
      "/dados/anaconda3/lib/python3.7/site-packages/tbats/error/ExceptionHandler.py:13: ModelWarning: Optimization did not converge. Forecasts may be unstable.\n",
      "  warnings.warn(message, warning_type)\n",
      "/dados/anaconda3/lib/python3.7/site-packages/tbats/error/ExceptionHandler.py:13: ModelWarning: Optimization did not converge. Forecasts may be unstable.\n",
      "  warnings.warn(message, warning_type)\n"
     ]
    },
    {
     "name": "stdout",
     "output_type": "stream",
     "text": [
      "90190 18 6870 0\n"
     ]
    },
    {
     "name": "stderr",
     "output_type": "stream",
     "text": [
      "/dados/anaconda3/lib/python3.7/site-packages/tbats/error/ExceptionHandler.py:13: ModelWarning: Optimization did not converge. Forecasts may be unstable.\n",
      "  warnings.warn(message, warning_type)\n"
     ]
    },
    {
     "name": "stdout",
     "output_type": "stream",
     "text": [
      "90200 18 4480 0.0\n",
      "90210 18 5063 0.0\n",
      "90220 18 5155 0.0\n",
      "90230 18 5187 0\n",
      "90240 18 5121 0\n",
      "90250 18 10069 0\n",
      "90260 18 10287 0\n",
      "90270 18 10180 0.0\n",
      "90280 18 10772 0.0\n",
      "90290 18 11363 0\n",
      "90300 18 11044 0.0\n",
      "90310 18 8459 0\n",
      "90320 18 8363 0.0\n",
      "90330 18 7580 0\n",
      "90340 18 8968 0\n"
     ]
    },
    {
     "name": "stderr",
     "output_type": "stream",
     "text": [
      "/dados/anaconda3/lib/python3.7/site-packages/tbats/error/ExceptionHandler.py:13: ModelWarning: Optimization did not converge. Forecasts may be unstable.\n",
      "  warnings.warn(message, warning_type)\n"
     ]
    },
    {
     "name": "stdout",
     "output_type": "stream",
     "text": [
      "90350 18 9338 0\n",
      "90360 18 8428 0\n",
      "90370 18 14361 0.0\n",
      "90380 18 547 0\n",
      "90390 18 12743 0\n"
     ]
    },
    {
     "name": "stderr",
     "output_type": "stream",
     "text": [
      "/dados/anaconda3/lib/python3.7/site-packages/tbats/error/ExceptionHandler.py:13: ModelWarning: Optimization did not converge. Forecasts may be unstable.\n",
      "  warnings.warn(message, warning_type)\n"
     ]
    },
    {
     "name": "stdout",
     "output_type": "stream",
     "text": [
      "90400 18 20517 0\n"
     ]
    },
    {
     "name": "stderr",
     "output_type": "stream",
     "text": [
      "/dados/anaconda3/lib/python3.7/site-packages/tbats/error/ExceptionHandler.py:13: ModelWarning: Optimization did not converge. Forecasts may be unstable.\n",
      "  warnings.warn(message, warning_type)\n",
      "/dados/anaconda3/lib/python3.7/site-packages/tbats/error/ExceptionHandler.py:13: ModelWarning: Optimization did not converge. Forecasts may be unstable.\n",
      "  warnings.warn(message, warning_type)\n"
     ]
    },
    {
     "name": "stdout",
     "output_type": "stream",
     "text": [
      "90410 18 7924 0.0\n",
      "90420 18 3239 1.0\n"
     ]
    },
    {
     "name": "stderr",
     "output_type": "stream",
     "text": [
      "/dados/anaconda3/lib/python3.7/site-packages/tbats/error/ExceptionHandler.py:13: ModelWarning: Optimization did not converge. Forecasts may be unstable.\n",
      "  warnings.warn(message, warning_type)\n"
     ]
    },
    {
     "name": "stdout",
     "output_type": "stream",
     "text": [
      "90430 18 15458 0.0\n",
      "90440 18 18025 0\n"
     ]
    },
    {
     "name": "stderr",
     "output_type": "stream",
     "text": [
      "/dados/anaconda3/lib/python3.7/site-packages/tbats/error/ExceptionHandler.py:13: ModelWarning: Optimization did not converge. Forecasts may be unstable.\n",
      "  warnings.warn(message, warning_type)\n"
     ]
    },
    {
     "name": "stdout",
     "output_type": "stream",
     "text": [
      "90450 18 15031 0.0\n",
      "90460 18 14984 0\n"
     ]
    },
    {
     "name": "stderr",
     "output_type": "stream",
     "text": [
      "/dados/anaconda3/lib/python3.7/site-packages/tbats/error/ExceptionHandler.py:13: ModelWarning: Optimization did not converge. Forecasts may be unstable.\n",
      "  warnings.warn(message, warning_type)\n"
     ]
    },
    {
     "name": "stdout",
     "output_type": "stream",
     "text": [
      "90470 18 1254 0\n",
      "90480 18 18968 0.0\n"
     ]
    },
    {
     "name": "stderr",
     "output_type": "stream",
     "text": [
      "/dados/anaconda3/lib/python3.7/site-packages/tbats/error/ExceptionHandler.py:13: ModelWarning: Optimization did not converge. Forecasts may be unstable.\n",
      "  warnings.warn(message, warning_type)\n",
      "/dados/anaconda3/lib/python3.7/site-packages/tbats/error/ExceptionHandler.py:13: ModelWarning: Optimization did not converge. Forecasts may be unstable.\n",
      "  warnings.warn(message, warning_type)\n"
     ]
    },
    {
     "name": "stdout",
     "output_type": "stream",
     "text": [
      "90490 18 21139 0\n",
      "90500 18 3273 0\n",
      "90510 18 13407 0\n",
      "90520 18 21692 0\n",
      "90530 18 19127 0.0\n",
      "90540 18 16953 0.0\n",
      "90550 18 21400 3.0\n"
     ]
    },
    {
     "name": "stderr",
     "output_type": "stream",
     "text": [
      "/dados/anaconda3/lib/python3.7/site-packages/tbats/error/ExceptionHandler.py:13: ModelWarning: Optimization did not converge. Forecasts may be unstable.\n",
      "  warnings.warn(message, warning_type)\n"
     ]
    },
    {
     "name": "stdout",
     "output_type": "stream",
     "text": [
      "90560 18 20334 0\n",
      "90570 18 13693 0\n"
     ]
    },
    {
     "name": "stderr",
     "output_type": "stream",
     "text": [
      "/dados/anaconda3/lib/python3.7/site-packages/tbats/error/ExceptionHandler.py:13: ModelWarning: Optimization did not converge. Forecasts may be unstable.\n",
      "  warnings.warn(message, warning_type)\n"
     ]
    },
    {
     "name": "stdout",
     "output_type": "stream",
     "text": [
      "90580 18 12474 0\n",
      "90590 18 8468 0\n",
      "90600 18 11302 0\n",
      "90610 18 448 0\n"
     ]
    },
    {
     "name": "stderr",
     "output_type": "stream",
     "text": [
      "/dados/anaconda3/lib/python3.7/site-packages/tbats/error/ExceptionHandler.py:13: ModelWarning: Optimization did not converge. Forecasts may be unstable.\n",
      "  warnings.warn(message, warning_type)\n"
     ]
    },
    {
     "name": "stdout",
     "output_type": "stream",
     "text": [
      "90620 18 5272 0.0\n"
     ]
    },
    {
     "name": "stderr",
     "output_type": "stream",
     "text": [
      "/dados/anaconda3/lib/python3.7/site-packages/tbats/error/ExceptionHandler.py:13: ModelWarning: Optimization did not converge. Forecasts may be unstable.\n",
      "  warnings.warn(message, warning_type)\n"
     ]
    },
    {
     "name": "stdout",
     "output_type": "stream",
     "text": [
      "90630 18 6028 0.0\n",
      "90640 18 8855 0.0\n"
     ]
    },
    {
     "name": "stderr",
     "output_type": "stream",
     "text": [
      "/dados/anaconda3/lib/python3.7/site-packages/tbats/error/ExceptionHandler.py:13: ModelWarning: Optimization did not converge. Forecasts may be unstable.\n",
      "  warnings.warn(message, warning_type)\n"
     ]
    },
    {
     "name": "stdout",
     "output_type": "stream",
     "text": [
      "90650 18 2540 0.0\n",
      "90660 18 18315 0.0\n",
      "90670 18 2191 0\n",
      "90680 18 3333 0.0\n"
     ]
    },
    {
     "name": "stderr",
     "output_type": "stream",
     "text": [
      "/dados/anaconda3/lib/python3.7/site-packages/tbats/error/ExceptionHandler.py:13: ModelWarning: Optimization did not converge. Forecasts may be unstable.\n",
      "  warnings.warn(message, warning_type)\n"
     ]
    },
    {
     "name": "stdout",
     "output_type": "stream",
     "text": [
      "90690 18 20879 0\n",
      "90700 18 14760 0\n",
      "90710 18 4637 0.0\n"
     ]
    },
    {
     "name": "stderr",
     "output_type": "stream",
     "text": [
      "/dados/anaconda3/lib/python3.7/site-packages/tbats/error/ExceptionHandler.py:13: ModelWarning: Optimization did not converge. Forecasts may be unstable.\n",
      "  warnings.warn(message, warning_type)\n"
     ]
    },
    {
     "name": "stdout",
     "output_type": "stream",
     "text": [
      "90720 18 13494 2.0\n",
      "90730 18 16032 0.0\n",
      "90740 18 2523 0.0\n",
      "90750 18 5540 0.0\n",
      "90760 18 1453 0.0\n",
      "90770 18 11011 2.0\n",
      "90780 18 3548 0.0\n",
      "90790 18 6307 0.0\n",
      "90800 18 20196 0\n"
     ]
    },
    {
     "name": "stderr",
     "output_type": "stream",
     "text": [
      "/dados/anaconda3/lib/python3.7/site-packages/tbats/error/ExceptionHandler.py:13: ModelWarning: Optimization did not converge. Forecasts may be unstable.\n",
      "  warnings.warn(message, warning_type)\n"
     ]
    },
    {
     "name": "stdout",
     "output_type": "stream",
     "text": [
      "90810 18 19751 0.0\n",
      "90820 18 18457 0\n",
      "90830 18 18208 0\n"
     ]
    },
    {
     "name": "stderr",
     "output_type": "stream",
     "text": [
      "/dados/anaconda3/lib/python3.7/site-packages/tbats/error/ExceptionHandler.py:13: ModelWarning: Optimization did not converge. Forecasts may be unstable.\n",
      "  warnings.warn(message, warning_type)\n"
     ]
    },
    {
     "name": "stdout",
     "output_type": "stream",
     "text": [
      "90840 18 22013 0\n",
      "90850 18 20653 0.0\n",
      "90860 18 21053 0\n",
      "90870 18 11516 0\n",
      "90880 18 18481 0.0\n",
      "90890 18 15222 0\n",
      "90900 18 13327 0\n",
      "90910 18 18031 0.0\n",
      "90920 18 20821 0\n",
      "90930 18 18939 0\n",
      "90940 18 12208 0.0\n",
      "90950 18 15654 0.0\n",
      "90960 18 16028 0.0\n",
      "90970 18 20516 0.0\n",
      "90980 18 6400 0.0\n",
      "90990 18 16166 0\n",
      "91000 18 9534 0\n",
      "91010 18 10581 0\n",
      "91020 18 9111 0\n",
      "91030 18 13099 0\n",
      "91040 18 11874 0\n",
      "91050 18 12192 0\n",
      "91060 18 6430 0\n",
      "91070 18 5761 0\n",
      "91080 18 4903 0\n",
      "91090 18 5382 0\n",
      "91100 18 7817 0\n",
      "91110 18 6959 0\n",
      "91120 18 7057 0\n",
      "91130 18 21978 0\n",
      "91140 18 19347 0\n",
      "91150 18 20012 0\n",
      "91160 18 13732 0\n",
      "91170 18 14934 0\n",
      "91180 18 13341 0\n",
      "91190 18 16396 0\n",
      "91200 18 16813 0\n",
      "91210 18 15988 0\n",
      "91220 18 16272 0\n",
      "91230 18 504 0\n",
      "91240 18 688 0\n",
      "91250 18 616 0\n",
      "91260 18 204 0\n",
      "91270 18 1394 0\n",
      "91280 18 924 0\n",
      "91290 18 1506 0\n",
      "91300 18 849 0\n",
      "91310 18 20361 1.0\n",
      "91320 18 3715 0\n",
      "91330 18 3411 0\n",
      "91340 18 4765 0\n",
      "91350 18 4260 0\n",
      "91360 18 4144 0\n",
      "91370 18 4203 0\n",
      "91380 18 1794 0\n",
      "91390 18 2338 0\n",
      "91400 18 1792 0\n",
      "91410 18 2856 0\n",
      "91420 18 2434 0\n",
      "91430 18 3136 0\n",
      "91440 18 1018 0.0\n",
      "91450 18 19258 0\n",
      "91460 18 4736 0.0\n"
     ]
    },
    {
     "name": "stderr",
     "output_type": "stream",
     "text": [
      "/dados/anaconda3/lib/python3.7/site-packages/tbats/error/ExceptionHandler.py:13: ModelWarning: Optimization did not converge. Forecasts may be unstable.\n",
      "  warnings.warn(message, warning_type)\n"
     ]
    },
    {
     "name": "stdout",
     "output_type": "stream",
     "text": [
      "91470 18 5363 0.0\n",
      "91480 18 17390 0\n",
      "91490 18 11682 0\n",
      "91500 18 15735 0.0\n",
      "91510 18 14899 0.0\n",
      "91520 18 20212 0.0\n"
     ]
    },
    {
     "name": "stderr",
     "output_type": "stream",
     "text": [
      "/dados/anaconda3/lib/python3.7/site-packages/tbats/error/ExceptionHandler.py:13: ModelWarning: Optimization did not converge. Forecasts may be unstable.\n",
      "  warnings.warn(message, warning_type)\n"
     ]
    },
    {
     "name": "stdout",
     "output_type": "stream",
     "text": [
      "91530 18 5899 0.0\n"
     ]
    },
    {
     "name": "stderr",
     "output_type": "stream",
     "text": [
      "/dados/anaconda3/lib/python3.7/site-packages/tbats/error/ExceptionHandler.py:13: ModelWarning: Optimization did not converge. Forecasts may be unstable.\n",
      "  warnings.warn(message, warning_type)\n"
     ]
    },
    {
     "name": "stdout",
     "output_type": "stream",
     "text": [
      "91540 18 18476 0.0\n",
      "91550 18 6835 0.0\n",
      "91560 18 15405 0\n",
      "91570 18 17756 0\n",
      "91580 18 18500 0.0\n",
      "91590 18 16231 0\n",
      "91600 18 17015 0\n"
     ]
    },
    {
     "name": "stderr",
     "output_type": "stream",
     "text": [
      "/dados/anaconda3/lib/python3.7/site-packages/tbats/error/ExceptionHandler.py:13: ModelWarning: Optimization did not converge. Forecasts may be unstable.\n",
      "  warnings.warn(message, warning_type)\n"
     ]
    },
    {
     "name": "stdout",
     "output_type": "stream",
     "text": [
      "91610 18 13133 0\n"
     ]
    },
    {
     "name": "stderr",
     "output_type": "stream",
     "text": [
      "/dados/anaconda3/lib/python3.7/site-packages/tbats/error/ExceptionHandler.py:13: ModelWarning: Optimization did not converge. Forecasts may be unstable.\n",
      "  warnings.warn(message, warning_type)\n"
     ]
    },
    {
     "name": "stdout",
     "output_type": "stream",
     "text": [
      "91620 18 14222 0.0\n",
      "91630 18 13812 0\n",
      "91640 18 5010 1.0\n",
      "91650 18 21210 0\n",
      "91660 18 20916 0\n",
      "91670 18 21664 0\n",
      "91680 18 3232 0\n",
      "91690 18 3547 0\n",
      "91700 18 18707 0\n",
      "91710 18 11674 0\n",
      "91720 18 16057 1.0\n",
      "91730 18 15033 0\n",
      "91740 18 10508 1.0\n",
      "91750 18 7572 0\n",
      "91760 18 6882 0.0\n",
      "91770 18 14543 0.0\n",
      "91780 18 19889 0.0\n",
      "91790 18 3280 0.0\n",
      "91800 14 5037 2.0\n"
     ]
    },
    {
     "name": "stderr",
     "output_type": "stream",
     "text": [
      "/dados/anaconda3/lib/python3.7/site-packages/tbats/error/ExceptionHandler.py:13: ModelWarning: Optimization did not converge. Forecasts may be unstable.\n",
      "  warnings.warn(message, warning_type)\n"
     ]
    },
    {
     "name": "stdout",
     "output_type": "stream",
     "text": [
      "91810 14 4806 5.0\n"
     ]
    },
    {
     "name": "stderr",
     "output_type": "stream",
     "text": [
      "/dados/anaconda3/lib/python3.7/site-packages/tbats/error/ExceptionHandler.py:13: ModelWarning: Optimization did not converge. Forecasts may be unstable.\n",
      "  warnings.warn(message, warning_type)\n"
     ]
    },
    {
     "name": "stdout",
     "output_type": "stream",
     "text": [
      "91820 14 4717 1.0\n",
      "91830 14 5666 6.0\n",
      "91840 14 5840 0\n",
      "91850 14 5838 0.0\n",
      "91860 14 3352 0\n"
     ]
    },
    {
     "name": "stderr",
     "output_type": "stream",
     "text": [
      "/dados/anaconda3/lib/python3.7/site-packages/tbats/error/ExceptionHandler.py:13: ModelWarning: Optimization did not converge. Forecasts may be unstable.\n",
      "  warnings.warn(message, warning_type)\n"
     ]
    },
    {
     "name": "stdout",
     "output_type": "stream",
     "text": [
      "91870 14 3604 0\n",
      "91880 14 3443 3.0\n",
      "91890 14 4365 0.0\n",
      "91900 14 3733 0.0\n",
      "91910 14 4052 2.0\n"
     ]
    },
    {
     "name": "stderr",
     "output_type": "stream",
     "text": [
      "/dados/anaconda3/lib/python3.7/site-packages/tbats/error/ExceptionHandler.py:13: ModelWarning: Optimization did not converge. Forecasts may be unstable.\n",
      "  warnings.warn(message, warning_type)\n"
     ]
    },
    {
     "name": "stdout",
     "output_type": "stream",
     "text": [
      "91920 14 9395 0.0\n",
      "91930 14 9469 0\n"
     ]
    },
    {
     "name": "stderr",
     "output_type": "stream",
     "text": [
      "/dados/anaconda3/lib/python3.7/site-packages/tbats/error/ExceptionHandler.py:13: ModelWarning: Optimization did not converge. Forecasts may be unstable.\n",
      "  warnings.warn(message, warning_type)\n"
     ]
    },
    {
     "name": "stdout",
     "output_type": "stream",
     "text": [
      "91940 14 8653 0.0\n",
      "91950 14 9001 0.0\n",
      "91960 14 10447 0\n",
      "91970 14 10327 0.0\n"
     ]
    },
    {
     "name": "stderr",
     "output_type": "stream",
     "text": [
      "/dados/anaconda3/lib/python3.7/site-packages/tbats/error/ExceptionHandler.py:13: ModelWarning: Optimization did not converge. Forecasts may be unstable.\n",
      "  warnings.warn(message, warning_type)\n",
      "/dados/anaconda3/lib/python3.7/site-packages/tbats/error/ExceptionHandler.py:13: ModelWarning: Optimization did not converge. Forecasts may be unstable.\n",
      "  warnings.warn(message, warning_type)\n"
     ]
    },
    {
     "name": "stdout",
     "output_type": "stream",
     "text": [
      "91980 14 9927 0\n",
      "91990 14 6506 0\n"
     ]
    },
    {
     "name": "stderr",
     "output_type": "stream",
     "text": [
      "/dados/anaconda3/lib/python3.7/site-packages/tbats/error/ExceptionHandler.py:13: ModelWarning: Optimization did not converge. Forecasts may be unstable.\n",
      "  warnings.warn(message, warning_type)\n"
     ]
    },
    {
     "name": "stdout",
     "output_type": "stream",
     "text": [
      "92000 14 6731 0\n",
      "92010 14 6396 0.0\n",
      "92020 14 6064 1.0\n",
      "92030 14 7862 0\n"
     ]
    },
    {
     "name": "stderr",
     "output_type": "stream",
     "text": [
      "/dados/anaconda3/lib/python3.7/site-packages/tbats/error/ExceptionHandler.py:13: ModelWarning: Optimization did not converge. Forecasts may be unstable.\n",
      "  warnings.warn(message, warning_type)\n",
      "/dados/anaconda3/lib/python3.7/site-packages/tbats/error/ExceptionHandler.py:13: ModelWarning: Optimization did not converge. Forecasts may be unstable.\n",
      "  warnings.warn(message, warning_type)\n"
     ]
    },
    {
     "name": "stdout",
     "output_type": "stream",
     "text": [
      "92040 14 7328 2.0\n",
      "92050 14 7029 0\n"
     ]
    },
    {
     "name": "stderr",
     "output_type": "stream",
     "text": [
      "/dados/anaconda3/lib/python3.7/site-packages/tbats/error/ExceptionHandler.py:13: ModelWarning: Optimization did not converge. Forecasts may be unstable.\n",
      "  warnings.warn(message, warning_type)\n"
     ]
    },
    {
     "name": "stdout",
     "output_type": "stream",
     "text": [
      "92060 14 15777 0.0\n",
      "92070 14 16843 0\n",
      "92080 14 15496 0\n"
     ]
    },
    {
     "name": "stderr",
     "output_type": "stream",
     "text": [
      "/dados/anaconda3/lib/python3.7/site-packages/tbats/error/ExceptionHandler.py:13: ModelWarning: Optimization did not converge. Forecasts may be unstable.\n",
      "  warnings.warn(message, warning_type)\n",
      "/dados/anaconda3/lib/python3.7/site-packages/tbats/error/ExceptionHandler.py:13: ModelWarning: Optimization did not converge. Forecasts may be unstable.\n",
      "  warnings.warn(message, warning_type)\n"
     ]
    },
    {
     "name": "stdout",
     "output_type": "stream",
     "text": [
      "92090 14 16103 0\n",
      "92100 14 18825 0.0\n",
      "92110 14 19656 0\n",
      "92120 14 18397 0\n"
     ]
    },
    {
     "name": "stderr",
     "output_type": "stream",
     "text": [
      "/dados/anaconda3/lib/python3.7/site-packages/tbats/error/ExceptionHandler.py:13: ModelWarning: Optimization did not converge. Forecasts may be unstable.\n",
      "  warnings.warn(message, warning_type)\n"
     ]
    },
    {
     "name": "stdout",
     "output_type": "stream",
     "text": [
      "92130 14 15338 0\n",
      "92140 14 13023 0.0\n",
      "92150 14 13415 0\n",
      "92160 14 13464 0\n",
      "92170 14 14832 0\n",
      "92180 14 15069 0\n"
     ]
    },
    {
     "name": "stderr",
     "output_type": "stream",
     "text": [
      "/dados/anaconda3/lib/python3.7/site-packages/tbats/error/ExceptionHandler.py:13: ModelWarning: Optimization did not converge. Forecasts may be unstable.\n",
      "  warnings.warn(message, warning_type)\n"
     ]
    },
    {
     "name": "stdout",
     "output_type": "stream",
     "text": [
      "92190 14 15037 0\n",
      "92200 14 2131 0\n"
     ]
    },
    {
     "name": "stderr",
     "output_type": "stream",
     "text": [
      "/dados/anaconda3/lib/python3.7/site-packages/tbats/error/ExceptionHandler.py:13: ModelWarning: Optimization did not converge. Forecasts may be unstable.\n",
      "  warnings.warn(message, warning_type)\n",
      "/dados/anaconda3/lib/python3.7/site-packages/tbats/error/ExceptionHandler.py:13: ModelWarning: Optimization did not converge. Forecasts may be unstable.\n",
      "  warnings.warn(message, warning_type)\n"
     ]
    },
    {
     "name": "stdout",
     "output_type": "stream",
     "text": [
      "92210 14 1732 0\n"
     ]
    },
    {
     "name": "stderr",
     "output_type": "stream",
     "text": [
      "/dados/anaconda3/lib/python3.7/site-packages/tbats/error/ExceptionHandler.py:13: ModelWarning: Optimization did not converge. Forecasts may be unstable.\n",
      "  warnings.warn(message, warning_type)\n",
      "/dados/anaconda3/lib/python3.7/site-packages/tbats/error/ExceptionHandler.py:13: ModelWarning: Optimization did not converge. Forecasts may be unstable.\n",
      "  warnings.warn(message, warning_type)\n"
     ]
    },
    {
     "name": "stdout",
     "output_type": "stream",
     "text": [
      "92220 14 2574 1.0\n",
      "92230 14 3076 1.0\n"
     ]
    },
    {
     "name": "stderr",
     "output_type": "stream",
     "text": [
      "/dados/anaconda3/lib/python3.7/site-packages/tbats/error/ExceptionHandler.py:13: ModelWarning: Optimization did not converge. Forecasts may be unstable.\n",
      "  warnings.warn(message, warning_type)\n"
     ]
    },
    {
     "name": "stdout",
     "output_type": "stream",
     "text": [
      "92240 14 2779 0.0\n",
      "92250 14 2873 0.0\n"
     ]
    },
    {
     "name": "stderr",
     "output_type": "stream",
     "text": [
      "/dados/anaconda3/lib/python3.7/site-packages/tbats/error/ExceptionHandler.py:13: ModelWarning: Optimization did not converge. Forecasts may be unstable.\n",
      "  warnings.warn(message, warning_type)\n"
     ]
    },
    {
     "name": "stdout",
     "output_type": "stream",
     "text": [
      "92260 14 20949 20.0\n",
      "92270 14 21937 0\n",
      "92280 14 20400 0\n"
     ]
    },
    {
     "name": "stderr",
     "output_type": "stream",
     "text": [
      "/dados/anaconda3/lib/python3.7/site-packages/tbats/error/ExceptionHandler.py:13: ModelWarning: Optimization did not converge. Forecasts may be unstable.\n",
      "  warnings.warn(message, warning_type)\n"
     ]
    },
    {
     "name": "stdout",
     "output_type": "stream",
     "text": [
      "92290 14 20616 0\n",
      "92300 14 1585 0\n"
     ]
    },
    {
     "name": "stderr",
     "output_type": "stream",
     "text": [
      "/dados/anaconda3/lib/python3.7/site-packages/tbats/error/ExceptionHandler.py:13: ModelWarning: Optimization did not converge. Forecasts may be unstable.\n",
      "  warnings.warn(message, warning_type)\n",
      "/dados/anaconda3/lib/python3.7/site-packages/tbats/error/ExceptionHandler.py:13: ModelWarning: Optimization did not converge. Forecasts may be unstable.\n",
      "  warnings.warn(message, warning_type)\n"
     ]
    },
    {
     "name": "stdout",
     "output_type": "stream",
     "text": [
      "92310 14 982 0.0\n",
      "92320 14 1486 0.0\n",
      "92330 14 2328 0\n",
      "92340 14 2293 0.0\n"
     ]
    },
    {
     "name": "stderr",
     "output_type": "stream",
     "text": [
      "/dados/anaconda3/lib/python3.7/site-packages/tbats/error/ExceptionHandler.py:13: ModelWarning: Optimization did not converge. Forecasts may be unstable.\n",
      "  warnings.warn(message, warning_type)\n",
      "/dados/anaconda3/lib/python3.7/site-packages/tbats/error/ExceptionHandler.py:13: ModelWarning: Optimization did not converge. Forecasts may be unstable.\n",
      "  warnings.warn(message, warning_type)\n",
      "/dados/anaconda3/lib/python3.7/site-packages/tbats/error/ExceptionHandler.py:13: ModelWarning: Optimization did not converge. Forecasts may be unstable.\n",
      "  warnings.warn(message, warning_type)\n"
     ]
    },
    {
     "name": "stdout",
     "output_type": "stream",
     "text": [
      "92350 14 3022 0\n",
      "92360 14 2743 1.0\n",
      "92370 14 1963 0\n",
      "92380 14 1295 0\n",
      "92390 14 22100 0\n",
      "92400 14 482 0.0\n",
      "92410 14 1877 0.0\n"
     ]
    },
    {
     "name": "stderr",
     "output_type": "stream",
     "text": [
      "/dados/anaconda3/lib/python3.7/site-packages/tbats/error/ExceptionHandler.py:13: ModelWarning: Optimization did not converge. Forecasts may be unstable.\n",
      "  warnings.warn(message, warning_type)\n",
      "/dados/anaconda3/lib/python3.7/site-packages/tbats/error/ExceptionHandler.py:13: ModelWarning: Optimization did not converge. Forecasts may be unstable.\n",
      "  warnings.warn(message, warning_type)\n"
     ]
    },
    {
     "name": "stdout",
     "output_type": "stream",
     "text": [
      "92420 14 1570 3.0\n"
     ]
    },
    {
     "name": "stderr",
     "output_type": "stream",
     "text": [
      "/dados/anaconda3/lib/python3.7/site-packages/tbats/error/ExceptionHandler.py:13: ModelWarning: Optimization did not converge. Forecasts may be unstable.\n",
      "  warnings.warn(message, warning_type)\n"
     ]
    },
    {
     "name": "stdout",
     "output_type": "stream",
     "text": [
      "92430 14 4003 0.0\n",
      "92440 14 3851 1.0\n"
     ]
    },
    {
     "name": "stderr",
     "output_type": "stream",
     "text": [
      "/dados/anaconda3/lib/python3.7/site-packages/tbats/error/ExceptionHandler.py:13: ModelWarning: Optimization did not converge. Forecasts may be unstable.\n",
      "  warnings.warn(message, warning_type)\n"
     ]
    },
    {
     "name": "stdout",
     "output_type": "stream",
     "text": [
      "92450 14 4420 0.0\n"
     ]
    },
    {
     "name": "stderr",
     "output_type": "stream",
     "text": [
      "/dados/anaconda3/lib/python3.7/site-packages/tbats/error/ExceptionHandler.py:13: ModelWarning: Optimization did not converge. Forecasts may be unstable.\n",
      "  warnings.warn(message, warning_type)\n"
     ]
    },
    {
     "name": "stdout",
     "output_type": "stream",
     "text": [
      "92460 14 4085 0.0\n"
     ]
    },
    {
     "name": "stderr",
     "output_type": "stream",
     "text": [
      "/dados/anaconda3/lib/python3.7/site-packages/tbats/error/ExceptionHandler.py:13: ModelWarning: Optimization did not converge. Forecasts may be unstable.\n",
      "  warnings.warn(message, warning_type)\n"
     ]
    },
    {
     "name": "stdout",
     "output_type": "stream",
     "text": [
      "92470 14 3528 0.0\n",
      "92480 14 3459 0\n"
     ]
    },
    {
     "name": "stderr",
     "output_type": "stream",
     "text": [
      "/dados/anaconda3/lib/python3.7/site-packages/tbats/error/ExceptionHandler.py:13: ModelWarning: Optimization did not converge. Forecasts may be unstable.\n",
      "  warnings.warn(message, warning_type)\n"
     ]
    },
    {
     "name": "stdout",
     "output_type": "stream",
     "text": [
      "92490 14 12771 0.0\n",
      "92500 14 13334 0\n",
      "92510 14 15047 0\n",
      "92520 14 13818 0\n",
      "92530 14 12549 0.0\n",
      "92540 14 12698 0\n"
     ]
    },
    {
     "name": "stderr",
     "output_type": "stream",
     "text": [
      "/dados/anaconda3/lib/python3.7/site-packages/tbats/error/ExceptionHandler.py:13: ModelWarning: Optimization did not converge. Forecasts may be unstable.\n",
      "  warnings.warn(message, warning_type)\n"
     ]
    },
    {
     "name": "stdout",
     "output_type": "stream",
     "text": [
      "92550 14 12360 0.0\n",
      "92560 14 11811 2.0\n",
      "92570 14 12023 0\n",
      "92580 14 13275 0\n",
      "92590 14 13303 0\n",
      "92600 14 13226 0\n",
      "92610 14 20609 2.0\n",
      "92620 14 19430 0.0\n",
      "92630 14 21942 0\n",
      "92640 14 18201 0.0\n",
      "92650 14 16122 0.0\n",
      "92660 14 14668 0.0\n",
      "92670 14 15323 1.0\n"
     ]
    },
    {
     "name": "stderr",
     "output_type": "stream",
     "text": [
      "/dados/anaconda3/lib/python3.7/site-packages/tbats/error/ExceptionHandler.py:13: ModelWarning: Optimization did not converge. Forecasts may be unstable.\n",
      "  warnings.warn(message, warning_type)\n",
      "/dados/anaconda3/lib/python3.7/site-packages/tbats/error/ExceptionHandler.py:13: ModelWarning: Optimization did not converge. Forecasts may be unstable.\n",
      "  warnings.warn(message, warning_type)\n",
      "/dados/anaconda3/lib/python3.7/site-packages/tbats/error/ExceptionHandler.py:13: ModelWarning: Optimization did not converge. Forecasts may be unstable.\n",
      "  warnings.warn(message, warning_type)\n"
     ]
    },
    {
     "name": "stdout",
     "output_type": "stream",
     "text": [
      "92680 14 17481 0.0\n",
      "92690 14 16541 0.0\n",
      "92700 14 1239 0.0\n"
     ]
    },
    {
     "name": "stderr",
     "output_type": "stream",
     "text": [
      "/dados/anaconda3/lib/python3.7/site-packages/tbats/error/ExceptionHandler.py:13: ModelWarning: Optimization did not converge. Forecasts may be unstable.\n",
      "  warnings.warn(message, warning_type)\n"
     ]
    },
    {
     "name": "stdout",
     "output_type": "stream",
     "text": [
      "92710 14 20631 1.0\n"
     ]
    },
    {
     "name": "stderr",
     "output_type": "stream",
     "text": [
      "/dados/anaconda3/lib/python3.7/site-packages/tbats/error/ExceptionHandler.py:13: ModelWarning: Optimization did not converge. Forecasts may be unstable.\n",
      "  warnings.warn(message, warning_type)\n"
     ]
    },
    {
     "name": "stdout",
     "output_type": "stream",
     "text": [
      "92720 14 2787 0\n",
      "92730 14 15282 2.0\n",
      "92740 14 16145 0\n",
      "92750 14 19125 0\n",
      "92760 14 17032 0\n"
     ]
    },
    {
     "name": "stderr",
     "output_type": "stream",
     "text": [
      "/dados/anaconda3/lib/python3.7/site-packages/tbats/error/ExceptionHandler.py:13: ModelWarning: Optimization did not converge. Forecasts may be unstable.\n",
      "  warnings.warn(message, warning_type)\n"
     ]
    },
    {
     "name": "stdout",
     "output_type": "stream",
     "text": [
      "92770 14 5383 0\n"
     ]
    },
    {
     "name": "stderr",
     "output_type": "stream",
     "text": [
      "/dados/anaconda3/lib/python3.7/site-packages/tbats/error/ExceptionHandler.py:13: ModelWarning: Optimization did not converge. Forecasts may be unstable.\n",
      "  warnings.warn(message, warning_type)\n"
     ]
    },
    {
     "name": "stdout",
     "output_type": "stream",
     "text": [
      "92780 14 4895 1.0\n",
      "92790 14 6505 0\n"
     ]
    },
    {
     "name": "stderr",
     "output_type": "stream",
     "text": [
      "/dados/anaconda3/lib/python3.7/site-packages/tbats/error/ExceptionHandler.py:13: ModelWarning: Optimization did not converge. Forecasts may be unstable.\n",
      "  warnings.warn(message, warning_type)\n"
     ]
    },
    {
     "name": "stdout",
     "output_type": "stream",
     "text": [
      "92800 14 6082 0.0\n"
     ]
    },
    {
     "name": "stderr",
     "output_type": "stream",
     "text": [
      "/dados/anaconda3/lib/python3.7/site-packages/tbats/error/ExceptionHandler.py:13: ModelWarning: Optimization did not converge. Forecasts may be unstable.\n",
      "  warnings.warn(message, warning_type)\n",
      "/dados/anaconda3/lib/python3.7/site-packages/tbats/error/ExceptionHandler.py:13: ModelWarning: Optimization did not converge. Forecasts may be unstable.\n",
      "  warnings.warn(message, warning_type)\n"
     ]
    },
    {
     "name": "stdout",
     "output_type": "stream",
     "text": [
      "92810 14 3822 0.0\n"
     ]
    },
    {
     "name": "stderr",
     "output_type": "stream",
     "text": [
      "/dados/anaconda3/lib/python3.7/site-packages/tbats/error/ExceptionHandler.py:13: ModelWarning: Optimization did not converge. Forecasts may be unstable.\n",
      "  warnings.warn(message, warning_type)\n"
     ]
    },
    {
     "name": "stdout",
     "output_type": "stream",
     "text": [
      "92820 14 6129 0\n"
     ]
    },
    {
     "name": "stderr",
     "output_type": "stream",
     "text": [
      "/dados/anaconda3/lib/python3.7/site-packages/tbats/error/ExceptionHandler.py:13: ModelWarning: Optimization did not converge. Forecasts may be unstable.\n",
      "  warnings.warn(message, warning_type)\n"
     ]
    },
    {
     "name": "stdout",
     "output_type": "stream",
     "text": [
      "92830 14 3833 0.0\n",
      "92840 14 3871 0.0\n",
      "92850 14 13285 0.0\n",
      "92860 14 11938 0.0\n"
     ]
    },
    {
     "name": "stderr",
     "output_type": "stream",
     "text": [
      "/dados/anaconda3/lib/python3.7/site-packages/tbats/error/ExceptionHandler.py:13: ModelWarning: Optimization did not converge. Forecasts may be unstable.\n",
      "  warnings.warn(message, warning_type)\n"
     ]
    },
    {
     "name": "stdout",
     "output_type": "stream",
     "text": [
      "92870 14 14457 0.0\n"
     ]
    },
    {
     "name": "stderr",
     "output_type": "stream",
     "text": [
      "/dados/anaconda3/lib/python3.7/site-packages/tbats/error/ExceptionHandler.py:13: ModelWarning: Optimization did not converge. Forecasts may be unstable.\n",
      "  warnings.warn(message, warning_type)\n"
     ]
    },
    {
     "name": "stdout",
     "output_type": "stream",
     "text": [
      "92880 14 7982 1.0\n"
     ]
    },
    {
     "name": "stderr",
     "output_type": "stream",
     "text": [
      "/dados/anaconda3/lib/python3.7/site-packages/tbats/error/ExceptionHandler.py:13: ModelWarning: Optimization did not converge. Forecasts may be unstable.\n",
      "  warnings.warn(message, warning_type)\n",
      "/dados/anaconda3/lib/python3.7/site-packages/tbats/error/ExceptionHandler.py:13: ModelWarning: Optimization did not converge. Forecasts may be unstable.\n",
      "  warnings.warn(message, warning_type)\n"
     ]
    },
    {
     "name": "stdout",
     "output_type": "stream",
     "text": [
      "92890 14 7224 0\n",
      "92900 14 10211 5.0\n",
      "92910 14 9404 0.0\n",
      "92920 14 4049 2.0\n"
     ]
    },
    {
     "name": "stderr",
     "output_type": "stream",
     "text": [
      "/dados/anaconda3/lib/python3.7/site-packages/tbats/error/ExceptionHandler.py:13: ModelWarning: Optimization did not converge. Forecasts may be unstable.\n",
      "  warnings.warn(message, warning_type)\n"
     ]
    },
    {
     "name": "stdout",
     "output_type": "stream",
     "text": [
      "92930 14 4999 0.0\n",
      "92940 14 3342 0.0\n",
      "92950 14 10190 0.0\n"
     ]
    },
    {
     "name": "stderr",
     "output_type": "stream",
     "text": [
      "/dados/anaconda3/lib/python3.7/site-packages/tbats/error/ExceptionHandler.py:13: ModelWarning: Optimization did not converge. Forecasts may be unstable.\n",
      "  warnings.warn(message, warning_type)\n"
     ]
    },
    {
     "name": "stdout",
     "output_type": "stream",
     "text": [
      "92960 14 9408 0\n",
      "92970 14 13237 0\n",
      "92980 14 10987 0.0\n"
     ]
    },
    {
     "name": "stderr",
     "output_type": "stream",
     "text": [
      "/dados/anaconda3/lib/python3.7/site-packages/tbats/error/ExceptionHandler.py:13: ModelWarning: Optimization did not converge. Forecasts may be unstable.\n",
      "  warnings.warn(message, warning_type)\n"
     ]
    },
    {
     "name": "stdout",
     "output_type": "stream",
     "text": [
      "92990 14 6625 0\n"
     ]
    },
    {
     "name": "stderr",
     "output_type": "stream",
     "text": [
      "/dados/anaconda3/lib/python3.7/site-packages/tbats/error/ExceptionHandler.py:13: ModelWarning: Optimization did not converge. Forecasts may be unstable.\n",
      "  warnings.warn(message, warning_type)\n"
     ]
    },
    {
     "name": "stdout",
     "output_type": "stream",
     "text": [
      "93000 14 6090 1.0\n",
      "93010 14 7019 0.0\n"
     ]
    },
    {
     "name": "stderr",
     "output_type": "stream",
     "text": [
      "/dados/anaconda3/lib/python3.7/site-packages/tbats/error/ExceptionHandler.py:13: ModelWarning: Optimization did not converge. Forecasts may be unstable.\n",
      "  warnings.warn(message, warning_type)\n",
      "/dados/anaconda3/lib/python3.7/site-packages/tbats/error/ExceptionHandler.py:13: ModelWarning: Optimization did not converge. Forecasts may be unstable.\n",
      "  warnings.warn(message, warning_type)\n",
      "/dados/anaconda3/lib/python3.7/site-packages/tbats/error/ExceptionHandler.py:13: ModelWarning: Optimization did not converge. Forecasts may be unstable.\n",
      "  warnings.warn(message, warning_type)\n"
     ]
    },
    {
     "name": "stdout",
     "output_type": "stream",
     "text": [
      "93020 14 12500 2.0\n",
      "93030 14 10448 0\n"
     ]
    },
    {
     "name": "stderr",
     "output_type": "stream",
     "text": [
      "/dados/anaconda3/lib/python3.7/site-packages/tbats/error/ExceptionHandler.py:13: ModelWarning: Optimization did not converge. Forecasts may be unstable.\n",
      "  warnings.warn(message, warning_type)\n"
     ]
    },
    {
     "name": "stdout",
     "output_type": "stream",
     "text": [
      "93040 14 12805 0.0\n"
     ]
    },
    {
     "name": "stderr",
     "output_type": "stream",
     "text": [
      "/dados/anaconda3/lib/python3.7/site-packages/tbats/error/ExceptionHandler.py:13: ModelWarning: Optimization did not converge. Forecasts may be unstable.\n",
      "  warnings.warn(message, warning_type)\n"
     ]
    },
    {
     "name": "stdout",
     "output_type": "stream",
     "text": [
      "93050 14 14247 0.0\n",
      "93060 14 7133 0\n",
      "93070 14 10292 0.0\n"
     ]
    },
    {
     "name": "stderr",
     "output_type": "stream",
     "text": [
      "/dados/anaconda3/lib/python3.7/site-packages/tbats/error/ExceptionHandler.py:13: ModelWarning: Optimization did not converge. Forecasts may be unstable.\n",
      "  warnings.warn(message, warning_type)\n"
     ]
    },
    {
     "name": "stdout",
     "output_type": "stream",
     "text": [
      "93080 14 1007 0.0\n",
      "93090 14 1717 0.0\n",
      "93100 14 14390 0.0\n",
      "93110 14 19908 0.0\n"
     ]
    },
    {
     "name": "stderr",
     "output_type": "stream",
     "text": [
      "/dados/anaconda3/lib/python3.7/site-packages/tbats/error/ExceptionHandler.py:13: ModelWarning: Optimization did not converge. Forecasts may be unstable.\n",
      "  warnings.warn(message, warning_type)\n"
     ]
    },
    {
     "name": "stdout",
     "output_type": "stream",
     "text": [
      "93120 14 17888 0\n",
      "93130 14 21722 0\n"
     ]
    },
    {
     "name": "stderr",
     "output_type": "stream",
     "text": [
      "/dados/anaconda3/lib/python3.7/site-packages/tbats/error/ExceptionHandler.py:13: ModelWarning: Optimization did not converge. Forecasts may be unstable.\n",
      "  warnings.warn(message, warning_type)\n"
     ]
    },
    {
     "name": "stdout",
     "output_type": "stream",
     "text": [
      "93140 14 940 0\n",
      "93150 14 18926 0\n"
     ]
    },
    {
     "name": "stderr",
     "output_type": "stream",
     "text": [
      "/dados/anaconda3/lib/python3.7/site-packages/tbats/error/ExceptionHandler.py:13: ModelWarning: Optimization did not converge. Forecasts may be unstable.\n",
      "  warnings.warn(message, warning_type)\n"
     ]
    },
    {
     "name": "stdout",
     "output_type": "stream",
     "text": [
      "93160 14 17772 0\n"
     ]
    },
    {
     "name": "stderr",
     "output_type": "stream",
     "text": [
      "/dados/anaconda3/lib/python3.7/site-packages/tbats/error/ExceptionHandler.py:13: ModelWarning: Optimization did not converge. Forecasts may be unstable.\n",
      "  warnings.warn(message, warning_type)\n"
     ]
    },
    {
     "name": "stdout",
     "output_type": "stream",
     "text": [
      "93170 14 19219 0\n"
     ]
    },
    {
     "name": "stderr",
     "output_type": "stream",
     "text": [
      "/dados/anaconda3/lib/python3.7/site-packages/tbats/error/ExceptionHandler.py:13: ModelWarning: Optimization did not converge. Forecasts may be unstable.\n",
      "  warnings.warn(message, warning_type)\n"
     ]
    },
    {
     "name": "stdout",
     "output_type": "stream",
     "text": [
      "93180 14 20225 0.0\n",
      "93190 14 5816 0.0\n"
     ]
    },
    {
     "name": "stderr",
     "output_type": "stream",
     "text": [
      "/dados/anaconda3/lib/python3.7/site-packages/tbats/error/ExceptionHandler.py:13: ModelWarning: Optimization did not converge. Forecasts may be unstable.\n",
      "  warnings.warn(message, warning_type)\n"
     ]
    },
    {
     "name": "stdout",
     "output_type": "stream",
     "text": [
      "93200 14 8868 0\n",
      "93210 14 17459 0\n",
      "93220 14 17420 0.0\n",
      "93230 14 10812 0\n",
      "93240 14 11771 0\n",
      "93250 14 10554 0\n",
      "93260 14 10378 0.0\n",
      "93270 14 16125 0.0\n"
     ]
    },
    {
     "name": "stderr",
     "output_type": "stream",
     "text": [
      "/dados/anaconda3/lib/python3.7/site-packages/tbats/error/ExceptionHandler.py:13: ModelWarning: Optimization did not converge. Forecasts may be unstable.\n",
      "  warnings.warn(message, warning_type)\n"
     ]
    },
    {
     "name": "stdout",
     "output_type": "stream",
     "text": [
      "93280 14 15300 0.0\n",
      "93290 14 17270 0.0\n",
      "93300 14 16735 0.0\n",
      "93310 14 13893 0\n",
      "93320 14 13633 0\n"
     ]
    },
    {
     "name": "stderr",
     "output_type": "stream",
     "text": [
      "/dados/anaconda3/lib/python3.7/site-packages/tbats/error/ExceptionHandler.py:13: ModelWarning: Optimization did not converge. Forecasts may be unstable.\n",
      "  warnings.warn(message, warning_type)\n"
     ]
    },
    {
     "name": "stdout",
     "output_type": "stream",
     "text": [
      "93330 14 14267 0\n",
      "93340 14 7592 0\n",
      "93350 14 8734 0\n",
      "93360 14 8986 0.0\n",
      "93370 14 8453 0\n",
      "93380 14 4141 0\n"
     ]
    },
    {
     "name": "stderr",
     "output_type": "stream",
     "text": [
      "/dados/anaconda3/lib/python3.7/site-packages/tbats/error/ExceptionHandler.py:13: ModelWarning: Optimization did not converge. Forecasts may be unstable.\n",
      "  warnings.warn(message, warning_type)\n"
     ]
    },
    {
     "name": "stdout",
     "output_type": "stream",
     "text": [
      "93390 14 6420 0\n",
      "93400 14 11266 0\n"
     ]
    },
    {
     "name": "stderr",
     "output_type": "stream",
     "text": [
      "/dados/anaconda3/lib/python3.7/site-packages/tbats/error/ExceptionHandler.py:13: ModelWarning: Optimization did not converge. Forecasts may be unstable.\n",
      "  warnings.warn(message, warning_type)\n",
      "/dados/anaconda3/lib/python3.7/site-packages/tbats/error/ExceptionHandler.py:13: ModelWarning: Optimization did not converge. Forecasts may be unstable.\n",
      "  warnings.warn(message, warning_type)\n"
     ]
    },
    {
     "name": "stdout",
     "output_type": "stream",
     "text": [
      "93410 14 13270 0\n"
     ]
    },
    {
     "name": "stderr",
     "output_type": "stream",
     "text": [
      "/dados/anaconda3/lib/python3.7/site-packages/tbats/error/ExceptionHandler.py:13: ModelWarning: Optimization did not converge. Forecasts may be unstable.\n",
      "  warnings.warn(message, warning_type)\n"
     ]
    },
    {
     "name": "stdout",
     "output_type": "stream",
     "text": [
      "93420 14 13100 0.0\n",
      "93430 14 10146 0.0\n",
      "93440 14 10425 0.0\n",
      "93450 14 11365 0\n"
     ]
    },
    {
     "name": "stderr",
     "output_type": "stream",
     "text": [
      "/dados/anaconda3/lib/python3.7/site-packages/tbats/error/ExceptionHandler.py:13: ModelWarning: Optimization did not converge. Forecasts may be unstable.\n",
      "  warnings.warn(message, warning_type)\n"
     ]
    },
    {
     "name": "stdout",
     "output_type": "stream",
     "text": [
      "93460 14 14848 0\n",
      "93470 14 21367 1.0\n",
      "93480 14 8077 0.0\n"
     ]
    },
    {
     "name": "stderr",
     "output_type": "stream",
     "text": [
      "/dados/anaconda3/lib/python3.7/site-packages/tbats/error/ExceptionHandler.py:13: ModelWarning: Optimization did not converge. Forecasts may be unstable.\n",
      "  warnings.warn(message, warning_type)\n"
     ]
    },
    {
     "name": "stdout",
     "output_type": "stream",
     "text": [
      "93490 14 12286 0.0\n"
     ]
    },
    {
     "name": "stderr",
     "output_type": "stream",
     "text": [
      "/dados/anaconda3/lib/python3.7/site-packages/tbats/error/ExceptionHandler.py:13: ModelWarning: Optimization did not converge. Forecasts may be unstable.\n",
      "  warnings.warn(message, warning_type)\n"
     ]
    },
    {
     "name": "stdout",
     "output_type": "stream",
     "text": [
      "93500 14 3028 6.0\n",
      "93510 14 3862 0.0\n",
      "93520 14 794 0\n",
      "93530 14 353 0\n",
      "93540 14 1074 0\n",
      "93550 14 13208 0\n",
      "93560 14 12501 1.0\n",
      "93570 14 10045 0\n"
     ]
    },
    {
     "name": "stderr",
     "output_type": "stream",
     "text": [
      "/dados/anaconda3/lib/python3.7/site-packages/tbats/error/ExceptionHandler.py:13: ModelWarning: Optimization did not converge. Forecasts may be unstable.\n",
      "  warnings.warn(message, warning_type)\n"
     ]
    },
    {
     "name": "stdout",
     "output_type": "stream",
     "text": [
      "93580 14 12090 0.0\n",
      "93590 14 11534 1.0\n",
      "93600 14 15512 0\n",
      "93610 14 15166 0\n",
      "93620 14 16534 0\n",
      "93630 14 16155 0\n",
      "93640 14 12830 0\n",
      "93650 14 14124 0\n",
      "93660 14 5945 0.0\n",
      "93670 14 6678 0\n",
      "93680 14 4944 0.0\n"
     ]
    },
    {
     "name": "stderr",
     "output_type": "stream",
     "text": [
      "/dados/anaconda3/lib/python3.7/site-packages/tbats/error/ExceptionHandler.py:13: ModelWarning: Optimization did not converge. Forecasts may be unstable.\n",
      "  warnings.warn(message, warning_type)\n"
     ]
    },
    {
     "name": "stdout",
     "output_type": "stream",
     "text": [
      "93690 14 5517 0\n"
     ]
    },
    {
     "name": "stderr",
     "output_type": "stream",
     "text": [
      "/dados/anaconda3/lib/python3.7/site-packages/tbats/error/ExceptionHandler.py:13: ModelWarning: Optimization did not converge. Forecasts may be unstable.\n",
      "  warnings.warn(message, warning_type)\n"
     ]
    },
    {
     "name": "stdout",
     "output_type": "stream",
     "text": [
      "93700 14 8398 0\n"
     ]
    },
    {
     "name": "stderr",
     "output_type": "stream",
     "text": [
      "/dados/anaconda3/lib/python3.7/site-packages/tbats/error/ExceptionHandler.py:13: ModelWarning: Optimization did not converge. Forecasts may be unstable.\n",
      "  warnings.warn(message, warning_type)\n",
      "/dados/anaconda3/lib/python3.7/site-packages/tbats/error/ExceptionHandler.py:13: ModelWarning: Optimization did not converge. Forecasts may be unstable.\n",
      "  warnings.warn(message, warning_type)\n"
     ]
    },
    {
     "name": "stdout",
     "output_type": "stream",
     "text": [
      "93710 14 7458 1.0\n",
      "93720 14 7882 0.0\n",
      "93730 14 7793 0.0\n",
      "93740 14 3477 0\n",
      "93750 14 8686 0.0\n"
     ]
    },
    {
     "name": "stderr",
     "output_type": "stream",
     "text": [
      "/dados/anaconda3/lib/python3.7/site-packages/tbats/error/ExceptionHandler.py:13: ModelWarning: Optimization did not converge. Forecasts may be unstable.\n",
      "  warnings.warn(message, warning_type)\n"
     ]
    },
    {
     "name": "stdout",
     "output_type": "stream",
     "text": [
      "93760 14 20560 0\n"
     ]
    },
    {
     "name": "stderr",
     "output_type": "stream",
     "text": [
      "/dados/anaconda3/lib/python3.7/site-packages/tbats/error/ExceptionHandler.py:13: ModelWarning: Optimization did not converge. Forecasts may be unstable.\n",
      "  warnings.warn(message, warning_type)\n"
     ]
    },
    {
     "name": "stdout",
     "output_type": "stream",
     "text": [
      "93770 14 19874 0\n",
      "93780 14 17869 0.0\n"
     ]
    },
    {
     "name": "stderr",
     "output_type": "stream",
     "text": [
      "/dados/anaconda3/lib/python3.7/site-packages/tbats/error/ExceptionHandler.py:13: ModelWarning: Optimization did not converge. Forecasts may be unstable.\n",
      "  warnings.warn(message, warning_type)\n"
     ]
    },
    {
     "name": "stdout",
     "output_type": "stream",
     "text": [
      "93790 14 21548 0\n",
      "93800 14 18255 0.0\n"
     ]
    },
    {
     "name": "stderr",
     "output_type": "stream",
     "text": [
      "/dados/anaconda3/lib/python3.7/site-packages/tbats/error/ExceptionHandler.py:13: ModelWarning: Optimization did not converge. Forecasts may be unstable.\n",
      "  warnings.warn(message, warning_type)\n",
      "/dados/anaconda3/lib/python3.7/site-packages/tbats/error/ExceptionHandler.py:13: ModelWarning: Optimization did not converge. Forecasts may be unstable.\n",
      "  warnings.warn(message, warning_type)\n"
     ]
    },
    {
     "name": "stdout",
     "output_type": "stream",
     "text": [
      "93810 14 2639 0.0\n",
      "93820 14 21827 0\n",
      "93830 14 1238 0\n",
      "93840 14 1247 0.0\n",
      "93850 14 269 0\n",
      "93860 14 687 0.0\n"
     ]
    },
    {
     "name": "stderr",
     "output_type": "stream",
     "text": [
      "/dados/anaconda3/lib/python3.7/site-packages/tbats/error/ExceptionHandler.py:13: ModelWarning: Optimization did not converge. Forecasts may be unstable.\n",
      "  warnings.warn(message, warning_type)\n"
     ]
    },
    {
     "name": "stdout",
     "output_type": "stream",
     "text": [
      "93870 14 93 0\n"
     ]
    },
    {
     "name": "stderr",
     "output_type": "stream",
     "text": [
      "/dados/anaconda3/lib/python3.7/site-packages/tbats/error/ExceptionHandler.py:13: ModelWarning: Optimization did not converge. Forecasts may be unstable.\n",
      "  warnings.warn(message, warning_type)\n"
     ]
    },
    {
     "name": "stdout",
     "output_type": "stream",
     "text": [
      "93880 14 20718 0\n",
      "93890 14 42 0\n",
      "93900 14 21842 0.0\n",
      "93910 14 2324 0\n",
      "93920 14 1663 0\n",
      "93930 14 3080 0\n",
      "93940 14 2886 0\n",
      "93950 14 13587 0\n",
      "93960 14 13691 0\n",
      "93970 14 15169 1.0\n",
      "93980 14 14973 0\n",
      "93990 14 13113 0\n",
      "94000 14 11711 0.0\n",
      "94010 14 13231 0\n",
      "94020 14 18677 0.0\n"
     ]
    },
    {
     "name": "stderr",
     "output_type": "stream",
     "text": [
      "/dados/anaconda3/lib/python3.7/site-packages/tbats/error/ExceptionHandler.py:13: ModelWarning: Optimization did not converge. Forecasts may be unstable.\n",
      "  warnings.warn(message, warning_type)\n"
     ]
    },
    {
     "name": "stdout",
     "output_type": "stream",
     "text": [
      "94030 14 18686 0\n",
      "94040 14 20374 0\n",
      "94050 14 20571 0\n",
      "94060 14 19621 0\n"
     ]
    },
    {
     "name": "stderr",
     "output_type": "stream",
     "text": [
      "/dados/anaconda3/lib/python3.7/site-packages/tbats/error/ExceptionHandler.py:13: ModelWarning: Optimization did not converge. Forecasts may be unstable.\n",
      "  warnings.warn(message, warning_type)\n",
      "/dados/anaconda3/lib/python3.7/site-packages/tbats/error/ExceptionHandler.py:13: ModelWarning: Optimization did not converge. Forecasts may be unstable.\n",
      "  warnings.warn(message, warning_type)\n"
     ]
    },
    {
     "name": "stdout",
     "output_type": "stream",
     "text": [
      "94070 14 16036 0\n",
      "94080 14 15276 0.0\n",
      "94090 14 16177 0\n"
     ]
    },
    {
     "name": "stderr",
     "output_type": "stream",
     "text": [
      "/dados/anaconda3/lib/python3.7/site-packages/tbats/error/ExceptionHandler.py:13: ModelWarning: Optimization did not converge. Forecasts may be unstable.\n",
      "  warnings.warn(message, warning_type)\n"
     ]
    },
    {
     "name": "stdout",
     "output_type": "stream",
     "text": [
      "94100 14 8687 0\n",
      "94110 14 9171 0.0\n",
      "94120 14 9366 0\n",
      "94130 14 7459 0.0\n",
      "94140 14 8148 0\n",
      "94150 14 8510 0\n"
     ]
    },
    {
     "name": "stderr",
     "output_type": "stream",
     "text": [
      "/dados/anaconda3/lib/python3.7/site-packages/tbats/error/ExceptionHandler.py:13: ModelWarning: Optimization did not converge. Forecasts may be unstable.\n",
      "  warnings.warn(message, warning_type)\n"
     ]
    },
    {
     "name": "stdout",
     "output_type": "stream",
     "text": [
      "94160 14 9449 0\n",
      "94170 14 10786 0.0\n"
     ]
    },
    {
     "name": "stderr",
     "output_type": "stream",
     "text": [
      "/dados/anaconda3/lib/python3.7/site-packages/tbats/error/ExceptionHandler.py:13: ModelWarning: Optimization did not converge. Forecasts may be unstable.\n",
      "  warnings.warn(message, warning_type)\n"
     ]
    },
    {
     "name": "stdout",
     "output_type": "stream",
     "text": [
      "94180 14 10669 0\n",
      "94190 14 11379 0\n",
      "94200 14 11542 0\n"
     ]
    },
    {
     "name": "stderr",
     "output_type": "stream",
     "text": [
      "/dados/anaconda3/lib/python3.7/site-packages/tbats/error/ExceptionHandler.py:13: ModelWarning: Optimization did not converge. Forecasts may be unstable.\n",
      "  warnings.warn(message, warning_type)\n"
     ]
    },
    {
     "name": "stdout",
     "output_type": "stream",
     "text": [
      "94210 14 10893 0\n"
     ]
    },
    {
     "name": "stderr",
     "output_type": "stream",
     "text": [
      "/dados/anaconda3/lib/python3.7/site-packages/tbats/error/ExceptionHandler.py:13: ModelWarning: Optimization did not converge. Forecasts may be unstable.\n",
      "  warnings.warn(message, warning_type)\n"
     ]
    },
    {
     "name": "stdout",
     "output_type": "stream",
     "text": [
      "94220 14 9539 0.0\n",
      "94230 14 10325 0.0\n",
      "94240 14 9840 0\n"
     ]
    },
    {
     "name": "stderr",
     "output_type": "stream",
     "text": [
      "/dados/anaconda3/lib/python3.7/site-packages/tbats/error/ExceptionHandler.py:13: ModelWarning: Optimization did not converge. Forecasts may be unstable.\n",
      "  warnings.warn(message, warning_type)\n"
     ]
    },
    {
     "name": "stdout",
     "output_type": "stream",
     "text": [
      "94250 14 10003 0\n",
      "94260 14 4708 1.0\n",
      "94270 14 4604 0.0\n",
      "94280 14 5323 1.0\n"
     ]
    },
    {
     "name": "stderr",
     "output_type": "stream",
     "text": [
      "/dados/anaconda3/lib/python3.7/site-packages/tbats/error/ExceptionHandler.py:13: ModelWarning: Optimization did not converge. Forecasts may be unstable.\n",
      "  warnings.warn(message, warning_type)\n"
     ]
    },
    {
     "name": "stdout",
     "output_type": "stream",
     "text": [
      "94290 14 3897 0.0\n",
      "94300 14 3919 0\n",
      "94310 14 3787 0\n",
      "94320 14 4088 0\n",
      "94330 14 6695 0\n",
      "94340 14 6378 0.0\n",
      "94350 14 6857 0.0\n",
      "94360 14 5659 0.0\n",
      "94370 14 3354 0\n"
     ]
    },
    {
     "name": "stderr",
     "output_type": "stream",
     "text": [
      "/dados/anaconda3/lib/python3.7/site-packages/tbats/error/ExceptionHandler.py:13: ModelWarning: Optimization did not converge. Forecasts may be unstable.\n",
      "  warnings.warn(message, warning_type)\n"
     ]
    },
    {
     "name": "stdout",
     "output_type": "stream",
     "text": [
      "94380 14 1538 0\n",
      "94390 14 22111 0\n",
      "94400 14 9019 0.0\n",
      "94410 14 11968 1.0\n",
      "94420 14 6027 1.0\n",
      "94430 14 18361 0\n",
      "94440 14 18629 0\n",
      "94450 14 17883 0\n",
      "94460 14 18108 0\n",
      "94470 14 19126 0\n",
      "94480 14 19488 0\n",
      "94490 14 18759 0\n",
      "94500 14 18979 0\n"
     ]
    },
    {
     "name": "stderr",
     "output_type": "stream",
     "text": [
      "/dados/anaconda3/lib/python3.7/site-packages/tbats/error/ExceptionHandler.py:13: ModelWarning: Optimization did not converge. Forecasts may be unstable.\n",
      "  warnings.warn(message, warning_type)\n"
     ]
    },
    {
     "name": "stdout",
     "output_type": "stream",
     "text": [
      "94510 14 3236 0.0\n",
      "94520 14 19588 0.0\n",
      "94530 14 20952 0\n",
      "94540 14 21207 0\n",
      "94550 14 20833 0\n",
      "94560 14 20274 0.0\n",
      "94570 14 21795 0\n",
      "94580 14 21792 0\n",
      "94590 14 19951 0\n",
      "94600 14 19852 0\n"
     ]
    },
    {
     "name": "stderr",
     "output_type": "stream",
     "text": [
      "/dados/anaconda3/lib/python3.7/site-packages/tbats/error/ExceptionHandler.py:13: ModelWarning: Optimization did not converge. Forecasts may be unstable.\n",
      "  warnings.warn(message, warning_type)\n"
     ]
    },
    {
     "name": "stdout",
     "output_type": "stream",
     "text": [
      "94610 14 20600 0\n",
      "94620 14 20581 3.0\n"
     ]
    },
    {
     "name": "stderr",
     "output_type": "stream",
     "text": [
      "/dados/anaconda3/lib/python3.7/site-packages/tbats/error/ExceptionHandler.py:13: ModelWarning: Optimization did not converge. Forecasts may be unstable.\n",
      "  warnings.warn(message, warning_type)\n"
     ]
    },
    {
     "name": "stdout",
     "output_type": "stream",
     "text": [
      "94630 14 6312 1.0\n",
      "94640 14 3634 0.0\n",
      "94650 14 4707 0\n",
      "94660 14 8888 0.0\n",
      "94670 14 10099 0\n",
      "94680 14 6807 0\n",
      "94690 14 8112 0\n",
      "94700 14 19118 7.0\n",
      "94710 14 21790 0\n",
      "94720 14 13630 0\n",
      "94730 14 15478 1.0\n",
      "94740 14 15226 0.0\n",
      "94750 14 2585 0.0\n"
     ]
    },
    {
     "name": "stderr",
     "output_type": "stream",
     "text": [
      "/dados/anaconda3/lib/python3.7/site-packages/tbats/error/ExceptionHandler.py:13: ModelWarning: Optimization did not converge. Forecasts may be unstable.\n",
      "  warnings.warn(message, warning_type)\n"
     ]
    },
    {
     "name": "stdout",
     "output_type": "stream",
     "text": [
      "94760 14 2213 0\n",
      "94770 14 1611 0.0\n",
      "94780 14 12504 5.0\n",
      "94790 14 13445 0\n"
     ]
    },
    {
     "name": "stderr",
     "output_type": "stream",
     "text": [
      "/dados/anaconda3/lib/python3.7/site-packages/tbats/error/ExceptionHandler.py:13: ModelWarning: Optimization did not converge. Forecasts may be unstable.\n",
      "  warnings.warn(message, warning_type)\n"
     ]
    },
    {
     "name": "stdout",
     "output_type": "stream",
     "text": [
      "94800 14 11915 0\n",
      "94810 14 20739 0.0\n",
      "94820 14 21196 0\n",
      "94830 14 14108 0\n",
      "94840 14 3457 0\n",
      "94850 14 3096 0\n",
      "94860 14 15260 1.0\n",
      "94870 14 17157 0.0\n",
      "94880 14 413 0\n",
      "94890 14 1010 0\n",
      "94900 14 4364 0.0\n",
      "94910 14 6528 0\n",
      "94920 14 5470 0.0\n",
      "94930 14 19337 0\n",
      "94940 14 18017 0\n"
     ]
    },
    {
     "name": "stderr",
     "output_type": "stream",
     "text": [
      "/dados/anaconda3/lib/python3.7/site-packages/tbats/error/ExceptionHandler.py:13: ModelWarning: Optimization did not converge. Forecasts may be unstable.\n",
      "  warnings.warn(message, warning_type)\n"
     ]
    },
    {
     "name": "stdout",
     "output_type": "stream",
     "text": [
      "94950 14 14892 1.0\n",
      "94960 14 20393 0\n"
     ]
    },
    {
     "name": "stderr",
     "output_type": "stream",
     "text": [
      "/dados/anaconda3/lib/python3.7/site-packages/tbats/error/ExceptionHandler.py:13: ModelWarning: Optimization did not converge. Forecasts may be unstable.\n",
      "  warnings.warn(message, warning_type)\n"
     ]
    },
    {
     "name": "stdout",
     "output_type": "stream",
     "text": [
      "94970 14 15171 0\n",
      "94980 14 16093 0\n"
     ]
    },
    {
     "name": "stderr",
     "output_type": "stream",
     "text": [
      "/dados/anaconda3/lib/python3.7/site-packages/tbats/error/ExceptionHandler.py:13: ModelWarning: Optimization did not converge. Forecasts may be unstable.\n",
      "  warnings.warn(message, warning_type)\n"
     ]
    },
    {
     "name": "stdout",
     "output_type": "stream",
     "text": [
      "94990 14 16111 0.0\n",
      "95000 14 14962 0\n",
      "95010 14 16207 0.0\n",
      "95020 14 16786 0\n",
      "95030 14 8157 0\n"
     ]
    },
    {
     "name": "stderr",
     "output_type": "stream",
     "text": [
      "/dados/anaconda3/lib/python3.7/site-packages/tbats/error/ExceptionHandler.py:13: ModelWarning: Optimization did not converge. Forecasts may be unstable.\n",
      "  warnings.warn(message, warning_type)\n"
     ]
    },
    {
     "name": "stdout",
     "output_type": "stream",
     "text": [
      "95040 14 13448 0\n"
     ]
    },
    {
     "name": "stderr",
     "output_type": "stream",
     "text": [
      "/dados/anaconda3/lib/python3.7/site-packages/tbats/error/ExceptionHandler.py:13: ModelWarning: Optimization did not converge. Forecasts may be unstable.\n",
      "  warnings.warn(message, warning_type)\n"
     ]
    },
    {
     "name": "stdout",
     "output_type": "stream",
     "text": [
      "95050 14 13224 0\n",
      "95060 14 13512 0.0\n",
      "95070 14 13288 0\n"
     ]
    },
    {
     "name": "stderr",
     "output_type": "stream",
     "text": [
      "/dados/anaconda3/lib/python3.7/site-packages/tbats/error/ExceptionHandler.py:13: ModelWarning: Optimization did not converge. Forecasts may be unstable.\n",
      "  warnings.warn(message, warning_type)\n"
     ]
    },
    {
     "name": "stdout",
     "output_type": "stream",
     "text": [
      "95080 14 14164 0\n",
      "95090 14 12808 0.0\n"
     ]
    },
    {
     "name": "stderr",
     "output_type": "stream",
     "text": [
      "/dados/anaconda3/lib/python3.7/site-packages/tbats/error/ExceptionHandler.py:13: ModelWarning: Optimization did not converge. Forecasts may be unstable.\n",
      "  warnings.warn(message, warning_type)\n"
     ]
    },
    {
     "name": "stdout",
     "output_type": "stream",
     "text": [
      "95100 14 13647 0\n",
      "95110 14 12332 0\n",
      "95120 14 12091 0.0\n",
      "95130 14 11268 0\n",
      "95140 14 13223 0\n"
     ]
    },
    {
     "name": "stderr",
     "output_type": "stream",
     "text": [
      "/dados/anaconda3/lib/python3.7/site-packages/tbats/error/ExceptionHandler.py:13: ModelWarning: Optimization did not converge. Forecasts may be unstable.\n",
      "  warnings.warn(message, warning_type)\n"
     ]
    },
    {
     "name": "stdout",
     "output_type": "stream",
     "text": [
      "95150 14 13221 0\n",
      "95160 14 16179 0\n",
      "95170 14 15524 0.0\n",
      "95180 14 16045 0\n",
      "95190 14 16910 0\n",
      "95200 14 15667 0\n",
      "95210 14 16243 0\n",
      "95220 14 16349 0\n",
      "95230 14 15015 0\n",
      "95240 14 15134 0.0\n",
      "95250 14 14987 0\n"
     ]
    },
    {
     "name": "stderr",
     "output_type": "stream",
     "text": [
      "/dados/anaconda3/lib/python3.7/site-packages/tbats/error/ExceptionHandler.py:13: ModelWarning: Optimization did not converge. Forecasts may be unstable.\n",
      "  warnings.warn(message, warning_type)\n"
     ]
    },
    {
     "name": "stdout",
     "output_type": "stream",
     "text": [
      "95260 14 15318 0\n",
      "95270 14 15168 0\n",
      "95280 14 15220 0\n",
      "95290 14 6870 0\n",
      "95300 14 4480 0.0\n",
      "95310 14 5063 0\n",
      "95320 14 5155 0\n",
      "95330 14 5187 0\n",
      "95340 14 5121 0\n",
      "95350 14 10069 0\n",
      "95360 14 10287 0\n",
      "95370 14 10180 0\n",
      "95380 14 10772 0.0\n"
     ]
    },
    {
     "name": "stderr",
     "output_type": "stream",
     "text": [
      "/dados/anaconda3/lib/python3.7/site-packages/tbats/error/ExceptionHandler.py:13: ModelWarning: Optimization did not converge. Forecasts may be unstable.\n",
      "  warnings.warn(message, warning_type)\n"
     ]
    },
    {
     "name": "stdout",
     "output_type": "stream",
     "text": [
      "95390 14 11363 0\n",
      "95400 14 11044 0.0\n",
      "95410 14 8459 0\n",
      "95420 14 8363 0.0\n",
      "95430 14 7580 0\n",
      "95440 14 8968 0\n",
      "95450 14 9338 0\n",
      "95460 14 8428 0\n",
      "95470 14 14361 0.0\n",
      "95480 14 547 0\n",
      "95490 14 12743 0\n"
     ]
    },
    {
     "name": "stderr",
     "output_type": "stream",
     "text": [
      "/dados/anaconda3/lib/python3.7/site-packages/tbats/error/ExceptionHandler.py:13: ModelWarning: Optimization did not converge. Forecasts may be unstable.\n",
      "  warnings.warn(message, warning_type)\n"
     ]
    },
    {
     "name": "stdout",
     "output_type": "stream",
     "text": [
      "95500 14 20517 0\n",
      "95510 14 7924 0.0\n"
     ]
    },
    {
     "name": "stderr",
     "output_type": "stream",
     "text": [
      "/dados/anaconda3/lib/python3.7/site-packages/tbats/error/ExceptionHandler.py:13: ModelWarning: Optimization did not converge. Forecasts may be unstable.\n",
      "  warnings.warn(message, warning_type)\n",
      "/dados/anaconda3/lib/python3.7/site-packages/tbats/error/ExceptionHandler.py:13: ModelWarning: Optimization did not converge. Forecasts may be unstable.\n",
      "  warnings.warn(message, warning_type)\n"
     ]
    },
    {
     "name": "stdout",
     "output_type": "stream",
     "text": [
      "95520 14 3239 0.0\n",
      "95530 14 15458 0.0\n",
      "95540 14 18025 0\n"
     ]
    },
    {
     "name": "stderr",
     "output_type": "stream",
     "text": [
      "/dados/anaconda3/lib/python3.7/site-packages/tbats/error/ExceptionHandler.py:13: ModelWarning: Optimization did not converge. Forecasts may be unstable.\n",
      "  warnings.warn(message, warning_type)\n",
      "/dados/anaconda3/lib/python3.7/site-packages/tbats/error/ExceptionHandler.py:13: ModelWarning: Optimization did not converge. Forecasts may be unstable.\n",
      "  warnings.warn(message, warning_type)\n",
      "/dados/anaconda3/lib/python3.7/site-packages/tbats/error/ExceptionHandler.py:13: ModelWarning: Optimization did not converge. Forecasts may be unstable.\n",
      "  warnings.warn(message, warning_type)\n",
      "/dados/anaconda3/lib/python3.7/site-packages/tbats/error/ExceptionHandler.py:13: ModelWarning: Optimization did not converge. Forecasts may be unstable.\n",
      "  warnings.warn(message, warning_type)\n"
     ]
    },
    {
     "name": "stdout",
     "output_type": "stream",
     "text": [
      "95550 14 15031 0.0\n",
      "95560 14 14984 0\n",
      "95570 14 1254 0\n",
      "95580 14 18968 0\n"
     ]
    },
    {
     "name": "stderr",
     "output_type": "stream",
     "text": [
      "/dados/anaconda3/lib/python3.7/site-packages/tbats/error/ExceptionHandler.py:13: ModelWarning: Optimization did not converge. Forecasts may be unstable.\n",
      "  warnings.warn(message, warning_type)\n"
     ]
    },
    {
     "name": "stdout",
     "output_type": "stream",
     "text": [
      "95590 14 21139 0\n",
      "95600 14 3273 0\n",
      "95610 14 13407 0\n"
     ]
    },
    {
     "name": "stderr",
     "output_type": "stream",
     "text": [
      "/dados/anaconda3/lib/python3.7/site-packages/tbats/error/ExceptionHandler.py:13: ModelWarning: Optimization did not converge. Forecasts may be unstable.\n",
      "  warnings.warn(message, warning_type)\n"
     ]
    },
    {
     "name": "stdout",
     "output_type": "stream",
     "text": [
      "95620 14 21692 0\n",
      "95630 14 19127 0\n",
      "95640 14 16953 0.0\n",
      "95650 14 21400 2.0\n"
     ]
    },
    {
     "name": "stderr",
     "output_type": "stream",
     "text": [
      "/dados/anaconda3/lib/python3.7/site-packages/tbats/error/ExceptionHandler.py:13: ModelWarning: Optimization did not converge. Forecasts may be unstable.\n",
      "  warnings.warn(message, warning_type)\n"
     ]
    },
    {
     "name": "stdout",
     "output_type": "stream",
     "text": [
      "95660 14 20334 0\n",
      "95670 14 13693 0\n",
      "95680 14 12474 0\n",
      "95690 14 8468 0\n",
      "95700 14 11302 0\n",
      "95710 14 448 0\n",
      "95720 14 5272 3.0\n",
      "95730 14 6028 0\n"
     ]
    },
    {
     "name": "stderr",
     "output_type": "stream",
     "text": [
      "/dados/anaconda3/lib/python3.7/site-packages/tbats/error/ExceptionHandler.py:13: ModelWarning: Optimization did not converge. Forecasts may be unstable.\n",
      "  warnings.warn(message, warning_type)\n"
     ]
    },
    {
     "name": "stdout",
     "output_type": "stream",
     "text": [
      "95740 14 8855 0\n",
      "95750 14 2540 0\n"
     ]
    },
    {
     "name": "stderr",
     "output_type": "stream",
     "text": [
      "/dados/anaconda3/lib/python3.7/site-packages/tbats/error/ExceptionHandler.py:13: ModelWarning: Optimization did not converge. Forecasts may be unstable.\n",
      "  warnings.warn(message, warning_type)\n"
     ]
    },
    {
     "name": "stdout",
     "output_type": "stream",
     "text": [
      "95760 14 18315 0\n"
     ]
    },
    {
     "name": "stderr",
     "output_type": "stream",
     "text": [
      "/dados/anaconda3/lib/python3.7/site-packages/tbats/error/ExceptionHandler.py:13: ModelWarning: Optimization did not converge. Forecasts may be unstable.\n",
      "  warnings.warn(message, warning_type)\n"
     ]
    },
    {
     "name": "stdout",
     "output_type": "stream",
     "text": [
      "95770 14 2191 0\n",
      "95780 14 3333 0.0\n",
      "95790 14 20879 0\n"
     ]
    },
    {
     "name": "stderr",
     "output_type": "stream",
     "text": [
      "/dados/anaconda3/lib/python3.7/site-packages/tbats/error/ExceptionHandler.py:13: ModelWarning: Optimization did not converge. Forecasts may be unstable.\n",
      "  warnings.warn(message, warning_type)\n"
     ]
    },
    {
     "name": "stdout",
     "output_type": "stream",
     "text": [
      "95800 14 14760 0\n",
      "95810 14 4637 0\n",
      "95820 14 13494 0.0\n"
     ]
    },
    {
     "name": "stderr",
     "output_type": "stream",
     "text": [
      "/dados/anaconda3/lib/python3.7/site-packages/tbats/error/ExceptionHandler.py:13: ModelWarning: Optimization did not converge. Forecasts may be unstable.\n",
      "  warnings.warn(message, warning_type)\n"
     ]
    },
    {
     "name": "stdout",
     "output_type": "stream",
     "text": [
      "95830 14 16032 0.0\n"
     ]
    },
    {
     "name": "stderr",
     "output_type": "stream",
     "text": [
      "/dados/anaconda3/lib/python3.7/site-packages/tbats/error/ExceptionHandler.py:13: ModelWarning: Optimization did not converge. Forecasts may be unstable.\n",
      "  warnings.warn(message, warning_type)\n"
     ]
    },
    {
     "name": "stdout",
     "output_type": "stream",
     "text": [
      "95840 14 2523 0.0\n",
      "95850 14 5540 0\n",
      "95860 14 1453 0.0\n"
     ]
    },
    {
     "name": "stderr",
     "output_type": "stream",
     "text": [
      "/dados/anaconda3/lib/python3.7/site-packages/tbats/error/ExceptionHandler.py:13: ModelWarning: Optimization did not converge. Forecasts may be unstable.\n",
      "  warnings.warn(message, warning_type)\n"
     ]
    },
    {
     "name": "stdout",
     "output_type": "stream",
     "text": [
      "95870 14 11011 1.0\n",
      "95880 14 3548 1.0\n",
      "95890 14 6307 0\n",
      "95900 14 20196 0\n",
      "95910 14 19751 1.0\n",
      "95920 14 18457 0\n",
      "95930 14 18208 0\n",
      "95940 14 22013 0\n",
      "95950 14 20653 0\n",
      "95960 14 21053 0\n",
      "95970 14 11516 0\n"
     ]
    },
    {
     "name": "stderr",
     "output_type": "stream",
     "text": [
      "/dados/anaconda3/lib/python3.7/site-packages/tbats/error/ExceptionHandler.py:13: ModelWarning: Optimization did not converge. Forecasts may be unstable.\n",
      "  warnings.warn(message, warning_type)\n",
      "/dados/anaconda3/lib/python3.7/site-packages/tbats/error/ExceptionHandler.py:13: ModelWarning: Optimization did not converge. Forecasts may be unstable.\n",
      "  warnings.warn(message, warning_type)\n"
     ]
    },
    {
     "name": "stdout",
     "output_type": "stream",
     "text": [
      "95980 14 18481 0.0\n",
      "95990 14 15222 0\n",
      "96000 14 13327 0\n",
      "96010 14 18031 0\n"
     ]
    },
    {
     "name": "stderr",
     "output_type": "stream",
     "text": [
      "/dados/anaconda3/lib/python3.7/site-packages/tbats/error/ExceptionHandler.py:13: ModelWarning: Optimization did not converge. Forecasts may be unstable.\n",
      "  warnings.warn(message, warning_type)\n"
     ]
    },
    {
     "name": "stdout",
     "output_type": "stream",
     "text": [
      "96020 14 20821 0\n",
      "96030 14 18939 0\n",
      "96040 14 12208 0\n",
      "96050 14 15654 0\n"
     ]
    },
    {
     "name": "stderr",
     "output_type": "stream",
     "text": [
      "/dados/anaconda3/lib/python3.7/site-packages/tbats/error/ExceptionHandler.py:13: ModelWarning: Optimization did not converge. Forecasts may be unstable.\n",
      "  warnings.warn(message, warning_type)\n"
     ]
    },
    {
     "name": "stdout",
     "output_type": "stream",
     "text": [
      "96060 14 16028 0.0\n",
      "96070 14 20516 0.0\n",
      "96080 14 6400 1.0\n",
      "96090 14 16166 0\n"
     ]
    },
    {
     "name": "stderr",
     "output_type": "stream",
     "text": [
      "/dados/anaconda3/lib/python3.7/site-packages/tbats/error/ExceptionHandler.py:13: ModelWarning: Optimization did not converge. Forecasts may be unstable.\n",
      "  warnings.warn(message, warning_type)\n",
      "/dados/anaconda3/lib/python3.7/site-packages/tbats/error/ExceptionHandler.py:13: ModelWarning: Optimization did not converge. Forecasts may be unstable.\n",
      "  warnings.warn(message, warning_type)\n"
     ]
    },
    {
     "name": "stdout",
     "output_type": "stream",
     "text": [
      "96100 14 9534 0\n",
      "96110 14 10581 0\n",
      "96120 14 9111 0\n",
      "96130 14 13099 0\n",
      "96140 14 11874 0\n",
      "96150 14 12192 0\n",
      "96160 14 6430 0\n",
      "96170 14 5761 0\n",
      "96180 14 4903 0\n",
      "96190 14 5382 0\n",
      "96200 14 7817 0\n",
      "96210 14 6959 0\n",
      "96220 14 7057 0\n",
      "96230 14 21978 0\n",
      "96240 14 19347 0\n",
      "96250 14 20012 0\n",
      "96260 14 13732 0\n",
      "96270 14 14934 0\n",
      "96280 14 13341 0\n",
      "96290 14 16396 0\n",
      "96300 14 16813 0\n",
      "96310 14 15988 0\n",
      "96320 14 16272 0\n",
      "96330 14 504 0\n",
      "96340 14 688 0\n",
      "96350 14 616 0\n",
      "96360 14 204 0\n",
      "96370 14 1394 0\n",
      "96380 14 924 0\n",
      "96390 14 1506 0\n",
      "96400 14 849 0\n",
      "96410 14 20361 0.0\n",
      "96420 14 3715 0\n",
      "96430 14 3411 0\n",
      "96440 14 4765 0\n",
      "96450 14 4260 0\n",
      "96460 14 4144 0\n",
      "96470 14 4203 0\n",
      "96480 14 1794 0\n",
      "96490 14 2338 0\n",
      "96500 14 1792 0\n",
      "96510 14 2856 0\n",
      "96520 14 2434 0\n",
      "96530 14 3136 0\n",
      "96540 14 1018 0.0\n",
      "96550 14 19258 0\n",
      "96560 14 4736 5.0\n",
      "96570 14 5363 0.0\n",
      "96580 14 17390 0\n"
     ]
    },
    {
     "name": "stderr",
     "output_type": "stream",
     "text": [
      "/dados/anaconda3/lib/python3.7/site-packages/tbats/error/ExceptionHandler.py:13: ModelWarning: Optimization did not converge. Forecasts may be unstable.\n",
      "  warnings.warn(message, warning_type)\n",
      "/dados/anaconda3/lib/python3.7/site-packages/tbats/error/ExceptionHandler.py:13: ModelWarning: Optimization did not converge. Forecasts may be unstable.\n",
      "  warnings.warn(message, warning_type)\n"
     ]
    },
    {
     "name": "stdout",
     "output_type": "stream",
     "text": [
      "96590 14 11682 0\n",
      "96600 14 15735 0\n",
      "96610 14 14899 1.0\n",
      "96620 14 20212 0\n",
      "96630 14 5899 0.0\n",
      "96640 14 18476 2.0\n"
     ]
    },
    {
     "name": "stderr",
     "output_type": "stream",
     "text": [
      "/dados/anaconda3/lib/python3.7/site-packages/tbats/error/ExceptionHandler.py:13: ModelWarning: Optimization did not converge. Forecasts may be unstable.\n",
      "  warnings.warn(message, warning_type)\n"
     ]
    },
    {
     "name": "stdout",
     "output_type": "stream",
     "text": [
      "96650 14 6835 1.0\n",
      "96660 14 15405 1.0\n",
      "96670 14 17756 0\n",
      "96680 14 18500 0\n",
      "96690 14 16231 0\n",
      "96700 14 17015 0\n"
     ]
    },
    {
     "name": "stderr",
     "output_type": "stream",
     "text": [
      "/dados/anaconda3/lib/python3.7/site-packages/tbats/error/ExceptionHandler.py:13: ModelWarning: Optimization did not converge. Forecasts may be unstable.\n",
      "  warnings.warn(message, warning_type)\n"
     ]
    },
    {
     "name": "stdout",
     "output_type": "stream",
     "text": [
      "96710 14 13133 0\n",
      "96720 14 14222 0\n",
      "96730 14 13812 0.0\n",
      "96740 14 5010 1.0\n",
      "96750 14 21210 0\n",
      "96760 14 20916 0\n",
      "96770 14 21664 0\n",
      "96780 14 3232 0\n",
      "96790 14 3547 0\n",
      "96800 14 18707 0\n",
      "96810 14 11674 0\n",
      "96820 14 16057 0.0\n",
      "96830 14 15033 0\n"
     ]
    },
    {
     "name": "stderr",
     "output_type": "stream",
     "text": [
      "/dados/anaconda3/lib/python3.7/site-packages/tbats/error/ExceptionHandler.py:13: ModelWarning: Optimization did not converge. Forecasts may be unstable.\n",
      "  warnings.warn(message, warning_type)\n"
     ]
    },
    {
     "name": "stdout",
     "output_type": "stream",
     "text": [
      "96840 14 10508 0\n",
      "96850 14 7572 0\n"
     ]
    },
    {
     "name": "stderr",
     "output_type": "stream",
     "text": [
      "/dados/anaconda3/lib/python3.7/site-packages/tbats/error/ExceptionHandler.py:13: ModelWarning: Optimization did not converge. Forecasts may be unstable.\n",
      "  warnings.warn(message, warning_type)\n"
     ]
    },
    {
     "name": "stdout",
     "output_type": "stream",
     "text": [
      "96860 14 6882 0.0\n",
      "96870 14 14543 1.0\n",
      "96880 14 19889 0.0\n",
      "96890 14 3280 0.0\n"
     ]
    },
    {
     "name": "stderr",
     "output_type": "stream",
     "text": [
      "/dados/anaconda3/lib/python3.7/site-packages/tbats/error/ExceptionHandler.py:13: ModelWarning: Optimization did not converge. Forecasts may be unstable.\n",
      "  warnings.warn(message, warning_type)\n"
     ]
    },
    {
     "name": "stdout",
     "output_type": "stream",
     "text": [
      "96900 19 5037 1.0\n"
     ]
    },
    {
     "name": "stderr",
     "output_type": "stream",
     "text": [
      "/dados/anaconda3/lib/python3.7/site-packages/tbats/error/ExceptionHandler.py:13: ModelWarning: Optimization did not converge. Forecasts may be unstable.\n",
      "  warnings.warn(message, warning_type)\n"
     ]
    },
    {
     "name": "stdout",
     "output_type": "stream",
     "text": [
      "96910 19 4806 2.0\n",
      "96920 19 4717 0.0\n",
      "96930 19 5666 10.0\n",
      "96940 19 5840 0\n",
      "96950 19 5838 5.0\n"
     ]
    },
    {
     "name": "stderr",
     "output_type": "stream",
     "text": [
      "/dados/anaconda3/lib/python3.7/site-packages/tbats/error/ExceptionHandler.py:13: ModelWarning: Optimization did not converge. Forecasts may be unstable.\n",
      "  warnings.warn(message, warning_type)\n",
      "/dados/anaconda3/lib/python3.7/site-packages/tbats/error/ExceptionHandler.py:13: ModelWarning: Optimization did not converge. Forecasts may be unstable.\n",
      "  warnings.warn(message, warning_type)\n"
     ]
    },
    {
     "name": "stdout",
     "output_type": "stream",
     "text": [
      "96960 19 3352 0\n"
     ]
    },
    {
     "name": "stderr",
     "output_type": "stream",
     "text": [
      "/dados/anaconda3/lib/python3.7/site-packages/tbats/error/ExceptionHandler.py:13: ModelWarning: Optimization did not converge. Forecasts may be unstable.\n",
      "  warnings.warn(message, warning_type)\n"
     ]
    },
    {
     "name": "stdout",
     "output_type": "stream",
     "text": [
      "96970 19 3604 0\n",
      "96980 19 3443 8.0\n",
      "96990 19 4365 1.0\n"
     ]
    },
    {
     "name": "stderr",
     "output_type": "stream",
     "text": [
      "/dados/anaconda3/lib/python3.7/site-packages/tbats/error/ExceptionHandler.py:13: ModelWarning: Optimization did not converge. Forecasts may be unstable.\n",
      "  warnings.warn(message, warning_type)\n"
     ]
    },
    {
     "name": "stdout",
     "output_type": "stream",
     "text": [
      "97000 19 3733 0.0\n"
     ]
    },
    {
     "name": "stderr",
     "output_type": "stream",
     "text": [
      "/dados/anaconda3/lib/python3.7/site-packages/tbats/error/ExceptionHandler.py:13: ModelWarning: Optimization did not converge. Forecasts may be unstable.\n",
      "  warnings.warn(message, warning_type)\n"
     ]
    },
    {
     "name": "stdout",
     "output_type": "stream",
     "text": [
      "97010 19 4052 1.0\n"
     ]
    },
    {
     "name": "stderr",
     "output_type": "stream",
     "text": [
      "/dados/anaconda3/lib/python3.7/site-packages/tbats/error/ExceptionHandler.py:13: ModelWarning: Optimization did not converge. Forecasts may be unstable.\n",
      "  warnings.warn(message, warning_type)\n"
     ]
    },
    {
     "name": "stdout",
     "output_type": "stream",
     "text": [
      "97020 19 9395 1.0\n"
     ]
    },
    {
     "name": "stderr",
     "output_type": "stream",
     "text": [
      "/dados/anaconda3/lib/python3.7/site-packages/tbats/error/ExceptionHandler.py:13: ModelWarning: Optimization did not converge. Forecasts may be unstable.\n",
      "  warnings.warn(message, warning_type)\n"
     ]
    },
    {
     "name": "stdout",
     "output_type": "stream",
     "text": [
      "97030 19 9469 0\n",
      "97040 19 8653 1.0\n",
      "97050 19 9001 0.0\n"
     ]
    },
    {
     "name": "stderr",
     "output_type": "stream",
     "text": [
      "/dados/anaconda3/lib/python3.7/site-packages/tbats/error/ExceptionHandler.py:13: ModelWarning: Optimization did not converge. Forecasts may be unstable.\n",
      "  warnings.warn(message, warning_type)\n"
     ]
    },
    {
     "name": "stdout",
     "output_type": "stream",
     "text": [
      "97060 19 10447 0\n",
      "97070 19 10327 2.0\n"
     ]
    },
    {
     "name": "stderr",
     "output_type": "stream",
     "text": [
      "/dados/anaconda3/lib/python3.7/site-packages/tbats/error/ExceptionHandler.py:13: ModelWarning: Optimization did not converge. Forecasts may be unstable.\n",
      "  warnings.warn(message, warning_type)\n"
     ]
    },
    {
     "name": "stdout",
     "output_type": "stream",
     "text": [
      "97080 19 9927 0\n",
      "97090 19 6506 0\n",
      "97100 19 6731 0\n"
     ]
    },
    {
     "name": "stderr",
     "output_type": "stream",
     "text": [
      "/dados/anaconda3/lib/python3.7/site-packages/tbats/error/ExceptionHandler.py:13: ModelWarning: Optimization did not converge. Forecasts may be unstable.\n",
      "  warnings.warn(message, warning_type)\n"
     ]
    },
    {
     "name": "stdout",
     "output_type": "stream",
     "text": [
      "97110 19 6396 0.0\n",
      "97120 19 6064 0.0\n",
      "97130 19 7862 0\n",
      "97140 19 7328 0.0\n"
     ]
    },
    {
     "name": "stderr",
     "output_type": "stream",
     "text": [
      "/dados/anaconda3/lib/python3.7/site-packages/tbats/error/ExceptionHandler.py:13: ModelWarning: Optimization did not converge. Forecasts may be unstable.\n",
      "  warnings.warn(message, warning_type)\n"
     ]
    },
    {
     "name": "stdout",
     "output_type": "stream",
     "text": [
      "97150 19 7029 0\n",
      "97160 19 15777 0.0\n",
      "97170 19 16843 5.0\n"
     ]
    },
    {
     "name": "stderr",
     "output_type": "stream",
     "text": [
      "/dados/anaconda3/lib/python3.7/site-packages/tbats/error/ExceptionHandler.py:13: ModelWarning: Optimization did not converge. Forecasts may be unstable.\n",
      "  warnings.warn(message, warning_type)\n"
     ]
    },
    {
     "name": "stdout",
     "output_type": "stream",
     "text": [
      "97180 19 15496 0\n"
     ]
    },
    {
     "name": "stderr",
     "output_type": "stream",
     "text": [
      "/dados/anaconda3/lib/python3.7/site-packages/tbats/error/ExceptionHandler.py:13: ModelWarning: Optimization did not converge. Forecasts may be unstable.\n",
      "  warnings.warn(message, warning_type)\n"
     ]
    },
    {
     "name": "stdout",
     "output_type": "stream",
     "text": [
      "97190 19 16103 1.0\n",
      "97200 19 18825 0.0\n"
     ]
    },
    {
     "name": "stderr",
     "output_type": "stream",
     "text": [
      "/dados/anaconda3/lib/python3.7/site-packages/tbats/error/ExceptionHandler.py:13: ModelWarning: Optimization did not converge. Forecasts may be unstable.\n",
      "  warnings.warn(message, warning_type)\n"
     ]
    },
    {
     "name": "stdout",
     "output_type": "stream",
     "text": [
      "97210 19 19656 0\n",
      "97220 19 18397 0\n"
     ]
    },
    {
     "name": "stderr",
     "output_type": "stream",
     "text": [
      "/dados/anaconda3/lib/python3.7/site-packages/tbats/error/ExceptionHandler.py:13: ModelWarning: Optimization did not converge. Forecasts may be unstable.\n",
      "  warnings.warn(message, warning_type)\n"
     ]
    },
    {
     "name": "stdout",
     "output_type": "stream",
     "text": [
      "97230 19 15338 0\n"
     ]
    },
    {
     "name": "stderr",
     "output_type": "stream",
     "text": [
      "/dados/anaconda3/lib/python3.7/site-packages/tbats/error/ExceptionHandler.py:13: ModelWarning: Optimization did not converge. Forecasts may be unstable.\n",
      "  warnings.warn(message, warning_type)\n"
     ]
    },
    {
     "name": "stdout",
     "output_type": "stream",
     "text": [
      "97240 19 13023 0.0\n",
      "97250 19 13415 0\n"
     ]
    },
    {
     "name": "stderr",
     "output_type": "stream",
     "text": [
      "/dados/anaconda3/lib/python3.7/site-packages/tbats/error/ExceptionHandler.py:13: ModelWarning: Optimization did not converge. Forecasts may be unstable.\n",
      "  warnings.warn(message, warning_type)\n"
     ]
    },
    {
     "name": "stdout",
     "output_type": "stream",
     "text": [
      "97260 19 13464 8.0\n",
      "97270 19 14832 0\n",
      "97280 19 15069 0\n",
      "97290 19 15037 0\n",
      "97300 19 2131 0\n"
     ]
    },
    {
     "name": "stderr",
     "output_type": "stream",
     "text": [
      "/dados/anaconda3/lib/python3.7/site-packages/tbats/error/ExceptionHandler.py:13: ModelWarning: Optimization did not converge. Forecasts may be unstable.\n",
      "  warnings.warn(message, warning_type)\n",
      "/dados/anaconda3/lib/python3.7/site-packages/tbats/error/ExceptionHandler.py:13: ModelWarning: Optimization did not converge. Forecasts may be unstable.\n",
      "  warnings.warn(message, warning_type)\n"
     ]
    },
    {
     "name": "stdout",
     "output_type": "stream",
     "text": [
      "97310 19 1732 0\n"
     ]
    },
    {
     "name": "stderr",
     "output_type": "stream",
     "text": [
      "/dados/anaconda3/lib/python3.7/site-packages/tbats/error/ExceptionHandler.py:13: ModelWarning: Optimization did not converge. Forecasts may be unstable.\n",
      "  warnings.warn(message, warning_type)\n",
      "/dados/anaconda3/lib/python3.7/site-packages/tbats/error/ExceptionHandler.py:13: ModelWarning: Optimization did not converge. Forecasts may be unstable.\n",
      "  warnings.warn(message, warning_type)\n"
     ]
    },
    {
     "name": "stdout",
     "output_type": "stream",
     "text": [
      "97320 19 2574 1.0\n"
     ]
    },
    {
     "name": "stderr",
     "output_type": "stream",
     "text": [
      "/dados/anaconda3/lib/python3.7/site-packages/tbats/error/ExceptionHandler.py:13: ModelWarning: Optimization did not converge. Forecasts may be unstable.\n",
      "  warnings.warn(message, warning_type)\n"
     ]
    },
    {
     "name": "stdout",
     "output_type": "stream",
     "text": [
      "97330 19 3076 3.0\n",
      "97340 19 2779 0.0\n"
     ]
    },
    {
     "name": "stderr",
     "output_type": "stream",
     "text": [
      "/dados/anaconda3/lib/python3.7/site-packages/tbats/error/ExceptionHandler.py:13: ModelWarning: Optimization did not converge. Forecasts may be unstable.\n",
      "  warnings.warn(message, warning_type)\n"
     ]
    },
    {
     "name": "stdout",
     "output_type": "stream",
     "text": [
      "97350 19 2873 0.0\n",
      "97360 19 20949 20.0\n",
      "97370 19 21937 0\n",
      "97380 19 20400 0\n"
     ]
    },
    {
     "name": "stderr",
     "output_type": "stream",
     "text": [
      "/dados/anaconda3/lib/python3.7/site-packages/tbats/error/ExceptionHandler.py:13: ModelWarning: Optimization did not converge. Forecasts may be unstable.\n",
      "  warnings.warn(message, warning_type)\n"
     ]
    },
    {
     "name": "stdout",
     "output_type": "stream",
     "text": [
      "97390 19 20616 1.0\n",
      "97400 19 1585 0\n"
     ]
    },
    {
     "name": "stderr",
     "output_type": "stream",
     "text": [
      "/dados/anaconda3/lib/python3.7/site-packages/tbats/error/ExceptionHandler.py:13: ModelWarning: Optimization did not converge. Forecasts may be unstable.\n",
      "  warnings.warn(message, warning_type)\n",
      "/dados/anaconda3/lib/python3.7/site-packages/tbats/error/ExceptionHandler.py:13: ModelWarning: Optimization did not converge. Forecasts may be unstable.\n",
      "  warnings.warn(message, warning_type)\n"
     ]
    },
    {
     "name": "stdout",
     "output_type": "stream",
     "text": [
      "97410 19 982 1.0\n",
      "97420 19 1486 2.0\n",
      "97430 19 2328 0\n",
      "97440 19 2293 11.0\n",
      "97450 19 3022 0\n"
     ]
    },
    {
     "name": "stderr",
     "output_type": "stream",
     "text": [
      "/dados/anaconda3/lib/python3.7/site-packages/tbats/error/ExceptionHandler.py:13: ModelWarning: Optimization did not converge. Forecasts may be unstable.\n",
      "  warnings.warn(message, warning_type)\n"
     ]
    },
    {
     "name": "stdout",
     "output_type": "stream",
     "text": [
      "97460 19 2743 0.0\n"
     ]
    },
    {
     "name": "stderr",
     "output_type": "stream",
     "text": [
      "/dados/anaconda3/lib/python3.7/site-packages/tbats/error/ExceptionHandler.py:13: ModelWarning: Optimization did not converge. Forecasts may be unstable.\n",
      "  warnings.warn(message, warning_type)\n"
     ]
    },
    {
     "name": "stdout",
     "output_type": "stream",
     "text": [
      "97470 19 1963 0\n",
      "97480 19 1295 0\n",
      "97490 19 22100 8.0\n",
      "97500 19 482 1.0\n",
      "97510 19 1877 0.0\n",
      "97520 19 1570 2.0\n",
      "97530 19 4003 1.0\n",
      "97540 19 3851 0.0\n"
     ]
    },
    {
     "name": "stderr",
     "output_type": "stream",
     "text": [
      "/dados/anaconda3/lib/python3.7/site-packages/tbats/error/ExceptionHandler.py:13: ModelWarning: Optimization did not converge. Forecasts may be unstable.\n",
      "  warnings.warn(message, warning_type)\n"
     ]
    },
    {
     "name": "stdout",
     "output_type": "stream",
     "text": [
      "97550 19 4420 1.0\n",
      "97560 19 4085 1.0\n",
      "97570 19 3528 0.0\n",
      "97580 19 3459 0\n"
     ]
    },
    {
     "name": "stderr",
     "output_type": "stream",
     "text": [
      "/dados/anaconda3/lib/python3.7/site-packages/tbats/error/ExceptionHandler.py:13: ModelWarning: Optimization did not converge. Forecasts may be unstable.\n",
      "  warnings.warn(message, warning_type)\n"
     ]
    },
    {
     "name": "stdout",
     "output_type": "stream",
     "text": [
      "97590 19 12771 0.0\n",
      "97600 19 13334 0\n"
     ]
    },
    {
     "name": "stderr",
     "output_type": "stream",
     "text": [
      "/dados/anaconda3/lib/python3.7/site-packages/tbats/error/ExceptionHandler.py:13: ModelWarning: Optimization did not converge. Forecasts may be unstable.\n",
      "  warnings.warn(message, warning_type)\n"
     ]
    },
    {
     "name": "stdout",
     "output_type": "stream",
     "text": [
      "97610 19 15047 0.0\n",
      "97620 19 13818 0\n",
      "97630 19 12549 0.0\n",
      "97640 19 12698 0\n",
      "97650 19 12360 1.0\n",
      "97660 19 11811 2.0\n",
      "97670 19 12023 0\n",
      "97680 19 13275 0\n",
      "97690 19 13303 0\n",
      "97700 19 13226 0\n",
      "97710 19 20609 3.0\n"
     ]
    },
    {
     "name": "stderr",
     "output_type": "stream",
     "text": [
      "/dados/anaconda3/lib/python3.7/site-packages/tbats/error/ExceptionHandler.py:13: ModelWarning: Optimization did not converge. Forecasts may be unstable.\n",
      "  warnings.warn(message, warning_type)\n"
     ]
    },
    {
     "name": "stdout",
     "output_type": "stream",
     "text": [
      "97720 19 19430 0.0\n",
      "97730 19 21942 0\n",
      "97740 19 18201 0.0\n"
     ]
    },
    {
     "name": "stderr",
     "output_type": "stream",
     "text": [
      "/dados/anaconda3/lib/python3.7/site-packages/tbats/error/ExceptionHandler.py:13: ModelWarning: Optimization did not converge. Forecasts may be unstable.\n",
      "  warnings.warn(message, warning_type)\n"
     ]
    },
    {
     "name": "stdout",
     "output_type": "stream",
     "text": [
      "97750 19 16122 1.0\n",
      "97760 19 14668 0.0\n"
     ]
    },
    {
     "name": "stderr",
     "output_type": "stream",
     "text": [
      "/dados/anaconda3/lib/python3.7/site-packages/tbats/error/ExceptionHandler.py:13: ModelWarning: Optimization did not converge. Forecasts may be unstable.\n",
      "  warnings.warn(message, warning_type)\n"
     ]
    },
    {
     "name": "stdout",
     "output_type": "stream",
     "text": [
      "97770 19 15323 1.0\n",
      "97780 19 17481 0.0\n",
      "97790 19 16541 0.0\n",
      "97800 19 1239 0.0\n",
      "97810 19 20631 0.0\n"
     ]
    },
    {
     "name": "stderr",
     "output_type": "stream",
     "text": [
      "/dados/anaconda3/lib/python3.7/site-packages/tbats/error/ExceptionHandler.py:13: ModelWarning: Optimization did not converge. Forecasts may be unstable.\n",
      "  warnings.warn(message, warning_type)\n",
      "/dados/anaconda3/lib/python3.7/site-packages/tbats/error/ExceptionHandler.py:13: ModelWarning: Optimization did not converge. Forecasts may be unstable.\n",
      "  warnings.warn(message, warning_type)\n"
     ]
    },
    {
     "name": "stdout",
     "output_type": "stream",
     "text": [
      "97820 19 2787 0\n"
     ]
    },
    {
     "name": "stderr",
     "output_type": "stream",
     "text": [
      "/dados/anaconda3/lib/python3.7/site-packages/tbats/error/ExceptionHandler.py:13: ModelWarning: Optimization did not converge. Forecasts may be unstable.\n",
      "  warnings.warn(message, warning_type)\n"
     ]
    },
    {
     "name": "stdout",
     "output_type": "stream",
     "text": [
      "97830 19 15282 0.0\n",
      "97840 19 16145 2.0\n",
      "97850 19 19125 0\n",
      "97860 19 17032 0\n",
      "97870 19 5383 0\n",
      "97880 19 4895 0.0\n",
      "97890 19 6505 0\n"
     ]
    },
    {
     "name": "stderr",
     "output_type": "stream",
     "text": [
      "/dados/anaconda3/lib/python3.7/site-packages/tbats/error/ExceptionHandler.py:13: ModelWarning: Optimization did not converge. Forecasts may be unstable.\n",
      "  warnings.warn(message, warning_type)\n"
     ]
    },
    {
     "name": "stdout",
     "output_type": "stream",
     "text": [
      "97900 19 6082 0\n"
     ]
    },
    {
     "name": "stderr",
     "output_type": "stream",
     "text": [
      "/dados/anaconda3/lib/python3.7/site-packages/tbats/error/ExceptionHandler.py:13: ModelWarning: Optimization did not converge. Forecasts may be unstable.\n",
      "  warnings.warn(message, warning_type)\n",
      "/dados/anaconda3/lib/python3.7/site-packages/tbats/error/ExceptionHandler.py:13: ModelWarning: Optimization did not converge. Forecasts may be unstable.\n",
      "  warnings.warn(message, warning_type)\n"
     ]
    },
    {
     "name": "stdout",
     "output_type": "stream",
     "text": [
      "97910 19 3822 0.0\n",
      "97920 19 6129 0\n",
      "97930 19 3833 0.0\n",
      "97940 19 3871 0.0\n",
      "97950 19 13285 0.0\n"
     ]
    },
    {
     "name": "stderr",
     "output_type": "stream",
     "text": [
      "/dados/anaconda3/lib/python3.7/site-packages/tbats/error/ExceptionHandler.py:13: ModelWarning: Optimization did not converge. Forecasts may be unstable.\n",
      "  warnings.warn(message, warning_type)\n"
     ]
    },
    {
     "name": "stdout",
     "output_type": "stream",
     "text": [
      "97960 19 11938 1.0\n",
      "97970 19 14457 0.0\n"
     ]
    },
    {
     "name": "stderr",
     "output_type": "stream",
     "text": [
      "/dados/anaconda3/lib/python3.7/site-packages/tbats/error/ExceptionHandler.py:13: ModelWarning: Optimization did not converge. Forecasts may be unstable.\n",
      "  warnings.warn(message, warning_type)\n",
      "/dados/anaconda3/lib/python3.7/site-packages/tbats/error/ExceptionHandler.py:13: ModelWarning: Optimization did not converge. Forecasts may be unstable.\n",
      "  warnings.warn(message, warning_type)\n",
      "/dados/anaconda3/lib/python3.7/site-packages/tbats/error/ExceptionHandler.py:13: ModelWarning: Optimization did not converge. Forecasts may be unstable.\n",
      "  warnings.warn(message, warning_type)\n",
      "/dados/anaconda3/lib/python3.7/site-packages/tbats/error/ExceptionHandler.py:13: ModelWarning: Optimization did not converge. Forecasts may be unstable.\n",
      "  warnings.warn(message, warning_type)\n"
     ]
    },
    {
     "name": "stdout",
     "output_type": "stream",
     "text": [
      "97980 19 7982 0.0\n"
     ]
    },
    {
     "name": "stderr",
     "output_type": "stream",
     "text": [
      "/dados/anaconda3/lib/python3.7/site-packages/tbats/error/ExceptionHandler.py:13: ModelWarning: Optimization did not converge. Forecasts may be unstable.\n",
      "  warnings.warn(message, warning_type)\n",
      "/dados/anaconda3/lib/python3.7/site-packages/tbats/error/ExceptionHandler.py:13: ModelWarning: Optimization did not converge. Forecasts may be unstable.\n",
      "  warnings.warn(message, warning_type)\n"
     ]
    },
    {
     "name": "stdout",
     "output_type": "stream",
     "text": [
      "97990 19 7224 0\n",
      "98000 19 10211 2.0\n"
     ]
    },
    {
     "name": "stderr",
     "output_type": "stream",
     "text": [
      "/dados/anaconda3/lib/python3.7/site-packages/tbats/error/ExceptionHandler.py:13: ModelWarning: Optimization did not converge. Forecasts may be unstable.\n",
      "  warnings.warn(message, warning_type)\n",
      "/dados/anaconda3/lib/python3.7/site-packages/tbats/error/ExceptionHandler.py:13: ModelWarning: Optimization did not converge. Forecasts may be unstable.\n",
      "  warnings.warn(message, warning_type)\n",
      "/dados/anaconda3/lib/python3.7/site-packages/tbats/error/ExceptionHandler.py:13: ModelWarning: Optimization did not converge. Forecasts may be unstable.\n",
      "  warnings.warn(message, warning_type)\n"
     ]
    },
    {
     "name": "stdout",
     "output_type": "stream",
     "text": [
      "98010 19 9404 0.0\n",
      "98020 19 4049 0.0\n"
     ]
    },
    {
     "name": "stderr",
     "output_type": "stream",
     "text": [
      "/dados/anaconda3/lib/python3.7/site-packages/tbats/error/ExceptionHandler.py:13: ModelWarning: Optimization did not converge. Forecasts may be unstable.\n",
      "  warnings.warn(message, warning_type)\n"
     ]
    },
    {
     "name": "stdout",
     "output_type": "stream",
     "text": [
      "98030 19 4999 0.0\n",
      "98040 19 3342 0.0\n"
     ]
    },
    {
     "name": "stderr",
     "output_type": "stream",
     "text": [
      "/dados/anaconda3/lib/python3.7/site-packages/tbats/error/ExceptionHandler.py:13: ModelWarning: Optimization did not converge. Forecasts may be unstable.\n",
      "  warnings.warn(message, warning_type)\n"
     ]
    },
    {
     "name": "stdout",
     "output_type": "stream",
     "text": [
      "98050 19 10190 0\n",
      "98060 19 9408 1.0\n",
      "98070 19 13237 0\n",
      "98080 19 10987 0.0\n",
      "98090 19 6625 0.0\n"
     ]
    },
    {
     "name": "stderr",
     "output_type": "stream",
     "text": [
      "/dados/anaconda3/lib/python3.7/site-packages/tbats/error/ExceptionHandler.py:13: ModelWarning: Optimization did not converge. Forecasts may be unstable.\n",
      "  warnings.warn(message, warning_type)\n"
     ]
    },
    {
     "name": "stdout",
     "output_type": "stream",
     "text": [
      "98100 19 6090 1.0\n",
      "98110 19 7019 1.0\n"
     ]
    },
    {
     "name": "stderr",
     "output_type": "stream",
     "text": [
      "/dados/anaconda3/lib/python3.7/site-packages/tbats/error/ExceptionHandler.py:13: ModelWarning: Optimization did not converge. Forecasts may be unstable.\n",
      "  warnings.warn(message, warning_type)\n",
      "/dados/anaconda3/lib/python3.7/site-packages/tbats/error/ExceptionHandler.py:13: ModelWarning: Optimization did not converge. Forecasts may be unstable.\n",
      "  warnings.warn(message, warning_type)\n"
     ]
    },
    {
     "name": "stdout",
     "output_type": "stream",
     "text": [
      "98120 19 12500 0.0\n",
      "98130 19 10448 0\n",
      "98140 19 12805 0.0\n",
      "98150 19 14247 0.0\n",
      "98160 19 7133 0\n",
      "98170 19 10292 1.0\n",
      "98180 19 1007 2.0\n"
     ]
    },
    {
     "name": "stderr",
     "output_type": "stream",
     "text": [
      "/dados/anaconda3/lib/python3.7/site-packages/tbats/error/ExceptionHandler.py:13: ModelWarning: Optimization did not converge. Forecasts may be unstable.\n",
      "  warnings.warn(message, warning_type)\n"
     ]
    },
    {
     "name": "stdout",
     "output_type": "stream",
     "text": [
      "98190 19 1717 0.0\n"
     ]
    },
    {
     "name": "stderr",
     "output_type": "stream",
     "text": [
      "/dados/anaconda3/lib/python3.7/site-packages/tbats/error/ExceptionHandler.py:13: ModelWarning: Optimization did not converge. Forecasts may be unstable.\n",
      "  warnings.warn(message, warning_type)\n"
     ]
    },
    {
     "name": "stdout",
     "output_type": "stream",
     "text": [
      "98200 19 14390 1.0\n",
      "98210 19 19908 0.0\n"
     ]
    },
    {
     "name": "stderr",
     "output_type": "stream",
     "text": [
      "/dados/anaconda3/lib/python3.7/site-packages/tbats/error/ExceptionHandler.py:13: ModelWarning: Optimization did not converge. Forecasts may be unstable.\n",
      "  warnings.warn(message, warning_type)\n"
     ]
    },
    {
     "name": "stdout",
     "output_type": "stream",
     "text": [
      "98220 19 17888 0\n",
      "98230 19 21722 0\n",
      "98240 19 940 1.0\n"
     ]
    },
    {
     "name": "stderr",
     "output_type": "stream",
     "text": [
      "/dados/anaconda3/lib/python3.7/site-packages/tbats/error/ExceptionHandler.py:13: ModelWarning: Optimization did not converge. Forecasts may be unstable.\n",
      "  warnings.warn(message, warning_type)\n"
     ]
    },
    {
     "name": "stdout",
     "output_type": "stream",
     "text": [
      "98250 19 18926 4.0\n",
      "98260 19 17772 0\n",
      "98270 19 19219 0\n",
      "98280 19 20225 0.0\n",
      "98290 19 5816 0.0\n"
     ]
    },
    {
     "name": "stderr",
     "output_type": "stream",
     "text": [
      "/dados/anaconda3/lib/python3.7/site-packages/tbats/error/ExceptionHandler.py:13: ModelWarning: Optimization did not converge. Forecasts may be unstable.\n",
      "  warnings.warn(message, warning_type)\n"
     ]
    },
    {
     "name": "stdout",
     "output_type": "stream",
     "text": [
      "98300 19 8868 0\n",
      "98310 19 17459 0.0\n",
      "98320 19 17420 0.0\n",
      "98330 19 10812 0\n",
      "98340 19 11771 0\n",
      "98350 19 10554 0\n",
      "98360 19 10378 0.0\n",
      "98370 19 16125 1.0\n",
      "98380 19 15300 1.0\n",
      "98390 19 17270 0.0\n",
      "98400 19 16735 0.0\n",
      "98410 19 13893 0.0\n",
      "98420 19 13633 0\n"
     ]
    },
    {
     "name": "stderr",
     "output_type": "stream",
     "text": [
      "/dados/anaconda3/lib/python3.7/site-packages/tbats/error/ExceptionHandler.py:13: ModelWarning: Optimization did not converge. Forecasts may be unstable.\n",
      "  warnings.warn(message, warning_type)\n"
     ]
    },
    {
     "name": "stdout",
     "output_type": "stream",
     "text": [
      "98430 19 14267 1.0\n",
      "98440 19 7592 0\n",
      "98450 19 8734 0\n",
      "98460 19 8986 0.0\n"
     ]
    },
    {
     "name": "stderr",
     "output_type": "stream",
     "text": [
      "/dados/anaconda3/lib/python3.7/site-packages/tbats/error/ExceptionHandler.py:13: ModelWarning: Optimization did not converge. Forecasts may be unstable.\n",
      "  warnings.warn(message, warning_type)\n"
     ]
    },
    {
     "name": "stdout",
     "output_type": "stream",
     "text": [
      "98470 19 8453 0\n",
      "98480 19 4141 0\n",
      "98490 19 6420 0\n",
      "98500 19 11266 0\n"
     ]
    },
    {
     "name": "stderr",
     "output_type": "stream",
     "text": [
      "/dados/anaconda3/lib/python3.7/site-packages/tbats/error/ExceptionHandler.py:13: ModelWarning: Optimization did not converge. Forecasts may be unstable.\n",
      "  warnings.warn(message, warning_type)\n"
     ]
    },
    {
     "name": "stdout",
     "output_type": "stream",
     "text": [
      "98510 19 13270 1.0\n",
      "98520 19 13100 0\n"
     ]
    },
    {
     "name": "stderr",
     "output_type": "stream",
     "text": [
      "/dados/anaconda3/lib/python3.7/site-packages/tbats/error/ExceptionHandler.py:13: ModelWarning: Optimization did not converge. Forecasts may be unstable.\n",
      "  warnings.warn(message, warning_type)\n"
     ]
    },
    {
     "name": "stdout",
     "output_type": "stream",
     "text": [
      "98530 19 10146 0.0\n",
      "98540 19 10425 1.0\n",
      "98550 19 11365 0\n"
     ]
    },
    {
     "name": "stderr",
     "output_type": "stream",
     "text": [
      "/dados/anaconda3/lib/python3.7/site-packages/tbats/error/ExceptionHandler.py:13: ModelWarning: Optimization did not converge. Forecasts may be unstable.\n",
      "  warnings.warn(message, warning_type)\n"
     ]
    },
    {
     "name": "stdout",
     "output_type": "stream",
     "text": [
      "98560 19 14848 9.0\n",
      "98570 19 21367 0.0\n"
     ]
    },
    {
     "name": "stderr",
     "output_type": "stream",
     "text": [
      "/dados/anaconda3/lib/python3.7/site-packages/tbats/error/ExceptionHandler.py:13: ModelWarning: Optimization did not converge. Forecasts may be unstable.\n",
      "  warnings.warn(message, warning_type)\n"
     ]
    },
    {
     "name": "stdout",
     "output_type": "stream",
     "text": [
      "98580 19 8077 0.0\n",
      "98590 19 12286 0.0\n",
      "98600 19 3028 1.0\n",
      "98610 19 3862 0.0\n"
     ]
    },
    {
     "name": "stderr",
     "output_type": "stream",
     "text": [
      "/dados/anaconda3/lib/python3.7/site-packages/tbats/error/ExceptionHandler.py:13: ModelWarning: Optimization did not converge. Forecasts may be unstable.\n",
      "  warnings.warn(message, warning_type)\n"
     ]
    },
    {
     "name": "stdout",
     "output_type": "stream",
     "text": [
      "98620 19 794 0\n",
      "98630 19 353 0\n",
      "98640 19 1074 0\n"
     ]
    },
    {
     "name": "stderr",
     "output_type": "stream",
     "text": [
      "/dados/anaconda3/lib/python3.7/site-packages/tbats/error/ExceptionHandler.py:13: ModelWarning: Optimization did not converge. Forecasts may be unstable.\n",
      "  warnings.warn(message, warning_type)\n"
     ]
    },
    {
     "name": "stdout",
     "output_type": "stream",
     "text": [
      "98650 19 13208 0\n",
      "98660 19 12501 0.0\n"
     ]
    },
    {
     "name": "stderr",
     "output_type": "stream",
     "text": [
      "/dados/anaconda3/lib/python3.7/site-packages/tbats/error/ExceptionHandler.py:13: ModelWarning: Optimization did not converge. Forecasts may be unstable.\n",
      "  warnings.warn(message, warning_type)\n"
     ]
    },
    {
     "name": "stdout",
     "output_type": "stream",
     "text": [
      "98670 19 10045 0\n"
     ]
    },
    {
     "name": "stderr",
     "output_type": "stream",
     "text": [
      "/dados/anaconda3/lib/python3.7/site-packages/tbats/error/ExceptionHandler.py:13: ModelWarning: Optimization did not converge. Forecasts may be unstable.\n",
      "  warnings.warn(message, warning_type)\n"
     ]
    },
    {
     "name": "stdout",
     "output_type": "stream",
     "text": [
      "98680 19 12090 0.0\n",
      "98690 19 11534 0\n"
     ]
    },
    {
     "name": "stderr",
     "output_type": "stream",
     "text": [
      "/dados/anaconda3/lib/python3.7/site-packages/tbats/error/ExceptionHandler.py:13: ModelWarning: Optimization did not converge. Forecasts may be unstable.\n",
      "  warnings.warn(message, warning_type)\n",
      "/dados/anaconda3/lib/python3.7/site-packages/tbats/error/ExceptionHandler.py:13: ModelWarning: Optimization did not converge. Forecasts may be unstable.\n",
      "  warnings.warn(message, warning_type)\n"
     ]
    },
    {
     "name": "stdout",
     "output_type": "stream",
     "text": [
      "98700 19 15512 0\n",
      "98710 19 15166 0\n"
     ]
    },
    {
     "name": "stderr",
     "output_type": "stream",
     "text": [
      "/dados/anaconda3/lib/python3.7/site-packages/tbats/error/ExceptionHandler.py:13: ModelWarning: Optimization did not converge. Forecasts may be unstable.\n",
      "  warnings.warn(message, warning_type)\n"
     ]
    },
    {
     "name": "stdout",
     "output_type": "stream",
     "text": [
      "98720 19 16534 0.0\n",
      "98730 19 16155 0\n",
      "98740 19 12830 0.0\n",
      "98750 19 14124 0.0\n",
      "98760 19 5945 1.0\n",
      "98770 19 6678 0\n",
      "98780 19 4944 1.0\n",
      "98790 19 5517 0\n"
     ]
    },
    {
     "name": "stderr",
     "output_type": "stream",
     "text": [
      "/dados/anaconda3/lib/python3.7/site-packages/tbats/error/ExceptionHandler.py:13: ModelWarning: Optimization did not converge. Forecasts may be unstable.\n",
      "  warnings.warn(message, warning_type)\n"
     ]
    },
    {
     "name": "stdout",
     "output_type": "stream",
     "text": [
      "98800 19 8398 0\n",
      "98810 19 7458 0.0\n",
      "98820 19 7882 0.0\n",
      "98830 19 7793 0.0\n",
      "98840 19 3477 1.0\n"
     ]
    },
    {
     "name": "stderr",
     "output_type": "stream",
     "text": [
      "/dados/anaconda3/lib/python3.7/site-packages/tbats/error/ExceptionHandler.py:13: ModelWarning: Optimization did not converge. Forecasts may be unstable.\n",
      "  warnings.warn(message, warning_type)\n"
     ]
    },
    {
     "name": "stdout",
     "output_type": "stream",
     "text": [
      "98850 19 8686 0.0\n",
      "98860 19 20560 0\n",
      "98870 19 19874 0\n",
      "98880 19 17869 0.0\n",
      "98890 19 21548 0\n",
      "98900 19 18255 0.0\n",
      "98910 19 2639 1.0\n",
      "98920 19 21827 0.0\n"
     ]
    },
    {
     "name": "stderr",
     "output_type": "stream",
     "text": [
      "/dados/anaconda3/lib/python3.7/site-packages/tbats/error/ExceptionHandler.py:13: ModelWarning: Optimization did not converge. Forecasts may be unstable.\n",
      "  warnings.warn(message, warning_type)\n"
     ]
    },
    {
     "name": "stdout",
     "output_type": "stream",
     "text": [
      "98930 19 1238 0\n",
      "98940 19 1247 0.0\n",
      "98950 19 269 0\n",
      "98960 19 687 1.0\n"
     ]
    },
    {
     "name": "stderr",
     "output_type": "stream",
     "text": [
      "/dados/anaconda3/lib/python3.7/site-packages/tbats/error/ExceptionHandler.py:13: ModelWarning: Optimization did not converge. Forecasts may be unstable.\n",
      "  warnings.warn(message, warning_type)\n",
      "/dados/anaconda3/lib/python3.7/site-packages/tbats/error/ExceptionHandler.py:13: ModelWarning: Optimization did not converge. Forecasts may be unstable.\n",
      "  warnings.warn(message, warning_type)\n",
      "/dados/anaconda3/lib/python3.7/site-packages/tbats/error/ExceptionHandler.py:13: ModelWarning: Optimization did not converge. Forecasts may be unstable.\n",
      "  warnings.warn(message, warning_type)\n"
     ]
    },
    {
     "name": "stdout",
     "output_type": "stream",
     "text": [
      "98970 19 93 0.0\n",
      "98980 19 20718 0\n",
      "98990 19 42 0\n",
      "99000 19 21842 0.0\n"
     ]
    },
    {
     "name": "stderr",
     "output_type": "stream",
     "text": [
      "/dados/anaconda3/lib/python3.7/site-packages/tbats/error/ExceptionHandler.py:13: ModelWarning: Optimization did not converge. Forecasts may be unstable.\n",
      "  warnings.warn(message, warning_type)\n"
     ]
    },
    {
     "name": "stdout",
     "output_type": "stream",
     "text": [
      "99010 19 2324 0\n",
      "99020 19 1663 0\n",
      "99030 19 3080 0\n",
      "99040 19 2886 1.0\n",
      "99050 19 13587 0\n",
      "99060 19 13691 0\n",
      "99070 19 15169 0\n",
      "99080 19 14973 0\n",
      "99090 19 13113 2.0\n",
      "99100 19 11711 0.0\n"
     ]
    },
    {
     "name": "stderr",
     "output_type": "stream",
     "text": [
      "/dados/anaconda3/lib/python3.7/site-packages/tbats/error/ExceptionHandler.py:13: ModelWarning: Optimization did not converge. Forecasts may be unstable.\n",
      "  warnings.warn(message, warning_type)\n"
     ]
    },
    {
     "name": "stdout",
     "output_type": "stream",
     "text": [
      "99110 19 13231 0\n",
      "99120 19 18677 0.0\n"
     ]
    },
    {
     "name": "stderr",
     "output_type": "stream",
     "text": [
      "/dados/anaconda3/lib/python3.7/site-packages/tbats/error/ExceptionHandler.py:13: ModelWarning: Optimization did not converge. Forecasts may be unstable.\n",
      "  warnings.warn(message, warning_type)\n"
     ]
    },
    {
     "name": "stdout",
     "output_type": "stream",
     "text": [
      "99130 19 18686 0.0\n",
      "99140 19 20374 0.0\n",
      "99150 19 20571 0\n",
      "99160 19 19621 0.0\n"
     ]
    },
    {
     "name": "stderr",
     "output_type": "stream",
     "text": [
      "/dados/anaconda3/lib/python3.7/site-packages/tbats/error/ExceptionHandler.py:13: ModelWarning: Optimization did not converge. Forecasts may be unstable.\n",
      "  warnings.warn(message, warning_type)\n"
     ]
    },
    {
     "name": "stdout",
     "output_type": "stream",
     "text": [
      "99170 19 16036 2.0\n",
      "99180 19 15276 0.0\n",
      "99190 19 16177 0\n",
      "99200 19 8687 0.0\n",
      "99210 19 9171 0.0\n",
      "99220 19 9366 0.0\n",
      "99230 19 7459 0.0\n"
     ]
    },
    {
     "name": "stderr",
     "output_type": "stream",
     "text": [
      "/dados/anaconda3/lib/python3.7/site-packages/tbats/error/ExceptionHandler.py:13: ModelWarning: Optimization did not converge. Forecasts may be unstable.\n",
      "  warnings.warn(message, warning_type)\n"
     ]
    },
    {
     "name": "stdout",
     "output_type": "stream",
     "text": [
      "99240 19 8148 0\n",
      "99250 19 8510 0\n"
     ]
    },
    {
     "name": "stderr",
     "output_type": "stream",
     "text": [
      "/dados/anaconda3/lib/python3.7/site-packages/tbats/error/ExceptionHandler.py:13: ModelWarning: Optimization did not converge. Forecasts may be unstable.\n",
      "  warnings.warn(message, warning_type)\n"
     ]
    },
    {
     "name": "stdout",
     "output_type": "stream",
     "text": [
      "99260 19 9449 0\n",
      "99270 19 10786 0.0\n"
     ]
    },
    {
     "name": "stderr",
     "output_type": "stream",
     "text": [
      "/dados/anaconda3/lib/python3.7/site-packages/tbats/error/ExceptionHandler.py:13: ModelWarning: Optimization did not converge. Forecasts may be unstable.\n",
      "  warnings.warn(message, warning_type)\n"
     ]
    },
    {
     "name": "stdout",
     "output_type": "stream",
     "text": [
      "99280 19 10669 0.0\n",
      "99290 19 11379 0\n",
      "99300 19 11542 0\n",
      "99310 19 10893 0\n"
     ]
    },
    {
     "name": "stderr",
     "output_type": "stream",
     "text": [
      "/dados/anaconda3/lib/python3.7/site-packages/tbats/error/ExceptionHandler.py:13: ModelWarning: Optimization did not converge. Forecasts may be unstable.\n",
      "  warnings.warn(message, warning_type)\n",
      "/dados/anaconda3/lib/python3.7/site-packages/tbats/error/ExceptionHandler.py:13: ModelWarning: Optimization did not converge. Forecasts may be unstable.\n",
      "  warnings.warn(message, warning_type)\n"
     ]
    },
    {
     "name": "stdout",
     "output_type": "stream",
     "text": [
      "99320 19 9539 0.0\n",
      "99330 19 10325 0.0\n",
      "99340 19 9840 0\n"
     ]
    },
    {
     "name": "stderr",
     "output_type": "stream",
     "text": [
      "/dados/anaconda3/lib/python3.7/site-packages/tbats/error/ExceptionHandler.py:13: ModelWarning: Optimization did not converge. Forecasts may be unstable.\n",
      "  warnings.warn(message, warning_type)\n"
     ]
    },
    {
     "name": "stdout",
     "output_type": "stream",
     "text": [
      "99350 19 10003 0.0\n",
      "99360 19 4708 0\n",
      "99370 19 4604 0.0\n",
      "99380 19 5323 0.0\n",
      "99390 19 3897 1.0\n",
      "99400 19 3919 0\n",
      "99410 19 3787 1.0\n"
     ]
    },
    {
     "name": "stderr",
     "output_type": "stream",
     "text": [
      "/dados/anaconda3/lib/python3.7/site-packages/tbats/error/ExceptionHandler.py:13: ModelWarning: Optimization did not converge. Forecasts may be unstable.\n",
      "  warnings.warn(message, warning_type)\n"
     ]
    },
    {
     "name": "stdout",
     "output_type": "stream",
     "text": [
      "99420 19 4088 0.0\n",
      "99430 19 6695 1.0\n"
     ]
    },
    {
     "name": "stderr",
     "output_type": "stream",
     "text": [
      "/dados/anaconda3/lib/python3.7/site-packages/tbats/error/ExceptionHandler.py:13: ModelWarning: Optimization did not converge. Forecasts may be unstable.\n",
      "  warnings.warn(message, warning_type)\n"
     ]
    },
    {
     "name": "stdout",
     "output_type": "stream",
     "text": [
      "99440 19 6378 0\n",
      "99450 19 6857 0.0\n"
     ]
    },
    {
     "name": "stderr",
     "output_type": "stream",
     "text": [
      "/dados/anaconda3/lib/python3.7/site-packages/tbats/error/ExceptionHandler.py:13: ModelWarning: Optimization did not converge. Forecasts may be unstable.\n",
      "  warnings.warn(message, warning_type)\n"
     ]
    },
    {
     "name": "stdout",
     "output_type": "stream",
     "text": [
      "99460 19 5659 0.0\n",
      "99470 19 3354 0\n",
      "99480 19 1538 0\n",
      "99490 19 22111 0\n"
     ]
    },
    {
     "name": "stderr",
     "output_type": "stream",
     "text": [
      "/dados/anaconda3/lib/python3.7/site-packages/tbats/error/ExceptionHandler.py:13: ModelWarning: Optimization did not converge. Forecasts may be unstable.\n",
      "  warnings.warn(message, warning_type)\n"
     ]
    },
    {
     "name": "stdout",
     "output_type": "stream",
     "text": [
      "99500 19 9019 0.0\n",
      "99510 19 11968 0.0\n"
     ]
    },
    {
     "name": "stderr",
     "output_type": "stream",
     "text": [
      "/dados/anaconda3/lib/python3.7/site-packages/tbats/error/ExceptionHandler.py:13: ModelWarning: Optimization did not converge. Forecasts may be unstable.\n",
      "  warnings.warn(message, warning_type)\n"
     ]
    },
    {
     "name": "stdout",
     "output_type": "stream",
     "text": [
      "99520 19 6027 2.0\n",
      "99530 19 18361 0\n",
      "99540 19 18629 0\n",
      "99550 19 17883 0\n"
     ]
    },
    {
     "name": "stderr",
     "output_type": "stream",
     "text": [
      "/dados/anaconda3/lib/python3.7/site-packages/tbats/error/ExceptionHandler.py:13: ModelWarning: Optimization did not converge. Forecasts may be unstable.\n",
      "  warnings.warn(message, warning_type)\n"
     ]
    },
    {
     "name": "stdout",
     "output_type": "stream",
     "text": [
      "99560 19 18108 0.0\n",
      "99570 19 19126 0.0\n",
      "99580 19 19488 0\n"
     ]
    },
    {
     "name": "stderr",
     "output_type": "stream",
     "text": [
      "/dados/anaconda3/lib/python3.7/site-packages/tbats/error/ExceptionHandler.py:13: ModelWarning: Optimization did not converge. Forecasts may be unstable.\n",
      "  warnings.warn(message, warning_type)\n"
     ]
    },
    {
     "name": "stdout",
     "output_type": "stream",
     "text": [
      "99590 19 18759 0\n",
      "99600 19 18979 0\n",
      "99610 19 3236 1.0\n",
      "99620 19 19588 1.0\n",
      "99630 19 20952 0\n",
      "99640 19 21207 0\n",
      "99650 19 20833 0\n",
      "99660 19 20274 0.0\n",
      "99670 19 21795 1.0\n",
      "99680 19 21792 0.0\n",
      "99690 19 19951 0\n",
      "99700 19 19852 0.0\n"
     ]
    },
    {
     "name": "stderr",
     "output_type": "stream",
     "text": [
      "/dados/anaconda3/lib/python3.7/site-packages/tbats/error/ExceptionHandler.py:13: ModelWarning: Optimization did not converge. Forecasts may be unstable.\n",
      "  warnings.warn(message, warning_type)\n"
     ]
    },
    {
     "name": "stdout",
     "output_type": "stream",
     "text": [
      "99710 19 20600 0\n",
      "99720 19 20581 0\n"
     ]
    },
    {
     "name": "stderr",
     "output_type": "stream",
     "text": [
      "/dados/anaconda3/lib/python3.7/site-packages/tbats/error/ExceptionHandler.py:13: ModelWarning: Optimization did not converge. Forecasts may be unstable.\n",
      "  warnings.warn(message, warning_type)\n"
     ]
    },
    {
     "name": "stdout",
     "output_type": "stream",
     "text": [
      "99730 19 6312 1.0\n",
      "99740 19 3634 1.0\n",
      "99750 19 4707 0\n"
     ]
    },
    {
     "name": "stderr",
     "output_type": "stream",
     "text": [
      "/dados/anaconda3/lib/python3.7/site-packages/tbats/error/ExceptionHandler.py:13: ModelWarning: Optimization did not converge. Forecasts may be unstable.\n",
      "  warnings.warn(message, warning_type)\n"
     ]
    },
    {
     "name": "stdout",
     "output_type": "stream",
     "text": [
      "99760 19 8888 1.0\n",
      "99770 19 10099 0.0\n",
      "99780 19 6807 0\n"
     ]
    },
    {
     "name": "stderr",
     "output_type": "stream",
     "text": [
      "/dados/anaconda3/lib/python3.7/site-packages/tbats/error/ExceptionHandler.py:13: ModelWarning: Optimization did not converge. Forecasts may be unstable.\n",
      "  warnings.warn(message, warning_type)\n"
     ]
    },
    {
     "name": "stdout",
     "output_type": "stream",
     "text": [
      "99790 19 8112 0\n",
      "99800 19 19118 11.0\n"
     ]
    },
    {
     "name": "stderr",
     "output_type": "stream",
     "text": [
      "/dados/anaconda3/lib/python3.7/site-packages/tbats/error/ExceptionHandler.py:13: ModelWarning: Optimization did not converge. Forecasts may be unstable.\n",
      "  warnings.warn(message, warning_type)\n"
     ]
    },
    {
     "name": "stdout",
     "output_type": "stream",
     "text": [
      "99810 19 21790 0\n",
      "99820 19 13630 0\n",
      "99830 19 15478 0\n",
      "99840 19 15226 0.0\n"
     ]
    },
    {
     "name": "stderr",
     "output_type": "stream",
     "text": [
      "/dados/anaconda3/lib/python3.7/site-packages/tbats/error/ExceptionHandler.py:13: ModelWarning: Optimization did not converge. Forecasts may be unstable.\n",
      "  warnings.warn(message, warning_type)\n"
     ]
    },
    {
     "name": "stdout",
     "output_type": "stream",
     "text": [
      "99850 19 2585 0\n",
      "99860 19 2213 0\n",
      "99870 19 1611 0.0\n",
      "99880 19 12504 0.0\n",
      "99890 19 13445 0\n",
      "99900 19 11915 0.0\n",
      "99910 19 20739 0.0\n",
      "99920 19 21196 0\n",
      "99930 19 14108 0.0\n"
     ]
    },
    {
     "name": "stderr",
     "output_type": "stream",
     "text": [
      "/dados/anaconda3/lib/python3.7/site-packages/tbats/error/ExceptionHandler.py:13: ModelWarning: Optimization did not converge. Forecasts may be unstable.\n",
      "  warnings.warn(message, warning_type)\n"
     ]
    },
    {
     "name": "stdout",
     "output_type": "stream",
     "text": [
      "99940 19 3457 0\n",
      "99950 19 3096 0\n",
      "99960 19 15260 0\n",
      "99970 19 17157 0.0\n",
      "99980 19 413 0\n",
      "99990 19 1010 1.0\n",
      "100000 19 4364 0.0\n",
      "100010 19 6528 0\n",
      "100020 19 5470 1.0\n",
      "100030 19 19337 0\n",
      "100040 19 18017 0\n",
      "100050 19 14892 0.0\n",
      "100060 19 20393 0.0\n",
      "100070 19 15171 0\n"
     ]
    },
    {
     "name": "stderr",
     "output_type": "stream",
     "text": [
      "/dados/anaconda3/lib/python3.7/site-packages/tbats/error/ExceptionHandler.py:13: ModelWarning: Optimization did not converge. Forecasts may be unstable.\n",
      "  warnings.warn(message, warning_type)\n"
     ]
    },
    {
     "name": "stdout",
     "output_type": "stream",
     "text": [
      "100080 19 16093 0\n"
     ]
    },
    {
     "name": "stderr",
     "output_type": "stream",
     "text": [
      "/dados/anaconda3/lib/python3.7/site-packages/tbats/error/ExceptionHandler.py:13: ModelWarning: Optimization did not converge. Forecasts may be unstable.\n",
      "  warnings.warn(message, warning_type)\n"
     ]
    },
    {
     "name": "stdout",
     "output_type": "stream",
     "text": [
      "100090 19 16111 0.0\n",
      "100100 19 14962 2.0\n",
      "100110 19 16207 0.0\n",
      "100120 19 16786 0\n"
     ]
    },
    {
     "name": "stderr",
     "output_type": "stream",
     "text": [
      "/dados/anaconda3/lib/python3.7/site-packages/tbats/error/ExceptionHandler.py:13: ModelWarning: Optimization did not converge. Forecasts may be unstable.\n",
      "  warnings.warn(message, warning_type)\n",
      "/dados/anaconda3/lib/python3.7/site-packages/tbats/error/ExceptionHandler.py:13: ModelWarning: Optimization did not converge. Forecasts may be unstable.\n",
      "  warnings.warn(message, warning_type)\n"
     ]
    },
    {
     "name": "stdout",
     "output_type": "stream",
     "text": [
      "100130 19 8157 0.0\n",
      "100140 19 13448 0\n",
      "100150 19 13224 0\n",
      "100160 19 13512 0.0\n",
      "100170 19 13288 0\n",
      "100180 19 14164 0\n",
      "100190 19 12808 0.0\n",
      "100200 19 13647 0\n"
     ]
    },
    {
     "name": "stderr",
     "output_type": "stream",
     "text": [
      "/dados/anaconda3/lib/python3.7/site-packages/tbats/error/ExceptionHandler.py:13: ModelWarning: Optimization did not converge. Forecasts may be unstable.\n",
      "  warnings.warn(message, warning_type)\n"
     ]
    },
    {
     "name": "stdout",
     "output_type": "stream",
     "text": [
      "100210 19 12332 0\n",
      "100220 19 12091 0.0\n"
     ]
    },
    {
     "name": "stderr",
     "output_type": "stream",
     "text": [
      "/dados/anaconda3/lib/python3.7/site-packages/tbats/error/ExceptionHandler.py:13: ModelWarning: Optimization did not converge. Forecasts may be unstable.\n",
      "  warnings.warn(message, warning_type)\n"
     ]
    },
    {
     "name": "stdout",
     "output_type": "stream",
     "text": [
      "100230 19 11268 0\n",
      "100240 19 13223 0\n",
      "100250 19 13221 0\n",
      "100260 19 16179 0\n",
      "100270 19 15524 0\n",
      "100280 19 16045 0.0\n",
      "100290 19 16910 0\n",
      "100300 19 15667 0\n",
      "100310 19 16243 0\n",
      "100320 19 16349 0\n",
      "100330 19 15015 0\n",
      "100340 19 15134 0.0\n",
      "100350 19 14987 0\n",
      "100360 19 15318 0.0\n"
     ]
    },
    {
     "name": "stderr",
     "output_type": "stream",
     "text": [
      "/dados/anaconda3/lib/python3.7/site-packages/tbats/error/ExceptionHandler.py:13: ModelWarning: Optimization did not converge. Forecasts may be unstable.\n",
      "  warnings.warn(message, warning_type)\n"
     ]
    },
    {
     "name": "stdout",
     "output_type": "stream",
     "text": [
      "100370 19 15168 0\n",
      "100380 19 15220 0\n",
      "100390 19 6870 0\n",
      "100400 19 4480 0.0\n",
      "100410 19 5063 0\n",
      "100420 19 5155 0.0\n",
      "100430 19 5187 0\n",
      "100440 19 5121 0\n",
      "100450 19 10069 0\n",
      "100460 19 10287 0\n",
      "100470 19 10180 0\n",
      "100480 19 10772 0.0\n",
      "100490 19 11363 0\n",
      "100500 19 11044 0.0\n",
      "100510 19 8459 0\n",
      "100520 19 8363 0.0\n",
      "100530 19 7580 0\n",
      "100540 19 8968 0\n",
      "100550 19 9338 0\n",
      "100560 19 8428 0\n",
      "100570 19 14361 0.0\n",
      "100580 19 547 0\n"
     ]
    },
    {
     "name": "stderr",
     "output_type": "stream",
     "text": [
      "/dados/anaconda3/lib/python3.7/site-packages/tbats/error/ExceptionHandler.py:13: ModelWarning: Optimization did not converge. Forecasts may be unstable.\n",
      "  warnings.warn(message, warning_type)\n"
     ]
    },
    {
     "name": "stdout",
     "output_type": "stream",
     "text": [
      "100590 19 12743 1.0\n"
     ]
    },
    {
     "name": "stderr",
     "output_type": "stream",
     "text": [
      "/dados/anaconda3/lib/python3.7/site-packages/tbats/error/ExceptionHandler.py:13: ModelWarning: Optimization did not converge. Forecasts may be unstable.\n",
      "  warnings.warn(message, warning_type)\n"
     ]
    },
    {
     "name": "stdout",
     "output_type": "stream",
     "text": [
      "100600 19 20517 0.0\n"
     ]
    },
    {
     "name": "stderr",
     "output_type": "stream",
     "text": [
      "/dados/anaconda3/lib/python3.7/site-packages/tbats/error/ExceptionHandler.py:13: ModelWarning: Optimization did not converge. Forecasts may be unstable.\n",
      "  warnings.warn(message, warning_type)\n",
      "/dados/anaconda3/lib/python3.7/site-packages/tbats/error/ExceptionHandler.py:13: ModelWarning: Optimization did not converge. Forecasts may be unstable.\n",
      "  warnings.warn(message, warning_type)\n"
     ]
    },
    {
     "name": "stdout",
     "output_type": "stream",
     "text": [
      "100610 19 7924 0.0\n",
      "100620 19 3239 0.0\n",
      "100630 19 15458 0.0\n",
      "100640 19 18025 0\n",
      "100650 19 15031 0.0\n",
      "100660 19 14984 0\n"
     ]
    },
    {
     "name": "stderr",
     "output_type": "stream",
     "text": [
      "/dados/anaconda3/lib/python3.7/site-packages/tbats/error/ExceptionHandler.py:13: ModelWarning: Optimization did not converge. Forecasts may be unstable.\n",
      "  warnings.warn(message, warning_type)\n"
     ]
    },
    {
     "name": "stdout",
     "output_type": "stream",
     "text": [
      "100670 19 1254 0\n"
     ]
    },
    {
     "name": "stderr",
     "output_type": "stream",
     "text": [
      "/dados/anaconda3/lib/python3.7/site-packages/tbats/error/ExceptionHandler.py:13: ModelWarning: Optimization did not converge. Forecasts may be unstable.\n",
      "  warnings.warn(message, warning_type)\n",
      "/dados/anaconda3/lib/python3.7/site-packages/tbats/error/ExceptionHandler.py:13: ModelWarning: Optimization did not converge. Forecasts may be unstable.\n",
      "  warnings.warn(message, warning_type)\n"
     ]
    },
    {
     "name": "stdout",
     "output_type": "stream",
     "text": [
      "100680 19 18968 0.0\n",
      "100690 19 21139 0\n"
     ]
    },
    {
     "name": "stderr",
     "output_type": "stream",
     "text": [
      "/dados/anaconda3/lib/python3.7/site-packages/tbats/error/ExceptionHandler.py:13: ModelWarning: Optimization did not converge. Forecasts may be unstable.\n",
      "  warnings.warn(message, warning_type)\n"
     ]
    },
    {
     "name": "stdout",
     "output_type": "stream",
     "text": [
      "100700 19 3273 0\n",
      "100710 19 13407 0\n"
     ]
    },
    {
     "name": "stderr",
     "output_type": "stream",
     "text": [
      "/dados/anaconda3/lib/python3.7/site-packages/tbats/error/ExceptionHandler.py:13: ModelWarning: Optimization did not converge. Forecasts may be unstable.\n",
      "  warnings.warn(message, warning_type)\n"
     ]
    },
    {
     "name": "stdout",
     "output_type": "stream",
     "text": [
      "100720 19 21692 0\n",
      "100730 19 19127 0\n",
      "100740 19 16953 0.0\n",
      "100750 19 21400 0.0\n"
     ]
    },
    {
     "name": "stderr",
     "output_type": "stream",
     "text": [
      "/dados/anaconda3/lib/python3.7/site-packages/tbats/error/ExceptionHandler.py:13: ModelWarning: Optimization did not converge. Forecasts may be unstable.\n",
      "  warnings.warn(message, warning_type)\n"
     ]
    },
    {
     "name": "stdout",
     "output_type": "stream",
     "text": [
      "100760 19 20334 0\n",
      "100770 19 13693 0\n",
      "100780 19 12474 0\n",
      "100790 19 8468 0\n",
      "100800 19 11302 0\n",
      "100810 19 448 0\n"
     ]
    },
    {
     "name": "stderr",
     "output_type": "stream",
     "text": [
      "/dados/anaconda3/lib/python3.7/site-packages/tbats/error/ExceptionHandler.py:13: ModelWarning: Optimization did not converge. Forecasts may be unstable.\n",
      "  warnings.warn(message, warning_type)\n"
     ]
    },
    {
     "name": "stdout",
     "output_type": "stream",
     "text": [
      "100820 19 5272 1.0\n"
     ]
    },
    {
     "name": "stderr",
     "output_type": "stream",
     "text": [
      "/dados/anaconda3/lib/python3.7/site-packages/tbats/error/ExceptionHandler.py:13: ModelWarning: Optimization did not converge. Forecasts may be unstable.\n",
      "  warnings.warn(message, warning_type)\n"
     ]
    },
    {
     "name": "stdout",
     "output_type": "stream",
     "text": [
      "100830 19 6028 0\n",
      "100840 19 8855 0\n"
     ]
    },
    {
     "name": "stderr",
     "output_type": "stream",
     "text": [
      "/dados/anaconda3/lib/python3.7/site-packages/tbats/error/ExceptionHandler.py:13: ModelWarning: Optimization did not converge. Forecasts may be unstable.\n",
      "  warnings.warn(message, warning_type)\n"
     ]
    },
    {
     "name": "stdout",
     "output_type": "stream",
     "text": [
      "100850 19 2540 0\n"
     ]
    },
    {
     "name": "stderr",
     "output_type": "stream",
     "text": [
      "/dados/anaconda3/lib/python3.7/site-packages/tbats/error/ExceptionHandler.py:13: ModelWarning: Optimization did not converge. Forecasts may be unstable.\n",
      "  warnings.warn(message, warning_type)\n"
     ]
    },
    {
     "name": "stdout",
     "output_type": "stream",
     "text": [
      "100860 19 18315 0\n",
      "100870 19 2191 1.0\n"
     ]
    },
    {
     "name": "stderr",
     "output_type": "stream",
     "text": [
      "/dados/anaconda3/lib/python3.7/site-packages/tbats/error/ExceptionHandler.py:13: ModelWarning: Optimization did not converge. Forecasts may be unstable.\n",
      "  warnings.warn(message, warning_type)\n"
     ]
    },
    {
     "name": "stdout",
     "output_type": "stream",
     "text": [
      "100880 19 3333 0.0\n",
      "100890 19 20879 0\n",
      "100900 19 14760 0\n",
      "100910 19 4637 0.0\n"
     ]
    },
    {
     "name": "stderr",
     "output_type": "stream",
     "text": [
      "/dados/anaconda3/lib/python3.7/site-packages/tbats/error/ExceptionHandler.py:13: ModelWarning: Optimization did not converge. Forecasts may be unstable.\n",
      "  warnings.warn(message, warning_type)\n"
     ]
    },
    {
     "name": "stdout",
     "output_type": "stream",
     "text": [
      "100920 19 13494 3.0\n"
     ]
    },
    {
     "name": "stderr",
     "output_type": "stream",
     "text": [
      "/dados/anaconda3/lib/python3.7/site-packages/tbats/error/ExceptionHandler.py:13: ModelWarning: Optimization did not converge. Forecasts may be unstable.\n",
      "  warnings.warn(message, warning_type)\n"
     ]
    },
    {
     "name": "stdout",
     "output_type": "stream",
     "text": [
      "100930 19 16032 1.0\n",
      "100940 19 2523 0.0\n",
      "100950 19 5540 0\n",
      "100960 19 1453 0.0\n",
      "100970 19 11011 2.0\n",
      "100980 19 3548 0\n"
     ]
    },
    {
     "name": "stderr",
     "output_type": "stream",
     "text": [
      "/dados/anaconda3/lib/python3.7/site-packages/tbats/error/ExceptionHandler.py:13: ModelWarning: Optimization did not converge. Forecasts may be unstable.\n",
      "  warnings.warn(message, warning_type)\n"
     ]
    },
    {
     "name": "stdout",
     "output_type": "stream",
     "text": [
      "100990 19 6307 0.0\n",
      "101000 19 20196 0\n"
     ]
    },
    {
     "name": "stderr",
     "output_type": "stream",
     "text": [
      "/dados/anaconda3/lib/python3.7/site-packages/tbats/error/ExceptionHandler.py:13: ModelWarning: Optimization did not converge. Forecasts may be unstable.\n",
      "  warnings.warn(message, warning_type)\n"
     ]
    },
    {
     "name": "stdout",
     "output_type": "stream",
     "text": [
      "101010 19 19751 0.0\n",
      "101020 19 18457 0\n",
      "101030 19 18208 0\n"
     ]
    },
    {
     "name": "stderr",
     "output_type": "stream",
     "text": [
      "/dados/anaconda3/lib/python3.7/site-packages/tbats/error/ExceptionHandler.py:13: ModelWarning: Optimization did not converge. Forecasts may be unstable.\n",
      "  warnings.warn(message, warning_type)\n"
     ]
    },
    {
     "name": "stdout",
     "output_type": "stream",
     "text": [
      "101040 19 22013 0.0\n",
      "101050 19 20653 0.0\n"
     ]
    },
    {
     "name": "stderr",
     "output_type": "stream",
     "text": [
      "/dados/anaconda3/lib/python3.7/site-packages/tbats/error/ExceptionHandler.py:13: ModelWarning: Optimization did not converge. Forecasts may be unstable.\n",
      "  warnings.warn(message, warning_type)\n"
     ]
    },
    {
     "name": "stdout",
     "output_type": "stream",
     "text": [
      "101060 19 21053 0\n",
      "101070 19 11516 0\n"
     ]
    },
    {
     "name": "stderr",
     "output_type": "stream",
     "text": [
      "/dados/anaconda3/lib/python3.7/site-packages/tbats/error/ExceptionHandler.py:13: ModelWarning: Optimization did not converge. Forecasts may be unstable.\n",
      "  warnings.warn(message, warning_type)\n"
     ]
    },
    {
     "name": "stdout",
     "output_type": "stream",
     "text": [
      "101080 19 18481 0.0\n",
      "101090 19 15222 0\n",
      "101100 19 13327 0\n"
     ]
    },
    {
     "name": "stderr",
     "output_type": "stream",
     "text": [
      "/dados/anaconda3/lib/python3.7/site-packages/tbats/error/ExceptionHandler.py:13: ModelWarning: Optimization did not converge. Forecasts may be unstable.\n",
      "  warnings.warn(message, warning_type)\n"
     ]
    },
    {
     "name": "stdout",
     "output_type": "stream",
     "text": [
      "101110 19 18031 1.0\n",
      "101120 19 20821 0\n",
      "101130 19 18939 1.0\n",
      "101140 19 12208 0.0\n",
      "101150 19 15654 0.0\n"
     ]
    },
    {
     "name": "stderr",
     "output_type": "stream",
     "text": [
      "/dados/anaconda3/lib/python3.7/site-packages/tbats/error/ExceptionHandler.py:13: ModelWarning: Optimization did not converge. Forecasts may be unstable.\n",
      "  warnings.warn(message, warning_type)\n"
     ]
    },
    {
     "name": "stdout",
     "output_type": "stream",
     "text": [
      "101160 19 16028 0.0\n",
      "101170 19 20516 0\n",
      "101180 19 6400 1.0\n",
      "101190 19 16166 0\n"
     ]
    },
    {
     "name": "stderr",
     "output_type": "stream",
     "text": [
      "/dados/anaconda3/lib/python3.7/site-packages/tbats/error/ExceptionHandler.py:13: ModelWarning: Optimization did not converge. Forecasts may be unstable.\n",
      "  warnings.warn(message, warning_type)\n"
     ]
    },
    {
     "name": "stdout",
     "output_type": "stream",
     "text": [
      "101200 19 9534 0\n",
      "101210 19 10581 0\n",
      "101220 19 9111 0\n",
      "101230 19 13099 0\n",
      "101240 19 11874 0\n",
      "101250 19 12192 0\n",
      "101260 19 6430 0\n",
      "101270 19 5761 0\n",
      "101280 19 4903 0\n",
      "101290 19 5382 0\n",
      "101300 19 7817 0\n",
      "101310 19 6959 0\n",
      "101320 19 7057 0\n",
      "101330 19 21978 0\n",
      "101340 19 19347 0\n",
      "101350 19 20012 0\n"
     ]
    },
    {
     "name": "stderr",
     "output_type": "stream",
     "text": [
      "/dados/anaconda3/lib/python3.7/site-packages/tbats/error/ExceptionHandler.py:13: ModelWarning: Optimization did not converge. Forecasts may be unstable.\n",
      "  warnings.warn(message, warning_type)\n"
     ]
    },
    {
     "name": "stdout",
     "output_type": "stream",
     "text": [
      "101360 19 13732 0\n",
      "101370 19 14934 0\n",
      "101380 19 13341 0\n",
      "101390 19 16396 0\n",
      "101400 19 16813 0\n",
      "101410 19 15988 0\n",
      "101420 19 16272 0\n",
      "101430 19 504 0\n",
      "101440 19 688 0\n",
      "101450 19 616 0\n",
      "101460 19 204 0\n",
      "101470 19 1394 0\n",
      "101480 19 924 0\n",
      "101490 19 1506 0\n",
      "101500 19 849 0\n",
      "101510 19 20361 0.0\n",
      "101520 19 3715 0\n",
      "101530 19 3411 0\n",
      "101540 19 4765 0\n",
      "101550 19 4260 0\n",
      "101560 19 4144 0\n",
      "101570 19 4203 0\n",
      "101580 19 1794 0\n",
      "101590 19 2338 0\n",
      "101600 19 1792 0\n",
      "101610 19 2856 0\n",
      "101620 19 2434 0\n",
      "101630 19 3136 0\n",
      "101640 19 1018 0.0\n",
      "101650 19 19258 0\n"
     ]
    },
    {
     "name": "stderr",
     "output_type": "stream",
     "text": [
      "/dados/anaconda3/lib/python3.7/site-packages/tbats/error/ExceptionHandler.py:13: ModelWarning: Optimization did not converge. Forecasts may be unstable.\n",
      "  warnings.warn(message, warning_type)\n"
     ]
    },
    {
     "name": "stdout",
     "output_type": "stream",
     "text": [
      "101660 19 4736 0.0\n",
      "101670 19 5363 0.0\n"
     ]
    },
    {
     "name": "stderr",
     "output_type": "stream",
     "text": [
      "/dados/anaconda3/lib/python3.7/site-packages/tbats/error/ExceptionHandler.py:13: ModelWarning: Optimization did not converge. Forecasts may be unstable.\n",
      "  warnings.warn(message, warning_type)\n",
      "/dados/anaconda3/lib/python3.7/site-packages/tbats/error/ExceptionHandler.py:13: ModelWarning: Optimization did not converge. Forecasts may be unstable.\n",
      "  warnings.warn(message, warning_type)\n"
     ]
    },
    {
     "name": "stdout",
     "output_type": "stream",
     "text": [
      "101680 19 17390 0\n",
      "101690 19 11682 0\n",
      "101700 19 15735 0.0\n",
      "101710 19 14899 0.0\n",
      "101720 19 20212 0\n",
      "101730 19 5899 0.0\n",
      "101740 19 18476 0.0\n",
      "101750 19 6835 1.0\n",
      "101760 19 15405 0\n",
      "101770 19 17756 0\n",
      "101780 19 18500 0.0\n",
      "101790 19 16231 0\n",
      "101800 19 17015 1.0\n",
      "101810 19 13133 0\n",
      "101820 19 14222 0\n",
      "101830 19 13812 0.0\n"
     ]
    },
    {
     "name": "stderr",
     "output_type": "stream",
     "text": [
      "/dados/anaconda3/lib/python3.7/site-packages/tbats/error/ExceptionHandler.py:13: ModelWarning: Optimization did not converge. Forecasts may be unstable.\n",
      "  warnings.warn(message, warning_type)\n"
     ]
    },
    {
     "name": "stdout",
     "output_type": "stream",
     "text": [
      "101840 19 5010 0.0\n",
      "101850 19 21210 0\n",
      "101860 19 20916 0\n",
      "101870 19 21664 0\n",
      "101880 19 3232 0\n",
      "101890 19 3547 0.0\n",
      "101900 19 18707 0\n",
      "101910 19 11674 0.0\n",
      "101920 19 16057 1.0\n",
      "101930 19 15033 0\n",
      "101940 19 10508 0\n"
     ]
    },
    {
     "name": "stderr",
     "output_type": "stream",
     "text": [
      "/dados/anaconda3/lib/python3.7/site-packages/tbats/error/ExceptionHandler.py:13: ModelWarning: Optimization did not converge. Forecasts may be unstable.\n",
      "  warnings.warn(message, warning_type)\n"
     ]
    },
    {
     "name": "stdout",
     "output_type": "stream",
     "text": [
      "101950 19 7572 0\n",
      "101960 19 6882 0.0\n",
      "101970 19 14543 0.0\n",
      "101980 19 19889 0.0\n"
     ]
    },
    {
     "name": "stderr",
     "output_type": "stream",
     "text": [
      "/dados/anaconda3/lib/python3.7/site-packages/tbats/error/ExceptionHandler.py:13: ModelWarning: Optimization did not converge. Forecasts may be unstable.\n",
      "  warnings.warn(message, warning_type)\n",
      "/dados/anaconda3/lib/python3.7/site-packages/tbats/error/ExceptionHandler.py:13: ModelWarning: Optimization did not converge. Forecasts may be unstable.\n",
      "  warnings.warn(message, warning_type)\n"
     ]
    },
    {
     "name": "stdout",
     "output_type": "stream",
     "text": [
      "101990 19 3280 0.0\n"
     ]
    },
    {
     "name": "stderr",
     "output_type": "stream",
     "text": [
      "/dados/anaconda3/lib/python3.7/site-packages/tbats/error/ExceptionHandler.py:13: ModelWarning: Optimization did not converge. Forecasts may be unstable.\n",
      "  warnings.warn(message, warning_type)\n"
     ]
    },
    {
     "name": "stdout",
     "output_type": "stream",
     "text": [
      "102000 42 5037 2.0\n"
     ]
    },
    {
     "name": "stderr",
     "output_type": "stream",
     "text": [
      "/dados/anaconda3/lib/python3.7/site-packages/tbats/error/ExceptionHandler.py:13: ModelWarning: Optimization did not converge. Forecasts may be unstable.\n",
      "  warnings.warn(message, warning_type)\n"
     ]
    },
    {
     "name": "stdout",
     "output_type": "stream",
     "text": [
      "102010 42 4806 5.0\n"
     ]
    },
    {
     "name": "stderr",
     "output_type": "stream",
     "text": [
      "/dados/anaconda3/lib/python3.7/site-packages/tbats/error/ExceptionHandler.py:13: ModelWarning: Optimization did not converge. Forecasts may be unstable.\n",
      "  warnings.warn(message, warning_type)\n"
     ]
    },
    {
     "name": "stdout",
     "output_type": "stream",
     "text": [
      "102020 42 4717 2.0\n",
      "102030 42 5666 8.0\n"
     ]
    },
    {
     "name": "stderr",
     "output_type": "stream",
     "text": [
      "/dados/anaconda3/lib/python3.7/site-packages/tbats/error/ExceptionHandler.py:13: ModelWarning: Optimization did not converge. Forecasts may be unstable.\n",
      "  warnings.warn(message, warning_type)\n"
     ]
    },
    {
     "name": "stdout",
     "output_type": "stream",
     "text": [
      "102040 42 5840 0\n",
      "102050 42 5838 20.0\n",
      "102060 42 3352 0\n"
     ]
    },
    {
     "name": "stderr",
     "output_type": "stream",
     "text": [
      "/dados/anaconda3/lib/python3.7/site-packages/tbats/error/ExceptionHandler.py:13: ModelWarning: Optimization did not converge. Forecasts may be unstable.\n",
      "  warnings.warn(message, warning_type)\n"
     ]
    },
    {
     "name": "stdout",
     "output_type": "stream",
     "text": [
      "102070 42 3604 0\n",
      "102080 42 3443 0.0\n",
      "102090 42 4365 10.0\n"
     ]
    },
    {
     "name": "stderr",
     "output_type": "stream",
     "text": [
      "/dados/anaconda3/lib/python3.7/site-packages/tbats/error/ExceptionHandler.py:13: ModelWarning: Optimization did not converge. Forecasts may be unstable.\n",
      "  warnings.warn(message, warning_type)\n"
     ]
    },
    {
     "name": "stdout",
     "output_type": "stream",
     "text": [
      "102100 42 3733 0.0\n"
     ]
    },
    {
     "name": "stderr",
     "output_type": "stream",
     "text": [
      "/dados/anaconda3/lib/python3.7/site-packages/tbats/error/ExceptionHandler.py:13: ModelWarning: Optimization did not converge. Forecasts may be unstable.\n",
      "  warnings.warn(message, warning_type)\n"
     ]
    },
    {
     "name": "stdout",
     "output_type": "stream",
     "text": [
      "102110 42 4052 1.0\n",
      "102120 42 9395 1.0\n",
      "102130 42 9469 0\n",
      "102140 42 8653 1.0\n",
      "102150 42 9001 1.0\n",
      "102160 42 10447 0\n"
     ]
    },
    {
     "name": "stderr",
     "output_type": "stream",
     "text": [
      "/dados/anaconda3/lib/python3.7/site-packages/tbats/error/ExceptionHandler.py:13: ModelWarning: Optimization did not converge. Forecasts may be unstable.\n",
      "  warnings.warn(message, warning_type)\n"
     ]
    },
    {
     "name": "stdout",
     "output_type": "stream",
     "text": [
      "102170 42 10327 0\n"
     ]
    },
    {
     "name": "stderr",
     "output_type": "stream",
     "text": [
      "/dados/anaconda3/lib/python3.7/site-packages/tbats/error/ExceptionHandler.py:13: ModelWarning: Optimization did not converge. Forecasts may be unstable.\n",
      "  warnings.warn(message, warning_type)\n"
     ]
    },
    {
     "name": "stdout",
     "output_type": "stream",
     "text": [
      "102180 42 9927 0\n",
      "102190 42 6506 0\n",
      "102200 42 6731 0\n",
      "102210 42 6396 0.0\n"
     ]
    },
    {
     "name": "stderr",
     "output_type": "stream",
     "text": [
      "/dados/anaconda3/lib/python3.7/site-packages/tbats/error/ExceptionHandler.py:13: ModelWarning: Optimization did not converge. Forecasts may be unstable.\n",
      "  warnings.warn(message, warning_type)\n"
     ]
    },
    {
     "name": "stdout",
     "output_type": "stream",
     "text": [
      "102220 42 6064 8.0\n",
      "102230 42 7862 0\n"
     ]
    },
    {
     "name": "stderr",
     "output_type": "stream",
     "text": [
      "/dados/anaconda3/lib/python3.7/site-packages/tbats/error/ExceptionHandler.py:13: ModelWarning: Optimization did not converge. Forecasts may be unstable.\n",
      "  warnings.warn(message, warning_type)\n",
      "/dados/anaconda3/lib/python3.7/site-packages/tbats/error/ExceptionHandler.py:13: ModelWarning: Optimization did not converge. Forecasts may be unstable.\n",
      "  warnings.warn(message, warning_type)\n",
      "/dados/anaconda3/lib/python3.7/site-packages/tbats/error/ExceptionHandler.py:13: ModelWarning: Optimization did not converge. Forecasts may be unstable.\n",
      "  warnings.warn(message, warning_type)\n"
     ]
    },
    {
     "name": "stdout",
     "output_type": "stream",
     "text": [
      "102240 42 7328 1.0\n",
      "102250 42 7029 0\n",
      "102260 42 15777 0.0\n",
      "102270 42 16843 17.0\n",
      "102280 42 15496 4.0\n"
     ]
    },
    {
     "name": "stderr",
     "output_type": "stream",
     "text": [
      "/dados/anaconda3/lib/python3.7/site-packages/tbats/error/ExceptionHandler.py:13: ModelWarning: Optimization did not converge. Forecasts may be unstable.\n",
      "  warnings.warn(message, warning_type)\n"
     ]
    },
    {
     "name": "stdout",
     "output_type": "stream",
     "text": [
      "102290 42 16103 0.0\n"
     ]
    },
    {
     "name": "stderr",
     "output_type": "stream",
     "text": [
      "/dados/anaconda3/lib/python3.7/site-packages/tbats/error/ExceptionHandler.py:13: ModelWarning: Optimization did not converge. Forecasts may be unstable.\n",
      "  warnings.warn(message, warning_type)\n"
     ]
    },
    {
     "name": "stdout",
     "output_type": "stream",
     "text": [
      "102300 42 18825 0.0\n",
      "102310 42 19656 0\n",
      "102320 42 18397 0\n",
      "102330 42 15338 0\n"
     ]
    },
    {
     "name": "stderr",
     "output_type": "stream",
     "text": [
      "/dados/anaconda3/lib/python3.7/site-packages/tbats/error/ExceptionHandler.py:13: ModelWarning: Optimization did not converge. Forecasts may be unstable.\n",
      "  warnings.warn(message, warning_type)\n"
     ]
    },
    {
     "name": "stdout",
     "output_type": "stream",
     "text": [
      "102340 42 13023 0.0\n"
     ]
    },
    {
     "name": "stderr",
     "output_type": "stream",
     "text": [
      "/dados/anaconda3/lib/python3.7/site-packages/tbats/error/ExceptionHandler.py:13: ModelWarning: Optimization did not converge. Forecasts may be unstable.\n",
      "  warnings.warn(message, warning_type)\n"
     ]
    },
    {
     "name": "stdout",
     "output_type": "stream",
     "text": [
      "102350 42 13415 0\n",
      "102360 42 13464 4.0\n"
     ]
    },
    {
     "name": "stderr",
     "output_type": "stream",
     "text": [
      "/dados/anaconda3/lib/python3.7/site-packages/tbats/error/ExceptionHandler.py:13: ModelWarning: Optimization did not converge. Forecasts may be unstable.\n",
      "  warnings.warn(message, warning_type)\n"
     ]
    },
    {
     "name": "stdout",
     "output_type": "stream",
     "text": [
      "102370 42 14832 0\n",
      "102380 42 15069 0\n"
     ]
    },
    {
     "name": "stderr",
     "output_type": "stream",
     "text": [
      "/dados/anaconda3/lib/python3.7/site-packages/tbats/error/ExceptionHandler.py:13: ModelWarning: Optimization did not converge. Forecasts may be unstable.\n",
      "  warnings.warn(message, warning_type)\n"
     ]
    },
    {
     "name": "stdout",
     "output_type": "stream",
     "text": [
      "102390 42 15037 0\n",
      "102400 42 2131 0\n"
     ]
    },
    {
     "name": "stderr",
     "output_type": "stream",
     "text": [
      "/dados/anaconda3/lib/python3.7/site-packages/tbats/error/ExceptionHandler.py:13: ModelWarning: Optimization did not converge. Forecasts may be unstable.\n",
      "  warnings.warn(message, warning_type)\n",
      "/dados/anaconda3/lib/python3.7/site-packages/tbats/error/ExceptionHandler.py:13: ModelWarning: Optimization did not converge. Forecasts may be unstable.\n",
      "  warnings.warn(message, warning_type)\n"
     ]
    },
    {
     "name": "stdout",
     "output_type": "stream",
     "text": [
      "102410 42 1732 0\n",
      "102420 42 2574 1.0\n"
     ]
    },
    {
     "name": "stderr",
     "output_type": "stream",
     "text": [
      "/dados/anaconda3/lib/python3.7/site-packages/tbats/error/ExceptionHandler.py:13: ModelWarning: Optimization did not converge. Forecasts may be unstable.\n",
      "  warnings.warn(message, warning_type)\n"
     ]
    },
    {
     "name": "stdout",
     "output_type": "stream",
     "text": [
      "102430 42 3076 1.0\n",
      "102440 42 2779 0.0\n"
     ]
    },
    {
     "name": "stderr",
     "output_type": "stream",
     "text": [
      "/dados/anaconda3/lib/python3.7/site-packages/tbats/error/ExceptionHandler.py:13: ModelWarning: Optimization did not converge. Forecasts may be unstable.\n",
      "  warnings.warn(message, warning_type)\n",
      "/dados/anaconda3/lib/python3.7/site-packages/tbats/error/ExceptionHandler.py:13: ModelWarning: Optimization did not converge. Forecasts may be unstable.\n",
      "  warnings.warn(message, warning_type)\n"
     ]
    },
    {
     "name": "stdout",
     "output_type": "stream",
     "text": [
      "102450 42 2873 1.0\n",
      "102460 42 20949 20.0\n",
      "102470 42 21937 0\n",
      "102480 42 20400 0\n",
      "102490 42 20616 0.0\n",
      "102500 42 1585 0\n"
     ]
    },
    {
     "name": "stderr",
     "output_type": "stream",
     "text": [
      "/dados/anaconda3/lib/python3.7/site-packages/tbats/error/ExceptionHandler.py:13: ModelWarning: Optimization did not converge. Forecasts may be unstable.\n",
      "  warnings.warn(message, warning_type)\n"
     ]
    },
    {
     "name": "stdout",
     "output_type": "stream",
     "text": [
      "102510 42 982 1.0\n",
      "102520 42 1486 1.0\n",
      "102530 42 2328 0\n",
      "102540 42 2293 0.0\n"
     ]
    },
    {
     "name": "stderr",
     "output_type": "stream",
     "text": [
      "/dados/anaconda3/lib/python3.7/site-packages/tbats/error/ExceptionHandler.py:13: ModelWarning: Optimization did not converge. Forecasts may be unstable.\n",
      "  warnings.warn(message, warning_type)\n"
     ]
    },
    {
     "name": "stdout",
     "output_type": "stream",
     "text": [
      "102550 42 3022 0\n"
     ]
    },
    {
     "name": "stderr",
     "output_type": "stream",
     "text": [
      "/dados/anaconda3/lib/python3.7/site-packages/tbats/error/ExceptionHandler.py:13: ModelWarning: Optimization did not converge. Forecasts may be unstable.\n",
      "  warnings.warn(message, warning_type)\n",
      "/dados/anaconda3/lib/python3.7/site-packages/tbats/error/ExceptionHandler.py:13: ModelWarning: Optimization did not converge. Forecasts may be unstable.\n",
      "  warnings.warn(message, warning_type)\n"
     ]
    },
    {
     "name": "stdout",
     "output_type": "stream",
     "text": [
      "102560 42 2743 0.0\n",
      "102570 42 1963 0\n",
      "102580 42 1295 0\n",
      "102590 42 22100 2.0\n",
      "102600 42 482 1.0\n",
      "102610 42 1877 0.0\n"
     ]
    },
    {
     "name": "stderr",
     "output_type": "stream",
     "text": [
      "/dados/anaconda3/lib/python3.7/site-packages/tbats/error/ExceptionHandler.py:13: ModelWarning: Optimization did not converge. Forecasts may be unstable.\n",
      "  warnings.warn(message, warning_type)\n"
     ]
    },
    {
     "name": "stdout",
     "output_type": "stream",
     "text": [
      "102620 42 1570 3.0\n"
     ]
    },
    {
     "name": "stderr",
     "output_type": "stream",
     "text": [
      "/dados/anaconda3/lib/python3.7/site-packages/tbats/error/ExceptionHandler.py:13: ModelWarning: Optimization did not converge. Forecasts may be unstable.\n",
      "  warnings.warn(message, warning_type)\n"
     ]
    },
    {
     "name": "stdout",
     "output_type": "stream",
     "text": [
      "102630 42 4003 1.0\n",
      "102640 42 3851 3.0\n"
     ]
    },
    {
     "name": "stderr",
     "output_type": "stream",
     "text": [
      "/dados/anaconda3/lib/python3.7/site-packages/tbats/error/ExceptionHandler.py:13: ModelWarning: Optimization did not converge. Forecasts may be unstable.\n",
      "  warnings.warn(message, warning_type)\n"
     ]
    },
    {
     "name": "stdout",
     "output_type": "stream",
     "text": [
      "102650 42 4420 1.0\n",
      "102660 42 4085 0.0\n"
     ]
    },
    {
     "name": "stderr",
     "output_type": "stream",
     "text": [
      "/dados/anaconda3/lib/python3.7/site-packages/tbats/error/ExceptionHandler.py:13: ModelWarning: Optimization did not converge. Forecasts may be unstable.\n",
      "  warnings.warn(message, warning_type)\n",
      "/dados/anaconda3/lib/python3.7/site-packages/tbats/error/ExceptionHandler.py:13: ModelWarning: Optimization did not converge. Forecasts may be unstable.\n",
      "  warnings.warn(message, warning_type)\n"
     ]
    },
    {
     "name": "stdout",
     "output_type": "stream",
     "text": [
      "102670 42 3528 0.0\n",
      "102680 42 3459 0\n",
      "102690 42 12771 0.0\n",
      "102700 42 13334 0\n"
     ]
    },
    {
     "name": "stderr",
     "output_type": "stream",
     "text": [
      "/dados/anaconda3/lib/python3.7/site-packages/tbats/error/ExceptionHandler.py:13: ModelWarning: Optimization did not converge. Forecasts may be unstable.\n",
      "  warnings.warn(message, warning_type)\n"
     ]
    },
    {
     "name": "stdout",
     "output_type": "stream",
     "text": [
      "102710 42 15047 0.0\n",
      "102720 42 13818 0\n",
      "102730 42 12549 0.0\n",
      "102740 42 12698 0\n"
     ]
    },
    {
     "name": "stderr",
     "output_type": "stream",
     "text": [
      "/dados/anaconda3/lib/python3.7/site-packages/tbats/error/ExceptionHandler.py:13: ModelWarning: Optimization did not converge. Forecasts may be unstable.\n",
      "  warnings.warn(message, warning_type)\n"
     ]
    },
    {
     "name": "stdout",
     "output_type": "stream",
     "text": [
      "102750 42 12360 1.0\n",
      "102760 42 11811 3.0\n"
     ]
    },
    {
     "name": "stderr",
     "output_type": "stream",
     "text": [
      "/dados/anaconda3/lib/python3.7/site-packages/tbats/error/ExceptionHandler.py:13: ModelWarning: Optimization did not converge. Forecasts may be unstable.\n",
      "  warnings.warn(message, warning_type)\n"
     ]
    },
    {
     "name": "stdout",
     "output_type": "stream",
     "text": [
      "102770 42 12023 0\n",
      "102780 42 13275 0\n"
     ]
    },
    {
     "name": "stderr",
     "output_type": "stream",
     "text": [
      "/dados/anaconda3/lib/python3.7/site-packages/tbats/error/ExceptionHandler.py:13: ModelWarning: Optimization did not converge. Forecasts may be unstable.\n",
      "  warnings.warn(message, warning_type)\n"
     ]
    },
    {
     "name": "stdout",
     "output_type": "stream",
     "text": [
      "102790 42 13303 0\n",
      "102800 42 13226 0\n",
      "102810 42 20609 1.0\n"
     ]
    },
    {
     "name": "stderr",
     "output_type": "stream",
     "text": [
      "/dados/anaconda3/lib/python3.7/site-packages/tbats/error/ExceptionHandler.py:13: ModelWarning: Optimization did not converge. Forecasts may be unstable.\n",
      "  warnings.warn(message, warning_type)\n"
     ]
    },
    {
     "name": "stdout",
     "output_type": "stream",
     "text": [
      "102820 42 19430 3.0\n",
      "102830 42 21942 0\n"
     ]
    },
    {
     "name": "stderr",
     "output_type": "stream",
     "text": [
      "/dados/anaconda3/lib/python3.7/site-packages/tbats/error/ExceptionHandler.py:13: ModelWarning: Optimization did not converge. Forecasts may be unstable.\n",
      "  warnings.warn(message, warning_type)\n"
     ]
    },
    {
     "name": "stdout",
     "output_type": "stream",
     "text": [
      "102840 42 18201 1.0\n"
     ]
    },
    {
     "name": "stderr",
     "output_type": "stream",
     "text": [
      "/dados/anaconda3/lib/python3.7/site-packages/tbats/error/ExceptionHandler.py:13: ModelWarning: Optimization did not converge. Forecasts may be unstable.\n",
      "  warnings.warn(message, warning_type)\n"
     ]
    },
    {
     "name": "stdout",
     "output_type": "stream",
     "text": [
      "102850 42 16122 0.0\n",
      "102860 42 14668 0.0\n",
      "102870 42 15323 0.0\n"
     ]
    },
    {
     "name": "stderr",
     "output_type": "stream",
     "text": [
      "/dados/anaconda3/lib/python3.7/site-packages/tbats/error/ExceptionHandler.py:13: ModelWarning: Optimization did not converge. Forecasts may be unstable.\n",
      "  warnings.warn(message, warning_type)\n",
      "/dados/anaconda3/lib/python3.7/site-packages/tbats/error/ExceptionHandler.py:13: ModelWarning: Optimization did not converge. Forecasts may be unstable.\n",
      "  warnings.warn(message, warning_type)\n"
     ]
    },
    {
     "name": "stdout",
     "output_type": "stream",
     "text": [
      "102880 42 17481 1.0\n",
      "102890 42 16541 0.0\n",
      "102900 42 1239 1.0\n"
     ]
    },
    {
     "name": "stderr",
     "output_type": "stream",
     "text": [
      "/dados/anaconda3/lib/python3.7/site-packages/tbats/error/ExceptionHandler.py:13: ModelWarning: Optimization did not converge. Forecasts may be unstable.\n",
      "  warnings.warn(message, warning_type)\n"
     ]
    },
    {
     "name": "stdout",
     "output_type": "stream",
     "text": [
      "102910 42 20631 7.0\n"
     ]
    },
    {
     "name": "stderr",
     "output_type": "stream",
     "text": [
      "/dados/anaconda3/lib/python3.7/site-packages/tbats/error/ExceptionHandler.py:13: ModelWarning: Optimization did not converge. Forecasts may be unstable.\n",
      "  warnings.warn(message, warning_type)\n",
      "/dados/anaconda3/lib/python3.7/site-packages/tbats/error/ExceptionHandler.py:13: ModelWarning: Optimization did not converge. Forecasts may be unstable.\n",
      "  warnings.warn(message, warning_type)\n",
      "/dados/anaconda3/lib/python3.7/site-packages/tbats/error/ExceptionHandler.py:13: ModelWarning: Optimization did not converge. Forecasts may be unstable.\n",
      "  warnings.warn(message, warning_type)\n"
     ]
    },
    {
     "name": "stdout",
     "output_type": "stream",
     "text": [
      "102920 42 2787 0\n",
      "102930 42 15282 0.0\n",
      "102940 42 16145 0\n"
     ]
    },
    {
     "name": "stderr",
     "output_type": "stream",
     "text": [
      "/dados/anaconda3/lib/python3.7/site-packages/tbats/error/ExceptionHandler.py:13: ModelWarning: Optimization did not converge. Forecasts may be unstable.\n",
      "  warnings.warn(message, warning_type)\n",
      "/dados/anaconda3/lib/python3.7/site-packages/tbats/error/ExceptionHandler.py:13: ModelWarning: Optimization did not converge. Forecasts may be unstable.\n",
      "  warnings.warn(message, warning_type)\n"
     ]
    },
    {
     "name": "stdout",
     "output_type": "stream",
     "text": [
      "102950 42 19125 0\n",
      "102960 42 17032 0\n"
     ]
    },
    {
     "name": "stderr",
     "output_type": "stream",
     "text": [
      "/dados/anaconda3/lib/python3.7/site-packages/tbats/error/ExceptionHandler.py:13: ModelWarning: Optimization did not converge. Forecasts may be unstable.\n",
      "  warnings.warn(message, warning_type)\n"
     ]
    },
    {
     "name": "stdout",
     "output_type": "stream",
     "text": [
      "102970 42 5383 0\n",
      "102980 42 4895 14.0\n"
     ]
    },
    {
     "name": "stderr",
     "output_type": "stream",
     "text": [
      "/dados/anaconda3/lib/python3.7/site-packages/tbats/error/ExceptionHandler.py:13: ModelWarning: Optimization did not converge. Forecasts may be unstable.\n",
      "  warnings.warn(message, warning_type)\n"
     ]
    },
    {
     "name": "stdout",
     "output_type": "stream",
     "text": [
      "102990 42 6505 0\n"
     ]
    },
    {
     "name": "stderr",
     "output_type": "stream",
     "text": [
      "/dados/anaconda3/lib/python3.7/site-packages/tbats/error/ExceptionHandler.py:13: ModelWarning: Optimization did not converge. Forecasts may be unstable.\n",
      "  warnings.warn(message, warning_type)\n"
     ]
    },
    {
     "name": "stdout",
     "output_type": "stream",
     "text": [
      "103000 42 6082 0.0\n"
     ]
    },
    {
     "name": "stderr",
     "output_type": "stream",
     "text": [
      "/dados/anaconda3/lib/python3.7/site-packages/tbats/error/ExceptionHandler.py:13: ModelWarning: Optimization did not converge. Forecasts may be unstable.\n",
      "  warnings.warn(message, warning_type)\n"
     ]
    },
    {
     "name": "stdout",
     "output_type": "stream",
     "text": [
      "103010 42 3822 0.0\n",
      "103020 42 6129 0.0\n"
     ]
    },
    {
     "name": "stderr",
     "output_type": "stream",
     "text": [
      "/dados/anaconda3/lib/python3.7/site-packages/tbats/error/ExceptionHandler.py:13: ModelWarning: Optimization did not converge. Forecasts may be unstable.\n",
      "  warnings.warn(message, warning_type)\n"
     ]
    },
    {
     "name": "stdout",
     "output_type": "stream",
     "text": [
      "103030 42 3833 1.0\n",
      "103040 42 3871 0.0\n",
      "103050 42 13285 0.0\n",
      "103060 42 11938 1.0\n",
      "103070 42 14457 0.0\n"
     ]
    },
    {
     "name": "stderr",
     "output_type": "stream",
     "text": [
      "/dados/anaconda3/lib/python3.7/site-packages/tbats/error/ExceptionHandler.py:13: ModelWarning: Optimization did not converge. Forecasts may be unstable.\n",
      "  warnings.warn(message, warning_type)\n"
     ]
    },
    {
     "name": "stdout",
     "output_type": "stream",
     "text": [
      "103080 42 7982 14.0\n"
     ]
    },
    {
     "name": "stderr",
     "output_type": "stream",
     "text": [
      "/dados/anaconda3/lib/python3.7/site-packages/tbats/error/ExceptionHandler.py:13: ModelWarning: Optimization did not converge. Forecasts may be unstable.\n",
      "  warnings.warn(message, warning_type)\n"
     ]
    },
    {
     "name": "stdout",
     "output_type": "stream",
     "text": [
      "103090 42 7224 0\n",
      "103100 42 10211 16.0\n",
      "103110 42 9404 1.0\n"
     ]
    },
    {
     "name": "stderr",
     "output_type": "stream",
     "text": [
      "/dados/anaconda3/lib/python3.7/site-packages/tbats/error/ExceptionHandler.py:13: ModelWarning: Optimization did not converge. Forecasts may be unstable.\n",
      "  warnings.warn(message, warning_type)\n"
     ]
    },
    {
     "name": "stdout",
     "output_type": "stream",
     "text": [
      "103120 42 4049 1.0\n",
      "103130 42 4999 0.0\n",
      "103140 42 3342 0.0\n",
      "103150 42 10190 0.0\n"
     ]
    },
    {
     "name": "stderr",
     "output_type": "stream",
     "text": [
      "/dados/anaconda3/lib/python3.7/site-packages/tbats/error/ExceptionHandler.py:13: ModelWarning: Optimization did not converge. Forecasts may be unstable.\n",
      "  warnings.warn(message, warning_type)\n"
     ]
    },
    {
     "name": "stdout",
     "output_type": "stream",
     "text": [
      "103160 42 9408 0.0\n",
      "103170 42 13237 0\n",
      "103180 42 10987 0.0\n"
     ]
    },
    {
     "name": "stderr",
     "output_type": "stream",
     "text": [
      "/dados/anaconda3/lib/python3.7/site-packages/tbats/error/ExceptionHandler.py:13: ModelWarning: Optimization did not converge. Forecasts may be unstable.\n",
      "  warnings.warn(message, warning_type)\n"
     ]
    },
    {
     "name": "stdout",
     "output_type": "stream",
     "text": [
      "103190 42 6625 1.0\n"
     ]
    },
    {
     "name": "stderr",
     "output_type": "stream",
     "text": [
      "/dados/anaconda3/lib/python3.7/site-packages/tbats/error/ExceptionHandler.py:13: ModelWarning: Optimization did not converge. Forecasts may be unstable.\n",
      "  warnings.warn(message, warning_type)\n",
      "/dados/anaconda3/lib/python3.7/site-packages/tbats/error/ExceptionHandler.py:13: ModelWarning: Optimization did not converge. Forecasts may be unstable.\n",
      "  warnings.warn(message, warning_type)\n"
     ]
    },
    {
     "name": "stdout",
     "output_type": "stream",
     "text": [
      "103200 42 6090 1.0\n",
      "103210 42 7019 1.0\n",
      "103220 42 12500 1.0\n",
      "103230 42 10448 0\n"
     ]
    },
    {
     "name": "stderr",
     "output_type": "stream",
     "text": [
      "/dados/anaconda3/lib/python3.7/site-packages/tbats/error/ExceptionHandler.py:13: ModelWarning: Optimization did not converge. Forecasts may be unstable.\n",
      "  warnings.warn(message, warning_type)\n"
     ]
    },
    {
     "name": "stdout",
     "output_type": "stream",
     "text": [
      "103240 42 12805 1.0\n",
      "103250 42 14247 1.0\n",
      "103260 42 7133 0\n"
     ]
    },
    {
     "name": "stderr",
     "output_type": "stream",
     "text": [
      "/dados/anaconda3/lib/python3.7/site-packages/tbats/error/ExceptionHandler.py:13: ModelWarning: Optimization did not converge. Forecasts may be unstable.\n",
      "  warnings.warn(message, warning_type)\n"
     ]
    },
    {
     "name": "stdout",
     "output_type": "stream",
     "text": [
      "103270 42 10292 1.0\n",
      "103280 42 1007 0.0\n",
      "103290 42 1717 0.0\n",
      "103300 42 14390 1.0\n",
      "103310 42 19908 0.0\n",
      "103320 42 17888 0\n",
      "103330 42 21722 0\n",
      "103340 42 940 0\n",
      "103350 42 18926 0.0\n"
     ]
    },
    {
     "name": "stderr",
     "output_type": "stream",
     "text": [
      "/dados/anaconda3/lib/python3.7/site-packages/tbats/error/ExceptionHandler.py:13: ModelWarning: Optimization did not converge. Forecasts may be unstable.\n",
      "  warnings.warn(message, warning_type)\n"
     ]
    },
    {
     "name": "stdout",
     "output_type": "stream",
     "text": [
      "103360 42 17772 0\n",
      "103370 42 19219 0\n"
     ]
    },
    {
     "name": "stderr",
     "output_type": "stream",
     "text": [
      "/dados/anaconda3/lib/python3.7/site-packages/tbats/error/ExceptionHandler.py:13: ModelWarning: Optimization did not converge. Forecasts may be unstable.\n",
      "  warnings.warn(message, warning_type)\n",
      "/dados/anaconda3/lib/python3.7/site-packages/tbats/error/ExceptionHandler.py:13: ModelWarning: Optimization did not converge. Forecasts may be unstable.\n",
      "  warnings.warn(message, warning_type)\n"
     ]
    },
    {
     "name": "stdout",
     "output_type": "stream",
     "text": [
      "103380 42 20225 1.0\n",
      "103390 42 5816 1.0\n",
      "103400 42 8868 0\n",
      "103410 42 17459 0.0\n",
      "103420 42 17420 0.0\n"
     ]
    },
    {
     "name": "stderr",
     "output_type": "stream",
     "text": [
      "/dados/anaconda3/lib/python3.7/site-packages/tbats/error/ExceptionHandler.py:13: ModelWarning: Optimization did not converge. Forecasts may be unstable.\n",
      "  warnings.warn(message, warning_type)\n"
     ]
    },
    {
     "name": "stdout",
     "output_type": "stream",
     "text": [
      "103430 42 10812 0\n",
      "103440 42 11771 0\n",
      "103450 42 10554 0\n",
      "103460 42 10378 1.0\n"
     ]
    },
    {
     "name": "stderr",
     "output_type": "stream",
     "text": [
      "/dados/anaconda3/lib/python3.7/site-packages/tbats/error/ExceptionHandler.py:13: ModelWarning: Optimization did not converge. Forecasts may be unstable.\n",
      "  warnings.warn(message, warning_type)\n"
     ]
    },
    {
     "name": "stdout",
     "output_type": "stream",
     "text": [
      "103470 42 16125 0.0\n"
     ]
    },
    {
     "name": "stderr",
     "output_type": "stream",
     "text": [
      "/dados/anaconda3/lib/python3.7/site-packages/tbats/error/ExceptionHandler.py:13: ModelWarning: Optimization did not converge. Forecasts may be unstable.\n",
      "  warnings.warn(message, warning_type)\n"
     ]
    },
    {
     "name": "stdout",
     "output_type": "stream",
     "text": [
      "103480 42 15300 1.0\n",
      "103490 42 17270 5.0\n",
      "103500 42 16735 1.0\n",
      "103510 42 13893 0.0\n",
      "103520 42 13633 0\n"
     ]
    },
    {
     "name": "stderr",
     "output_type": "stream",
     "text": [
      "/dados/anaconda3/lib/python3.7/site-packages/tbats/error/ExceptionHandler.py:13: ModelWarning: Optimization did not converge. Forecasts may be unstable.\n",
      "  warnings.warn(message, warning_type)\n"
     ]
    },
    {
     "name": "stdout",
     "output_type": "stream",
     "text": [
      "103530 42 14267 0.0\n",
      "103540 42 7592 0\n",
      "103550 42 8734 0.0\n",
      "103560 42 8986 0.0\n",
      "103570 42 8453 0\n"
     ]
    },
    {
     "name": "stderr",
     "output_type": "stream",
     "text": [
      "/dados/anaconda3/lib/python3.7/site-packages/tbats/error/ExceptionHandler.py:13: ModelWarning: Optimization did not converge. Forecasts may be unstable.\n",
      "  warnings.warn(message, warning_type)\n"
     ]
    },
    {
     "name": "stdout",
     "output_type": "stream",
     "text": [
      "103580 42 4141 0\n",
      "103590 42 6420 3.0\n"
     ]
    },
    {
     "name": "stderr",
     "output_type": "stream",
     "text": [
      "/dados/anaconda3/lib/python3.7/site-packages/tbats/error/ExceptionHandler.py:13: ModelWarning: Optimization did not converge. Forecasts may be unstable.\n",
      "  warnings.warn(message, warning_type)\n"
     ]
    },
    {
     "name": "stdout",
     "output_type": "stream",
     "text": [
      "103600 42 11266 1.0\n",
      "103610 42 13270 0.0\n",
      "103620 42 13100 1.0\n",
      "103630 42 10146 0.0\n",
      "103640 42 10425 0.0\n",
      "103650 42 11365 0\n"
     ]
    },
    {
     "name": "stderr",
     "output_type": "stream",
     "text": [
      "/dados/anaconda3/lib/python3.7/site-packages/tbats/error/ExceptionHandler.py:13: ModelWarning: Optimization did not converge. Forecasts may be unstable.\n",
      "  warnings.warn(message, warning_type)\n"
     ]
    },
    {
     "name": "stdout",
     "output_type": "stream",
     "text": [
      "103660 42 14848 0.0\n",
      "103670 42 21367 1.0\n",
      "103680 42 8077 3.0\n",
      "103690 42 12286 1.0\n",
      "103700 42 3028 0.0\n"
     ]
    },
    {
     "name": "stderr",
     "output_type": "stream",
     "text": [
      "/dados/anaconda3/lib/python3.7/site-packages/tbats/error/ExceptionHandler.py:13: ModelWarning: Optimization did not converge. Forecasts may be unstable.\n",
      "  warnings.warn(message, warning_type)\n"
     ]
    },
    {
     "name": "stdout",
     "output_type": "stream",
     "text": [
      "103710 42 3862 0.0\n"
     ]
    },
    {
     "name": "stderr",
     "output_type": "stream",
     "text": [
      "/dados/anaconda3/lib/python3.7/site-packages/tbats/error/ExceptionHandler.py:13: ModelWarning: Optimization did not converge. Forecasts may be unstable.\n",
      "  warnings.warn(message, warning_type)\n"
     ]
    },
    {
     "name": "stdout",
     "output_type": "stream",
     "text": [
      "103720 42 794 2.0\n",
      "103730 42 353 0\n",
      "103740 42 1074 0.0\n",
      "103750 42 13208 0\n",
      "103760 42 12501 0.0\n",
      "103770 42 10045 0\n"
     ]
    },
    {
     "name": "stderr",
     "output_type": "stream",
     "text": [
      "/dados/anaconda3/lib/python3.7/site-packages/tbats/error/ExceptionHandler.py:13: ModelWarning: Optimization did not converge. Forecasts may be unstable.\n",
      "  warnings.warn(message, warning_type)\n",
      "/dados/anaconda3/lib/python3.7/site-packages/tbats/error/ExceptionHandler.py:13: ModelWarning: Optimization did not converge. Forecasts may be unstable.\n",
      "  warnings.warn(message, warning_type)\n"
     ]
    },
    {
     "name": "stdout",
     "output_type": "stream",
     "text": [
      "103780 42 12090 0.0\n"
     ]
    },
    {
     "name": "stderr",
     "output_type": "stream",
     "text": [
      "/dados/anaconda3/lib/python3.7/site-packages/tbats/error/ExceptionHandler.py:13: ModelWarning: Optimization did not converge. Forecasts may be unstable.\n",
      "  warnings.warn(message, warning_type)\n"
     ]
    },
    {
     "name": "stdout",
     "output_type": "stream",
     "text": [
      "103790 42 11534 0\n"
     ]
    },
    {
     "name": "stderr",
     "output_type": "stream",
     "text": [
      "/dados/anaconda3/lib/python3.7/site-packages/tbats/error/ExceptionHandler.py:13: ModelWarning: Optimization did not converge. Forecasts may be unstable.\n",
      "  warnings.warn(message, warning_type)\n"
     ]
    },
    {
     "name": "stdout",
     "output_type": "stream",
     "text": [
      "103800 42 15512 0\n"
     ]
    },
    {
     "name": "stderr",
     "output_type": "stream",
     "text": [
      "/dados/anaconda3/lib/python3.7/site-packages/tbats/error/ExceptionHandler.py:13: ModelWarning: Optimization did not converge. Forecasts may be unstable.\n",
      "  warnings.warn(message, warning_type)\n",
      "/dados/anaconda3/lib/python3.7/site-packages/tbats/error/ExceptionHandler.py:13: ModelWarning: Optimization did not converge. Forecasts may be unstable.\n",
      "  warnings.warn(message, warning_type)\n"
     ]
    },
    {
     "name": "stdout",
     "output_type": "stream",
     "text": [
      "103810 42 15166 0.0\n"
     ]
    },
    {
     "name": "stderr",
     "output_type": "stream",
     "text": [
      "/dados/anaconda3/lib/python3.7/site-packages/tbats/error/ExceptionHandler.py:13: ModelWarning: Optimization did not converge. Forecasts may be unstable.\n",
      "  warnings.warn(message, warning_type)\n"
     ]
    },
    {
     "name": "stdout",
     "output_type": "stream",
     "text": [
      "103820 42 16534 1.0\n",
      "103830 42 16155 0.0\n"
     ]
    },
    {
     "name": "stderr",
     "output_type": "stream",
     "text": [
      "/dados/anaconda3/lib/python3.7/site-packages/tbats/error/ExceptionHandler.py:13: ModelWarning: Optimization did not converge. Forecasts may be unstable.\n",
      "  warnings.warn(message, warning_type)\n",
      "/dados/anaconda3/lib/python3.7/site-packages/tbats/error/ExceptionHandler.py:13: ModelWarning: Optimization did not converge. Forecasts may be unstable.\n",
      "  warnings.warn(message, warning_type)\n"
     ]
    },
    {
     "name": "stdout",
     "output_type": "stream",
     "text": [
      "103840 42 12830 0.0\n",
      "103850 42 14124 0.0\n",
      "103860 42 5945 1.0\n",
      "103870 42 6678 0\n",
      "103880 42 4944 2.0\n"
     ]
    },
    {
     "name": "stderr",
     "output_type": "stream",
     "text": [
      "/dados/anaconda3/lib/python3.7/site-packages/tbats/error/ExceptionHandler.py:13: ModelWarning: Optimization did not converge. Forecasts may be unstable.\n",
      "  warnings.warn(message, warning_type)\n"
     ]
    },
    {
     "name": "stdout",
     "output_type": "stream",
     "text": [
      "103890 42 5517 0\n",
      "103900 42 8398 0\n",
      "103910 42 7458 3.0\n",
      "103920 42 7882 0.0\n",
      "103930 42 7793 0.0\n",
      "103940 42 3477 0.0\n"
     ]
    },
    {
     "name": "stderr",
     "output_type": "stream",
     "text": [
      "/dados/anaconda3/lib/python3.7/site-packages/tbats/error/ExceptionHandler.py:13: ModelWarning: Optimization did not converge. Forecasts may be unstable.\n",
      "  warnings.warn(message, warning_type)\n"
     ]
    },
    {
     "name": "stdout",
     "output_type": "stream",
     "text": [
      "103950 42 8686 1.0\n",
      "103960 42 20560 0\n"
     ]
    },
    {
     "name": "stderr",
     "output_type": "stream",
     "text": [
      "/dados/anaconda3/lib/python3.7/site-packages/tbats/error/ExceptionHandler.py:13: ModelWarning: Optimization did not converge. Forecasts may be unstable.\n",
      "  warnings.warn(message, warning_type)\n"
     ]
    },
    {
     "name": "stdout",
     "output_type": "stream",
     "text": [
      "103970 42 19874 0\n",
      "103980 42 17869 1.0\n"
     ]
    },
    {
     "name": "stderr",
     "output_type": "stream",
     "text": [
      "/dados/anaconda3/lib/python3.7/site-packages/tbats/error/ExceptionHandler.py:13: ModelWarning: Optimization did not converge. Forecasts may be unstable.\n",
      "  warnings.warn(message, warning_type)\n"
     ]
    },
    {
     "name": "stdout",
     "output_type": "stream",
     "text": [
      "103990 42 21548 0\n",
      "104000 42 18255 0.0\n"
     ]
    },
    {
     "name": "stderr",
     "output_type": "stream",
     "text": [
      "/dados/anaconda3/lib/python3.7/site-packages/tbats/error/ExceptionHandler.py:13: ModelWarning: Optimization did not converge. Forecasts may be unstable.\n",
      "  warnings.warn(message, warning_type)\n"
     ]
    },
    {
     "name": "stdout",
     "output_type": "stream",
     "text": [
      "104010 42 2639 1.0\n",
      "104020 42 21827 0.0\n",
      "104030 42 1238 0\n",
      "104040 42 1247 1.0\n",
      "104050 42 269 1.0\n",
      "104060 42 687 0.0\n",
      "104070 42 93 0.0\n",
      "104080 42 20718 0\n"
     ]
    },
    {
     "name": "stderr",
     "output_type": "stream",
     "text": [
      "/dados/anaconda3/lib/python3.7/site-packages/tbats/error/ExceptionHandler.py:13: ModelWarning: Optimization did not converge. Forecasts may be unstable.\n",
      "  warnings.warn(message, warning_type)\n"
     ]
    },
    {
     "name": "stdout",
     "output_type": "stream",
     "text": [
      "104090 42 42 0.0\n",
      "104100 42 21842 0.0\n",
      "104110 42 2324 0\n"
     ]
    },
    {
     "name": "stderr",
     "output_type": "stream",
     "text": [
      "/dados/anaconda3/lib/python3.7/site-packages/tbats/error/ExceptionHandler.py:13: ModelWarning: Optimization did not converge. Forecasts may be unstable.\n",
      "  warnings.warn(message, warning_type)\n"
     ]
    },
    {
     "name": "stdout",
     "output_type": "stream",
     "text": [
      "104120 42 1663 0.0\n"
     ]
    },
    {
     "name": "stderr",
     "output_type": "stream",
     "text": [
      "/dados/anaconda3/lib/python3.7/site-packages/tbats/error/ExceptionHandler.py:13: ModelWarning: Optimization did not converge. Forecasts may be unstable.\n",
      "  warnings.warn(message, warning_type)\n",
      "/dados/anaconda3/lib/python3.7/site-packages/tbats/error/ExceptionHandler.py:13: ModelWarning: Optimization did not converge. Forecasts may be unstable.\n",
      "  warnings.warn(message, warning_type)\n"
     ]
    },
    {
     "name": "stdout",
     "output_type": "stream",
     "text": [
      "104130 42 3080 0\n",
      "104140 42 2886 2.0\n",
      "104150 42 13587 0\n"
     ]
    },
    {
     "name": "stderr",
     "output_type": "stream",
     "text": [
      "/dados/anaconda3/lib/python3.7/site-packages/tbats/error/ExceptionHandler.py:13: ModelWarning: Optimization did not converge. Forecasts may be unstable.\n",
      "  warnings.warn(message, warning_type)\n"
     ]
    },
    {
     "name": "stdout",
     "output_type": "stream",
     "text": [
      "104160 42 13691 0\n"
     ]
    },
    {
     "name": "stderr",
     "output_type": "stream",
     "text": [
      "/dados/anaconda3/lib/python3.7/site-packages/tbats/error/ExceptionHandler.py:13: ModelWarning: Optimization did not converge. Forecasts may be unstable.\n",
      "  warnings.warn(message, warning_type)\n"
     ]
    },
    {
     "name": "stdout",
     "output_type": "stream",
     "text": [
      "104170 42 15169 1.0\n",
      "104180 42 14973 0\n",
      "104190 42 13113 0\n",
      "104200 42 11711 1.0\n",
      "104210 42 13231 0\n",
      "104220 42 18677 0.0\n"
     ]
    },
    {
     "name": "stderr",
     "output_type": "stream",
     "text": [
      "/dados/anaconda3/lib/python3.7/site-packages/tbats/error/ExceptionHandler.py:13: ModelWarning: Optimization did not converge. Forecasts may be unstable.\n",
      "  warnings.warn(message, warning_type)\n"
     ]
    },
    {
     "name": "stdout",
     "output_type": "stream",
     "text": [
      "104230 42 18686 0.0\n"
     ]
    },
    {
     "name": "stderr",
     "output_type": "stream",
     "text": [
      "/dados/anaconda3/lib/python3.7/site-packages/tbats/error/ExceptionHandler.py:13: ModelWarning: Optimization did not converge. Forecasts may be unstable.\n",
      "  warnings.warn(message, warning_type)\n"
     ]
    },
    {
     "name": "stdout",
     "output_type": "stream",
     "text": [
      "104240 42 20374 0.0\n",
      "104250 42 20571 0\n"
     ]
    },
    {
     "name": "stderr",
     "output_type": "stream",
     "text": [
      "/dados/anaconda3/lib/python3.7/site-packages/tbats/error/ExceptionHandler.py:13: ModelWarning: Optimization did not converge. Forecasts may be unstable.\n",
      "  warnings.warn(message, warning_type)\n"
     ]
    },
    {
     "name": "stdout",
     "output_type": "stream",
     "text": [
      "104260 42 19621 1.0\n",
      "104270 42 16036 4.0\n",
      "104280 42 15276 1.0\n",
      "104290 42 16177 2.0\n"
     ]
    },
    {
     "name": "stderr",
     "output_type": "stream",
     "text": [
      "/dados/anaconda3/lib/python3.7/site-packages/tbats/error/ExceptionHandler.py:13: ModelWarning: Optimization did not converge. Forecasts may be unstable.\n",
      "  warnings.warn(message, warning_type)\n"
     ]
    },
    {
     "name": "stdout",
     "output_type": "stream",
     "text": [
      "104300 42 8687 0.0\n",
      "104310 42 9171 0.0\n"
     ]
    },
    {
     "name": "stderr",
     "output_type": "stream",
     "text": [
      "/dados/anaconda3/lib/python3.7/site-packages/tbats/error/ExceptionHandler.py:13: ModelWarning: Optimization did not converge. Forecasts may be unstable.\n",
      "  warnings.warn(message, warning_type)\n"
     ]
    },
    {
     "name": "stdout",
     "output_type": "stream",
     "text": [
      "104320 42 9366 0\n",
      "104330 42 7459 1.0\n",
      "104340 42 8148 0\n",
      "104350 42 8510 0.0\n"
     ]
    },
    {
     "name": "stderr",
     "output_type": "stream",
     "text": [
      "/dados/anaconda3/lib/python3.7/site-packages/tbats/error/ExceptionHandler.py:13: ModelWarning: Optimization did not converge. Forecasts may be unstable.\n",
      "  warnings.warn(message, warning_type)\n"
     ]
    },
    {
     "name": "stdout",
     "output_type": "stream",
     "text": [
      "104360 42 9449 0.0\n",
      "104370 42 10786 1.0\n",
      "104380 42 10669 1.0\n",
      "104390 42 11379 0.0\n",
      "104400 42 11542 0.0\n",
      "104410 42 10893 0\n",
      "104420 42 9539 1.0\n",
      "104430 42 10325 1.0\n",
      "104440 42 9840 0\n",
      "104450 42 10003 0.0\n",
      "104460 42 4708 0.0\n",
      "104470 42 4604 0.0\n",
      "104480 42 5323 2.0\n"
     ]
    },
    {
     "name": "stderr",
     "output_type": "stream",
     "text": [
      "/dados/anaconda3/lib/python3.7/site-packages/tbats/error/ExceptionHandler.py:13: ModelWarning: Optimization did not converge. Forecasts may be unstable.\n",
      "  warnings.warn(message, warning_type)\n"
     ]
    },
    {
     "name": "stdout",
     "output_type": "stream",
     "text": [
      "104490 42 3897 2.0\n"
     ]
    },
    {
     "name": "stderr",
     "output_type": "stream",
     "text": [
      "/dados/anaconda3/lib/python3.7/site-packages/tbats/error/ExceptionHandler.py:13: ModelWarning: Optimization did not converge. Forecasts may be unstable.\n",
      "  warnings.warn(message, warning_type)\n"
     ]
    },
    {
     "name": "stdout",
     "output_type": "stream",
     "text": [
      "104500 42 3919 0\n"
     ]
    },
    {
     "name": "stderr",
     "output_type": "stream",
     "text": [
      "/dados/anaconda3/lib/python3.7/site-packages/tbats/error/ExceptionHandler.py:13: ModelWarning: Optimization did not converge. Forecasts may be unstable.\n",
      "  warnings.warn(message, warning_type)\n"
     ]
    },
    {
     "name": "stdout",
     "output_type": "stream",
     "text": [
      "104510 42 3787 2.0\n",
      "104520 42 4088 0.0\n"
     ]
    },
    {
     "name": "stderr",
     "output_type": "stream",
     "text": [
      "/dados/anaconda3/lib/python3.7/site-packages/tbats/error/ExceptionHandler.py:13: ModelWarning: Optimization did not converge. Forecasts may be unstable.\n",
      "  warnings.warn(message, warning_type)\n"
     ]
    },
    {
     "name": "stdout",
     "output_type": "stream",
     "text": [
      "104530 42 6695 11.0\n",
      "104540 42 6378 0.0\n",
      "104550 42 6857 1.0\n",
      "104560 42 5659 1.0\n",
      "104570 42 3354 0\n"
     ]
    },
    {
     "name": "stderr",
     "output_type": "stream",
     "text": [
      "/dados/anaconda3/lib/python3.7/site-packages/tbats/error/ExceptionHandler.py:13: ModelWarning: Optimization did not converge. Forecasts may be unstable.\n",
      "  warnings.warn(message, warning_type)\n"
     ]
    },
    {
     "name": "stdout",
     "output_type": "stream",
     "text": [
      "104580 42 1538 16.0\n",
      "104590 42 22111 0.0\n"
     ]
    },
    {
     "name": "stderr",
     "output_type": "stream",
     "text": [
      "/dados/anaconda3/lib/python3.7/site-packages/tbats/error/ExceptionHandler.py:13: ModelWarning: Optimization did not converge. Forecasts may be unstable.\n",
      "  warnings.warn(message, warning_type)\n"
     ]
    },
    {
     "name": "stdout",
     "output_type": "stream",
     "text": [
      "104600 42 9019 0.0\n",
      "104610 42 11968 0.0\n",
      "104620 42 6027 1.0\n",
      "104630 42 18361 0.0\n",
      "104640 42 18629 0\n"
     ]
    },
    {
     "name": "stderr",
     "output_type": "stream",
     "text": [
      "/dados/anaconda3/lib/python3.7/site-packages/tbats/error/ExceptionHandler.py:13: ModelWarning: Optimization did not converge. Forecasts may be unstable.\n",
      "  warnings.warn(message, warning_type)\n"
     ]
    },
    {
     "name": "stdout",
     "output_type": "stream",
     "text": [
      "104650 42 17883 0\n",
      "104660 42 18108 0\n",
      "104670 42 19126 0.0\n",
      "104680 42 19488 0\n",
      "104690 42 18759 0\n",
      "104700 42 18979 0\n"
     ]
    },
    {
     "name": "stderr",
     "output_type": "stream",
     "text": [
      "/dados/anaconda3/lib/python3.7/site-packages/tbats/error/ExceptionHandler.py:13: ModelWarning: Optimization did not converge. Forecasts may be unstable.\n",
      "  warnings.warn(message, warning_type)\n"
     ]
    },
    {
     "name": "stdout",
     "output_type": "stream",
     "text": [
      "104710 42 3236 0.0\n",
      "104720 42 19588 0.0\n",
      "104730 42 20952 2.0\n"
     ]
    },
    {
     "name": "stderr",
     "output_type": "stream",
     "text": [
      "/dados/anaconda3/lib/python3.7/site-packages/tbats/error/ExceptionHandler.py:13: ModelWarning: Optimization did not converge. Forecasts may be unstable.\n",
      "  warnings.warn(message, warning_type)\n"
     ]
    },
    {
     "name": "stdout",
     "output_type": "stream",
     "text": [
      "104740 42 21207 0\n",
      "104750 42 20833 0\n"
     ]
    },
    {
     "name": "stderr",
     "output_type": "stream",
     "text": [
      "/dados/anaconda3/lib/python3.7/site-packages/tbats/error/ExceptionHandler.py:13: ModelWarning: Optimization did not converge. Forecasts may be unstable.\n",
      "  warnings.warn(message, warning_type)\n",
      "/dados/anaconda3/lib/python3.7/site-packages/tbats/error/ExceptionHandler.py:13: ModelWarning: Optimization did not converge. Forecasts may be unstable.\n",
      "  warnings.warn(message, warning_type)\n"
     ]
    },
    {
     "name": "stdout",
     "output_type": "stream",
     "text": [
      "104760 42 20274 0.0\n",
      "104770 42 21795 0.0\n",
      "104780 42 21792 0.0\n",
      "104790 42 19951 0\n",
      "104800 42 19852 0\n",
      "104810 42 20600 0\n",
      "104820 42 20581 1.0\n"
     ]
    },
    {
     "name": "stderr",
     "output_type": "stream",
     "text": [
      "/dados/anaconda3/lib/python3.7/site-packages/tbats/error/ExceptionHandler.py:13: ModelWarning: Optimization did not converge. Forecasts may be unstable.\n",
      "  warnings.warn(message, warning_type)\n"
     ]
    },
    {
     "name": "stdout",
     "output_type": "stream",
     "text": [
      "104830 42 6312 4.0\n",
      "104840 42 3634 0.0\n",
      "104850 42 4707 4.0\n",
      "104860 42 8888 1.0\n",
      "104870 42 10099 2.0\n",
      "104880 42 6807 0\n",
      "104890 42 8112 1.0\n",
      "104900 42 19118 20.0\n"
     ]
    },
    {
     "name": "stderr",
     "output_type": "stream",
     "text": [
      "/dados/anaconda3/lib/python3.7/site-packages/tbats/error/ExceptionHandler.py:13: ModelWarning: Optimization did not converge. Forecasts may be unstable.\n",
      "  warnings.warn(message, warning_type)\n"
     ]
    },
    {
     "name": "stdout",
     "output_type": "stream",
     "text": [
      "104910 42 21790 1.0\n"
     ]
    },
    {
     "name": "stderr",
     "output_type": "stream",
     "text": [
      "/dados/anaconda3/lib/python3.7/site-packages/tbats/error/ExceptionHandler.py:13: ModelWarning: Optimization did not converge. Forecasts may be unstable.\n",
      "  warnings.warn(message, warning_type)\n"
     ]
    },
    {
     "name": "stdout",
     "output_type": "stream",
     "text": [
      "104920 42 13630 0\n"
     ]
    },
    {
     "name": "stderr",
     "output_type": "stream",
     "text": [
      "/dados/anaconda3/lib/python3.7/site-packages/tbats/error/ExceptionHandler.py:13: ModelWarning: Optimization did not converge. Forecasts may be unstable.\n",
      "  warnings.warn(message, warning_type)\n"
     ]
    },
    {
     "name": "stdout",
     "output_type": "stream",
     "text": [
      "104930 42 15478 0.0\n",
      "104940 42 15226 0.0\n"
     ]
    },
    {
     "name": "stderr",
     "output_type": "stream",
     "text": [
      "/dados/anaconda3/lib/python3.7/site-packages/tbats/error/ExceptionHandler.py:13: ModelWarning: Optimization did not converge. Forecasts may be unstable.\n",
      "  warnings.warn(message, warning_type)\n"
     ]
    },
    {
     "name": "stdout",
     "output_type": "stream",
     "text": [
      "104950 42 2585 0.0\n",
      "104960 42 2213 0\n",
      "104970 42 1611 0.0\n",
      "104980 42 12504 0.0\n",
      "104990 42 13445 0\n",
      "105000 42 11915 0.0\n",
      "105010 42 20739 1.0\n"
     ]
    },
    {
     "name": "stderr",
     "output_type": "stream",
     "text": [
      "/dados/anaconda3/lib/python3.7/site-packages/tbats/error/ExceptionHandler.py:13: ModelWarning: Optimization did not converge. Forecasts may be unstable.\n",
      "  warnings.warn(message, warning_type)\n"
     ]
    },
    {
     "name": "stdout",
     "output_type": "stream",
     "text": [
      "105020 42 21196 0\n",
      "105030 42 14108 0.0\n",
      "105040 42 3457 0\n",
      "105050 42 3096 0\n",
      "105060 42 15260 1.0\n",
      "105070 42 17157 1.0\n",
      "105080 42 413 0.0\n",
      "105090 42 1010 0.0\n"
     ]
    },
    {
     "name": "stderr",
     "output_type": "stream",
     "text": [
      "/dados/anaconda3/lib/python3.7/site-packages/tbats/error/ExceptionHandler.py:13: ModelWarning: Optimization did not converge. Forecasts may be unstable.\n",
      "  warnings.warn(message, warning_type)\n"
     ]
    },
    {
     "name": "stdout",
     "output_type": "stream",
     "text": [
      "105100 42 4364 0.0\n",
      "105110 42 6528 0\n",
      "105120 42 5470 0.0\n",
      "105130 42 19337 0.0\n",
      "105140 42 18017 1.0\n",
      "105150 42 14892 0.0\n"
     ]
    },
    {
     "name": "stderr",
     "output_type": "stream",
     "text": [
      "/dados/anaconda3/lib/python3.7/site-packages/tbats/error/ExceptionHandler.py:13: ModelWarning: Optimization did not converge. Forecasts may be unstable.\n",
      "  warnings.warn(message, warning_type)\n"
     ]
    },
    {
     "name": "stdout",
     "output_type": "stream",
     "text": [
      "105160 42 20393 0.0\n"
     ]
    },
    {
     "name": "stderr",
     "output_type": "stream",
     "text": [
      "/dados/anaconda3/lib/python3.7/site-packages/tbats/error/ExceptionHandler.py:13: ModelWarning: Optimization did not converge. Forecasts may be unstable.\n",
      "  warnings.warn(message, warning_type)\n"
     ]
    },
    {
     "name": "stdout",
     "output_type": "stream",
     "text": [
      "105170 42 15171 1.0\n",
      "105180 42 16093 0\n"
     ]
    },
    {
     "name": "stderr",
     "output_type": "stream",
     "text": [
      "/dados/anaconda3/lib/python3.7/site-packages/tbats/error/ExceptionHandler.py:13: ModelWarning: Optimization did not converge. Forecasts may be unstable.\n",
      "  warnings.warn(message, warning_type)\n"
     ]
    },
    {
     "name": "stdout",
     "output_type": "stream",
     "text": [
      "105190 42 16111 0.0\n"
     ]
    },
    {
     "name": "stderr",
     "output_type": "stream",
     "text": [
      "/dados/anaconda3/lib/python3.7/site-packages/tbats/error/ExceptionHandler.py:13: ModelWarning: Optimization did not converge. Forecasts may be unstable.\n",
      "  warnings.warn(message, warning_type)\n"
     ]
    },
    {
     "name": "stdout",
     "output_type": "stream",
     "text": [
      "105200 42 14962 0\n",
      "105210 42 16207 0.0\n",
      "105220 42 16786 1.0\n",
      "105230 42 8157 0.0\n"
     ]
    },
    {
     "name": "stderr",
     "output_type": "stream",
     "text": [
      "/dados/anaconda3/lib/python3.7/site-packages/tbats/error/ExceptionHandler.py:13: ModelWarning: Optimization did not converge. Forecasts may be unstable.\n",
      "  warnings.warn(message, warning_type)\n"
     ]
    },
    {
     "name": "stdout",
     "output_type": "stream",
     "text": [
      "105240 42 13448 0\n"
     ]
    },
    {
     "name": "stderr",
     "output_type": "stream",
     "text": [
      "/dados/anaconda3/lib/python3.7/site-packages/tbats/error/ExceptionHandler.py:13: ModelWarning: Optimization did not converge. Forecasts may be unstable.\n",
      "  warnings.warn(message, warning_type)\n"
     ]
    },
    {
     "name": "stdout",
     "output_type": "stream",
     "text": [
      "105250 42 13224 0\n",
      "105260 42 13512 2.0\n"
     ]
    },
    {
     "name": "stderr",
     "output_type": "stream",
     "text": [
      "/dados/anaconda3/lib/python3.7/site-packages/tbats/error/ExceptionHandler.py:13: ModelWarning: Optimization did not converge. Forecasts may be unstable.\n",
      "  warnings.warn(message, warning_type)\n"
     ]
    },
    {
     "name": "stdout",
     "output_type": "stream",
     "text": [
      "105270 42 13288 0\n"
     ]
    },
    {
     "name": "stderr",
     "output_type": "stream",
     "text": [
      "/dados/anaconda3/lib/python3.7/site-packages/tbats/error/ExceptionHandler.py:13: ModelWarning: Optimization did not converge. Forecasts may be unstable.\n",
      "  warnings.warn(message, warning_type)\n"
     ]
    },
    {
     "name": "stdout",
     "output_type": "stream",
     "text": [
      "105280 42 14164 0.0\n",
      "105290 42 12808 0.0\n",
      "105300 42 13647 0\n",
      "105310 42 12332 0\n",
      "105320 42 12091 0.0\n",
      "105330 42 11268 0.0\n"
     ]
    },
    {
     "name": "stderr",
     "output_type": "stream",
     "text": [
      "/dados/anaconda3/lib/python3.7/site-packages/tbats/error/ExceptionHandler.py:13: ModelWarning: Optimization did not converge. Forecasts may be unstable.\n",
      "  warnings.warn(message, warning_type)\n"
     ]
    },
    {
     "name": "stdout",
     "output_type": "stream",
     "text": [
      "105340 42 13223 0\n"
     ]
    },
    {
     "name": "stderr",
     "output_type": "stream",
     "text": [
      "/dados/anaconda3/lib/python3.7/site-packages/tbats/error/ExceptionHandler.py:13: ModelWarning: Optimization did not converge. Forecasts may be unstable.\n",
      "  warnings.warn(message, warning_type)\n"
     ]
    },
    {
     "name": "stdout",
     "output_type": "stream",
     "text": [
      "105350 42 13221 0\n",
      "105360 42 16179 0\n",
      "105370 42 15524 1.0\n"
     ]
    },
    {
     "name": "stderr",
     "output_type": "stream",
     "text": [
      "/dados/anaconda3/lib/python3.7/site-packages/tbats/error/ExceptionHandler.py:13: ModelWarning: Optimization did not converge. Forecasts may be unstable.\n",
      "  warnings.warn(message, warning_type)\n"
     ]
    },
    {
     "name": "stdout",
     "output_type": "stream",
     "text": [
      "105380 42 16045 1.0\n"
     ]
    },
    {
     "name": "stderr",
     "output_type": "stream",
     "text": [
      "/dados/anaconda3/lib/python3.7/site-packages/tbats/error/ExceptionHandler.py:13: ModelWarning: Optimization did not converge. Forecasts may be unstable.\n",
      "  warnings.warn(message, warning_type)\n"
     ]
    },
    {
     "name": "stdout",
     "output_type": "stream",
     "text": [
      "105390 42 16910 0\n",
      "105400 42 15667 0\n",
      "105410 42 16243 0\n",
      "105420 42 16349 0\n",
      "105430 42 15015 0.0\n",
      "105440 42 15134 0.0\n",
      "105450 42 14987 0.0\n",
      "105460 42 15318 1.0\n"
     ]
    },
    {
     "name": "stderr",
     "output_type": "stream",
     "text": [
      "/dados/anaconda3/lib/python3.7/site-packages/tbats/error/ExceptionHandler.py:13: ModelWarning: Optimization did not converge. Forecasts may be unstable.\n",
      "  warnings.warn(message, warning_type)\n"
     ]
    },
    {
     "name": "stdout",
     "output_type": "stream",
     "text": [
      "105470 42 15168 1.0\n",
      "105480 42 15220 0.0\n"
     ]
    },
    {
     "name": "stderr",
     "output_type": "stream",
     "text": [
      "/dados/anaconda3/lib/python3.7/site-packages/tbats/error/ExceptionHandler.py:13: ModelWarning: Optimization did not converge. Forecasts may be unstable.\n",
      "  warnings.warn(message, warning_type)\n"
     ]
    },
    {
     "name": "stdout",
     "output_type": "stream",
     "text": [
      "105490 42 6870 0\n",
      "105500 42 4480 6.0\n",
      "105510 42 5063 0\n",
      "105520 42 5155 0.0\n",
      "105530 42 5187 0.0\n",
      "105540 42 5121 0\n",
      "105550 42 10069 0\n",
      "105560 42 10287 0.0\n",
      "105570 42 10180 0.0\n",
      "105580 42 10772 0.0\n",
      "105590 42 11363 0\n",
      "105600 42 11044 0.0\n",
      "105610 42 8459 0.0\n",
      "105620 42 8363 0.0\n",
      "105630 42 7580 0\n",
      "105640 42 8968 0\n",
      "105650 42 9338 0\n"
     ]
    },
    {
     "name": "stderr",
     "output_type": "stream",
     "text": [
      "/dados/anaconda3/lib/python3.7/site-packages/tbats/error/ExceptionHandler.py:13: ModelWarning: Optimization did not converge. Forecasts may be unstable.\n",
      "  warnings.warn(message, warning_type)\n"
     ]
    },
    {
     "name": "stdout",
     "output_type": "stream",
     "text": [
      "105660 42 8428 0\n",
      "105670 42 14361 0.0\n",
      "105680 42 547 0\n"
     ]
    },
    {
     "name": "stderr",
     "output_type": "stream",
     "text": [
      "/dados/anaconda3/lib/python3.7/site-packages/tbats/error/ExceptionHandler.py:13: ModelWarning: Optimization did not converge. Forecasts may be unstable.\n",
      "  warnings.warn(message, warning_type)\n"
     ]
    },
    {
     "name": "stdout",
     "output_type": "stream",
     "text": [
      "105690 42 12743 0.0\n",
      "105700 42 20517 1.0\n"
     ]
    },
    {
     "name": "stderr",
     "output_type": "stream",
     "text": [
      "/dados/anaconda3/lib/python3.7/site-packages/tbats/error/ExceptionHandler.py:13: ModelWarning: Optimization did not converge. Forecasts may be unstable.\n",
      "  warnings.warn(message, warning_type)\n"
     ]
    },
    {
     "name": "stdout",
     "output_type": "stream",
     "text": [
      "105710 42 7924 1.0\n"
     ]
    },
    {
     "name": "stderr",
     "output_type": "stream",
     "text": [
      "/dados/anaconda3/lib/python3.7/site-packages/tbats/error/ExceptionHandler.py:13: ModelWarning: Optimization did not converge. Forecasts may be unstable.\n",
      "  warnings.warn(message, warning_type)\n"
     ]
    },
    {
     "name": "stdout",
     "output_type": "stream",
     "text": [
      "105720 42 3239 0.0\n",
      "105730 42 15458 1.0\n",
      "105740 42 18025 0\n"
     ]
    },
    {
     "name": "stderr",
     "output_type": "stream",
     "text": [
      "/dados/anaconda3/lib/python3.7/site-packages/tbats/error/ExceptionHandler.py:13: ModelWarning: Optimization did not converge. Forecasts may be unstable.\n",
      "  warnings.warn(message, warning_type)\n"
     ]
    },
    {
     "name": "stdout",
     "output_type": "stream",
     "text": [
      "105750 42 15031 1.0\n",
      "105760 42 14984 0\n",
      "105770 42 1254 0\n",
      "105780 42 18968 0.0\n",
      "105790 42 21139 0\n",
      "105800 42 3273 0\n"
     ]
    },
    {
     "name": "stderr",
     "output_type": "stream",
     "text": [
      "/dados/anaconda3/lib/python3.7/site-packages/tbats/error/ExceptionHandler.py:13: ModelWarning: Optimization did not converge. Forecasts may be unstable.\n",
      "  warnings.warn(message, warning_type)\n"
     ]
    },
    {
     "name": "stdout",
     "output_type": "stream",
     "text": [
      "105810 42 13407 2.0\n"
     ]
    },
    {
     "name": "stderr",
     "output_type": "stream",
     "text": [
      "/dados/anaconda3/lib/python3.7/site-packages/tbats/error/ExceptionHandler.py:13: ModelWarning: Optimization did not converge. Forecasts may be unstable.\n",
      "  warnings.warn(message, warning_type)\n"
     ]
    },
    {
     "name": "stdout",
     "output_type": "stream",
     "text": [
      "105820 42 21692 0.0\n",
      "105830 42 19127 1.0\n",
      "105840 42 16953 0.0\n",
      "105850 42 21400 5.0\n",
      "105860 42 20334 0\n",
      "105870 42 13693 0\n",
      "105880 42 12474 0\n"
     ]
    },
    {
     "name": "stderr",
     "output_type": "stream",
     "text": [
      "/dados/anaconda3/lib/python3.7/site-packages/tbats/error/ExceptionHandler.py:13: ModelWarning: Optimization did not converge. Forecasts may be unstable.\n",
      "  warnings.warn(message, warning_type)\n"
     ]
    },
    {
     "name": "stdout",
     "output_type": "stream",
     "text": [
      "105890 42 8468 0\n",
      "105900 42 11302 0\n",
      "105910 42 448 1.0\n",
      "105920 42 5272 1.0\n",
      "105930 42 6028 0\n",
      "105940 42 8855 0.0\n",
      "105950 42 2540 0\n"
     ]
    },
    {
     "name": "stderr",
     "output_type": "stream",
     "text": [
      "/dados/anaconda3/lib/python3.7/site-packages/tbats/error/ExceptionHandler.py:13: ModelWarning: Optimization did not converge. Forecasts may be unstable.\n",
      "  warnings.warn(message, warning_type)\n"
     ]
    },
    {
     "name": "stdout",
     "output_type": "stream",
     "text": [
      "105960 42 18315 1.0\n",
      "105970 42 2191 0\n",
      "105980 42 3333 0.0\n",
      "105990 42 20879 0\n",
      "106000 42 14760 0\n"
     ]
    },
    {
     "name": "stderr",
     "output_type": "stream",
     "text": [
      "/dados/anaconda3/lib/python3.7/site-packages/tbats/error/ExceptionHandler.py:13: ModelWarning: Optimization did not converge. Forecasts may be unstable.\n",
      "  warnings.warn(message, warning_type)\n"
     ]
    },
    {
     "name": "stdout",
     "output_type": "stream",
     "text": [
      "106010 42 4637 0.0\n"
     ]
    },
    {
     "name": "stderr",
     "output_type": "stream",
     "text": [
      "/dados/anaconda3/lib/python3.7/site-packages/tbats/error/ExceptionHandler.py:13: ModelWarning: Optimization did not converge. Forecasts may be unstable.\n",
      "  warnings.warn(message, warning_type)\n"
     ]
    },
    {
     "name": "stdout",
     "output_type": "stream",
     "text": [
      "106020 42 13494 3.0\n",
      "106030 42 16032 0.0\n",
      "106040 42 2523 0.0\n",
      "106050 42 5540 0\n",
      "106060 42 1453 0.0\n",
      "106070 42 11011 0.0\n",
      "106080 42 3548 0.0\n"
     ]
    },
    {
     "name": "stderr",
     "output_type": "stream",
     "text": [
      "/dados/anaconda3/lib/python3.7/site-packages/tbats/error/ExceptionHandler.py:13: ModelWarning: Optimization did not converge. Forecasts may be unstable.\n",
      "  warnings.warn(message, warning_type)\n"
     ]
    },
    {
     "name": "stdout",
     "output_type": "stream",
     "text": [
      "106090 42 6307 0.0\n",
      "106100 42 20196 0\n",
      "106110 42 19751 0.0\n",
      "106120 42 18457 0.0\n",
      "106130 42 18208 1.0\n",
      "106140 42 22013 1.0\n"
     ]
    },
    {
     "name": "stderr",
     "output_type": "stream",
     "text": [
      "/dados/anaconda3/lib/python3.7/site-packages/tbats/error/ExceptionHandler.py:13: ModelWarning: Optimization did not converge. Forecasts may be unstable.\n",
      "  warnings.warn(message, warning_type)\n"
     ]
    },
    {
     "name": "stdout",
     "output_type": "stream",
     "text": [
      "106150 42 20653 1.0\n",
      "106160 42 21053 0\n",
      "106170 42 11516 0\n",
      "106180 42 18481 0.0\n"
     ]
    },
    {
     "name": "stderr",
     "output_type": "stream",
     "text": [
      "/dados/anaconda3/lib/python3.7/site-packages/tbats/error/ExceptionHandler.py:13: ModelWarning: Optimization did not converge. Forecasts may be unstable.\n",
      "  warnings.warn(message, warning_type)\n"
     ]
    },
    {
     "name": "stdout",
     "output_type": "stream",
     "text": [
      "106190 42 15222 0\n",
      "106200 42 13327 0\n"
     ]
    },
    {
     "name": "stderr",
     "output_type": "stream",
     "text": [
      "/dados/anaconda3/lib/python3.7/site-packages/tbats/error/ExceptionHandler.py:13: ModelWarning: Optimization did not converge. Forecasts may be unstable.\n",
      "  warnings.warn(message, warning_type)\n"
     ]
    },
    {
     "name": "stdout",
     "output_type": "stream",
     "text": [
      "106210 42 18031 0\n",
      "106220 42 20821 0\n",
      "106230 42 18939 0.0\n"
     ]
    },
    {
     "name": "stderr",
     "output_type": "stream",
     "text": [
      "/dados/anaconda3/lib/python3.7/site-packages/tbats/error/ExceptionHandler.py:13: ModelWarning: Optimization did not converge. Forecasts may be unstable.\n",
      "  warnings.warn(message, warning_type)\n"
     ]
    },
    {
     "name": "stdout",
     "output_type": "stream",
     "text": [
      "106240 42 12208 0.0\n",
      "106250 42 15654 0.0\n"
     ]
    },
    {
     "name": "stderr",
     "output_type": "stream",
     "text": [
      "/dados/anaconda3/lib/python3.7/site-packages/tbats/error/ExceptionHandler.py:13: ModelWarning: Optimization did not converge. Forecasts may be unstable.\n",
      "  warnings.warn(message, warning_type)\n"
     ]
    },
    {
     "name": "stdout",
     "output_type": "stream",
     "text": [
      "106260 42 16028 0.0\n",
      "106270 42 20516 0.0\n",
      "106280 42 6400 0.0\n",
      "106290 42 16166 0\n",
      "106300 42 9534 0\n",
      "106310 42 10581 0\n",
      "106320 42 9111 0\n",
      "106330 42 13099 0\n",
      "106340 42 11874 0\n",
      "106350 42 12192 0\n",
      "106360 42 6430 0\n",
      "106370 42 5761 0\n",
      "106380 42 4903 0\n",
      "106390 42 5382 0\n",
      "106400 42 7817 0\n",
      "106410 42 6959 0\n",
      "106420 42 7057 0\n",
      "106430 42 21978 0\n",
      "106440 42 19347 0\n",
      "106450 42 20012 0\n"
     ]
    },
    {
     "name": "stderr",
     "output_type": "stream",
     "text": [
      "/dados/anaconda3/lib/python3.7/site-packages/tbats/error/ExceptionHandler.py:13: ModelWarning: Optimization did not converge. Forecasts may be unstable.\n",
      "  warnings.warn(message, warning_type)\n"
     ]
    },
    {
     "name": "stdout",
     "output_type": "stream",
     "text": [
      "106460 42 13732 0\n",
      "106470 42 14934 0\n",
      "106480 42 13341 0\n",
      "106490 42 16396 0\n",
      "106500 42 16813 0\n",
      "106510 42 15988 0\n",
      "106520 42 16272 0\n",
      "106530 42 504 0\n",
      "106540 42 688 0\n",
      "106550 42 616 0\n",
      "106560 42 204 0\n",
      "106570 42 1394 0\n",
      "106580 42 924 0\n",
      "106590 42 1506 0\n",
      "106600 42 849 0\n",
      "106610 42 20361 0.0\n",
      "106620 42 3715 0\n",
      "106630 42 3411 0\n",
      "106640 42 4765 0\n",
      "106650 42 4260 0\n",
      "106660 42 4144 0\n",
      "106670 42 4203 0\n",
      "106680 42 1794 0\n",
      "106690 42 2338 0\n",
      "106700 42 1792 0\n",
      "106710 42 2856 0\n",
      "106720 42 2434 0\n",
      "106730 42 3136 0\n",
      "106740 42 1018 0.0\n",
      "106750 42 19258 1.0\n",
      "106760 42 4736 0.0\n"
     ]
    },
    {
     "name": "stderr",
     "output_type": "stream",
     "text": [
      "/dados/anaconda3/lib/python3.7/site-packages/tbats/error/ExceptionHandler.py:13: ModelWarning: Optimization did not converge. Forecasts may be unstable.\n",
      "  warnings.warn(message, warning_type)\n"
     ]
    },
    {
     "name": "stdout",
     "output_type": "stream",
     "text": [
      "106770 42 5363 0.0\n",
      "106780 42 17390 0.0\n",
      "106790 42 11682 0.0\n",
      "106800 42 15735 0.0\n",
      "106810 42 14899 0.0\n",
      "106820 42 20212 0.0\n",
      "106830 42 5899 0.0\n",
      "106840 42 18476 1.0\n",
      "106850 42 6835 2.0\n",
      "106860 42 15405 0.0\n"
     ]
    },
    {
     "name": "stderr",
     "output_type": "stream",
     "text": [
      "/dados/anaconda3/lib/python3.7/site-packages/tbats/error/ExceptionHandler.py:13: ModelWarning: Optimization did not converge. Forecasts may be unstable.\n",
      "  warnings.warn(message, warning_type)\n"
     ]
    },
    {
     "name": "stdout",
     "output_type": "stream",
     "text": [
      "106870 42 17756 1.0\n"
     ]
    },
    {
     "name": "stderr",
     "output_type": "stream",
     "text": [
      "/dados/anaconda3/lib/python3.7/site-packages/tbats/error/ExceptionHandler.py:13: ModelWarning: Optimization did not converge. Forecasts may be unstable.\n",
      "  warnings.warn(message, warning_type)\n",
      "/dados/anaconda3/lib/python3.7/site-packages/tbats/error/ExceptionHandler.py:13: ModelWarning: Optimization did not converge. Forecasts may be unstable.\n",
      "  warnings.warn(message, warning_type)\n"
     ]
    },
    {
     "name": "stdout",
     "output_type": "stream",
     "text": [
      "106880 42 18500 0.0\n",
      "106890 42 16231 0\n"
     ]
    },
    {
     "name": "stderr",
     "output_type": "stream",
     "text": [
      "/dados/anaconda3/lib/python3.7/site-packages/tbats/error/ExceptionHandler.py:13: ModelWarning: Optimization did not converge. Forecasts may be unstable.\n",
      "  warnings.warn(message, warning_type)\n"
     ]
    },
    {
     "name": "stdout",
     "output_type": "stream",
     "text": [
      "106900 42 17015 1.0\n",
      "106910 42 13133 0.0\n",
      "106920 42 14222 0.0\n",
      "106930 42 13812 0.0\n",
      "106940 42 5010 7.0\n"
     ]
    },
    {
     "name": "stderr",
     "output_type": "stream",
     "text": [
      "/dados/anaconda3/lib/python3.7/site-packages/tbats/error/ExceptionHandler.py:13: ModelWarning: Optimization did not converge. Forecasts may be unstable.\n",
      "  warnings.warn(message, warning_type)\n"
     ]
    },
    {
     "name": "stdout",
     "output_type": "stream",
     "text": [
      "106950 42 21210 0\n",
      "106960 42 20916 0.0\n",
      "106970 42 21664 0\n",
      "106980 42 3232 0\n",
      "106990 42 3547 1.0\n",
      "107000 42 18707 0\n",
      "107010 42 11674 0.0\n",
      "107020 42 16057 0.0\n",
      "107030 42 15033 0\n",
      "107040 42 10508 0.0\n",
      "107050 42 7572 0\n",
      "107060 42 6882 0.0\n",
      "107070 42 14543 0\n",
      "107080 42 19889 0.0\n",
      "107090 42 3280 1.0\n"
     ]
    },
    {
     "name": "stderr",
     "output_type": "stream",
     "text": [
      "/dados/anaconda3/lib/python3.7/site-packages/tbats/error/ExceptionHandler.py:13: ModelWarning: Optimization did not converge. Forecasts may be unstable.\n",
      "  warnings.warn(message, warning_type)\n",
      "/dados/anaconda3/lib/python3.7/site-packages/tbats/error/ExceptionHandler.py:13: ModelWarning: Optimization did not converge. Forecasts may be unstable.\n",
      "  warnings.warn(message, warning_type)\n"
     ]
    },
    {
     "name": "stdout",
     "output_type": "stream",
     "text": [
      "107100 50 5037 2.0\n"
     ]
    },
    {
     "name": "stderr",
     "output_type": "stream",
     "text": [
      "/dados/anaconda3/lib/python3.7/site-packages/tbats/error/ExceptionHandler.py:13: ModelWarning: Optimization did not converge. Forecasts may be unstable.\n",
      "  warnings.warn(message, warning_type)\n"
     ]
    },
    {
     "name": "stdout",
     "output_type": "stream",
     "text": [
      "107110 50 4806 0.0\n",
      "107120 50 4717 0.0\n"
     ]
    },
    {
     "name": "stderr",
     "output_type": "stream",
     "text": [
      "/dados/anaconda3/lib/python3.7/site-packages/tbats/error/ExceptionHandler.py:13: ModelWarning: Optimization did not converge. Forecasts may be unstable.\n",
      "  warnings.warn(message, warning_type)\n"
     ]
    },
    {
     "name": "stdout",
     "output_type": "stream",
     "text": [
      "107130 50 5666 6.0\n"
     ]
    },
    {
     "name": "stderr",
     "output_type": "stream",
     "text": [
      "/dados/anaconda3/lib/python3.7/site-packages/tbats/error/ExceptionHandler.py:13: ModelWarning: Optimization did not converge. Forecasts may be unstable.\n",
      "  warnings.warn(message, warning_type)\n"
     ]
    },
    {
     "name": "stdout",
     "output_type": "stream",
     "text": [
      "107140 50 5840 0\n",
      "107150 50 5838 2.0\n"
     ]
    },
    {
     "name": "stderr",
     "output_type": "stream",
     "text": [
      "/dados/anaconda3/lib/python3.7/site-packages/tbats/error/ExceptionHandler.py:13: ModelWarning: Optimization did not converge. Forecasts may be unstable.\n",
      "  warnings.warn(message, warning_type)\n"
     ]
    },
    {
     "name": "stdout",
     "output_type": "stream",
     "text": [
      "107160 50 3352 0\n",
      "107170 50 3604 0\n",
      "107180 50 3443 0.0\n",
      "107190 50 4365 0.0\n"
     ]
    },
    {
     "name": "stderr",
     "output_type": "stream",
     "text": [
      "/dados/anaconda3/lib/python3.7/site-packages/tbats/error/ExceptionHandler.py:13: ModelWarning: Optimization did not converge. Forecasts may be unstable.\n",
      "  warnings.warn(message, warning_type)\n"
     ]
    },
    {
     "name": "stdout",
     "output_type": "stream",
     "text": [
      "107200 50 3733 0.0\n"
     ]
    },
    {
     "name": "stderr",
     "output_type": "stream",
     "text": [
      "/dados/anaconda3/lib/python3.7/site-packages/tbats/error/ExceptionHandler.py:13: ModelWarning: Optimization did not converge. Forecasts may be unstable.\n",
      "  warnings.warn(message, warning_type)\n"
     ]
    },
    {
     "name": "stdout",
     "output_type": "stream",
     "text": [
      "107210 50 4052 0.0\n",
      "107220 50 9395 0.0\n",
      "107230 50 9469 0\n",
      "107240 50 8653 1.0\n",
      "107250 50 9001 0.0\n",
      "107260 50 10447 0\n",
      "107270 50 10327 0\n"
     ]
    },
    {
     "name": "stderr",
     "output_type": "stream",
     "text": [
      "/dados/anaconda3/lib/python3.7/site-packages/tbats/error/ExceptionHandler.py:13: ModelWarning: Optimization did not converge. Forecasts may be unstable.\n",
      "  warnings.warn(message, warning_type)\n"
     ]
    },
    {
     "name": "stdout",
     "output_type": "stream",
     "text": [
      "107280 50 9927 0\n",
      "107290 50 6506 0\n"
     ]
    },
    {
     "name": "stderr",
     "output_type": "stream",
     "text": [
      "/dados/anaconda3/lib/python3.7/site-packages/tbats/error/ExceptionHandler.py:13: ModelWarning: Optimization did not converge. Forecasts may be unstable.\n",
      "  warnings.warn(message, warning_type)\n"
     ]
    },
    {
     "name": "stdout",
     "output_type": "stream",
     "text": [
      "107300 50 6731 0\n",
      "107310 50 6396 0.0\n",
      "107320 50 6064 7.0\n",
      "107330 50 7862 0\n"
     ]
    },
    {
     "name": "stderr",
     "output_type": "stream",
     "text": [
      "/dados/anaconda3/lib/python3.7/site-packages/tbats/error/ExceptionHandler.py:13: ModelWarning: Optimization did not converge. Forecasts may be unstable.\n",
      "  warnings.warn(message, warning_type)\n"
     ]
    },
    {
     "name": "stdout",
     "output_type": "stream",
     "text": [
      "107340 50 7328 0.0\n",
      "107350 50 7029 0\n"
     ]
    },
    {
     "name": "stderr",
     "output_type": "stream",
     "text": [
      "/dados/anaconda3/lib/python3.7/site-packages/tbats/error/ExceptionHandler.py:13: ModelWarning: Optimization did not converge. Forecasts may be unstable.\n",
      "  warnings.warn(message, warning_type)\n"
     ]
    },
    {
     "name": "stdout",
     "output_type": "stream",
     "text": [
      "107360 50 15777 0.0\n",
      "107370 50 16843 2.0\n",
      "107380 50 15496 0\n",
      "107390 50 16103 0.0\n"
     ]
    },
    {
     "name": "stderr",
     "output_type": "stream",
     "text": [
      "/dados/anaconda3/lib/python3.7/site-packages/tbats/error/ExceptionHandler.py:13: ModelWarning: Optimization did not converge. Forecasts may be unstable.\n",
      "  warnings.warn(message, warning_type)\n",
      "/dados/anaconda3/lib/python3.7/site-packages/tbats/error/ExceptionHandler.py:13: ModelWarning: Optimization did not converge. Forecasts may be unstable.\n",
      "  warnings.warn(message, warning_type)\n"
     ]
    },
    {
     "name": "stdout",
     "output_type": "stream",
     "text": [
      "107400 50 18825 0.0\n",
      "107410 50 19656 0\n",
      "107420 50 18397 0\n"
     ]
    },
    {
     "name": "stderr",
     "output_type": "stream",
     "text": [
      "/dados/anaconda3/lib/python3.7/site-packages/tbats/error/ExceptionHandler.py:13: ModelWarning: Optimization did not converge. Forecasts may be unstable.\n",
      "  warnings.warn(message, warning_type)\n",
      "/dados/anaconda3/lib/python3.7/site-packages/tbats/error/ExceptionHandler.py:13: ModelWarning: Optimization did not converge. Forecasts may be unstable.\n",
      "  warnings.warn(message, warning_type)\n",
      "/dados/anaconda3/lib/python3.7/site-packages/tbats/error/ExceptionHandler.py:13: ModelWarning: Optimization did not converge. Forecasts may be unstable.\n",
      "  warnings.warn(message, warning_type)\n"
     ]
    },
    {
     "name": "stdout",
     "output_type": "stream",
     "text": [
      "107430 50 15338 0\n"
     ]
    },
    {
     "name": "stderr",
     "output_type": "stream",
     "text": [
      "/dados/anaconda3/lib/python3.7/site-packages/tbats/error/ExceptionHandler.py:13: ModelWarning: Optimization did not converge. Forecasts may be unstable.\n",
      "  warnings.warn(message, warning_type)\n"
     ]
    },
    {
     "name": "stdout",
     "output_type": "stream",
     "text": [
      "107440 50 13023 1.0\n"
     ]
    },
    {
     "name": "stderr",
     "output_type": "stream",
     "text": [
      "/dados/anaconda3/lib/python3.7/site-packages/tbats/error/ExceptionHandler.py:13: ModelWarning: Optimization did not converge. Forecasts may be unstable.\n",
      "  warnings.warn(message, warning_type)\n"
     ]
    },
    {
     "name": "stdout",
     "output_type": "stream",
     "text": [
      "107450 50 13415 0\n",
      "107460 50 13464 0.0\n",
      "107470 50 14832 0\n",
      "107480 50 15069 0\n",
      "107490 50 15037 0\n"
     ]
    },
    {
     "name": "stderr",
     "output_type": "stream",
     "text": [
      "/dados/anaconda3/lib/python3.7/site-packages/tbats/error/ExceptionHandler.py:13: ModelWarning: Optimization did not converge. Forecasts may be unstable.\n",
      "  warnings.warn(message, warning_type)\n"
     ]
    },
    {
     "name": "stdout",
     "output_type": "stream",
     "text": [
      "107500 50 2131 0\n",
      "107510 50 1732 0\n",
      "107520 50 2574 0.0\n",
      "107530 50 3076 0.0\n",
      "107540 50 2779 0.0\n",
      "107550 50 2873 0.0\n",
      "107560 50 20949 20.0\n",
      "107570 50 21937 0\n",
      "107580 50 20400 0\n",
      "107590 50 20616 0.0\n"
     ]
    },
    {
     "name": "stderr",
     "output_type": "stream",
     "text": [
      "/dados/anaconda3/lib/python3.7/site-packages/tbats/error/ExceptionHandler.py:13: ModelWarning: Optimization did not converge. Forecasts may be unstable.\n",
      "  warnings.warn(message, warning_type)\n"
     ]
    },
    {
     "name": "stdout",
     "output_type": "stream",
     "text": [
      "107600 50 1585 0\n",
      "107610 50 982 0.0\n",
      "107620 50 1486 3.0\n"
     ]
    },
    {
     "name": "stderr",
     "output_type": "stream",
     "text": [
      "/dados/anaconda3/lib/python3.7/site-packages/tbats/error/ExceptionHandler.py:13: ModelWarning: Optimization did not converge. Forecasts may be unstable.\n",
      "  warnings.warn(message, warning_type)\n"
     ]
    },
    {
     "name": "stdout",
     "output_type": "stream",
     "text": [
      "107630 50 2328 0\n",
      "107640 50 2293 0.0\n"
     ]
    },
    {
     "name": "stderr",
     "output_type": "stream",
     "text": [
      "/dados/anaconda3/lib/python3.7/site-packages/tbats/error/ExceptionHandler.py:13: ModelWarning: Optimization did not converge. Forecasts may be unstable.\n",
      "  warnings.warn(message, warning_type)\n"
     ]
    },
    {
     "name": "stdout",
     "output_type": "stream",
     "text": [
      "107650 50 3022 0\n"
     ]
    },
    {
     "name": "stderr",
     "output_type": "stream",
     "text": [
      "/dados/anaconda3/lib/python3.7/site-packages/tbats/error/ExceptionHandler.py:13: ModelWarning: Optimization did not converge. Forecasts may be unstable.\n",
      "  warnings.warn(message, warning_type)\n",
      "/dados/anaconda3/lib/python3.7/site-packages/tbats/error/ExceptionHandler.py:13: ModelWarning: Optimization did not converge. Forecasts may be unstable.\n",
      "  warnings.warn(message, warning_type)\n"
     ]
    },
    {
     "name": "stdout",
     "output_type": "stream",
     "text": [
      "107660 50 2743 1.0\n",
      "107670 50 1963 0\n",
      "107680 50 1295 0\n",
      "107690 50 22100 0\n"
     ]
    },
    {
     "name": "stderr",
     "output_type": "stream",
     "text": [
      "/dados/anaconda3/lib/python3.7/site-packages/tbats/error/ExceptionHandler.py:13: ModelWarning: Optimization did not converge. Forecasts may be unstable.\n",
      "  warnings.warn(message, warning_type)\n"
     ]
    },
    {
     "name": "stdout",
     "output_type": "stream",
     "text": [
      "107700 50 482 1.0\n",
      "107710 50 1877 1.0\n",
      "107720 50 1570 0.0\n",
      "107730 50 4003 0.0\n"
     ]
    },
    {
     "name": "stderr",
     "output_type": "stream",
     "text": [
      "/dados/anaconda3/lib/python3.7/site-packages/tbats/error/ExceptionHandler.py:13: ModelWarning: Optimization did not converge. Forecasts may be unstable.\n",
      "  warnings.warn(message, warning_type)\n"
     ]
    },
    {
     "name": "stdout",
     "output_type": "stream",
     "text": [
      "107740 50 3851 1.0\n",
      "107750 50 4420 0.0\n"
     ]
    },
    {
     "name": "stderr",
     "output_type": "stream",
     "text": [
      "/dados/anaconda3/lib/python3.7/site-packages/tbats/error/ExceptionHandler.py:13: ModelWarning: Optimization did not converge. Forecasts may be unstable.\n",
      "  warnings.warn(message, warning_type)\n"
     ]
    },
    {
     "name": "stdout",
     "output_type": "stream",
     "text": [
      "107760 50 4085 7.0\n",
      "107770 50 3528 0.0\n",
      "107780 50 3459 0\n"
     ]
    },
    {
     "name": "stderr",
     "output_type": "stream",
     "text": [
      "/dados/anaconda3/lib/python3.7/site-packages/tbats/error/ExceptionHandler.py:13: ModelWarning: Optimization did not converge. Forecasts may be unstable.\n",
      "  warnings.warn(message, warning_type)\n"
     ]
    },
    {
     "name": "stdout",
     "output_type": "stream",
     "text": [
      "107790 50 12771 1.0\n",
      "107800 50 13334 0\n",
      "107810 50 15047 3.0\n",
      "107820 50 13818 0\n",
      "107830 50 12549 0.0\n",
      "107840 50 12698 0\n"
     ]
    },
    {
     "name": "stderr",
     "output_type": "stream",
     "text": [
      "/dados/anaconda3/lib/python3.7/site-packages/tbats/error/ExceptionHandler.py:13: ModelWarning: Optimization did not converge. Forecasts may be unstable.\n",
      "  warnings.warn(message, warning_type)\n"
     ]
    },
    {
     "name": "stdout",
     "output_type": "stream",
     "text": [
      "107850 50 12360 0.0\n",
      "107860 50 11811 0.0\n"
     ]
    },
    {
     "name": "stderr",
     "output_type": "stream",
     "text": [
      "/dados/anaconda3/lib/python3.7/site-packages/tbats/error/ExceptionHandler.py:13: ModelWarning: Optimization did not converge. Forecasts may be unstable.\n",
      "  warnings.warn(message, warning_type)\n",
      "/dados/anaconda3/lib/python3.7/site-packages/tbats/error/ExceptionHandler.py:13: ModelWarning: Optimization did not converge. Forecasts may be unstable.\n",
      "  warnings.warn(message, warning_type)\n"
     ]
    },
    {
     "name": "stdout",
     "output_type": "stream",
     "text": [
      "107870 50 12023 0\n"
     ]
    },
    {
     "name": "stderr",
     "output_type": "stream",
     "text": [
      "/dados/anaconda3/lib/python3.7/site-packages/tbats/error/ExceptionHandler.py:13: ModelWarning: Optimization did not converge. Forecasts may be unstable.\n",
      "  warnings.warn(message, warning_type)\n"
     ]
    },
    {
     "name": "stdout",
     "output_type": "stream",
     "text": [
      "107880 50 13275 0\n",
      "107890 50 13303 0\n",
      "107900 50 13226 0\n",
      "107910 50 20609 1.0\n"
     ]
    },
    {
     "name": "stderr",
     "output_type": "stream",
     "text": [
      "/dados/anaconda3/lib/python3.7/site-packages/tbats/error/ExceptionHandler.py:13: ModelWarning: Optimization did not converge. Forecasts may be unstable.\n",
      "  warnings.warn(message, warning_type)\n"
     ]
    },
    {
     "name": "stdout",
     "output_type": "stream",
     "text": [
      "107920 50 19430 0.0\n",
      "107930 50 21942 0\n"
     ]
    },
    {
     "name": "stderr",
     "output_type": "stream",
     "text": [
      "/dados/anaconda3/lib/python3.7/site-packages/tbats/error/ExceptionHandler.py:13: ModelWarning: Optimization did not converge. Forecasts may be unstable.\n",
      "  warnings.warn(message, warning_type)\n",
      "/dados/anaconda3/lib/python3.7/site-packages/tbats/error/ExceptionHandler.py:13: ModelWarning: Optimization did not converge. Forecasts may be unstable.\n",
      "  warnings.warn(message, warning_type)\n"
     ]
    },
    {
     "name": "stdout",
     "output_type": "stream",
     "text": [
      "107940 50 18201 0.0\n",
      "107950 50 16122 0.0\n",
      "107960 50 14668 0.0\n",
      "107970 50 15323 0.0\n"
     ]
    },
    {
     "name": "stderr",
     "output_type": "stream",
     "text": [
      "/dados/anaconda3/lib/python3.7/site-packages/tbats/error/ExceptionHandler.py:13: ModelWarning: Optimization did not converge. Forecasts may be unstable.\n",
      "  warnings.warn(message, warning_type)\n"
     ]
    },
    {
     "name": "stdout",
     "output_type": "stream",
     "text": [
      "107980 50 17481 0.0\n",
      "107990 50 16541 0.0\n",
      "108000 50 1239 0.0\n"
     ]
    },
    {
     "name": "stderr",
     "output_type": "stream",
     "text": [
      "/dados/anaconda3/lib/python3.7/site-packages/tbats/error/ExceptionHandler.py:13: ModelWarning: Optimization did not converge. Forecasts may be unstable.\n",
      "  warnings.warn(message, warning_type)\n"
     ]
    },
    {
     "name": "stdout",
     "output_type": "stream",
     "text": [
      "108010 50 20631 0.0\n"
     ]
    },
    {
     "name": "stderr",
     "output_type": "stream",
     "text": [
      "/dados/anaconda3/lib/python3.7/site-packages/tbats/error/ExceptionHandler.py:13: ModelWarning: Optimization did not converge. Forecasts may be unstable.\n",
      "  warnings.warn(message, warning_type)\n"
     ]
    },
    {
     "name": "stdout",
     "output_type": "stream",
     "text": [
      "108020 50 2787 0\n",
      "108030 50 15282 1.0\n",
      "108040 50 16145 0\n"
     ]
    },
    {
     "name": "stderr",
     "output_type": "stream",
     "text": [
      "/dados/anaconda3/lib/python3.7/site-packages/tbats/error/ExceptionHandler.py:13: ModelWarning: Optimization did not converge. Forecasts may be unstable.\n",
      "  warnings.warn(message, warning_type)\n"
     ]
    },
    {
     "name": "stdout",
     "output_type": "stream",
     "text": [
      "108050 50 19125 0\n",
      "108060 50 17032 0\n",
      "108070 50 5383 0\n"
     ]
    },
    {
     "name": "stderr",
     "output_type": "stream",
     "text": [
      "/dados/anaconda3/lib/python3.7/site-packages/tbats/error/ExceptionHandler.py:13: ModelWarning: Optimization did not converge. Forecasts may be unstable.\n",
      "  warnings.warn(message, warning_type)\n"
     ]
    },
    {
     "name": "stdout",
     "output_type": "stream",
     "text": [
      "108080 50 4895 1.0\n",
      "108090 50 6505 0\n",
      "108100 50 6082 0.0\n",
      "108110 50 3822 0\n",
      "108120 50 6129 0\n",
      "108130 50 3833 0\n",
      "108140 50 3871 1.0\n",
      "108150 50 13285 1.0\n",
      "108160 50 11938 0.0\n",
      "108170 50 14457 0.0\n"
     ]
    },
    {
     "name": "stderr",
     "output_type": "stream",
     "text": [
      "/dados/anaconda3/lib/python3.7/site-packages/tbats/error/ExceptionHandler.py:13: ModelWarning: Optimization did not converge. Forecasts may be unstable.\n",
      "  warnings.warn(message, warning_type)\n"
     ]
    },
    {
     "name": "stdout",
     "output_type": "stream",
     "text": [
      "108180 50 7982 0.0\n"
     ]
    },
    {
     "name": "stderr",
     "output_type": "stream",
     "text": [
      "/dados/anaconda3/lib/python3.7/site-packages/tbats/error/ExceptionHandler.py:13: ModelWarning: Optimization did not converge. Forecasts may be unstable.\n",
      "  warnings.warn(message, warning_type)\n",
      "/dados/anaconda3/lib/python3.7/site-packages/tbats/error/ExceptionHandler.py:13: ModelWarning: Optimization did not converge. Forecasts may be unstable.\n",
      "  warnings.warn(message, warning_type)\n"
     ]
    },
    {
     "name": "stdout",
     "output_type": "stream",
     "text": [
      "108190 50 7224 0\n"
     ]
    },
    {
     "name": "stderr",
     "output_type": "stream",
     "text": [
      "/dados/anaconda3/lib/python3.7/site-packages/tbats/error/ExceptionHandler.py:13: ModelWarning: Optimization did not converge. Forecasts may be unstable.\n",
      "  warnings.warn(message, warning_type)\n"
     ]
    },
    {
     "name": "stdout",
     "output_type": "stream",
     "text": [
      "108200 50 10211 4.0\n"
     ]
    },
    {
     "name": "stderr",
     "output_type": "stream",
     "text": [
      "/dados/anaconda3/lib/python3.7/site-packages/tbats/error/ExceptionHandler.py:13: ModelWarning: Optimization did not converge. Forecasts may be unstable.\n",
      "  warnings.warn(message, warning_type)\n"
     ]
    },
    {
     "name": "stdout",
     "output_type": "stream",
     "text": [
      "108210 50 9404 1.0\n",
      "108220 50 4049 0.0\n",
      "108230 50 4999 0\n"
     ]
    },
    {
     "name": "stderr",
     "output_type": "stream",
     "text": [
      "/dados/anaconda3/lib/python3.7/site-packages/tbats/error/ExceptionHandler.py:13: ModelWarning: Optimization did not converge. Forecasts may be unstable.\n",
      "  warnings.warn(message, warning_type)\n"
     ]
    },
    {
     "name": "stdout",
     "output_type": "stream",
     "text": [
      "108240 50 3342 0.0\n",
      "108250 50 10190 0.0\n"
     ]
    },
    {
     "name": "stderr",
     "output_type": "stream",
     "text": [
      "/dados/anaconda3/lib/python3.7/site-packages/tbats/error/ExceptionHandler.py:13: ModelWarning: Optimization did not converge. Forecasts may be unstable.\n",
      "  warnings.warn(message, warning_type)\n"
     ]
    },
    {
     "name": "stdout",
     "output_type": "stream",
     "text": [
      "108260 50 9408 2.0\n",
      "108270 50 13237 0\n",
      "108280 50 10987 0.0\n",
      "108290 50 6625 0.0\n"
     ]
    },
    {
     "name": "stderr",
     "output_type": "stream",
     "text": [
      "/dados/anaconda3/lib/python3.7/site-packages/tbats/error/ExceptionHandler.py:13: ModelWarning: Optimization did not converge. Forecasts may be unstable.\n",
      "  warnings.warn(message, warning_type)\n"
     ]
    },
    {
     "name": "stdout",
     "output_type": "stream",
     "text": [
      "108300 50 6090 1.0\n",
      "108310 50 7019 0.0\n"
     ]
    },
    {
     "name": "stderr",
     "output_type": "stream",
     "text": [
      "/dados/anaconda3/lib/python3.7/site-packages/tbats/error/ExceptionHandler.py:13: ModelWarning: Optimization did not converge. Forecasts may be unstable.\n",
      "  warnings.warn(message, warning_type)\n"
     ]
    },
    {
     "name": "stdout",
     "output_type": "stream",
     "text": [
      "108320 50 12500 0\n",
      "108330 50 10448 0\n",
      "108340 50 12805 0.0\n"
     ]
    },
    {
     "name": "stderr",
     "output_type": "stream",
     "text": [
      "/dados/anaconda3/lib/python3.7/site-packages/tbats/error/ExceptionHandler.py:13: ModelWarning: Optimization did not converge. Forecasts may be unstable.\n",
      "  warnings.warn(message, warning_type)\n"
     ]
    },
    {
     "name": "stdout",
     "output_type": "stream",
     "text": [
      "108350 50 14247 0.0\n",
      "108360 50 7133 0\n"
     ]
    },
    {
     "name": "stderr",
     "output_type": "stream",
     "text": [
      "/dados/anaconda3/lib/python3.7/site-packages/tbats/error/ExceptionHandler.py:13: ModelWarning: Optimization did not converge. Forecasts may be unstable.\n",
      "  warnings.warn(message, warning_type)\n"
     ]
    },
    {
     "name": "stdout",
     "output_type": "stream",
     "text": [
      "108370 50 10292 0.0\n",
      "108380 50 1007 0.0\n",
      "108390 50 1717 0.0\n",
      "108400 50 14390 0.0\n",
      "108410 50 19908 0.0\n",
      "108420 50 17888 0\n",
      "108430 50 21722 0\n"
     ]
    },
    {
     "name": "stderr",
     "output_type": "stream",
     "text": [
      "/dados/anaconda3/lib/python3.7/site-packages/tbats/error/ExceptionHandler.py:13: ModelWarning: Optimization did not converge. Forecasts may be unstable.\n",
      "  warnings.warn(message, warning_type)\n"
     ]
    },
    {
     "name": "stdout",
     "output_type": "stream",
     "text": [
      "108440 50 940 0\n",
      "108450 50 18926 0\n",
      "108460 50 17772 0\n"
     ]
    },
    {
     "name": "stderr",
     "output_type": "stream",
     "text": [
      "/dados/anaconda3/lib/python3.7/site-packages/tbats/error/ExceptionHandler.py:13: ModelWarning: Optimization did not converge. Forecasts may be unstable.\n",
      "  warnings.warn(message, warning_type)\n"
     ]
    },
    {
     "name": "stdout",
     "output_type": "stream",
     "text": [
      "108470 50 19219 0\n",
      "108480 50 20225 0.0\n",
      "108490 50 5816 1.0\n",
      "108500 50 8868 0\n",
      "108510 50 17459 0.0\n",
      "108520 50 17420 0.0\n",
      "108530 50 10812 0\n",
      "108540 50 11771 0\n",
      "108550 50 10554 0\n"
     ]
    },
    {
     "name": "stderr",
     "output_type": "stream",
     "text": [
      "/dados/anaconda3/lib/python3.7/site-packages/tbats/error/ExceptionHandler.py:13: ModelWarning: Optimization did not converge. Forecasts may be unstable.\n",
      "  warnings.warn(message, warning_type)\n"
     ]
    },
    {
     "name": "stdout",
     "output_type": "stream",
     "text": [
      "108560 50 10378 0.0\n",
      "108570 50 16125 0.0\n"
     ]
    },
    {
     "name": "stderr",
     "output_type": "stream",
     "text": [
      "/dados/anaconda3/lib/python3.7/site-packages/tbats/error/ExceptionHandler.py:13: ModelWarning: Optimization did not converge. Forecasts may be unstable.\n",
      "  warnings.warn(message, warning_type)\n"
     ]
    },
    {
     "name": "stdout",
     "output_type": "stream",
     "text": [
      "108580 50 15300 0.0\n",
      "108590 50 17270 0.0\n",
      "108600 50 16735 0.0\n",
      "108610 50 13893 0.0\n",
      "108620 50 13633 0\n",
      "108630 50 14267 0.0\n",
      "108640 50 7592 0\n",
      "108650 50 8734 0.0\n",
      "108660 50 8986 0.0\n",
      "108670 50 8453 0\n",
      "108680 50 4141 0\n",
      "108690 50 6420 0\n",
      "108700 50 11266 0\n",
      "108710 50 13270 0\n",
      "108720 50 13100 0.0\n",
      "108730 50 10146 0.0\n",
      "108740 50 10425 0.0\n",
      "108750 50 11365 0\n",
      "108760 50 14848 0\n",
      "108770 50 21367 0.0\n",
      "108780 50 8077 0.0\n",
      "108790 50 12286 0.0\n"
     ]
    },
    {
     "name": "stderr",
     "output_type": "stream",
     "text": [
      "/dados/anaconda3/lib/python3.7/site-packages/tbats/error/ExceptionHandler.py:13: ModelWarning: Optimization did not converge. Forecasts may be unstable.\n",
      "  warnings.warn(message, warning_type)\n"
     ]
    },
    {
     "name": "stdout",
     "output_type": "stream",
     "text": [
      "108800 50 3028 5.0\n",
      "108810 50 3862 0\n",
      "108820 50 794 0\n",
      "108830 50 353 0\n",
      "108840 50 1074 0.0\n",
      "108850 50 13208 0\n",
      "108860 50 12501 0.0\n",
      "108870 50 10045 0\n",
      "108880 50 12090 0.0\n",
      "108890 50 11534 0\n",
      "108900 50 15512 0\n",
      "108910 50 15166 0\n",
      "108920 50 16534 0.0\n",
      "108930 50 16155 0\n"
     ]
    },
    {
     "name": "stderr",
     "output_type": "stream",
     "text": [
      "/dados/anaconda3/lib/python3.7/site-packages/tbats/error/ExceptionHandler.py:13: ModelWarning: Optimization did not converge. Forecasts may be unstable.\n",
      "  warnings.warn(message, warning_type)\n"
     ]
    },
    {
     "name": "stdout",
     "output_type": "stream",
     "text": [
      "108940 50 12830 0.0\n",
      "108950 50 14124 0.0\n",
      "108960 50 5945 0.0\n",
      "108970 50 6678 0\n",
      "108980 50 4944 1.0\n",
      "108990 50 5517 0\n",
      "109000 50 8398 0\n",
      "109010 50 7458 1.0\n",
      "109020 50 7882 0.0\n",
      "109030 50 7793 0.0\n"
     ]
    },
    {
     "name": "stderr",
     "output_type": "stream",
     "text": [
      "/dados/anaconda3/lib/python3.7/site-packages/tbats/error/ExceptionHandler.py:13: ModelWarning: Optimization did not converge. Forecasts may be unstable.\n",
      "  warnings.warn(message, warning_type)\n"
     ]
    },
    {
     "name": "stdout",
     "output_type": "stream",
     "text": [
      "109040 50 3477 1.0\n"
     ]
    },
    {
     "name": "stderr",
     "output_type": "stream",
     "text": [
      "/dados/anaconda3/lib/python3.7/site-packages/tbats/error/ExceptionHandler.py:13: ModelWarning: Optimization did not converge. Forecasts may be unstable.\n",
      "  warnings.warn(message, warning_type)\n"
     ]
    },
    {
     "name": "stdout",
     "output_type": "stream",
     "text": [
      "109050 50 8686 0.0\n",
      "109060 50 20560 0\n"
     ]
    },
    {
     "name": "stderr",
     "output_type": "stream",
     "text": [
      "/dados/anaconda3/lib/python3.7/site-packages/tbats/error/ExceptionHandler.py:13: ModelWarning: Optimization did not converge. Forecasts may be unstable.\n",
      "  warnings.warn(message, warning_type)\n"
     ]
    },
    {
     "name": "stdout",
     "output_type": "stream",
     "text": [
      "109070 50 19874 0\n",
      "109080 50 17869 0.0\n"
     ]
    },
    {
     "name": "stderr",
     "output_type": "stream",
     "text": [
      "/dados/anaconda3/lib/python3.7/site-packages/tbats/error/ExceptionHandler.py:13: ModelWarning: Optimization did not converge. Forecasts may be unstable.\n",
      "  warnings.warn(message, warning_type)\n"
     ]
    },
    {
     "name": "stdout",
     "output_type": "stream",
     "text": [
      "109090 50 21548 0\n",
      "109100 50 18255 0.0\n"
     ]
    },
    {
     "name": "stderr",
     "output_type": "stream",
     "text": [
      "/dados/anaconda3/lib/python3.7/site-packages/tbats/error/ExceptionHandler.py:13: ModelWarning: Optimization did not converge. Forecasts may be unstable.\n",
      "  warnings.warn(message, warning_type)\n"
     ]
    },
    {
     "name": "stdout",
     "output_type": "stream",
     "text": [
      "109110 50 2639 0.0\n"
     ]
    },
    {
     "name": "stderr",
     "output_type": "stream",
     "text": [
      "/dados/anaconda3/lib/python3.7/site-packages/tbats/error/ExceptionHandler.py:13: ModelWarning: Optimization did not converge. Forecasts may be unstable.\n",
      "  warnings.warn(message, warning_type)\n"
     ]
    },
    {
     "name": "stdout",
     "output_type": "stream",
     "text": [
      "109120 50 21827 0\n",
      "109130 50 1238 0.0\n",
      "109140 50 1247 0.0\n",
      "109150 50 269 0\n",
      "109160 50 687 0.0\n",
      "109170 50 93 0\n"
     ]
    },
    {
     "name": "stderr",
     "output_type": "stream",
     "text": [
      "/dados/anaconda3/lib/python3.7/site-packages/tbats/error/ExceptionHandler.py:13: ModelWarning: Optimization did not converge. Forecasts may be unstable.\n",
      "  warnings.warn(message, warning_type)\n"
     ]
    },
    {
     "name": "stdout",
     "output_type": "stream",
     "text": [
      "109180 50 20718 0\n",
      "109190 50 42 0\n",
      "109200 50 21842 0.0\n",
      "109210 50 2324 0\n",
      "109220 50 1663 0.0\n",
      "109230 50 3080 0.0\n",
      "109240 50 2886 0\n",
      "109250 50 13587 0\n",
      "109260 50 13691 0\n"
     ]
    },
    {
     "name": "stderr",
     "output_type": "stream",
     "text": [
      "/dados/anaconda3/lib/python3.7/site-packages/tbats/error/ExceptionHandler.py:13: ModelWarning: Optimization did not converge. Forecasts may be unstable.\n",
      "  warnings.warn(message, warning_type)\n"
     ]
    },
    {
     "name": "stdout",
     "output_type": "stream",
     "text": [
      "109270 50 15169 0\n",
      "109280 50 14973 0\n",
      "109290 50 13113 0.0\n",
      "109300 50 11711 0.0\n",
      "109310 50 13231 0\n",
      "109320 50 18677 0.0\n",
      "109330 50 18686 0.0\n",
      "109340 50 20374 0.0\n"
     ]
    },
    {
     "name": "stderr",
     "output_type": "stream",
     "text": [
      "/dados/anaconda3/lib/python3.7/site-packages/tbats/error/ExceptionHandler.py:13: ModelWarning: Optimization did not converge. Forecasts may be unstable.\n",
      "  warnings.warn(message, warning_type)\n"
     ]
    },
    {
     "name": "stdout",
     "output_type": "stream",
     "text": [
      "109350 50 20571 0\n",
      "109360 50 19621 0.0\n"
     ]
    },
    {
     "name": "stderr",
     "output_type": "stream",
     "text": [
      "/dados/anaconda3/lib/python3.7/site-packages/tbats/error/ExceptionHandler.py:13: ModelWarning: Optimization did not converge. Forecasts may be unstable.\n",
      "  warnings.warn(message, warning_type)\n"
     ]
    },
    {
     "name": "stdout",
     "output_type": "stream",
     "text": [
      "109370 50 16036 0\n"
     ]
    },
    {
     "name": "stderr",
     "output_type": "stream",
     "text": [
      "/dados/anaconda3/lib/python3.7/site-packages/tbats/error/ExceptionHandler.py:13: ModelWarning: Optimization did not converge. Forecasts may be unstable.\n",
      "  warnings.warn(message, warning_type)\n"
     ]
    },
    {
     "name": "stdout",
     "output_type": "stream",
     "text": [
      "109380 50 15276 0.0\n"
     ]
    },
    {
     "name": "stderr",
     "output_type": "stream",
     "text": [
      "/dados/anaconda3/lib/python3.7/site-packages/tbats/error/ExceptionHandler.py:13: ModelWarning: Optimization did not converge. Forecasts may be unstable.\n",
      "  warnings.warn(message, warning_type)\n"
     ]
    },
    {
     "name": "stdout",
     "output_type": "stream",
     "text": [
      "109390 50 16177 0\n",
      "109400 50 8687 0.0\n",
      "109410 50 9171 0\n",
      "109420 50 9366 0\n",
      "109430 50 7459 0.0\n"
     ]
    },
    {
     "name": "stderr",
     "output_type": "stream",
     "text": [
      "/dados/anaconda3/lib/python3.7/site-packages/tbats/error/ExceptionHandler.py:13: ModelWarning: Optimization did not converge. Forecasts may be unstable.\n",
      "  warnings.warn(message, warning_type)\n",
      "/dados/anaconda3/lib/python3.7/site-packages/tbats/error/ExceptionHandler.py:13: ModelWarning: Optimization did not converge. Forecasts may be unstable.\n",
      "  warnings.warn(message, warning_type)\n"
     ]
    },
    {
     "name": "stdout",
     "output_type": "stream",
     "text": [
      "109440 50 8148 0\n",
      "109450 50 8510 0\n",
      "109460 50 9449 0\n"
     ]
    },
    {
     "name": "stderr",
     "output_type": "stream",
     "text": [
      "/dados/anaconda3/lib/python3.7/site-packages/tbats/error/ExceptionHandler.py:13: ModelWarning: Optimization did not converge. Forecasts may be unstable.\n",
      "  warnings.warn(message, warning_type)\n"
     ]
    },
    {
     "name": "stdout",
     "output_type": "stream",
     "text": [
      "109470 50 10786 0.0\n"
     ]
    },
    {
     "name": "stderr",
     "output_type": "stream",
     "text": [
      "/dados/anaconda3/lib/python3.7/site-packages/tbats/error/ExceptionHandler.py:13: ModelWarning: Optimization did not converge. Forecasts may be unstable.\n",
      "  warnings.warn(message, warning_type)\n"
     ]
    },
    {
     "name": "stdout",
     "output_type": "stream",
     "text": [
      "109480 50 10669 0.0\n",
      "109490 50 11379 0\n",
      "109500 50 11542 0\n",
      "109510 50 10893 0\n",
      "109520 50 9539 0.0\n",
      "109530 50 10325 1.0\n",
      "109540 50 9840 0\n",
      "109550 50 10003 0\n"
     ]
    },
    {
     "name": "stderr",
     "output_type": "stream",
     "text": [
      "/dados/anaconda3/lib/python3.7/site-packages/tbats/error/ExceptionHandler.py:13: ModelWarning: Optimization did not converge. Forecasts may be unstable.\n",
      "  warnings.warn(message, warning_type)\n"
     ]
    },
    {
     "name": "stdout",
     "output_type": "stream",
     "text": [
      "109560 50 4708 1.0\n",
      "109570 50 4604 0.0\n",
      "109580 50 5323 1.0\n",
      "109590 50 3897 0.0\n",
      "109600 50 3919 0\n",
      "109610 50 3787 0.0\n",
      "109620 50 4088 0\n",
      "109630 50 6695 0.0\n",
      "109640 50 6378 2.0\n"
     ]
    },
    {
     "name": "stderr",
     "output_type": "stream",
     "text": [
      "/dados/anaconda3/lib/python3.7/site-packages/tbats/error/ExceptionHandler.py:13: ModelWarning: Optimization did not converge. Forecasts may be unstable.\n",
      "  warnings.warn(message, warning_type)\n"
     ]
    },
    {
     "name": "stdout",
     "output_type": "stream",
     "text": [
      "109650 50 6857 0.0\n",
      "109660 50 5659 0.0\n",
      "109670 50 3354 0\n",
      "109680 50 1538 0\n",
      "109690 50 22111 0\n",
      "109700 50 9019 0.0\n",
      "109710 50 11968 0.0\n",
      "109720 50 6027 1.0\n",
      "109730 50 18361 0\n",
      "109740 50 18629 0\n",
      "109750 50 17883 0\n",
      "109760 50 18108 0\n"
     ]
    },
    {
     "name": "stderr",
     "output_type": "stream",
     "text": [
      "/dados/anaconda3/lib/python3.7/site-packages/tbats/error/ExceptionHandler.py:13: ModelWarning: Optimization did not converge. Forecasts may be unstable.\n",
      "  warnings.warn(message, warning_type)\n"
     ]
    },
    {
     "name": "stdout",
     "output_type": "stream",
     "text": [
      "109770 50 19126 0.0\n",
      "109780 50 19488 0\n",
      "109790 50 18759 0\n",
      "109800 50 18979 0\n",
      "109810 50 3236 0.0\n",
      "109820 50 19588 0.0\n",
      "109830 50 20952 0\n",
      "109840 50 21207 0\n",
      "109850 50 20833 0\n",
      "109860 50 20274 0.0\n",
      "109870 50 21795 0\n",
      "109880 50 21792 0.0\n"
     ]
    },
    {
     "name": "stderr",
     "output_type": "stream",
     "text": [
      "/dados/anaconda3/lib/python3.7/site-packages/tbats/error/ExceptionHandler.py:13: ModelWarning: Optimization did not converge. Forecasts may be unstable.\n",
      "  warnings.warn(message, warning_type)\n"
     ]
    },
    {
     "name": "stdout",
     "output_type": "stream",
     "text": [
      "109890 50 19951 0\n",
      "109900 50 19852 0\n"
     ]
    },
    {
     "name": "stderr",
     "output_type": "stream",
     "text": [
      "/dados/anaconda3/lib/python3.7/site-packages/tbats/error/ExceptionHandler.py:13: ModelWarning: Optimization did not converge. Forecasts may be unstable.\n",
      "  warnings.warn(message, warning_type)\n"
     ]
    },
    {
     "name": "stdout",
     "output_type": "stream",
     "text": [
      "109910 50 20600 0\n",
      "109920 50 20581 0\n",
      "109930 50 6312 0.0\n",
      "109940 50 3634 0.0\n",
      "109950 50 4707 0\n",
      "109960 50 8888 0.0\n",
      "109970 50 10099 0.0\n",
      "109980 50 6807 0\n",
      "109990 50 8112 0.0\n",
      "110000 50 19118 14.0\n",
      "110010 50 21790 0\n",
      "110020 50 13630 0\n",
      "110030 50 15478 1.0\n",
      "110040 50 15226 0.0\n",
      "110050 50 2585 0\n",
      "110060 50 2213 0\n",
      "110070 50 1611 0.0\n",
      "110080 50 12504 0.0\n",
      "110090 50 13445 0\n",
      "110100 50 11915 0.0\n"
     ]
    },
    {
     "name": "stderr",
     "output_type": "stream",
     "text": [
      "/dados/anaconda3/lib/python3.7/site-packages/tbats/error/ExceptionHandler.py:13: ModelWarning: Optimization did not converge. Forecasts may be unstable.\n",
      "  warnings.warn(message, warning_type)\n"
     ]
    },
    {
     "name": "stdout",
     "output_type": "stream",
     "text": [
      "110110 50 20739 0.0\n",
      "110120 50 21196 0\n",
      "110130 50 14108 1.0\n",
      "110140 50 3457 0\n",
      "110150 50 3096 0\n"
     ]
    },
    {
     "name": "stderr",
     "output_type": "stream",
     "text": [
      "/dados/anaconda3/lib/python3.7/site-packages/tbats/error/ExceptionHandler.py:13: ModelWarning: Optimization did not converge. Forecasts may be unstable.\n",
      "  warnings.warn(message, warning_type)\n"
     ]
    },
    {
     "name": "stdout",
     "output_type": "stream",
     "text": [
      "110160 50 15260 1.0\n",
      "110170 50 17157 0.0\n",
      "110180 50 413 0\n",
      "110190 50 1010 0.0\n",
      "110200 50 4364 0.0\n",
      "110210 50 6528 0\n",
      "110220 50 5470 1.0\n",
      "110230 50 19337 0\n",
      "110240 50 18017 0\n",
      "110250 50 14892 1.0\n"
     ]
    },
    {
     "name": "stderr",
     "output_type": "stream",
     "text": [
      "/dados/anaconda3/lib/python3.7/site-packages/tbats/error/ExceptionHandler.py:13: ModelWarning: Optimization did not converge. Forecasts may be unstable.\n",
      "  warnings.warn(message, warning_type)\n"
     ]
    },
    {
     "name": "stdout",
     "output_type": "stream",
     "text": [
      "110260 50 20393 0\n",
      "110270 50 15171 0\n",
      "110280 50 16093 0\n"
     ]
    },
    {
     "name": "stderr",
     "output_type": "stream",
     "text": [
      "/dados/anaconda3/lib/python3.7/site-packages/tbats/error/ExceptionHandler.py:13: ModelWarning: Optimization did not converge. Forecasts may be unstable.\n",
      "  warnings.warn(message, warning_type)\n",
      "/dados/anaconda3/lib/python3.7/site-packages/tbats/error/ExceptionHandler.py:13: ModelWarning: Optimization did not converge. Forecasts may be unstable.\n",
      "  warnings.warn(message, warning_type)\n"
     ]
    },
    {
     "name": "stdout",
     "output_type": "stream",
     "text": [
      "110290 50 16111 0.0\n",
      "110300 50 14962 0\n",
      "110310 50 16207 0.0\n",
      "110320 50 16786 0\n",
      "110330 50 8157 0.0\n",
      "110340 50 13448 0\n"
     ]
    },
    {
     "name": "stderr",
     "output_type": "stream",
     "text": [
      "/dados/anaconda3/lib/python3.7/site-packages/tbats/error/ExceptionHandler.py:13: ModelWarning: Optimization did not converge. Forecasts may be unstable.\n",
      "  warnings.warn(message, warning_type)\n"
     ]
    },
    {
     "name": "stdout",
     "output_type": "stream",
     "text": [
      "110350 50 13224 0\n",
      "110360 50 13512 0.0\n",
      "110370 50 13288 0\n",
      "110380 50 14164 0\n",
      "110390 50 12808 0.0\n",
      "110400 50 13647 0\n"
     ]
    },
    {
     "name": "stderr",
     "output_type": "stream",
     "text": [
      "/dados/anaconda3/lib/python3.7/site-packages/tbats/error/ExceptionHandler.py:13: ModelWarning: Optimization did not converge. Forecasts may be unstable.\n",
      "  warnings.warn(message, warning_type)\n"
     ]
    },
    {
     "name": "stdout",
     "output_type": "stream",
     "text": [
      "110410 50 12332 0\n",
      "110420 50 12091 0.0\n"
     ]
    },
    {
     "name": "stderr",
     "output_type": "stream",
     "text": [
      "/dados/anaconda3/lib/python3.7/site-packages/tbats/error/ExceptionHandler.py:13: ModelWarning: Optimization did not converge. Forecasts may be unstable.\n",
      "  warnings.warn(message, warning_type)\n",
      "/dados/anaconda3/lib/python3.7/site-packages/tbats/error/ExceptionHandler.py:13: ModelWarning: Optimization did not converge. Forecasts may be unstable.\n",
      "  warnings.warn(message, warning_type)\n"
     ]
    },
    {
     "name": "stdout",
     "output_type": "stream",
     "text": [
      "110430 50 11268 0\n",
      "110440 50 13223 0\n",
      "110450 50 13221 0\n",
      "110460 50 16179 0\n",
      "110470 50 15524 0.0\n",
      "110480 50 16045 0\n",
      "110490 50 16910 0\n",
      "110500 50 15667 0\n",
      "110510 50 16243 0\n",
      "110520 50 16349 0\n",
      "110530 50 15015 0\n",
      "110540 50 15134 0.0\n",
      "110550 50 14987 0\n",
      "110560 50 15318 0\n"
     ]
    },
    {
     "name": "stderr",
     "output_type": "stream",
     "text": [
      "/dados/anaconda3/lib/python3.7/site-packages/tbats/error/ExceptionHandler.py:13: ModelWarning: Optimization did not converge. Forecasts may be unstable.\n",
      "  warnings.warn(message, warning_type)\n",
      "/dados/anaconda3/lib/python3.7/site-packages/tbats/error/ExceptionHandler.py:13: ModelWarning: Optimization did not converge. Forecasts may be unstable.\n",
      "  warnings.warn(message, warning_type)\n"
     ]
    },
    {
     "name": "stdout",
     "output_type": "stream",
     "text": [
      "110570 50 15168 0\n"
     ]
    },
    {
     "name": "stderr",
     "output_type": "stream",
     "text": [
      "/dados/anaconda3/lib/python3.7/site-packages/tbats/error/ExceptionHandler.py:13: ModelWarning: Optimization did not converge. Forecasts may be unstable.\n",
      "  warnings.warn(message, warning_type)\n"
     ]
    },
    {
     "name": "stdout",
     "output_type": "stream",
     "text": [
      "110580 50 15220 0.0\n",
      "110590 50 6870 0\n",
      "110600 50 4480 1.0\n",
      "110610 50 5063 0\n",
      "110620 50 5155 0\n",
      "110630 50 5187 0\n",
      "110640 50 5121 0\n",
      "110650 50 10069 0\n",
      "110660 50 10287 0.0\n",
      "110670 50 10180 0\n",
      "110680 50 10772 0.0\n",
      "110690 50 11363 0\n",
      "110700 50 11044 0.0\n",
      "110710 50 8459 0\n",
      "110720 50 8363 0.0\n",
      "110730 50 7580 0\n",
      "110740 50 8968 0\n",
      "110750 50 9338 0\n",
      "110760 50 8428 0\n",
      "110770 50 14361 0.0\n",
      "110780 50 547 0\n"
     ]
    },
    {
     "name": "stderr",
     "output_type": "stream",
     "text": [
      "/dados/anaconda3/lib/python3.7/site-packages/tbats/error/ExceptionHandler.py:13: ModelWarning: Optimization did not converge. Forecasts may be unstable.\n",
      "  warnings.warn(message, warning_type)\n"
     ]
    },
    {
     "name": "stdout",
     "output_type": "stream",
     "text": [
      "110790 50 12743 0.0\n",
      "110800 50 20517 0.0\n"
     ]
    },
    {
     "name": "stderr",
     "output_type": "stream",
     "text": [
      "/dados/anaconda3/lib/python3.7/site-packages/tbats/error/ExceptionHandler.py:13: ModelWarning: Optimization did not converge. Forecasts may be unstable.\n",
      "  warnings.warn(message, warning_type)\n"
     ]
    },
    {
     "name": "stdout",
     "output_type": "stream",
     "text": [
      "110810 50 7924 1.0\n",
      "110820 50 3239 3.0\n",
      "110830 50 15458 0\n",
      "110840 50 18025 0\n"
     ]
    },
    {
     "name": "stderr",
     "output_type": "stream",
     "text": [
      "/dados/anaconda3/lib/python3.7/site-packages/tbats/error/ExceptionHandler.py:13: ModelWarning: Optimization did not converge. Forecasts may be unstable.\n",
      "  warnings.warn(message, warning_type)\n"
     ]
    },
    {
     "name": "stdout",
     "output_type": "stream",
     "text": [
      "110850 50 15031 0\n",
      "110860 50 14984 0\n",
      "110870 50 1254 0\n",
      "110880 50 18968 0.0\n",
      "110890 50 21139 0\n",
      "110900 50 3273 0\n",
      "110910 50 13407 0\n",
      "110920 50 21692 0\n",
      "110930 50 19127 0.0\n",
      "110940 50 16953 0.0\n",
      "110950 50 21400 0.0\n",
      "110960 50 20334 0\n",
      "110970 50 13693 0\n",
      "110980 50 12474 0\n",
      "110990 50 8468 0\n",
      "111000 50 11302 0\n",
      "111010 50 448 0\n"
     ]
    },
    {
     "name": "stderr",
     "output_type": "stream",
     "text": [
      "/dados/anaconda3/lib/python3.7/site-packages/tbats/error/ExceptionHandler.py:13: ModelWarning: Optimization did not converge. Forecasts may be unstable.\n",
      "  warnings.warn(message, warning_type)\n",
      "/dados/anaconda3/lib/python3.7/site-packages/tbats/error/ExceptionHandler.py:13: ModelWarning: Optimization did not converge. Forecasts may be unstable.\n",
      "  warnings.warn(message, warning_type)\n"
     ]
    },
    {
     "name": "stdout",
     "output_type": "stream",
     "text": [
      "111020 50 5272 0.0\n",
      "111030 50 6028 0\n"
     ]
    },
    {
     "name": "stderr",
     "output_type": "stream",
     "text": [
      "/dados/anaconda3/lib/python3.7/site-packages/tbats/error/ExceptionHandler.py:13: ModelWarning: Optimization did not converge. Forecasts may be unstable.\n",
      "  warnings.warn(message, warning_type)\n"
     ]
    },
    {
     "name": "stdout",
     "output_type": "stream",
     "text": [
      "111040 50 8855 0\n",
      "111050 50 2540 0\n"
     ]
    },
    {
     "name": "stderr",
     "output_type": "stream",
     "text": [
      "/dados/anaconda3/lib/python3.7/site-packages/tbats/error/ExceptionHandler.py:13: ModelWarning: Optimization did not converge. Forecasts may be unstable.\n",
      "  warnings.warn(message, warning_type)\n"
     ]
    },
    {
     "name": "stdout",
     "output_type": "stream",
     "text": [
      "111060 50 18315 0\n",
      "111070 50 2191 0\n",
      "111080 50 3333 0.0\n"
     ]
    },
    {
     "name": "stderr",
     "output_type": "stream",
     "text": [
      "/dados/anaconda3/lib/python3.7/site-packages/tbats/error/ExceptionHandler.py:13: ModelWarning: Optimization did not converge. Forecasts may be unstable.\n",
      "  warnings.warn(message, warning_type)\n",
      "/dados/anaconda3/lib/python3.7/site-packages/tbats/error/ExceptionHandler.py:13: ModelWarning: Optimization did not converge. Forecasts may be unstable.\n",
      "  warnings.warn(message, warning_type)\n"
     ]
    },
    {
     "name": "stdout",
     "output_type": "stream",
     "text": [
      "111090 50 20879 0\n",
      "111100 50 14760 0\n",
      "111110 50 4637 0.0\n",
      "111120 50 13494 0.0\n",
      "111130 50 16032 0.0\n",
      "111140 50 2523 0.0\n"
     ]
    },
    {
     "name": "stderr",
     "output_type": "stream",
     "text": [
      "/dados/anaconda3/lib/python3.7/site-packages/tbats/error/ExceptionHandler.py:13: ModelWarning: Optimization did not converge. Forecasts may be unstable.\n",
      "  warnings.warn(message, warning_type)\n"
     ]
    },
    {
     "name": "stdout",
     "output_type": "stream",
     "text": [
      "111150 50 5540 0\n",
      "111160 50 1453 0.0\n",
      "111170 50 11011 1.0\n",
      "111180 50 3548 0\n"
     ]
    },
    {
     "name": "stderr",
     "output_type": "stream",
     "text": [
      "/dados/anaconda3/lib/python3.7/site-packages/tbats/error/ExceptionHandler.py:13: ModelWarning: Optimization did not converge. Forecasts may be unstable.\n",
      "  warnings.warn(message, warning_type)\n"
     ]
    },
    {
     "name": "stdout",
     "output_type": "stream",
     "text": [
      "111190 50 6307 0.0\n",
      "111200 50 20196 0\n"
     ]
    },
    {
     "name": "stderr",
     "output_type": "stream",
     "text": [
      "/dados/anaconda3/lib/python3.7/site-packages/tbats/error/ExceptionHandler.py:13: ModelWarning: Optimization did not converge. Forecasts may be unstable.\n",
      "  warnings.warn(message, warning_type)\n"
     ]
    },
    {
     "name": "stdout",
     "output_type": "stream",
     "text": [
      "111210 50 19751 0.0\n",
      "111220 50 18457 0\n",
      "111230 50 18208 0\n"
     ]
    },
    {
     "name": "stderr",
     "output_type": "stream",
     "text": [
      "/dados/anaconda3/lib/python3.7/site-packages/tbats/error/ExceptionHandler.py:13: ModelWarning: Optimization did not converge. Forecasts may be unstable.\n",
      "  warnings.warn(message, warning_type)\n"
     ]
    },
    {
     "name": "stdout",
     "output_type": "stream",
     "text": [
      "111240 50 22013 0.0\n",
      "111250 50 20653 0.0\n",
      "111260 50 21053 0\n",
      "111270 50 11516 0\n",
      "111280 50 18481 0.0\n",
      "111290 50 15222 0\n",
      "111300 50 13327 0\n"
     ]
    },
    {
     "name": "stderr",
     "output_type": "stream",
     "text": [
      "/dados/anaconda3/lib/python3.7/site-packages/tbats/error/ExceptionHandler.py:13: ModelWarning: Optimization did not converge. Forecasts may be unstable.\n",
      "  warnings.warn(message, warning_type)\n"
     ]
    },
    {
     "name": "stdout",
     "output_type": "stream",
     "text": [
      "111310 50 18031 0.0\n",
      "111320 50 20821 0\n",
      "111330 50 18939 0\n",
      "111340 50 12208 0.0\n",
      "111350 50 15654 0.0\n",
      "111360 50 16028 0.0\n",
      "111370 50 20516 0.0\n",
      "111380 50 6400 0\n"
     ]
    },
    {
     "name": "stderr",
     "output_type": "stream",
     "text": [
      "/dados/anaconda3/lib/python3.7/site-packages/tbats/error/ExceptionHandler.py:13: ModelWarning: Optimization did not converge. Forecasts may be unstable.\n",
      "  warnings.warn(message, warning_type)\n"
     ]
    },
    {
     "name": "stdout",
     "output_type": "stream",
     "text": [
      "111390 50 16166 0\n"
     ]
    },
    {
     "name": "stderr",
     "output_type": "stream",
     "text": [
      "/dados/anaconda3/lib/python3.7/site-packages/tbats/error/ExceptionHandler.py:13: ModelWarning: Optimization did not converge. Forecasts may be unstable.\n",
      "  warnings.warn(message, warning_type)\n"
     ]
    },
    {
     "name": "stdout",
     "output_type": "stream",
     "text": [
      "111400 50 9534 0\n",
      "111410 50 10581 0\n",
      "111420 50 9111 0\n",
      "111430 50 13099 0\n",
      "111440 50 11874 0\n",
      "111450 50 12192 0\n",
      "111460 50 6430 0\n",
      "111470 50 5761 0\n",
      "111480 50 4903 0\n",
      "111490 50 5382 0\n",
      "111500 50 7817 0\n",
      "111510 50 6959 0\n",
      "111520 50 7057 0\n",
      "111530 50 21978 0\n",
      "111540 50 19347 0\n",
      "111550 50 20012 0\n"
     ]
    },
    {
     "name": "stderr",
     "output_type": "stream",
     "text": [
      "/dados/anaconda3/lib/python3.7/site-packages/tbats/error/ExceptionHandler.py:13: ModelWarning: Optimization did not converge. Forecasts may be unstable.\n",
      "  warnings.warn(message, warning_type)\n"
     ]
    },
    {
     "name": "stdout",
     "output_type": "stream",
     "text": [
      "111560 50 13732 0\n",
      "111570 50 14934 0\n",
      "111580 50 13341 0\n",
      "111590 50 16396 0\n",
      "111600 50 16813 0\n",
      "111610 50 15988 0\n",
      "111620 50 16272 0\n",
      "111630 50 504 0\n",
      "111640 50 688 0\n",
      "111650 50 616 0\n",
      "111660 50 204 0\n",
      "111670 50 1394 0\n",
      "111680 50 924 0\n",
      "111690 50 1506 0\n",
      "111700 50 849 0\n",
      "111710 50 20361 1.0\n",
      "111720 50 3715 0\n",
      "111730 50 3411 0\n",
      "111740 50 4765 0\n",
      "111750 50 4260 0\n",
      "111760 50 4144 0\n",
      "111770 50 4203 0\n",
      "111780 50 1794 0\n",
      "111790 50 2338 0\n",
      "111800 50 1792 0\n",
      "111810 50 2856 0\n",
      "111820 50 2434 0\n",
      "111830 50 3136 0\n",
      "111840 50 1018 0\n",
      "111850 50 19258 0\n"
     ]
    },
    {
     "name": "stderr",
     "output_type": "stream",
     "text": [
      "/dados/anaconda3/lib/python3.7/site-packages/tbats/error/ExceptionHandler.py:13: ModelWarning: Optimization did not converge. Forecasts may be unstable.\n",
      "  warnings.warn(message, warning_type)\n"
     ]
    },
    {
     "name": "stdout",
     "output_type": "stream",
     "text": [
      "111860 50 4736 0.0\n",
      "111870 50 5363 0.0\n",
      "111880 50 17390 0\n",
      "111890 50 11682 0\n",
      "111900 50 15735 0.0\n",
      "111910 50 14899 0.0\n",
      "111920 50 20212 0\n",
      "111930 50 5899 0.0\n"
     ]
    },
    {
     "name": "stderr",
     "output_type": "stream",
     "text": [
      "/dados/anaconda3/lib/python3.7/site-packages/tbats/error/ExceptionHandler.py:13: ModelWarning: Optimization did not converge. Forecasts may be unstable.\n",
      "  warnings.warn(message, warning_type)\n"
     ]
    },
    {
     "name": "stdout",
     "output_type": "stream",
     "text": [
      "111940 50 18476 0.0\n",
      "111950 50 6835 0.0\n",
      "111960 50 15405 0\n"
     ]
    },
    {
     "name": "stderr",
     "output_type": "stream",
     "text": [
      "/dados/anaconda3/lib/python3.7/site-packages/tbats/error/ExceptionHandler.py:13: ModelWarning: Optimization did not converge. Forecasts may be unstable.\n",
      "  warnings.warn(message, warning_type)\n"
     ]
    },
    {
     "name": "stdout",
     "output_type": "stream",
     "text": [
      "111970 50 17756 0\n",
      "111980 50 18500 0\n",
      "111990 50 16231 0\n",
      "112000 50 17015 0\n",
      "112010 50 13133 0\n",
      "112020 50 14222 0\n"
     ]
    },
    {
     "name": "stderr",
     "output_type": "stream",
     "text": [
      "/dados/anaconda3/lib/python3.7/site-packages/tbats/error/ExceptionHandler.py:13: ModelWarning: Optimization did not converge. Forecasts may be unstable.\n",
      "  warnings.warn(message, warning_type)\n"
     ]
    },
    {
     "name": "stdout",
     "output_type": "stream",
     "text": [
      "112030 50 13812 0.0\n",
      "112040 50 5010 2.0\n",
      "112050 50 21210 0\n",
      "112060 50 20916 0\n",
      "112070 50 21664 0\n"
     ]
    },
    {
     "name": "stderr",
     "output_type": "stream",
     "text": [
      "/dados/anaconda3/lib/python3.7/site-packages/tbats/error/ExceptionHandler.py:13: ModelWarning: Optimization did not converge. Forecasts may be unstable.\n",
      "  warnings.warn(message, warning_type)\n"
     ]
    },
    {
     "name": "stdout",
     "output_type": "stream",
     "text": [
      "112080 50 3232 0\n",
      "112090 50 3547 0.0\n",
      "112100 50 18707 0\n",
      "112110 50 11674 0.0\n"
     ]
    },
    {
     "name": "stderr",
     "output_type": "stream",
     "text": [
      "/dados/anaconda3/lib/python3.7/site-packages/tbats/error/ExceptionHandler.py:13: ModelWarning: Optimization did not converge. Forecasts may be unstable.\n",
      "  warnings.warn(message, warning_type)\n"
     ]
    },
    {
     "name": "stdout",
     "output_type": "stream",
     "text": [
      "112120 50 16057 0.0\n",
      "112130 50 15033 0\n",
      "112140 50 10508 0\n",
      "112150 50 7572 0\n",
      "112160 50 6882 0.0\n",
      "112170 50 14543 0\n",
      "112180 50 19889 0.0\n",
      "112190 50 3280 0.0\n",
      "112200 49 5037 0.0\n"
     ]
    },
    {
     "name": "stderr",
     "output_type": "stream",
     "text": [
      "/dados/anaconda3/lib/python3.7/site-packages/tbats/error/ExceptionHandler.py:13: ModelWarning: Optimization did not converge. Forecasts may be unstable.\n",
      "  warnings.warn(message, warning_type)\n"
     ]
    },
    {
     "name": "stdout",
     "output_type": "stream",
     "text": [
      "112210 49 4806 1.0\n",
      "112220 49 4717 0.0\n",
      "112230 49 5666 0.0\n",
      "112240 49 5840 0\n"
     ]
    },
    {
     "name": "stderr",
     "output_type": "stream",
     "text": [
      "/dados/anaconda3/lib/python3.7/site-packages/tbats/error/ExceptionHandler.py:13: ModelWarning: Optimization did not converge. Forecasts may be unstable.\n",
      "  warnings.warn(message, warning_type)\n"
     ]
    },
    {
     "name": "stdout",
     "output_type": "stream",
     "text": [
      "112250 49 5838 2.0\n",
      "112260 49 3352 0\n",
      "112270 49 3604 0\n",
      "112280 49 3443 6.0\n",
      "112290 49 4365 1.0\n"
     ]
    },
    {
     "name": "stderr",
     "output_type": "stream",
     "text": [
      "/dados/anaconda3/lib/python3.7/site-packages/tbats/error/ExceptionHandler.py:13: ModelWarning: Optimization did not converge. Forecasts may be unstable.\n",
      "  warnings.warn(message, warning_type)\n"
     ]
    },
    {
     "name": "stdout",
     "output_type": "stream",
     "text": [
      "112300 49 3733 0.0\n",
      "112310 49 4052 0.0\n",
      "112320 49 9395 0.0\n",
      "112330 49 9469 0\n"
     ]
    },
    {
     "name": "stderr",
     "output_type": "stream",
     "text": [
      "/dados/anaconda3/lib/python3.7/site-packages/tbats/error/ExceptionHandler.py:13: ModelWarning: Optimization did not converge. Forecasts may be unstable.\n",
      "  warnings.warn(message, warning_type)\n"
     ]
    },
    {
     "name": "stdout",
     "output_type": "stream",
     "text": [
      "112340 49 8653 0.0\n",
      "112350 49 9001 0\n",
      "112360 49 10447 0\n"
     ]
    },
    {
     "name": "stderr",
     "output_type": "stream",
     "text": [
      "/dados/anaconda3/lib/python3.7/site-packages/tbats/error/ExceptionHandler.py:13: ModelWarning: Optimization did not converge. Forecasts may be unstable.\n",
      "  warnings.warn(message, warning_type)\n"
     ]
    },
    {
     "name": "stdout",
     "output_type": "stream",
     "text": [
      "112370 49 10327 0.0\n"
     ]
    },
    {
     "name": "stderr",
     "output_type": "stream",
     "text": [
      "/dados/anaconda3/lib/python3.7/site-packages/tbats/error/ExceptionHandler.py:13: ModelWarning: Optimization did not converge. Forecasts may be unstable.\n",
      "  warnings.warn(message, warning_type)\n"
     ]
    },
    {
     "name": "stdout",
     "output_type": "stream",
     "text": [
      "112380 49 9927 0\n",
      "112390 49 6506 0\n",
      "112400 49 6731 0\n",
      "112410 49 6396 0\n",
      "112420 49 6064 3.0\n",
      "112430 49 7862 0\n"
     ]
    },
    {
     "name": "stderr",
     "output_type": "stream",
     "text": [
      "/dados/anaconda3/lib/python3.7/site-packages/tbats/error/ExceptionHandler.py:13: ModelWarning: Optimization did not converge. Forecasts may be unstable.\n",
      "  warnings.warn(message, warning_type)\n"
     ]
    },
    {
     "name": "stdout",
     "output_type": "stream",
     "text": [
      "112440 49 7328 0\n",
      "112450 49 7029 0\n",
      "112460 49 15777 0.0\n"
     ]
    },
    {
     "name": "stderr",
     "output_type": "stream",
     "text": [
      "/dados/anaconda3/lib/python3.7/site-packages/tbats/error/ExceptionHandler.py:13: ModelWarning: Optimization did not converge. Forecasts may be unstable.\n",
      "  warnings.warn(message, warning_type)\n"
     ]
    },
    {
     "name": "stdout",
     "output_type": "stream",
     "text": [
      "112470 49 16843 0\n",
      "112480 49 15496 0\n"
     ]
    },
    {
     "name": "stderr",
     "output_type": "stream",
     "text": [
      "/dados/anaconda3/lib/python3.7/site-packages/tbats/error/ExceptionHandler.py:13: ModelWarning: Optimization did not converge. Forecasts may be unstable.\n",
      "  warnings.warn(message, warning_type)\n",
      "/dados/anaconda3/lib/python3.7/site-packages/tbats/error/ExceptionHandler.py:13: ModelWarning: Optimization did not converge. Forecasts may be unstable.\n",
      "  warnings.warn(message, warning_type)\n"
     ]
    },
    {
     "name": "stdout",
     "output_type": "stream",
     "text": [
      "112490 49 16103 0\n",
      "112500 49 18825 0\n"
     ]
    },
    {
     "name": "stderr",
     "output_type": "stream",
     "text": [
      "/dados/anaconda3/lib/python3.7/site-packages/tbats/error/ExceptionHandler.py:13: ModelWarning: Optimization did not converge. Forecasts may be unstable.\n",
      "  warnings.warn(message, warning_type)\n"
     ]
    },
    {
     "name": "stdout",
     "output_type": "stream",
     "text": [
      "112510 49 19656 0\n"
     ]
    },
    {
     "name": "stderr",
     "output_type": "stream",
     "text": [
      "/dados/anaconda3/lib/python3.7/site-packages/tbats/error/ExceptionHandler.py:13: ModelWarning: Optimization did not converge. Forecasts may be unstable.\n",
      "  warnings.warn(message, warning_type)\n"
     ]
    },
    {
     "name": "stdout",
     "output_type": "stream",
     "text": [
      "112520 49 18397 0\n"
     ]
    },
    {
     "name": "stderr",
     "output_type": "stream",
     "text": [
      "/dados/anaconda3/lib/python3.7/site-packages/tbats/error/ExceptionHandler.py:13: ModelWarning: Optimization did not converge. Forecasts may be unstable.\n",
      "  warnings.warn(message, warning_type)\n",
      "/dados/anaconda3/lib/python3.7/site-packages/tbats/error/ExceptionHandler.py:13: ModelWarning: Optimization did not converge. Forecasts may be unstable.\n",
      "  warnings.warn(message, warning_type)\n"
     ]
    },
    {
     "name": "stdout",
     "output_type": "stream",
     "text": [
      "112530 49 15338 0\n"
     ]
    },
    {
     "name": "stderr",
     "output_type": "stream",
     "text": [
      "/dados/anaconda3/lib/python3.7/site-packages/tbats/error/ExceptionHandler.py:13: ModelWarning: Optimization did not converge. Forecasts may be unstable.\n",
      "  warnings.warn(message, warning_type)\n"
     ]
    },
    {
     "name": "stdout",
     "output_type": "stream",
     "text": [
      "112540 49 13023 0.0\n"
     ]
    },
    {
     "name": "stderr",
     "output_type": "stream",
     "text": [
      "/dados/anaconda3/lib/python3.7/site-packages/tbats/error/ExceptionHandler.py:13: ModelWarning: Optimization did not converge. Forecasts may be unstable.\n",
      "  warnings.warn(message, warning_type)\n"
     ]
    },
    {
     "name": "stdout",
     "output_type": "stream",
     "text": [
      "112550 49 13415 0\n",
      "112560 49 13464 0.0\n",
      "112570 49 14832 0\n",
      "112580 49 15069 0\n",
      "112590 49 15037 0\n"
     ]
    },
    {
     "name": "stderr",
     "output_type": "stream",
     "text": [
      "/dados/anaconda3/lib/python3.7/site-packages/tbats/error/ExceptionHandler.py:13: ModelWarning: Optimization did not converge. Forecasts may be unstable.\n",
      "  warnings.warn(message, warning_type)\n"
     ]
    },
    {
     "name": "stdout",
     "output_type": "stream",
     "text": [
      "112600 49 2131 0\n",
      "112610 49 1732 0\n"
     ]
    },
    {
     "name": "stderr",
     "output_type": "stream",
     "text": [
      "/dados/anaconda3/lib/python3.7/site-packages/tbats/error/ExceptionHandler.py:13: ModelWarning: Optimization did not converge. Forecasts may be unstable.\n",
      "  warnings.warn(message, warning_type)\n"
     ]
    },
    {
     "name": "stdout",
     "output_type": "stream",
     "text": [
      "112620 49 2574 1.0\n",
      "112630 49 3076 2.0\n"
     ]
    },
    {
     "name": "stderr",
     "output_type": "stream",
     "text": [
      "/dados/anaconda3/lib/python3.7/site-packages/tbats/error/ExceptionHandler.py:13: ModelWarning: Optimization did not converge. Forecasts may be unstable.\n",
      "  warnings.warn(message, warning_type)\n",
      "/dados/anaconda3/lib/python3.7/site-packages/tbats/error/ExceptionHandler.py:13: ModelWarning: Optimization did not converge. Forecasts may be unstable.\n",
      "  warnings.warn(message, warning_type)\n"
     ]
    },
    {
     "name": "stdout",
     "output_type": "stream",
     "text": [
      "112640 49 2779 0.0\n",
      "112650 49 2873 1.0\n",
      "112660 49 20949 20.0\n",
      "112670 49 21937 0\n",
      "112680 49 20400 0\n"
     ]
    },
    {
     "name": "stderr",
     "output_type": "stream",
     "text": [
      "/dados/anaconda3/lib/python3.7/site-packages/tbats/error/ExceptionHandler.py:13: ModelWarning: Optimization did not converge. Forecasts may be unstable.\n",
      "  warnings.warn(message, warning_type)\n"
     ]
    },
    {
     "name": "stdout",
     "output_type": "stream",
     "text": [
      "112690 49 20616 8.0\n",
      "112700 49 1585 0\n",
      "112710 49 982 0.0\n"
     ]
    },
    {
     "name": "stderr",
     "output_type": "stream",
     "text": [
      "/dados/anaconda3/lib/python3.7/site-packages/tbats/error/ExceptionHandler.py:13: ModelWarning: Optimization did not converge. Forecasts may be unstable.\n",
      "  warnings.warn(message, warning_type)\n"
     ]
    },
    {
     "name": "stdout",
     "output_type": "stream",
     "text": [
      "112720 49 1486 2.0\n",
      "112730 49 2328 0\n",
      "112740 49 2293 4.0\n"
     ]
    },
    {
     "name": "stderr",
     "output_type": "stream",
     "text": [
      "/dados/anaconda3/lib/python3.7/site-packages/tbats/error/ExceptionHandler.py:13: ModelWarning: Optimization did not converge. Forecasts may be unstable.\n",
      "  warnings.warn(message, warning_type)\n",
      "/dados/anaconda3/lib/python3.7/site-packages/tbats/error/ExceptionHandler.py:13: ModelWarning: Optimization did not converge. Forecasts may be unstable.\n",
      "  warnings.warn(message, warning_type)\n"
     ]
    },
    {
     "name": "stdout",
     "output_type": "stream",
     "text": [
      "112750 49 3022 0\n",
      "112760 49 2743 1.0\n",
      "112770 49 1963 0\n",
      "112780 49 1295 0\n"
     ]
    },
    {
     "name": "stderr",
     "output_type": "stream",
     "text": [
      "/dados/anaconda3/lib/python3.7/site-packages/tbats/error/ExceptionHandler.py:13: ModelWarning: Optimization did not converge. Forecasts may be unstable.\n",
      "  warnings.warn(message, warning_type)\n"
     ]
    },
    {
     "name": "stdout",
     "output_type": "stream",
     "text": [
      "112790 49 22100 15.0\n",
      "112800 49 482 0.0\n"
     ]
    },
    {
     "name": "stderr",
     "output_type": "stream",
     "text": [
      "/dados/anaconda3/lib/python3.7/site-packages/tbats/error/ExceptionHandler.py:13: ModelWarning: Optimization did not converge. Forecasts may be unstable.\n",
      "  warnings.warn(message, warning_type)\n"
     ]
    },
    {
     "name": "stdout",
     "output_type": "stream",
     "text": [
      "112810 49 1877 1.0\n",
      "112820 49 1570 3.0\n"
     ]
    },
    {
     "name": "stderr",
     "output_type": "stream",
     "text": [
      "/dados/anaconda3/lib/python3.7/site-packages/tbats/error/ExceptionHandler.py:13: ModelWarning: Optimization did not converge. Forecasts may be unstable.\n",
      "  warnings.warn(message, warning_type)\n",
      "/dados/anaconda3/lib/python3.7/site-packages/tbats/error/ExceptionHandler.py:13: ModelWarning: Optimization did not converge. Forecasts may be unstable.\n",
      "  warnings.warn(message, warning_type)\n"
     ]
    },
    {
     "name": "stdout",
     "output_type": "stream",
     "text": [
      "112830 49 4003 0.0\n",
      "112840 49 3851 1.0\n",
      "112850 49 4420 2.0\n"
     ]
    },
    {
     "name": "stderr",
     "output_type": "stream",
     "text": [
      "/dados/anaconda3/lib/python3.7/site-packages/tbats/error/ExceptionHandler.py:13: ModelWarning: Optimization did not converge. Forecasts may be unstable.\n",
      "  warnings.warn(message, warning_type)\n",
      "/dados/anaconda3/lib/python3.7/site-packages/tbats/error/ExceptionHandler.py:13: ModelWarning: Optimization did not converge. Forecasts may be unstable.\n",
      "  warnings.warn(message, warning_type)\n"
     ]
    },
    {
     "name": "stdout",
     "output_type": "stream",
     "text": [
      "112860 49 4085 0.0\n"
     ]
    },
    {
     "name": "stderr",
     "output_type": "stream",
     "text": [
      "/dados/anaconda3/lib/python3.7/site-packages/tbats/error/ExceptionHandler.py:13: ModelWarning: Optimization did not converge. Forecasts may be unstable.\n",
      "  warnings.warn(message, warning_type)\n"
     ]
    },
    {
     "name": "stdout",
     "output_type": "stream",
     "text": [
      "112870 49 3528 0.0\n",
      "112880 49 3459 0\n",
      "112890 49 12771 0\n",
      "112900 49 13334 0\n",
      "112910 49 15047 0\n",
      "112920 49 13818 0\n",
      "112930 49 12549 0.0\n"
     ]
    },
    {
     "name": "stderr",
     "output_type": "stream",
     "text": [
      "/dados/anaconda3/lib/python3.7/site-packages/tbats/error/ExceptionHandler.py:13: ModelWarning: Optimization did not converge. Forecasts may be unstable.\n",
      "  warnings.warn(message, warning_type)\n"
     ]
    },
    {
     "name": "stdout",
     "output_type": "stream",
     "text": [
      "112940 49 12698 0\n",
      "112950 49 12360 0.0\n"
     ]
    },
    {
     "name": "stderr",
     "output_type": "stream",
     "text": [
      "/dados/anaconda3/lib/python3.7/site-packages/tbats/error/ExceptionHandler.py:13: ModelWarning: Optimization did not converge. Forecasts may be unstable.\n",
      "  warnings.warn(message, warning_type)\n"
     ]
    },
    {
     "name": "stdout",
     "output_type": "stream",
     "text": [
      "112960 49 11811 0.0\n"
     ]
    },
    {
     "name": "stderr",
     "output_type": "stream",
     "text": [
      "/dados/anaconda3/lib/python3.7/site-packages/tbats/error/ExceptionHandler.py:13: ModelWarning: Optimization did not converge. Forecasts may be unstable.\n",
      "  warnings.warn(message, warning_type)\n"
     ]
    },
    {
     "name": "stdout",
     "output_type": "stream",
     "text": [
      "112970 49 12023 0\n",
      "112980 49 13275 0\n"
     ]
    },
    {
     "name": "stderr",
     "output_type": "stream",
     "text": [
      "/dados/anaconda3/lib/python3.7/site-packages/tbats/error/ExceptionHandler.py:13: ModelWarning: Optimization did not converge. Forecasts may be unstable.\n",
      "  warnings.warn(message, warning_type)\n"
     ]
    },
    {
     "name": "stdout",
     "output_type": "stream",
     "text": [
      "112990 49 13303 0\n",
      "113000 49 13226 0\n",
      "113010 49 20609 1.0\n"
     ]
    },
    {
     "name": "stderr",
     "output_type": "stream",
     "text": [
      "/dados/anaconda3/lib/python3.7/site-packages/tbats/error/ExceptionHandler.py:13: ModelWarning: Optimization did not converge. Forecasts may be unstable.\n",
      "  warnings.warn(message, warning_type)\n"
     ]
    },
    {
     "name": "stdout",
     "output_type": "stream",
     "text": [
      "113020 49 19430 0.0\n"
     ]
    },
    {
     "name": "stderr",
     "output_type": "stream",
     "text": [
      "/dados/anaconda3/lib/python3.7/site-packages/tbats/error/ExceptionHandler.py:13: ModelWarning: Optimization did not converge. Forecasts may be unstable.\n",
      "  warnings.warn(message, warning_type)\n",
      "/dados/anaconda3/lib/python3.7/site-packages/tbats/error/ExceptionHandler.py:13: ModelWarning: Optimization did not converge. Forecasts may be unstable.\n",
      "  warnings.warn(message, warning_type)\n"
     ]
    },
    {
     "name": "stdout",
     "output_type": "stream",
     "text": [
      "113030 49 21942 0\n",
      "113040 49 18201 0\n",
      "113050 49 16122 0.0\n",
      "113060 49 14668 0.0\n",
      "113070 49 15323 0.0\n",
      "113080 49 17481 0.0\n",
      "113090 49 16541 0.0\n",
      "113100 49 1239 0.0\n"
     ]
    },
    {
     "name": "stderr",
     "output_type": "stream",
     "text": [
      "/dados/anaconda3/lib/python3.7/site-packages/tbats/error/ExceptionHandler.py:13: ModelWarning: Optimization did not converge. Forecasts may be unstable.\n",
      "  warnings.warn(message, warning_type)\n"
     ]
    },
    {
     "name": "stdout",
     "output_type": "stream",
     "text": [
      "113110 49 20631 1.0\n",
      "113120 49 2787 0\n"
     ]
    },
    {
     "name": "stderr",
     "output_type": "stream",
     "text": [
      "/dados/anaconda3/lib/python3.7/site-packages/tbats/error/ExceptionHandler.py:13: ModelWarning: Optimization did not converge. Forecasts may be unstable.\n",
      "  warnings.warn(message, warning_type)\n"
     ]
    },
    {
     "name": "stdout",
     "output_type": "stream",
     "text": [
      "113130 49 15282 0.0\n",
      "113140 49 16145 0\n",
      "113150 49 19125 0\n",
      "113160 49 17032 0\n",
      "113170 49 5383 0\n"
     ]
    },
    {
     "name": "stderr",
     "output_type": "stream",
     "text": [
      "/dados/anaconda3/lib/python3.7/site-packages/tbats/error/ExceptionHandler.py:13: ModelWarning: Optimization did not converge. Forecasts may be unstable.\n",
      "  warnings.warn(message, warning_type)\n"
     ]
    },
    {
     "name": "stdout",
     "output_type": "stream",
     "text": [
      "113180 49 4895 2.0\n"
     ]
    },
    {
     "name": "stderr",
     "output_type": "stream",
     "text": [
      "/dados/anaconda3/lib/python3.7/site-packages/tbats/error/ExceptionHandler.py:13: ModelWarning: Optimization did not converge. Forecasts may be unstable.\n",
      "  warnings.warn(message, warning_type)\n"
     ]
    },
    {
     "name": "stdout",
     "output_type": "stream",
     "text": [
      "113190 49 6505 0\n",
      "113200 49 6082 0.0\n",
      "113210 49 3822 0\n",
      "113220 49 6129 1.0\n"
     ]
    },
    {
     "name": "stderr",
     "output_type": "stream",
     "text": [
      "/dados/anaconda3/lib/python3.7/site-packages/tbats/error/ExceptionHandler.py:13: ModelWarning: Optimization did not converge. Forecasts may be unstable.\n",
      "  warnings.warn(message, warning_type)\n"
     ]
    },
    {
     "name": "stdout",
     "output_type": "stream",
     "text": [
      "113230 49 3833 0.0\n",
      "113240 49 3871 0.0\n",
      "113250 49 13285 0\n",
      "113260 49 11938 0.0\n",
      "113270 49 14457 0.0\n"
     ]
    },
    {
     "name": "stderr",
     "output_type": "stream",
     "text": [
      "/dados/anaconda3/lib/python3.7/site-packages/tbats/error/ExceptionHandler.py:13: ModelWarning: Optimization did not converge. Forecasts may be unstable.\n",
      "  warnings.warn(message, warning_type)\n"
     ]
    },
    {
     "name": "stdout",
     "output_type": "stream",
     "text": [
      "113280 49 7982 0.0\n",
      "113290 49 7224 0\n"
     ]
    },
    {
     "name": "stderr",
     "output_type": "stream",
     "text": [
      "/dados/anaconda3/lib/python3.7/site-packages/tbats/error/ExceptionHandler.py:13: ModelWarning: Optimization did not converge. Forecasts may be unstable.\n",
      "  warnings.warn(message, warning_type)\n"
     ]
    },
    {
     "name": "stdout",
     "output_type": "stream",
     "text": [
      "113300 49 10211 0.0\n"
     ]
    },
    {
     "name": "stderr",
     "output_type": "stream",
     "text": [
      "/dados/anaconda3/lib/python3.7/site-packages/tbats/error/ExceptionHandler.py:13: ModelWarning: Optimization did not converge. Forecasts may be unstable.\n",
      "  warnings.warn(message, warning_type)\n",
      "/dados/anaconda3/lib/python3.7/site-packages/tbats/error/ExceptionHandler.py:13: ModelWarning: Optimization did not converge. Forecasts may be unstable.\n",
      "  warnings.warn(message, warning_type)\n"
     ]
    },
    {
     "name": "stdout",
     "output_type": "stream",
     "text": [
      "113310 49 9404 0.0\n",
      "113320 49 4049 3.0\n"
     ]
    },
    {
     "name": "stderr",
     "output_type": "stream",
     "text": [
      "/dados/anaconda3/lib/python3.7/site-packages/tbats/error/ExceptionHandler.py:13: ModelWarning: Optimization did not converge. Forecasts may be unstable.\n",
      "  warnings.warn(message, warning_type)\n",
      "/dados/anaconda3/lib/python3.7/site-packages/tbats/error/ExceptionHandler.py:13: ModelWarning: Optimization did not converge. Forecasts may be unstable.\n",
      "  warnings.warn(message, warning_type)\n"
     ]
    },
    {
     "name": "stdout",
     "output_type": "stream",
     "text": [
      "113330 49 4999 0\n",
      "113340 49 3342 0.0\n"
     ]
    },
    {
     "name": "stderr",
     "output_type": "stream",
     "text": [
      "/dados/anaconda3/lib/python3.7/site-packages/tbats/error/ExceptionHandler.py:13: ModelWarning: Optimization did not converge. Forecasts may be unstable.\n",
      "  warnings.warn(message, warning_type)\n"
     ]
    },
    {
     "name": "stdout",
     "output_type": "stream",
     "text": [
      "113350 49 10190 0.0\n",
      "113360 49 9408 0.0\n",
      "113370 49 13237 0\n",
      "113380 49 10987 0\n",
      "113390 49 6625 0\n",
      "113400 49 6090 1.0\n",
      "113410 49 7019 0.0\n"
     ]
    },
    {
     "name": "stderr",
     "output_type": "stream",
     "text": [
      "/dados/anaconda3/lib/python3.7/site-packages/tbats/error/ExceptionHandler.py:13: ModelWarning: Optimization did not converge. Forecasts may be unstable.\n",
      "  warnings.warn(message, warning_type)\n",
      "/dados/anaconda3/lib/python3.7/site-packages/tbats/error/ExceptionHandler.py:13: ModelWarning: Optimization did not converge. Forecasts may be unstable.\n",
      "  warnings.warn(message, warning_type)\n"
     ]
    },
    {
     "name": "stdout",
     "output_type": "stream",
     "text": [
      "113420 49 12500 0.0\n",
      "113430 49 10448 0\n",
      "113440 49 12805 0\n"
     ]
    },
    {
     "name": "stderr",
     "output_type": "stream",
     "text": [
      "/dados/anaconda3/lib/python3.7/site-packages/tbats/error/ExceptionHandler.py:13: ModelWarning: Optimization did not converge. Forecasts may be unstable.\n",
      "  warnings.warn(message, warning_type)\n"
     ]
    },
    {
     "name": "stdout",
     "output_type": "stream",
     "text": [
      "113450 49 14247 0.0\n"
     ]
    },
    {
     "name": "stderr",
     "output_type": "stream",
     "text": [
      "/dados/anaconda3/lib/python3.7/site-packages/tbats/error/ExceptionHandler.py:13: ModelWarning: Optimization did not converge. Forecasts may be unstable.\n",
      "  warnings.warn(message, warning_type)\n"
     ]
    },
    {
     "name": "stdout",
     "output_type": "stream",
     "text": [
      "113460 49 7133 0\n"
     ]
    },
    {
     "name": "stderr",
     "output_type": "stream",
     "text": [
      "/dados/anaconda3/lib/python3.7/site-packages/tbats/error/ExceptionHandler.py:13: ModelWarning: Optimization did not converge. Forecasts may be unstable.\n",
      "  warnings.warn(message, warning_type)\n"
     ]
    },
    {
     "name": "stdout",
     "output_type": "stream",
     "text": [
      "113470 49 10292 0.0\n",
      "113480 49 1007 0.0\n"
     ]
    },
    {
     "name": "stderr",
     "output_type": "stream",
     "text": [
      "/dados/anaconda3/lib/python3.7/site-packages/tbats/error/ExceptionHandler.py:13: ModelWarning: Optimization did not converge. Forecasts may be unstable.\n",
      "  warnings.warn(message, warning_type)\n"
     ]
    },
    {
     "name": "stdout",
     "output_type": "stream",
     "text": [
      "113490 49 1717 0.0\n"
     ]
    },
    {
     "name": "stderr",
     "output_type": "stream",
     "text": [
      "/dados/anaconda3/lib/python3.7/site-packages/tbats/error/ExceptionHandler.py:13: ModelWarning: Optimization did not converge. Forecasts may be unstable.\n",
      "  warnings.warn(message, warning_type)\n",
      "/dados/anaconda3/lib/python3.7/site-packages/tbats/error/ExceptionHandler.py:13: ModelWarning: Optimization did not converge. Forecasts may be unstable.\n",
      "  warnings.warn(message, warning_type)\n"
     ]
    },
    {
     "name": "stdout",
     "output_type": "stream",
     "text": [
      "113500 49 14390 0.0\n"
     ]
    },
    {
     "name": "stderr",
     "output_type": "stream",
     "text": [
      "/dados/anaconda3/lib/python3.7/site-packages/tbats/error/ExceptionHandler.py:13: ModelWarning: Optimization did not converge. Forecasts may be unstable.\n",
      "  warnings.warn(message, warning_type)\n"
     ]
    },
    {
     "name": "stdout",
     "output_type": "stream",
     "text": [
      "113510 49 19908 0\n"
     ]
    },
    {
     "name": "stderr",
     "output_type": "stream",
     "text": [
      "/dados/anaconda3/lib/python3.7/site-packages/tbats/error/ExceptionHandler.py:13: ModelWarning: Optimization did not converge. Forecasts may be unstable.\n",
      "  warnings.warn(message, warning_type)\n"
     ]
    },
    {
     "name": "stdout",
     "output_type": "stream",
     "text": [
      "113520 49 17888 0\n",
      "113530 49 21722 0\n"
     ]
    },
    {
     "name": "stderr",
     "output_type": "stream",
     "text": [
      "/dados/anaconda3/lib/python3.7/site-packages/tbats/error/ExceptionHandler.py:13: ModelWarning: Optimization did not converge. Forecasts may be unstable.\n",
      "  warnings.warn(message, warning_type)\n"
     ]
    },
    {
     "name": "stdout",
     "output_type": "stream",
     "text": [
      "113540 49 940 0\n"
     ]
    },
    {
     "name": "stderr",
     "output_type": "stream",
     "text": [
      "/dados/anaconda3/lib/python3.7/site-packages/tbats/error/ExceptionHandler.py:13: ModelWarning: Optimization did not converge. Forecasts may be unstable.\n",
      "  warnings.warn(message, warning_type)\n"
     ]
    },
    {
     "name": "stdout",
     "output_type": "stream",
     "text": [
      "113550 49 18926 0\n",
      "113560 49 17772 0\n",
      "113570 49 19219 0\n",
      "113580 49 20225 1.0\n",
      "113590 49 5816 1.0\n",
      "113600 49 8868 0\n",
      "113610 49 17459 0\n"
     ]
    },
    {
     "name": "stderr",
     "output_type": "stream",
     "text": [
      "/dados/anaconda3/lib/python3.7/site-packages/tbats/error/ExceptionHandler.py:13: ModelWarning: Optimization did not converge. Forecasts may be unstable.\n",
      "  warnings.warn(message, warning_type)\n"
     ]
    },
    {
     "name": "stdout",
     "output_type": "stream",
     "text": [
      "113620 49 17420 0.0\n",
      "113630 49 10812 0\n",
      "113640 49 11771 0\n",
      "113650 49 10554 0\n"
     ]
    },
    {
     "name": "stderr",
     "output_type": "stream",
     "text": [
      "/dados/anaconda3/lib/python3.7/site-packages/tbats/error/ExceptionHandler.py:13: ModelWarning: Optimization did not converge. Forecasts may be unstable.\n",
      "  warnings.warn(message, warning_type)\n"
     ]
    },
    {
     "name": "stdout",
     "output_type": "stream",
     "text": [
      "113660 49 10378 0.0\n",
      "113670 49 16125 0.0\n"
     ]
    },
    {
     "name": "stderr",
     "output_type": "stream",
     "text": [
      "/dados/anaconda3/lib/python3.7/site-packages/tbats/error/ExceptionHandler.py:13: ModelWarning: Optimization did not converge. Forecasts may be unstable.\n",
      "  warnings.warn(message, warning_type)\n",
      "/dados/anaconda3/lib/python3.7/site-packages/tbats/error/ExceptionHandler.py:13: ModelWarning: Optimization did not converge. Forecasts may be unstable.\n",
      "  warnings.warn(message, warning_type)\n",
      "/dados/anaconda3/lib/python3.7/site-packages/tbats/error/ExceptionHandler.py:13: ModelWarning: Optimization did not converge. Forecasts may be unstable.\n",
      "  warnings.warn(message, warning_type)\n"
     ]
    },
    {
     "name": "stdout",
     "output_type": "stream",
     "text": [
      "113680 49 15300 0.0\n"
     ]
    },
    {
     "name": "stderr",
     "output_type": "stream",
     "text": [
      "/dados/anaconda3/lib/python3.7/site-packages/tbats/error/ExceptionHandler.py:13: ModelWarning: Optimization did not converge. Forecasts may be unstable.\n",
      "  warnings.warn(message, warning_type)\n"
     ]
    },
    {
     "name": "stdout",
     "output_type": "stream",
     "text": [
      "113690 49 17270 0\n",
      "113700 49 16735 0.0\n",
      "113710 49 13893 0\n",
      "113720 49 13633 0\n",
      "113730 49 14267 0.0\n",
      "113740 49 7592 0\n",
      "113750 49 8734 0\n",
      "113760 49 8986 0\n"
     ]
    },
    {
     "name": "stderr",
     "output_type": "stream",
     "text": [
      "/dados/anaconda3/lib/python3.7/site-packages/tbats/error/ExceptionHandler.py:13: ModelWarning: Optimization did not converge. Forecasts may be unstable.\n",
      "  warnings.warn(message, warning_type)\n"
     ]
    },
    {
     "name": "stdout",
     "output_type": "stream",
     "text": [
      "113770 49 8453 0\n",
      "113780 49 4141 0\n",
      "113790 49 6420 0\n",
      "113800 49 11266 0.0\n",
      "113810 49 13270 0\n",
      "113820 49 13100 0\n",
      "113830 49 10146 0\n",
      "113840 49 10425 0.0\n",
      "113850 49 11365 0\n",
      "113860 49 14848 0\n",
      "113870 49 21367 0.0\n",
      "113880 49 8077 0.0\n",
      "113890 49 12286 0\n",
      "113900 49 3028 0.0\n",
      "113910 49 3862 0\n",
      "113920 49 794 0\n",
      "113930 49 353 0\n",
      "113940 49 1074 0\n"
     ]
    },
    {
     "name": "stderr",
     "output_type": "stream",
     "text": [
      "/dados/anaconda3/lib/python3.7/site-packages/tbats/error/ExceptionHandler.py:13: ModelWarning: Optimization did not converge. Forecasts may be unstable.\n",
      "  warnings.warn(message, warning_type)\n"
     ]
    },
    {
     "name": "stdout",
     "output_type": "stream",
     "text": [
      "113950 49 13208 0\n",
      "113960 49 12501 0.0\n",
      "113970 49 10045 0\n",
      "113980 49 12090 0.0\n",
      "113990 49 11534 0\n"
     ]
    },
    {
     "name": "stderr",
     "output_type": "stream",
     "text": [
      "/dados/anaconda3/lib/python3.7/site-packages/tbats/error/ExceptionHandler.py:13: ModelWarning: Optimization did not converge. Forecasts may be unstable.\n",
      "  warnings.warn(message, warning_type)\n"
     ]
    },
    {
     "name": "stdout",
     "output_type": "stream",
     "text": [
      "114000 49 15512 0\n",
      "114010 49 15166 0\n",
      "114020 49 16534 0.0\n",
      "114030 49 16155 0\n",
      "114040 49 12830 0.0\n"
     ]
    },
    {
     "name": "stderr",
     "output_type": "stream",
     "text": [
      "/dados/anaconda3/lib/python3.7/site-packages/tbats/error/ExceptionHandler.py:13: ModelWarning: Optimization did not converge. Forecasts may be unstable.\n",
      "  warnings.warn(message, warning_type)\n"
     ]
    },
    {
     "name": "stdout",
     "output_type": "stream",
     "text": [
      "114050 49 14124 0.0\n",
      "114060 49 5945 0\n",
      "114070 49 6678 0\n",
      "114080 49 4944 0\n",
      "114090 49 5517 0\n",
      "114100 49 8398 0\n"
     ]
    },
    {
     "name": "stderr",
     "output_type": "stream",
     "text": [
      "/dados/anaconda3/lib/python3.7/site-packages/tbats/error/ExceptionHandler.py:13: ModelWarning: Optimization did not converge. Forecasts may be unstable.\n",
      "  warnings.warn(message, warning_type)\n"
     ]
    },
    {
     "name": "stdout",
     "output_type": "stream",
     "text": [
      "114110 49 7458 0.0\n",
      "114120 49 7882 0.0\n"
     ]
    },
    {
     "name": "stderr",
     "output_type": "stream",
     "text": [
      "/dados/anaconda3/lib/python3.7/site-packages/tbats/error/ExceptionHandler.py:13: ModelWarning: Optimization did not converge. Forecasts may be unstable.\n",
      "  warnings.warn(message, warning_type)\n"
     ]
    },
    {
     "name": "stdout",
     "output_type": "stream",
     "text": [
      "114130 49 7793 0.0\n",
      "114140 49 3477 0\n"
     ]
    },
    {
     "name": "stderr",
     "output_type": "stream",
     "text": [
      "/dados/anaconda3/lib/python3.7/site-packages/tbats/error/ExceptionHandler.py:13: ModelWarning: Optimization did not converge. Forecasts may be unstable.\n",
      "  warnings.warn(message, warning_type)\n"
     ]
    },
    {
     "name": "stdout",
     "output_type": "stream",
     "text": [
      "114150 49 8686 0.0\n",
      "114160 49 20560 0\n"
     ]
    },
    {
     "name": "stderr",
     "output_type": "stream",
     "text": [
      "/dados/anaconda3/lib/python3.7/site-packages/tbats/error/ExceptionHandler.py:13: ModelWarning: Optimization did not converge. Forecasts may be unstable.\n",
      "  warnings.warn(message, warning_type)\n"
     ]
    },
    {
     "name": "stdout",
     "output_type": "stream",
     "text": [
      "114170 49 19874 0\n",
      "114180 49 17869 0.0\n"
     ]
    },
    {
     "name": "stderr",
     "output_type": "stream",
     "text": [
      "/dados/anaconda3/lib/python3.7/site-packages/tbats/error/ExceptionHandler.py:13: ModelWarning: Optimization did not converge. Forecasts may be unstable.\n",
      "  warnings.warn(message, warning_type)\n"
     ]
    },
    {
     "name": "stdout",
     "output_type": "stream",
     "text": [
      "114190 49 21548 0\n"
     ]
    },
    {
     "name": "stderr",
     "output_type": "stream",
     "text": [
      "/dados/anaconda3/lib/python3.7/site-packages/tbats/error/ExceptionHandler.py:13: ModelWarning: Optimization did not converge. Forecasts may be unstable.\n",
      "  warnings.warn(message, warning_type)\n"
     ]
    },
    {
     "name": "stdout",
     "output_type": "stream",
     "text": [
      "114200 49 18255 1.0\n",
      "114210 49 2639 0.0\n",
      "114220 49 21827 0\n",
      "114230 49 1238 0\n",
      "114240 49 1247 0.0\n",
      "114250 49 269 0\n",
      "114260 49 687 0.0\n"
     ]
    },
    {
     "name": "stderr",
     "output_type": "stream",
     "text": [
      "/dados/anaconda3/lib/python3.7/site-packages/tbats/error/ExceptionHandler.py:13: ModelWarning: Optimization did not converge. Forecasts may be unstable.\n",
      "  warnings.warn(message, warning_type)\n",
      "/dados/anaconda3/lib/python3.7/site-packages/tbats/error/ExceptionHandler.py:13: ModelWarning: Optimization did not converge. Forecasts may be unstable.\n",
      "  warnings.warn(message, warning_type)\n"
     ]
    },
    {
     "name": "stdout",
     "output_type": "stream",
     "text": [
      "114270 49 93 0.0\n",
      "114280 49 20718 0\n"
     ]
    },
    {
     "name": "stderr",
     "output_type": "stream",
     "text": [
      "/dados/anaconda3/lib/python3.7/site-packages/tbats/error/ExceptionHandler.py:13: ModelWarning: Optimization did not converge. Forecasts may be unstable.\n",
      "  warnings.warn(message, warning_type)\n"
     ]
    },
    {
     "name": "stdout",
     "output_type": "stream",
     "text": [
      "114290 49 42 0\n"
     ]
    },
    {
     "name": "stderr",
     "output_type": "stream",
     "text": [
      "/dados/anaconda3/lib/python3.7/site-packages/tbats/error/ExceptionHandler.py:13: ModelWarning: Optimization did not converge. Forecasts may be unstable.\n",
      "  warnings.warn(message, warning_type)\n"
     ]
    },
    {
     "name": "stdout",
     "output_type": "stream",
     "text": [
      "114300 49 21842 1.0\n",
      "114310 49 2324 0\n",
      "114320 49 1663 0\n"
     ]
    },
    {
     "name": "stderr",
     "output_type": "stream",
     "text": [
      "/dados/anaconda3/lib/python3.7/site-packages/tbats/error/ExceptionHandler.py:13: ModelWarning: Optimization did not converge. Forecasts may be unstable.\n",
      "  warnings.warn(message, warning_type)\n"
     ]
    },
    {
     "name": "stdout",
     "output_type": "stream",
     "text": [
      "114330 49 3080 0\n",
      "114340 49 2886 0.0\n"
     ]
    },
    {
     "name": "stderr",
     "output_type": "stream",
     "text": [
      "/dados/anaconda3/lib/python3.7/site-packages/tbats/error/ExceptionHandler.py:13: ModelWarning: Optimization did not converge. Forecasts may be unstable.\n",
      "  warnings.warn(message, warning_type)\n",
      "/dados/anaconda3/lib/python3.7/site-packages/tbats/error/ExceptionHandler.py:13: ModelWarning: Optimization did not converge. Forecasts may be unstable.\n",
      "  warnings.warn(message, warning_type)\n"
     ]
    },
    {
     "name": "stdout",
     "output_type": "stream",
     "text": [
      "114350 49 13587 0\n",
      "114360 49 13691 0\n",
      "114370 49 15169 0\n"
     ]
    },
    {
     "name": "stderr",
     "output_type": "stream",
     "text": [
      "/dados/anaconda3/lib/python3.7/site-packages/tbats/error/ExceptionHandler.py:13: ModelWarning: Optimization did not converge. Forecasts may be unstable.\n",
      "  warnings.warn(message, warning_type)\n"
     ]
    },
    {
     "name": "stdout",
     "output_type": "stream",
     "text": [
      "114380 49 14973 0\n",
      "114390 49 13113 0\n",
      "114400 49 11711 1.0\n",
      "114410 49 13231 0\n",
      "114420 49 18677 0\n",
      "114430 49 18686 0\n",
      "114440 49 20374 0.0\n",
      "114450 49 20571 0\n"
     ]
    },
    {
     "name": "stderr",
     "output_type": "stream",
     "text": [
      "/dados/anaconda3/lib/python3.7/site-packages/tbats/error/ExceptionHandler.py:13: ModelWarning: Optimization did not converge. Forecasts may be unstable.\n",
      "  warnings.warn(message, warning_type)\n",
      "/dados/anaconda3/lib/python3.7/site-packages/tbats/error/ExceptionHandler.py:13: ModelWarning: Optimization did not converge. Forecasts may be unstable.\n",
      "  warnings.warn(message, warning_type)\n"
     ]
    },
    {
     "name": "stdout",
     "output_type": "stream",
     "text": [
      "114460 49 19621 0\n"
     ]
    },
    {
     "name": "stderr",
     "output_type": "stream",
     "text": [
      "/dados/anaconda3/lib/python3.7/site-packages/tbats/error/ExceptionHandler.py:13: ModelWarning: Optimization did not converge. Forecasts may be unstable.\n",
      "  warnings.warn(message, warning_type)\n"
     ]
    },
    {
     "name": "stdout",
     "output_type": "stream",
     "text": [
      "114470 49 16036 0.0\n",
      "114480 49 15276 0.0\n",
      "114490 49 16177 0\n"
     ]
    },
    {
     "name": "stderr",
     "output_type": "stream",
     "text": [
      "/dados/anaconda3/lib/python3.7/site-packages/tbats/error/ExceptionHandler.py:13: ModelWarning: Optimization did not converge. Forecasts may be unstable.\n",
      "  warnings.warn(message, warning_type)\n"
     ]
    },
    {
     "name": "stdout",
     "output_type": "stream",
     "text": [
      "114500 49 8687 1.0\n",
      "114510 49 9171 0\n",
      "114520 49 9366 0\n"
     ]
    },
    {
     "name": "stderr",
     "output_type": "stream",
     "text": [
      "/dados/anaconda3/lib/python3.7/site-packages/tbats/error/ExceptionHandler.py:13: ModelWarning: Optimization did not converge. Forecasts may be unstable.\n",
      "  warnings.warn(message, warning_type)\n"
     ]
    },
    {
     "name": "stdout",
     "output_type": "stream",
     "text": [
      "114530 49 7459 0.0\n",
      "114540 49 8148 0\n",
      "114550 49 8510 0\n"
     ]
    },
    {
     "name": "stderr",
     "output_type": "stream",
     "text": [
      "/dados/anaconda3/lib/python3.7/site-packages/tbats/error/ExceptionHandler.py:13: ModelWarning: Optimization did not converge. Forecasts may be unstable.\n",
      "  warnings.warn(message, warning_type)\n",
      "/dados/anaconda3/lib/python3.7/site-packages/tbats/error/ExceptionHandler.py:13: ModelWarning: Optimization did not converge. Forecasts may be unstable.\n",
      "  warnings.warn(message, warning_type)\n"
     ]
    },
    {
     "name": "stdout",
     "output_type": "stream",
     "text": [
      "114560 49 9449 0\n",
      "114570 49 10786 0.0\n"
     ]
    },
    {
     "name": "stderr",
     "output_type": "stream",
     "text": [
      "/dados/anaconda3/lib/python3.7/site-packages/tbats/error/ExceptionHandler.py:13: ModelWarning: Optimization did not converge. Forecasts may be unstable.\n",
      "  warnings.warn(message, warning_type)\n"
     ]
    },
    {
     "name": "stdout",
     "output_type": "stream",
     "text": [
      "114580 49 10669 0\n",
      "114590 49 11379 0\n",
      "114600 49 11542 0\n",
      "114610 49 10893 0\n",
      "114620 49 9539 0\n",
      "114630 49 10325 1.0\n",
      "114640 49 9840 0\n"
     ]
    },
    {
     "name": "stderr",
     "output_type": "stream",
     "text": [
      "/dados/anaconda3/lib/python3.7/site-packages/tbats/error/ExceptionHandler.py:13: ModelWarning: Optimization did not converge. Forecasts may be unstable.\n",
      "  warnings.warn(message, warning_type)\n"
     ]
    },
    {
     "name": "stdout",
     "output_type": "stream",
     "text": [
      "114650 49 10003 0\n"
     ]
    },
    {
     "name": "stderr",
     "output_type": "stream",
     "text": [
      "/dados/anaconda3/lib/python3.7/site-packages/tbats/error/ExceptionHandler.py:13: ModelWarning: Optimization did not converge. Forecasts may be unstable.\n",
      "  warnings.warn(message, warning_type)\n"
     ]
    },
    {
     "name": "stdout",
     "output_type": "stream",
     "text": [
      "114660 49 4708 0\n"
     ]
    },
    {
     "name": "stderr",
     "output_type": "stream",
     "text": [
      "/dados/anaconda3/lib/python3.7/site-packages/tbats/error/ExceptionHandler.py:13: ModelWarning: Optimization did not converge. Forecasts may be unstable.\n",
      "  warnings.warn(message, warning_type)\n"
     ]
    },
    {
     "name": "stdout",
     "output_type": "stream",
     "text": [
      "114670 49 4604 0\n",
      "114680 49 5323 0.0\n",
      "114690 49 3897 0\n",
      "114700 49 3919 0\n",
      "114710 49 3787 0.0\n"
     ]
    },
    {
     "name": "stderr",
     "output_type": "stream",
     "text": [
      "/dados/anaconda3/lib/python3.7/site-packages/tbats/error/ExceptionHandler.py:13: ModelWarning: Optimization did not converge. Forecasts may be unstable.\n",
      "  warnings.warn(message, warning_type)\n"
     ]
    },
    {
     "name": "stdout",
     "output_type": "stream",
     "text": [
      "114720 49 4088 0\n"
     ]
    },
    {
     "name": "stderr",
     "output_type": "stream",
     "text": [
      "/dados/anaconda3/lib/python3.7/site-packages/tbats/error/ExceptionHandler.py:13: ModelWarning: Optimization did not converge. Forecasts may be unstable.\n",
      "  warnings.warn(message, warning_type)\n"
     ]
    },
    {
     "name": "stdout",
     "output_type": "stream",
     "text": [
      "114730 49 6695 5.0\n",
      "114740 49 6378 0\n",
      "114750 49 6857 1.0\n"
     ]
    },
    {
     "name": "stderr",
     "output_type": "stream",
     "text": [
      "/dados/anaconda3/lib/python3.7/site-packages/tbats/error/ExceptionHandler.py:13: ModelWarning: Optimization did not converge. Forecasts may be unstable.\n",
      "  warnings.warn(message, warning_type)\n"
     ]
    },
    {
     "name": "stdout",
     "output_type": "stream",
     "text": [
      "114760 49 5659 0.0\n",
      "114770 49 3354 0\n",
      "114780 49 1538 0\n",
      "114790 49 22111 0\n",
      "114800 49 9019 0\n",
      "114810 49 11968 0.0\n",
      "114820 49 6027 0.0\n"
     ]
    },
    {
     "name": "stderr",
     "output_type": "stream",
     "text": [
      "/dados/anaconda3/lib/python3.7/site-packages/tbats/error/ExceptionHandler.py:13: ModelWarning: Optimization did not converge. Forecasts may be unstable.\n",
      "  warnings.warn(message, warning_type)\n"
     ]
    },
    {
     "name": "stdout",
     "output_type": "stream",
     "text": [
      "114830 49 18361 0\n",
      "114840 49 18629 0\n",
      "114850 49 17883 0\n",
      "114860 49 18108 0\n",
      "114870 49 19126 0\n"
     ]
    },
    {
     "name": "stderr",
     "output_type": "stream",
     "text": [
      "/dados/anaconda3/lib/python3.7/site-packages/tbats/error/ExceptionHandler.py:13: ModelWarning: Optimization did not converge. Forecasts may be unstable.\n",
      "  warnings.warn(message, warning_type)\n",
      "/dados/anaconda3/lib/python3.7/site-packages/tbats/error/ExceptionHandler.py:13: ModelWarning: Optimization did not converge. Forecasts may be unstable.\n",
      "  warnings.warn(message, warning_type)\n"
     ]
    },
    {
     "name": "stdout",
     "output_type": "stream",
     "text": [
      "114880 49 19488 0\n",
      "114890 49 18759 0\n"
     ]
    },
    {
     "name": "stderr",
     "output_type": "stream",
     "text": [
      "/dados/anaconda3/lib/python3.7/site-packages/tbats/error/ExceptionHandler.py:13: ModelWarning: Optimization did not converge. Forecasts may be unstable.\n",
      "  warnings.warn(message, warning_type)\n"
     ]
    },
    {
     "name": "stdout",
     "output_type": "stream",
     "text": [
      "114900 49 18979 0\n"
     ]
    },
    {
     "name": "stderr",
     "output_type": "stream",
     "text": [
      "/dados/anaconda3/lib/python3.7/site-packages/tbats/error/ExceptionHandler.py:13: ModelWarning: Optimization did not converge. Forecasts may be unstable.\n",
      "  warnings.warn(message, warning_type)\n"
     ]
    },
    {
     "name": "stdout",
     "output_type": "stream",
     "text": [
      "114910 49 3236 0.0\n",
      "114920 49 19588 1.0\n",
      "114930 49 20952 0\n",
      "114940 49 21207 0\n",
      "114950 49 20833 0\n",
      "114960 49 20274 0.0\n",
      "114970 49 21795 0\n",
      "114980 49 21792 0\n",
      "114990 49 19951 0\n",
      "115000 49 19852 0\n"
     ]
    },
    {
     "name": "stderr",
     "output_type": "stream",
     "text": [
      "/dados/anaconda3/lib/python3.7/site-packages/tbats/error/ExceptionHandler.py:13: ModelWarning: Optimization did not converge. Forecasts may be unstable.\n",
      "  warnings.warn(message, warning_type)\n"
     ]
    },
    {
     "name": "stdout",
     "output_type": "stream",
     "text": [
      "115010 49 20600 0\n",
      "115020 49 20581 0\n",
      "115030 49 6312 1.0\n",
      "115040 49 3634 0.0\n",
      "115050 49 4707 0\n",
      "115060 49 8888 0.0\n"
     ]
    },
    {
     "name": "stderr",
     "output_type": "stream",
     "text": [
      "/dados/anaconda3/lib/python3.7/site-packages/tbats/error/ExceptionHandler.py:13: ModelWarning: Optimization did not converge. Forecasts may be unstable.\n",
      "  warnings.warn(message, warning_type)\n",
      "/dados/anaconda3/lib/python3.7/site-packages/tbats/error/ExceptionHandler.py:13: ModelWarning: Optimization did not converge. Forecasts may be unstable.\n",
      "  warnings.warn(message, warning_type)\n"
     ]
    },
    {
     "name": "stdout",
     "output_type": "stream",
     "text": [
      "115070 49 10099 0\n",
      "115080 49 6807 0\n"
     ]
    },
    {
     "name": "stderr",
     "output_type": "stream",
     "text": [
      "/dados/anaconda3/lib/python3.7/site-packages/tbats/error/ExceptionHandler.py:13: ModelWarning: Optimization did not converge. Forecasts may be unstable.\n",
      "  warnings.warn(message, warning_type)\n"
     ]
    },
    {
     "name": "stdout",
     "output_type": "stream",
     "text": [
      "115090 49 8112 0\n",
      "115100 49 19118 4.0\n"
     ]
    },
    {
     "name": "stderr",
     "output_type": "stream",
     "text": [
      "/dados/anaconda3/lib/python3.7/site-packages/tbats/error/ExceptionHandler.py:13: ModelWarning: Optimization did not converge. Forecasts may be unstable.\n",
      "  warnings.warn(message, warning_type)\n"
     ]
    },
    {
     "name": "stdout",
     "output_type": "stream",
     "text": [
      "115110 49 21790 0\n",
      "115120 49 13630 0\n"
     ]
    },
    {
     "name": "stderr",
     "output_type": "stream",
     "text": [
      "/dados/anaconda3/lib/python3.7/site-packages/tbats/error/ExceptionHandler.py:13: ModelWarning: Optimization did not converge. Forecasts may be unstable.\n",
      "  warnings.warn(message, warning_type)\n",
      "/dados/anaconda3/lib/python3.7/site-packages/tbats/error/ExceptionHandler.py:13: ModelWarning: Optimization did not converge. Forecasts may be unstable.\n",
      "  warnings.warn(message, warning_type)\n"
     ]
    },
    {
     "name": "stdout",
     "output_type": "stream",
     "text": [
      "115130 49 15478 1.0\n",
      "115140 49 15226 1.0\n",
      "115150 49 2585 0\n",
      "115160 49 2213 0\n",
      "115170 49 1611 0\n",
      "115180 49 12504 0.0\n",
      "115190 49 13445 0\n",
      "115200 49 11915 0\n",
      "115210 49 20739 3.0\n",
      "115220 49 21196 0\n",
      "115230 49 14108 0\n"
     ]
    },
    {
     "name": "stderr",
     "output_type": "stream",
     "text": [
      "/dados/anaconda3/lib/python3.7/site-packages/tbats/error/ExceptionHandler.py:13: ModelWarning: Optimization did not converge. Forecasts may be unstable.\n",
      "  warnings.warn(message, warning_type)\n"
     ]
    },
    {
     "name": "stdout",
     "output_type": "stream",
     "text": [
      "115240 49 3457 0\n",
      "115250 49 3096 0\n",
      "115260 49 15260 3.0\n",
      "115270 49 17157 0.0\n",
      "115280 49 413 0\n",
      "115290 49 1010 0.0\n"
     ]
    },
    {
     "name": "stderr",
     "output_type": "stream",
     "text": [
      "/dados/anaconda3/lib/python3.7/site-packages/tbats/error/ExceptionHandler.py:13: ModelWarning: Optimization did not converge. Forecasts may be unstable.\n",
      "  warnings.warn(message, warning_type)\n"
     ]
    },
    {
     "name": "stdout",
     "output_type": "stream",
     "text": [
      "115300 49 4364 0.0\n",
      "115310 49 6528 0\n",
      "115320 49 5470 0\n",
      "115330 49 19337 0\n",
      "115340 49 18017 0\n"
     ]
    },
    {
     "name": "stderr",
     "output_type": "stream",
     "text": [
      "/dados/anaconda3/lib/python3.7/site-packages/tbats/error/ExceptionHandler.py:13: ModelWarning: Optimization did not converge. Forecasts may be unstable.\n",
      "  warnings.warn(message, warning_type)\n"
     ]
    },
    {
     "name": "stdout",
     "output_type": "stream",
     "text": [
      "115350 49 14892 0.0\n",
      "115360 49 20393 0\n",
      "115370 49 15171 0\n",
      "115380 49 16093 0\n"
     ]
    },
    {
     "name": "stderr",
     "output_type": "stream",
     "text": [
      "/dados/anaconda3/lib/python3.7/site-packages/tbats/error/ExceptionHandler.py:13: ModelWarning: Optimization did not converge. Forecasts may be unstable.\n",
      "  warnings.warn(message, warning_type)\n",
      "/dados/anaconda3/lib/python3.7/site-packages/tbats/error/ExceptionHandler.py:13: ModelWarning: Optimization did not converge. Forecasts may be unstable.\n",
      "  warnings.warn(message, warning_type)\n"
     ]
    },
    {
     "name": "stdout",
     "output_type": "stream",
     "text": [
      "115390 49 16111 0.0\n",
      "115400 49 14962 0\n",
      "115410 49 16207 0.0\n",
      "115420 49 16786 0\n",
      "115430 49 8157 0.0\n",
      "115440 49 13448 0\n",
      "115450 49 13224 0\n",
      "115460 49 13512 0\n",
      "115470 49 13288 0\n",
      "115480 49 14164 0\n",
      "115490 49 12808 0.0\n"
     ]
    },
    {
     "name": "stderr",
     "output_type": "stream",
     "text": [
      "/dados/anaconda3/lib/python3.7/site-packages/tbats/error/ExceptionHandler.py:13: ModelWarning: Optimization did not converge. Forecasts may be unstable.\n",
      "  warnings.warn(message, warning_type)\n"
     ]
    },
    {
     "name": "stdout",
     "output_type": "stream",
     "text": [
      "115500 49 13647 0\n",
      "115510 49 12332 0\n",
      "115520 49 12091 0.0\n",
      "115530 49 11268 0\n",
      "115540 49 13223 0\n"
     ]
    },
    {
     "name": "stderr",
     "output_type": "stream",
     "text": [
      "/dados/anaconda3/lib/python3.7/site-packages/tbats/error/ExceptionHandler.py:13: ModelWarning: Optimization did not converge. Forecasts may be unstable.\n",
      "  warnings.warn(message, warning_type)\n"
     ]
    },
    {
     "name": "stdout",
     "output_type": "stream",
     "text": [
      "115550 49 13221 0\n",
      "115560 49 16179 0\n"
     ]
    },
    {
     "name": "stderr",
     "output_type": "stream",
     "text": [
      "/dados/anaconda3/lib/python3.7/site-packages/tbats/error/ExceptionHandler.py:13: ModelWarning: Optimization did not converge. Forecasts may be unstable.\n",
      "  warnings.warn(message, warning_type)\n"
     ]
    },
    {
     "name": "stdout",
     "output_type": "stream",
     "text": [
      "115570 49 15524 0.0\n",
      "115580 49 16045 0\n",
      "115590 49 16910 0\n",
      "115600 49 15667 0\n",
      "115610 49 16243 0\n",
      "115620 49 16349 0\n",
      "115630 49 15015 0\n",
      "115640 49 15134 0\n",
      "115650 49 14987 0\n"
     ]
    },
    {
     "name": "stderr",
     "output_type": "stream",
     "text": [
      "/dados/anaconda3/lib/python3.7/site-packages/tbats/error/ExceptionHandler.py:13: ModelWarning: Optimization did not converge. Forecasts may be unstable.\n",
      "  warnings.warn(message, warning_type)\n"
     ]
    },
    {
     "name": "stdout",
     "output_type": "stream",
     "text": [
      "115660 49 15318 0.0\n",
      "115670 49 15168 0\n",
      "115680 49 15220 0.0\n"
     ]
    },
    {
     "name": "stderr",
     "output_type": "stream",
     "text": [
      "/dados/anaconda3/lib/python3.7/site-packages/tbats/error/ExceptionHandler.py:13: ModelWarning: Optimization did not converge. Forecasts may be unstable.\n",
      "  warnings.warn(message, warning_type)\n"
     ]
    },
    {
     "name": "stdout",
     "output_type": "stream",
     "text": [
      "115690 49 6870 0\n",
      "115700 49 4480 0.0\n",
      "115710 49 5063 0\n",
      "115720 49 5155 0\n",
      "115730 49 5187 0\n",
      "115740 49 5121 0\n",
      "115750 49 10069 0\n",
      "115760 49 10287 0\n",
      "115770 49 10180 0\n",
      "115780 49 10772 0.0\n",
      "115790 49 11363 0\n",
      "115800 49 11044 0\n",
      "115810 49 8459 0\n",
      "115820 49 8363 2.0\n"
     ]
    },
    {
     "name": "stderr",
     "output_type": "stream",
     "text": [
      "/dados/anaconda3/lib/python3.7/site-packages/tbats/error/ExceptionHandler.py:13: ModelWarning: Optimization did not converge. Forecasts may be unstable.\n",
      "  warnings.warn(message, warning_type)\n"
     ]
    },
    {
     "name": "stdout",
     "output_type": "stream",
     "text": [
      "115830 49 7580 0\n",
      "115840 49 8968 0\n",
      "115850 49 9338 0\n",
      "115860 49 8428 0\n",
      "115870 49 14361 0\n",
      "115880 49 547 0\n"
     ]
    },
    {
     "name": "stderr",
     "output_type": "stream",
     "text": [
      "/dados/anaconda3/lib/python3.7/site-packages/tbats/error/ExceptionHandler.py:13: ModelWarning: Optimization did not converge. Forecasts may be unstable.\n",
      "  warnings.warn(message, warning_type)\n"
     ]
    },
    {
     "name": "stdout",
     "output_type": "stream",
     "text": [
      "115890 49 12743 0\n"
     ]
    },
    {
     "name": "stderr",
     "output_type": "stream",
     "text": [
      "/dados/anaconda3/lib/python3.7/site-packages/tbats/error/ExceptionHandler.py:13: ModelWarning: Optimization did not converge. Forecasts may be unstable.\n",
      "  warnings.warn(message, warning_type)\n"
     ]
    },
    {
     "name": "stdout",
     "output_type": "stream",
     "text": [
      "115900 49 20517 0.0\n"
     ]
    },
    {
     "name": "stderr",
     "output_type": "stream",
     "text": [
      "/dados/anaconda3/lib/python3.7/site-packages/tbats/error/ExceptionHandler.py:13: ModelWarning: Optimization did not converge. Forecasts may be unstable.\n",
      "  warnings.warn(message, warning_type)\n"
     ]
    },
    {
     "name": "stdout",
     "output_type": "stream",
     "text": [
      "115910 49 7924 0.0\n"
     ]
    },
    {
     "name": "stderr",
     "output_type": "stream",
     "text": [
      "/dados/anaconda3/lib/python3.7/site-packages/tbats/error/ExceptionHandler.py:13: ModelWarning: Optimization did not converge. Forecasts may be unstable.\n",
      "  warnings.warn(message, warning_type)\n",
      "/dados/anaconda3/lib/python3.7/site-packages/tbats/error/ExceptionHandler.py:13: ModelWarning: Optimization did not converge. Forecasts may be unstable.\n",
      "  warnings.warn(message, warning_type)\n"
     ]
    },
    {
     "name": "stdout",
     "output_type": "stream",
     "text": [
      "115920 49 3239 0\n"
     ]
    },
    {
     "name": "stderr",
     "output_type": "stream",
     "text": [
      "/dados/anaconda3/lib/python3.7/site-packages/tbats/error/ExceptionHandler.py:13: ModelWarning: Optimization did not converge. Forecasts may be unstable.\n",
      "  warnings.warn(message, warning_type)\n"
     ]
    },
    {
     "name": "stdout",
     "output_type": "stream",
     "text": [
      "115930 49 15458 0.0\n",
      "115940 49 18025 0\n"
     ]
    },
    {
     "name": "stderr",
     "output_type": "stream",
     "text": [
      "/dados/anaconda3/lib/python3.7/site-packages/tbats/error/ExceptionHandler.py:13: ModelWarning: Optimization did not converge. Forecasts may be unstable.\n",
      "  warnings.warn(message, warning_type)\n"
     ]
    },
    {
     "name": "stdout",
     "output_type": "stream",
     "text": [
      "115950 49 15031 0.0\n",
      "115960 49 14984 0\n",
      "115970 49 1254 0\n",
      "115980 49 18968 0\n",
      "115990 49 21139 0\n"
     ]
    },
    {
     "name": "stderr",
     "output_type": "stream",
     "text": [
      "/dados/anaconda3/lib/python3.7/site-packages/tbats/error/ExceptionHandler.py:13: ModelWarning: Optimization did not converge. Forecasts may be unstable.\n",
      "  warnings.warn(message, warning_type)\n"
     ]
    },
    {
     "name": "stdout",
     "output_type": "stream",
     "text": [
      "116000 49 3273 0\n",
      "116010 49 13407 3.0\n",
      "116020 49 21692 0\n",
      "116030 49 19127 0\n",
      "116040 49 16953 0.0\n"
     ]
    },
    {
     "name": "stderr",
     "output_type": "stream",
     "text": [
      "/dados/anaconda3/lib/python3.7/site-packages/tbats/error/ExceptionHandler.py:13: ModelWarning: Optimization did not converge. Forecasts may be unstable.\n",
      "  warnings.warn(message, warning_type)\n"
     ]
    },
    {
     "name": "stdout",
     "output_type": "stream",
     "text": [
      "116050 49 21400 0.0\n",
      "116060 49 20334 0\n",
      "116070 49 13693 0\n",
      "116080 49 12474 0\n",
      "116090 49 8468 0\n",
      "116100 49 11302 0\n",
      "116110 49 448 0\n"
     ]
    },
    {
     "name": "stderr",
     "output_type": "stream",
     "text": [
      "/dados/anaconda3/lib/python3.7/site-packages/tbats/error/ExceptionHandler.py:13: ModelWarning: Optimization did not converge. Forecasts may be unstable.\n",
      "  warnings.warn(message, warning_type)\n"
     ]
    },
    {
     "name": "stdout",
     "output_type": "stream",
     "text": [
      "116120 49 5272 0.0\n",
      "116130 49 6028 0\n"
     ]
    },
    {
     "name": "stderr",
     "output_type": "stream",
     "text": [
      "/dados/anaconda3/lib/python3.7/site-packages/tbats/error/ExceptionHandler.py:13: ModelWarning: Optimization did not converge. Forecasts may be unstable.\n",
      "  warnings.warn(message, warning_type)\n"
     ]
    },
    {
     "name": "stdout",
     "output_type": "stream",
     "text": [
      "116140 49 8855 0\n",
      "116150 49 2540 0\n"
     ]
    },
    {
     "name": "stderr",
     "output_type": "stream",
     "text": [
      "/dados/anaconda3/lib/python3.7/site-packages/tbats/error/ExceptionHandler.py:13: ModelWarning: Optimization did not converge. Forecasts may be unstable.\n",
      "  warnings.warn(message, warning_type)\n"
     ]
    },
    {
     "name": "stdout",
     "output_type": "stream",
     "text": [
      "116160 49 18315 0\n",
      "116170 49 2191 0\n",
      "116180 49 3333 0.0\n"
     ]
    },
    {
     "name": "stderr",
     "output_type": "stream",
     "text": [
      "/dados/anaconda3/lib/python3.7/site-packages/tbats/error/ExceptionHandler.py:13: ModelWarning: Optimization did not converge. Forecasts may be unstable.\n",
      "  warnings.warn(message, warning_type)\n"
     ]
    },
    {
     "name": "stdout",
     "output_type": "stream",
     "text": [
      "116190 49 20879 0\n",
      "116200 49 14760 0\n"
     ]
    },
    {
     "name": "stderr",
     "output_type": "stream",
     "text": [
      "/dados/anaconda3/lib/python3.7/site-packages/tbats/error/ExceptionHandler.py:13: ModelWarning: Optimization did not converge. Forecasts may be unstable.\n",
      "  warnings.warn(message, warning_type)\n"
     ]
    },
    {
     "name": "stdout",
     "output_type": "stream",
     "text": [
      "116210 49 4637 0.0\n",
      "116220 49 13494 1.0\n",
      "116230 49 16032 1.0\n",
      "116240 49 2523 0\n",
      "116250 49 5540 0\n"
     ]
    },
    {
     "name": "stderr",
     "output_type": "stream",
     "text": [
      "/dados/anaconda3/lib/python3.7/site-packages/tbats/error/ExceptionHandler.py:13: ModelWarning: Optimization did not converge. Forecasts may be unstable.\n",
      "  warnings.warn(message, warning_type)\n",
      "/dados/anaconda3/lib/python3.7/site-packages/tbats/error/ExceptionHandler.py:13: ModelWarning: Optimization did not converge. Forecasts may be unstable.\n",
      "  warnings.warn(message, warning_type)\n"
     ]
    },
    {
     "name": "stdout",
     "output_type": "stream",
     "text": [
      "116260 49 1453 0.0\n",
      "116270 49 11011 0\n",
      "116280 49 3548 1.0\n",
      "116290 49 6307 1.0\n",
      "116300 49 20196 0\n"
     ]
    },
    {
     "name": "stderr",
     "output_type": "stream",
     "text": [
      "/dados/anaconda3/lib/python3.7/site-packages/tbats/error/ExceptionHandler.py:13: ModelWarning: Optimization did not converge. Forecasts may be unstable.\n",
      "  warnings.warn(message, warning_type)\n"
     ]
    },
    {
     "name": "stdout",
     "output_type": "stream",
     "text": [
      "116310 49 19751 0\n",
      "116320 49 18457 0\n",
      "116330 49 18208 0\n",
      "116340 49 22013 0\n",
      "116350 49 20653 0.0\n",
      "116360 49 21053 0\n",
      "116370 49 11516 0\n"
     ]
    },
    {
     "name": "stderr",
     "output_type": "stream",
     "text": [
      "/dados/anaconda3/lib/python3.7/site-packages/tbats/error/ExceptionHandler.py:13: ModelWarning: Optimization did not converge. Forecasts may be unstable.\n",
      "  warnings.warn(message, warning_type)\n"
     ]
    },
    {
     "name": "stdout",
     "output_type": "stream",
     "text": [
      "116380 49 18481 0.0\n"
     ]
    },
    {
     "name": "stderr",
     "output_type": "stream",
     "text": [
      "/dados/anaconda3/lib/python3.7/site-packages/tbats/error/ExceptionHandler.py:13: ModelWarning: Optimization did not converge. Forecasts may be unstable.\n",
      "  warnings.warn(message, warning_type)\n"
     ]
    },
    {
     "name": "stdout",
     "output_type": "stream",
     "text": [
      "116390 49 15222 0\n",
      "116400 49 13327 0\n",
      "116410 49 18031 0.0\n"
     ]
    },
    {
     "name": "stderr",
     "output_type": "stream",
     "text": [
      "/dados/anaconda3/lib/python3.7/site-packages/tbats/error/ExceptionHandler.py:13: ModelWarning: Optimization did not converge. Forecasts may be unstable.\n",
      "  warnings.warn(message, warning_type)\n"
     ]
    },
    {
     "name": "stdout",
     "output_type": "stream",
     "text": [
      "116420 49 20821 0\n",
      "116430 49 18939 0\n",
      "116440 49 12208 0.0\n",
      "116450 49 15654 0\n",
      "116460 49 16028 0.0\n",
      "116470 49 20516 0\n"
     ]
    },
    {
     "name": "stderr",
     "output_type": "stream",
     "text": [
      "/dados/anaconda3/lib/python3.7/site-packages/tbats/error/ExceptionHandler.py:13: ModelWarning: Optimization did not converge. Forecasts may be unstable.\n",
      "  warnings.warn(message, warning_type)\n"
     ]
    },
    {
     "name": "stdout",
     "output_type": "stream",
     "text": [
      "116480 49 6400 2.0\n",
      "116490 49 16166 0\n",
      "116500 49 9534 0\n",
      "116510 49 10581 0\n",
      "116520 49 9111 0\n",
      "116530 49 13099 0\n",
      "116540 49 11874 0\n",
      "116550 49 12192 0\n",
      "116560 49 6430 0\n",
      "116570 49 5761 0\n",
      "116580 49 4903 0\n",
      "116590 49 5382 0\n",
      "116600 49 7817 0\n",
      "116610 49 6959 0\n",
      "116620 49 7057 0\n",
      "116630 49 21978 0\n",
      "116640 49 19347 0\n",
      "116650 49 20012 0\n",
      "116660 49 13732 0\n",
      "116670 49 14934 0\n",
      "116680 49 13341 0\n",
      "116690 49 16396 0\n",
      "116700 49 16813 0\n",
      "116710 49 15988 0\n",
      "116720 49 16272 0\n",
      "116730 49 504 0\n",
      "116740 49 688 0\n",
      "116750 49 616 0\n",
      "116760 49 204 0\n",
      "116770 49 1394 0\n",
      "116780 49 924 0\n",
      "116790 49 1506 0\n",
      "116800 49 849 0\n",
      "116810 49 20361 1.0\n",
      "116820 49 3715 0\n",
      "116830 49 3411 0\n",
      "116840 49 4765 0\n",
      "116850 49 4260 0\n",
      "116860 49 4144 0\n",
      "116870 49 4203 0\n",
      "116880 49 1794 0\n",
      "116890 49 2338 0\n",
      "116900 49 1792 0\n",
      "116910 49 2856 0\n",
      "116920 49 2434 0\n",
      "116930 49 3136 0\n",
      "116940 49 1018 0\n"
     ]
    },
    {
     "name": "stderr",
     "output_type": "stream",
     "text": [
      "/dados/anaconda3/lib/python3.7/site-packages/tbats/error/ExceptionHandler.py:13: ModelWarning: Optimization did not converge. Forecasts may be unstable.\n",
      "  warnings.warn(message, warning_type)\n"
     ]
    },
    {
     "name": "stdout",
     "output_type": "stream",
     "text": [
      "116950 49 19258 0\n",
      "116960 49 4736 0.0\n",
      "116970 49 5363 0.0\n",
      "116980 49 17390 0\n"
     ]
    },
    {
     "name": "stderr",
     "output_type": "stream",
     "text": [
      "/dados/anaconda3/lib/python3.7/site-packages/tbats/error/ExceptionHandler.py:13: ModelWarning: Optimization did not converge. Forecasts may be unstable.\n",
      "  warnings.warn(message, warning_type)\n"
     ]
    },
    {
     "name": "stdout",
     "output_type": "stream",
     "text": [
      "116990 49 11682 0\n",
      "117000 49 15735 0\n",
      "117010 49 14899 0\n",
      "117020 49 20212 0\n"
     ]
    },
    {
     "name": "stderr",
     "output_type": "stream",
     "text": [
      "/dados/anaconda3/lib/python3.7/site-packages/tbats/error/ExceptionHandler.py:13: ModelWarning: Optimization did not converge. Forecasts may be unstable.\n",
      "  warnings.warn(message, warning_type)\n"
     ]
    },
    {
     "name": "stdout",
     "output_type": "stream",
     "text": [
      "117030 49 5899 0.0\n",
      "117040 49 18476 0.0\n",
      "117050 49 6835 0.0\n",
      "117060 49 15405 0\n",
      "117070 49 17756 0\n",
      "117080 49 18500 0\n",
      "117090 49 16231 0\n",
      "117100 49 17015 0\n"
     ]
    },
    {
     "name": "stderr",
     "output_type": "stream",
     "text": [
      "/dados/anaconda3/lib/python3.7/site-packages/tbats/error/ExceptionHandler.py:13: ModelWarning: Optimization did not converge. Forecasts may be unstable.\n",
      "  warnings.warn(message, warning_type)\n"
     ]
    },
    {
     "name": "stdout",
     "output_type": "stream",
     "text": [
      "117110 49 13133 0\n",
      "117120 49 14222 0\n"
     ]
    },
    {
     "name": "stderr",
     "output_type": "stream",
     "text": [
      "/dados/anaconda3/lib/python3.7/site-packages/tbats/error/ExceptionHandler.py:13: ModelWarning: Optimization did not converge. Forecasts may be unstable.\n",
      "  warnings.warn(message, warning_type)\n"
     ]
    },
    {
     "name": "stdout",
     "output_type": "stream",
     "text": [
      "117130 49 13812 0\n",
      "117140 49 5010 1.0\n",
      "117150 49 21210 0\n",
      "117160 49 20916 0\n",
      "117170 49 21664 0\n"
     ]
    },
    {
     "name": "stderr",
     "output_type": "stream",
     "text": [
      "/dados/anaconda3/lib/python3.7/site-packages/tbats/error/ExceptionHandler.py:13: ModelWarning: Optimization did not converge. Forecasts may be unstable.\n",
      "  warnings.warn(message, warning_type)\n"
     ]
    },
    {
     "name": "stdout",
     "output_type": "stream",
     "text": [
      "117180 49 3232 0\n",
      "117190 49 3547 0\n",
      "117200 49 18707 0\n",
      "117210 49 11674 0\n"
     ]
    },
    {
     "name": "stderr",
     "output_type": "stream",
     "text": [
      "/dados/anaconda3/lib/python3.7/site-packages/tbats/error/ExceptionHandler.py:13: ModelWarning: Optimization did not converge. Forecasts may be unstable.\n",
      "  warnings.warn(message, warning_type)\n"
     ]
    },
    {
     "name": "stdout",
     "output_type": "stream",
     "text": [
      "117220 49 16057 0.0\n",
      "117230 49 15033 0\n",
      "117240 49 10508 0\n",
      "117250 49 7572 0\n",
      "117260 49 6882 0.0\n",
      "117270 49 14543 0\n",
      "117280 49 19889 0\n",
      "117290 49 3280 0.0\n",
      "117300 53 5037 0.0\n",
      "117310 53 4806 4.0\n",
      "117320 53 4717 4.0\n",
      "117330 53 5666 2.0\n"
     ]
    },
    {
     "name": "stderr",
     "output_type": "stream",
     "text": [
      "/dados/anaconda3/lib/python3.7/site-packages/tbats/error/ExceptionHandler.py:13: ModelWarning: Optimization did not converge. Forecasts may be unstable.\n",
      "  warnings.warn(message, warning_type)\n"
     ]
    },
    {
     "name": "stdout",
     "output_type": "stream",
     "text": [
      "117340 53 5840 0\n"
     ]
    },
    {
     "name": "stderr",
     "output_type": "stream",
     "text": [
      "/dados/anaconda3/lib/python3.7/site-packages/tbats/error/ExceptionHandler.py:13: ModelWarning: Optimization did not converge. Forecasts may be unstable.\n",
      "  warnings.warn(message, warning_type)\n"
     ]
    },
    {
     "name": "stdout",
     "output_type": "stream",
     "text": [
      "117350 53 5838 5.0\n"
     ]
    },
    {
     "name": "stderr",
     "output_type": "stream",
     "text": [
      "/dados/anaconda3/lib/python3.7/site-packages/tbats/error/ExceptionHandler.py:13: ModelWarning: Optimization did not converge. Forecasts may be unstable.\n",
      "  warnings.warn(message, warning_type)\n"
     ]
    },
    {
     "name": "stdout",
     "output_type": "stream",
     "text": [
      "117360 53 3352 0\n"
     ]
    },
    {
     "name": "stderr",
     "output_type": "stream",
     "text": [
      "/dados/anaconda3/lib/python3.7/site-packages/tbats/error/ExceptionHandler.py:13: ModelWarning: Optimization did not converge. Forecasts may be unstable.\n",
      "  warnings.warn(message, warning_type)\n"
     ]
    },
    {
     "name": "stdout",
     "output_type": "stream",
     "text": [
      "117370 53 3604 0\n",
      "117380 53 3443 0.0\n",
      "117390 53 4365 1.0\n",
      "117400 53 3733 0.0\n",
      "117410 53 4052 0.0\n"
     ]
    },
    {
     "name": "stderr",
     "output_type": "stream",
     "text": [
      "/dados/anaconda3/lib/python3.7/site-packages/tbats/error/ExceptionHandler.py:13: ModelWarning: Optimization did not converge. Forecasts may be unstable.\n",
      "  warnings.warn(message, warning_type)\n"
     ]
    },
    {
     "name": "stdout",
     "output_type": "stream",
     "text": [
      "117420 53 9395 0.0\n",
      "117430 53 9469 0\n",
      "117440 53 8653 0.0\n",
      "117450 53 9001 0.0\n",
      "117460 53 10447 0\n"
     ]
    },
    {
     "name": "stderr",
     "output_type": "stream",
     "text": [
      "/dados/anaconda3/lib/python3.7/site-packages/tbats/error/ExceptionHandler.py:13: ModelWarning: Optimization did not converge. Forecasts may be unstable.\n",
      "  warnings.warn(message, warning_type)\n"
     ]
    },
    {
     "name": "stdout",
     "output_type": "stream",
     "text": [
      "117470 53 10327 0\n"
     ]
    },
    {
     "name": "stderr",
     "output_type": "stream",
     "text": [
      "/dados/anaconda3/lib/python3.7/site-packages/tbats/error/ExceptionHandler.py:13: ModelWarning: Optimization did not converge. Forecasts may be unstable.\n",
      "  warnings.warn(message, warning_type)\n",
      "/dados/anaconda3/lib/python3.7/site-packages/tbats/error/ExceptionHandler.py:13: ModelWarning: Optimization did not converge. Forecasts may be unstable.\n",
      "  warnings.warn(message, warning_type)\n",
      "/dados/anaconda3/lib/python3.7/site-packages/tbats/error/ExceptionHandler.py:13: ModelWarning: Optimization did not converge. Forecasts may be unstable.\n",
      "  warnings.warn(message, warning_type)\n"
     ]
    },
    {
     "name": "stdout",
     "output_type": "stream",
     "text": [
      "117480 53 9927 0\n",
      "117490 53 6506 0\n"
     ]
    },
    {
     "name": "stderr",
     "output_type": "stream",
     "text": [
      "/dados/anaconda3/lib/python3.7/site-packages/tbats/error/ExceptionHandler.py:13: ModelWarning: Optimization did not converge. Forecasts may be unstable.\n",
      "  warnings.warn(message, warning_type)\n"
     ]
    },
    {
     "name": "stdout",
     "output_type": "stream",
     "text": [
      "117500 53 6731 0\n"
     ]
    },
    {
     "name": "stderr",
     "output_type": "stream",
     "text": [
      "/dados/anaconda3/lib/python3.7/site-packages/tbats/error/ExceptionHandler.py:13: ModelWarning: Optimization did not converge. Forecasts may be unstable.\n",
      "  warnings.warn(message, warning_type)\n"
     ]
    },
    {
     "name": "stdout",
     "output_type": "stream",
     "text": [
      "117510 53 6396 2.0\n",
      "117520 53 6064 1.0\n",
      "117530 53 7862 0\n"
     ]
    },
    {
     "name": "stderr",
     "output_type": "stream",
     "text": [
      "/dados/anaconda3/lib/python3.7/site-packages/tbats/error/ExceptionHandler.py:13: ModelWarning: Optimization did not converge. Forecasts may be unstable.\n",
      "  warnings.warn(message, warning_type)\n",
      "/dados/anaconda3/lib/python3.7/site-packages/tbats/error/ExceptionHandler.py:13: ModelWarning: Optimization did not converge. Forecasts may be unstable.\n",
      "  warnings.warn(message, warning_type)\n"
     ]
    },
    {
     "name": "stdout",
     "output_type": "stream",
     "text": [
      "117540 53 7328 1.0\n",
      "117550 53 7029 0\n"
     ]
    },
    {
     "name": "stderr",
     "output_type": "stream",
     "text": [
      "/dados/anaconda3/lib/python3.7/site-packages/tbats/error/ExceptionHandler.py:13: ModelWarning: Optimization did not converge. Forecasts may be unstable.\n",
      "  warnings.warn(message, warning_type)\n"
     ]
    },
    {
     "name": "stdout",
     "output_type": "stream",
     "text": [
      "117560 53 15777 0.0\n",
      "117570 53 16843 2.0\n"
     ]
    },
    {
     "name": "stderr",
     "output_type": "stream",
     "text": [
      "/dados/anaconda3/lib/python3.7/site-packages/tbats/error/ExceptionHandler.py:13: ModelWarning: Optimization did not converge. Forecasts may be unstable.\n",
      "  warnings.warn(message, warning_type)\n",
      "/dados/anaconda3/lib/python3.7/site-packages/tbats/error/ExceptionHandler.py:13: ModelWarning: Optimization did not converge. Forecasts may be unstable.\n",
      "  warnings.warn(message, warning_type)\n"
     ]
    },
    {
     "name": "stdout",
     "output_type": "stream",
     "text": [
      "117580 53 15496 0\n"
     ]
    },
    {
     "name": "stderr",
     "output_type": "stream",
     "text": [
      "/dados/anaconda3/lib/python3.7/site-packages/tbats/error/ExceptionHandler.py:13: ModelWarning: Optimization did not converge. Forecasts may be unstable.\n",
      "  warnings.warn(message, warning_type)\n"
     ]
    },
    {
     "name": "stdout",
     "output_type": "stream",
     "text": [
      "117590 53 16103 0.0\n",
      "117600 53 18825 0.0\n",
      "117610 53 19656 0\n",
      "117620 53 18397 0\n"
     ]
    },
    {
     "name": "stderr",
     "output_type": "stream",
     "text": [
      "/dados/anaconda3/lib/python3.7/site-packages/tbats/error/ExceptionHandler.py:13: ModelWarning: Optimization did not converge. Forecasts may be unstable.\n",
      "  warnings.warn(message, warning_type)\n"
     ]
    },
    {
     "name": "stdout",
     "output_type": "stream",
     "text": [
      "117630 53 15338 0\n",
      "117640 53 13023 0.0\n",
      "117650 53 13415 0\n",
      "117660 53 13464 0.0\n",
      "117670 53 14832 0\n",
      "117680 53 15069 0\n",
      "117690 53 15037 0\n",
      "117700 53 2131 0\n"
     ]
    },
    {
     "name": "stderr",
     "output_type": "stream",
     "text": [
      "/dados/anaconda3/lib/python3.7/site-packages/tbats/error/ExceptionHandler.py:13: ModelWarning: Optimization did not converge. Forecasts may be unstable.\n",
      "  warnings.warn(message, warning_type)\n",
      "/dados/anaconda3/lib/python3.7/site-packages/tbats/error/ExceptionHandler.py:13: ModelWarning: Optimization did not converge. Forecasts may be unstable.\n",
      "  warnings.warn(message, warning_type)\n"
     ]
    },
    {
     "name": "stdout",
     "output_type": "stream",
     "text": [
      "117710 53 1732 0\n"
     ]
    },
    {
     "name": "stderr",
     "output_type": "stream",
     "text": [
      "/dados/anaconda3/lib/python3.7/site-packages/tbats/error/ExceptionHandler.py:13: ModelWarning: Optimization did not converge. Forecasts may be unstable.\n",
      "  warnings.warn(message, warning_type)\n"
     ]
    },
    {
     "name": "stdout",
     "output_type": "stream",
     "text": [
      "117720 53 2574 1.0\n",
      "117730 53 3076 2.0\n",
      "117740 53 2779 0.0\n"
     ]
    },
    {
     "name": "stderr",
     "output_type": "stream",
     "text": [
      "/dados/anaconda3/lib/python3.7/site-packages/tbats/error/ExceptionHandler.py:13: ModelWarning: Optimization did not converge. Forecasts may be unstable.\n",
      "  warnings.warn(message, warning_type)\n"
     ]
    },
    {
     "name": "stdout",
     "output_type": "stream",
     "text": [
      "117750 53 2873 0.0\n",
      "117760 53 20949 20.0\n",
      "117770 53 21937 0\n",
      "117780 53 20400 0\n"
     ]
    },
    {
     "name": "stderr",
     "output_type": "stream",
     "text": [
      "/dados/anaconda3/lib/python3.7/site-packages/tbats/error/ExceptionHandler.py:13: ModelWarning: Optimization did not converge. Forecasts may be unstable.\n",
      "  warnings.warn(message, warning_type)\n"
     ]
    },
    {
     "name": "stdout",
     "output_type": "stream",
     "text": [
      "117790 53 20616 0\n",
      "117800 53 1585 0\n",
      "117810 53 982 0\n",
      "117820 53 1486 2.0\n",
      "117830 53 2328 0\n",
      "117840 53 2293 0.0\n"
     ]
    },
    {
     "name": "stderr",
     "output_type": "stream",
     "text": [
      "/dados/anaconda3/lib/python3.7/site-packages/tbats/error/ExceptionHandler.py:13: ModelWarning: Optimization did not converge. Forecasts may be unstable.\n",
      "  warnings.warn(message, warning_type)\n"
     ]
    },
    {
     "name": "stdout",
     "output_type": "stream",
     "text": [
      "117850 53 3022 0\n"
     ]
    },
    {
     "name": "stderr",
     "output_type": "stream",
     "text": [
      "/dados/anaconda3/lib/python3.7/site-packages/tbats/error/ExceptionHandler.py:13: ModelWarning: Optimization did not converge. Forecasts may be unstable.\n",
      "  warnings.warn(message, warning_type)\n"
     ]
    },
    {
     "name": "stdout",
     "output_type": "stream",
     "text": [
      "117860 53 2743 4.0\n",
      "117870 53 1963 0\n",
      "117880 53 1295 0\n",
      "117890 53 22100 0.0\n",
      "117900 53 482 1.0\n"
     ]
    },
    {
     "name": "stderr",
     "output_type": "stream",
     "text": [
      "/dados/anaconda3/lib/python3.7/site-packages/tbats/error/ExceptionHandler.py:13: ModelWarning: Optimization did not converge. Forecasts may be unstable.\n",
      "  warnings.warn(message, warning_type)\n"
     ]
    },
    {
     "name": "stdout",
     "output_type": "stream",
     "text": [
      "117910 53 1877 0.0\n",
      "117920 53 1570 0.0\n",
      "117930 53 4003 0.0\n",
      "117940 53 3851 0.0\n"
     ]
    },
    {
     "name": "stderr",
     "output_type": "stream",
     "text": [
      "/dados/anaconda3/lib/python3.7/site-packages/tbats/error/ExceptionHandler.py:13: ModelWarning: Optimization did not converge. Forecasts may be unstable.\n",
      "  warnings.warn(message, warning_type)\n",
      "/dados/anaconda3/lib/python3.7/site-packages/tbats/error/ExceptionHandler.py:13: ModelWarning: Optimization did not converge. Forecasts may be unstable.\n",
      "  warnings.warn(message, warning_type)\n"
     ]
    },
    {
     "name": "stdout",
     "output_type": "stream",
     "text": [
      "117950 53 4420 0.0\n"
     ]
    },
    {
     "name": "stderr",
     "output_type": "stream",
     "text": [
      "/dados/anaconda3/lib/python3.7/site-packages/tbats/error/ExceptionHandler.py:13: ModelWarning: Optimization did not converge. Forecasts may be unstable.\n",
      "  warnings.warn(message, warning_type)\n"
     ]
    },
    {
     "name": "stdout",
     "output_type": "stream",
     "text": [
      "117960 53 4085 0.0\n",
      "117970 53 3528 0.0\n",
      "117980 53 3459 0\n"
     ]
    },
    {
     "name": "stderr",
     "output_type": "stream",
     "text": [
      "/dados/anaconda3/lib/python3.7/site-packages/tbats/error/ExceptionHandler.py:13: ModelWarning: Optimization did not converge. Forecasts may be unstable.\n",
      "  warnings.warn(message, warning_type)\n"
     ]
    },
    {
     "name": "stdout",
     "output_type": "stream",
     "text": [
      "117990 53 12771 0.0\n",
      "118000 53 13334 0\n",
      "118010 53 15047 1.0\n",
      "118020 53 13818 0\n"
     ]
    },
    {
     "name": "stderr",
     "output_type": "stream",
     "text": [
      "/dados/anaconda3/lib/python3.7/site-packages/tbats/error/ExceptionHandler.py:13: ModelWarning: Optimization did not converge. Forecasts may be unstable.\n",
      "  warnings.warn(message, warning_type)\n"
     ]
    },
    {
     "name": "stdout",
     "output_type": "stream",
     "text": [
      "118030 53 12549 0.0\n"
     ]
    },
    {
     "name": "stderr",
     "output_type": "stream",
     "text": [
      "/dados/anaconda3/lib/python3.7/site-packages/tbats/error/ExceptionHandler.py:13: ModelWarning: Optimization did not converge. Forecasts may be unstable.\n",
      "  warnings.warn(message, warning_type)\n"
     ]
    },
    {
     "name": "stdout",
     "output_type": "stream",
     "text": [
      "118040 53 12698 0\n",
      "118050 53 12360 1.0\n",
      "118060 53 11811 1.0\n"
     ]
    },
    {
     "name": "stderr",
     "output_type": "stream",
     "text": [
      "/dados/anaconda3/lib/python3.7/site-packages/tbats/error/ExceptionHandler.py:13: ModelWarning: Optimization did not converge. Forecasts may be unstable.\n",
      "  warnings.warn(message, warning_type)\n"
     ]
    },
    {
     "name": "stdout",
     "output_type": "stream",
     "text": [
      "118070 53 12023 0\n",
      "118080 53 13275 0\n",
      "118090 53 13303 0\n",
      "118100 53 13226 0\n",
      "118110 53 20609 0.0\n",
      "118120 53 19430 1.0\n",
      "118130 53 21942 0\n",
      "118140 53 18201 1.0\n",
      "118150 53 16122 0.0\n",
      "118160 53 14668 0.0\n",
      "118170 53 15323 0.0\n"
     ]
    },
    {
     "name": "stderr",
     "output_type": "stream",
     "text": [
      "/dados/anaconda3/lib/python3.7/site-packages/tbats/error/ExceptionHandler.py:13: ModelWarning: Optimization did not converge. Forecasts may be unstable.\n",
      "  warnings.warn(message, warning_type)\n"
     ]
    },
    {
     "name": "stdout",
     "output_type": "stream",
     "text": [
      "118180 53 17481 0.0\n",
      "118190 53 16541 0.0\n",
      "118200 53 1239 0.0\n",
      "118210 53 20631 0\n"
     ]
    },
    {
     "name": "stderr",
     "output_type": "stream",
     "text": [
      "/dados/anaconda3/lib/python3.7/site-packages/tbats/error/ExceptionHandler.py:13: ModelWarning: Optimization did not converge. Forecasts may be unstable.\n",
      "  warnings.warn(message, warning_type)\n",
      "/dados/anaconda3/lib/python3.7/site-packages/tbats/error/ExceptionHandler.py:13: ModelWarning: Optimization did not converge. Forecasts may be unstable.\n",
      "  warnings.warn(message, warning_type)\n"
     ]
    },
    {
     "name": "stdout",
     "output_type": "stream",
     "text": [
      "118220 53 2787 0\n",
      "118230 53 15282 0.0\n",
      "118240 53 16145 1.0\n"
     ]
    },
    {
     "name": "stderr",
     "output_type": "stream",
     "text": [
      "/dados/anaconda3/lib/python3.7/site-packages/tbats/error/ExceptionHandler.py:13: ModelWarning: Optimization did not converge. Forecasts may be unstable.\n",
      "  warnings.warn(message, warning_type)\n"
     ]
    },
    {
     "name": "stdout",
     "output_type": "stream",
     "text": [
      "118250 53 19125 0\n",
      "118260 53 17032 0\n",
      "118270 53 5383 0\n",
      "118280 53 4895 0.0\n",
      "118290 53 6505 0\n"
     ]
    },
    {
     "name": "stderr",
     "output_type": "stream",
     "text": [
      "/dados/anaconda3/lib/python3.7/site-packages/tbats/error/ExceptionHandler.py:13: ModelWarning: Optimization did not converge. Forecasts may be unstable.\n",
      "  warnings.warn(message, warning_type)\n"
     ]
    },
    {
     "name": "stdout",
     "output_type": "stream",
     "text": [
      "118300 53 6082 0.0\n"
     ]
    },
    {
     "name": "stderr",
     "output_type": "stream",
     "text": [
      "/dados/anaconda3/lib/python3.7/site-packages/tbats/error/ExceptionHandler.py:13: ModelWarning: Optimization did not converge. Forecasts may be unstable.\n",
      "  warnings.warn(message, warning_type)\n",
      "/dados/anaconda3/lib/python3.7/site-packages/tbats/error/ExceptionHandler.py:13: ModelWarning: Optimization did not converge. Forecasts may be unstable.\n",
      "  warnings.warn(message, warning_type)\n",
      "/dados/anaconda3/lib/python3.7/site-packages/tbats/error/ExceptionHandler.py:13: ModelWarning: Optimization did not converge. Forecasts may be unstable.\n",
      "  warnings.warn(message, warning_type)\n",
      "/dados/anaconda3/lib/python3.7/site-packages/tbats/error/ExceptionHandler.py:13: ModelWarning: Optimization did not converge. Forecasts may be unstable.\n",
      "  warnings.warn(message, warning_type)\n"
     ]
    },
    {
     "name": "stdout",
     "output_type": "stream",
     "text": [
      "118310 53 3822 0.0\n",
      "118320 53 6129 0.0\n"
     ]
    },
    {
     "name": "stderr",
     "output_type": "stream",
     "text": [
      "/dados/anaconda3/lib/python3.7/site-packages/tbats/error/ExceptionHandler.py:13: ModelWarning: Optimization did not converge. Forecasts may be unstable.\n",
      "  warnings.warn(message, warning_type)\n"
     ]
    },
    {
     "name": "stdout",
     "output_type": "stream",
     "text": [
      "118330 53 3833 2.0\n",
      "118340 53 3871 0.0\n",
      "118350 53 13285 0\n",
      "118360 53 11938 1.0\n",
      "118370 53 14457 1.0\n",
      "118380 53 7982 1.0\n"
     ]
    },
    {
     "name": "stderr",
     "output_type": "stream",
     "text": [
      "/dados/anaconda3/lib/python3.7/site-packages/tbats/error/ExceptionHandler.py:13: ModelWarning: Optimization did not converge. Forecasts may be unstable.\n",
      "  warnings.warn(message, warning_type)\n"
     ]
    },
    {
     "name": "stdout",
     "output_type": "stream",
     "text": [
      "118390 53 7224 0\n",
      "118400 53 10211 0.0\n"
     ]
    },
    {
     "name": "stderr",
     "output_type": "stream",
     "text": [
      "/dados/anaconda3/lib/python3.7/site-packages/tbats/error/ExceptionHandler.py:13: ModelWarning: Optimization did not converge. Forecasts may be unstable.\n",
      "  warnings.warn(message, warning_type)\n",
      "/dados/anaconda3/lib/python3.7/site-packages/tbats/error/ExceptionHandler.py:13: ModelWarning: Optimization did not converge. Forecasts may be unstable.\n",
      "  warnings.warn(message, warning_type)\n"
     ]
    },
    {
     "name": "stdout",
     "output_type": "stream",
     "text": [
      "118410 53 9404 1.0\n",
      "118420 53 4049 1.0\n",
      "118430 53 4999 0.0\n",
      "118440 53 3342 0.0\n"
     ]
    },
    {
     "name": "stderr",
     "output_type": "stream",
     "text": [
      "/dados/anaconda3/lib/python3.7/site-packages/tbats/error/ExceptionHandler.py:13: ModelWarning: Optimization did not converge. Forecasts may be unstable.\n",
      "  warnings.warn(message, warning_type)\n",
      "/dados/anaconda3/lib/python3.7/site-packages/tbats/error/ExceptionHandler.py:13: ModelWarning: Optimization did not converge. Forecasts may be unstable.\n",
      "  warnings.warn(message, warning_type)\n",
      "/dados/anaconda3/lib/python3.7/site-packages/tbats/error/ExceptionHandler.py:13: ModelWarning: Optimization did not converge. Forecasts may be unstable.\n",
      "  warnings.warn(message, warning_type)\n"
     ]
    },
    {
     "name": "stdout",
     "output_type": "stream",
     "text": [
      "118450 53 10190 1.0\n"
     ]
    },
    {
     "name": "stderr",
     "output_type": "stream",
     "text": [
      "/dados/anaconda3/lib/python3.7/site-packages/tbats/error/ExceptionHandler.py:13: ModelWarning: Optimization did not converge. Forecasts may be unstable.\n",
      "  warnings.warn(message, warning_type)\n"
     ]
    },
    {
     "name": "stdout",
     "output_type": "stream",
     "text": [
      "118460 53 9408 2.0\n",
      "118470 53 13237 0\n",
      "118480 53 10987 1.0\n"
     ]
    },
    {
     "name": "stderr",
     "output_type": "stream",
     "text": [
      "/dados/anaconda3/lib/python3.7/site-packages/tbats/error/ExceptionHandler.py:13: ModelWarning: Optimization did not converge. Forecasts may be unstable.\n",
      "  warnings.warn(message, warning_type)\n"
     ]
    },
    {
     "name": "stdout",
     "output_type": "stream",
     "text": [
      "118490 53 6625 1.0\n",
      "118500 53 6090 0.0\n",
      "118510 53 7019 0.0\n"
     ]
    },
    {
     "name": "stderr",
     "output_type": "stream",
     "text": [
      "/dados/anaconda3/lib/python3.7/site-packages/tbats/error/ExceptionHandler.py:13: ModelWarning: Optimization did not converge. Forecasts may be unstable.\n",
      "  warnings.warn(message, warning_type)\n"
     ]
    },
    {
     "name": "stdout",
     "output_type": "stream",
     "text": [
      "118520 53 12500 0.0\n",
      "118530 53 10448 0\n",
      "118540 53 12805 0.0\n",
      "118550 53 14247 1.0\n",
      "118560 53 7133 0\n",
      "118570 53 10292 0.0\n",
      "118580 53 1007 0.0\n",
      "118590 53 1717 0.0\n",
      "118600 53 14390 0.0\n",
      "118610 53 19908 0.0\n",
      "118620 53 17888 0\n",
      "118630 53 21722 0\n"
     ]
    },
    {
     "name": "stderr",
     "output_type": "stream",
     "text": [
      "/dados/anaconda3/lib/python3.7/site-packages/tbats/error/ExceptionHandler.py:13: ModelWarning: Optimization did not converge. Forecasts may be unstable.\n",
      "  warnings.warn(message, warning_type)\n",
      "/dados/anaconda3/lib/python3.7/site-packages/tbats/error/ExceptionHandler.py:13: ModelWarning: Optimization did not converge. Forecasts may be unstable.\n",
      "  warnings.warn(message, warning_type)\n"
     ]
    },
    {
     "name": "stdout",
     "output_type": "stream",
     "text": [
      "118640 53 940 0\n"
     ]
    },
    {
     "name": "stderr",
     "output_type": "stream",
     "text": [
      "/dados/anaconda3/lib/python3.7/site-packages/tbats/error/ExceptionHandler.py:13: ModelWarning: Optimization did not converge. Forecasts may be unstable.\n",
      "  warnings.warn(message, warning_type)\n"
     ]
    },
    {
     "name": "stdout",
     "output_type": "stream",
     "text": [
      "118650 53 18926 0\n"
     ]
    },
    {
     "name": "stderr",
     "output_type": "stream",
     "text": [
      "/dados/anaconda3/lib/python3.7/site-packages/tbats/error/ExceptionHandler.py:13: ModelWarning: Optimization did not converge. Forecasts may be unstable.\n",
      "  warnings.warn(message, warning_type)\n"
     ]
    },
    {
     "name": "stdout",
     "output_type": "stream",
     "text": [
      "118660 53 17772 0\n",
      "118670 53 19219 0\n"
     ]
    },
    {
     "name": "stderr",
     "output_type": "stream",
     "text": [
      "/dados/anaconda3/lib/python3.7/site-packages/tbats/error/ExceptionHandler.py:13: ModelWarning: Optimization did not converge. Forecasts may be unstable.\n",
      "  warnings.warn(message, warning_type)\n"
     ]
    },
    {
     "name": "stdout",
     "output_type": "stream",
     "text": [
      "118680 53 20225 1.0\n",
      "118690 53 5816 0.0\n",
      "118700 53 8868 0\n",
      "118710 53 17459 0\n",
      "118720 53 17420 0.0\n",
      "118730 53 10812 0\n",
      "118740 53 11771 0\n",
      "118750 53 10554 0\n"
     ]
    },
    {
     "name": "stderr",
     "output_type": "stream",
     "text": [
      "/dados/anaconda3/lib/python3.7/site-packages/tbats/error/ExceptionHandler.py:13: ModelWarning: Optimization did not converge. Forecasts may be unstable.\n",
      "  warnings.warn(message, warning_type)\n"
     ]
    },
    {
     "name": "stdout",
     "output_type": "stream",
     "text": [
      "118760 53 10378 1.0\n",
      "118770 53 16125 0.0\n",
      "118780 53 15300 1.0\n",
      "118790 53 17270 0.0\n",
      "118800 53 16735 0.0\n"
     ]
    },
    {
     "name": "stderr",
     "output_type": "stream",
     "text": [
      "/dados/anaconda3/lib/python3.7/site-packages/tbats/error/ExceptionHandler.py:13: ModelWarning: Optimization did not converge. Forecasts may be unstable.\n",
      "  warnings.warn(message, warning_type)\n"
     ]
    },
    {
     "name": "stdout",
     "output_type": "stream",
     "text": [
      "118810 53 13893 0.0\n",
      "118820 53 13633 0\n",
      "118830 53 14267 1.0\n",
      "118840 53 7592 0\n",
      "118850 53 8734 0\n"
     ]
    },
    {
     "name": "stderr",
     "output_type": "stream",
     "text": [
      "/dados/anaconda3/lib/python3.7/site-packages/tbats/error/ExceptionHandler.py:13: ModelWarning: Optimization did not converge. Forecasts may be unstable.\n",
      "  warnings.warn(message, warning_type)\n"
     ]
    },
    {
     "name": "stdout",
     "output_type": "stream",
     "text": [
      "118860 53 8986 0\n",
      "118870 53 8453 0\n",
      "118880 53 4141 0\n"
     ]
    },
    {
     "name": "stderr",
     "output_type": "stream",
     "text": [
      "/dados/anaconda3/lib/python3.7/site-packages/tbats/error/ExceptionHandler.py:13: ModelWarning: Optimization did not converge. Forecasts may be unstable.\n",
      "  warnings.warn(message, warning_type)\n"
     ]
    },
    {
     "name": "stdout",
     "output_type": "stream",
     "text": [
      "118890 53 6420 1.0\n",
      "118900 53 11266 0.0\n",
      "118910 53 13270 0\n",
      "118920 53 13100 0.0\n"
     ]
    },
    {
     "name": "stderr",
     "output_type": "stream",
     "text": [
      "/dados/anaconda3/lib/python3.7/site-packages/tbats/error/ExceptionHandler.py:13: ModelWarning: Optimization did not converge. Forecasts may be unstable.\n",
      "  warnings.warn(message, warning_type)\n"
     ]
    },
    {
     "name": "stdout",
     "output_type": "stream",
     "text": [
      "118930 53 10146 0\n",
      "118940 53 10425 0\n",
      "118950 53 11365 0\n",
      "118960 53 14848 2.0\n"
     ]
    },
    {
     "name": "stderr",
     "output_type": "stream",
     "text": [
      "/dados/anaconda3/lib/python3.7/site-packages/tbats/error/ExceptionHandler.py:13: ModelWarning: Optimization did not converge. Forecasts may be unstable.\n",
      "  warnings.warn(message, warning_type)\n"
     ]
    },
    {
     "name": "stdout",
     "output_type": "stream",
     "text": [
      "118970 53 21367 0.0\n"
     ]
    },
    {
     "name": "stderr",
     "output_type": "stream",
     "text": [
      "/dados/anaconda3/lib/python3.7/site-packages/tbats/error/ExceptionHandler.py:13: ModelWarning: Optimization did not converge. Forecasts may be unstable.\n",
      "  warnings.warn(message, warning_type)\n"
     ]
    },
    {
     "name": "stdout",
     "output_type": "stream",
     "text": [
      "118980 53 8077 0.0\n"
     ]
    },
    {
     "name": "stderr",
     "output_type": "stream",
     "text": [
      "/dados/anaconda3/lib/python3.7/site-packages/tbats/error/ExceptionHandler.py:13: ModelWarning: Optimization did not converge. Forecasts may be unstable.\n",
      "  warnings.warn(message, warning_type)\n"
     ]
    },
    {
     "name": "stdout",
     "output_type": "stream",
     "text": [
      "118990 53 12286 0.0\n",
      "119000 53 3028 6.0\n",
      "119010 53 3862 0\n"
     ]
    },
    {
     "name": "stderr",
     "output_type": "stream",
     "text": [
      "/dados/anaconda3/lib/python3.7/site-packages/tbats/error/ExceptionHandler.py:13: ModelWarning: Optimization did not converge. Forecasts may be unstable.\n",
      "  warnings.warn(message, warning_type)\n"
     ]
    },
    {
     "name": "stdout",
     "output_type": "stream",
     "text": [
      "119020 53 794 0\n",
      "119030 53 353 0\n",
      "119040 53 1074 0\n",
      "119050 53 13208 0\n",
      "119060 53 12501 0.0\n",
      "119070 53 10045 0\n"
     ]
    },
    {
     "name": "stderr",
     "output_type": "stream",
     "text": [
      "/dados/anaconda3/lib/python3.7/site-packages/tbats/error/ExceptionHandler.py:13: ModelWarning: Optimization did not converge. Forecasts may be unstable.\n",
      "  warnings.warn(message, warning_type)\n"
     ]
    },
    {
     "name": "stdout",
     "output_type": "stream",
     "text": [
      "119080 53 12090 0.0\n"
     ]
    },
    {
     "name": "stderr",
     "output_type": "stream",
     "text": [
      "/dados/anaconda3/lib/python3.7/site-packages/tbats/error/ExceptionHandler.py:13: ModelWarning: Optimization did not converge. Forecasts may be unstable.\n",
      "  warnings.warn(message, warning_type)\n"
     ]
    },
    {
     "name": "stdout",
     "output_type": "stream",
     "text": [
      "119090 53 11534 0\n"
     ]
    },
    {
     "name": "stderr",
     "output_type": "stream",
     "text": [
      "/dados/anaconda3/lib/python3.7/site-packages/tbats/error/ExceptionHandler.py:13: ModelWarning: Optimization did not converge. Forecasts may be unstable.\n",
      "  warnings.warn(message, warning_type)\n",
      "/dados/anaconda3/lib/python3.7/site-packages/tbats/error/ExceptionHandler.py:13: ModelWarning: Optimization did not converge. Forecasts may be unstable.\n",
      "  warnings.warn(message, warning_type)\n"
     ]
    },
    {
     "name": "stdout",
     "output_type": "stream",
     "text": [
      "119100 53 15512 0\n",
      "119110 53 15166 0\n",
      "119120 53 16534 1.0\n"
     ]
    },
    {
     "name": "stderr",
     "output_type": "stream",
     "text": [
      "/dados/anaconda3/lib/python3.7/site-packages/tbats/error/ExceptionHandler.py:13: ModelWarning: Optimization did not converge. Forecasts may be unstable.\n",
      "  warnings.warn(message, warning_type)\n"
     ]
    },
    {
     "name": "stdout",
     "output_type": "stream",
     "text": [
      "119130 53 16155 0\n",
      "119140 53 12830 0.0\n",
      "119150 53 14124 1.0\n",
      "119160 53 5945 1.0\n",
      "119170 53 6678 0\n",
      "119180 53 4944 0.0\n",
      "119190 53 5517 0\n"
     ]
    },
    {
     "name": "stderr",
     "output_type": "stream",
     "text": [
      "/dados/anaconda3/lib/python3.7/site-packages/tbats/error/ExceptionHandler.py:13: ModelWarning: Optimization did not converge. Forecasts may be unstable.\n",
      "  warnings.warn(message, warning_type)\n"
     ]
    },
    {
     "name": "stdout",
     "output_type": "stream",
     "text": [
      "119200 53 8398 0\n",
      "119210 53 7458 0.0\n",
      "119220 53 7882 0.0\n",
      "119230 53 7793 2.0\n",
      "119240 53 3477 0.0\n",
      "119250 53 8686 0.0\n"
     ]
    },
    {
     "name": "stderr",
     "output_type": "stream",
     "text": [
      "/dados/anaconda3/lib/python3.7/site-packages/tbats/error/ExceptionHandler.py:13: ModelWarning: Optimization did not converge. Forecasts may be unstable.\n",
      "  warnings.warn(message, warning_type)\n"
     ]
    },
    {
     "name": "stdout",
     "output_type": "stream",
     "text": [
      "119260 53 20560 0\n",
      "119270 53 19874 0\n",
      "119280 53 17869 0.0\n"
     ]
    },
    {
     "name": "stderr",
     "output_type": "stream",
     "text": [
      "/dados/anaconda3/lib/python3.7/site-packages/tbats/error/ExceptionHandler.py:13: ModelWarning: Optimization did not converge. Forecasts may be unstable.\n",
      "  warnings.warn(message, warning_type)\n"
     ]
    },
    {
     "name": "stdout",
     "output_type": "stream",
     "text": [
      "119290 53 21548 0\n"
     ]
    },
    {
     "name": "stderr",
     "output_type": "stream",
     "text": [
      "/dados/anaconda3/lib/python3.7/site-packages/tbats/error/ExceptionHandler.py:13: ModelWarning: Optimization did not converge. Forecasts may be unstable.\n",
      "  warnings.warn(message, warning_type)\n"
     ]
    },
    {
     "name": "stdout",
     "output_type": "stream",
     "text": [
      "119300 53 18255 0.0\n",
      "119310 53 2639 0.0\n",
      "119320 53 21827 0\n"
     ]
    },
    {
     "name": "stderr",
     "output_type": "stream",
     "text": [
      "/dados/anaconda3/lib/python3.7/site-packages/tbats/error/ExceptionHandler.py:13: ModelWarning: Optimization did not converge. Forecasts may be unstable.\n",
      "  warnings.warn(message, warning_type)\n"
     ]
    },
    {
     "name": "stdout",
     "output_type": "stream",
     "text": [
      "119330 53 1238 0\n",
      "119340 53 1247 0.0\n",
      "119350 53 269 0\n",
      "119360 53 687 0.0\n"
     ]
    },
    {
     "name": "stderr",
     "output_type": "stream",
     "text": [
      "/dados/anaconda3/lib/python3.7/site-packages/tbats/error/ExceptionHandler.py:13: ModelWarning: Optimization did not converge. Forecasts may be unstable.\n",
      "  warnings.warn(message, warning_type)\n"
     ]
    },
    {
     "name": "stdout",
     "output_type": "stream",
     "text": [
      "119370 53 93 0\n"
     ]
    },
    {
     "name": "stderr",
     "output_type": "stream",
     "text": [
      "/dados/anaconda3/lib/python3.7/site-packages/tbats/error/ExceptionHandler.py:13: ModelWarning: Optimization did not converge. Forecasts may be unstable.\n",
      "  warnings.warn(message, warning_type)\n"
     ]
    },
    {
     "name": "stdout",
     "output_type": "stream",
     "text": [
      "119380 53 20718 0\n"
     ]
    },
    {
     "name": "stderr",
     "output_type": "stream",
     "text": [
      "/dados/anaconda3/lib/python3.7/site-packages/tbats/error/ExceptionHandler.py:13: ModelWarning: Optimization did not converge. Forecasts may be unstable.\n",
      "  warnings.warn(message, warning_type)\n"
     ]
    },
    {
     "name": "stdout",
     "output_type": "stream",
     "text": [
      "119390 53 42 0\n"
     ]
    },
    {
     "name": "stderr",
     "output_type": "stream",
     "text": [
      "/dados/anaconda3/lib/python3.7/site-packages/tbats/error/ExceptionHandler.py:13: ModelWarning: Optimization did not converge. Forecasts may be unstable.\n",
      "  warnings.warn(message, warning_type)\n"
     ]
    },
    {
     "name": "stdout",
     "output_type": "stream",
     "text": [
      "119400 53 21842 0.0\n",
      "119410 53 2324 0\n",
      "119420 53 1663 0.0\n"
     ]
    },
    {
     "name": "stderr",
     "output_type": "stream",
     "text": [
      "/dados/anaconda3/lib/python3.7/site-packages/tbats/error/ExceptionHandler.py:13: ModelWarning: Optimization did not converge. Forecasts may be unstable.\n",
      "  warnings.warn(message, warning_type)\n"
     ]
    },
    {
     "name": "stdout",
     "output_type": "stream",
     "text": [
      "119430 53 3080 0\n",
      "119440 53 2886 1.0\n",
      "119450 53 13587 0\n",
      "119460 53 13691 0\n",
      "119470 53 15169 0.0\n",
      "119480 53 14973 0\n"
     ]
    },
    {
     "name": "stderr",
     "output_type": "stream",
     "text": [
      "/dados/anaconda3/lib/python3.7/site-packages/tbats/error/ExceptionHandler.py:13: ModelWarning: Optimization did not converge. Forecasts may be unstable.\n",
      "  warnings.warn(message, warning_type)\n"
     ]
    },
    {
     "name": "stdout",
     "output_type": "stream",
     "text": [
      "119490 53 13113 0\n",
      "119500 53 11711 1.0\n",
      "119510 53 13231 0\n"
     ]
    },
    {
     "name": "stderr",
     "output_type": "stream",
     "text": [
      "/dados/anaconda3/lib/python3.7/site-packages/tbats/error/ExceptionHandler.py:13: ModelWarning: Optimization did not converge. Forecasts may be unstable.\n",
      "  warnings.warn(message, warning_type)\n"
     ]
    },
    {
     "name": "stdout",
     "output_type": "stream",
     "text": [
      "119520 53 18677 1.0\n",
      "119530 53 18686 0\n"
     ]
    },
    {
     "name": "stderr",
     "output_type": "stream",
     "text": [
      "/dados/anaconda3/lib/python3.7/site-packages/tbats/error/ExceptionHandler.py:13: ModelWarning: Optimization did not converge. Forecasts may be unstable.\n",
      "  warnings.warn(message, warning_type)\n"
     ]
    },
    {
     "name": "stdout",
     "output_type": "stream",
     "text": [
      "119540 53 20374 0.0\n",
      "119550 53 20571 0\n",
      "119560 53 19621 0\n",
      "119570 53 16036 1.0\n",
      "119580 53 15276 0.0\n"
     ]
    },
    {
     "name": "stderr",
     "output_type": "stream",
     "text": [
      "/dados/anaconda3/lib/python3.7/site-packages/tbats/error/ExceptionHandler.py:13: ModelWarning: Optimization did not converge. Forecasts may be unstable.\n",
      "  warnings.warn(message, warning_type)\n"
     ]
    },
    {
     "name": "stdout",
     "output_type": "stream",
     "text": [
      "119590 53 16177 0\n",
      "119600 53 8687 0.0\n",
      "119610 53 9171 0\n",
      "119620 53 9366 0\n",
      "119630 53 7459 0.0\n",
      "119640 53 8148 0\n",
      "119650 53 8510 0\n",
      "119660 53 9449 0\n"
     ]
    },
    {
     "name": "stderr",
     "output_type": "stream",
     "text": [
      "/dados/anaconda3/lib/python3.7/site-packages/tbats/error/ExceptionHandler.py:13: ModelWarning: Optimization did not converge. Forecasts may be unstable.\n",
      "  warnings.warn(message, warning_type)\n"
     ]
    },
    {
     "name": "stdout",
     "output_type": "stream",
     "text": [
      "119670 53 10786 1.0\n",
      "119680 53 10669 0\n",
      "119690 53 11379 0\n",
      "119700 53 11542 0\n",
      "119710 53 10893 0\n"
     ]
    },
    {
     "name": "stderr",
     "output_type": "stream",
     "text": [
      "/dados/anaconda3/lib/python3.7/site-packages/tbats/error/ExceptionHandler.py:13: ModelWarning: Optimization did not converge. Forecasts may be unstable.\n",
      "  warnings.warn(message, warning_type)\n"
     ]
    },
    {
     "name": "stdout",
     "output_type": "stream",
     "text": [
      "119720 53 9539 0.0\n"
     ]
    },
    {
     "name": "stderr",
     "output_type": "stream",
     "text": [
      "/dados/anaconda3/lib/python3.7/site-packages/tbats/error/ExceptionHandler.py:13: ModelWarning: Optimization did not converge. Forecasts may be unstable.\n",
      "  warnings.warn(message, warning_type)\n",
      "/dados/anaconda3/lib/python3.7/site-packages/tbats/error/ExceptionHandler.py:13: ModelWarning: Optimization did not converge. Forecasts may be unstable.\n",
      "  warnings.warn(message, warning_type)\n"
     ]
    },
    {
     "name": "stdout",
     "output_type": "stream",
     "text": [
      "119730 53 10325 1.0\n",
      "119740 53 9840 0\n",
      "119750 53 10003 0\n",
      "119760 53 4708 0.0\n",
      "119770 53 4604 0.0\n",
      "119780 53 5323 1.0\n",
      "119790 53 3897 0.0\n",
      "119800 53 3919 0\n",
      "119810 53 3787 1.0\n",
      "119820 53 4088 0\n",
      "119830 53 6695 0\n",
      "119840 53 6378 0.0\n",
      "119850 53 6857 1.0\n"
     ]
    },
    {
     "name": "stderr",
     "output_type": "stream",
     "text": [
      "/dados/anaconda3/lib/python3.7/site-packages/tbats/error/ExceptionHandler.py:13: ModelWarning: Optimization did not converge. Forecasts may be unstable.\n",
      "  warnings.warn(message, warning_type)\n"
     ]
    },
    {
     "name": "stdout",
     "output_type": "stream",
     "text": [
      "119860 53 5659 0.0\n",
      "119870 53 3354 0\n",
      "119880 53 1538 0.0\n",
      "119890 53 22111 0\n",
      "119900 53 9019 0.0\n",
      "119910 53 11968 1.0\n"
     ]
    },
    {
     "name": "stderr",
     "output_type": "stream",
     "text": [
      "/dados/anaconda3/lib/python3.7/site-packages/tbats/error/ExceptionHandler.py:13: ModelWarning: Optimization did not converge. Forecasts may be unstable.\n",
      "  warnings.warn(message, warning_type)\n"
     ]
    },
    {
     "name": "stdout",
     "output_type": "stream",
     "text": [
      "119920 53 6027 1.0\n",
      "119930 53 18361 0\n",
      "119940 53 18629 0\n",
      "119950 53 17883 0\n",
      "119960 53 18108 1.0\n",
      "119970 53 19126 0.0\n",
      "119980 53 19488 0\n"
     ]
    },
    {
     "name": "stderr",
     "output_type": "stream",
     "text": [
      "/dados/anaconda3/lib/python3.7/site-packages/tbats/error/ExceptionHandler.py:13: ModelWarning: Optimization did not converge. Forecasts may be unstable.\n",
      "  warnings.warn(message, warning_type)\n"
     ]
    },
    {
     "name": "stdout",
     "output_type": "stream",
     "text": [
      "119990 53 18759 0\n",
      "120000 53 18979 0\n",
      "120010 53 3236 0.0\n",
      "120020 53 19588 1.0\n",
      "120030 53 20952 0\n",
      "120040 53 21207 0\n",
      "120050 53 20833 0\n",
      "120060 53 20274 0.0\n",
      "120070 53 21795 0\n",
      "120080 53 21792 0.0\n"
     ]
    },
    {
     "name": "stderr",
     "output_type": "stream",
     "text": [
      "/dados/anaconda3/lib/python3.7/site-packages/tbats/error/ExceptionHandler.py:13: ModelWarning: Optimization did not converge. Forecasts may be unstable.\n",
      "  warnings.warn(message, warning_type)\n"
     ]
    },
    {
     "name": "stdout",
     "output_type": "stream",
     "text": [
      "120090 53 19951 0\n",
      "120100 53 19852 0\n"
     ]
    },
    {
     "name": "stderr",
     "output_type": "stream",
     "text": [
      "/dados/anaconda3/lib/python3.7/site-packages/tbats/error/ExceptionHandler.py:13: ModelWarning: Optimization did not converge. Forecasts may be unstable.\n",
      "  warnings.warn(message, warning_type)\n",
      "/dados/anaconda3/lib/python3.7/site-packages/tbats/error/ExceptionHandler.py:13: ModelWarning: Optimization did not converge. Forecasts may be unstable.\n",
      "  warnings.warn(message, warning_type)\n"
     ]
    },
    {
     "name": "stdout",
     "output_type": "stream",
     "text": [
      "120110 53 20600 0\n",
      "120120 53 20581 0\n",
      "120130 53 6312 7.0\n",
      "120140 53 3634 0.0\n",
      "120150 53 4707 1.0\n",
      "120160 53 8888 0.0\n",
      "120170 53 10099 0.0\n",
      "120180 53 6807 0\n",
      "120190 53 8112 0.0\n",
      "120200 53 19118 1.0\n",
      "120210 53 21790 0\n",
      "120220 53 13630 0\n",
      "120230 53 15478 0\n",
      "120240 53 15226 1.0\n"
     ]
    },
    {
     "name": "stderr",
     "output_type": "stream",
     "text": [
      "/dados/anaconda3/lib/python3.7/site-packages/tbats/error/ExceptionHandler.py:13: ModelWarning: Optimization did not converge. Forecasts may be unstable.\n",
      "  warnings.warn(message, warning_type)\n"
     ]
    },
    {
     "name": "stdout",
     "output_type": "stream",
     "text": [
      "120250 53 2585 0.0\n",
      "120260 53 2213 0\n",
      "120270 53 1611 0.0\n",
      "120280 53 12504 0.0\n",
      "120290 53 13445 0\n",
      "120300 53 11915 0.0\n"
     ]
    },
    {
     "name": "stderr",
     "output_type": "stream",
     "text": [
      "/dados/anaconda3/lib/python3.7/site-packages/tbats/error/ExceptionHandler.py:13: ModelWarning: Optimization did not converge. Forecasts may be unstable.\n",
      "  warnings.warn(message, warning_type)\n"
     ]
    },
    {
     "name": "stdout",
     "output_type": "stream",
     "text": [
      "120310 53 20739 0.0\n",
      "120320 53 21196 0\n",
      "120330 53 14108 0\n",
      "120340 53 3457 0\n",
      "120350 53 3096 0\n",
      "120360 53 15260 0.0\n",
      "120370 53 17157 0\n",
      "120380 53 413 0\n",
      "120390 53 1010 0.0\n",
      "120400 53 4364 2.0\n",
      "120410 53 6528 0\n"
     ]
    },
    {
     "name": "stderr",
     "output_type": "stream",
     "text": [
      "/dados/anaconda3/lib/python3.7/site-packages/tbats/error/ExceptionHandler.py:13: ModelWarning: Optimization did not converge. Forecasts may be unstable.\n",
      "  warnings.warn(message, warning_type)\n"
     ]
    },
    {
     "name": "stdout",
     "output_type": "stream",
     "text": [
      "120420 53 5470 0.0\n",
      "120430 53 19337 0\n",
      "120440 53 18017 0\n",
      "120450 53 14892 1.0\n",
      "120460 53 20393 0\n",
      "120470 53 15171 0\n",
      "120480 53 16093 0\n",
      "120490 53 16111 0.0\n",
      "120500 53 14962 0\n",
      "120510 53 16207 0.0\n"
     ]
    },
    {
     "name": "stderr",
     "output_type": "stream",
     "text": [
      "/dados/anaconda3/lib/python3.7/site-packages/tbats/error/ExceptionHandler.py:13: ModelWarning: Optimization did not converge. Forecasts may be unstable.\n",
      "  warnings.warn(message, warning_type)\n"
     ]
    },
    {
     "name": "stdout",
     "output_type": "stream",
     "text": [
      "120520 53 16786 0\n"
     ]
    },
    {
     "name": "stderr",
     "output_type": "stream",
     "text": [
      "/dados/anaconda3/lib/python3.7/site-packages/tbats/error/ExceptionHandler.py:13: ModelWarning: Optimization did not converge. Forecasts may be unstable.\n",
      "  warnings.warn(message, warning_type)\n"
     ]
    },
    {
     "name": "stdout",
     "output_type": "stream",
     "text": [
      "120530 53 8157 0\n",
      "120540 53 13448 0\n",
      "120550 53 13224 0\n",
      "120560 53 13512 0.0\n",
      "120570 53 13288 0\n",
      "120580 53 14164 0\n",
      "120590 53 12808 1.0\n",
      "120600 53 13647 0\n",
      "120610 53 12332 0\n",
      "120620 53 12091 0.0\n",
      "120630 53 11268 0\n",
      "120640 53 13223 0\n",
      "120650 53 13221 0\n"
     ]
    },
    {
     "name": "stderr",
     "output_type": "stream",
     "text": [
      "/dados/anaconda3/lib/python3.7/site-packages/tbats/error/ExceptionHandler.py:13: ModelWarning: Optimization did not converge. Forecasts may be unstable.\n",
      "  warnings.warn(message, warning_type)\n"
     ]
    },
    {
     "name": "stdout",
     "output_type": "stream",
     "text": [
      "120660 53 16179 0.0\n",
      "120670 53 15524 0.0\n",
      "120680 53 16045 3.0\n",
      "120690 53 16910 0\n",
      "120700 53 15667 0\n",
      "120710 53 16243 0\n",
      "120720 53 16349 0.0\n",
      "120730 53 15015 0\n",
      "120740 53 15134 0\n",
      "120750 53 14987 0\n",
      "120760 53 15318 0\n",
      "120770 53 15168 0\n",
      "120780 53 15220 0\n"
     ]
    },
    {
     "name": "stderr",
     "output_type": "stream",
     "text": [
      "/dados/anaconda3/lib/python3.7/site-packages/tbats/error/ExceptionHandler.py:13: ModelWarning: Optimization did not converge. Forecasts may be unstable.\n",
      "  warnings.warn(message, warning_type)\n"
     ]
    },
    {
     "name": "stdout",
     "output_type": "stream",
     "text": [
      "120790 53 6870 0\n",
      "120800 53 4480 0.0\n"
     ]
    },
    {
     "name": "stderr",
     "output_type": "stream",
     "text": [
      "/dados/anaconda3/lib/python3.7/site-packages/tbats/error/ExceptionHandler.py:13: ModelWarning: Optimization did not converge. Forecasts may be unstable.\n",
      "  warnings.warn(message, warning_type)\n"
     ]
    },
    {
     "name": "stdout",
     "output_type": "stream",
     "text": [
      "120810 53 5063 0\n",
      "120820 53 5155 0\n",
      "120830 53 5187 0\n",
      "120840 53 5121 0\n",
      "120850 53 10069 0\n",
      "120860 53 10287 0.0\n",
      "120870 53 10180 0\n",
      "120880 53 10772 1.0\n"
     ]
    },
    {
     "name": "stderr",
     "output_type": "stream",
     "text": [
      "/dados/anaconda3/lib/python3.7/site-packages/tbats/error/ExceptionHandler.py:13: ModelWarning: Optimization did not converge. Forecasts may be unstable.\n",
      "  warnings.warn(message, warning_type)\n"
     ]
    },
    {
     "name": "stdout",
     "output_type": "stream",
     "text": [
      "120890 53 11363 0\n",
      "120900 53 11044 0.0\n",
      "120910 53 8459 0\n",
      "120920 53 8363 0.0\n",
      "120930 53 7580 0\n",
      "120940 53 8968 0\n",
      "120950 53 9338 0\n",
      "120960 53 8428 0\n"
     ]
    },
    {
     "name": "stderr",
     "output_type": "stream",
     "text": [
      "/dados/anaconda3/lib/python3.7/site-packages/tbats/error/ExceptionHandler.py:13: ModelWarning: Optimization did not converge. Forecasts may be unstable.\n",
      "  warnings.warn(message, warning_type)\n"
     ]
    },
    {
     "name": "stdout",
     "output_type": "stream",
     "text": [
      "120970 53 14361 0.0\n",
      "120980 53 547 0\n"
     ]
    },
    {
     "name": "stderr",
     "output_type": "stream",
     "text": [
      "/dados/anaconda3/lib/python3.7/site-packages/tbats/error/ExceptionHandler.py:13: ModelWarning: Optimization did not converge. Forecasts may be unstable.\n",
      "  warnings.warn(message, warning_type)\n"
     ]
    },
    {
     "name": "stdout",
     "output_type": "stream",
     "text": [
      "120990 53 12743 0\n",
      "121000 53 20517 0\n"
     ]
    },
    {
     "name": "stderr",
     "output_type": "stream",
     "text": [
      "/dados/anaconda3/lib/python3.7/site-packages/tbats/error/ExceptionHandler.py:13: ModelWarning: Optimization did not converge. Forecasts may be unstable.\n",
      "  warnings.warn(message, warning_type)\n"
     ]
    },
    {
     "name": "stdout",
     "output_type": "stream",
     "text": [
      "121010 53 7924 1.0\n",
      "121020 53 3239 0.0\n",
      "121030 53 15458 0.0\n",
      "121040 53 18025 0\n"
     ]
    },
    {
     "name": "stderr",
     "output_type": "stream",
     "text": [
      "/dados/anaconda3/lib/python3.7/site-packages/tbats/error/ExceptionHandler.py:13: ModelWarning: Optimization did not converge. Forecasts may be unstable.\n",
      "  warnings.warn(message, warning_type)\n"
     ]
    },
    {
     "name": "stdout",
     "output_type": "stream",
     "text": [
      "121050 53 15031 0.0\n",
      "121060 53 14984 0\n"
     ]
    },
    {
     "name": "stderr",
     "output_type": "stream",
     "text": [
      "/dados/anaconda3/lib/python3.7/site-packages/tbats/error/ExceptionHandler.py:13: ModelWarning: Optimization did not converge. Forecasts may be unstable.\n",
      "  warnings.warn(message, warning_type)\n",
      "/dados/anaconda3/lib/python3.7/site-packages/tbats/error/ExceptionHandler.py:13: ModelWarning: Optimization did not converge. Forecasts may be unstable.\n",
      "  warnings.warn(message, warning_type)\n"
     ]
    },
    {
     "name": "stdout",
     "output_type": "stream",
     "text": [
      "121070 53 1254 0\n",
      "121080 53 18968 0\n",
      "121090 53 21139 0\n",
      "121100 53 3273 0\n"
     ]
    },
    {
     "name": "stderr",
     "output_type": "stream",
     "text": [
      "/dados/anaconda3/lib/python3.7/site-packages/tbats/error/ExceptionHandler.py:13: ModelWarning: Optimization did not converge. Forecasts may be unstable.\n",
      "  warnings.warn(message, warning_type)\n"
     ]
    },
    {
     "name": "stdout",
     "output_type": "stream",
     "text": [
      "121110 53 13407 0\n"
     ]
    },
    {
     "name": "stderr",
     "output_type": "stream",
     "text": [
      "/dados/anaconda3/lib/python3.7/site-packages/tbats/error/ExceptionHandler.py:13: ModelWarning: Optimization did not converge. Forecasts may be unstable.\n",
      "  warnings.warn(message, warning_type)\n"
     ]
    },
    {
     "name": "stdout",
     "output_type": "stream",
     "text": [
      "121120 53 21692 0\n"
     ]
    },
    {
     "name": "stderr",
     "output_type": "stream",
     "text": [
      "/dados/anaconda3/lib/python3.7/site-packages/tbats/error/ExceptionHandler.py:13: ModelWarning: Optimization did not converge. Forecasts may be unstable.\n",
      "  warnings.warn(message, warning_type)\n"
     ]
    },
    {
     "name": "stdout",
     "output_type": "stream",
     "text": [
      "121130 53 19127 0\n",
      "121140 53 16953 0.0\n",
      "121150 53 21400 0.0\n",
      "121160 53 20334 0\n",
      "121170 53 13693 0\n"
     ]
    },
    {
     "name": "stderr",
     "output_type": "stream",
     "text": [
      "/dados/anaconda3/lib/python3.7/site-packages/tbats/error/ExceptionHandler.py:13: ModelWarning: Optimization did not converge. Forecasts may be unstable.\n",
      "  warnings.warn(message, warning_type)\n"
     ]
    },
    {
     "name": "stdout",
     "output_type": "stream",
     "text": [
      "121180 53 12474 0\n",
      "121190 53 8468 0\n",
      "121200 53 11302 0\n",
      "121210 53 448 0\n",
      "121220 53 5272 0.0\n",
      "121230 53 6028 0\n",
      "121240 53 8855 0\n",
      "121250 53 2540 1.0\n"
     ]
    }
   ],
   "source": [
    "estimator = TBATS(seasonal_periods=(12,), n_jobs=8)\n",
    "\n",
    "for index, row in df_test.iterrows():\n",
    "#for index, row in df_test.head(10).iterrows():\n",
    "    if (last_id and index <= last_id):\n",
    "      continue\n",
    "\n",
    "    shop_id = row['shop_id']\n",
    "    item_id = row['item_id']\n",
    "    #print(index, shop_id, item_id)\n",
    "\n",
    "    #df_sale = df_train.loc[shop_id, item_id][['item_cnt_sum']]\n",
    "    df_sale = df_train.query('(shop_id == %d) & (item_id == %d)' % (shop_id, item_id))[['item_cnt_sum']]\n",
    "    if (not df_sale.empty):\n",
    "\n",
    "      df_sale = df_sale.reset_index().drop(columns=['shop_id', 'item_id']).set_index('date_block_num')\n",
    "      df_sale = pd.merge(\n",
    "        pd.DataFrame({'date_block_num': np.arange(df_sale.index.min(), 34)}).set_index('date_block_num'),\n",
    "        df_sale, how='left', left_index=True, right_index=True)\n",
    "      df_sale['item_cnt_sum'] = df_sale['item_cnt_sum'].fillna(0).astype(np.int32)\n",
    "      #df_sale['item_price_mean'] = df_sale['item_price_mean'].fillna(\n",
    "      #  method='bfill').fillna(method='ffill').astype(np.int32)\n",
    "\n",
    "      if (df_sale.shape[0] >= 4):\n",
    "          model = estimator.fit(df_sale['item_cnt_sum'])\n",
    "          y_pred = model.forecast(steps=1)\n",
    "          y_pred = y_pred[0].round().clip(0, 20)\n",
    "          #y_pred = y_pred[0].round().clip(0, 20).astype(np.int32)\n",
    "      else:\n",
    "          y_pred = 0\n",
    "    else:\n",
    "      y_pred = 0\n",
    "    \n",
    "    outfile.write(\"%d,%.1f\\n\" % (index, y_pred))\n",
    "\n",
    "    if (index % 10 == 0):\n",
    "      outfile.flush()\n",
    "      print(index, shop_id, item_id, y_pred)\n",
    "\n",
    "outfile.close()"
   ]
  },
  {
   "cell_type": "code",
   "execution_count": 0,
   "metadata": {
    "colab": {},
    "colab_type": "code",
    "id": "6iNmPSPmBRdZ"
   },
   "outputs": [],
   "source": []
  },
  {
   "cell_type": "raw",
   "metadata": {
    "colab": {
     "base_uri": "https://localhost:8080/",
     "height": 359
    },
    "colab_type": "code",
    "id": "fCkRPZnxiVeQ",
    "outputId": "b5e5c161-e42c-4c17-dd6a-cb7792f26d04"
   },
   "source": [
    "#10209 6 5003\n",
    "#10251 6 5839\n",
    "shop_id = 6\n",
    "item_id = 5839\n",
    "\n",
    "df_sale = df_train.query('(shop_id == %d) & (item_id == %d)' % (shop_id, item_id))[['item_cnt_sum']]\n",
    "print('empty?', df_sale.empty)\n",
    "df_sale = df_sale.reset_index().drop(columns=['shop_id', 'item_id']).set_index('date_block_num')\n",
    "print('min month', df_sale.index.min())\n",
    "\n",
    "df_sale = pd.merge(\n",
    "  pd.DataFrame({'date_block_num': np.arange(df_sale.index.min(), 34)}).set_index('date_block_num'),\n",
    "  df_sale, how='left', left_index=True, right_index=True)\n",
    "df_sale['item_cnt_sum'] = df_sale['item_cnt_sum'].fillna(0).astype(np.int32)\n",
    "\n",
    "print('count:', df_sale.shape[0])\n",
    "\n",
    "model = estimator.fit(df_sale['item_cnt_sum'])\n",
    "\n",
    "df_sale"
   ]
  },
  {
   "cell_type": "code",
   "execution_count": null,
   "metadata": {},
   "outputs": [],
   "source": []
  },
  {
   "cell_type": "code",
   "execution_count": null,
   "metadata": {},
   "outputs": [],
   "source": []
  },
  {
   "cell_type": "code",
   "execution_count": 37,
   "metadata": {},
   "outputs": [
    {
     "data": {
      "text/html": [
       "<div>\n",
       "<style scoped>\n",
       "    .dataframe tbody tr th:only-of-type {\n",
       "        vertical-align: middle;\n",
       "    }\n",
       "\n",
       "    .dataframe tbody tr th {\n",
       "        vertical-align: top;\n",
       "    }\n",
       "\n",
       "    .dataframe thead th {\n",
       "        text-align: right;\n",
       "    }\n",
       "</style>\n",
       "<table border=\"1\" class=\"dataframe\">\n",
       "  <thead>\n",
       "    <tr style=\"text-align: right;\">\n",
       "      <th></th>\n",
       "      <th></th>\n",
       "      <th></th>\n",
       "      <th>item_cnt_sum</th>\n",
       "    </tr>\n",
       "    <tr>\n",
       "      <th>shop_id</th>\n",
       "      <th>item_id</th>\n",
       "      <th>date_block_num</th>\n",
       "      <th></th>\n",
       "    </tr>\n",
       "  </thead>\n",
       "  <tbody>\n",
       "    <tr>\n",
       "      <th rowspan=\"2\" valign=\"top\">6</th>\n",
       "      <th rowspan=\"2\" valign=\"top\">5003</th>\n",
       "      <th>32</th>\n",
       "      <td>2</td>\n",
       "    </tr>\n",
       "    <tr>\n",
       "      <th>33</th>\n",
       "      <td>3</td>\n",
       "    </tr>\n",
       "  </tbody>\n",
       "</table>\n",
       "</div>"
      ],
      "text/plain": [
       "                                item_cnt_sum\n",
       "shop_id item_id date_block_num              \n",
       "6       5003    32                         2\n",
       "                33                         3"
      ]
     },
     "execution_count": 37,
     "metadata": {},
     "output_type": "execute_result"
    }
   ],
   "source": [
    "df_train.query('(shop_id == %d) & (item_id == %d)' % (6, 5003))[['item_cnt_sum']] #10209 6 5003"
   ]
  },
  {
   "cell_type": "code",
   "execution_count": null,
   "metadata": {},
   "outputs": [],
   "source": []
  },
  {
   "cell_type": "raw",
   "metadata": {
    "colab": {
     "base_uri": "https://localhost:8080/",
     "height": 163
    },
    "colab_type": "code",
    "id": "Od-fxe81iAWr",
    "outputId": "738cbddc-a1eb-4569-9ea2-f8c67ba60501"
   },
   "source": [
    "df_train[(df_train.index.shop_id == 5) & (df_train.index.item_id == 5037)] 6 5003"
   ]
  },
  {
   "cell_type": "code",
   "execution_count": 164,
   "metadata": {
    "colab": {
     "base_uri": "https://localhost:8080/",
     "height": 359
    },
    "colab_type": "code",
    "id": "iMLx4kZQfxgl",
    "outputId": "3614c8d0-287a-4801-a4e1-a948e6516a00"
   },
   "outputs": [
    {
     "data": {
      "text/html": [
       "<div>\n",
       "<style scoped>\n",
       "    .dataframe tbody tr th:only-of-type {\n",
       "        vertical-align: middle;\n",
       "    }\n",
       "\n",
       "    .dataframe tbody tr th {\n",
       "        vertical-align: top;\n",
       "    }\n",
       "\n",
       "    .dataframe thead th {\n",
       "        text-align: right;\n",
       "    }\n",
       "</style>\n",
       "<table border=\"1\" class=\"dataframe\">\n",
       "  <thead>\n",
       "    <tr style=\"text-align: right;\">\n",
       "      <th></th>\n",
       "      <th>item_price_mean</th>\n",
       "      <th>item_cnt_sum</th>\n",
       "    </tr>\n",
       "    <tr>\n",
       "      <th>date_block_num</th>\n",
       "      <th></th>\n",
       "      <th></th>\n",
       "    </tr>\n",
       "  </thead>\n",
       "  <tbody>\n",
       "    <tr>\n",
       "      <th>20</th>\n",
       "      <td>2599</td>\n",
       "      <td>1</td>\n",
       "    </tr>\n",
       "    <tr>\n",
       "      <th>22</th>\n",
       "      <td>2599</td>\n",
       "      <td>1</td>\n",
       "    </tr>\n",
       "    <tr>\n",
       "      <th>23</th>\n",
       "      <td>1999</td>\n",
       "      <td>2</td>\n",
       "    </tr>\n",
       "    <tr>\n",
       "      <th>24</th>\n",
       "      <td>1999</td>\n",
       "      <td>2</td>\n",
       "    </tr>\n",
       "    <tr>\n",
       "      <th>28</th>\n",
       "      <td>1299</td>\n",
       "      <td>1</td>\n",
       "    </tr>\n",
       "    <tr>\n",
       "      <th>29</th>\n",
       "      <td>1499</td>\n",
       "      <td>1</td>\n",
       "    </tr>\n",
       "    <tr>\n",
       "      <th>30</th>\n",
       "      <td>1499</td>\n",
       "      <td>1</td>\n",
       "    </tr>\n",
       "    <tr>\n",
       "      <th>31</th>\n",
       "      <td>1000</td>\n",
       "      <td>3</td>\n",
       "    </tr>\n",
       "    <tr>\n",
       "      <th>32</th>\n",
       "      <td>750</td>\n",
       "      <td>1</td>\n",
       "    </tr>\n",
       "  </tbody>\n",
       "</table>\n",
       "</div>"
      ],
      "text/plain": [
       "                item_price_mean  item_cnt_sum\n",
       "date_block_num                               \n",
       "20                         2599             1\n",
       "22                         2599             1\n",
       "23                         1999             2\n",
       "24                         1999             2\n",
       "28                         1299             1\n",
       "29                         1499             1\n",
       "30                         1499             1\n",
       "31                         1000             3\n",
       "32                          750             1"
      ]
     },
     "execution_count": 164,
     "metadata": {
      "tags": []
     },
     "output_type": "execute_result"
    }
   ],
   "source": [
    "df_train.loc[5, 5037]"
   ]
  },
  {
   "cell_type": "raw",
   "metadata": {
    "colab": {
     "base_uri": "https://localhost:8080/",
     "height": 394
    },
    "colab_type": "code",
    "id": "I7MyioTBhNsa",
    "outputId": "beec7bc2-f475-4263-f991-be232b9a2a09"
   },
   "source": [
    "try:\n",
    "    x = df_train.loc[5, 1037]\n",
    "except KeyError:\n",
    "    x = None\n",
    "x"
   ]
  },
  {
   "cell_type": "code",
   "execution_count": 0,
   "metadata": {
    "colab": {},
    "colab_type": "code",
    "id": "8bTtdySSfx7n"
   },
   "outputs": [],
   "source": []
  },
  {
   "cell_type": "code",
   "execution_count": 0,
   "metadata": {
    "colab": {
     "base_uri": "https://localhost:8080/",
     "height": 119
    },
    "colab_type": "code",
    "id": "1M1hT_Ejt-K2",
    "outputId": "59dd7c18-1757-4a10-8f46-f2db8c62c269"
   },
   "outputs": [
    {
     "data": {
      "text/plain": [
       "Int64Index([     0,      1,      2,      3,      4,      5,      6,      7,\n",
       "                 8,      9,\n",
       "            ...\n",
       "            214190, 214191, 214192, 214193, 214194, 214195, 214196, 214197,\n",
       "            214198, 214199],\n",
       "           dtype='int64', name='ID', length=214200)"
      ]
     },
     "execution_count": 24,
     "metadata": {
      "tags": []
     },
     "output_type": "execute_result"
    }
   ],
   "source": [
    "ids = df_test.index\n",
    "ids"
   ]
  },
  {
   "cell_type": "code",
   "execution_count": 0,
   "metadata": {
    "colab": {
     "base_uri": "https://localhost:8080/",
     "height": 204
    },
    "colab_type": "code",
    "id": "buZJHLvxr7Ry",
    "outputId": "4e55b5cb-2325-406d-c750-dadac7f473b7"
   },
   "outputs": [
    {
     "data": {
      "text/html": [
       "<div>\n",
       "<style scoped>\n",
       "    .dataframe tbody tr th:only-of-type {\n",
       "        vertical-align: middle;\n",
       "    }\n",
       "\n",
       "    .dataframe tbody tr th {\n",
       "        vertical-align: top;\n",
       "    }\n",
       "\n",
       "    .dataframe thead th {\n",
       "        text-align: right;\n",
       "    }\n",
       "</style>\n",
       "<table border=\"1\" class=\"dataframe\">\n",
       "  <thead>\n",
       "    <tr style=\"text-align: right;\">\n",
       "      <th></th>\n",
       "      <th>shop_id</th>\n",
       "      <th>item_id</th>\n",
       "    </tr>\n",
       "  </thead>\n",
       "  <tbody>\n",
       "    <tr>\n",
       "      <th>0</th>\n",
       "      <td>5</td>\n",
       "      <td>5037</td>\n",
       "    </tr>\n",
       "    <tr>\n",
       "      <th>1</th>\n",
       "      <td>5</td>\n",
       "      <td>5320</td>\n",
       "    </tr>\n",
       "    <tr>\n",
       "      <th>2</th>\n",
       "      <td>5</td>\n",
       "      <td>5233</td>\n",
       "    </tr>\n",
       "    <tr>\n",
       "      <th>3</th>\n",
       "      <td>5</td>\n",
       "      <td>5232</td>\n",
       "    </tr>\n",
       "    <tr>\n",
       "      <th>4</th>\n",
       "      <td>5</td>\n",
       "      <td>5268</td>\n",
       "    </tr>\n",
       "  </tbody>\n",
       "</table>\n",
       "</div>"
      ],
      "text/plain": [
       "   shop_id  item_id\n",
       "0        5     5037\n",
       "1        5     5320\n",
       "2        5     5233\n",
       "3        5     5232\n",
       "4        5     5268"
      ]
     },
     "execution_count": 25,
     "metadata": {
      "tags": []
     },
     "output_type": "execute_result"
    }
   ],
   "source": [
    "X_pred = df_test.copy().reset_index().drop(columns=['ID'])\n",
    "X_pred.head()"
   ]
  },
  {
   "cell_type": "code",
   "execution_count": 0,
   "metadata": {
    "colab": {
     "base_uri": "https://localhost:8080/",
     "height": 252
    },
    "colab_type": "code",
    "id": "lzDAUaewuwKy",
    "outputId": "fc70816f-da55-46ce-9acc-64be02d9f42a"
   },
   "outputs": [
    {
     "name": "stdout",
     "output_type": "stream",
     "text": [
      "shape: (60, 3)\n"
     ]
    },
    {
     "data": {
      "text/html": [
       "<div>\n",
       "<style scoped>\n",
       "    .dataframe tbody tr th:only-of-type {\n",
       "        vertical-align: middle;\n",
       "    }\n",
       "\n",
       "    .dataframe tbody tr th {\n",
       "        vertical-align: top;\n",
       "    }\n",
       "\n",
       "    .dataframe thead th {\n",
       "        text-align: right;\n",
       "    }\n",
       "</style>\n",
       "<table border=\"1\" class=\"dataframe\">\n",
       "  <thead>\n",
       "    <tr style=\"text-align: right;\">\n",
       "      <th></th>\n",
       "      <th>city_code</th>\n",
       "    </tr>\n",
       "    <tr>\n",
       "      <th>shop_id</th>\n",
       "      <th></th>\n",
       "    </tr>\n",
       "  </thead>\n",
       "  <tbody>\n",
       "    <tr>\n",
       "      <th>0</th>\n",
       "      <td>1</td>\n",
       "    </tr>\n",
       "    <tr>\n",
       "      <th>1</th>\n",
       "      <td>1</td>\n",
       "    </tr>\n",
       "    <tr>\n",
       "      <th>2</th>\n",
       "      <td>2</td>\n",
       "    </tr>\n",
       "    <tr>\n",
       "      <th>3</th>\n",
       "      <td>3</td>\n",
       "    </tr>\n",
       "    <tr>\n",
       "      <th>4</th>\n",
       "      <td>4</td>\n",
       "    </tr>\n",
       "  </tbody>\n",
       "</table>\n",
       "</div>"
      ],
      "text/plain": [
       "        city_code\n",
       "shop_id          \n",
       "0               1\n",
       "1               1\n",
       "2               2\n",
       "3               3\n",
       "4               4"
      ]
     },
     "execution_count": 26,
     "metadata": {
      "tags": []
     },
     "output_type": "execute_result"
    }
   ],
   "source": [
    "df_shops = pd.read_csv(\n",
    "    input_prefix + '../shops_full' + '.csv' + bzfile,\n",
    "    dtype={'city_code': 'category'},\n",
    "    index_col='shop_id')\n",
    "print('shape:', df_shops.shape)\n",
    "df_shops.drop(columns=['shop_name', 'city_name'], inplace=True)\n",
    "df_shops.head()"
   ]
  },
  {
   "cell_type": "code",
   "execution_count": 0,
   "metadata": {
    "colab": {
     "base_uri": "https://localhost:8080/",
     "height": 252
    },
    "colab_type": "code",
    "id": "1WyUHn5tuxRv",
    "outputId": "bd31275e-b801-469c-b802-02336be95cf8"
   },
   "outputs": [
    {
     "name": "stdout",
     "output_type": "stream",
     "text": [
      "shape: (22170, 9)\n"
     ]
    },
    {
     "data": {
      "text/html": [
       "<div>\n",
       "<style scoped>\n",
       "    .dataframe tbody tr th:only-of-type {\n",
       "        vertical-align: middle;\n",
       "    }\n",
       "\n",
       "    .dataframe tbody tr th {\n",
       "        vertical-align: top;\n",
       "    }\n",
       "\n",
       "    .dataframe thead th {\n",
       "        text-align: right;\n",
       "    }\n",
       "</style>\n",
       "<table border=\"1\" class=\"dataframe\">\n",
       "  <thead>\n",
       "    <tr style=\"text-align: right;\">\n",
       "      <th></th>\n",
       "      <th>item_category_id</th>\n",
       "      <th>subject_code</th>\n",
       "      <th>group_code</th>\n",
       "      <th>subgroup_code</th>\n",
       "    </tr>\n",
       "    <tr>\n",
       "      <th>item_id</th>\n",
       "      <th></th>\n",
       "      <th></th>\n",
       "      <th></th>\n",
       "      <th></th>\n",
       "    </tr>\n",
       "  </thead>\n",
       "  <tbody>\n",
       "    <tr>\n",
       "      <th>0</th>\n",
       "      <td>40</td>\n",
       "      <td>1803</td>\n",
       "      <td>11</td>\n",
       "      <td>8</td>\n",
       "    </tr>\n",
       "    <tr>\n",
       "      <th>1</th>\n",
       "      <td>76</td>\n",
       "      <td>111</td>\n",
       "      <td>15</td>\n",
       "      <td>31</td>\n",
       "    </tr>\n",
       "    <tr>\n",
       "      <th>2</th>\n",
       "      <td>40</td>\n",
       "      <td>1614</td>\n",
       "      <td>11</td>\n",
       "      <td>8</td>\n",
       "    </tr>\n",
       "    <tr>\n",
       "      <th>3</th>\n",
       "      <td>40</td>\n",
       "      <td>1958</td>\n",
       "      <td>11</td>\n",
       "      <td>8</td>\n",
       "    </tr>\n",
       "    <tr>\n",
       "      <th>4</th>\n",
       "      <td>40</td>\n",
       "      <td>2630</td>\n",
       "      <td>11</td>\n",
       "      <td>8</td>\n",
       "    </tr>\n",
       "  </tbody>\n",
       "</table>\n",
       "</div>"
      ],
      "text/plain": [
       "        item_category_id subject_code group_code subgroup_code\n",
       "item_id                                                       \n",
       "0                     40         1803         11             8\n",
       "1                     76          111         15            31\n",
       "2                     40         1614         11             8\n",
       "3                     40         1958         11             8\n",
       "4                     40         2630         11             8"
      ]
     },
     "execution_count": 27,
     "metadata": {
      "tags": []
     },
     "output_type": "execute_result"
    }
   ],
   "source": [
    "df_items = pd.read_csv(\n",
    "    input_prefix + '../items_full' + '.csv' + bzfile,\n",
    "    dtype={'item_category_id': 'category', 'subject_code': 'category',\n",
    "           'group_code': 'category', 'subgroup_code': 'category'},\n",
    "    index_col='item_id')\n",
    "print('shape:', df_items.shape)\n",
    "df_items.drop(columns=['item_name', 'subject_name', 'item_category_name', 'group_name', 'subgroup_name'], inplace=True)\n",
    "df_items.head()"
   ]
  },
  {
   "cell_type": "code",
   "execution_count": 0,
   "metadata": {
    "colab": {
     "base_uri": "https://localhost:8080/",
     "height": 235
    },
    "colab_type": "code",
    "id": "ZTvlZxknsPgS",
    "outputId": "f0d26b38-8bf9-4f56-98c2-ea60dacda6c5"
   },
   "outputs": [
    {
     "data": {
      "text/html": [
       "<div>\n",
       "<style scoped>\n",
       "    .dataframe tbody tr th:only-of-type {\n",
       "        vertical-align: middle;\n",
       "    }\n",
       "\n",
       "    .dataframe tbody tr th {\n",
       "        vertical-align: top;\n",
       "    }\n",
       "\n",
       "    .dataframe thead th {\n",
       "        text-align: right;\n",
       "    }\n",
       "</style>\n",
       "<table border=\"1\" class=\"dataframe\">\n",
       "  <thead>\n",
       "    <tr style=\"text-align: right;\">\n",
       "      <th></th>\n",
       "      <th></th>\n",
       "      <th></th>\n",
       "      <th>item_price_mean</th>\n",
       "    </tr>\n",
       "    <tr>\n",
       "      <th>shop_id</th>\n",
       "      <th>item_id</th>\n",
       "      <th>date_block_num</th>\n",
       "      <th></th>\n",
       "    </tr>\n",
       "  </thead>\n",
       "  <tbody>\n",
       "    <tr>\n",
       "      <th rowspan=\"5\" valign=\"top\">5</th>\n",
       "      <th>5037</th>\n",
       "      <th>34</th>\n",
       "      <td>0</td>\n",
       "    </tr>\n",
       "    <tr>\n",
       "      <th>5320</th>\n",
       "      <th>34</th>\n",
       "      <td>0</td>\n",
       "    </tr>\n",
       "    <tr>\n",
       "      <th>5233</th>\n",
       "      <th>34</th>\n",
       "      <td>0</td>\n",
       "    </tr>\n",
       "    <tr>\n",
       "      <th>5232</th>\n",
       "      <th>34</th>\n",
       "      <td>0</td>\n",
       "    </tr>\n",
       "    <tr>\n",
       "      <th>5268</th>\n",
       "      <th>34</th>\n",
       "      <td>0</td>\n",
       "    </tr>\n",
       "  </tbody>\n",
       "</table>\n",
       "</div>"
      ],
      "text/plain": [
       "                                item_price_mean\n",
       "shop_id item_id date_block_num                 \n",
       "5       5037    34                            0\n",
       "        5320    34                            0\n",
       "        5233    34                            0\n",
       "        5232    34                            0\n",
       "        5268    34                            0"
      ]
     },
     "execution_count": 28,
     "metadata": {
      "tags": []
     },
     "output_type": "execute_result"
    }
   ],
   "source": [
    "X_pred['date_block_num'] = 34\n",
    "X_pred['item_price_mean'] = 0\n",
    "X_pred.set_index(['shop_id', 'item_id', 'date_block_num'], inplace=True)\n",
    "X_pred.head()"
   ]
  },
  {
   "cell_type": "code",
   "execution_count": 0,
   "metadata": {
    "colab": {
     "base_uri": "https://localhost:8080/",
     "height": 235
    },
    "colab_type": "code",
    "id": "8phsGtpqvHTm",
    "outputId": "96dcd377-191d-4475-d862-45f4ae91309f"
   },
   "outputs": [
    {
     "data": {
      "text/html": [
       "<div>\n",
       "<style scoped>\n",
       "    .dataframe tbody tr th:only-of-type {\n",
       "        vertical-align: middle;\n",
       "    }\n",
       "\n",
       "    .dataframe tbody tr th {\n",
       "        vertical-align: top;\n",
       "    }\n",
       "\n",
       "    .dataframe thead th {\n",
       "        text-align: right;\n",
       "    }\n",
       "</style>\n",
       "<table border=\"1\" class=\"dataframe\">\n",
       "  <thead>\n",
       "    <tr style=\"text-align: right;\">\n",
       "      <th></th>\n",
       "      <th></th>\n",
       "      <th></th>\n",
       "      <th>item_price_mean</th>\n",
       "      <th>city_code</th>\n",
       "      <th>item_category_id</th>\n",
       "      <th>subject_code</th>\n",
       "      <th>group_code</th>\n",
       "      <th>subgroup_code</th>\n",
       "    </tr>\n",
       "    <tr>\n",
       "      <th>shop_id</th>\n",
       "      <th>item_id</th>\n",
       "      <th>date_block_num</th>\n",
       "      <th></th>\n",
       "      <th></th>\n",
       "      <th></th>\n",
       "      <th></th>\n",
       "      <th></th>\n",
       "      <th></th>\n",
       "    </tr>\n",
       "  </thead>\n",
       "  <tbody>\n",
       "    <tr>\n",
       "      <th rowspan=\"5\" valign=\"top\">5</th>\n",
       "      <th>5037</th>\n",
       "      <th>34</th>\n",
       "      <td>0</td>\n",
       "      <td>5</td>\n",
       "      <td>19</td>\n",
       "      <td>793</td>\n",
       "      <td>6</td>\n",
       "      <td>13</td>\n",
       "    </tr>\n",
       "    <tr>\n",
       "      <th>5320</th>\n",
       "      <th>34</th>\n",
       "      <td>0</td>\n",
       "      <td>5</td>\n",
       "      <td>55</td>\n",
       "      <td>818</td>\n",
       "      <td>13</td>\n",
       "      <td>6</td>\n",
       "    </tr>\n",
       "    <tr>\n",
       "      <th>5233</th>\n",
       "      <th>34</th>\n",
       "      <td>0</td>\n",
       "      <td>5</td>\n",
       "      <td>19</td>\n",
       "      <td>786</td>\n",
       "      <td>6</td>\n",
       "      <td>13</td>\n",
       "    </tr>\n",
       "    <tr>\n",
       "      <th>5232</th>\n",
       "      <th>34</th>\n",
       "      <td>0</td>\n",
       "      <td>5</td>\n",
       "      <td>23</td>\n",
       "      <td>786</td>\n",
       "      <td>6</td>\n",
       "      <td>19</td>\n",
       "    </tr>\n",
       "    <tr>\n",
       "      <th>5268</th>\n",
       "      <th>34</th>\n",
       "      <td>0</td>\n",
       "      <td>5</td>\n",
       "      <td>20</td>\n",
       "      <td>786</td>\n",
       "      <td>6</td>\n",
       "      <td>14</td>\n",
       "    </tr>\n",
       "  </tbody>\n",
       "</table>\n",
       "</div>"
      ],
      "text/plain": [
       "                                item_price_mean city_code item_category_id  \\\n",
       "shop_id item_id date_block_num                                               \n",
       "5       5037    34                            0         5               19   \n",
       "        5320    34                            0         5               55   \n",
       "        5233    34                            0         5               19   \n",
       "        5232    34                            0         5               23   \n",
       "        5268    34                            0         5               20   \n",
       "\n",
       "                               subject_code group_code subgroup_code  \n",
       "shop_id item_id date_block_num                                        \n",
       "5       5037    34                      793          6            13  \n",
       "        5320    34                      818         13             6  \n",
       "        5233    34                      786          6            13  \n",
       "        5232    34                      786          6            19  \n",
       "        5268    34                      786          6            14  "
      ]
     },
     "execution_count": 29,
     "metadata": {
      "tags": []
     },
     "output_type": "execute_result"
    }
   ],
   "source": [
    "X_pred = X_pred.join(df_shops).join(df_items)\n",
    "X_pred.head()"
   ]
  },
  {
   "cell_type": "code",
   "execution_count": 0,
   "metadata": {
    "colab": {
     "base_uri": "https://localhost:8080/",
     "height": 119
    },
    "colab_type": "code",
    "id": "frgTRqMssoI2",
    "outputId": "be32f3a9-16ed-4473-e6d1-89f889c54712"
   },
   "outputs": [
    {
     "data": {
      "text/plain": [
       "array([ 1.88292211,  2.03189192,  1.88292211,  1.85285458,  2.18216991,\n",
       "        1.85285458,  2.18216991,  2.03189192,  2.03189192,  2.18216991,\n",
       "        2.06270293,  2.18216991,  2.03189192,  1.85285458,  1.85285458,\n",
       "        1.88292211, 11.78756569,  2.03189192,  2.06270293,  2.18216991,\n",
       "        2.03189192,  1.88292211,  2.24096826,  1.88292211,  2.06270293,\n",
       "        2.18216991,  1.85285458,  2.11946414,  2.34529601,  2.34529601])"
      ]
     },
     "execution_count": 46,
     "metadata": {
      "tags": []
     },
     "output_type": "execute_result"
    }
   ],
   "source": [
    "y_pred = model.predict(X_pred)\n",
    "y_pred[:30]"
   ]
  },
  {
   "cell_type": "code",
   "execution_count": 0,
   "metadata": {
    "colab": {
     "base_uri": "https://localhost:8080/",
     "height": 68
    },
    "colab_type": "code",
    "id": "zCog-IkQ4f1h",
    "outputId": "3e168a6c-1a25-40fa-b28c-4c390df7e045"
   },
   "outputs": [
    {
     "data": {
      "text/plain": [
       "array([ 1.,  2.,  1.,  1.,  2.,  1.,  2.,  2.,  2.,  2.,  2.,  2.,  2.,\n",
       "        1.,  1.,  1., 11.,  2.,  2.,  2.,  2.,  1.,  2.,  1.,  2.,  2.,\n",
       "        1.,  2.,  2.,  2.])"
      ]
     },
     "execution_count": 47,
     "metadata": {
      "tags": []
     },
     "output_type": "execute_result"
    }
   ],
   "source": [
    "#y_pred = np.clip(y_pred, 0, 20)\n",
    "#y_pred = np.clip(np.round(y_pred), 0, 20)\n",
    "y_pred = np.clip(np.floor(y_pred), 0, 20)\n",
    "y_pred[:30]"
   ]
  },
  {
   "cell_type": "code",
   "execution_count": 0,
   "metadata": {
    "colab": {
     "base_uri": "https://localhost:8080/",
     "height": 235
    },
    "colab_type": "code",
    "id": "sS9BHE04tAbi",
    "outputId": "6d1bda61-0161-4f6a-9b00-35694d325ba9"
   },
   "outputs": [
    {
     "data": {
      "text/html": [
       "<div>\n",
       "<style scoped>\n",
       "    .dataframe tbody tr th:only-of-type {\n",
       "        vertical-align: middle;\n",
       "    }\n",
       "\n",
       "    .dataframe tbody tr th {\n",
       "        vertical-align: top;\n",
       "    }\n",
       "\n",
       "    .dataframe thead th {\n",
       "        text-align: right;\n",
       "    }\n",
       "</style>\n",
       "<table border=\"1\" class=\"dataframe\">\n",
       "  <thead>\n",
       "    <tr style=\"text-align: right;\">\n",
       "      <th></th>\n",
       "      <th>item_cnt_month</th>\n",
       "    </tr>\n",
       "    <tr>\n",
       "      <th>ID</th>\n",
       "      <th></th>\n",
       "    </tr>\n",
       "  </thead>\n",
       "  <tbody>\n",
       "    <tr>\n",
       "      <th>0</th>\n",
       "      <td>1.0</td>\n",
       "    </tr>\n",
       "    <tr>\n",
       "      <th>1</th>\n",
       "      <td>2.0</td>\n",
       "    </tr>\n",
       "    <tr>\n",
       "      <th>2</th>\n",
       "      <td>1.0</td>\n",
       "    </tr>\n",
       "    <tr>\n",
       "      <th>3</th>\n",
       "      <td>1.0</td>\n",
       "    </tr>\n",
       "    <tr>\n",
       "      <th>4</th>\n",
       "      <td>2.0</td>\n",
       "    </tr>\n",
       "  </tbody>\n",
       "</table>\n",
       "</div>"
      ],
      "text/plain": [
       "    item_cnt_month\n",
       "ID                \n",
       "0              1.0\n",
       "1              2.0\n",
       "2              1.0\n",
       "3              1.0\n",
       "4              2.0"
      ]
     },
     "execution_count": 48,
     "metadata": {
      "tags": []
     },
     "output_type": "execute_result"
    }
   ],
   "source": [
    "df_final = pd.DataFrame(data=y_pred, columns=['item_cnt_month'], index=ids)\n",
    "df_final.index.names = ['ID']\n",
    "df_final.head()"
   ]
  },
  {
   "cell_type": "code",
   "execution_count": 0,
   "metadata": {
    "colab": {
     "base_uri": "https://localhost:8080/",
     "height": 119
    },
    "colab_type": "code",
    "id": "naJHSK4Vt15H",
    "outputId": "77c3d4d6-b72d-4f8d-c9b0-e0ba9dbce6de"
   },
   "outputs": [
    {
     "name": "stdout",
     "output_type": "stream",
     "text": [
      "<class 'pandas.core.frame.DataFrame'>\n",
      "Int64Index: 214200 entries, 0 to 214199\n",
      "Data columns (total 1 columns):\n",
      "item_cnt_month    214200 non-null float64\n",
      "dtypes: float64(1)\n",
      "memory usage: 3.3 MB\n"
     ]
    }
   ],
   "source": [
    "df_final.info()"
   ]
  },
  {
   "cell_type": "code",
   "execution_count": 0,
   "metadata": {
    "colab": {
     "base_uri": "https://localhost:8080/",
     "height": 297
    },
    "colab_type": "code",
    "id": "I5HXUTIi41W5",
    "outputId": "b38a818a-f0db-4255-b560-5ee1ed0c59de"
   },
   "outputs": [
    {
     "data": {
      "text/html": [
       "<div>\n",
       "<style scoped>\n",
       "    .dataframe tbody tr th:only-of-type {\n",
       "        vertical-align: middle;\n",
       "    }\n",
       "\n",
       "    .dataframe tbody tr th {\n",
       "        vertical-align: top;\n",
       "    }\n",
       "\n",
       "    .dataframe thead th {\n",
       "        text-align: right;\n",
       "    }\n",
       "</style>\n",
       "<table border=\"1\" class=\"dataframe\">\n",
       "  <thead>\n",
       "    <tr style=\"text-align: right;\">\n",
       "      <th></th>\n",
       "      <th>item_cnt_month</th>\n",
       "    </tr>\n",
       "  </thead>\n",
       "  <tbody>\n",
       "    <tr>\n",
       "      <th>count</th>\n",
       "      <td>214200.0000</td>\n",
       "    </tr>\n",
       "    <tr>\n",
       "      <th>mean</th>\n",
       "      <td>5.0916</td>\n",
       "    </tr>\n",
       "    <tr>\n",
       "      <th>std</th>\n",
       "      <td>6.0712</td>\n",
       "    </tr>\n",
       "    <tr>\n",
       "      <th>min</th>\n",
       "      <td>0.0000</td>\n",
       "    </tr>\n",
       "    <tr>\n",
       "      <th>25%</th>\n",
       "      <td>1.0000</td>\n",
       "    </tr>\n",
       "    <tr>\n",
       "      <th>50%</th>\n",
       "      <td>3.0000</td>\n",
       "    </tr>\n",
       "    <tr>\n",
       "      <th>75%</th>\n",
       "      <td>5.0000</td>\n",
       "    </tr>\n",
       "    <tr>\n",
       "      <th>max</th>\n",
       "      <td>20.0000</td>\n",
       "    </tr>\n",
       "  </tbody>\n",
       "</table>\n",
       "</div>"
      ],
      "text/plain": [
       "       item_cnt_month\n",
       "count     214200.0000\n",
       "mean           5.0916\n",
       "std            6.0712\n",
       "min            0.0000\n",
       "25%            1.0000\n",
       "50%            3.0000\n",
       "75%            5.0000\n",
       "max           20.0000"
      ]
     },
     "execution_count": 50,
     "metadata": {
      "tags": []
     },
     "output_type": "execute_result"
    }
   ],
   "source": [
    "df_final.describe()"
   ]
  },
  {
   "cell_type": "code",
   "execution_count": 0,
   "metadata": {
    "colab": {},
    "colab_type": "code",
    "id": "6urZdj8Xuf4G"
   },
   "outputs": [],
   "source": [
    "df_final.to_csv('submission6.csv')"
   ]
  },
  {
   "cell_type": "code",
   "execution_count": 0,
   "metadata": {
    "colab": {},
    "colab_type": "code",
    "id": "jSlpPjC8ulwx"
   },
   "outputs": [],
   "source": []
  }
 ],
 "metadata": {
  "accelerator": "GPU",
  "colab": {
   "collapsed_sections": [],
   "name": "42-Sales_Russia-Predictive_Model-Time_Series.ipynb",
   "provenance": []
  },
  "kernelspec": {
   "display_name": "Python 3",
   "language": "python",
   "name": "python3"
  },
  "language_info": {
   "codemirror_mode": {
    "name": "ipython",
    "version": 3
   },
   "file_extension": ".py",
   "mimetype": "text/x-python",
   "name": "python",
   "nbconvert_exporter": "python",
   "pygments_lexer": "ipython3",
   "version": "3.7.1"
  }
 },
 "nbformat": 4,
 "nbformat_minor": 1
}
