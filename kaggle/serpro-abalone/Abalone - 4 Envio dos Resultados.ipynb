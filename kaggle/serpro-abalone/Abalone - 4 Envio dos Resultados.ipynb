{
 "cells": [
  {
   "cell_type": "markdown",
   "metadata": {},
   "source": [
    "## Importação dos pacotes"
   ]
  },
  {
   "cell_type": "code",
   "execution_count": 1,
   "metadata": {},
   "outputs": [],
   "source": [
    "# importar pacotes necessários\n",
    "import numpy as np\n",
    "import pandas as pd"
   ]
  },
  {
   "cell_type": "code",
   "execution_count": 2,
   "metadata": {},
   "outputs": [],
   "source": [
    "# importar os pacotes necessários para os algoritmos de regressão\n",
    "from sklearn.ensemble import BaggingRegressor\n",
    "from sklearn.ensemble import RandomForestRegressor\n",
    "from sklearn.ensemble import ExtraTreesRegressor\n",
    "from sklearn.ensemble import AdaBoostRegressor\n",
    "from sklearn.ensemble import GradientBoostingRegressor\n",
    "#from sklearn.ensemble import VotingRegressor\n",
    "from sklearn.gaussian_process import GaussianProcessRegressor\n",
    "from sklearn.kernel_ridge import KernelRidge\n",
    "from sklearn.linear_model import LinearRegression\n",
    "from sklearn.linear_model import Ridge\n",
    "from sklearn.linear_model import Lasso\n",
    "from sklearn.linear_model import ElasticNet\n",
    "from sklearn.linear_model import Lars\n",
    "from sklearn.linear_model import LassoLars\n",
    "from sklearn.linear_model import OrthogonalMatchingPursuit\n",
    "from sklearn.linear_model import BayesianRidge\n",
    "from sklearn.linear_model import ARDRegression\n",
    "from sklearn.linear_model import LogisticRegression\n",
    "from sklearn.linear_model import SGDRegressor\n",
    "from sklearn.linear_model import Perceptron\n",
    "from sklearn.linear_model import PassiveAggressiveRegressor\n",
    "from sklearn.linear_model import RANSACRegressor\n",
    "from sklearn.linear_model import TheilSenRegressor\n",
    "from sklearn.linear_model import HuberRegressor\n",
    "from sklearn.neighbors import KNeighborsRegressor\n",
    "from sklearn.neighbors import RadiusNeighborsRegressor\n",
    "from sklearn.neural_network import MLPRegressor\n",
    "from sklearn.svm import SVR\n",
    "from sklearn.svm import NuSVR\n",
    "from sklearn.svm import LinearSVR\n",
    "from sklearn.tree import DecisionTreeRegressor"
   ]
  },
  {
   "cell_type": "markdown",
   "metadata": {},
   "source": [
    "## Carga dos dados de entrada"
   ]
  },
  {
   "cell_type": "code",
   "execution_count": 3,
   "metadata": {},
   "outputs": [],
   "source": [
    "# carregar arquivo de dados de treino\n",
    "train_data = pd.read_csv('abalone-train.csv', index_col='id')"
   ]
  },
  {
   "cell_type": "code",
   "execution_count": 4,
   "metadata": {},
   "outputs": [],
   "source": [
    "# carregar arquivo de dados de teste\n",
    "test_data = pd.read_csv('abalone-test.csv', index_col='id')"
   ]
  },
  {
   "cell_type": "markdown",
   "metadata": {},
   "source": [
    "## Transformações nos dados"
   ]
  },
  {
   "cell_type": "code",
   "execution_count": 5,
   "metadata": {},
   "outputs": [],
   "source": [
    "data_sex = pd.get_dummies(train_data['sex'], prefix='sex')\n",
    "train_data = train_data.join(data_sex)\n",
    "train_data.drop('sex', axis=1, inplace=True)\n",
    "\n",
    "data_sex = pd.get_dummies(test_data['sex'], prefix='sex')\n",
    "test_data = test_data.join(data_sex)\n",
    "test_data.drop('sex', axis=1, inplace=True)"
   ]
  },
  {
   "cell_type": "code",
   "execution_count": 7,
   "metadata": {},
   "outputs": [],
   "source": [
    "data = train_data\n",
    "outliers = np.concatenate((\n",
    "    data[data.height == 0.0].index,\n",
    "    data[(data['viscera_weight'] > 0.5) & (data['rings'] < 20 - 1.5)].index,\n",
    "    data[(data['viscera_weight'] < 0.5) & (data['rings'] > 25 - 1.5)].index,\n",
    "    data[(data['shell_weight'] > 0.6) & (data['rings'] < 25- 1.5)].index,\n",
    "    data[(data['shell_weight'] < 0.8) & (data['rings'] > 25- 1.5)].index,\n",
    "    data[(data['shucked_weight'] >= 1.0) & (data['rings'] < 20- 1.5)].index,\n",
    "    data[(data['shucked_weight'] < 1.0)  & (data['rings'] > 20- 1.5)].index,\n",
    "    data[(data['whole_weight'] >= 2.5) & (data['rings'] < 25- 1.5)].index,\n",
    "    data[(data['whole_weight'] < 2.5)  & (data['rings'] > 25- 1.5)].index,\n",
    "    data[(data['diameter'] < 0.1)  & (data['rings'] < 5- 1.5)].index,\n",
    "    data[(data['diameter'] < 0.6)  & (data['rings'] > 25- 1.5)].index,\n",
    "    data[(data['diameter'] >= 0.6) & (data['rings'] < 25- 1.5)].index,\n",
    "    data[(data['height'] > 0.4) & (data['rings'] < 15- 1.5)].index,\n",
    "    data[(data['height'] < 0.4) & (data['rings'] > 25- 1.5)].index,\n",
    "    data[(data['length'] < 0.1)  & (data['rings'] < 5- 1.5)].index,\n",
    "    data[(data['length'] < 0.8)  & (data['rings'] > 25- 1.5)].index,\n",
    "    data[(data['length'] >= 0.8) & (data['rings'] < 25- 1.5)].index\n",
    "), axis=0)\n",
    "train_data.drop(outliers, inplace=True)"
   ]
  },
  {
   "cell_type": "markdown",
   "metadata": {},
   "source": [
    "## Seleção dos dados de treino e teste"
   ]
  },
  {
   "cell_type": "code",
   "execution_count": 8,
   "metadata": {},
   "outputs": [
    {
     "name": "stdout",
     "output_type": "stream",
     "text": [
      "Forma dos dados de treino: (2672, 10) (2672,)\n"
     ]
    }
   ],
   "source": [
    "# definir dados de treino\n",
    "\n",
    "X_train = train_data.drop(['rings'], axis=1) # tudo, exceto a coluna alvo\n",
    "y_train = train_data['rings'] # apenas a coluna alvo\n",
    "\n",
    "print('Forma dos dados de treino:', X_train.shape, y_train.shape)"
   ]
  },
  {
   "cell_type": "code",
   "execution_count": 9,
   "metadata": {},
   "outputs": [
    {
     "name": "stdout",
     "output_type": "stream",
     "text": [
      "Forma dos dados de teste: (1393, 10)\n"
     ]
    }
   ],
   "source": [
    "# definir dados de teste\n",
    "\n",
    "X_test = test_data # tudo, já que não possui a coluna alvo\n",
    "\n",
    "print('Forma dos dados de teste:', X_test.shape)"
   ]
  },
  {
   "cell_type": "markdown",
   "metadata": {},
   "source": [
    "## Treinamento dos modelos e geração dos resultados "
   ]
  },
  {
   "cell_type": "code",
   "execution_count": 10,
   "metadata": {},
   "outputs": [],
   "source": [
    "models = []\n",
    "models.append(('LinReg', LinearRegression(n_jobs=2, fit_intercept=False, normalize=True)))\n",
    "#models.append(('LogReg', LogisticRegression(random_state=42, n_jobs=2, multi_class='auto', C=1000, solver='newton-cg')))\n",
    "models.append(('Ridge', Ridge(random_state=42, alpha=0.1, fit_intercept=False, normalize=True)))\n",
    "models.append(('KNN', KNeighborsRegressor(n_jobs=2, n_neighbors=13, weights='distance')))\n",
    "models.append(('SVM', SVR(gamma='auto', kernel='linear')))\n",
    "models.append(('RF', RandomForestRegressor(random_state=42, n_jobs=2, n_estimators=100, max_depth=7)))\n",
    "models.append(('GB', GradientBoostingRegressor(random_state=42)))\n",
    "models.append(('DT', DecisionTreeRegressor(random_state=42)))\n",
    "models.append(('GP', GaussianProcessRegressor()))\n",
    "models.append(('MLP', MLPRegressor(random_state=42)))\n",
    "models.append(('OMP', OrthogonalMatchingPursuit(n_nonzero_coefs=8, fit_intercept=True, normalize=True)))\n",
    "models.append(('PA', PassiveAggressiveRegressor(random_state=42, C=0.2, fit_intercept=True)))\n",
    "models.append(('RANSAC', RANSACRegressor(random_state=42, min_samples=0.75)))\n",
    "models.append(('SGD', SGDRegressor(random_state=42, alpha=1e-06, fit_intercept=False, penalty=None)))\n",
    "models.append(('TS', TheilSenRegressor(random_state=42, n_jobs=2, fit_intercept=True)))"
   ]
  },
  {
   "cell_type": "code",
   "execution_count": 11,
   "metadata": {},
   "outputs": [
    {
     "name": "stdout",
     "output_type": "stream",
     "text": [
      "mkdir: cannot create directory ‘submissions’: File exists\r\n"
     ]
    }
   ],
   "source": [
    "!mkdir submissions"
   ]
  },
  {
   "cell_type": "code",
   "execution_count": 12,
   "metadata": {
    "scrolled": true
   },
   "outputs": [
    {
     "name": "stdout",
     "output_type": "stream",
     "text": [
      "LinearRegression(copy_X=True, fit_intercept=False, n_jobs=2, normalize=True) \n",
      "\n",
      "Ridge(alpha=0.1, copy_X=True, fit_intercept=False, max_iter=None,\n",
      "   normalize=True, random_state=42, solver='auto', tol=0.001) \n",
      "\n",
      "KNeighborsRegressor(algorithm='auto', leaf_size=30, metric='minkowski',\n",
      "          metric_params=None, n_jobs=2, n_neighbors=13, p=2,\n",
      "          weights='distance') \n",
      "\n",
      "SVR(C=1.0, cache_size=200, coef0=0.0, degree=3, epsilon=0.1, gamma='auto',\n",
      "  kernel='linear', max_iter=-1, shrinking=True, tol=0.001, verbose=False) \n",
      "\n",
      "RandomForestRegressor(bootstrap=True, criterion='mse', max_depth=7,\n",
      "           max_features='auto', max_leaf_nodes=None,\n",
      "           min_impurity_decrease=0.0, min_impurity_split=None,\n",
      "           min_samples_leaf=1, min_samples_split=2,\n",
      "           min_weight_fraction_leaf=0.0, n_estimators=100, n_jobs=2,\n",
      "           oob_score=False, random_state=42, verbose=0, warm_start=False) \n",
      "\n",
      "GradientBoostingRegressor(alpha=0.9, criterion='friedman_mse', init=None,\n",
      "             learning_rate=0.1, loss='ls', max_depth=3, max_features=None,\n",
      "             max_leaf_nodes=None, min_impurity_decrease=0.0,\n",
      "             min_impurity_split=None, min_samples_leaf=1,\n",
      "             min_samples_split=2, min_weight_fraction_leaf=0.0,\n",
      "             n_estimators=100, n_iter_no_change=None, presort='auto',\n",
      "             random_state=42, subsample=1.0, tol=0.0001,\n",
      "             validation_fraction=0.1, verbose=0, warm_start=False) \n",
      "\n",
      "DecisionTreeRegressor(criterion='mse', max_depth=None, max_features=None,\n",
      "           max_leaf_nodes=None, min_impurity_decrease=0.0,\n",
      "           min_impurity_split=None, min_samples_leaf=1,\n",
      "           min_samples_split=2, min_weight_fraction_leaf=0.0,\n",
      "           presort=False, random_state=42, splitter='best') \n",
      "\n",
      "GaussianProcessRegressor(alpha=1e-10, copy_X_train=True, kernel=None,\n",
      "             n_restarts_optimizer=0, normalize_y=False,\n",
      "             optimizer='fmin_l_bfgs_b', random_state=None) \n",
      "\n",
      "MLPRegressor(activation='relu', alpha=0.0001, batch_size='auto', beta_1=0.9,\n",
      "       beta_2=0.999, early_stopping=False, epsilon=1e-08,\n",
      "       hidden_layer_sizes=(100,), learning_rate='constant',\n",
      "       learning_rate_init=0.001, max_iter=200, momentum=0.9,\n",
      "       n_iter_no_change=10, nesterovs_momentum=True, power_t=0.5,\n",
      "       random_state=42, shuffle=True, solver='adam', tol=0.0001,\n",
      "       validation_fraction=0.1, verbose=False, warm_start=False) \n",
      "\n"
     ]
    },
    {
     "name": "stderr",
     "output_type": "stream",
     "text": [
      "/opt/anaconda3/lib/python3.6/site-packages/sklearn/neural_network/multilayer_perceptron.py:562: ConvergenceWarning: Stochastic Optimizer: Maximum iterations (200) reached and the optimization hasn't converged yet.\n",
      "  % self.max_iter, ConvergenceWarning)\n",
      "/opt/anaconda3/lib/python3.6/site-packages/sklearn/linear_model/stochastic_gradient.py:166: FutureWarning: max_iter and tol parameters have been added in PassiveAggressiveRegressor in 0.19. If both are left unset, they default to max_iter=5 and tol=None. If tol is not None, max_iter defaults to max_iter=1000. From 0.21, default max_iter will be 1000, and default tol will be 1e-3.\n",
      "  FutureWarning)\n"
     ]
    },
    {
     "name": "stdout",
     "output_type": "stream",
     "text": [
      "OrthogonalMatchingPursuit(fit_intercept=True, n_nonzero_coefs=8,\n",
      "             normalize=True, precompute='auto', tol=None) \n",
      "\n",
      "PassiveAggressiveRegressor(C=0.2, average=False, early_stopping=False,\n",
      "              epsilon=0.1, fit_intercept=True, loss='epsilon_insensitive',\n",
      "              max_iter=None, n_iter=None, n_iter_no_change=5,\n",
      "              random_state=42, shuffle=True, tol=None,\n",
      "              validation_fraction=0.1, verbose=0, warm_start=False) \n",
      "\n",
      "RANSACRegressor(base_estimator=None, is_data_valid=None, is_model_valid=None,\n",
      "        loss='absolute_loss', max_skips=inf, max_trials=100,\n",
      "        min_samples=0.75, random_state=42, residual_threshold=None,\n",
      "        stop_n_inliers=inf, stop_probability=0.99, stop_score=inf) \n",
      "\n",
      "SGDRegressor(alpha=1e-06, average=False, early_stopping=False, epsilon=0.1,\n",
      "       eta0=0.01, fit_intercept=False, l1_ratio=0.15,\n",
      "       learning_rate='invscaling', loss='squared_loss', max_iter=None,\n",
      "       n_iter=None, n_iter_no_change=5, penalty=None, power_t=0.25,\n",
      "       random_state=42, shuffle=True, tol=None, validation_fraction=0.1,\n",
      "       verbose=0, warm_start=False) \n",
      "\n",
      "TheilSenRegressor(copy_X=True, fit_intercept=True, max_iter=300,\n",
      "         max_subpopulation=10000, n_jobs=2, n_subsamples=None,\n",
      "         random_state=42, tol=0.001, verbose=False) \n",
      "\n"
     ]
    },
    {
     "name": "stderr",
     "output_type": "stream",
     "text": [
      "/opt/anaconda3/lib/python3.6/site-packages/sklearn/linear_model/stochastic_gradient.py:166: FutureWarning: max_iter and tol parameters have been added in SGDRegressor in 0.19. If both are left unset, they default to max_iter=5 and tol=None. If tol is not None, max_iter defaults to max_iter=1000. From 0.21, default max_iter will be 1000, and default tol will be 1e-3.\n",
      "  FutureWarning)\n"
     ]
    }
   ],
   "source": [
    "for name, model in models:\n",
    "    print(model, '\\n')\n",
    "    \n",
    "    # treinar o modelo\n",
    "    model.fit(X_train, y_train)\n",
    "    \n",
    "    # executar previsão usando o modelo\n",
    "    y_pred = model.predict(X_test)\n",
    "    \n",
    "    # gerar dados de envio (submissão)\n",
    "    submission = pd.DataFrame({\n",
    "      'id': X_test.index,\n",
    "      'rings': y_pred\n",
    "    })\n",
    "    submission.set_index('id', inplace=True)\n",
    "\n",
    "    # gerar arquivo CSV para o envio\n",
    "    filename = 'submissions/abalone-submission-p-%s.csv' % name.lower()\n",
    "    submission.to_csv(filename)"
   ]
  },
  {
   "cell_type": "code",
   "execution_count": 14,
   "metadata": {},
   "outputs": [
    {
     "name": "stdout",
     "output_type": "stream",
     "text": [
      "==> submissions/abalone-submission-p-dt.csv <==\n",
      "id,rings\n",
      "1512,9.0\n",
      "1401,11.0\n",
      "509,11.0\n",
      "2883,8.0\n",
      "3259,12.0\n",
      "2135,11.0\n",
      "1499,10.0\n",
      "3597,15.0\n",
      "2414,8.0\n",
      "\n",
      "==> submissions/abalone-submission-p-gb.csv <==\n",
      "id,rings\n",
      "1512,10.076760285156443\n",
      "1401,11.5551225922323\n",
      "509,12.040373529603869\n",
      "2883,7.803899387826646\n",
      "3259,10.87935913775713\n",
      "2135,9.836501468705915\n",
      "1499,9.89609942191297\n",
      "3597,11.755980157105101\n",
      "2414,7.815914799984401\n",
      "\n",
      "==> submissions/abalone-submission-p-gp.csv <==\n",
      "id,rings\n",
      "1512,10.58349609375\n",
      "1401,9.832375526428223\n",
      "509,15.272384643554688\n",
      "2883,7.8772430419921875\n",
      "3259,10.749980926513672\n",
      "2135,7.946163177490234\n",
      "1499,8.839645385742188\n",
      "3597,6.869190216064453\n",
      "2414,9.377166748046875\n",
      "\n",
      "==> submissions/abalone-submission-p-knn.csv <==\n",
      "id,rings\n",
      "1512,10.450920122076752\n",
      "1401,10.547940060237595\n",
      "509,11.000246426623573\n",
      "2883,8.294157251191635\n",
      "3259,11.811687671045604\n",
      "2135,8.334921659332283\n",
      "1499,9.948263505915676\n",
      "3597,11.613391575547311\n",
      "2414,7.302274816638973\n",
      "\n",
      "==> submissions/abalone-submission-p-linreg.csv <==\n",
      "id,rings\n",
      "1512,8.946760505386617\n",
      "1401,11.081368344446084\n",
      "509,11.216818368073923\n",
      "2883,8.340227925696295\n",
      "3259,11.544531576902806\n",
      "2135,9.33989097319466\n",
      "1499,9.613218207545062\n",
      "3597,12.109156746381544\n",
      "2414,8.164831933192897\n",
      "\n",
      "==> submissions/abalone-submission-p-logreg.csv <==\n",
      "id,rings\n",
      "1512,9\n",
      "1401,11\n",
      "509,10\n",
      "2883,8\n",
      "3259,11\n",
      "2135,8\n",
      "1499,9\n",
      "3597,11\n",
      "2414,8\n",
      "\n",
      "==> submissions/abalone-submission-p-mlp.csv <==\n",
      "id,rings\n",
      "1512,9.248445754474398\n",
      "1401,11.097334486341804\n",
      "509,11.496237472580196\n",
      "2883,8.604959152976095\n",
      "3259,11.437424621818531\n",
      "2135,9.722671959254875\n",
      "1499,9.953880893292329\n",
      "3597,12.401462915263645\n",
      "2414,7.619097650975225\n",
      "\n",
      "==> submissions/abalone-submission-p-omp.csv <==\n",
      "id,rings\n",
      "1512,8.955812811397044\n",
      "1401,11.057858481302485\n",
      "509,11.209130247965364\n",
      "2883,8.364073887890976\n",
      "3259,11.540009255720236\n",
      "2135,9.369101522077163\n",
      "1499,9.644626933336207\n",
      "3597,12.119410680379088\n",
      "2414,8.185487133810875\n",
      "\n",
      "==> submissions/abalone-submission-p-pa.csv <==\n",
      "id,rings\n",
      "1512,11.62329573867035\n",
      "1401,12.970228895785812\n",
      "509,12.251577029680387\n",
      "2883,9.52626009990958\n",
      "3259,13.193880002146958\n",
      "2135,10.993195007096833\n",
      "1499,11.549353775904393\n",
      "3597,14.317882786556304\n",
      "2414,9.006433719578927\n",
      "\n",
      "==> submissions/abalone-submission-p-ransac.csv <==\n",
      "id,rings\n",
      "1512,8.9609375\n",
      "1401,10.8671875\n",
      "509,10.8046875\n",
      "2883,8.078125\n",
      "3259,11.3984375\n",
      "2135,9.2578125\n",
      "1499,9.484375\n",
      "3597,11.890625\n",
      "2414,7.765625\n",
      "\n",
      "==> submissions/abalone-submission-p-rf.csv <==\n",
      "id,rings\n",
      "1512,10.227493646989803\n",
      "1401,11.117258936675807\n",
      "509,11.397727250022173\n",
      "2883,8.213205611292391\n",
      "3259,10.971820403522642\n",
      "2135,9.402110251250212\n",
      "1499,9.798025811976826\n",
      "3597,11.799277786967894\n",
      "2414,8.158656217183195\n",
      "\n",
      "==> submissions/abalone-submission-p-ridge.csv <==\n",
      "id,rings\n",
      "1512,9.006637126109162\n",
      "1401,11.096736622761174\n",
      "509,11.173956844854544\n",
      "2883,8.354851598246954\n",
      "3259,11.558221308029477\n",
      "2135,9.449806602859383\n",
      "1499,9.695851637039054\n",
      "3597,12.198401169839297\n",
      "2414,8.166197745535484\n",
      "\n",
      "==> submissions/abalone-submission-p-sgd.csv <==\n",
      "id,rings\n",
      "1512,11.90365186398366\n",
      "1401,12.526664985579917\n",
      "509,10.034832192320353\n",
      "2883,8.537354412289574\n",
      "3259,12.144045337748095\n",
      "2135,9.476350768329654\n",
      "1499,11.01248343499904\n",
      "3597,12.823117635426241\n",
      "2414,7.276742608239738\n",
      "\n",
      "==> submissions/abalone-submission-p-svm.csv <==\n",
      "id,rings\n",
      "1512,9.505094090717918\n",
      "1401,11.028944630966963\n",
      "509,10.123428516945244\n",
      "2883,8.040105967879239\n",
      "3259,11.230371411133346\n",
      "2135,9.624435640900776\n",
      "1499,10.003904886358555\n",
      "3597,12.074445491704152\n",
      "2414,7.644752363192446\n",
      "\n",
      "==> submissions/abalone-submission-p-ts.csv <==\n",
      "id,rings\n",
      "1512,8.507004004079484\n",
      "1401,10.860415099692398\n",
      "509,11.150851419536878\n",
      "2883,8.103245806944392\n",
      "3259,11.496212037414676\n",
      "2135,9.084996376820971\n",
      "1499,9.198007537728504\n",
      "3597,11.85980864722038\n",
      "2414,8.00102592138678\n"
     ]
    }
   ],
   "source": [
    "# verificar conteúdo dos arquivos gerados\n",
    "!head submissions/abalone-submission-p-*.csv"
   ]
  },
  {
   "cell_type": "code",
   "execution_count": null,
   "metadata": {},
   "outputs": [],
   "source": []
  }
 ],
 "metadata": {
  "kernelspec": {
   "display_name": "Python 3",
   "language": "python",
   "name": "python3"
  },
  "language_info": {
   "codemirror_mode": {
    "name": "ipython",
    "version": 3
   },
   "file_extension": ".py",
   "mimetype": "text/x-python",
   "name": "python",
   "nbconvert_exporter": "python",
   "pygments_lexer": "ipython3",
   "version": "3.6.7"
  }
 },
 "nbformat": 4,
 "nbformat_minor": 2
}
