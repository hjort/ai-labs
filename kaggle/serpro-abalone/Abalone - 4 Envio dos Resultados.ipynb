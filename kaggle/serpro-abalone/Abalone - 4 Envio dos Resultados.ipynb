{
 "cells": [
  {
   "cell_type": "markdown",
   "metadata": {},
   "source": [
    "## Importação dos pacotes"
   ]
  },
  {
   "cell_type": "code",
   "execution_count": 10,
   "metadata": {},
   "outputs": [],
   "source": [
    "# importar pacotes necessários\n",
    "import numpy as np\n",
    "import pandas as pd"
   ]
  },
  {
   "cell_type": "code",
   "execution_count": 11,
   "metadata": {},
   "outputs": [],
   "source": [
    "# importar os pacotes necessários para os algoritmos de regressão\n",
    "from sklearn.ensemble import BaggingRegressor\n",
    "from sklearn.ensemble import RandomForestRegressor\n",
    "from sklearn.ensemble import ExtraTreesRegressor\n",
    "from sklearn.ensemble import AdaBoostRegressor\n",
    "from sklearn.ensemble import GradientBoostingRegressor\n",
    "#from sklearn.ensemble import VotingRegressor\n",
    "from sklearn.gaussian_process import GaussianProcessRegressor\n",
    "from sklearn.kernel_ridge import KernelRidge\n",
    "from sklearn.linear_model import LinearRegression\n",
    "from sklearn.linear_model import Ridge\n",
    "from sklearn.linear_model import Lasso\n",
    "from sklearn.linear_model import ElasticNet\n",
    "from sklearn.linear_model import Lars\n",
    "from sklearn.linear_model import LassoLars\n",
    "from sklearn.linear_model import OrthogonalMatchingPursuit\n",
    "from sklearn.linear_model import BayesianRidge\n",
    "from sklearn.linear_model import ARDRegression\n",
    "from sklearn.linear_model import LogisticRegression\n",
    "from sklearn.linear_model import SGDRegressor\n",
    "from sklearn.linear_model import Perceptron\n",
    "from sklearn.linear_model import PassiveAggressiveRegressor\n",
    "from sklearn.linear_model import RANSACRegressor\n",
    "from sklearn.linear_model import TheilSenRegressor\n",
    "from sklearn.linear_model import HuberRegressor\n",
    "from sklearn.neighbors import KNeighborsRegressor\n",
    "from sklearn.neighbors import RadiusNeighborsRegressor\n",
    "from sklearn.neural_network import MLPRegressor\n",
    "from sklearn.svm import SVR\n",
    "from sklearn.svm import NuSVR\n",
    "from sklearn.svm import LinearSVR\n",
    "from sklearn.tree import DecisionTreeRegressor"
   ]
  },
  {
   "cell_type": "markdown",
   "metadata": {},
   "source": [
    "## Carga dos dados de entrada"
   ]
  },
  {
   "cell_type": "code",
   "execution_count": 12,
   "metadata": {},
   "outputs": [],
   "source": [
    "# carregar arquivo de dados de treino\n",
    "train_data = pd.read_csv('abalone-train.csv', index_col='id')"
   ]
  },
  {
   "cell_type": "code",
   "execution_count": 13,
   "metadata": {},
   "outputs": [],
   "source": [
    "# carregar arquivo de dados de teste\n",
    "test_data = pd.read_csv('abalone-test.csv', index_col='id')"
   ]
  },
  {
   "cell_type": "code",
   "execution_count": 18,
   "metadata": {},
   "outputs": [],
   "source": [
    "data_sex = pd.get_dummies(train_data['sex'], prefix='sex')\n",
    "train_data = train_data.join(data_sex)\n",
    "train_data.drop('sex', axis=1, inplace=True)\n",
    "\n",
    "data_sex = pd.get_dummies(test_data['sex'], prefix='sex')\n",
    "test_data = test_data.join(data_sex)\n",
    "test_data.drop('sex', axis=1, inplace=True)"
   ]
  },
  {
   "cell_type": "markdown",
   "metadata": {},
   "source": [
    "## Seleção dos dados de treino e teste"
   ]
  },
  {
   "cell_type": "code",
   "execution_count": 21,
   "metadata": {},
   "outputs": [
    {
     "name": "stdout",
     "output_type": "stream",
     "text": [
      "Forma dos dados de treino: (2784, 10) (2784,)\n"
     ]
    }
   ],
   "source": [
    "# definir dados de treino\n",
    "\n",
    "X_train = train_data.drop(['rings'], axis=1) # tudo, exceto a coluna alvo\n",
    "y_train = train_data['rings'] # apenas a coluna alvo\n",
    "\n",
    "print('Forma dos dados de treino:', X_train.shape, y_train.shape)"
   ]
  },
  {
   "cell_type": "code",
   "execution_count": 22,
   "metadata": {},
   "outputs": [
    {
     "name": "stdout",
     "output_type": "stream",
     "text": [
      "Forma dos dados de teste: (1393, 10)\n"
     ]
    }
   ],
   "source": [
    "# definir dados de teste\n",
    "\n",
    "X_test = test_data # tudo, já que não possui a coluna alvo\n",
    "\n",
    "print('Forma dos dados de teste:', X_test.shape)"
   ]
  },
  {
   "cell_type": "markdown",
   "metadata": {},
   "source": [
    "## Treinamento dos modelos e geração dos resultados "
   ]
  },
  {
   "cell_type": "code",
   "execution_count": 23,
   "metadata": {},
   "outputs": [],
   "source": [
    "models = []\n",
    "models.append(('LinReg', LinearRegression()))\n",
    "models.append(('LogReg', LogisticRegression(random_state=42, solver='lbfgs', multi_class='auto')))\n",
    "models.append(('KNN', KNeighborsRegressor()))\n",
    "models.append(('SVM', SVR(gamma='auto')))\n",
    "models.append(('RF', RandomForestRegressor(random_state=42)))\n",
    "models.append(('GB', GradientBoostingRegressor(random_state=42)))\n",
    "models.append(('DT', DecisionTreeRegressor(random_state=42)))\n",
    "models.append(('GP', GaussianProcessRegressor()))\n",
    "models.append(('MLP', MLPRegressor(random_state=42)))"
   ]
  },
  {
   "cell_type": "code",
   "execution_count": 24,
   "metadata": {
    "scrolled": true
   },
   "outputs": [
    {
     "name": "stdout",
     "output_type": "stream",
     "text": [
      "LinearRegression(copy_X=True, fit_intercept=True, n_jobs=None,\n",
      "         normalize=False) \n",
      "\n",
      "LogisticRegression(C=1.0, class_weight=None, dual=False, fit_intercept=True,\n",
      "          intercept_scaling=1, max_iter=100, multi_class='auto',\n",
      "          n_jobs=None, penalty='l2', random_state=42, solver='lbfgs',\n",
      "          tol=0.0001, verbose=0, warm_start=False) \n",
      "\n"
     ]
    },
    {
     "name": "stderr",
     "output_type": "stream",
     "text": [
      "/opt/anaconda3/lib/python3.6/site-packages/sklearn/linear_model/logistic.py:758: ConvergenceWarning: lbfgs failed to converge. Increase the number of iterations.\n",
      "  \"of iterations.\", ConvergenceWarning)\n"
     ]
    },
    {
     "name": "stdout",
     "output_type": "stream",
     "text": [
      "KNeighborsRegressor(algorithm='auto', leaf_size=30, metric='minkowski',\n",
      "          metric_params=None, n_jobs=None, n_neighbors=5, p=2,\n",
      "          weights='uniform') \n",
      "\n",
      "SVR(C=1.0, cache_size=200, coef0=0.0, degree=3, epsilon=0.1, gamma='auto',\n",
      "  kernel='rbf', max_iter=-1, shrinking=True, tol=0.001, verbose=False) \n",
      "\n",
      "RandomForestRegressor(bootstrap=True, criterion='mse', max_depth=None,\n",
      "           max_features='auto', max_leaf_nodes=None,\n",
      "           min_impurity_decrease=0.0, min_impurity_split=None,\n",
      "           min_samples_leaf=1, min_samples_split=2,\n",
      "           min_weight_fraction_leaf=0.0, n_estimators='warn', n_jobs=None,\n",
      "           oob_score=False, random_state=42, verbose=0, warm_start=False) \n",
      "\n"
     ]
    },
    {
     "name": "stderr",
     "output_type": "stream",
     "text": [
      "/opt/anaconda3/lib/python3.6/site-packages/sklearn/ensemble/forest.py:246: FutureWarning: The default value of n_estimators will change from 10 in version 0.20 to 100 in 0.22.\n",
      "  \"10 in version 0.20 to 100 in 0.22.\", FutureWarning)\n"
     ]
    },
    {
     "name": "stdout",
     "output_type": "stream",
     "text": [
      "GradientBoostingRegressor(alpha=0.9, criterion='friedman_mse', init=None,\n",
      "             learning_rate=0.1, loss='ls', max_depth=3, max_features=None,\n",
      "             max_leaf_nodes=None, min_impurity_decrease=0.0,\n",
      "             min_impurity_split=None, min_samples_leaf=1,\n",
      "             min_samples_split=2, min_weight_fraction_leaf=0.0,\n",
      "             n_estimators=100, n_iter_no_change=None, presort='auto',\n",
      "             random_state=42, subsample=1.0, tol=0.0001,\n",
      "             validation_fraction=0.1, verbose=0, warm_start=False) \n",
      "\n",
      "DecisionTreeRegressor(criterion='mse', max_depth=None, max_features=None,\n",
      "           max_leaf_nodes=None, min_impurity_decrease=0.0,\n",
      "           min_impurity_split=None, min_samples_leaf=1,\n",
      "           min_samples_split=2, min_weight_fraction_leaf=0.0,\n",
      "           presort=False, random_state=42, splitter='best') \n",
      "\n",
      "GaussianProcessRegressor(alpha=1e-10, copy_X_train=True, kernel=None,\n",
      "             n_restarts_optimizer=0, normalize_y=False,\n",
      "             optimizer='fmin_l_bfgs_b', random_state=None) \n",
      "\n",
      "MLPRegressor(activation='relu', alpha=0.0001, batch_size='auto', beta_1=0.9,\n",
      "       beta_2=0.999, early_stopping=False, epsilon=1e-08,\n",
      "       hidden_layer_sizes=(100,), learning_rate='constant',\n",
      "       learning_rate_init=0.001, max_iter=200, momentum=0.9,\n",
      "       n_iter_no_change=10, nesterovs_momentum=True, power_t=0.5,\n",
      "       random_state=42, shuffle=True, solver='adam', tol=0.0001,\n",
      "       validation_fraction=0.1, verbose=False, warm_start=False) \n",
      "\n"
     ]
    },
    {
     "name": "stderr",
     "output_type": "stream",
     "text": [
      "/opt/anaconda3/lib/python3.6/site-packages/sklearn/neural_network/multilayer_perceptron.py:562: ConvergenceWarning: Stochastic Optimizer: Maximum iterations (200) reached and the optimization hasn't converged yet.\n",
      "  % self.max_iter, ConvergenceWarning)\n"
     ]
    }
   ],
   "source": [
    "for name, model in models:\n",
    "    print(model, '\\n')\n",
    "    \n",
    "    # treinar o modelo\n",
    "    model.fit(X_train, y_train)\n",
    "    \n",
    "    # executar previsão usando o modelo\n",
    "    y_pred = model.predict(X_test)\n",
    "    \n",
    "    # gerar dados de envio (submissão)\n",
    "    submission = pd.DataFrame({\n",
    "      'id': X_test.index,\n",
    "      'rings': y_pred\n",
    "    })\n",
    "    submission.set_index('id', inplace=True)\n",
    "\n",
    "    # gerar arquivo CSV para o envio\n",
    "    filename = 'abalone-submission-p-%s.csv' % name.lower()\n",
    "    submission.to_csv(filename)"
   ]
  },
  {
   "cell_type": "code",
   "execution_count": 25,
   "metadata": {},
   "outputs": [
    {
     "name": "stdout",
     "output_type": "stream",
     "text": [
      "==> abalone-submission-p-dt.csv <==\r\n",
      "id,rings\r\n",
      "1512,11.0\r\n",
      "1401,12.0\r\n",
      "509,17.0\r\n",
      "2883,9.0\r\n",
      "3259,9.0\r\n",
      "2135,11.0\r\n",
      "1499,9.0\r\n",
      "3597,13.0\r\n",
      "2414,8.0\r\n",
      "\r\n",
      "==> abalone-submission-p-gb.csv <==\r\n",
      "id,rings\r\n",
      "1512,10.009380909708643\r\n",
      "1401,11.151726312062774\r\n",
      "509,12.018518145626894\r\n",
      "2883,7.810752670775166\r\n",
      "3259,11.15306370585676\r\n",
      "2135,9.317058657838714\r\n",
      "1499,10.05816996813471\r\n",
      "3597,12.123627728186323\r\n",
      "2414,7.720781144138582\r\n",
      "\r\n",
      "==> abalone-submission-p-gp.csv <==\r\n",
      "id,rings\r\n",
      "1512,9.91204833984375\r\n",
      "1401,10.514533996582031\r\n",
      "509,15.443496704101562\r\n",
      "2883,7.8646697998046875\r\n",
      "3259,11.645833015441895\r\n",
      "2135,7.863286018371582\r\n",
      "1499,8.795156955718994\r\n",
      "3597,8.822440147399902\r\n",
      "2414,9.293121337890625\r\n",
      "\r\n",
      "==> abalone-submission-p-knn.csv <==\r\n",
      "id,rings\r\n",
      "1512,10.4\r\n",
      "1401,9.6\r\n",
      "509,12.2\r\n",
      "2883,8.4\r\n",
      "3259,14.0\r\n",
      "2135,8.2\r\n",
      "1499,9.6\r\n",
      "3597,10.6\r\n",
      "2414,6.8\r\n",
      "\r\n",
      "==> abalone-submission-p-linreg.csv <==\r\n",
      "id,rings\r\n",
      "1512,8.953125\r\n",
      "1401,11.21875\r\n",
      "509,11.5\r\n",
      "2883,8.359375\r\n",
      "3259,11.953125\r\n",
      "2135,9.390625\r\n",
      "1499,9.53125\r\n",
      "3597,12.359375\r\n",
      "2414,8.140625\r\n",
      "\r\n",
      "==> abalone-submission-p-logreg.csv <==\r\n",
      "id,rings\r\n",
      "1512,9\r\n",
      "1401,11\r\n",
      "509,8\r\n",
      "2883,8\r\n",
      "3259,11\r\n",
      "2135,9\r\n",
      "1499,10\r\n",
      "3597,11\r\n",
      "2414,7\r\n",
      "\r\n",
      "==> abalone-submission-p-mlp.csv <==\r\n",
      "id,rings\r\n",
      "1512,9.252134581203052\r\n",
      "1401,11.549653475375694\r\n",
      "509,12.098919716078857\r\n",
      "2883,8.763296002468019\r\n",
      "3259,12.047490165123522\r\n",
      "2135,9.779742726284113\r\n",
      "1499,9.993004697044407\r\n",
      "3597,13.134414916083074\r\n",
      "2414,7.950599116141419\r\n",
      "\r\n",
      "==> abalone-submission-p-rf.csv <==\r\n",
      "id,rings\r\n",
      "1512,10.2\r\n",
      "1401,10.1\r\n",
      "509,12.1\r\n",
      "2883,8.4\r\n",
      "3259,10.6\r\n",
      "2135,8.3\r\n",
      "1499,10.5\r\n",
      "3597,11.1\r\n",
      "2414,8.0\r\n",
      "\r\n",
      "==> abalone-submission-p-svm.csv <==\r\n",
      "id,rings\r\n",
      "1512,10.208896307980243\r\n",
      "1401,11.10674969580576\r\n",
      "509,10.070374572351442\r\n",
      "2883,8.114185547869281\r\n",
      "3259,11.14165433311636\r\n",
      "2135,9.60190471004146\r\n",
      "1499,10.189338158760428\r\n",
      "3597,11.64630817218751\r\n",
      "2414,7.124319602636055\r\n"
     ]
    }
   ],
   "source": [
    "# verificar conteúdo dos arquivos gerados\n",
    "!head abalone-submission-p-*.csv"
   ]
  },
  {
   "cell_type": "code",
   "execution_count": null,
   "metadata": {},
   "outputs": [],
   "source": []
  }
 ],
 "metadata": {
  "kernelspec": {
   "display_name": "Python 3",
   "language": "python",
   "name": "python3"
  },
  "language_info": {
   "codemirror_mode": {
    "name": "ipython",
    "version": 3
   },
   "file_extension": ".py",
   "mimetype": "text/x-python",
   "name": "python",
   "nbconvert_exporter": "python",
   "pygments_lexer": "ipython3",
   "version": "3.6.7"
  }
 },
 "nbformat": 4,
 "nbformat_minor": 2
}
