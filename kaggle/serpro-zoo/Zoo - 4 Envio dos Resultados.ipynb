{
 "cells": [
  {
   "cell_type": "markdown",
   "metadata": {},
   "source": [
    "## Importação dos pacotes"
   ]
  },
  {
   "cell_type": "code",
   "execution_count": 1,
   "metadata": {},
   "outputs": [],
   "source": [
    "# importar pacotes necessários\n",
    "import numpy as np\n",
    "import pandas as pd"
   ]
  },
  {
   "cell_type": "code",
   "execution_count": 2,
   "metadata": {},
   "outputs": [],
   "source": [
    "# importar os pacotes necessários para os algoritmos de classificação\n",
    "from sklearn.discriminant_analysis import LinearDiscriminantAnalysis\n",
    "from sklearn.ensemble import AdaBoostClassifier\n",
    "from sklearn.ensemble import GradientBoostingClassifier\n",
    "from sklearn.ensemble import RandomForestClassifier\n",
    "from sklearn.linear_model import LogisticRegression\n",
    "from sklearn.linear_model import Perceptron\n",
    "from sklearn.linear_model import Ridge\n",
    "from sklearn.linear_model import SGDClassifier\n",
    "from sklearn.naive_bayes import GaussianNB\n",
    "from sklearn.neighbors import KNeighborsClassifier\n",
    "from sklearn.neural_network import MLPClassifier\n",
    "from sklearn.svm import LinearSVC\n",
    "from sklearn.svm import SVC\n",
    "from sklearn.tree import DecisionTreeClassifier"
   ]
  },
  {
   "cell_type": "markdown",
   "metadata": {},
   "source": [
    "## Carga dos dados de entrada"
   ]
  },
  {
   "cell_type": "code",
   "execution_count": 3,
   "metadata": {},
   "outputs": [],
   "source": [
    "# carregar arquivo de dados de treino\n",
    "train_data = pd.read_csv('zoo-train.csv', index_col='animal_name')"
   ]
  },
  {
   "cell_type": "code",
   "execution_count": 4,
   "metadata": {},
   "outputs": [],
   "source": [
    "# carregar arquivo de dados de treino\n",
    "data2 = pd.read_csv('zoo-train2.csv', index_col='animal_name')"
   ]
  },
  {
   "cell_type": "code",
   "execution_count": 5,
   "metadata": {},
   "outputs": [],
   "source": [
    "# unir ambos os dados de treinamento\n",
    "train_data = train_data.append(data2)"
   ]
  },
  {
   "cell_type": "code",
   "execution_count": 6,
   "metadata": {},
   "outputs": [],
   "source": [
    "# carregar arquivo de dados de teste\n",
    "test_data = pd.read_csv('zoo-test.csv', index_col='animal_name')"
   ]
  },
  {
   "cell_type": "code",
   "execution_count": 7,
   "metadata": {},
   "outputs": [],
   "source": [
    "# transformar y/n em 0/1\n",
    "\n",
    "bool_cols = train_data.columns.values.tolist()\n",
    "bool_cols.remove('legs')\n",
    "bool_cols.remove('class_type')\n",
    "\n",
    "for data in [train_data, test_data]:\n",
    "    for col in bool_cols:\n",
    "        data[col] = data[col].map({'n': 0, 'y': 1}).astype(int)"
   ]
  },
  {
   "cell_type": "markdown",
   "metadata": {},
   "source": [
    "## Seleção dos dados de treino e teste"
   ]
  },
  {
   "cell_type": "code",
   "execution_count": 8,
   "metadata": {},
   "outputs": [
    {
     "name": "stdout",
     "output_type": "stream",
     "text": [
      "Forma dos dados de treino: (144, 16) (144,)\n"
     ]
    }
   ],
   "source": [
    "# definir dados de treino\n",
    "\n",
    "X_train = train_data.drop(['class_type'], axis=1) # tudo, exceto a coluna alvo\n",
    "y_train = train_data['class_type'] # apenas a coluna alvo\n",
    "\n",
    "print('Forma dos dados de treino:', X_train.shape, y_train.shape)"
   ]
  },
  {
   "cell_type": "code",
   "execution_count": 9,
   "metadata": {},
   "outputs": [
    {
     "name": "stdout",
     "output_type": "stream",
     "text": [
      "Forma dos dados de teste: (70, 16)\n"
     ]
    }
   ],
   "source": [
    "# definir dados de teste\n",
    "\n",
    "X_test = test_data # tudo, já que não possui a coluna alvo\n",
    "\n",
    "print('Forma dos dados de teste:', X_test.shape)"
   ]
  },
  {
   "cell_type": "markdown",
   "metadata": {},
   "source": [
    "## Treinamento dos modelos e geração dos resultados "
   ]
  },
  {
   "cell_type": "code",
   "execution_count": 10,
   "metadata": {},
   "outputs": [],
   "source": [
    "models = []\n",
    "models.append(('LR', LogisticRegression(random_state=42, solver='lbfgs', multi_class='auto', max_iter=500, C=100)))\n",
    "models.append(('DT', DecisionTreeClassifier(random_state=42, criterion='gini', max_depth=11)))\n",
    "models.append(('KNN', KNeighborsClassifier(n_neighbors=1)))\n",
    "models.append(('SVM', SVC(random_state=42, C=10, gamma=0.1, kernel='rbf')))\n",
    "models.append(('RF', RandomForestClassifier(random_state=42, max_features='auto', n_estimators=10)))\n",
    "models.append(('SGD', SGDClassifier(random_state=42, max_iter=100, tol=0.1)))\n",
    "models.append(('NN', Perceptron(random_state=42, max_iter=100, tol=0.01)))\n",
    "models.append(('NB', GaussianNB(priors=None, var_smoothing=1e-08)))\n",
    "models.append(('LSVM', LinearSVC(random_state=42, max_iter=1000, C=10)))\n",
    "models.append(('ABDT', AdaBoostClassifier(DecisionTreeClassifier(random_state=42), n_estimators=5)))\n",
    "models.append(('GB', GradientBoostingClassifier(random_state=42, max_depth=3)))\n",
    "models.append(('MLP', MLPClassifier(random_state=42, solver='lbfgs', alpha=0.1, hidden_layer_sizes=(15,))))\n",
    "models.append(('LDA', LinearDiscriminantAnalysis(solver='svd')))"
   ]
  },
  {
   "cell_type": "code",
   "execution_count": 11,
   "metadata": {
    "scrolled": true
   },
   "outputs": [
    {
     "name": "stdout",
     "output_type": "stream",
     "text": [
      "LogisticRegression(C=100, class_weight=None, dual=False, fit_intercept=True,\n",
      "          intercept_scaling=1, max_iter=500, multi_class='auto',\n",
      "          n_jobs=None, penalty='l2', random_state=42, solver='lbfgs',\n",
      "          tol=0.0001, verbose=0, warm_start=False) \n",
      "\n",
      "DecisionTreeClassifier(class_weight=None, criterion='gini', max_depth=11,\n",
      "            max_features=None, max_leaf_nodes=None,\n",
      "            min_impurity_decrease=0.0, min_impurity_split=None,\n",
      "            min_samples_leaf=1, min_samples_split=2,\n",
      "            min_weight_fraction_leaf=0.0, presort=False, random_state=42,\n",
      "            splitter='best') \n",
      "\n",
      "KNeighborsClassifier(algorithm='auto', leaf_size=30, metric='minkowski',\n",
      "           metric_params=None, n_jobs=None, n_neighbors=1, p=2,\n",
      "           weights='uniform') \n",
      "\n",
      "SVC(C=10, cache_size=200, class_weight=None, coef0=0.0,\n",
      "  decision_function_shape='ovr', degree=3, gamma=0.1, kernel='rbf',\n",
      "  max_iter=-1, probability=False, random_state=42, shrinking=True,\n",
      "  tol=0.001, verbose=False) \n",
      "\n",
      "RandomForestClassifier(bootstrap=True, class_weight=None, criterion='gini',\n",
      "            max_depth=None, max_features='auto', max_leaf_nodes=None,\n",
      "            min_impurity_decrease=0.0, min_impurity_split=None,\n",
      "            min_samples_leaf=1, min_samples_split=2,\n",
      "            min_weight_fraction_leaf=0.0, n_estimators=10, n_jobs=None,\n",
      "            oob_score=False, random_state=42, verbose=0, warm_start=False) \n",
      "\n",
      "SGDClassifier(alpha=0.0001, average=False, class_weight=None,\n",
      "       early_stopping=False, epsilon=0.1, eta0=0.0, fit_intercept=True,\n",
      "       l1_ratio=0.15, learning_rate='optimal', loss='hinge', max_iter=100,\n",
      "       n_iter=None, n_iter_no_change=5, n_jobs=None, penalty='l2',\n",
      "       power_t=0.5, random_state=42, shuffle=True, tol=0.1,\n",
      "       validation_fraction=0.1, verbose=0, warm_start=False) \n",
      "\n",
      "Perceptron(alpha=0.0001, class_weight=None, early_stopping=False, eta0=1.0,\n",
      "      fit_intercept=True, max_iter=100, n_iter=None, n_iter_no_change=5,\n",
      "      n_jobs=None, penalty=None, random_state=42, shuffle=True, tol=0.01,\n",
      "      validation_fraction=0.1, verbose=0, warm_start=False) \n",
      "\n",
      "GaussianNB(priors=None, var_smoothing=1e-08) \n",
      "\n",
      "LinearSVC(C=10, class_weight=None, dual=True, fit_intercept=True,\n",
      "     intercept_scaling=1, loss='squared_hinge', max_iter=1000,\n",
      "     multi_class='ovr', penalty='l2', random_state=42, tol=0.0001,\n",
      "     verbose=0) \n",
      "\n"
     ]
    },
    {
     "name": "stderr",
     "output_type": "stream",
     "text": [
      "/opt/anaconda3/lib/python3.6/site-packages/sklearn/svm/base.py:922: ConvergenceWarning: Liblinear failed to converge, increase the number of iterations.\n",
      "  \"the number of iterations.\", ConvergenceWarning)\n"
     ]
    },
    {
     "name": "stdout",
     "output_type": "stream",
     "text": [
      "AdaBoostClassifier(algorithm='SAMME.R',\n",
      "          base_estimator=DecisionTreeClassifier(class_weight=None, criterion='gini', max_depth=None,\n",
      "            max_features=None, max_leaf_nodes=None,\n",
      "            min_impurity_decrease=0.0, min_impurity_split=None,\n",
      "            min_samples_leaf=1, min_samples_split=2,\n",
      "            min_weight_fraction_leaf=0.0, presort=False, random_state=42,\n",
      "            splitter='best'),\n",
      "          learning_rate=1.0, n_estimators=5, random_state=None) \n",
      "\n",
      "GradientBoostingClassifier(criterion='friedman_mse', init=None,\n",
      "              learning_rate=0.1, loss='deviance', max_depth=3,\n",
      "              max_features=None, max_leaf_nodes=None,\n",
      "              min_impurity_decrease=0.0, min_impurity_split=None,\n",
      "              min_samples_leaf=1, min_samples_split=2,\n",
      "              min_weight_fraction_leaf=0.0, n_estimators=100,\n",
      "              n_iter_no_change=None, presort='auto', random_state=42,\n",
      "              subsample=1.0, tol=0.0001, validation_fraction=0.1,\n",
      "              verbose=0, warm_start=False) \n",
      "\n",
      "MLPClassifier(activation='relu', alpha=0.1, batch_size='auto', beta_1=0.9,\n",
      "       beta_2=0.999, early_stopping=False, epsilon=1e-08,\n",
      "       hidden_layer_sizes=(15,), learning_rate='constant',\n",
      "       learning_rate_init=0.001, max_iter=200, momentum=0.9,\n",
      "       n_iter_no_change=10, nesterovs_momentum=True, power_t=0.5,\n",
      "       random_state=42, shuffle=True, solver='lbfgs', tol=0.0001,\n",
      "       validation_fraction=0.1, verbose=False, warm_start=False) \n",
      "\n",
      "LinearDiscriminantAnalysis(n_components=None, priors=None, shrinkage=None,\n",
      "              solver='svd', store_covariance=False, tol=0.0001) \n",
      "\n"
     ]
    },
    {
     "name": "stderr",
     "output_type": "stream",
     "text": [
      "/opt/anaconda3/lib/python3.6/site-packages/sklearn/discriminant_analysis.py:388: UserWarning: Variables are collinear.\n",
      "  warnings.warn(\"Variables are collinear.\")\n"
     ]
    }
   ],
   "source": [
    "for name, model in models:\n",
    "    print(model, '\\n')\n",
    "    \n",
    "    # treinar o modelo\n",
    "    model.fit(X_train, y_train)\n",
    "    \n",
    "    # executar previsão usando o modelo\n",
    "    y_pred = model.predict(X_test)\n",
    "    \n",
    "    # gerar dados de envio (submissão)\n",
    "    submission = pd.DataFrame({\n",
    "      'animal_name': X_test.index,\n",
    "      'class_type': y_pred\n",
    "    })\n",
    "    submission.set_index('animal_name', inplace=True)\n",
    "\n",
    "    # gerar arquivo CSV para o envio\n",
    "    filename = 'zoo-submission-p-%s.csv' % name.lower()\n",
    "    submission.to_csv(filename)"
   ]
  },
  {
   "cell_type": "code",
   "execution_count": 12,
   "metadata": {},
   "outputs": [
    {
     "name": "stdout",
     "output_type": "stream",
     "text": [
      "==> zoo-submission-p-abdt.csv <==\r\n",
      "animal_name,class_type\r\n",
      "aracari-banana,2\r\n",
      "tamandua-bandeira,1\r\n",
      "urubu-rei,2\r\n",
      "jiboia,3\r\n",
      "orangotango,1\r\n",
      "vespa,6\r\n",
      "baiacu,4\r\n",
      "cascudinho-de-caverna,4\r\n",
      "tucano-de-bico-preto,2\r\n",
      "\r\n",
      "==> zoo-submission-p-dt.csv <==\r\n",
      "animal_name,class_type\r\n",
      "aracari-banana,2\r\n",
      "tamandua-bandeira,1\r\n",
      "urubu-rei,2\r\n",
      "jiboia,3\r\n",
      "orangotango,1\r\n",
      "vespa,6\r\n",
      "baiacu,4\r\n",
      "cascudinho-de-caverna,4\r\n",
      "tucano-de-bico-preto,2\r\n",
      "\r\n",
      "==> zoo-submission-p-gb.csv <==\r\n",
      "animal_name,class_type\r\n",
      "aracari-banana,2\r\n",
      "tamandua-bandeira,1\r\n",
      "urubu-rei,2\r\n",
      "jiboia,3\r\n",
      "orangotango,1\r\n",
      "vespa,6\r\n",
      "baiacu,4\r\n",
      "cascudinho-de-caverna,4\r\n",
      "tucano-de-bico-preto,2\r\n",
      "\r\n",
      "==> zoo-submission-p-knn.csv <==\r\n",
      "animal_name,class_type\r\n",
      "aracari-banana,2\r\n",
      "tamandua-bandeira,1\r\n",
      "urubu-rei,2\r\n",
      "jiboia,3\r\n",
      "orangotango,1\r\n",
      "vespa,6\r\n",
      "baiacu,4\r\n",
      "cascudinho-de-caverna,4\r\n",
      "tucano-de-bico-preto,2\r\n",
      "\r\n",
      "==> zoo-submission-p-lda.csv <==\r\n",
      "animal_name,class_type\r\n",
      "aracari-banana,2\r\n",
      "tamandua-bandeira,1\r\n",
      "urubu-rei,2\r\n",
      "jiboia,3\r\n",
      "orangotango,1\r\n",
      "vespa,6\r\n",
      "baiacu,4\r\n",
      "cascudinho-de-caverna,4\r\n",
      "tucano-de-bico-preto,2\r\n",
      "\r\n",
      "==> zoo-submission-p-lr.csv <==\r\n",
      "animal_name,class_type\r\n",
      "aracari-banana,2\r\n",
      "tamandua-bandeira,1\r\n",
      "urubu-rei,2\r\n",
      "jiboia,3\r\n",
      "orangotango,1\r\n",
      "vespa,6\r\n",
      "baiacu,4\r\n",
      "cascudinho-de-caverna,4\r\n",
      "tucano-de-bico-preto,2\r\n",
      "\r\n",
      "==> zoo-submission-p-lsvm.csv <==\r\n",
      "animal_name,class_type\r\n",
      "aracari-banana,2\r\n",
      "tamandua-bandeira,1\r\n",
      "urubu-rei,2\r\n",
      "jiboia,3\r\n",
      "orangotango,1\r\n",
      "vespa,6\r\n",
      "baiacu,4\r\n",
      "cascudinho-de-caverna,4\r\n",
      "tucano-de-bico-preto,2\r\n",
      "\r\n",
      "==> zoo-submission-p-mlp.csv <==\r\n",
      "animal_name,class_type\r\n",
      "aracari-banana,2\r\n",
      "tamandua-bandeira,1\r\n",
      "urubu-rei,2\r\n",
      "jiboia,3\r\n",
      "orangotango,1\r\n",
      "vespa,6\r\n",
      "baiacu,4\r\n",
      "cascudinho-de-caverna,4\r\n",
      "tucano-de-bico-preto,2\r\n",
      "\r\n",
      "==> zoo-submission-p-nb.csv <==\r\n",
      "animal_name,class_type\r\n",
      "aracari-banana,2\r\n",
      "tamandua-bandeira,1\r\n",
      "urubu-rei,2\r\n",
      "jiboia,3\r\n",
      "orangotango,1\r\n",
      "vespa,6\r\n",
      "baiacu,4\r\n",
      "cascudinho-de-caverna,4\r\n",
      "tucano-de-bico-preto,2\r\n",
      "\r\n",
      "==> zoo-submission-p-nn.csv <==\r\n",
      "animal_name,class_type\r\n",
      "aracari-banana,2\r\n",
      "tamandua-bandeira,1\r\n",
      "urubu-rei,2\r\n",
      "jiboia,3\r\n",
      "orangotango,1\r\n",
      "vespa,6\r\n",
      "baiacu,4\r\n",
      "cascudinho-de-caverna,4\r\n",
      "tucano-de-bico-preto,2\r\n",
      "\r\n",
      "==> zoo-submission-p-rf.csv <==\r\n",
      "animal_name,class_type\r\n",
      "aracari-banana,2\r\n",
      "tamandua-bandeira,1\r\n",
      "urubu-rei,2\r\n",
      "jiboia,3\r\n",
      "orangotango,1\r\n",
      "vespa,6\r\n",
      "baiacu,4\r\n",
      "cascudinho-de-caverna,4\r\n",
      "tucano-de-bico-preto,2\r\n",
      "\r\n",
      "==> zoo-submission-p-sgd.csv <==\r\n",
      "animal_name,class_type\r\n",
      "aracari-banana,2\r\n",
      "tamandua-bandeira,1\r\n",
      "urubu-rei,2\r\n",
      "jiboia,3\r\n",
      "orangotango,1\r\n",
      "vespa,6\r\n",
      "baiacu,4\r\n",
      "cascudinho-de-caverna,4\r\n",
      "tucano-de-bico-preto,2\r\n",
      "\r\n",
      "==> zoo-submission-p-svm.csv <==\r\n",
      "animal_name,class_type\r\n",
      "aracari-banana,2\r\n",
      "tamandua-bandeira,1\r\n",
      "urubu-rei,2\r\n",
      "jiboia,3\r\n",
      "orangotango,1\r\n",
      "vespa,6\r\n",
      "baiacu,4\r\n",
      "cascudinho-de-caverna,4\r\n",
      "tucano-de-bico-preto,2\r\n"
     ]
    }
   ],
   "source": [
    "# verificar conteúdo dos arquivos gerados\n",
    "!head zoo-submission-p-*.csv"
   ]
  },
  {
   "cell_type": "code",
   "execution_count": null,
   "metadata": {},
   "outputs": [],
   "source": []
  }
 ],
 "metadata": {
  "kernelspec": {
   "display_name": "Python 3",
   "language": "python",
   "name": "python3"
  },
  "language_info": {
   "codemirror_mode": {
    "name": "ipython",
    "version": 3
   },
   "file_extension": ".py",
   "mimetype": "text/x-python",
   "name": "python",
   "nbconvert_exporter": "python",
   "pygments_lexer": "ipython3",
   "version": "3.6.7"
  }
 },
 "nbformat": 4,
 "nbformat_minor": 2
}
