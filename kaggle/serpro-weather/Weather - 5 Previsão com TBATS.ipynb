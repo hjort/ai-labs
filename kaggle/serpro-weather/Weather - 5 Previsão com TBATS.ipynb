{
 "cells": [
  {
   "cell_type": "markdown",
   "metadata": {},
   "source": [
    "# SERPRO - Weather\n",
    "\n",
    "_Previsão de temperaturas médias com base em dados históricos_\n",
    "\n",
    "https://www.kaggle.com/c/serpro-weather/"
   ]
  },
  {
   "cell_type": "markdown",
   "metadata": {},
   "source": [
    "## Referências\n",
    "\n",
    "### Forecasting Time Series with Multiple Seasonalities using TBATS in Python\n",
    "- https://medium.com/intive-developers/forecasting-time-series-with-multiple-seasonalities-using-tbats-in-python-398a00ac0e8a\n",
    "\n",
    "### Forecasting Time Series With Complex Seasonal Patterns Using Exponential Smoothing\n",
    "- https://www.tandfonline.com/doi/abs/10.1198/jasa.2011.tm09771\n",
    "\n",
    "### TBATS Model (Exponential Smoothing State Space Model With Box-Cox Transformation, ARMA Errors, Trend And Seasonal Components)\n",
    "- https://www.rdocumentation.org/packages/forecast/versions/8.4/topics/tbats"
   ]
  },
  {
   "cell_type": "markdown",
   "metadata": {},
   "source": [
    "## Importação dos pacotes"
   ]
  },
  {
   "cell_type": "code",
   "execution_count": 1,
   "metadata": {},
   "outputs": [],
   "source": [
    "# importar pacotes necessários\n",
    "import pandas as pd\n",
    "import numpy as np\n",
    "import matplotlib.pylab as plt\n",
    "#import matplotlib.pyplot as plt\n",
    "import pickle"
   ]
  },
  {
   "cell_type": "raw",
   "metadata": {},
   "source": [
    "# instalar pacotes especiais\n",
    "!pip install tbats"
   ]
  },
  {
   "cell_type": "code",
   "execution_count": 2,
   "metadata": {},
   "outputs": [],
   "source": [
    "# definir parâmetros extras\n",
    "%matplotlib inline\n",
    "from matplotlib.pylab import rcParams\n",
    "rcParams['figure.figsize'] = 15, 6"
   ]
  },
  {
   "cell_type": "markdown",
   "metadata": {},
   "source": [
    "## Definição de parâmetros"
   ]
  },
  {
   "cell_type": "code",
   "execution_count": 3,
   "metadata": {},
   "outputs": [],
   "source": [
    "# definir períodos a serem considerados no modelo\n",
    "periodo1 = 7.5\n",
    "periodo2 = 365.25\n",
    "\n",
    "# definir data inicial de corte\n",
    "data_inicio_amostra = '2013-01' #'2013-01'"
   ]
  },
  {
   "cell_type": "code",
   "execution_count": 4,
   "metadata": {},
   "outputs": [
    {
     "name": "stdout",
     "output_type": "stream",
     "text": [
      "Períodos sazonais: (7.50, 365.25)\n",
      "Data de início da amostra: 2013-01\n"
     ]
    }
   ],
   "source": [
    "print('Períodos sazonais: (%.2f, %.2f)' % (periodo1, periodo2))\n",
    "print('Data de início da amostra:', data_inicio_amostra)"
   ]
  },
  {
   "cell_type": "markdown",
   "metadata": {},
   "source": [
    "## Carga dos dados"
   ]
  },
  {
   "cell_type": "code",
   "execution_count": 5,
   "metadata": {},
   "outputs": [],
   "source": [
    "prefixo_arquivos = ''\n",
    "#prefixo_arquivos = 'https://github.com/hjort/ai-labs/raw/master/kaggle/serpro-weather/'"
   ]
  },
  {
   "cell_type": "code",
   "execution_count": 6,
   "metadata": {},
   "outputs": [
    {
     "name": "stdout",
     "output_type": "stream",
     "text": [
      "<class 'pandas.core.frame.DataFrame'>\n",
      "DatetimeIndex: 1508 entries, 2012-10-01 to 2016-11-16\n",
      "Data columns (total 1 columns):\n",
      "temperature    1507 non-null float64\n",
      "dtypes: float64(1)\n",
      "memory usage: 23.6 KB\n"
     ]
    },
    {
     "data": {
      "text/html": [
       "<div>\n",
       "<style scoped>\n",
       "    .dataframe tbody tr th:only-of-type {\n",
       "        vertical-align: middle;\n",
       "    }\n",
       "\n",
       "    .dataframe tbody tr th {\n",
       "        vertical-align: top;\n",
       "    }\n",
       "\n",
       "    .dataframe thead th {\n",
       "        text-align: right;\n",
       "    }\n",
       "</style>\n",
       "<table border=\"1\" class=\"dataframe\">\n",
       "  <thead>\n",
       "    <tr style=\"text-align: right;\">\n",
       "      <th></th>\n",
       "      <th>temperature</th>\n",
       "    </tr>\n",
       "    <tr>\n",
       "      <th>date</th>\n",
       "      <th></th>\n",
       "    </tr>\n",
       "  </thead>\n",
       "  <tbody>\n",
       "    <tr>\n",
       "      <th>2012-10-01</th>\n",
       "      <td>11.036840</td>\n",
       "    </tr>\n",
       "    <tr>\n",
       "      <th>2012-10-02</th>\n",
       "      <td>14.340558</td>\n",
       "    </tr>\n",
       "    <tr>\n",
       "      <th>2012-10-03</th>\n",
       "      <td>14.518382</td>\n",
       "    </tr>\n",
       "    <tr>\n",
       "      <th>2012-10-04</th>\n",
       "      <td>16.820351</td>\n",
       "    </tr>\n",
       "    <tr>\n",
       "      <th>2012-10-05</th>\n",
       "      <td>16.948431</td>\n",
       "    </tr>\n",
       "  </tbody>\n",
       "</table>\n",
       "</div>"
      ],
      "text/plain": [
       "            temperature\n",
       "date                   \n",
       "2012-10-01    11.036840\n",
       "2012-10-02    14.340558\n",
       "2012-10-03    14.518382\n",
       "2012-10-04    16.820351\n",
       "2012-10-05    16.948431"
      ]
     },
     "execution_count": 6,
     "metadata": {},
     "output_type": "execute_result"
    }
   ],
   "source": [
    "# carregar arquivo de dados de treino\n",
    "train_data = pd.read_csv(prefixo_arquivos + 'weather-train.csv', index_col='date', parse_dates=['date'])\n",
    "train_data.info()\n",
    "train_data.head()"
   ]
  },
  {
   "cell_type": "code",
   "execution_count": 7,
   "metadata": {},
   "outputs": [
    {
     "name": "stdout",
     "output_type": "stream",
     "text": [
      "<class 'pandas.core.frame.DataFrame'>\n",
      "DatetimeIndex: 378 entries, 2016-11-17 to 2017-11-29\n",
      "Empty DataFrame"
     ]
    },
    {
     "data": {
      "text/html": [
       "<div>\n",
       "<style scoped>\n",
       "    .dataframe tbody tr th:only-of-type {\n",
       "        vertical-align: middle;\n",
       "    }\n",
       "\n",
       "    .dataframe tbody tr th {\n",
       "        vertical-align: top;\n",
       "    }\n",
       "\n",
       "    .dataframe thead th {\n",
       "        text-align: right;\n",
       "    }\n",
       "</style>\n",
       "<table border=\"1\" class=\"dataframe\">\n",
       "  <thead>\n",
       "    <tr style=\"text-align: right;\">\n",
       "      <th></th>\n",
       "    </tr>\n",
       "    <tr>\n",
       "      <th>date</th>\n",
       "    </tr>\n",
       "  </thead>\n",
       "  <tbody>\n",
       "    <tr>\n",
       "      <th>2016-11-17</th>\n",
       "    </tr>\n",
       "    <tr>\n",
       "      <th>2016-11-18</th>\n",
       "    </tr>\n",
       "    <tr>\n",
       "      <th>2016-11-19</th>\n",
       "    </tr>\n",
       "    <tr>\n",
       "      <th>2016-11-20</th>\n",
       "    </tr>\n",
       "    <tr>\n",
       "      <th>2016-11-21</th>\n",
       "    </tr>\n",
       "  </tbody>\n",
       "</table>\n",
       "</div>"
      ],
      "text/plain": [
       "Empty DataFrame\n",
       "Columns: []\n",
       "Index: [2016-11-17 00:00:00, 2016-11-18 00:00:00, 2016-11-19 00:00:00, 2016-11-20 00:00:00, 2016-11-21 00:00:00]"
      ]
     },
     "execution_count": 7,
     "metadata": {},
     "output_type": "execute_result"
    }
   ],
   "source": [
    "# carregar arquivo de dados de teste\n",
    "test_data = pd.read_csv(prefixo_arquivos + 'weather-test.csv', index_col='date', parse_dates=['date'])\n",
    "test_data.info()\n",
    "test_data.head()"
   ]
  },
  {
   "cell_type": "markdown",
   "metadata": {},
   "source": [
    "## Transformações nos dados"
   ]
  },
  {
   "cell_type": "code",
   "execution_count": 8,
   "metadata": {},
   "outputs": [
    {
     "data": {
      "text/html": [
       "<div>\n",
       "<style scoped>\n",
       "    .dataframe tbody tr th:only-of-type {\n",
       "        vertical-align: middle;\n",
       "    }\n",
       "\n",
       "    .dataframe tbody tr th {\n",
       "        vertical-align: top;\n",
       "    }\n",
       "\n",
       "    .dataframe thead th {\n",
       "        text-align: right;\n",
       "    }\n",
       "</style>\n",
       "<table border=\"1\" class=\"dataframe\">\n",
       "  <thead>\n",
       "    <tr style=\"text-align: right;\">\n",
       "      <th></th>\n",
       "      <th>temperature</th>\n",
       "    </tr>\n",
       "    <tr>\n",
       "      <th>date</th>\n",
       "      <th></th>\n",
       "    </tr>\n",
       "  </thead>\n",
       "  <tbody>\n",
       "    <tr>\n",
       "      <th>2013-01-01</th>\n",
       "      <td>-1.605945</td>\n",
       "    </tr>\n",
       "    <tr>\n",
       "      <th>2013-01-02</th>\n",
       "      <td>-3.112448</td>\n",
       "    </tr>\n",
       "    <tr>\n",
       "      <th>2013-01-03</th>\n",
       "      <td>-8.121035</td>\n",
       "    </tr>\n",
       "    <tr>\n",
       "      <th>2013-01-04</th>\n",
       "      <td>-5.965177</td>\n",
       "    </tr>\n",
       "    <tr>\n",
       "      <th>2013-01-05</th>\n",
       "      <td>-2.759736</td>\n",
       "    </tr>\n",
       "  </tbody>\n",
       "</table>\n",
       "</div>"
      ],
      "text/plain": [
       "            temperature\n",
       "date                   \n",
       "2013-01-01    -1.605945\n",
       "2013-01-02    -3.112448\n",
       "2013-01-03    -8.121035\n",
       "2013-01-04    -5.965177\n",
       "2013-01-05    -2.759736"
      ]
     },
     "execution_count": 8,
     "metadata": {},
     "output_type": "execute_result"
    }
   ],
   "source": [
    "# remover valores nulos\n",
    "data = train_data.dropna()\n",
    "\n",
    "# reduzir a quantidade de dados para a frequência\n",
    "##data = data.resample(frequencia).mean()\n",
    "\n",
    "# filtrar período desejado\n",
    "data = data[data_inicio_amostra:]\n",
    "#data = data['2013-01':]\n",
    "#data = data['2013-01':'2015-12']\n",
    "\n",
    "# converter temperatura para Kelvin\n",
    "#data['temperature'] += 273.15\n",
    "\n",
    "data.head()"
   ]
  },
  {
   "cell_type": "code",
   "execution_count": 9,
   "metadata": {},
   "outputs": [
    {
     "name": "stdout",
     "output_type": "stream",
     "text": [
      "<class 'pandas.core.frame.DataFrame'>\n",
      "DatetimeIndex: 1415 entries, 2013-01-01 to 2016-11-16\n",
      "Data columns (total 1 columns):\n",
      "temperature    1415 non-null float64\n",
      "dtypes: float64(1)\n",
      "memory usage: 22.1 KB\n"
     ]
    }
   ],
   "source": [
    "data.info()"
   ]
  },
  {
   "cell_type": "code",
   "execution_count": 10,
   "metadata": {},
   "outputs": [
    {
     "data": {
      "text/html": [
       "<div>\n",
       "<style scoped>\n",
       "    .dataframe tbody tr th:only-of-type {\n",
       "        vertical-align: middle;\n",
       "    }\n",
       "\n",
       "    .dataframe tbody tr th {\n",
       "        vertical-align: top;\n",
       "    }\n",
       "\n",
       "    .dataframe thead th {\n",
       "        text-align: right;\n",
       "    }\n",
       "</style>\n",
       "<table border=\"1\" class=\"dataframe\">\n",
       "  <thead>\n",
       "    <tr style=\"text-align: right;\">\n",
       "      <th></th>\n",
       "      <th>temperature</th>\n",
       "    </tr>\n",
       "  </thead>\n",
       "  <tbody>\n",
       "    <tr>\n",
       "      <th>count</th>\n",
       "      <td>1415.000000</td>\n",
       "    </tr>\n",
       "    <tr>\n",
       "      <th>mean</th>\n",
       "      <td>13.119741</td>\n",
       "    </tr>\n",
       "    <tr>\n",
       "      <th>std</th>\n",
       "      <td>11.675597</td>\n",
       "    </tr>\n",
       "    <tr>\n",
       "      <th>min</th>\n",
       "      <td>-20.568680</td>\n",
       "    </tr>\n",
       "    <tr>\n",
       "      <th>25%</th>\n",
       "      <td>4.470841</td>\n",
       "    </tr>\n",
       "    <tr>\n",
       "      <th>50%</th>\n",
       "      <td>14.734665</td>\n",
       "    </tr>\n",
       "    <tr>\n",
       "      <th>75%</th>\n",
       "      <td>22.566462</td>\n",
       "    </tr>\n",
       "    <tr>\n",
       "      <th>max</th>\n",
       "      <td>35.738109</td>\n",
       "    </tr>\n",
       "  </tbody>\n",
       "</table>\n",
       "</div>"
      ],
      "text/plain": [
       "       temperature\n",
       "count  1415.000000\n",
       "mean     13.119741\n",
       "std      11.675597\n",
       "min     -20.568680\n",
       "25%       4.470841\n",
       "50%      14.734665\n",
       "75%      22.566462\n",
       "max      35.738109"
      ]
     },
     "execution_count": 10,
     "metadata": {},
     "output_type": "execute_result"
    }
   ],
   "source": [
    "data.describe()"
   ]
  },
  {
   "cell_type": "markdown",
   "metadata": {},
   "source": [
    "## Análise da série temporal"
   ]
  },
  {
   "cell_type": "code",
   "execution_count": 11,
   "metadata": {},
   "outputs": [
    {
     "data": {
      "text/plain": [
       "date\n",
       "2013-01-01   -1.605945\n",
       "2013-01-02   -3.112448\n",
       "2013-01-03   -8.121035\n",
       "2013-01-04   -5.965177\n",
       "2013-01-05   -2.759736\n",
       "Name: temperature, dtype: float64"
      ]
     },
     "execution_count": 11,
     "metadata": {},
     "output_type": "execute_result"
    }
   ],
   "source": [
    "# criar série temporal a partir do dataframe\n",
    "ts = data['temperature']\n",
    "##ts = ts.asfreq(frequencia)\n",
    "ts.head()"
   ]
  },
  {
   "cell_type": "code",
   "execution_count": 12,
   "metadata": {
    "scrolled": false
   },
   "outputs": [
    {
     "data": {
      "image/png": "[encoded data removed]",
      "text/plain": [
       "<Figure size 1080x432 with 1 Axes>"
      ]
     },
     "metadata": {
      "needs_background": "light"
     },
     "output_type": "display_data"
    }
   ],
   "source": [
    "# plotar a série temporal\n",
    "plt.plot(ts)\n",
    "plt.title('Temperatura ao longo dos anos (em graus Celsius)', fontsize=20)\n",
    "plt.show()"
   ]
  },
  {
   "cell_type": "markdown",
   "metadata": {},
   "source": [
    "## Modelagem preditiva"
   ]
  },
  {
   "cell_type": "markdown",
   "metadata": {},
   "source": [
    "### Preditor automático TBATS\n",
    "- https://github.com/intive-DataScience/tbats"
   ]
  },
  {
   "cell_type": "code",
   "execution_count": 13,
   "metadata": {},
   "outputs": [
    {
     "name": "stdout",
     "output_type": "stream",
     "text": [
      "Treino: (1050,)\n",
      "Teste:  (365,)\n"
     ]
    }
   ],
   "source": [
    "# dividir dados entre treino e teste\n",
    "corte = (len(ts) - 365) # 1 ano\n",
    "#corte = int(len(ts) * 0.75)\n",
    "treino = ts[:corte]\n",
    "teste = ts[corte:]\n",
    "print('Treino:', treino.shape)\n",
    "print('Teste: ', teste.shape)"
   ]
  },
  {
   "cell_type": "code",
   "execution_count": 14,
   "metadata": {
    "scrolled": false
   },
   "outputs": [
    {
     "name": "stdout",
     "output_type": "stream",
     "text": [
      "CPU times: user 3.8 s, sys: 131 ms, total: 3.93 s\n",
      "Wall time: 51.5 s\n",
      "\n",
      "Use Box-Cox: False\n",
      "Use trend: True\n",
      "Use damped trend: True\n",
      "Seasonal periods: []\n",
      "Seasonal harmonics []\n",
      "ARMA errors (p, q): (0, 2)\n",
      "Smoothing (Alpha): 0.472767\n",
      "Trend (Beta): -0.060771\n",
      "Damping Parameter (Phi): 0.800000\n",
      "Seasonal Parameters (Gamma): []\n",
      "AR coefficients []\n",
      "MA coefficients [ 0.25446203 -0.0965354 ]\n",
      "Seed vector [-3.46248137  1.63425757  0.          0.        ]\n",
      "\n",
      "AIC 10230.095340\n"
     ]
    }
   ],
   "source": [
    "from tbats import TBATS, BATS\n",
    "\n",
    "model = TBATS(seasonal_periods=(periodo1, periodo2), use_trend=True)\n",
    "%time smodel = model.fit(treino)\n",
    "\n",
    "print('\\n' + smodel.summary())"
   ]
  },
  {
   "cell_type": "markdown",
   "metadata": {},
   "source": [
    "### Avaliação do resultado em previsões futuras"
   ]
  },
  {
   "cell_type": "code",
   "execution_count": 15,
   "metadata": {},
   "outputs": [
    {
     "data": {
      "image/png": "[encoded data removed]",
      "text/plain": [
       "<Figure size 1080x432 with 1 Axes>"
      ]
     },
     "metadata": {
      "needs_background": "light"
     },
     "output_type": "display_data"
    }
   ],
   "source": [
    "# realizar a previsão\n",
    "fitted, confidence = smodel.forecast(steps=len(teste), confidence_level=0.95)\n",
    "index_of_fc = pd.date_range(teste.index[0], periods=len(teste), freq='D')\n",
    "\n",
    "# criar séries para plotagem\n",
    "fitted_series = pd.Series(confidence['mean'], index=index_of_fc)\n",
    "lower_series = pd.Series(confidence['lower_bound'], index=index_of_fc)\n",
    "upper_series = pd.Series(confidence['upper_bound'], index=index_of_fc)\n",
    "\n",
    "# plotar gráfico\n",
    "plt.plot(ts)\n",
    "plt.plot(fitted_series, color='darkgreen')\n",
    "plt.fill_between(lower_series.index,\n",
    "                 lower_series, \n",
    "                 upper_series, \n",
    "                 color='k', alpha=.15)\n",
    "plt.title(\"Previsão de temperaturas com TBATS\", fontsize=20)\n",
    "plt.show()"
   ]
  },
  {
   "cell_type": "code",
   "execution_count": 16,
   "metadata": {},
   "outputs": [],
   "source": [
    "def rmse(predictions, targets):\n",
    "    assert len(predictions) == len(targets)\n",
    "    return np.sqrt(np.mean((predictions - targets) ** 2))\n",
    "\n",
    "def rmsle(predictions, targets):\n",
    "    assert len(predictions) == len(targets)\n",
    "    return np.sqrt(np.mean((np.log(1 + predictions) - np.log(1 + targets)) ** 2))"
   ]
  },
  {
   "cell_type": "code",
   "execution_count": 17,
   "metadata": {},
   "outputs": [
    {
     "name": "stdout",
     "output_type": "stream",
     "text": [
      "RMSE: 10.989820981173047\n"
     ]
    }
   ],
   "source": [
    "print('RMSE:', rmse(fitted_series, teste))"
   ]
  },
  {
   "cell_type": "markdown",
   "metadata": {},
   "source": [
    "### Previsão de valores futuros com os dados de teste"
   ]
  },
  {
   "cell_type": "code",
   "execution_count": 18,
   "metadata": {
    "scrolled": false
   },
   "outputs": [
    {
     "name": "stdout",
     "output_type": "stream",
     "text": [
      "CPU times: user 6.81 s, sys: 174 ms, total: 6.99 s\n",
      "Wall time: 57.2 s\n",
      "\n",
      "Use Box-Cox: False\n",
      "Use trend: True\n",
      "Use damped trend: True\n",
      "Seasonal periods: []\n",
      "Seasonal harmonics []\n",
      "ARMA errors (p, q): (2, 1)\n",
      "Smoothing (Alpha): 0.914406\n",
      "Trend (Beta): -0.141984\n",
      "Damping Parameter (Phi): 0.800000\n",
      "Seasonal Parameters (Gamma): []\n",
      "AR coefficients [ 0.03797429 -0.21217449]\n",
      "MA coefficients [-0.09324405]\n",
      "Seed vector [-3.46248137  1.63425757  0.          0.          0.        ]\n",
      "\n",
      "AIC 14120.191652\n"
     ]
    }
   ],
   "source": [
    "from tbats import TBATS, BATS\n",
    "\n",
    "model = TBATS(seasonal_periods=(periodo1, periodo2), use_trend=True)\n",
    "%time smodel = model.fit(ts)\n",
    "\n",
    "print('\\n' + smodel.summary())"
   ]
  },
  {
   "cell_type": "code",
   "execution_count": 19,
   "metadata": {},
   "outputs": [
    {
     "name": "stdout",
     "output_type": "stream",
     "text": [
      "Intervalo de datas: 2016-11-17 00:00:00 => 2017-11-29 00:00:00\n"
     ]
    },
    {
     "data": {
      "text/plain": [
       "DatetimeIndex(['2016-11-17', '2016-11-18', '2016-11-19', '2016-11-20',\n",
       "               '2016-11-21', '2016-11-22', '2016-11-23', '2016-11-24',\n",
       "               '2016-11-25', '2016-11-26',\n",
       "               ...\n",
       "               '2017-11-20', '2017-11-21', '2017-11-22', '2017-11-23',\n",
       "               '2017-11-24', '2017-11-25', '2017-11-26', '2017-11-27',\n",
       "               '2017-11-28', '2017-11-29'],\n",
       "              dtype='datetime64[ns]', name='date', length=378, freq=None)"
      ]
     },
     "execution_count": 19,
     "metadata": {},
     "output_type": "execute_result"
    }
   ],
   "source": [
    "# obter intervalo de datas para a previsão\n",
    "primeira_data = test_data.index[0]\n",
    "ultima_data = test_data.index[-1]\n",
    "print('Intervalo de datas: %s => %s' % (primeira_data, ultima_data))\n",
    "datas_previsao = test_data.index\n",
    "datas_previsao"
   ]
  },
  {
   "cell_type": "code",
   "execution_count": 20,
   "metadata": {},
   "outputs": [],
   "source": [
    "# gerar novos valores a partir do modelo\n",
    "periodos_previsao = len(datas_previsao)\n",
    "valores_previstos, confianca = smodel.forecast(steps=len(datas_previsao), confidence_level=0.95)"
   ]
  },
  {
   "cell_type": "code",
   "execution_count": 21,
   "metadata": {},
   "outputs": [
    {
     "name": "stdout",
     "output_type": "stream",
     "text": [
      "<class 'pandas.core.frame.DataFrame'>\n",
      "DatetimeIndex: 378 entries, 2016-11-17 to 2017-11-29\n",
      "Data columns (total 1 columns):\n",
      "temperature    378 non-null float64\n",
      "dtypes: float64(1)\n",
      "memory usage: 5.9 KB\n"
     ]
    },
    {
     "data": {
      "text/html": [
       "<div>\n",
       "<style scoped>\n",
       "    .dataframe tbody tr th:only-of-type {\n",
       "        vertical-align: middle;\n",
       "    }\n",
       "\n",
       "    .dataframe tbody tr th {\n",
       "        vertical-align: top;\n",
       "    }\n",
       "\n",
       "    .dataframe thead th {\n",
       "        text-align: right;\n",
       "    }\n",
       "</style>\n",
       "<table border=\"1\" class=\"dataframe\">\n",
       "  <thead>\n",
       "    <tr style=\"text-align: right;\">\n",
       "      <th></th>\n",
       "      <th>temperature</th>\n",
       "    </tr>\n",
       "    <tr>\n",
       "      <th>date</th>\n",
       "      <th></th>\n",
       "    </tr>\n",
       "  </thead>\n",
       "  <tbody>\n",
       "    <tr>\n",
       "      <th>2016-11-17</th>\n",
       "      <td>16.087295</td>\n",
       "    </tr>\n",
       "    <tr>\n",
       "      <th>2016-11-18</th>\n",
       "      <td>15.436361</td>\n",
       "    </tr>\n",
       "    <tr>\n",
       "      <th>2016-11-19</th>\n",
       "      <td>15.621023</td>\n",
       "    </tr>\n",
       "    <tr>\n",
       "      <th>2016-11-20</th>\n",
       "      <td>15.827499</td>\n",
       "    </tr>\n",
       "    <tr>\n",
       "      <th>2016-11-21</th>\n",
       "      <td>15.845241</td>\n",
       "    </tr>\n",
       "  </tbody>\n",
       "</table>\n",
       "</div>"
      ],
      "text/plain": [
       "            temperature\n",
       "date                   \n",
       "2016-11-17    16.087295\n",
       "2016-11-18    15.436361\n",
       "2016-11-19    15.621023\n",
       "2016-11-20    15.827499\n",
       "2016-11-21    15.845241"
      ]
     },
     "execution_count": 21,
     "metadata": {},
     "output_type": "execute_result"
    }
   ],
   "source": [
    "# construir dataframe com previsão\n",
    "df = pd.DataFrame({\n",
    "    'date': datas_previsao,\n",
    "    'temperature': valores_previstos\n",
    "})\n",
    "df.set_index('date', inplace=True)\n",
    "df.info()\n",
    "df.head()"
   ]
  },
  {
   "cell_type": "code",
   "execution_count": 22,
   "metadata": {},
   "outputs": [
    {
     "name": "stdout",
     "output_type": "stream",
     "text": [
      "<class 'pandas.core.frame.DataFrame'>\n",
      "DatetimeIndex: 378 entries, 2016-11-17 to 2017-11-29\n",
      "Data columns (total 1 columns):\n",
      "temperature    378 non-null float64\n",
      "dtypes: float64(1)\n",
      "memory usage: 5.9 KB\n"
     ]
    }
   ],
   "source": [
    "df.info()"
   ]
  },
  {
   "cell_type": "code",
   "execution_count": 23,
   "metadata": {},
   "outputs": [
    {
     "name": "stdout",
     "output_type": "stream",
     "text": [
      "Intervalo necessário: 2016-11-17 00:00:00 => 2017-11-29 00:00:00\n"
     ]
    }
   ],
   "source": [
    "# obter intervalo de datas necessário\n",
    "data_inicio = test_data.index[0]\n",
    "data_final = test_data.index[-1]\n",
    "print('Intervalo necessário:', data_inicio, '=>', data_final)"
   ]
  },
  {
   "cell_type": "code",
   "execution_count": 24,
   "metadata": {
    "scrolled": true
   },
   "outputs": [
    {
     "name": "stdout",
     "output_type": "stream",
     "text": [
      "<class 'pandas.core.frame.DataFrame'>\n",
      "DatetimeIndex: 378 entries, 2016-11-17 to 2017-11-29\n",
      "Data columns (total 1 columns):\n",
      "temperature    378 non-null float64\n",
      "dtypes: float64(1)\n",
      "memory usage: 5.9 KB\n"
     ]
    },
    {
     "data": {
      "text/html": [
       "<div>\n",
       "<style scoped>\n",
       "    .dataframe tbody tr th:only-of-type {\n",
       "        vertical-align: middle;\n",
       "    }\n",
       "\n",
       "    .dataframe tbody tr th {\n",
       "        vertical-align: top;\n",
       "    }\n",
       "\n",
       "    .dataframe thead th {\n",
       "        text-align: right;\n",
       "    }\n",
       "</style>\n",
       "<table border=\"1\" class=\"dataframe\">\n",
       "  <thead>\n",
       "    <tr style=\"text-align: right;\">\n",
       "      <th></th>\n",
       "      <th>temperature</th>\n",
       "    </tr>\n",
       "    <tr>\n",
       "      <th>date</th>\n",
       "      <th></th>\n",
       "    </tr>\n",
       "  </thead>\n",
       "  <tbody>\n",
       "    <tr>\n",
       "      <th>2016-11-17</th>\n",
       "      <td>16.087295</td>\n",
       "    </tr>\n",
       "    <tr>\n",
       "      <th>2016-11-18</th>\n",
       "      <td>15.436361</td>\n",
       "    </tr>\n",
       "    <tr>\n",
       "      <th>2016-11-19</th>\n",
       "      <td>15.621023</td>\n",
       "    </tr>\n",
       "    <tr>\n",
       "      <th>2016-11-20</th>\n",
       "      <td>15.827499</td>\n",
       "    </tr>\n",
       "    <tr>\n",
       "      <th>2016-11-21</th>\n",
       "      <td>15.845241</td>\n",
       "    </tr>\n",
       "  </tbody>\n",
       "</table>\n",
       "</div>"
      ],
      "text/plain": [
       "            temperature\n",
       "date                   \n",
       "2016-11-17    16.087295\n",
       "2016-11-18    15.436361\n",
       "2016-11-19    15.621023\n",
       "2016-11-20    15.827499\n",
       "2016-11-21    15.845241"
      ]
     },
     "execution_count": 24,
     "metadata": {},
     "output_type": "execute_result"
    }
   ],
   "source": [
    "# restringir ao intervalo de datas esperado\n",
    "pred_data = df\n",
    "#pred_data = pred_data[data_inicio:data_final]\n",
    "\n",
    "# converter temperaturas novamente para graus Celsius\n",
    "#pred_data['temperature'] -= 273.15\n",
    "\n",
    "# exibir informações do dataframe\n",
    "pred_data.info()\n",
    "pred_data.head()"
   ]
  },
  {
   "cell_type": "markdown",
   "metadata": {},
   "source": [
    "## Geração do arquivo de resultados"
   ]
  },
  {
   "cell_type": "code",
   "execution_count": 25,
   "metadata": {},
   "outputs": [],
   "source": [
    "# criar diretório de submissões\n",
    "!dd=\"submissions/\"; if [ ! -d $dd ]; then mkdir $dd; fi"
   ]
  },
  {
   "cell_type": "code",
   "execution_count": 26,
   "metadata": {},
   "outputs": [
    {
     "name": "stdout",
     "output_type": "stream",
     "text": [
      "Arquivo gravado com sucesso: submissions/weather-submission-tbats-7.50-365.25-2013-01.csv\n"
     ]
    }
   ],
   "source": [
    "# gravar arquivo CSV com os resultados\n",
    "nome_arquivo = 'submissions/weather-submission-tbats-' + \\\n",
    "    '%.2f-%.2f-' % (periodo1, periodo2) + \\\n",
    "    data_inicio_amostra + '.csv'\n",
    "pred_data.to_csv(nome_arquivo)\n",
    "print('Arquivo gravado com sucesso:', nome_arquivo)"
   ]
  },
  {
   "cell_type": "raw",
   "metadata": {},
   "source": [
    "# persistir em arquivo Pickle o modelo preditivo\n",
    "nome_arquivo = 'weather-model-' + frequencia + '.pickle'\n",
    "pickle.dump(smodel, open(nome_arquivo, 'wb'))\n",
    "print('Arquivo gravado com sucesso:', nome_arquivo)"
   ]
  },
  {
   "cell_type": "markdown",
   "metadata": {},
   "source": [
    "## Comparação da previsão com dados reais"
   ]
  },
  {
   "cell_type": "raw",
   "metadata": {},
   "source": [
    "# carregar dados reais\n",
    "real_data = pd.read_csv(prefixo_arquivos + 'weather-solution.csv', index_col='date', parse_dates=['date'])\n",
    "real_data.head()"
   ]
  },
  {
   "cell_type": "raw",
   "metadata": {},
   "source": [
    "# comparação com os dados reais\n",
    "plt.plot(pred_data)\n",
    "plt.plot(real_data)\n",
    "plt.title('Temperaturas previstas x reais', fontsize=20)\n",
    "plt.show()"
   ]
  },
  {
   "cell_type": "markdown",
   "metadata": {},
   "source": [
    "### Medição do Erro Médio Quadrático (RMSE)"
   ]
  },
  {
   "cell_type": "raw",
   "metadata": {},
   "source": [
    "print('RMSE:', rmse(pred_data['temperature'], real_data['temperature']))"
   ]
  }
 ],
 "metadata": {
  "kernelspec": {
   "display_name": "Python 3",
   "language": "python",
   "name": "python3"
  },
  "language_info": {
   "codemirror_mode": {
    "name": "ipython",
    "version": 3
   },
   "file_extension": ".py",
   "mimetype": "text/x-python",
   "name": "python",
   "nbconvert_exporter": "python",
   "pygments_lexer": "ipython3",
   "version": "3.7.1"
  }
 },
 "nbformat": 4,
 "nbformat_minor": 2
}
