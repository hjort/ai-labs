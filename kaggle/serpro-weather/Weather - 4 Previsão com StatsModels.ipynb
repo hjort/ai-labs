{
 "cells": [
  {
   "cell_type": "markdown",
   "metadata": {},
   "source": [
    "## Séries Temporais\n",
    "\n",
    "### Complete guide to Time Series Forecasting (with Codes in Python)\n",
    "- https://www.analyticsvidhya.com/blog/2016/02/time-series-forecasting-codes-python/\n",
    "\n",
    "### How to Check if Time Series Data is Stationary with Python\n",
    "- https://machinelearningmastery.com/time-series-data-stationary-python/\n",
    "\n",
    "### How to Create an ARIMA Model for Time Series Forecasting in Python\n",
    "- https://machinelearningmastery.com/arima-for-time-series-forecasting-with-python/\n",
    "\n",
    "### Time Series Forecasting - ARIMA models - Towards Data Science\n",
    "- https://towardsdatascience.com/time-series-forecasting-arima-models-7f221e9eee06\n",
    "\n",
    "### ARIMA Model – Complete Guide to Time Series Forecasting in Python\n",
    "- https://www.machinelearningplus.com/time-series/arima-model-time-series-forecasting-python/"
   ]
  },
  {
   "cell_type": "code",
   "execution_count": 1,
   "metadata": {},
   "outputs": [],
   "source": [
    "# importar pacotes necessários\n",
    "import pandas as pd\n",
    "import numpy as np\n",
    "import matplotlib.pylab as plt\n",
    "#import matplotlib.pyplot as plt"
   ]
  },
  {
   "cell_type": "code",
   "execution_count": 2,
   "metadata": {},
   "outputs": [],
   "source": [
    "%matplotlib inline\n",
    "from matplotlib.pylab import rcParams\n",
    "rcParams['figure.figsize'] = 15, 6"
   ]
  },
  {
   "cell_type": "raw",
   "metadata": {},
   "source": [
    "dateparse = lambda dates: pd.datetime.strptime(dates, '%Y-%m')\n",
    "data = pd.read_csv('AirPassengers.csv', parse_dates=['Month'], index_col='Month', date_parser=dateparse)\n",
    "print data.head()"
   ]
  },
  {
   "cell_type": "code",
   "execution_count": 3,
   "metadata": {},
   "outputs": [
    {
     "name": "stdout",
     "output_type": "stream",
     "text": [
      "Data Types:\n",
      " temperature    float64\n",
      "dtype: object\n",
      "\n",
      "Index:\n",
      " DatetimeIndex(['2012-10-01', '2012-10-02', '2012-10-03', '2012-10-04',\n",
      "               '2012-10-05', '2012-10-06', '2012-10-07', '2012-10-08',\n",
      "               '2012-10-09', '2012-10-10',\n",
      "               ...\n",
      "               '2016-11-07', '2016-11-08', '2016-11-09', '2016-11-10',\n",
      "               '2016-11-11', '2016-11-12', '2016-11-13', '2016-11-14',\n",
      "               '2016-11-15', '2016-11-16'],\n",
      "              dtype='datetime64[ns]', name='date', length=1508, freq=None)\n"
     ]
    },
    {
     "data": {
      "text/html": [
       "<div>\n",
       "<style scoped>\n",
       "    .dataframe tbody tr th:only-of-type {\n",
       "        vertical-align: middle;\n",
       "    }\n",
       "\n",
       "    .dataframe tbody tr th {\n",
       "        vertical-align: top;\n",
       "    }\n",
       "\n",
       "    .dataframe thead th {\n",
       "        text-align: right;\n",
       "    }\n",
       "</style>\n",
       "<table border=\"1\" class=\"dataframe\">\n",
       "  <thead>\n",
       "    <tr style=\"text-align: right;\">\n",
       "      <th></th>\n",
       "      <th>temperature</th>\n",
       "    </tr>\n",
       "    <tr>\n",
       "      <th>date</th>\n",
       "      <th></th>\n",
       "    </tr>\n",
       "  </thead>\n",
       "  <tbody>\n",
       "    <tr>\n",
       "      <th>2012-10-01</th>\n",
       "      <td>11.036840</td>\n",
       "    </tr>\n",
       "    <tr>\n",
       "      <th>2012-10-02</th>\n",
       "      <td>14.340558</td>\n",
       "    </tr>\n",
       "    <tr>\n",
       "      <th>2012-10-03</th>\n",
       "      <td>14.518382</td>\n",
       "    </tr>\n",
       "    <tr>\n",
       "      <th>2012-10-04</th>\n",
       "      <td>16.820351</td>\n",
       "    </tr>\n",
       "    <tr>\n",
       "      <th>2012-10-05</th>\n",
       "      <td>16.948431</td>\n",
       "    </tr>\n",
       "  </tbody>\n",
       "</table>\n",
       "</div>"
      ],
      "text/plain": [
       "            temperature\n",
       "date                   \n",
       "2012-10-01    11.036840\n",
       "2012-10-02    14.340558\n",
       "2012-10-03    14.518382\n",
       "2012-10-04    16.820351\n",
       "2012-10-05    16.948431"
      ]
     },
     "execution_count": 3,
     "metadata": {},
     "output_type": "execute_result"
    }
   ],
   "source": [
    "# carregar arquivo de dados de treino\n",
    "data = pd.read_csv('weather-train.csv', index_col='date', parse_dates=['date'])\n",
    "\n",
    "#print(\"Data Types:\\n\", data.dtypes)\n",
    "#print(\"\\nIndex:\\n\", data.index)\n",
    "\n",
    "data.head()"
   ]
  },
  {
   "cell_type": "code",
   "execution_count": 4,
   "metadata": {},
   "outputs": [
    {
     "data": {
      "text/html": [
       "<div>\n",
       "<style scoped>\n",
       "    .dataframe tbody tr th:only-of-type {\n",
       "        vertical-align: middle;\n",
       "    }\n",
       "\n",
       "    .dataframe tbody tr th {\n",
       "        vertical-align: top;\n",
       "    }\n",
       "\n",
       "    .dataframe thead th {\n",
       "        text-align: right;\n",
       "    }\n",
       "</style>\n",
       "<table border=\"1\" class=\"dataframe\">\n",
       "  <thead>\n",
       "    <tr style=\"text-align: right;\">\n",
       "      <th></th>\n",
       "      <th>temperature</th>\n",
       "    </tr>\n",
       "    <tr>\n",
       "      <th>date</th>\n",
       "      <th></th>\n",
       "    </tr>\n",
       "  </thead>\n",
       "  <tbody>\n",
       "    <tr>\n",
       "      <th>2012-10-01</th>\n",
       "      <td>286.624154</td>\n",
       "    </tr>\n",
       "    <tr>\n",
       "      <th>2012-10-08</th>\n",
       "      <td>280.282641</td>\n",
       "    </tr>\n",
       "    <tr>\n",
       "      <th>2012-10-15</th>\n",
       "      <td>285.268254</td>\n",
       "    </tr>\n",
       "    <tr>\n",
       "      <th>2012-10-22</th>\n",
       "      <td>286.010448</td>\n",
       "    </tr>\n",
       "    <tr>\n",
       "      <th>2012-10-29</th>\n",
       "      <td>278.265557</td>\n",
       "    </tr>\n",
       "  </tbody>\n",
       "</table>\n",
       "</div>"
      ],
      "text/plain": [
       "            temperature\n",
       "date                   \n",
       "2012-10-01   286.624154\n",
       "2012-10-08   280.282641\n",
       "2012-10-15   285.268254\n",
       "2012-10-22   286.010448\n",
       "2012-10-29   278.265557"
      ]
     },
     "execution_count": 4,
     "metadata": {},
     "output_type": "execute_result"
    }
   ],
   "source": [
    "data = data.dropna()\n",
    "\n",
    "data = data.resample('7D').mean()\n",
    "#data = data.resample('15D').mean()\n",
    "#data = data.resample('M').mean()\n",
    "\n",
    "#data = data['2015-01':'2015-12']\n",
    "#data = data['2013-01':'2014-12']\n",
    "#data = data['2013-01':'2015-12']\n",
    "\n",
    "data['temperature'] += 273.15\n",
    "\n",
    "data.head()"
   ]
  },
  {
   "cell_type": "code",
   "execution_count": 5,
   "metadata": {},
   "outputs": [
    {
     "name": "stdout",
     "output_type": "stream",
     "text": [
      "<class 'pandas.core.frame.DataFrame'>\n",
      "DatetimeIndex: 216 entries, 2012-10-01 to 2016-11-14\n",
      "Data columns (total 1 columns):\n",
      "temperature    216 non-null float64\n",
      "dtypes: float64(1)\n",
      "memory usage: 3.4 KB\n"
     ]
    }
   ],
   "source": [
    "data.info()"
   ]
  },
  {
   "cell_type": "code",
   "execution_count": 6,
   "metadata": {},
   "outputs": [
    {
     "data": {
      "text/html": [
       "<div>\n",
       "<style scoped>\n",
       "    .dataframe tbody tr th:only-of-type {\n",
       "        vertical-align: middle;\n",
       "    }\n",
       "\n",
       "    .dataframe tbody tr th {\n",
       "        vertical-align: top;\n",
       "    }\n",
       "\n",
       "    .dataframe thead th {\n",
       "        text-align: right;\n",
       "    }\n",
       "</style>\n",
       "<table border=\"1\" class=\"dataframe\">\n",
       "  <thead>\n",
       "    <tr style=\"text-align: right;\">\n",
       "      <th></th>\n",
       "      <th>temperature</th>\n",
       "    </tr>\n",
       "  </thead>\n",
       "  <tbody>\n",
       "    <tr>\n",
       "      <th>count</th>\n",
       "      <td>216.000000</td>\n",
       "    </tr>\n",
       "    <tr>\n",
       "      <th>mean</th>\n",
       "      <td>285.830010</td>\n",
       "    </tr>\n",
       "    <tr>\n",
       "      <th>std</th>\n",
       "      <td>10.969908</td>\n",
       "    </tr>\n",
       "    <tr>\n",
       "      <th>min</th>\n",
       "      <td>260.033010</td>\n",
       "    </tr>\n",
       "    <tr>\n",
       "      <th>25%</th>\n",
       "      <td>277.275119</td>\n",
       "    </tr>\n",
       "    <tr>\n",
       "      <th>50%</th>\n",
       "      <td>287.076738</td>\n",
       "    </tr>\n",
       "    <tr>\n",
       "      <th>75%</th>\n",
       "      <td>295.180320</td>\n",
       "    </tr>\n",
       "    <tr>\n",
       "      <th>max</th>\n",
       "      <td>306.179648</td>\n",
       "    </tr>\n",
       "  </tbody>\n",
       "</table>\n",
       "</div>"
      ],
      "text/plain": [
       "       temperature\n",
       "count   216.000000\n",
       "mean    285.830010\n",
       "std      10.969908\n",
       "min     260.033010\n",
       "25%     277.275119\n",
       "50%     287.076738\n",
       "75%     295.180320\n",
       "max     306.179648"
      ]
     },
     "execution_count": 6,
     "metadata": {},
     "output_type": "execute_result"
    }
   ],
   "source": [
    "data.describe()"
   ]
  },
  {
   "cell_type": "code",
   "execution_count": 7,
   "metadata": {},
   "outputs": [
    {
     "data": {
      "text/plain": [
       "date\n",
       "2012-10-01    286.624154\n",
       "2012-10-08    280.282641\n",
       "2012-10-15    285.268254\n",
       "2012-10-22    286.010448\n",
       "2012-10-29    278.265557\n",
       "Name: temperature, dtype: float64"
      ]
     },
     "execution_count": 7,
     "metadata": {},
     "output_type": "execute_result"
    }
   ],
   "source": [
    "ts = data['temperature']\n",
    "\n",
    "ts.head()"
   ]
  },
  {
   "cell_type": "code",
   "execution_count": 8,
   "metadata": {},
   "outputs": [
    {
     "data": {
      "text/plain": [
       "[<matplotlib.lines.Line2D at 0x7f19dd3c1fd0>]"
      ]
     },
     "execution_count": 8,
     "metadata": {},
     "output_type": "execute_result"
    },
    {
     "data": {
      "image/png": "[encoded data removed]",
      "text/plain": [
       "<Figure size 1080x432 with 1 Axes>"
      ]
     },
     "metadata": {
      "needs_background": "light"
     },
     "output_type": "display_data"
    }
   ],
   "source": [
    "plt.plot(ts)"
   ]
  },
  {
   "cell_type": "raw",
   "metadata": {},
   "source": [
    "from statsmodels.tsa.stattools import adfuller\n",
    "\n",
    "def test_stationarity(timeseries):\n",
    "    \n",
    "    #Determing rolling statistics\n",
    "    window = 365\n",
    "    rolmean = timeseries.rolling(window).mean()\n",
    "    rolstd = timeseries.rolling(window).std()\n",
    "    #rolmean = pd.rolling_mean(timeseries, window=12)\n",
    "    #rolstd = pd.rolling_std(timeseries, window=12)\n",
    "\n",
    "    #Plot rolling statistics:\n",
    "    orig = plt.plot(timeseries, color='blue', label='Original')\n",
    "    mean = plt.plot(rolmean, color='red', label='Rolling Mean')\n",
    "    std = plt.plot(rolstd, color='black', label='Rolling Std')\n",
    "    plt.legend(loc='best')\n",
    "    plt.title('Rolling Mean & Standard Deviation')\n",
    "    plt.show(block=False)\n",
    "    \n",
    "    #Perform Dickey-Fuller test\n",
    "    print('Results of Dickey-Fuller Test:')\n",
    "    dftest = adfuller(ts)\n",
    "    dfoutput = pd.Series(dftest[0:4], index=[\n",
    "        'Test Statistic', 'p-value', '#Lags Used', 'Number of Observations Used'])\n",
    "    for key, value in dftest[4].items():\n",
    "        dfoutput['Critical Value (%s)' % key] = value\n",
    "    print(dfoutput)"
   ]
  },
  {
   "cell_type": "raw",
   "metadata": {},
   "source": [
    "test_stationarity(ts)"
   ]
  },
  {
   "cell_type": "code",
   "execution_count": 9,
   "metadata": {},
   "outputs": [
    {
     "name": "stdout",
     "output_type": "stream",
     "text": [
      "ADF Statistic: -5.262713\n",
      "p-value: 0.000007\n"
     ]
    }
   ],
   "source": [
    "from statsmodels.tsa.stattools import adfuller\n",
    "result = adfuller(ts.values)\n",
    "\n",
    "print('ADF Statistic: %f' % result[0])\n",
    "print('p-value: %f' % result[1])"
   ]
  },
  {
   "cell_type": "code",
   "execution_count": 10,
   "metadata": {},
   "outputs": [],
   "source": [
    "df = ts.to_frame()"
   ]
  },
  {
   "cell_type": "raw",
   "metadata": {},
   "source": [
    "!pip install pmdarima"
   ]
  },
  {
   "cell_type": "code",
   "execution_count": 11,
   "metadata": {},
   "outputs": [
    {
     "name": "stdout",
     "output_type": "stream",
     "text": [
      "adf: 1\n",
      "kpss: 1\n",
      "pp: 1\n"
     ]
    }
   ],
   "source": [
    "from pmdarima.arima.utils import ndiffs\n",
    "\n",
    "y = ts\n",
    "\n",
    "## Adf Test\n",
    "print('adf:', ndiffs(y, test='adf')) # 2\n",
    "\n",
    "# KPSS test\n",
    "print('kpss:', ndiffs(y, test='kpss')) # 0\n",
    "\n",
    "# PP test:\n",
    "print('pp:', ndiffs(y, test='pp')) # 2"
   ]
  },
  {
   "cell_type": "raw",
   "metadata": {},
   "source": [
    "# Estimating & Eliminating Trend\n",
    "ts_log = np.log(ts)\n",
    "ts_log.head()"
   ]
  },
  {
   "cell_type": "raw",
   "metadata": {},
   "source": [
    "plt.plot(ts_log)"
   ]
  },
  {
   "cell_type": "raw",
   "metadata": {},
   "source": [
    "# Moving average\n",
    "moving_avg = ts_log.rolling(7).mean()\n",
    "#moving_avg = pd.rolling_mean(ts_log,12)\n",
    "plt.plot(ts_log)\n",
    "plt.plot(moving_avg, color='red')"
   ]
  },
  {
   "cell_type": "raw",
   "metadata": {},
   "source": [
    "ts_log_moving_avg_diff = ts_log - moving_avg\n",
    "ts_log_moving_avg_diff.head(10)"
   ]
  },
  {
   "cell_type": "raw",
   "metadata": {},
   "source": [
    "ts_log_moving_avg_diff.dropna(inplace=True)\n",
    "test_stationarity(ts_log_moving_avg_diff)"
   ]
  },
  {
   "cell_type": "raw",
   "metadata": {},
   "source": [
    "# exponentially weighted moving average (EWMA)\n",
    "\n",
    "expwighted_avg = ts_log.to_frame().ewm(halflife=7).mean()\n",
    "#expwighted_avg = pd.ewma(ts_log, halflife=12)\n",
    "expwighted_avg = expwighted_avg['temperature']\n",
    "\n",
    "plt.plot(ts_log)\n",
    "plt.plot(expwighted_avg, color='red')"
   ]
  },
  {
   "cell_type": "raw",
   "metadata": {},
   "source": [
    "ts_log_ewma_diff = ts_log - expwighted_avg\n",
    "test_stationarity(ts_log_ewma_diff)"
   ]
  },
  {
   "cell_type": "markdown",
   "metadata": {},
   "source": [
    "## Eliminating Trend and Seasonality"
   ]
  },
  {
   "cell_type": "markdown",
   "metadata": {},
   "source": [
    "### Differencing"
   ]
  },
  {
   "cell_type": "raw",
   "metadata": {},
   "source": [
    "ts_log_diff = ts_log - ts_log.shift(-7)\n",
    "#ts_log_diff = ts_log - ts_log.shift()\n",
    "plt.plot(ts_log_diff)"
   ]
  },
  {
   "cell_type": "raw",
   "metadata": {},
   "source": [
    "ts_log_diff.dropna(inplace=True)\n",
    "test_stationarity(ts_log_diff)"
   ]
  },
  {
   "cell_type": "markdown",
   "metadata": {},
   "source": [
    "### Decomposing"
   ]
  },
  {
   "cell_type": "raw",
   "metadata": {},
   "source": [
    "from statsmodels.tsa.seasonal import seasonal_decompose\n",
    "\n",
    "decomposition = seasonal_decompose(ts_log.dropna(), freq=365)\n",
    "#decomposition = seasonal_decompose(ts_log)\n",
    "\n",
    "trend = decomposition.trend\n",
    "seasonal = decomposition.seasonal\n",
    "residual = decomposition.resid\n",
    "\n",
    "plt.subplot(411)\n",
    "plt.plot(ts_log, label='Original')\n",
    "plt.legend(loc='best')\n",
    "plt.subplot(412)\n",
    "plt.plot(trend, label='Trend')\n",
    "plt.legend(loc='best')\n",
    "plt.subplot(413)\n",
    "plt.plot(seasonal,label='Seasonality')\n",
    "plt.legend(loc='best')\n",
    "plt.subplot(414)\n",
    "plt.plot(residual, label='Residuals')\n",
    "plt.legend(loc='best')\n",
    "plt.tight_layout()"
   ]
  },
  {
   "cell_type": "raw",
   "metadata": {},
   "source": [
    "ts_log_decompose = residual\n",
    "ts_log_decompose.dropna(inplace=True)\n",
    "test_stationarity(ts_log_decompose)"
   ]
  },
  {
   "cell_type": "markdown",
   "metadata": {},
   "source": [
    "## Forecasting a Time Series"
   ]
  },
  {
   "cell_type": "raw",
   "metadata": {},
   "source": [
    "#ACF and PACF plots\n",
    "from statsmodels.tsa.stattools import acf, pacf\n",
    "\n",
    "lag_acf = acf(ts_log_diff, nlags=15)\n",
    "lag_pacf = pacf(ts_log_diff, nlags=15, method='ols')\n",
    "\n",
    "#Plot ACF:\n",
    "plt.subplot(121)\n",
    "plt.plot(lag_acf)\n",
    "plt.axhline(y=0,linestyle='--',color='gray')\n",
    "plt.axhline(y=-1.96/np.sqrt(len(ts_log_diff)),linestyle='--',color='gray')\n",
    "plt.axhline(y=1.96/np.sqrt(len(ts_log_diff)),linestyle='--',color='gray')\n",
    "plt.title('Autocorrelation Function')\n",
    "\n",
    "#Plot PACF:\n",
    "plt.subplot(122)\n",
    "plt.plot(lag_pacf)\n",
    "plt.axhline(y=0,linestyle='--',color='gray')\n",
    "plt.axhline(y=-1.96/np.sqrt(len(ts_log_diff)),linestyle='--',color='gray')\n",
    "plt.axhline(y=1.96/np.sqrt(len(ts_log_diff)),linestyle='--',color='gray')\n",
    "plt.title('Partial Autocorrelation Function')\n",
    "plt.tight_layout()"
   ]
  },
  {
   "cell_type": "raw",
   "metadata": {},
   "source": [
    "from pandas.plotting import autocorrelation_plot\n",
    "autocorrelation_plot(ts_log)"
   ]
  },
  {
   "cell_type": "raw",
   "metadata": {},
   "source": [
    "from matplotlib import pyplot\n",
    "from statsmodels.graphics.tsaplots import plot_acf\n",
    "plot_acf(ts_log)\n",
    "pyplot.show()"
   ]
  },
  {
   "cell_type": "raw",
   "metadata": {},
   "source": [
    "# load the ARIMA model\n",
    "from statsmodels.tsa.arima_model import ARIMA"
   ]
  },
  {
   "cell_type": "raw",
   "metadata": {},
   "source": [
    "# AR Model\n",
    "model = ARIMA(ts_log, order=(2, 1, 0))\n",
    "results_AR = model.fit(disp=-1)  \n",
    "plt.plot(ts_log_diff)\n",
    "plt.plot(results_AR.fittedvalues, color='red')\n",
    "plt.title('RSS: %.4f' % sum((results_AR.fittedvalues - ts_log_diff) ** 2))"
   ]
  },
  {
   "cell_type": "raw",
   "metadata": {},
   "source": [
    "# MA Model\n",
    "model = ARIMA(ts_log, order=(0, 1, 2))  \n",
    "results_MA = model.fit(disp=-1)  \n",
    "plt.plot(ts_log_diff)\n",
    "plt.plot(results_MA.fittedvalues, color='red')\n",
    "plt.title('RSS: %.4f' % sum((results_MA.fittedvalues - ts_log_diff) ** 2))"
   ]
  },
  {
   "cell_type": "raw",
   "metadata": {},
   "source": [
    "# Combined Model\n",
    "model = ARIMA(ts_log, order=(2, 1, 2))  \n",
    "results_ARIMA = model.fit(disp=-1)  \n",
    "plt.plot(ts_log_diff)\n",
    "plt.plot(results_ARIMA.fittedvalues, color='red')\n",
    "plt.title('RSS: %.4f' % sum((results_ARIMA.fittedvalues - ts_log_diff) ** 2))"
   ]
  },
  {
   "cell_type": "raw",
   "metadata": {},
   "source": [
    "# Taking it back to original scale\n",
    "predictions_ARIMA_diff = pd.Series(results_ARIMA.fittedvalues, copy=True)\n",
    "predictions_ARIMA_diff.head()"
   ]
  },
  {
   "cell_type": "raw",
   "metadata": {},
   "source": [
    "predictions_ARIMA_diff_cumsum = predictions_ARIMA_diff.cumsum()\n",
    "predictions_ARIMA_diff_cumsum.head()"
   ]
  },
  {
   "cell_type": "raw",
   "metadata": {},
   "source": [
    "ts_log.head()"
   ]
  },
  {
   "cell_type": "raw",
   "metadata": {},
   "source": [
    "predictions_ARIMA_log = pd.Series(ts_log.iloc[0], index=ts_log.index)\n",
    "#predictions_ARIMA_log = pd.Series(ts_log.ix[0], index=ts_log.index)\n",
    "predictions_ARIMA_log = predictions_ARIMA_log.add(predictions_ARIMA_diff_cumsum, fill_value=0)\n",
    "predictions_ARIMA_log.head()"
   ]
  },
  {
   "cell_type": "raw",
   "metadata": {},
   "source": [
    "predictions_ARIMA = np.exp(predictions_ARIMA_log)\n",
    "plt.plot(ts - 273.15)\n",
    "plt.plot(predictions_ARIMA - 273.15)\n",
    "plt.title('RMSE: %.4f' % np.sqrt(sum((predictions_ARIMA - ts) ** 2) / len(ts)))"
   ]
  },
  {
   "cell_type": "raw",
   "metadata": {},
   "source": []
  },
  {
   "cell_type": "raw",
   "metadata": {},
   "source": [
    "test_dates = pd.date_range(start='2016-11-17', end='2017-11-29', freq='D')\n",
    "test_dates"
   ]
  },
  {
   "cell_type": "raw",
   "metadata": {},
   "source": [
    "test_data = pd.DataFrame(test_dates, columns=['ds'])\n",
    "test_data.info()\n",
    "test_data.head()"
   ]
  },
  {
   "cell_type": "raw",
   "metadata": {},
   "source": []
  },
  {
   "cell_type": "raw",
   "metadata": {},
   "source": [
    "forecast = model.predict(test_data)\n",
    "forecast[['ds', 'yhat']].tail()"
   ]
  },
  {
   "cell_type": "raw",
   "metadata": {},
   "source": []
  },
  {
   "cell_type": "raw",
   "metadata": {},
   "source": [
    "submission = pd.DataFrame({\n",
    "    'date': forecast['ds'],\n",
    "    'temperature': forecast['yhat']\n",
    "})\n",
    "submission.set_index('date', inplace=True)\n",
    "submission.info()\n",
    "submission.head()\n",
    "submission.to_csv('weather-submission.csv')"
   ]
  },
  {
   "cell_type": "raw",
   "metadata": {},
   "source": [
    "def rmsle(y_pred, y_test): \n",
    "    assert len(y_test) == len(y_pred)\n",
    "    return np.sqrt(np.mean((np.log(1 + y_pred) - np.log(1 + y_test)) ** 2))"
   ]
  },
  {
   "cell_type": "raw",
   "metadata": {},
   "source": [
    "rmsle(data3.yhat + 273.15, data3.y + 273.15)"
   ]
  },
  {
   "cell_type": "code",
   "execution_count": null,
   "metadata": {},
   "outputs": [],
   "source": []
  },
  {
   "cell_type": "code",
   "execution_count": 12,
   "metadata": {},
   "outputs": [
    {
     "data": {
      "text/html": [
       "<div>\n",
       "<style scoped>\n",
       "    .dataframe tbody tr th:only-of-type {\n",
       "        vertical-align: middle;\n",
       "    }\n",
       "\n",
       "    .dataframe tbody tr th {\n",
       "        vertical-align: top;\n",
       "    }\n",
       "\n",
       "    .dataframe thead th {\n",
       "        text-align: right;\n",
       "    }\n",
       "</style>\n",
       "<table border=\"1\" class=\"dataframe\">\n",
       "  <thead>\n",
       "    <tr style=\"text-align: right;\">\n",
       "      <th></th>\n",
       "      <th>orig</th>\n",
       "      <th>diff</th>\n",
       "      <th>diff7</th>\n",
       "      <th>2diff</th>\n",
       "      <th>3diff</th>\n",
       "    </tr>\n",
       "    <tr>\n",
       "      <th>date</th>\n",
       "      <th></th>\n",
       "      <th></th>\n",
       "      <th></th>\n",
       "      <th></th>\n",
       "      <th></th>\n",
       "    </tr>\n",
       "  </thead>\n",
       "  <tbody>\n",
       "    <tr>\n",
       "      <th>2016-09-12</th>\n",
       "      <td>299.030253</td>\n",
       "      <td>-4.338635</td>\n",
       "      <td>-5.002767</td>\n",
       "      <td>-6.955592</td>\n",
       "      <td>-11.700671</td>\n",
       "    </tr>\n",
       "    <tr>\n",
       "      <th>2016-09-19</th>\n",
       "      <td>300.667537</td>\n",
       "      <td>1.637284</td>\n",
       "      <td>-4.185932</td>\n",
       "      <td>5.975919</td>\n",
       "      <td>12.931511</td>\n",
       "    </tr>\n",
       "    <tr>\n",
       "      <th>2016-09-26</th>\n",
       "      <td>296.168949</td>\n",
       "      <td>-4.498588</td>\n",
       "      <td>-10.010699</td>\n",
       "      <td>-6.135871</td>\n",
       "      <td>-12.111790</td>\n",
       "    </tr>\n",
       "    <tr>\n",
       "      <th>2016-10-03</th>\n",
       "      <td>296.304603</td>\n",
       "      <td>0.135654</td>\n",
       "      <td>-7.538335</td>\n",
       "      <td>4.634241</td>\n",
       "      <td>10.770113</td>\n",
       "    </tr>\n",
       "    <tr>\n",
       "      <th>2016-10-10</th>\n",
       "      <td>293.168801</td>\n",
       "      <td>-3.135802</td>\n",
       "      <td>-9.711253</td>\n",
       "      <td>-3.271456</td>\n",
       "      <td>-7.905697</td>\n",
       "    </tr>\n",
       "    <tr>\n",
       "      <th>2016-10-17</th>\n",
       "      <td>294.153770</td>\n",
       "      <td>0.984970</td>\n",
       "      <td>-6.598161</td>\n",
       "      <td>4.120771</td>\n",
       "      <td>7.392227</td>\n",
       "    </tr>\n",
       "    <tr>\n",
       "      <th>2016-10-24</th>\n",
       "      <td>289.346348</td>\n",
       "      <td>-4.807423</td>\n",
       "      <td>-14.022540</td>\n",
       "      <td>-5.792392</td>\n",
       "      <td>-9.913163</td>\n",
       "    </tr>\n",
       "    <tr>\n",
       "      <th>2016-10-31</th>\n",
       "      <td>291.307098</td>\n",
       "      <td>1.960751</td>\n",
       "      <td>-7.723154</td>\n",
       "      <td>6.768173</td>\n",
       "      <td>12.560565</td>\n",
       "    </tr>\n",
       "    <tr>\n",
       "      <th>2016-11-07</th>\n",
       "      <td>287.185468</td>\n",
       "      <td>-4.121630</td>\n",
       "      <td>-13.482069</td>\n",
       "      <td>-6.082381</td>\n",
       "      <td>-12.850554</td>\n",
       "    </tr>\n",
       "    <tr>\n",
       "      <th>2016-11-14</th>\n",
       "      <td>287.063672</td>\n",
       "      <td>-0.121796</td>\n",
       "      <td>-9.105277</td>\n",
       "      <td>3.999835</td>\n",
       "      <td>10.082216</td>\n",
       "    </tr>\n",
       "  </tbody>\n",
       "</table>\n",
       "</div>"
      ],
      "text/plain": [
       "                  orig      diff      diff7     2diff      3diff\n",
       "date                                                            \n",
       "2016-09-12  299.030253 -4.338635  -5.002767 -6.955592 -11.700671\n",
       "2016-09-19  300.667537  1.637284  -4.185932  5.975919  12.931511\n",
       "2016-09-26  296.168949 -4.498588 -10.010699 -6.135871 -12.111790\n",
       "2016-10-03  296.304603  0.135654  -7.538335  4.634241  10.770113\n",
       "2016-10-10  293.168801 -3.135802  -9.711253 -3.271456  -7.905697\n",
       "2016-10-17  294.153770  0.984970  -6.598161  4.120771   7.392227\n",
       "2016-10-24  289.346348 -4.807423 -14.022540 -5.792392  -9.913163\n",
       "2016-10-31  291.307098  1.960751  -7.723154  6.768173  12.560565\n",
       "2016-11-07  287.185468 -4.121630 -13.482069 -6.082381 -12.850554\n",
       "2016-11-14  287.063672 -0.121796  -9.105277  3.999835  10.082216"
      ]
     },
     "execution_count": 12,
     "metadata": {},
     "output_type": "execute_result"
    }
   ],
   "source": [
    "pd.DataFrame({'orig': ts, 'diff': ts.diff(), 'diff7': ts.diff(7),\n",
    "              '2diff': ts.diff().diff(), '3diff': ts.diff().diff().diff()}).tail(10)"
   ]
  },
  {
   "cell_type": "code",
   "execution_count": null,
   "metadata": {},
   "outputs": [],
   "source": []
  },
  {
   "cell_type": "code",
   "execution_count": 13,
   "metadata": {
    "scrolled": false
   },
   "outputs": [
    {
     "data": {
      "image/png": "[encoded data removed]",
      "text/plain": [
       "<Figure size 1400x800 with 2 Axes>"
      ]
     },
     "metadata": {
      "needs_background": "light"
     },
     "output_type": "display_data"
    }
   ],
   "source": [
    "# Plot\n",
    "fig, axes = plt.subplots(2, 1, figsize=(14,8), dpi=100, sharex=True)\n",
    "\n",
    "# Usual Differencing\n",
    "axes[0].plot(ts, label='Original Series')\n",
    "axes[0].plot(ts.diff(1), label='Usual Differencing')\n",
    "axes[0].set_title('Usual Differencing')\n",
    "axes[0].legend(loc='upper left', fontsize=10)\n",
    "\n",
    "# Seasinal Dei\n",
    "seasonal = 52 #24 # 365 dias / período\n",
    "axes[1].plot(ts, label='Original Series')\n",
    "axes[1].plot(ts.diff(seasonal), label='Seasonal Differencing', color='green')\n",
    "axes[1].set_title('Seasonal Differencing')\n",
    "plt.legend(loc='upper left', fontsize=10)\n",
    "plt.suptitle('Weather Temperatures', fontsize=16)\n",
    "plt.show()"
   ]
  },
  {
   "cell_type": "raw",
   "metadata": {},
   "source": [
    "from statsmodels.tsa.arima_model import ARIMA\n",
    "\n",
    "model = ARIMA(ts, order=(1,0,0))\n",
    "model_fit = model.fit(disp=0)\n",
    "print(model_fit.summary())"
   ]
  },
  {
   "cell_type": "raw",
   "metadata": {},
   "source": [
    "# Plot residual errors\n",
    "residuals = pd.DataFrame(model_fit.resid)\n",
    "fig, ax = plt.subplots(1,2)\n",
    "residuals.plot(title=\"Residuals\", ax=ax[0])\n",
    "residuals.plot(kind='kde', title='Density', ax=ax[1])\n",
    "plt.show()"
   ]
  },
  {
   "cell_type": "raw",
   "metadata": {},
   "source": [
    "# Actual vs Fitted\n",
    "model_fit.plot_predict(dynamic=False)\n",
    "plt.show()"
   ]
  },
  {
   "cell_type": "code",
   "execution_count": 14,
   "metadata": {},
   "outputs": [
    {
     "name": "stdout",
     "output_type": "stream",
     "text": [
      "(151,) (65,)\n"
     ]
    }
   ],
   "source": [
    "# Create Training and Test\n",
    "corte = int(len(ts) * 0.7)\n",
    "train = ts[:corte].dropna()\n",
    "test = ts[corte:].dropna()\n",
    "print(train.shape, test.shape)"
   ]
  },
  {
   "cell_type": "code",
   "execution_count": 15,
   "metadata": {},
   "outputs": [
    {
     "data": {
      "text/plain": [
       "DatetimeIndex(['2012-10-01', '2012-10-08', '2012-10-15', '2012-10-22',\n",
       "               '2012-10-29', '2012-11-05', '2012-11-12', '2012-11-19',\n",
       "               '2012-11-26', '2012-12-03',\n",
       "               ...\n",
       "               '2015-06-15', '2015-06-22', '2015-06-29', '2015-07-06',\n",
       "               '2015-07-13', '2015-07-20', '2015-07-27', '2015-08-03',\n",
       "               '2015-08-10', '2015-08-17'],\n",
       "              dtype='datetime64[ns]', name='date', length=151, freq='W-MON')"
      ]
     },
     "execution_count": 15,
     "metadata": {},
     "output_type": "execute_result"
    }
   ],
   "source": [
    "train.index"
   ]
  },
  {
   "cell_type": "raw",
   "metadata": {},
   "source": [
    "# Build Model\n",
    "model = ARIMA(train, order=(1, 1, 1))  \n",
    "fitted = model.fit(disp=-1)\n",
    "print(fitted.summary())\n",
    "\n",
    "# Forecast\n",
    "fc, se, conf = fitted.forecast(test.shape[0], alpha=0.05)  # 95% conf\n",
    "\n",
    "# Make as pandas series\n",
    "fc_series = pd.Series(fc, index=test.index)\n",
    "lower_series = pd.Series(conf[:, 0], index=test.index)\n",
    "upper_series = pd.Series(conf[:, 1], index=test.index)\n",
    "\n",
    "# Plot\n",
    "plt.figure(figsize=(12,5), dpi=100)\n",
    "plt.plot(train, label='training')\n",
    "plt.plot(test, label='actual')\n",
    "plt.plot(fc_series, label='forecast')\n",
    "plt.fill_between(lower_series.index, lower_series, upper_series, \n",
    "                 color='k', alpha=.15)\n",
    "plt.title('Forecast vs Actuals')\n",
    "plt.legend(loc='upper left', fontsize=8)\n",
    "plt.show()"
   ]
  },
  {
   "cell_type": "raw",
   "metadata": {},
   "source": [
    "from pmdarima import auto_arima"
   ]
  },
  {
   "cell_type": "raw",
   "metadata": {},
   "source": [
    "?auto_arima"
   ]
  },
  {
   "cell_type": "code",
   "execution_count": null,
   "metadata": {},
   "outputs": [],
   "source": []
  },
  {
   "cell_type": "code",
   "execution_count": 16,
   "metadata": {
    "scrolled": false
   },
   "outputs": [
    {
     "name": "stdout",
     "output_type": "stream",
     "text": [
      "Fit ARIMA: order=(1, 0, 1) seasonal_order=(0, 1, 1, 52); AIC=nan, BIC=nan, Fit time=nan seconds\n"
     ]
    },
    {
     "name": "stderr",
     "output_type": "stream",
     "text": [
      "/dados/anaconda3/lib/python3.7/site-packages/statsmodels/tsa/statespace/representation.py:375: FutureWarning: Using a non-tuple sequence for multidimensional indexing is deprecated; use `arr[tuple(seq)]` instead of `arr[seq]`. In the future this will be interpreted as an array index, `arr[np.array(seq)]`, which will result either in an error or a different result.\n",
      "  return matrix[[slice(None)]*(matrix.ndim-1) + [0]]\n"
     ]
    },
    {
     "name": "stdout",
     "output_type": "stream",
     "text": [
      "Fit ARIMA: order=(0, 0, 0) seasonal_order=(0, 1, 0, 52); AIC=960.568, BIC=966.768, Fit time=0.360 seconds\n",
      "Fit ARIMA: order=(1, 0, 0) seasonal_order=(1, 1, 0, 52); AIC=914.211, BIC=926.610, Fit time=6.569 seconds\n",
      "Fit ARIMA: order=(0, 0, 1) seasonal_order=(0, 1, 1, 52); AIC=nan, BIC=nan, Fit time=nan seconds\n",
      "Fit ARIMA: order=(1, 0, 0) seasonal_order=(0, 1, 0, 52); AIC=930.633, BIC=939.933, Fit time=0.398 seconds\n",
      "Fit ARIMA: order=(1, 0, 0) seasonal_order=(2, 1, 0, 52); AIC=898.959, BIC=914.458, Fit time=18.619 seconds\n",
      "Fit ARIMA: order=(1, 0, 0) seasonal_order=(2, 1, 1, 52); AIC=909.661, BIC=928.260, Fit time=50.455 seconds\n",
      "Fit ARIMA: order=(0, 0, 0) seasonal_order=(2, 1, 0, 52); AIC=904.998, BIC=917.397, Fit time=14.591 seconds\n",
      "Fit ARIMA: order=(2, 0, 0) seasonal_order=(2, 1, 0, 52); AIC=899.676, BIC=918.275, Fit time=23.910 seconds\n",
      "Fit ARIMA: order=(1, 0, 1) seasonal_order=(2, 1, 0, 52); AIC=896.916, BIC=915.515, Fit time=29.486 seconds\n",
      "Fit ARIMA: order=(2, 0, 2) seasonal_order=(2, 1, 0, 52); AIC=nan, BIC=nan, Fit time=nan seconds\n",
      "Fit ARIMA: order=(1, 0, 1) seasonal_order=(1, 1, 0, 52); AIC=903.899, BIC=919.399, Fit time=9.957 seconds\n"
     ]
    },
    {
     "name": "stderr",
     "output_type": "stream",
     "text": [
      "/dados/anaconda3/lib/python3.7/site-packages/statsmodels/base/model.py:508: ConvergenceWarning: Maximum Likelihood optimization failed to converge. Check mle_retvals\n",
      "  \"Check mle_retvals\", ConvergenceWarning)\n"
     ]
    },
    {
     "name": "stdout",
     "output_type": "stream",
     "text": [
      "Fit ARIMA: order=(1, 0, 1) seasonal_order=(2, 1, 1, 52); AIC=899.967, BIC=921.666, Fit time=69.795 seconds\n",
      "Fit ARIMA: order=(0, 0, 1) seasonal_order=(2, 1, 0, 52); AIC=900.599, BIC=916.098, Fit time=17.782 seconds\n",
      "Fit ARIMA: order=(2, 0, 1) seasonal_order=(2, 1, 0, 52); AIC=898.246, BIC=919.945, Fit time=36.728 seconds\n",
      "Fit ARIMA: order=(1, 0, 2) seasonal_order=(2, 1, 0, 52); AIC=898.156, BIC=919.855, Fit time=36.017 seconds\n",
      "Total fit time: 314.710 seconds\n"
     ]
    },
    {
     "data": {
      "text/html": [
       "<table class=\"simpletable\">\n",
       "<caption>Statespace Model Results</caption>\n",
       "<tr>\n",
       "  <th>Dep. Variable:</th>                  <td>y</td>               <th>  No. Observations:  </th>    <td>216</td>  \n",
       "</tr>\n",
       "<tr>\n",
       "  <th>Model:</th>           <td>SARIMAX(1, 0, 1)x(2, 1, 0, 52)</td> <th>  Log Likelihood     </th> <td>-442.458</td>\n",
       "</tr>\n",
       "<tr>\n",
       "  <th>Date:</th>                   <td>Wed, 28 Aug 2019</td>        <th>  AIC                </th>  <td>896.916</td>\n",
       "</tr>\n",
       "<tr>\n",
       "  <th>Time:</th>                       <td>10:15:08</td>            <th>  BIC                </th>  <td>915.515</td>\n",
       "</tr>\n",
       "<tr>\n",
       "  <th>Sample:</th>                         <td>0</td>               <th>  HQIC               </th>  <td>904.467</td>\n",
       "</tr>\n",
       "<tr>\n",
       "  <th></th>                             <td> - 216</td>             <th>                     </th>     <td> </td>   \n",
       "</tr>\n",
       "<tr>\n",
       "  <th>Covariance Type:</th>               <td>opg</td>              <th>                     </th>     <td> </td>   \n",
       "</tr>\n",
       "</table>\n",
       "<table class=\"simpletable\">\n",
       "<tr>\n",
       "      <td></td>         <th>coef</th>     <th>std err</th>      <th>z</th>      <th>P>|z|</th>  <th>[0.025</th>    <th>0.975]</th>  \n",
       "</tr>\n",
       "<tr>\n",
       "  <th>intercept</th> <td>    0.7155</td> <td>    0.508</td> <td>    1.409</td> <td> 0.159</td> <td>   -0.280</td> <td>    1.711</td>\n",
       "</tr>\n",
       "<tr>\n",
       "  <th>ar.L1</th>     <td>    0.8671</td> <td>    0.083</td> <td>   10.393</td> <td> 0.000</td> <td>    0.704</td> <td>    1.031</td>\n",
       "</tr>\n",
       "<tr>\n",
       "  <th>ma.L1</th>     <td>   -0.6828</td> <td>    0.118</td> <td>   -5.780</td> <td> 0.000</td> <td>   -0.914</td> <td>   -0.451</td>\n",
       "</tr>\n",
       "<tr>\n",
       "  <th>ar.S.L52</th>  <td>   -0.5659</td> <td>    0.086</td> <td>   -6.601</td> <td> 0.000</td> <td>   -0.734</td> <td>   -0.398</td>\n",
       "</tr>\n",
       "<tr>\n",
       "  <th>ar.S.L104</th> <td>   -0.4460</td> <td>    0.108</td> <td>   -4.147</td> <td> 0.000</td> <td>   -0.657</td> <td>   -0.235</td>\n",
       "</tr>\n",
       "<tr>\n",
       "  <th>sigma2</th>    <td>   10.6284</td> <td>    1.625</td> <td>    6.539</td> <td> 0.000</td> <td>    7.443</td> <td>   13.814</td>\n",
       "</tr>\n",
       "</table>\n",
       "<table class=\"simpletable\">\n",
       "<tr>\n",
       "  <th>Ljung-Box (Q):</th>          <td>36.16</td> <th>  Jarque-Bera (JB):  </th> <td>8.89</td> \n",
       "</tr>\n",
       "<tr>\n",
       "  <th>Prob(Q):</th>                <td>0.64</td>  <th>  Prob(JB):          </th> <td>0.01</td> \n",
       "</tr>\n",
       "<tr>\n",
       "  <th>Heteroskedasticity (H):</th> <td>1.12</td>  <th>  Skew:              </th> <td>-0.50</td>\n",
       "</tr>\n",
       "<tr>\n",
       "  <th>Prob(H) (two-sided):</th>    <td>0.67</td>  <th>  Kurtosis:          </th> <td>3.56</td> \n",
       "</tr>\n",
       "</table><br/><br/>Warnings:<br/>[1] Covariance matrix calculated using the outer product of gradients (complex-step)."
      ],
      "text/plain": [
       "<class 'statsmodels.iolib.summary.Summary'>\n",
       "\"\"\"\n",
       "                                 Statespace Model Results                                 \n",
       "==========================================================================================\n",
       "Dep. Variable:                                  y   No. Observations:                  216\n",
       "Model:             SARIMAX(1, 0, 1)x(2, 1, 0, 52)   Log Likelihood                -442.458\n",
       "Date:                            Wed, 28 Aug 2019   AIC                            896.916\n",
       "Time:                                    10:15:08   BIC                            915.515\n",
       "Sample:                                         0   HQIC                           904.467\n",
       "                                            - 216                                         \n",
       "Covariance Type:                              opg                                         \n",
       "==============================================================================\n",
       "                 coef    std err          z      P>|z|      [0.025      0.975]\n",
       "------------------------------------------------------------------------------\n",
       "intercept      0.7155      0.508      1.409      0.159      -0.280       1.711\n",
       "ar.L1          0.8671      0.083     10.393      0.000       0.704       1.031\n",
       "ma.L1         -0.6828      0.118     -5.780      0.000      -0.914      -0.451\n",
       "ar.S.L52      -0.5659      0.086     -6.601      0.000      -0.734      -0.398\n",
       "ar.S.L104     -0.4460      0.108     -4.147      0.000      -0.657      -0.235\n",
       "sigma2        10.6284      1.625      6.539      0.000       7.443      13.814\n",
       "===================================================================================\n",
       "Ljung-Box (Q):                       36.16   Jarque-Bera (JB):                 8.89\n",
       "Prob(Q):                              0.64   Prob(JB):                         0.01\n",
       "Heteroskedasticity (H):               1.12   Skew:                            -0.50\n",
       "Prob(H) (two-sided):                  0.67   Kurtosis:                         3.56\n",
       "===================================================================================\n",
       "\n",
       "Warnings:\n",
       "[1] Covariance matrix calculated using the outer product of gradients (complex-step).\n",
       "\"\"\""
      ]
     },
     "execution_count": 16,
     "metadata": {},
     "output_type": "execute_result"
    }
   ],
   "source": [
    "from pmdarima import auto_arima\n",
    "\n",
    "# Seasonal - fit stepwise auto-ARIMA\n",
    "seasonal = 52 #24 # 365 dias / período\n",
    "smodel = auto_arima(ts, start_p=1, start_q=1,\n",
    "                         test='adf',\n",
    "                         max_p=3, max_q=3, m=seasonal,\n",
    "                         start_P=0, seasonal=True,\n",
    "                         d=None, D=1, trace=True,\n",
    "                         error_action='ignore',  \n",
    "                         suppress_warnings=False, \n",
    "                         stepwise=True)\n",
    "\n",
    "smodel.summary()"
   ]
  },
  {
   "cell_type": "code",
   "execution_count": 18,
   "metadata": {},
   "outputs": [
    {
     "data": {
      "image/png": "[encoded data removed]",
      "text/plain": [
       "<Figure size 1080x432 with 1 Axes>"
      ]
     },
     "metadata": {
      "needs_background": "light"
     },
     "output_type": "display_data"
    }
   ],
   "source": [
    "# Forecast\n",
    "n_periods = 52 #24 #12 # 1 ano\n",
    "freq = 'W' #'15D' #'M' # mês\n",
    "fitted, confint = smodel.predict(n_periods=n_periods, return_conf_int=True)\n",
    "index_of_fc = pd.date_range(data.index[-1], periods = n_periods, freq=freq)\n",
    "\n",
    "# make series for plotting purpose\n",
    "fitted_series = pd.Series(fitted, index=index_of_fc)\n",
    "lower_series = pd.Series(confint[:, 0], index=index_of_fc)\n",
    "upper_series = pd.Series(confint[:, 1], index=index_of_fc)\n",
    "\n",
    "# Plot\n",
    "plt.plot(data)\n",
    "plt.plot(fitted_series, color='darkgreen')\n",
    "plt.fill_between(lower_series.index, \n",
    "                 lower_series, \n",
    "                 upper_series, \n",
    "                 color='k', alpha=.15)\n",
    "\n",
    "plt.title(\"SARIMA - Final Forecast of Weather Temperatures\")\n",
    "plt.show()"
   ]
  },
  {
   "cell_type": "code",
   "execution_count": null,
   "metadata": {},
   "outputs": [],
   "source": []
  }
 ],
 "metadata": {
  "kernelspec": {
   "display_name": "Python 3",
   "language": "python",
   "name": "python3"
  },
  "language_info": {
   "codemirror_mode": {
    "name": "ipython",
    "version": 3
   },
   "file_extension": ".py",
   "mimetype": "text/x-python",
   "name": "python",
   "nbconvert_exporter": "python",
   "pygments_lexer": "ipython3",
   "version": "3.7.1"
  }
 },
 "nbformat": 4,
 "nbformat_minor": 2
}
