{
  "nbformat": 4,
  "nbformat_minor": 0,
  "metadata": {
    "colab": {
      "name": "classificacao_roupas.ipynb",
      "provenance": [],
      "collapsed_sections": []
    },
    "kernelspec": {
      "name": "python3",
      "display_name": "Python 3"
    }
  },
  "cells": [
    {
      "cell_type": "code",
      "metadata": {
        "id": "aRRUfiPavIhk",
        "colab_type": "code",
        "colab": {
          "base_uri": "https://localhost:8080/",
          "height": 34
        },
        "outputId": "0275665c-7f6a-476d-b468-f74c59b0ac51"
      },
      "source": [
        "%tensorflow_version 1.x\n",
        "import tensorflow as tf\n",
        "print(tf.__version__)"
      ],
      "execution_count": 1,
      "outputs": [
        {
          "output_type": "stream",
          "text": [
            "1.15.0\n"
          ],
          "name": "stdout"
        }
      ]
    },
    {
      "cell_type": "code",
      "metadata": {
        "id": "JaHkG1dzu74I",
        "colab_type": "code",
        "colab": {}
      },
      "source": [
        "from tensorflow import keras"
      ],
      "execution_count": 0,
      "outputs": []
    },
    {
      "cell_type": "code",
      "metadata": {
        "id": "RNx2c7DOE7vn",
        "colab_type": "code",
        "colab": {}
      },
      "source": [
        "import numpy as np"
      ],
      "execution_count": 0,
      "outputs": []
    },
    {
      "cell_type": "code",
      "metadata": {
        "id": "jobUEHgjwpxI",
        "colab_type": "code",
        "colab": {}
      },
      "source": [
        "import matplotlib.pyplot as plt"
      ],
      "execution_count": 0,
      "outputs": []
    },
    {
      "cell_type": "markdown",
      "metadata": {
        "id": "6eQWHDiiLVRi",
        "colab_type": "text"
      },
      "source": [
        "- https://github.com/zalandoresearch/fashion-mnist"
      ]
    },
    {
      "cell_type": "code",
      "metadata": {
        "id": "qiHSIN4xvCys",
        "colab_type": "code",
        "colab": {}
      },
      "source": [
        "dataset = keras.datasets.fashion_mnist\n",
        "\n",
        "((imagens_treino, identificacoes_treino), (imagens_teste, identificacoes_teste)) = dataset.load_data()"
      ],
      "execution_count": 0,
      "outputs": []
    },
    {
      "cell_type": "code",
      "metadata": {
        "id": "v3ITRmSyvcbs",
        "colab_type": "code",
        "colab": {
          "base_uri": "https://localhost:8080/",
          "height": 272
        },
        "outputId": "5706ef01-557b-4b5e-c77d-38bb6326db46"
      },
      "source": [
        "imagens_treino[:2]"
      ],
      "execution_count": 5,
      "outputs": [
        {
          "output_type": "execute_result",
          "data": {
            "text/plain": [
              "array([[[0, 0, 0, ..., 0, 0, 0],\n",
              "        [0, 0, 0, ..., 0, 0, 0],\n",
              "        [0, 0, 0, ..., 0, 0, 0],\n",
              "        ...,\n",
              "        [0, 0, 0, ..., 0, 0, 0],\n",
              "        [0, 0, 0, ..., 0, 0, 0],\n",
              "        [0, 0, 0, ..., 0, 0, 0]],\n",
              "\n",
              "       [[0, 0, 0, ..., 0, 0, 0],\n",
              "        [0, 0, 0, ..., 0, 0, 0],\n",
              "        [0, 0, 0, ..., 0, 0, 0],\n",
              "        ...,\n",
              "        [0, 0, 0, ..., 0, 0, 0],\n",
              "        [0, 0, 0, ..., 0, 0, 0],\n",
              "        [0, 0, 0, ..., 0, 0, 0]]], dtype=uint8)"
            ]
          },
          "metadata": {
            "tags": []
          },
          "execution_count": 5
        }
      ]
    },
    {
      "cell_type": "code",
      "metadata": {
        "id": "BQophukQv5Uv",
        "colab_type": "code",
        "colab": {
          "base_uri": "https://localhost:8080/",
          "height": 34
        },
        "outputId": "e175cc0a-18d1-44e0-c955-1515d37861f0"
      },
      "source": [
        "len(imagens_treino)"
      ],
      "execution_count": 6,
      "outputs": [
        {
          "output_type": "execute_result",
          "data": {
            "text/plain": [
              "60000"
            ]
          },
          "metadata": {
            "tags": []
          },
          "execution_count": 6
        }
      ]
    },
    {
      "cell_type": "code",
      "metadata": {
        "id": "Z-fxojR4wUVA",
        "colab_type": "code",
        "colab": {
          "base_uri": "https://localhost:8080/",
          "height": 34
        },
        "outputId": "5ea9b5b0-4fe9-4dec-f2af-c0118359d81c"
      },
      "source": [
        "imagens_treino.shape"
      ],
      "execution_count": 7,
      "outputs": [
        {
          "output_type": "execute_result",
          "data": {
            "text/plain": [
              "(60000, 28, 28)"
            ]
          },
          "metadata": {
            "tags": []
          },
          "execution_count": 7
        }
      ]
    },
    {
      "cell_type": "code",
      "metadata": {
        "id": "rpyybpEdwV-A",
        "colab_type": "code",
        "colab": {
          "base_uri": "https://localhost:8080/",
          "height": 34
        },
        "outputId": "72b21dd3-53b6-4596-9e5d-9a3afea6c1dd"
      },
      "source": [
        "imagens_teste.shape"
      ],
      "execution_count": 8,
      "outputs": [
        {
          "output_type": "execute_result",
          "data": {
            "text/plain": [
              "(10000, 28, 28)"
            ]
          },
          "metadata": {
            "tags": []
          },
          "execution_count": 8
        }
      ]
    },
    {
      "cell_type": "code",
      "metadata": {
        "id": "6ENAAXELwgQ2",
        "colab_type": "code",
        "colab": {
          "base_uri": "https://localhost:8080/",
          "height": 34
        },
        "outputId": "9039a559-ffc4-42c3-91b9-f0c58b2cb657"
      },
      "source": [
        "len(identificacoes_treino)"
      ],
      "execution_count": 9,
      "outputs": [
        {
          "output_type": "execute_result",
          "data": {
            "text/plain": [
              "60000"
            ]
          },
          "metadata": {
            "tags": []
          },
          "execution_count": 9
        }
      ]
    },
    {
      "cell_type": "code",
      "metadata": {
        "id": "6WQ3KcH0w3w-",
        "colab_type": "code",
        "colab": {
          "base_uri": "https://localhost:8080/",
          "height": 298
        },
        "outputId": "dcbe3bb7-5c5a-449c-85f1-cd8fe257b6e4"
      },
      "source": [
        "plt.imshow(imagens_treino[0])\n",
        "plt.title(identificacoes_treino[0])"
      ],
      "execution_count": 10,
      "outputs": [
        {
          "output_type": "execute_result",
          "data": {
            "text/plain": [
              "Text(0.5, 1.0, '9')"
            ]
          },
          "metadata": {
            "tags": []
          },
          "execution_count": 10
        },
        {
          "output_type": "display_data",
          "data": {
            "image/png": "[encoded data removed]",
            "text/plain": [
              "<Figure size 432x288 with 1 Axes>"
            ]
          },
          "metadata": {
            "tags": []
          }
        }
      ]
    },
    {
      "cell_type": "code",
      "metadata": {
        "id": "6YrEAHIXxAwx",
        "colab_type": "code",
        "colab": {
          "base_uri": "https://localhost:8080/",
          "height": 298
        },
        "outputId": "8b209135-9977-4851-e836-c2149fd10246"
      },
      "source": [
        "plt.imshow(imagens_treino[1])\n",
        "plt.title(identificacoes_treino[1])"
      ],
      "execution_count": 11,
      "outputs": [
        {
          "output_type": "execute_result",
          "data": {
            "text/plain": [
              "Text(0.5, 1.0, '0')"
            ]
          },
          "metadata": {
            "tags": []
          },
          "execution_count": 11
        },
        {
          "output_type": "display_data",
          "data": {
            "image/png": "[encoded data removed]",
            "text/plain": [
              "<Figure size 432x288 with 1 Axes>"
            ]
          },
          "metadata": {
            "tags": []
          }
        }
      ]
    },
    {
      "cell_type": "code",
      "metadata": {
        "id": "0C3CU4TQxG0O",
        "colab_type": "code",
        "colab": {
          "base_uri": "https://localhost:8080/",
          "height": 34
        },
        "outputId": "05867006-8dec-43fb-e969-2ab5e5e033db"
      },
      "source": [
        "identificacoes_treino.min()"
      ],
      "execution_count": 12,
      "outputs": [
        {
          "output_type": "execute_result",
          "data": {
            "text/plain": [
              "0"
            ]
          },
          "metadata": {
            "tags": []
          },
          "execution_count": 12
        }
      ]
    },
    {
      "cell_type": "code",
      "metadata": {
        "id": "pxYkR_XpyQNz",
        "colab_type": "code",
        "colab": {
          "base_uri": "https://localhost:8080/",
          "height": 34
        },
        "outputId": "0fdba514-8d15-4ad1-f0de-ab239acfcac4"
      },
      "source": [
        "identificacoes_treino.max()"
      ],
      "execution_count": 13,
      "outputs": [
        {
          "output_type": "execute_result",
          "data": {
            "text/plain": [
              "9"
            ]
          },
          "metadata": {
            "tags": []
          },
          "execution_count": 13
        }
      ]
    },
    {
      "cell_type": "code",
      "metadata": {
        "id": "CsTroG44yecb",
        "colab_type": "code",
        "colab": {
          "base_uri": "https://localhost:8080/",
          "height": 34
        },
        "outputId": "4dc756e0-cf0d-464e-d193-b2988cb5fda1"
      },
      "source": [
        "total_classificacoes = identificacoes_treino.max() - identificacoes_treino.min() + 1\n",
        "total_classificacoes"
      ],
      "execution_count": 14,
      "outputs": [
        {
          "output_type": "execute_result",
          "data": {
            "text/plain": [
              "10"
            ]
          },
          "metadata": {
            "tags": []
          },
          "execution_count": 14
        }
      ]
    },
    {
      "cell_type": "code",
      "metadata": {
        "id": "G2tD9qIszEPK",
        "colab_type": "code",
        "colab": {
          "base_uri": "https://localhost:8080/",
          "height": 187
        },
        "outputId": "7e99ee40-57bb-447c-8f29-07a39125954d"
      },
      "source": [
        "nomes_classificacoes = ['Camiseta', 'Calça', 'Pullover', 'Vestido', 'Casaco',\n",
        "                        'Sandália', 'Camisa', 'Tênis', 'Bolsa', 'Bota']\n",
        "#nomes_classificacoes = ['T-shirt/top', 'Trouser', 'Pullover', 'Dress', 'Coat',\n",
        "#                        'Sandal', 'Shirt', 'Sneaker', 'Bag', 'Ankle boot']\n",
        "nomes_classificacoes"
      ],
      "execution_count": 15,
      "outputs": [
        {
          "output_type": "execute_result",
          "data": {
            "text/plain": [
              "['Camiseta',\n",
              " 'Calça',\n",
              " 'Pullover',\n",
              " 'Vestido',\n",
              " 'Casaco',\n",
              " 'Sandália',\n",
              " 'Camisa',\n",
              " 'Tênis',\n",
              " 'Bolsa',\n",
              " 'Bota']"
            ]
          },
          "metadata": {
            "tags": []
          },
          "execution_count": 15
        }
      ]
    },
    {
      "cell_type": "code",
      "metadata": {
        "id": "acyTbiacyk99",
        "colab_type": "code",
        "colab": {
          "base_uri": "https://localhost:8080/",
          "height": 275
        },
        "outputId": "9f565532-2e5d-4e66-cf93-43a695f66115"
      },
      "source": [
        "for imagem in range(15):\n",
        "  plt.subplot(3, 5, imagem + 1)\n",
        "  plt.imshow(imagens_treino[imagem])\n",
        "  plt.title(nomes_classificacoes[identificacoes_treino[imagem]])"
      ],
      "execution_count": 16,
      "outputs": [
        {
          "output_type": "display_data",
          "data": {
            "image/png": "[encoded data removed]",
            "text/plain": [
              "<Figure size 432x288 with 15 Axes>"
            ]
          },
          "metadata": {
            "tags": []
          }
        }
      ]
    },
    {
      "cell_type": "code",
      "metadata": {
        "id": "KPs7-dowA_xk",
        "colab_type": "code",
        "colab": {
          "base_uri": "https://localhost:8080/",
          "height": 282
        },
        "outputId": "20a85137-acbf-4486-af52-b66c91866418"
      },
      "source": [
        "plt.imshow(imagens_treino[0])\n",
        "plt.colorbar()"
      ],
      "execution_count": 17,
      "outputs": [
        {
          "output_type": "execute_result",
          "data": {
            "text/plain": [
              "<matplotlib.colorbar.Colorbar at 0x7ff3df148390>"
            ]
          },
          "metadata": {
            "tags": []
          },
          "execution_count": 17
        },
        {
          "output_type": "display_data",
          "data": {
            "image/png": "[encoded data removed]",
            "text/plain": [
              "<Figure size 432x288 with 2 Axes>"
            ]
          },
          "metadata": {
            "tags": []
          }
        }
      ]
    },
    {
      "cell_type": "code",
      "metadata": {
        "id": "TA9ah9hfy1Jy",
        "colab_type": "code",
        "colab": {
          "base_uri": "https://localhost:8080/",
          "height": 88
        },
        "outputId": "161cceca-5a4f-4cce-aff2-c611e051c509"
      },
      "source": [
        "modelo = keras.Sequential([\n",
        "\n",
        "    # entrada (camada 0)\n",
        "    keras.layers.Flatten(input_shape=(28, 28)), # achatar imagens de 28 x 28 pixels\n",
        "\n",
        "    # processamento (camada 1)\n",
        "    keras.layers.Dense(256, activation=tf.nn.relu), # função ReLU (não-linear)\n",
        "\n",
        "    # saída (camada 2)\n",
        "    keras.layers.Dense(10, activation=tf.nn.softmax) # 10 categorias\n",
        "])"
      ],
      "execution_count": 18,
      "outputs": [
        {
          "output_type": "stream",
          "text": [
            "WARNING:tensorflow:From /usr/local/lib/python3.6/dist-packages/tensorflow_core/python/ops/resource_variable_ops.py:1630: calling BaseResourceVariable.__init__ (from tensorflow.python.ops.resource_variable_ops) with constraint is deprecated and will be removed in a future version.\n",
            "Instructions for updating:\n",
            "If using Keras pass *_constraint arguments to layers.\n"
          ],
          "name": "stdout"
        }
      ]
    },
    {
      "cell_type": "code",
      "metadata": {
        "id": "FmS3Qy1Y1Oee",
        "colab_type": "code",
        "colab": {
          "base_uri": "https://localhost:8080/",
          "height": 34
        },
        "outputId": "280bb91c-1c3a-46b9-b5d9-12e939ebe964"
      },
      "source": [
        "modelo"
      ],
      "execution_count": 19,
      "outputs": [
        {
          "output_type": "execute_result",
          "data": {
            "text/plain": [
              "<tensorflow.python.keras.engine.sequential.Sequential at 0x7ff3df148b38>"
            ]
          },
          "metadata": {
            "tags": []
          },
          "execution_count": 19
        }
      ]
    },
    {
      "cell_type": "code",
      "metadata": {
        "id": "FpJL-Wvb_UA-",
        "colab_type": "code",
        "colab": {}
      },
      "source": [
        "modelo.compile(optimizer='adam', loss='sparse_categorical_crossentropy')"
      ],
      "execution_count": 0,
      "outputs": []
    },
    {
      "cell_type": "code",
      "metadata": {
        "id": "Kx_c1E6Q-hqz",
        "colab_type": "code",
        "colab": {
          "base_uri": "https://localhost:8080/",
          "height": 68
        },
        "outputId": "9613bc9d-ef83-4fac-e0a4-61f150ed6a31"
      },
      "source": [
        "modelo.fit(imagens_treino, identificacoes_treino) # loss: 3.9652"
      ],
      "execution_count": 21,
      "outputs": [
        {
          "output_type": "stream",
          "text": [
            "Train on 60000 samples\n",
            "60000/60000 [==============================] - 6s 108us/sample - loss: 3.9099\n"
          ],
          "name": "stdout"
        },
        {
          "output_type": "execute_result",
          "data": {
            "text/plain": [
              "<tensorflow.python.keras.callbacks.History at 0x7ff3df118da0>"
            ]
          },
          "metadata": {
            "tags": []
          },
          "execution_count": 21
        }
      ]
    },
    {
      "cell_type": "code",
      "metadata": {
        "id": "vjO6lfKJK8vq",
        "colab_type": "code",
        "colab": {}
      },
      "source": [
        "# normalizar imagens para diminuir a perda\n",
        "imagens_treino = imagens_treino / float(255)"
      ],
      "execution_count": 0,
      "outputs": []
    },
    {
      "cell_type": "code",
      "metadata": {
        "id": "f8ohyUGw_Qef",
        "colab_type": "code",
        "colab": {
          "base_uri": "https://localhost:8080/",
          "height": 68
        },
        "outputId": "27aa737b-a0c2-436d-dd67-f23db8e4a79f"
      },
      "source": [
        "modelo.fit(imagens_treino, identificacoes_treino) # loss: 0.8597"
      ],
      "execution_count": 22,
      "outputs": [
        {
          "output_type": "stream",
          "text": [
            "Train on 60000 samples\n",
            "60000/60000 [==============================] - 6s 105us/sample - loss: 0.9202\n"
          ],
          "name": "stdout"
        },
        {
          "output_type": "execute_result",
          "data": {
            "text/plain": [
              "<tensorflow.python.keras.callbacks.History at 0x7ff3de8b4da0>"
            ]
          },
          "metadata": {
            "tags": []
          },
          "execution_count": 22
        }
      ]
    },
    {
      "cell_type": "code",
      "metadata": {
        "id": "7LugDrAuB2J9",
        "colab_type": "code",
        "colab": {}
      },
      "source": [
        "modelo = keras.Sequential([\n",
        "\n",
        "    # entrada (camada 0)\n",
        "    keras.layers.Flatten(input_shape=(28, 28)), # achatar imagens de 28 x 28 pixels\n",
        "\n",
        "    # processamento (camadas ocultas)\n",
        "    keras.layers.Dense(256, activation=tf.nn.relu), # função ReLU (não-linear)\n",
        "    keras.layers.Dense(128, activation=tf.nn.relu), # função ReLU (não-linear)\n",
        "\n",
        "    # saída (camada N)\n",
        "    keras.layers.Dense(10, activation=tf.nn.softmax) # 10 categorias\n",
        "])\n",
        "modelo.compile(optimizer='adam', loss='sparse_categorical_crossentropy')"
      ],
      "execution_count": 0,
      "outputs": []
    },
    {
      "cell_type": "code",
      "metadata": {
        "id": "0_7wuKbZCTve",
        "colab_type": "code",
        "colab": {
          "base_uri": "https://localhost:8080/",
          "height": 68
        },
        "outputId": "5c61a1fe-34e3-43ca-bf35-71e047bee130"
      },
      "source": [
        "modelo.fit(imagens_treino, identificacoes_treino) # loss: 0.4755"
      ],
      "execution_count": 24,
      "outputs": [
        {
          "output_type": "stream",
          "text": [
            "Train on 60000 samples\n",
            "60000/60000 [==============================] - 8s 133us/sample - loss: 0.4797\n"
          ],
          "name": "stdout"
        },
        {
          "output_type": "execute_result",
          "data": {
            "text/plain": [
              "<tensorflow.python.keras.callbacks.History at 0x7ff3d8000f98>"
            ]
          },
          "metadata": {
            "tags": []
          },
          "execution_count": 24
        }
      ]
    },
    {
      "cell_type": "code",
      "metadata": {
        "id": "-Ri3DkTuCWBy",
        "colab_type": "code",
        "colab": {}
      },
      "source": [
        "modelo = keras.Sequential([\n",
        "\n",
        "    # entrada (camada 0)\n",
        "    keras.layers.Flatten(input_shape=(28, 28)), # achatar imagens de 28 x 28 pixels\n",
        "\n",
        "    # processamento (camadas ocultas)\n",
        "    keras.layers.Dense(256, activation=tf.nn.relu), # função ReLU (não-linear)\n",
        "    keras.layers.Dense(128, activation=tf.nn.relu), # função ReLU (não-linear)\n",
        "    keras.layers.Dense(64, activation=tf.nn.relu), # função ReLU (não-linear)\n",
        "\n",
        "    # saída (camada N)\n",
        "    keras.layers.Dense(10, activation=tf.nn.softmax) # 10 categorias\n",
        "])\n",
        "modelo.compile(optimizer='adam', loss='sparse_categorical_crossentropy')"
      ],
      "execution_count": 0,
      "outputs": []
    },
    {
      "cell_type": "code",
      "metadata": {
        "id": "EFl-vkw9CtWQ",
        "colab_type": "code",
        "colab": {
          "base_uri": "https://localhost:8080/",
          "height": 68
        },
        "outputId": "670ddb6e-50bc-4c17-ba9f-b3ddd60535fc"
      },
      "source": [
        "modelo.fit(imagens_treino, identificacoes_treino) # loss: 0.4839 => não está mais ajudando incluir camadas!!!"
      ],
      "execution_count": 26,
      "outputs": [
        {
          "output_type": "stream",
          "text": [
            "Train on 60000 samples\n",
            "60000/60000 [==============================] - 8s 137us/sample - loss: 0.4884\n"
          ],
          "name": "stdout"
        },
        {
          "output_type": "execute_result",
          "data": {
            "text/plain": [
              "<tensorflow.python.keras.callbacks.History at 0x7ff3d7fd2780>"
            ]
          },
          "metadata": {
            "tags": []
          },
          "execution_count": 26
        }
      ]
    },
    {
      "cell_type": "code",
      "metadata": {
        "id": "7WMkohHDCvmb",
        "colab_type": "code",
        "colab": {
          "base_uri": "https://localhost:8080/",
          "height": 221
        },
        "outputId": "a18e076d-a0eb-496a-a07e-ffe1665d33fa"
      },
      "source": [
        "# aumentar quantidade de épocas\n",
        "modelo.fit(imagens_treino, identificacoes_treino, epochs=5) # loss: 0.2755"
      ],
      "execution_count": 27,
      "outputs": [
        {
          "output_type": "stream",
          "text": [
            "Train on 60000 samples\n",
            "Epoch 1/5\n",
            "60000/60000 [==============================] - 8s 127us/sample - loss: 0.3670\n",
            "Epoch 2/5\n",
            "60000/60000 [==============================] - 8s 132us/sample - loss: 0.3313\n",
            "Epoch 3/5\n",
            "60000/60000 [==============================] - 8s 129us/sample - loss: 0.3087\n",
            "Epoch 4/5\n",
            "60000/60000 [==============================] - 8s 127us/sample - loss: 0.2875\n",
            "Epoch 5/5\n",
            "60000/60000 [==============================] - 8s 131us/sample - loss: 0.2755\n"
          ],
          "name": "stdout"
        },
        {
          "output_type": "execute_result",
          "data": {
            "text/plain": [
              "<tensorflow.python.keras.callbacks.History at 0x7ff3d7f345f8>"
            ]
          },
          "metadata": {
            "tags": []
          },
          "execution_count": 27
        }
      ]
    },
    {
      "cell_type": "code",
      "metadata": {
        "id": "_BNTf6V2ECkz",
        "colab_type": "code",
        "colab": {}
      },
      "source": [
        "modelo.compile(optimizer='adam', loss='sparse_categorical_crossentropy', metrics=['accuracy'])"
      ],
      "execution_count": 0,
      "outputs": []
    },
    {
      "cell_type": "code",
      "metadata": {
        "id": "FJRRDrpbEYCP",
        "colab_type": "code",
        "colab": {
          "base_uri": "https://localhost:8080/",
          "height": 204
        },
        "outputId": "96a5618b-ceec-4d3f-901c-9725565b8204"
      },
      "source": [
        "# executar 5 épocas e separar 20% para validação\n",
        "historico = modelo.fit(imagens_treino, identificacoes_treino, epochs=5, validation_split=0.2) # loss: 0.2220"
      ],
      "execution_count": 30,
      "outputs": [
        {
          "output_type": "stream",
          "text": [
            "Train on 48000 samples, validate on 12000 samples\n",
            "Epoch 1/5\n",
            "48000/48000 [==============================] - 8s 156us/sample - loss: 0.2643 - acc: 0.9014 - val_loss: 0.2635 - val_acc: 0.9003\n",
            "Epoch 2/5\n",
            "48000/48000 [==============================] - 7s 147us/sample - loss: 0.2483 - acc: 0.9066 - val_loss: 0.2548 - val_acc: 0.9053\n",
            "Epoch 3/5\n",
            "48000/48000 [==============================] - 7s 147us/sample - loss: 0.2375 - acc: 0.9107 - val_loss: 0.2756 - val_acc: 0.9001\n",
            "Epoch 4/5\n",
            "48000/48000 [==============================] - 7s 145us/sample - loss: 0.2293 - acc: 0.9125 - val_loss: 0.2642 - val_acc: 0.9028\n",
            "Epoch 5/5\n",
            "48000/48000 [==============================] - 8s 159us/sample - loss: 0.2220 - acc: 0.9156 - val_loss: 0.2790 - val_acc: 0.8998\n"
          ],
          "name": "stdout"
        }
      ]
    },
    {
      "cell_type": "code",
      "metadata": {
        "id": "biWqW0IZEufP",
        "colab_type": "code",
        "colab": {
          "base_uri": "https://localhost:8080/",
          "height": 51
        },
        "outputId": "f942912e-b195-40fc-ebb5-cd8569783068"
      },
      "source": [
        "id_teste = 1\n",
        "testes = modelo.predict(imagens_teste)\n",
        "print('resultado teste:', np.argmax(testes[id_teste]))\n",
        "print('número da imagem de teste:', identificacoes_teste[id_teste])"
      ],
      "execution_count": 40,
      "outputs": [
        {
          "output_type": "stream",
          "text": [
            "resultado teste: 2\n",
            "número da imagem de teste: 2\n"
          ],
          "name": "stdout"
        }
      ]
    },
    {
      "cell_type": "code",
      "metadata": {
        "id": "3YFVI5BXEzVa",
        "colab_type": "code",
        "colab": {
          "base_uri": "https://localhost:8080/",
          "height": 68
        },
        "outputId": "d990f06e-5830-42b2-8ed7-e2567af3b10f"
      },
      "source": [
        "# avaliar como o modelo está indo com os dados de teste, fornecendo os dados de acurácia e perda\n",
        "perda_teste, acuracia_teste = modelo.evaluate(imagens_teste, identificacoes_teste)\n",
        "print('Perda do teste:', perda_teste)\n",
        "print('Acurácia do teste:', acuracia_teste * 100)"
      ],
      "execution_count": 41,
      "outputs": [
        {
          "output_type": "stream",
          "text": [
            "10000/10000 [==============================] - 1s 57us/sample - loss: 52.3752 - acc: 0.8697\n",
            "Perda do teste: 52.37515555126667\n",
            "Acurácia do teste: 86.9700014591217\n"
          ],
          "name": "stdout"
        }
      ]
    },
    {
      "cell_type": "code",
      "metadata": {
        "id": "kuIMQSP4E04G",
        "colab_type": "code",
        "colab": {
          "base_uri": "https://localhost:8080/",
          "height": 221
        },
        "outputId": "e978bef8-9ea0-4df6-bcff-48ae286c0080"
      },
      "source": [
        "historico.history"
      ],
      "execution_count": 42,
      "outputs": [
        {
          "output_type": "execute_result",
          "data": {
            "text/plain": [
              "{'acc': [0.9013542, 0.9065833, 0.91072917, 0.9125208, 0.9155625],\n",
              " 'loss': [0.2643061601171891,\n",
              "  0.24832954202281932,\n",
              "  0.23752813036367298,\n",
              "  0.229294235293443,\n",
              "  0.22203463213704527],\n",
              " 'val_acc': [0.90033334, 0.90525, 0.90008336, 0.90283334, 0.8998333],\n",
              " 'val_loss': [0.2634658582955599,\n",
              "  0.25477599358558656,\n",
              "  0.27561487013101577,\n",
              "  0.26415921112398305,\n",
              "  0.27902993551890054]}"
            ]
          },
          "metadata": {
            "tags": []
          },
          "execution_count": 42
        }
      ]
    },
    {
      "cell_type": "code",
      "metadata": {
        "id": "vrReLl6VHB3Q",
        "colab_type": "code",
        "colab": {
          "base_uri": "https://localhost:8080/",
          "height": 204
        },
        "outputId": "34aa0ccf-e7f1-41b2-b5f8-ce5d15ff4d2a"
      },
      "source": [
        "modelo = keras.Sequential([\n",
        "    keras.layers.Flatten(input_shape=(28, 28)), # entrada (camada 0)\n",
        "    keras.layers.Dense(256, activation=tf.nn.relu), # (camada 1)\n",
        "    keras.layers.Dropout(0.2), # para normalizar o modelo (camada 2)\n",
        "    keras.layers.Dense(10, activation=tf.nn.softmax) # saída (camada 3)\n",
        "])\n",
        "\n",
        "modelo.compile(optimizer='adam', \n",
        "               loss='sparse_categorical_crossentropy',\n",
        "               metrics=['accuracy'])\n",
        "\n",
        "# gravar o histórico de treino do modelo\n",
        "historico = modelo.fit(imagens_treino, identificacoes_treino, epochs=5, validation_split=0.2)"
      ],
      "execution_count": 44,
      "outputs": [
        {
          "output_type": "stream",
          "text": [
            "Train on 48000 samples, validate on 12000 samples\n",
            "Epoch 1/5\n",
            "48000/48000 [==============================] - 7s 150us/sample - loss: 0.5302 - acc: 0.8135 - val_loss: 0.4255 - val_acc: 0.8495\n",
            "Epoch 2/5\n",
            "48000/48000 [==============================] - 7s 145us/sample - loss: 0.4020 - acc: 0.8555 - val_loss: 0.3715 - val_acc: 0.8641\n",
            "Epoch 3/5\n",
            "48000/48000 [==============================] - 7s 147us/sample - loss: 0.3641 - acc: 0.8670 - val_loss: 0.3583 - val_acc: 0.8709\n",
            "Epoch 4/5\n",
            "48000/48000 [==============================] - 7s 144us/sample - loss: 0.3416 - acc: 0.8748 - val_loss: 0.3311 - val_acc: 0.8817\n",
            "Epoch 5/5\n",
            "48000/48000 [==============================] - 7s 143us/sample - loss: 0.3239 - acc: 0.8810 - val_loss: 0.3321 - val_acc: 0.8789\n"
          ],
          "name": "stdout"
        }
      ]
    },
    {
      "cell_type": "code",
      "metadata": {
        "id": "M12XrH81HfIs",
        "colab_type": "code",
        "colab": {
          "base_uri": "https://localhost:8080/",
          "height": 313
        },
        "outputId": "8479fc29-2545-40e6-fa76-71fd291f4851"
      },
      "source": [
        "# visualizar a acurácia de treino e validação\n",
        "plt.plot(historico.history['acc'])\n",
        "plt.plot(historico.history['val_acc'])\n",
        "plt.title('Acurácia por épocas')\n",
        "plt.xlabel('épocas')\n",
        "plt.ylabel('acurácia')\n",
        "plt.legend(['treino', 'validação'])"
      ],
      "execution_count": 46,
      "outputs": [
        {
          "output_type": "execute_result",
          "data": {
            "text/plain": [
              "<matplotlib.legend.Legend at 0x7ff3c6ac60b8>"
            ]
          },
          "metadata": {
            "tags": []
          },
          "execution_count": 46
        },
        {
          "output_type": "display_data",
          "data": {
            "image/png": "[encoded data removed]",
            "text/plain": [
              "<Figure size 432x288 with 1 Axes>"
            ]
          },
          "metadata": {
            "tags": []
          }
        }
      ]
    },
    {
      "cell_type": "code",
      "metadata": {
        "id": "8DijNO8CHimU",
        "colab_type": "code",
        "colab": {
          "base_uri": "https://localhost:8080/",
          "height": 313
        },
        "outputId": "6d6f58bc-e91f-4b4b-c72f-3f432ba99f99"
      },
      "source": [
        "# visualizar a perda de treino e validação\n",
        "plt.plot(historico.history['loss'])\n",
        "plt.plot(historico.history['val_loss'])\n",
        "plt.title('Perda por épocas')\n",
        "plt.xlabel('épocas')\n",
        "plt.ylabel('perda')\n",
        "plt.legend(['treino', 'validação'])"
      ],
      "execution_count": 47,
      "outputs": [
        {
          "output_type": "execute_result",
          "data": {
            "text/plain": [
              "<matplotlib.legend.Legend at 0x7ff3c6a22d30>"
            ]
          },
          "metadata": {
            "tags": []
          },
          "execution_count": 47
        },
        {
          "output_type": "display_data",
          "data": {
            "image/png": "[encoded data removed]",
            "text/plain": [
              "<Figure size 432x288 with 1 Axes>"
            ]
          },
          "metadata": {
            "tags": []
          }
        }
      ]
    },
    {
      "cell_type": "code",
      "metadata": {
        "id": "OKHn3BrOHr2b",
        "colab_type": "code",
        "colab": {
          "base_uri": "https://localhost:8080/",
          "height": 68
        },
        "outputId": "50bfbe4a-83a7-4ff8-fbf6-73a62be6d39c"
      },
      "source": [
        "perda_teste, acuracia_teste = modelo.evaluate(imagens_teste, identificacoes_teste)\n",
        "print('Perda do teste:', perda_teste)\n",
        "print('Acurácia do teste:', acuracia_teste * 100)"
      ],
      "execution_count": 50,
      "outputs": [
        {
          "output_type": "stream",
          "text": [
            "10000/10000 [==============================] - 1s 65us/sample - loss: 52.8880 - acc: 0.8590\n",
            "Perda do teste: 52.88804312095642\n",
            "Acurácia do teste: 85.9000027179718\n"
          ],
          "name": "stdout"
        }
      ]
    },
    {
      "cell_type": "code",
      "metadata": {
        "id": "iC9hW0usHPhY",
        "colab_type": "code",
        "colab": {}
      },
      "source": [
        "from tensorflow.keras.models import load_model\n",
        "\n",
        "modelo.save('modelo.h5') # gravar no formato HDF5\n",
        "modelo_salvo = load_model('modelo.h5')"
      ],
      "execution_count": 0,
      "outputs": []
    },
    {
      "cell_type": "code",
      "metadata": {
        "id": "IgR7sDkzHmfs",
        "colab_type": "code",
        "colab": {
          "base_uri": "https://localhost:8080/",
          "height": 85
        },
        "outputId": "d5d589f8-9d9f-4db4-c095-8f63d8a9a6c9"
      },
      "source": [
        "testes = modelo.predict(imagens_teste)\n",
        "print('resultado teste:', np.argmax(testes[1]))\n",
        "print('número da imagem de teste:', identificacoes_teste[1])\n",
        "\n",
        "testes_modelo_salvo = modelo_salvo.predict(imagens_teste)\n",
        "print('resultado teste modelo salvo:', np.argmax(testes_modelo_salvo[1]))\n",
        "print('número da imagem de teste:', identificacoes_teste[1])"
      ],
      "execution_count": 52,
      "outputs": [
        {
          "output_type": "stream",
          "text": [
            "resultado teste: 2\n",
            "número da imagem de teste: 2\n",
            "resultado teste modelo salvo: 2\n",
            "número da imagem de teste: 2\n"
          ],
          "name": "stdout"
        }
      ]
    },
    {
      "cell_type": "code",
      "metadata": {
        "id": "Jzmei4YbHzk1",
        "colab_type": "code",
        "colab": {}
      },
      "source": [
        ""
      ],
      "execution_count": 0,
      "outputs": []
    }
  ]
}