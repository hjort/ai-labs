{
  "nbformat": 4,
  "nbformat_minor": 0,
  "metadata": {
    "colab": {
      "name": "DLparte2.ipynb",
      "provenance": [],
      "collapsed_sections": []
    },
    "kernelspec": {
      "name": "python3",
      "display_name": "Python 3"
    }
  },
  "cells": [
    {
      "cell_type": "code",
      "metadata": {
        "id": "eO-eALQGjLVW",
        "colab_type": "code",
        "colab": {}
      },
      "source": [
        "import numpy as np\n",
        "import matplotlib.pyplot as plt"
      ],
      "execution_count": 0,
      "outputs": []
    },
    {
      "cell_type": "code",
      "metadata": {
        "id": "xjaPLr-QjaPq",
        "colab_type": "code",
        "colab": {
          "base_uri": "https://localhost:8080/",
          "height": 34
        },
        "outputId": "5a0d8317-f51c-4143-952e-2564067c7de0"
      },
      "source": [
        "%tensorflow_version 1.x\n",
        "import tensorflow as tf\n",
        "from tensorflow import keras\n",
        "from tensorflow.keras.models import load_model\n",
        "print(tf.__version__)"
      ],
      "execution_count": 3,
      "outputs": [
        {
          "output_type": "stream",
          "text": [
            "1.15.0\n"
          ],
          "name": "stdout"
        }
      ]
    },
    {
      "cell_type": "code",
      "metadata": {
        "id": "C_eY3VNvjShI",
        "colab_type": "code",
        "colab": {
          "base_uri": "https://localhost:8080/",
          "height": 153
        },
        "outputId": "7926f862-7cba-41c3-a164-cc95479ad866"
      },
      "source": [
        "dataset = keras.datasets.fashion_mnist\n",
        "((imagens_treino, identificacoes_treino), (imagens_teste, identificacoes_teste)) = dataset.load_data()"
      ],
      "execution_count": 4,
      "outputs": [
        {
          "output_type": "stream",
          "text": [
            "Downloading data from https://storage.googleapis.com/tensorflow/tf-keras-datasets/train-labels-idx1-ubyte.gz\n",
            "32768/29515 [=================================] - 0s 0us/step\n",
            "Downloading data from https://storage.googleapis.com/tensorflow/tf-keras-datasets/train-images-idx3-ubyte.gz\n",
            "26427392/26421880 [==============================] - 0s 0us/step\n",
            "Downloading data from https://storage.googleapis.com/tensorflow/tf-keras-datasets/t10k-labels-idx1-ubyte.gz\n",
            "8192/5148 [===============================================] - 0s 0us/step\n",
            "Downloading data from https://storage.googleapis.com/tensorflow/tf-keras-datasets/t10k-images-idx3-ubyte.gz\n",
            "4423680/4422102 [==============================] - 0s 0us/step\n"
          ],
          "name": "stdout"
        }
      ]
    },
    {
      "cell_type": "code",
      "metadata": {
        "id": "0C2rzETejgw9",
        "colab_type": "code",
        "colab": {
          "base_uri": "https://localhost:8080/",
          "height": 34
        },
        "outputId": "4029b439-f813-46d0-c118-416d6cc67c9d"
      },
      "source": [
        "len(imagens_treino)\n",
        "imagens_treino.shape\n",
        "imagens_teste.shape\n",
        "len(identificacoes_teste)\n",
        "identificacoes_treino.min()\n",
        "identificacoes_treino.max()"
      ],
      "execution_count": 5,
      "outputs": [
        {
          "output_type": "execute_result",
          "data": {
            "text/plain": [
              "9"
            ]
          },
          "metadata": {
            "tags": []
          },
          "execution_count": 5
        }
      ]
    },
    {
      "cell_type": "code",
      "metadata": {
        "id": "rToZJ9MrjjWT",
        "colab_type": "code",
        "colab": {
          "base_uri": "https://localhost:8080/",
          "height": 282
        },
        "outputId": "d00afda2-deab-4c5d-d94e-4ab1b6c2803e"
      },
      "source": [
        "total_de_classificacoes = 10\n",
        "nomes_de_classificacoes = ['Camiseta', 'Calça', 'Pullover', \n",
        "                           'Vestido', 'Casaco', 'Sandália', 'Camisa',\n",
        "                           'Tênis', 'Bolsa', 'Bota']\n",
        "\n",
        "plt.imshow(imagens_treino[0])\n",
        "plt.colorbar()"
      ],
      "execution_count": 6,
      "outputs": [
        {
          "output_type": "execute_result",
          "data": {
            "text/plain": [
              "<matplotlib.colorbar.Colorbar at 0x7fccd67ad860>"
            ]
          },
          "metadata": {
            "tags": []
          },
          "execution_count": 6
        },
        {
          "output_type": "display_data",
          "data": {
            "image/png": "[encoded data removed]",
            "text/plain": [
              "<Figure size 432x288 with 2 Axes>"
            ]
          },
          "metadata": {
            "tags": []
          }
        }
      ]
    },
    {
      "cell_type": "code",
      "metadata": {
        "id": "eR7jEKGDjk_r",
        "colab_type": "code",
        "colab": {}
      },
      "source": [
        "imagens_treino = imagens_treino/float(255)"
      ],
      "execution_count": 0,
      "outputs": []
    },
    {
      "cell_type": "code",
      "metadata": {
        "id": "pSxLxEubr_Fx",
        "colab_type": "code",
        "colab": {
          "base_uri": "https://localhost:8080/",
          "height": 204
        },
        "outputId": "79405fde-7aeb-450e-c824-abd024c01583"
      },
      "source": [
        "# https://keras.io/layers/core/\n",
        "modelo = keras.Sequential([\n",
        "    keras.layers.Flatten(input_shape=(28, 28)),\n",
        "    keras.layers.Dense(256, activation=tensorflow.nn.relu),\n",
        "    keras.layers.Dropout(0.2),\n",
        "    keras.layers.Dense(10, activation=tensorflow.nn.softmax)\n",
        "])\n",
        "\n",
        "# https://keras.io/optimizers/\n",
        "adam = keras.optimizers.Adam(lr=0.002) # lr: Learning Rate\n",
        "\n",
        "# https://keras.io/callbacks/\n",
        "parando_cedo = [keras.callbacks.EarlyStopping(monitor='val_loss'),\n",
        "                keras.callbacks.ModelCheckpoint(filepath='melhor_modelo.hdf5',\n",
        "                                                monitor='val_loss',\n",
        "                                                save_best_only=True)]\n",
        "\n",
        "# https://keras.io/models/sequential/#compile\n",
        "modelo.compile(optimizer=adam,\n",
        "               loss='sparse_categorical_crossentropy',\n",
        "               metrics=['accuracy'])\n",
        "\n",
        "# https://keras.io/models/sequential/#fit\n",
        "historico = modelo.fit(imagens_treino, identificacoes_treino, \n",
        "                       batch_size=960, #480\n",
        "                       epochs=5, #5\n",
        "                       validation_split=0.2, #0.2\n",
        "                       callbacks=parando_cedo)"
      ],
      "execution_count": 54,
      "outputs": [
        {
          "output_type": "stream",
          "text": [
            "Train on 48000 samples, validate on 12000 samples\n",
            "Epoch 1/5\n",
            "48000/48000 [==============================] - 3s 60us/sample - loss: 0.7562 - acc: 0.7358 - val_loss: 0.4958 - val_acc: 0.8275\n",
            "Epoch 2/5\n",
            "48000/48000 [==============================] - 1s 31us/sample - loss: 0.4740 - acc: 0.8353 - val_loss: 0.4281 - val_acc: 0.8489\n",
            "Epoch 3/5\n",
            "48000/48000 [==============================] - 2s 33us/sample - loss: 0.4202 - acc: 0.8531 - val_loss: 0.3998 - val_acc: 0.8564\n",
            "Epoch 4/5\n",
            "48000/48000 [==============================] - 2s 33us/sample - loss: 0.3881 - acc: 0.8639 - val_loss: 0.3804 - val_acc: 0.8689\n",
            "Epoch 5/5\n",
            "48000/48000 [==============================] - 2s 33us/sample - loss: 0.3657 - acc: 0.8706 - val_loss: 0.3581 - val_acc: 0.8737\n"
          ],
          "name": "stdout"
        }
      ]
    },
    {
      "cell_type": "code",
      "metadata": {
        "id": "ITHqoaAQjmkM",
        "colab_type": "code",
        "colab": {
          "base_uri": "https://localhost:8080/",
          "height": 204
        },
        "outputId": "4f96a490-6198-4a44-e670-8f1c5d7d758c"
      },
      "source": [
        "modelo = keras.Sequential([ \n",
        "    keras.layers.Flatten(input_shape=(28, 28)),\n",
        "    keras.layers.Dense(256, activation=tensorflow.nn.relu),\n",
        "    keras.layers.Dropout(0.2),\n",
        "    keras.layers.Dense(10, activation=tensorflow.nn.softmax)\n",
        "])\n",
        "\n",
        "modelo.compile(optimizer='adam', \n",
        "               loss='sparse_categorical_crossentropy',\n",
        "               metrics=['accuracy'])\n",
        "\n",
        "historico = modelo.fit(imagens_treino, identificacoes_treino, epochs=5, validation_split=0.2)"
      ],
      "execution_count": 27,
      "outputs": [
        {
          "output_type": "stream",
          "text": [
            "Train on 48000 samples, validate on 12000 samples\n",
            "Epoch 1/5\n",
            "48000/48000 [==============================] - 6s 126us/sample - loss: 0.5265 - acc: 0.8115 - val_loss: 0.4332 - val_acc: 0.8411\n",
            "Epoch 2/5\n",
            "48000/48000 [==============================] - 6s 118us/sample - loss: 0.3956 - acc: 0.8569 - val_loss: 0.3590 - val_acc: 0.8698\n",
            "Epoch 3/5\n",
            "48000/48000 [==============================] - 6s 120us/sample - loss: 0.3597 - acc: 0.8677 - val_loss: 0.3408 - val_acc: 0.8745\n",
            "Epoch 4/5\n",
            "48000/48000 [==============================] - 6s 119us/sample - loss: 0.3375 - acc: 0.8775 - val_loss: 0.3496 - val_acc: 0.8720\n",
            "Epoch 5/5\n",
            "48000/48000 [==============================] - 6s 119us/sample - loss: 0.3254 - acc: 0.8800 - val_loss: 0.3359 - val_acc: 0.8793\n"
          ],
          "name": "stdout"
        }
      ]
    },
    {
      "cell_type": "code",
      "metadata": {
        "id": "SzmQQEb4jojz",
        "colab_type": "code",
        "colab": {
          "base_uri": "https://localhost:8080/",
          "height": 289
        },
        "outputId": "d5e59b4c-3d00-43cb-d96f-fa0bfa5acaa3"
      },
      "source": [
        "sumario_do_modelo = modelo.summary()"
      ],
      "execution_count": 34,
      "outputs": [
        {
          "output_type": "stream",
          "text": [
            "Model: \"sequential_2\"\n",
            "_________________________________________________________________\n",
            "Layer (type)                 Output Shape              Param #   \n",
            "=================================================================\n",
            "flatten_2 (Flatten)          (None, 784)               0         \n",
            "_________________________________________________________________\n",
            "dense_4 (Dense)              (None, 256)               200960    \n",
            "_________________________________________________________________\n",
            "dropout_2 (Dropout)          (None, 256)               0         \n",
            "_________________________________________________________________\n",
            "dense_5 (Dense)              (None, 10)                2570      \n",
            "=================================================================\n",
            "Total params: 203,530\n",
            "Trainable params: 203,530\n",
            "Non-trainable params: 0\n",
            "_________________________________________________________________\n"
          ],
          "name": "stdout"
        }
      ]
    },
    {
      "cell_type": "code",
      "metadata": {
        "id": "pix89OB3jrOE",
        "colab_type": "code",
        "colab": {
          "base_uri": "https://localhost:8080/",
          "height": 1000
        },
        "outputId": "40d1ef6a-5ef2-42d7-95fa-d37eeb5e4f5e"
      },
      "source": [
        "pesos_camada_dense = modelo.layers[1].get_weights()\n",
        "pesos_camada_dense"
      ],
      "execution_count": 11,
      "outputs": [
        {
          "output_type": "execute_result",
          "data": {
            "text/plain": [
              "[array([[ 0.03488285,  0.09635731, -0.00208605, ..., -0.01380427,\n",
              "          0.15095575, -0.04360946],\n",
              "        [-0.05865138,  0.12201393,  0.06314967, ...,  0.07635736,\n",
              "          0.09314372, -0.11129158],\n",
              "        [ 0.01031265, -0.03338462,  0.21983662, ..., -0.05086117,\n",
              "         -0.12988636, -0.14153692],\n",
              "        ...,\n",
              "        [-0.10867444,  0.06682549, -0.11380198, ..., -0.04762439,\n",
              "         -0.06700922,  0.07336386],\n",
              "        [-0.06170419,  0.1038985 , -0.13903594, ...,  0.02925188,\n",
              "         -0.12656826, -0.07700026],\n",
              "        [-0.09734629,  0.10596536,  0.04366048, ..., -0.07336525,\n",
              "         -0.06166075, -0.1110113 ]], dtype=float32),\n",
              " array([ 0.06897847,  0.1475212 ,  0.25486302, -0.07402565,  0.33343506,\n",
              "         0.00163451, -0.05595974,  0.37345427, -0.14344896,  0.00975751,\n",
              "         0.02265173,  0.01261049,  0.09609389, -0.15734565,  0.17959018,\n",
              "        -0.00825091,  0.24377148, -0.17260154,  0.21804275, -0.0485111 ,\n",
              "         0.19937542, -0.03157517, -0.01732121, -0.01409338,  0.16652459,\n",
              "         0.01113719, -0.01173883, -0.01523604, -0.01389489,  0.2762328 ,\n",
              "         0.16250795,  0.3352057 ,  0.11961832, -0.05055119, -0.04629117,\n",
              "         0.00539245,  0.03178436, -0.09945069,  0.00824722,  0.1645921 ,\n",
              "         0.08687339, -0.03957358, -0.06165519, -0.01788629,  0.11447582,\n",
              "         0.2582159 , -0.00090942,  0.09036029, -0.03720829,  0.24068569,\n",
              "         0.1700526 ,  0.34303766,  0.04896139,  0.00789999,  0.09194309,\n",
              "        -0.01729013,  0.35737723,  0.20037107, -0.2618148 ,  0.11879174,\n",
              "        -0.20509566,  0.42792723,  0.2431815 ,  0.18371923,  0.20673114,\n",
              "        -0.03314423,  0.24961294,  0.10699473,  0.20349298, -0.01347998,\n",
              "         0.43446627,  0.02070384,  0.15729406, -0.30160388,  0.20939587,\n",
              "        -0.00881618,  0.2186917 , -0.00630135, -0.0133422 ,  0.1818609 ,\n",
              "        -0.01692439,  0.27224484, -0.20271935,  0.07849918,  0.09273026,\n",
              "         0.10301004, -0.01681508,  0.23014553,  0.3671144 ,  0.04832233,\n",
              "         0.15025574,  0.27823627, -0.10474955, -0.03731262,  0.1929003 ,\n",
              "         0.11977302,  0.28685576, -0.397109  ,  0.31361997,  0.05580156,\n",
              "         0.24463537,  0.07529633, -0.0719127 ,  0.43155292,  0.13974191,\n",
              "        -0.01464702,  0.2891476 ,  0.05389948, -0.256694  ,  0.02607035,\n",
              "         0.22455385, -0.00583717, -0.00875423,  0.3027166 ,  0.2058839 ,\n",
              "         0.19326983, -0.1464887 ,  0.22516471,  0.09045552, -0.00834436,\n",
              "        -0.35606912,  0.33935672, -0.09876171, -0.01295388,  0.22926188,\n",
              "         0.33504233,  0.0803607 ,  0.49410972,  0.10025904, -0.02378061,\n",
              "         0.08476118, -0.01431861,  0.26877663,  0.00478388,  0.03010886,\n",
              "        -0.0590505 , -0.0134405 ,  0.01704718, -0.01293398,  0.27393326,\n",
              "         0.02763226,  0.19783166, -0.11621442, -0.01171005, -0.11581454,\n",
              "        -0.06495827,  0.09306521,  0.18412308,  0.04607828,  0.17229743,\n",
              "        -0.07075675,  0.4822906 ,  0.28721035,  0.19259383,  0.2077694 ,\n",
              "        -0.18930124,  0.23209839,  0.27949363,  0.10625537,  0.12974003,\n",
              "         0.51672995,  0.07282041,  0.22656882,  0.12657838,  0.24426655,\n",
              "         0.09491766, -0.01060988, -0.43472046, -0.01366476,  0.24681047,\n",
              "        -0.17000864,  0.2560442 ,  0.11069655,  0.11995378,  0.26395014,\n",
              "         0.19083773,  0.04045387,  0.1647054 , -0.08363682, -0.05246616,\n",
              "         0.1889816 ,  0.05850738,  0.19022262, -0.03864363,  0.19197354,\n",
              "        -0.01177091,  0.2392369 , -0.05793458,  0.03494206, -0.08357815,\n",
              "         0.27548656,  0.24075629,  0.13116026,  0.32176456, -0.02327299,\n",
              "         0.34819713,  0.01154311, -0.08276841, -0.30266896,  0.1632731 ,\n",
              "        -0.01921951, -0.02343356, -0.02464567, -0.14637792,  0.20868762,\n",
              "         0.13633464,  0.13758135,  0.06967098, -0.02578599,  0.09790534,\n",
              "        -0.06105626,  0.22732595,  0.0103727 ,  0.06831226,  0.22940095,\n",
              "         0.2517519 ,  0.02020734, -0.03262503, -0.02377221,  0.432869  ,\n",
              "        -0.13537973,  0.24327154, -0.19422975,  0.26795408, -0.06110118,\n",
              "         0.2324268 ,  0.0622544 , -0.07254723,  0.27427733,  0.09139942,\n",
              "         0.05992937,  0.24343014, -0.03720127,  0.5206306 ,  0.3582765 ,\n",
              "         0.1983898 ,  0.24112953, -0.25505245, -0.02267062,  0.2462776 ,\n",
              "        -0.07121874, -0.00808736,  0.03073113,  0.09402977,  0.16909598,\n",
              "         0.04183165, -0.28493088, -0.03603857, -0.09735487,  0.22714244,\n",
              "        -0.0052269 ,  0.18390277, -0.00163602,  0.17255127,  0.18045084,\n",
              "        -0.03987593], dtype=float32)]"
            ]
          },
          "metadata": {
            "tags": []
          },
          "execution_count": 11
        }
      ]
    },
    {
      "cell_type": "code",
      "metadata": {
        "id": "nzZecChQjxif",
        "colab_type": "code",
        "colab": {
          "base_uri": "https://localhost:8080/",
          "height": 139
        },
        "outputId": "1eb7d833-863b-4d9f-ba90-935eb02d2711"
      },
      "source": [
        "modelo.save('modelo.h5')\n",
        "modelo_salvo = load_model('modelo.h5')"
      ],
      "execution_count": 12,
      "outputs": [
        {
          "output_type": "stream",
          "text": [
            "WARNING:tensorflow:From /usr/local/lib/python3.6/dist-packages/tensorflow_core/python/ops/init_ops.py:97: calling GlorotUniform.__init__ (from tensorflow.python.ops.init_ops) with dtype is deprecated and will be removed in a future version.\n",
            "Instructions for updating:\n",
            "Call initializer instance with the dtype argument instead of passing it to the constructor\n",
            "WARNING:tensorflow:From /usr/local/lib/python3.6/dist-packages/tensorflow_core/python/ops/init_ops.py:97: calling Zeros.__init__ (from tensorflow.python.ops.init_ops) with dtype is deprecated and will be removed in a future version.\n",
            "Instructions for updating:\n",
            "Call initializer instance with the dtype argument instead of passing it to the constructor\n"
          ],
          "name": "stdout"
        }
      ]
    },
    {
      "cell_type": "code",
      "metadata": {
        "id": "rApqDAPgj4hy",
        "colab_type": "code",
        "colab": {
          "base_uri": "https://localhost:8080/",
          "height": 313
        },
        "outputId": "34ce01cd-15e1-46da-ecb4-a52c6222537c"
      },
      "source": [
        "plt.plot(historico.history['acc'])\n",
        "plt.plot(historico.history['val_acc'])\n",
        "plt.title('Acurácia por épocas')\n",
        "plt.xlabel('épocas')\n",
        "plt.ylabel('acurácia')\n",
        "plt.legend(['treino', 'validação'])"
      ],
      "execution_count": 35,
      "outputs": [
        {
          "output_type": "execute_result",
          "data": {
            "text/plain": [
              "<matplotlib.legend.Legend at 0x7fccbd809c18>"
            ]
          },
          "metadata": {
            "tags": []
          },
          "execution_count": 35
        },
        {
          "output_type": "display_data",
          "data": {
            "image/png": "[encoded data removed]",
            "text/plain": [
              "<Figure size 432x288 with 1 Axes>"
            ]
          },
          "metadata": {
            "tags": []
          }
        }
      ]
    },
    {
      "cell_type": "code",
      "metadata": {
        "id": "Ea6Vju1Cj5y7",
        "colab_type": "code",
        "colab": {
          "base_uri": "https://localhost:8080/",
          "height": 313
        },
        "outputId": "23f92d9d-3192-4fc8-863f-0ece71b41704"
      },
      "source": [
        "plt.plot(historico.history['loss'])\n",
        "plt.plot(historico.history['val_loss'])\n",
        "plt.title('Perda por épocas')\n",
        "plt.xlabel('épocas')\n",
        "plt.ylabel('perda')\n",
        "plt.legend(['treino', 'validação'])"
      ],
      "execution_count": 36,
      "outputs": [
        {
          "output_type": "execute_result",
          "data": {
            "text/plain": [
              "<matplotlib.legend.Legend at 0x7fccbd7fb048>"
            ]
          },
          "metadata": {
            "tags": []
          },
          "execution_count": 36
        },
        {
          "output_type": "display_data",
          "data": {
            "image/png": "[encoded data removed]",
            "text/plain": [
              "<Figure size 432x288 with 1 Axes>"
            ]
          },
          "metadata": {
            "tags": []
          }
        }
      ]
    },
    {
      "cell_type": "code",
      "metadata": {
        "id": "WbGNXKySj7Tz",
        "colab_type": "code",
        "colab": {
          "base_uri": "https://localhost:8080/",
          "height": 85
        },
        "outputId": "39fdb335-ac84-4936-9455-a15577e2f120"
      },
      "source": [
        "testes = modelo.predict(imagens_teste)\n",
        "print('resultado teste:', np.argmax(testes[1]))\n",
        "print('número da imagem de teste:', identificacoes_teste[1])\n",
        "\n",
        "testes_modelo_salvo = modelo_salvo.predict(imagens_teste)\n",
        "print('resultado teste modelo salvo:', np.argmax(testes_modelo_salvo[1]))\n",
        "print('número da imagem de teste:', identificacoes_teste[1])"
      ],
      "execution_count": 31,
      "outputs": [
        {
          "output_type": "stream",
          "text": [
            "resultado teste: 2\n",
            "número da imagem de teste: 2\n",
            "resultado teste modelo salvo: 2\n",
            "número da imagem de teste: 2\n"
          ],
          "name": "stdout"
        }
      ]
    },
    {
      "cell_type": "code",
      "metadata": {
        "id": "WwYHnVaWj8hj",
        "colab_type": "code",
        "colab": {
          "base_uri": "https://localhost:8080/",
          "height": 68
        },
        "outputId": "08d3ab24-54c8-4179-eb53-6bb23f08504e"
      },
      "source": [
        "perda_teste, acuracia_teste = modelo.evaluate(imagens_teste, identificacoes_teste)\n",
        "print('Perda do teste:', perda_teste)\n",
        "print('Acurácia do teste:', acuracia_teste)"
      ],
      "execution_count": 32,
      "outputs": [
        {
          "output_type": "stream",
          "text": [
            "10000/10000 [==============================] - 0s 43us/sample - loss: 62.1323 - acc: 0.8495\n",
            "Perda do teste: 62.13229620138245\n",
            "Acurácia do teste: 0.8495\n"
          ],
          "name": "stdout"
        }
      ]
    },
    {
      "cell_type": "code",
      "metadata": {
        "id": "ogFMTxnektSU",
        "colab_type": "code",
        "colab": {
          "base_uri": "https://localhost:8080/",
          "height": 799
        },
        "outputId": "78e2e842-71da-4d1a-d1d7-c30b85b53bad"
      },
      "source": [
        "modelo.get_config()"
      ],
      "execution_count": 24,
      "outputs": [
        {
          "output_type": "execute_result",
          "data": {
            "text/plain": [
              "{'layers': [{'class_name': 'Flatten',\n",
              "   'config': {'batch_input_shape': (None, 28, 28),\n",
              "    'data_format': 'channels_last',\n",
              "    'dtype': 'float32',\n",
              "    'name': 'flatten',\n",
              "    'trainable': True}},\n",
              "  {'class_name': 'Dense',\n",
              "   'config': {'activation': 'relu',\n",
              "    'activity_regularizer': None,\n",
              "    'bias_constraint': None,\n",
              "    'bias_initializer': {'class_name': 'Zeros',\n",
              "     'config': {'dtype': 'float32'}},\n",
              "    'bias_regularizer': None,\n",
              "    'dtype': 'float32',\n",
              "    'kernel_constraint': None,\n",
              "    'kernel_initializer': {'class_name': 'GlorotUniform',\n",
              "     'config': {'dtype': 'float32', 'seed': None}},\n",
              "    'kernel_regularizer': None,\n",
              "    'name': 'dense',\n",
              "    'trainable': True,\n",
              "    'units': 256,\n",
              "    'use_bias': True}},\n",
              "  {'class_name': 'Dropout',\n",
              "   'config': {'dtype': 'float32',\n",
              "    'name': 'dropout',\n",
              "    'noise_shape': None,\n",
              "    'rate': 0.2,\n",
              "    'seed': None,\n",
              "    'trainable': True}},\n",
              "  {'class_name': 'Dense',\n",
              "   'config': {'activation': 'softmax',\n",
              "    'activity_regularizer': None,\n",
              "    'bias_constraint': None,\n",
              "    'bias_initializer': {'class_name': 'Zeros',\n",
              "     'config': {'dtype': 'float32'}},\n",
              "    'bias_regularizer': None,\n",
              "    'dtype': 'float32',\n",
              "    'kernel_constraint': None,\n",
              "    'kernel_initializer': {'class_name': 'GlorotUniform',\n",
              "     'config': {'dtype': 'float32', 'seed': None}},\n",
              "    'kernel_regularizer': None,\n",
              "    'name': 'dense_1',\n",
              "    'trainable': True,\n",
              "    'units': 10,\n",
              "    'use_bias': True}}],\n",
              " 'name': 'sequential'}"
            ]
          },
          "metadata": {
            "tags": []
          },
          "execution_count": 24
        }
      ]
    },
    {
      "cell_type": "code",
      "metadata": {
        "id": "Bi_A8Tfzky33",
        "colab_type": "code",
        "colab": {
          "base_uri": "https://localhost:8080/",
          "height": 313
        },
        "outputId": "1b367783-aeb5-4914-8c3a-1ac04bbdd617"
      },
      "source": [
        "plt.plot(historico.history['loss'])\n",
        "plt.plot(historico.history['val_loss'])\n",
        "plt.title('Perda por épocas')\n",
        "plt.xlabel('épocas')\n",
        "plt.ylabel('perda')\n",
        "plt.legend(['treino', 'validação'])"
      ],
      "execution_count": 25,
      "outputs": [
        {
          "output_type": "execute_result",
          "data": {
            "text/plain": [
              "<matplotlib.legend.Legend at 0x7fcccefccef0>"
            ]
          },
          "metadata": {
            "tags": []
          },
          "execution_count": 25
        },
        {
          "output_type": "display_data",
          "data": {
            "image/png": "[encoded data removed]",
            "text/plain": [
              "<Figure size 432x288 with 1 Axes>"
            ]
          },
          "metadata": {
            "tags": []
          }
        }
      ]
    },
    {
      "cell_type": "code",
      "metadata": {
        "id": "MCd9P3zLj-E7",
        "colab_type": "code",
        "colab": {
          "base_uri": "https://localhost:8080/",
          "height": 238
        },
        "outputId": "8cfdecb6-d805-460a-b65f-2b77b9e38829"
      },
      "source": [
        "pesos_camada_dense = modelo.layers[1].get_weights()[0]\n",
        "pesos_camada_dense"
      ],
      "execution_count": 17,
      "outputs": [
        {
          "output_type": "execute_result",
          "data": {
            "text/plain": [
              "array([[ 0.03488285,  0.09635731, -0.00208605, ..., -0.01380427,\n",
              "         0.15095575, -0.04360946],\n",
              "       [-0.05865138,  0.12201393,  0.06314967, ...,  0.07635736,\n",
              "         0.09314372, -0.11129158],\n",
              "       [ 0.01031265, -0.03338462,  0.21983662, ..., -0.05086117,\n",
              "        -0.12988636, -0.14153692],\n",
              "       ...,\n",
              "       [-0.10867444,  0.06682549, -0.11380198, ..., -0.04762439,\n",
              "        -0.06700922,  0.07336386],\n",
              "       [-0.06170419,  0.1038985 , -0.13903594, ...,  0.02925188,\n",
              "        -0.12656826, -0.07700026],\n",
              "       [-0.09734629,  0.10596536,  0.04366048, ..., -0.07336525,\n",
              "        -0.06166075, -0.1110113 ]], dtype=float32)"
            ]
          },
          "metadata": {
            "tags": []
          },
          "execution_count": 17
        }
      ]
    },
    {
      "cell_type": "code",
      "metadata": {
        "id": "nN8PfWu7kNzr",
        "colab_type": "code",
        "colab": {
          "base_uri": "https://localhost:8080/",
          "height": 34
        },
        "outputId": "33db8b6c-1c1c-494d-9041-b43795474509"
      },
      "source": [
        "pesos_camada_dense.shape"
      ],
      "execution_count": 18,
      "outputs": [
        {
          "output_type": "execute_result",
          "data": {
            "text/plain": [
              "(784, 256)"
            ]
          },
          "metadata": {
            "tags": []
          },
          "execution_count": 18
        }
      ]
    },
    {
      "cell_type": "code",
      "metadata": {
        "id": "VZuzlciKkPTa",
        "colab_type": "code",
        "colab": {}
      },
      "source": [
        "pesos_camada_dense_zerados = np.zeros((784, 256))\n",
        "\n",
        "pesos_camada_dense_aleatorios = np.random.rand(784, 256)"
      ],
      "execution_count": 0,
      "outputs": []
    },
    {
      "cell_type": "code",
      "metadata": {
        "id": "zUq7lldDkdG4",
        "colab_type": "code",
        "colab": {
          "base_uri": "https://localhost:8080/",
          "height": 34
        },
        "outputId": "be1377bc-7a80-451c-fe62-73f447e5e5db"
      },
      "source": [
        "# os vieses são o segundo resultado no array devolvido pela função de pesos\n",
        "vieses_camada_dense = modelo.layers[1].get_weights()[1]\n",
        "vieses_camada_dense.shape"
      ],
      "execution_count": 21,
      "outputs": [
        {
          "output_type": "execute_result",
          "data": {
            "text/plain": [
              "(256,)"
            ]
          },
          "metadata": {
            "tags": []
          },
          "execution_count": 21
        }
      ]
    },
    {
      "cell_type": "code",
      "metadata": {
        "id": "AP6KKVvfkV0X",
        "colab_type": "code",
        "colab": {}
      },
      "source": [
        "vieses_camada_dense_zerados = np.zeros((256,))\n",
        "\n",
        "# inicializar os pesos com valores aleatórios e vieses com 0\n",
        "modelo.layers[1].set_weights(\n",
        "    [pesos_camada_dense_aleatorios, vieses_camada_dense_zerados]\n",
        ")"
      ],
      "execution_count": 0,
      "outputs": []
    },
    {
      "cell_type": "code",
      "metadata": {
        "id": "ny4Jr3-ykh-e",
        "colab_type": "code",
        "colab": {
          "base_uri": "https://localhost:8080/",
          "height": 510
        },
        "outputId": "85a567ce-ed70-4bdd-f6c5-f69e22af6671"
      },
      "source": [
        "modelo.layers[1].get_weights()"
      ],
      "execution_count": 23,
      "outputs": [
        {
          "output_type": "execute_result",
          "data": {
            "text/plain": [
              "[array([[0.55207986, 0.19373028, 0.42339402, ..., 0.00626858, 0.10042488,\n",
              "         0.17054112],\n",
              "        [0.22120298, 0.3957025 , 0.9510775 , ..., 0.74075454, 0.3719013 ,\n",
              "         0.95452714],\n",
              "        [0.5829543 , 0.33365265, 0.7530055 , ..., 0.06064096, 0.8643112 ,\n",
              "         0.28296268],\n",
              "        ...,\n",
              "        [0.37163773, 0.6786443 , 0.29397064, ..., 0.3053672 , 0.6479234 ,\n",
              "         0.48023075],\n",
              "        [0.12571499, 0.8096389 , 0.8494545 , ..., 0.32370946, 0.19167542,\n",
              "         0.82653576],\n",
              "        [0.0267632 , 0.7602363 , 0.504896  , ..., 0.28026125, 0.6635053 ,\n",
              "         0.81587833]], dtype=float32),\n",
              " array([0., 0., 0., 0., 0., 0., 0., 0., 0., 0., 0., 0., 0., 0., 0., 0., 0.,\n",
              "        0., 0., 0., 0., 0., 0., 0., 0., 0., 0., 0., 0., 0., 0., 0., 0., 0.,\n",
              "        0., 0., 0., 0., 0., 0., 0., 0., 0., 0., 0., 0., 0., 0., 0., 0., 0.,\n",
              "        0., 0., 0., 0., 0., 0., 0., 0., 0., 0., 0., 0., 0., 0., 0., 0., 0.,\n",
              "        0., 0., 0., 0., 0., 0., 0., 0., 0., 0., 0., 0., 0., 0., 0., 0., 0.,\n",
              "        0., 0., 0., 0., 0., 0., 0., 0., 0., 0., 0., 0., 0., 0., 0., 0., 0.,\n",
              "        0., 0., 0., 0., 0., 0., 0., 0., 0., 0., 0., 0., 0., 0., 0., 0., 0.,\n",
              "        0., 0., 0., 0., 0., 0., 0., 0., 0., 0., 0., 0., 0., 0., 0., 0., 0.,\n",
              "        0., 0., 0., 0., 0., 0., 0., 0., 0., 0., 0., 0., 0., 0., 0., 0., 0.,\n",
              "        0., 0., 0., 0., 0., 0., 0., 0., 0., 0., 0., 0., 0., 0., 0., 0., 0.,\n",
              "        0., 0., 0., 0., 0., 0., 0., 0., 0., 0., 0., 0., 0., 0., 0., 0., 0.,\n",
              "        0., 0., 0., 0., 0., 0., 0., 0., 0., 0., 0., 0., 0., 0., 0., 0., 0.,\n",
              "        0., 0., 0., 0., 0., 0., 0., 0., 0., 0., 0., 0., 0., 0., 0., 0., 0.,\n",
              "        0., 0., 0., 0., 0., 0., 0., 0., 0., 0., 0., 0., 0., 0., 0., 0., 0.,\n",
              "        0., 0., 0., 0., 0., 0., 0., 0., 0., 0., 0., 0., 0., 0., 0., 0., 0.,\n",
              "        0.], dtype=float32)]"
            ]
          },
          "metadata": {
            "tags": []
          },
          "execution_count": 23
        }
      ]
    },
    {
      "cell_type": "code",
      "metadata": {
        "id": "AoMXVzLEkkBC",
        "colab_type": "code",
        "colab": {}
      },
      "source": [
        "modelo.layers[1].set_weights(\n",
        "    [pesos_camada_dense_zerados, vieses_camada_dense_zerados]\n",
        ")"
      ],
      "execution_count": 0,
      "outputs": []
    },
    {
      "cell_type": "code",
      "metadata": {
        "id": "lmF1fuBVlz_e",
        "colab_type": "code",
        "colab": {}
      },
      "source": [
        ""
      ],
      "execution_count": 0,
      "outputs": []
    }
  ]
}