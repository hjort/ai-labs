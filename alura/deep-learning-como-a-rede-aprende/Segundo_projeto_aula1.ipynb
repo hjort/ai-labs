{
 "cells": [
  {
   "cell_type": "markdown",
   "metadata": {
    "colab_type": "text",
    "id": "sNc3NouWYrN7"
   },
   "source": [
    "Imports"
   ]
  },
  {
   "cell_type": "code",
   "execution_count": 1,
   "metadata": {
    "colab": {},
    "colab_type": "code",
    "id": "4bQCahYjYdUB"
   },
   "outputs": [
    {
     "ename": "ModuleNotFoundError",
     "evalue": "No module named 'tensorflow'",
     "output_type": "error",
     "traceback": [
      "\u001b[0;31m---------------------------------------------------------------------------\u001b[0m",
      "\u001b[0;31mModuleNotFoundError\u001b[0m                       Traceback (most recent call last)",
      "\u001b[0;32m<ipython-input-1-556e4b202995>\u001b[0m in \u001b[0;36m<module>\u001b[0;34m\u001b[0m\n\u001b[0;32m----> 1\u001b[0;31m \u001b[0;32mimport\u001b[0m \u001b[0mtensorflow\u001b[0m\u001b[0;34m\u001b[0m\u001b[0;34m\u001b[0m\u001b[0m\n\u001b[0m\u001b[1;32m      2\u001b[0m \u001b[0;32mfrom\u001b[0m \u001b[0mtensorflow\u001b[0m \u001b[0;32mimport\u001b[0m \u001b[0mkeras\u001b[0m\u001b[0;34m\u001b[0m\u001b[0;34m\u001b[0m\u001b[0m\n\u001b[1;32m      3\u001b[0m \u001b[0;32mimport\u001b[0m \u001b[0mmatplotlib\u001b[0m\u001b[0;34m.\u001b[0m\u001b[0mpyplot\u001b[0m \u001b[0;32mas\u001b[0m \u001b[0mplt\u001b[0m\u001b[0;34m\u001b[0m\u001b[0;34m\u001b[0m\u001b[0m\n\u001b[1;32m      4\u001b[0m \u001b[0;32mimport\u001b[0m \u001b[0mnumpy\u001b[0m \u001b[0;32mas\u001b[0m \u001b[0mnp\u001b[0m\u001b[0;34m\u001b[0m\u001b[0;34m\u001b[0m\u001b[0m\n\u001b[1;32m      5\u001b[0m \u001b[0;32mfrom\u001b[0m \u001b[0mtensorflow\u001b[0m\u001b[0;34m.\u001b[0m\u001b[0mkeras\u001b[0m\u001b[0;34m.\u001b[0m\u001b[0mmodels\u001b[0m \u001b[0;32mimport\u001b[0m \u001b[0mload_model\u001b[0m\u001b[0;34m\u001b[0m\u001b[0;34m\u001b[0m\u001b[0m\n",
      "\u001b[0;31mModuleNotFoundError\u001b[0m: No module named 'tensorflow'"
     ]
    }
   ],
   "source": [
    "import tensorflow\n",
    "from tensorflow import keras\n",
    "import matplotlib.pyplot as plt\n",
    "import numpy as np\n",
    "from tensorflow.keras.models import load_model"
   ]
  },
  {
   "cell_type": "markdown",
   "metadata": {
    "colab_type": "text",
    "id": "f8uuzUjVYvkf"
   },
   "source": [
    "Carregando o dataset"
   ]
  },
  {
   "cell_type": "code",
   "execution_count": 0,
   "metadata": {
    "colab": {},
    "colab_type": "code",
    "id": "QoIys3wMYirH"
   },
   "outputs": [],
   "source": [
    "dataset = keras.datasets.fashion_mnist\n",
    "((imagens_treino, identificacoes_treino), (imagens_teste, identificacoes_teste)) = dataset.load_data()\n"
   ]
  },
  {
   "cell_type": "markdown",
   "metadata": {
    "colab_type": "text",
    "id": "oFr0526ZY5E_"
   },
   "source": [
    "Exploração dos dados"
   ]
  },
  {
   "cell_type": "code",
   "execution_count": 3,
   "metadata": {
    "colab": {
     "base_uri": "https://localhost:8080/",
     "height": 34
    },
    "colab_type": "code",
    "id": "fPIT36hpYl5A",
    "outputId": "61176d4b-23cf-4b16-887b-9c6a5532ad9f"
   },
   "outputs": [
    {
     "data": {
      "text/plain": [
       "9"
      ]
     },
     "execution_count": 3,
     "metadata": {
      "tags": []
     },
     "output_type": "execute_result"
    }
   ],
   "source": [
    "len(imagens_treino)\n",
    "imagens_treino.shape\n",
    "imagens_teste.shape\n",
    "len(identificacoes_teste)\n",
    "identificacoes_treino.min()\n",
    "identificacoes_treino.max()"
   ]
  },
  {
   "cell_type": "markdown",
   "metadata": {
    "colab_type": "text",
    "id": "yTWqT9DIY-iB"
   },
   "source": [
    "Exibição dos dados"
   ]
  },
  {
   "cell_type": "code",
   "execution_count": 4,
   "metadata": {
    "colab": {
     "base_uri": "https://localhost:8080/",
     "height": 364
    },
    "colab_type": "code",
    "id": "bGESm49JVahh",
    "outputId": "c23e4dd9-50c3-4863-8813-8aeb793c49cf"
   },
   "outputs": [
    {
     "data": {
      "text/plain": [
       "<matplotlib.colorbar.Colorbar at 0x7f99d2827a20>"
      ]
     },
     "execution_count": 4,
     "metadata": {
      "tags": []
     },
     "output_type": "execute_result"
    },
    {
     "data": {
      "image/png": "[encoded data removed]",
      "text/plain": [
       "<matplotlib.figure.Figure at 0x7f99d28f0f60>"
      ]
     },
     "metadata": {
      "tags": []
     },
     "output_type": "display_data"
    }
   ],
   "source": [
    "total_de_classificacoes = 10\n",
    "nomes_de_classificacoes = ['Camiseta', 'Calça', 'Pullover', \n",
    "                           'Vestido', 'Casaco', 'Sandália', 'Camisa',\n",
    "                           'Tênis', 'Bolsa', 'Bota']\n",
    "\n",
    "plt.imshow(imagens_treino[0])\n",
    "plt.colorbar()"
   ]
  },
  {
   "cell_type": "markdown",
   "metadata": {
    "colab_type": "text",
    "id": "uU6ZySpIcoc5"
   },
   "source": [
    "Normalizando as imagens"
   ]
  },
  {
   "cell_type": "code",
   "execution_count": 0,
   "metadata": {
    "colab": {},
    "colab_type": "code",
    "id": "Ral_hdl9ulGG"
   },
   "outputs": [],
   "source": [
    "imagens_treino = imagens_treino/float(255)"
   ]
  },
  {
   "cell_type": "markdown",
   "metadata": {
    "colab_type": "text",
    "id": "2WABnvOJdCNl"
   },
   "source": [
    "Criando, compilando, treinando e normalizando o modelo"
   ]
  },
  {
   "cell_type": "code",
   "execution_count": 6,
   "metadata": {
    "colab": {
     "base_uri": "https://localhost:8080/",
     "height": 226
    },
    "colab_type": "code",
    "id": "uFedwlfFc0ii",
    "outputId": "7772c07b-077d-43e8-a9cd-7f7055df320f"
   },
   "outputs": [
    {
     "name": "stdout",
     "output_type": "stream",
     "text": [
      "Train on 48000 samples, validate on 12000 samples\n",
      "Epoch 1/5\n",
      "48000/48000 [==============================] - 9s 189us/step - loss: 0.5252 - acc: 0.8134 - val_loss: 0.4049 - val_acc: 0.8524\n",
      "Epoch 2/5\n",
      "48000/48000 [==============================] - 9s 183us/step - loss: 0.3959 - acc: 0.8569 - val_loss: 0.3694 - val_acc: 0.8693\n",
      "Epoch 3/5\n",
      "48000/48000 [==============================] - 9s 182us/step - loss: 0.3605 - acc: 0.8683 - val_loss: 0.3779 - val_acc: 0.8627\n",
      "Epoch 4/5\n",
      "48000/48000 [==============================] - 9s 183us/step - loss: 0.3377 - acc: 0.8757 - val_loss: 0.3443 - val_acc: 0.8755\n",
      "Epoch 5/5\n",
      "48000/48000 [==============================] - 9s 182us/step - loss: 0.3209 - acc: 0.8805 - val_loss: 0.3495 - val_acc: 0.8765\n"
     ]
    }
   ],
   "source": [
    "modelo = keras.Sequential([ \n",
    "    keras.layers.Flatten(input_shape=(28, 28)),\n",
    "    keras.layers.Dense(256, activation=tensorflow.nn.relu),\n",
    "    keras.layers.Dropout(0.2),\n",
    "    keras.layers.Dense(10, activation=tensorflow.nn.softmax)\n",
    "])\n",
    "\n",
    "modelo.compile(optimizer='adam', \n",
    "               loss='sparse_categorical_crossentropy',\n",
    "               metrics=['accuracy'])\n",
    "\n",
    "historico = modelo.fit(imagens_treino, identificacoes_treino, epochs=5, validation_split=0.2)"
   ]
  },
  {
   "cell_type": "markdown",
   "metadata": {
    "colab_type": "text",
    "id": "weeyzt2QuDXS"
   },
   "source": [
    "Sumário do modelo"
   ]
  },
  {
   "cell_type": "code",
   "execution_count": 38,
   "metadata": {
    "colab": {
     "base_uri": "https://localhost:8080/",
     "height": 274
    },
    "colab_type": "code",
    "id": "QLG_CH6Lr2vp",
    "outputId": "5bf36159-d992-43e3-9f62-a2950eeb7628"
   },
   "outputs": [
    {
     "name": "stdout",
     "output_type": "stream",
     "text": [
      "_________________________________________________________________\n",
      "Layer (type)                 Output Shape              Param #   \n",
      "=================================================================\n",
      "flatten (Flatten)            (None, 784)               0         \n",
      "_________________________________________________________________\n",
      "dense (Dense)                (None, 256)               200960    \n",
      "_________________________________________________________________\n",
      "dropout (Dropout)            (None, 256)               0         \n",
      "_________________________________________________________________\n",
      "dense_1 (Dense)              (None, 10)                2570      \n",
      "=================================================================\n",
      "Total params: 203,530\n",
      "Trainable params: 203,530\n",
      "Non-trainable params: 0\n",
      "_________________________________________________________________\n"
     ]
    }
   ],
   "source": [
    "sumario_do_modelo = modelo.summary()"
   ]
  },
  {
   "cell_type": "markdown",
   "metadata": {
    "colab_type": "text",
    "id": "GVuSQg42udch"
   },
   "source": [
    "Pesos da primeira camada Dense"
   ]
  },
  {
   "cell_type": "code",
   "execution_count": 40,
   "metadata": {
    "colab": {
     "base_uri": "https://localhost:8080/",
     "height": 1354
    },
    "colab_type": "code",
    "id": "YRzqJi5gr-ug",
    "outputId": "fb501c8a-69f6-49c1-ae48-176d4cf06592"
   },
   "outputs": [
    {
     "data": {
      "text/plain": [
       "[array([[ 0.00524871, -0.11004062,  0.13758828, ..., -0.1579878 ,\n",
       "         -0.00142127,  0.00939471],\n",
       "        [ 0.03461614, -0.04760416,  0.1779013 , ..., -0.14755748,\n",
       "         -0.10598074, -0.05744827],\n",
       "        [-0.04720343,  0.01652463, -0.03128776, ..., -0.13856664,\n",
       "          0.01710287, -0.05725543],\n",
       "        ...,\n",
       "        [ 0.03753441,  0.21444741,  0.01582495, ..., -0.2257942 ,\n",
       "          0.2782449 , -0.08317742],\n",
       "        [-0.0208508 ,  0.22376445,  0.00300794, ..., -0.17215742,\n",
       "          0.04819855, -0.11253677],\n",
       "        [ 0.02667857,  0.08448928,  0.23865685, ..., -0.05406902,\n",
       "         -0.14307678,  0.01467239]], dtype=float32),\n",
       " array([ 1.16563626e-01,  2.00383574e-01,  2.16542244e-01, -1.04050189e-01,\n",
       "         2.22290292e-01,  2.03423440e-01,  1.78649172e-01,  1.04543686e-01,\n",
       "         3.23054373e-01,  2.97243536e-01, -5.07429475e-03,  1.30689308e-01,\n",
       "         3.12031865e-01,  3.39405507e-01,  1.46878883e-01,  2.59472758e-01,\n",
       "        -1.03004798e-01,  3.85944843e-01,  3.57965261e-01, -7.44848475e-02,\n",
       "         1.53556302e-01,  2.76009977e-01,  1.60143286e-01,  3.65746707e-01,\n",
       "         3.35957766e-01, -4.07021679e-02,  3.53741157e-03,  1.49494678e-01,\n",
       "        -1.18720653e-02,  2.86895782e-01,  1.71697333e-01,  2.70660341e-01,\n",
       "        -1.90745622e-01, -1.26834903e-02, -3.37902158e-02,  1.94578290e-01,\n",
       "         3.59597266e-01,  1.14150092e-01,  1.12235427e-01,  3.16841990e-01,\n",
       "         9.54611879e-03, -1.95544466e-01,  2.29236320e-01,  1.89695671e-01,\n",
       "         4.73570004e-02,  9.87034738e-02,  2.32090458e-01,  2.12860946e-02,\n",
       "         6.61147758e-02, -4.24835980e-01,  3.15535158e-01,  3.21921289e-01,\n",
       "         7.37581030e-02,  3.09438467e-01, -1.87978446e-01, -2.61927731e-02,\n",
       "        -1.60711899e-01,  2.42159218e-01,  1.56536087e-01,  9.22217965e-03,\n",
       "         1.82041883e-01,  9.23544243e-02,  1.35896012e-01,  2.39720523e-01,\n",
       "        -8.12186971e-02,  1.23139266e-02, -3.39500867e-02,  1.22392870e-01,\n",
       "         2.00472146e-01, -2.17560562e-03, -2.20949188e-01,  2.72897154e-01,\n",
       "        -1.08623579e-02,  1.96204364e-01,  3.35872024e-01, -1.97613165e-01,\n",
       "         2.76348889e-01,  1.17945582e-01,  1.88796625e-01,  2.31201984e-02,\n",
       "        -1.41431298e-02,  3.27661216e-01,  2.72685587e-02,  2.58330017e-01,\n",
       "         4.87888791e-02,  2.10950270e-01,  3.46322268e-01,  3.43774706e-01,\n",
       "        -4.27812524e-02,  2.40779400e-01, -6.12564832e-02, -1.78985372e-01,\n",
       "        -8.94419942e-03,  2.07404166e-01,  5.10557322e-03, -1.01498179e-02,\n",
       "         1.30236566e-01,  2.50320852e-01,  2.00364500e-01,  6.64655566e-02,\n",
       "        -1.01419687e-01,  2.57371038e-01, -2.33354792e-01,  3.01758826e-01,\n",
       "         2.40178391e-01,  1.14074878e-01, -1.13115385e-02, -3.27479141e-03,\n",
       "         2.65459508e-01, -1.20592214e-01,  3.37435186e-01, -7.84784369e-03,\n",
       "         2.28633240e-01,  9.78518352e-02,  3.25709015e-01,  2.96632439e-01,\n",
       "         4.44317120e-04,  1.59170657e-01,  4.48305488e-01,  1.08523689e-01,\n",
       "         7.20590055e-02, -9.18169916e-02,  9.71861929e-02, -2.16058847e-02,\n",
       "         5.89288995e-02,  1.77676991e-01, -3.08794882e-02,  2.08451599e-01,\n",
       "         3.34183648e-02,  1.13854900e-01,  1.96839243e-01,  1.40792608e-01,\n",
       "         5.55239134e-02,  1.56214744e-01,  7.90987816e-03,  3.63177717e-01,\n",
       "        -1.56363193e-02,  3.68518591e-01,  9.49568376e-02, -2.08511874e-01,\n",
       "         2.18438044e-01,  6.51510805e-02,  5.28218560e-02, -1.42783836e-01,\n",
       "         1.68985445e-02,  2.90053546e-01,  6.10899851e-02, -1.64991133e-02,\n",
       "         2.13183105e-01,  1.58428669e-01, -6.41118810e-02,  2.65895650e-02,\n",
       "         1.05100922e-01,  1.29719332e-01,  1.71137169e-01,  4.18035805e-01,\n",
       "        -1.75026402e-01, -1.79482233e-02,  1.49668813e-01,  2.35473365e-01,\n",
       "        -2.79365368e-02,  9.41284597e-02, -1.01978900e-02,  1.24944352e-01,\n",
       "         1.08707353e-01, -7.94230867e-03, -3.24166775e-01, -3.66591185e-01,\n",
       "         2.68817842e-01,  2.87170887e-01,  1.16077222e-01, -1.23165967e-02,\n",
       "         1.69344917e-01,  2.15018451e-01, -5.96200190e-02,  1.81544319e-01,\n",
       "        -3.78576550e-03,  2.07346842e-01,  2.60249138e-01, -1.85766026e-01,\n",
       "         1.19951367e-01,  6.72665611e-02,  2.02264652e-01,  1.97026134e-01,\n",
       "         1.78503782e-01,  2.66332686e-01, -2.97352634e-02,  1.04686908e-01,\n",
       "         3.03999603e-01, -1.34745538e-02, -1.50592193e-01, -2.33385824e-02,\n",
       "        -2.67395973e-02,  3.34146231e-01,  4.63848084e-01,  9.08255056e-02,\n",
       "        -1.28224254e-01,  1.70217261e-01, -4.45119590e-02, -2.88670324e-02,\n",
       "        -2.16365922e-02,  3.31768245e-01,  4.08323035e-02,  1.36680275e-01,\n",
       "         8.81125554e-02, -6.27287403e-02,  2.18742967e-01,  1.92244291e-01,\n",
       "         2.81801503e-02,  1.92194059e-01,  5.07624567e-01, -2.77130216e-01,\n",
       "         5.13272882e-02,  2.02881262e-01,  2.07814813e-01,  2.32015803e-01,\n",
       "         8.77994075e-02,  3.72730494e-01, -8.68224353e-03,  8.90769064e-02,\n",
       "         2.78868377e-01, -1.33509599e-02, -1.02290526e-01,  9.12050828e-02,\n",
       "         9.56115499e-02, -1.45345896e-01,  9.74815190e-02,  3.14872265e-01,\n",
       "         4.59881350e-02,  7.03799501e-02,  1.48478866e-01, -2.41981402e-01,\n",
       "         2.21961141e-02, -3.69806541e-03, -9.29736793e-02,  2.39182755e-01,\n",
       "         2.17786700e-01,  1.10879233e-02,  2.37261593e-01,  5.18026769e-01,\n",
       "        -1.78707734e-01, -2.14400850e-02,  1.63810670e-01, -2.38751739e-01,\n",
       "         2.65253652e-02,  3.87158096e-02,  5.02756275e-02, -8.95725042e-02,\n",
       "        -1.45936176e-01, -9.95598454e-03, -4.72079590e-02,  3.96476686e-02,\n",
       "        -2.22098202e-01, -7.88760409e-02, -2.44239885e-02,  8.99515226e-02],\n",
       "       dtype=float32)]"
      ]
     },
     "execution_count": 40,
     "metadata": {
      "tags": []
     },
     "output_type": "execute_result"
    }
   ],
   "source": [
    "pesos_camada_dense = modelo.layers[1].get_weights()\n",
    "pesos_camada_dense"
   ]
  },
  {
   "cell_type": "markdown",
   "metadata": {
    "colab_type": "text",
    "id": "4-RqzS88dgk_"
   },
   "source": [
    "Salvando e carregando o modelo treinado"
   ]
  },
  {
   "cell_type": "code",
   "execution_count": 0,
   "metadata": {
    "colab": {},
    "colab_type": "code",
    "id": "SVjmU41IELzX"
   },
   "outputs": [],
   "source": [
    "modelo.save('modelo.h5')\n",
    "modelo_salvo = load_model('modelo.h5')"
   ]
  },
  {
   "cell_type": "markdown",
   "metadata": {
    "colab_type": "text",
    "id": "SVxHO3opdnMb"
   },
   "source": [
    "Visualizando as acurácias de treino e validação por época"
   ]
  },
  {
   "cell_type": "code",
   "execution_count": 8,
   "metadata": {
    "colab": {
     "base_uri": "https://localhost:8080/",
     "height": 394
    },
    "colab_type": "code",
    "id": "pNc0JsWZY1Ie",
    "outputId": "19182697-90e1-4179-928a-18b420c48d8a"
   },
   "outputs": [
    {
     "data": {
      "text/plain": [
       "<matplotlib.legend.Legend at 0x7f99cbdf73c8>"
      ]
     },
     "execution_count": 8,
     "metadata": {
      "tags": []
     },
     "output_type": "execute_result"
    },
    {
     "data": {
      "image/png": "[encoded data removed]",
      "text/plain": [
       "<matplotlib.figure.Figure at 0x7f99d28a4128>"
      ]
     },
     "metadata": {
      "tags": []
     },
     "output_type": "display_data"
    }
   ],
   "source": [
    "plt.plot(historico.history['acc'])\n",
    "plt.plot(historico.history['val_acc'])\n",
    "plt.title('Acurácia por épocas')\n",
    "plt.xlabel('épocas')\n",
    "plt.ylabel('acurácia')\n",
    "plt.legend(['treino', 'validação'])\n"
   ]
  },
  {
   "cell_type": "markdown",
   "metadata": {
    "colab_type": "text",
    "id": "ZKxkWNawdzZh"
   },
   "source": [
    "Visualizando as perdas de treino e validação por época"
   ]
  },
  {
   "cell_type": "code",
   "execution_count": 9,
   "metadata": {
    "colab": {
     "base_uri": "https://localhost:8080/",
     "height": 393
    },
    "colab_type": "code",
    "id": "2ugG3Vusg_Va",
    "outputId": "dbc526a0-5890-4ece-a0e0-0ab01e18034a"
   },
   "outputs": [
    {
     "data": {
      "text/plain": [
       "<matplotlib.legend.Legend at 0x7f99cbd7bc18>"
      ]
     },
     "execution_count": 9,
     "metadata": {
      "tags": []
     },
     "output_type": "execute_result"
    },
    {
     "data": {
      "image/png": "[encoded data removed]",
      "text/plain": [
       "<matplotlib.figure.Figure at 0x7f99cbdda630>"
      ]
     },
     "metadata": {
      "tags": []
     },
     "output_type": "display_data"
    }
   ],
   "source": [
    "plt.plot(historico.history['loss'])\n",
    "plt.plot(historico.history['val_loss'])\n",
    "plt.title('Perda por épocas')\n",
    "plt.xlabel('épocas')\n",
    "plt.ylabel('perda')\n",
    "plt.legend(['treino', 'validação'])"
   ]
  },
  {
   "cell_type": "markdown",
   "metadata": {
    "colab_type": "text",
    "id": "JFXG1oibd8E8"
   },
   "source": [
    "Testando o modelo e o modelo salvo"
   ]
  },
  {
   "cell_type": "code",
   "execution_count": 10,
   "metadata": {
    "colab": {
     "base_uri": "https://localhost:8080/",
     "height": 85
    },
    "colab_type": "code",
    "id": "I2kLEHPYUdhd",
    "outputId": "c62dd99d-5620-437b-8cda-2553728c86c3"
   },
   "outputs": [
    {
     "name": "stdout",
     "output_type": "stream",
     "text": [
      "resultado teste: 2\n",
      "número da imagem de teste: 2\n",
      "resultado teste modelo salvo: 2\n",
      "número da imagem de teste: 2\n"
     ]
    }
   ],
   "source": [
    "testes = modelo.predict(imagens_teste)\n",
    "print('resultado teste:', np.argmax(testes[1]))\n",
    "print('número da imagem de teste:', identificacoes_teste[1])\n",
    "\n",
    "testes_modelo_salvo = modelo_salvo.predict(imagens_teste)\n",
    "print('resultado teste modelo salvo:', np.argmax(testes_modelo_salvo[1]))\n",
    "print('número da imagem de teste:', identificacoes_teste[1])"
   ]
  },
  {
   "cell_type": "markdown",
   "metadata": {
    "colab_type": "text",
    "id": "U64QMV1GeCUr"
   },
   "source": [
    "Avaliando o modelo"
   ]
  },
  {
   "cell_type": "code",
   "execution_count": 11,
   "metadata": {
    "colab": {
     "base_uri": "https://localhost:8080/",
     "height": 68
    },
    "colab_type": "code",
    "id": "wsbr9WqyXQ2G",
    "outputId": "cbf2e2c1-699b-4688-e770-e7ecbe5c0fd5"
   },
   "outputs": [
    {
     "name": "stdout",
     "output_type": "stream",
     "text": [
      "10000/10000 [==============================] - 0s 40us/step\n",
      "Perda do teste: 2.2868376407623274\n",
      "Acurácia do teste: 0.8565\n"
     ]
    }
   ],
   "source": [
    "perda_teste, acuracia_teste = modelo.evaluate(imagens_teste, identificacoes_teste)\n",
    "print('Perda do teste:', perda_teste)\n",
    "print('Acurácia do teste:', acuracia_teste)"
   ]
  }
 ],
 "metadata": {
  "colab": {
   "collapsed_sections": [],
   "name": "Segundo_projeto_aula1.ipynb",
   "provenance": [],
   "version": "0.3.2"
  },
  "kernelspec": {
   "display_name": "Python 3",
   "language": "python",
   "name": "python3"
  },
  "language_info": {
   "codemirror_mode": {
    "name": "ipython",
    "version": 3
   },
   "file_extension": ".py",
   "mimetype": "text/x-python",
   "name": "python",
   "nbconvert_exporter": "python",
   "pygments_lexer": "ipython3",
   "version": "3.7.1"
  }
 },
 "nbformat": 4,
 "nbformat_minor": 1
}
